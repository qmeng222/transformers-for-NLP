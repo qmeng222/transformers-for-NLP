{
  "nbformat": 4,
  "nbformat_minor": 0,
  "metadata": {
    "colab": {
      "provenance": [],
      "authorship_tag": "ABX9TyPI29Pwfc7Jl/fi04rO+aus",
      "include_colab_link": true
    },
    "kernelspec": {
      "name": "python3",
      "display_name": "Python 3"
    },
    "language_info": {
      "name": "python"
    },
    "widgets": {
      "application/vnd.jupyter.widget-state+json": {
        "dddae29a3a8749f9872c5b8c7249c2cf": {
          "model_module": "@jupyter-widgets/controls",
          "model_name": "HBoxModel",
          "model_module_version": "1.5.0",
          "state": {
            "_dom_classes": [],
            "_model_module": "@jupyter-widgets/controls",
            "_model_module_version": "1.5.0",
            "_model_name": "HBoxModel",
            "_view_count": null,
            "_view_module": "@jupyter-widgets/controls",
            "_view_module_version": "1.5.0",
            "_view_name": "HBoxView",
            "box_style": "",
            "children": [
              "IPY_MODEL_a94c370a7e634e9e9839d1568dffed96",
              "IPY_MODEL_af543e2484204a9fbbfecda279913309",
              "IPY_MODEL_46e3857283384227bc7c552c908e8c70"
            ],
            "layout": "IPY_MODEL_48f1ee81ef2b45bb99f129fcfe1a7613"
          }
        },
        "a94c370a7e634e9e9839d1568dffed96": {
          "model_module": "@jupyter-widgets/controls",
          "model_name": "HTMLModel",
          "model_module_version": "1.5.0",
          "state": {
            "_dom_classes": [],
            "_model_module": "@jupyter-widgets/controls",
            "_model_module_version": "1.5.0",
            "_model_name": "HTMLModel",
            "_view_count": null,
            "_view_module": "@jupyter-widgets/controls",
            "_view_module_version": "1.5.0",
            "_view_name": "HTMLView",
            "description": "",
            "description_tooltip": null,
            "layout": "IPY_MODEL_1f703252493e425fb993729b4cbf7a58",
            "placeholder": "​",
            "style": "IPY_MODEL_b258a69928ad4da9b5002681d9b64f7b",
            "value": "Downloading builder script: 100%"
          }
        },
        "af543e2484204a9fbbfecda279913309": {
          "model_module": "@jupyter-widgets/controls",
          "model_name": "FloatProgressModel",
          "model_module_version": "1.5.0",
          "state": {
            "_dom_classes": [],
            "_model_module": "@jupyter-widgets/controls",
            "_model_module_version": "1.5.0",
            "_model_name": "FloatProgressModel",
            "_view_count": null,
            "_view_module": "@jupyter-widgets/controls",
            "_view_module_version": "1.5.0",
            "_view_name": "ProgressView",
            "bar_style": "success",
            "description": "",
            "description_tooltip": null,
            "layout": "IPY_MODEL_0d251d3b8be3447daf0366168c36a236",
            "max": 4245,
            "min": 0,
            "orientation": "horizontal",
            "style": "IPY_MODEL_4f22a17464cf45dcb77f7c7900315a57",
            "value": 4245
          }
        },
        "46e3857283384227bc7c552c908e8c70": {
          "model_module": "@jupyter-widgets/controls",
          "model_name": "HTMLModel",
          "model_module_version": "1.5.0",
          "state": {
            "_dom_classes": [],
            "_model_module": "@jupyter-widgets/controls",
            "_model_module_version": "1.5.0",
            "_model_name": "HTMLModel",
            "_view_count": null,
            "_view_module": "@jupyter-widgets/controls",
            "_view_module_version": "1.5.0",
            "_view_name": "HTMLView",
            "description": "",
            "description_tooltip": null,
            "layout": "IPY_MODEL_fcce8649ec444a948bbe8935b36a3121",
            "placeholder": "​",
            "style": "IPY_MODEL_33b1f30b5a5c4959b3398dc4225e6fe4",
            "value": " 4.25k/4.25k [00:00&lt;00:00, 67.3kB/s]"
          }
        },
        "48f1ee81ef2b45bb99f129fcfe1a7613": {
          "model_module": "@jupyter-widgets/base",
          "model_name": "LayoutModel",
          "model_module_version": "1.2.0",
          "state": {
            "_model_module": "@jupyter-widgets/base",
            "_model_module_version": "1.2.0",
            "_model_name": "LayoutModel",
            "_view_count": null,
            "_view_module": "@jupyter-widgets/base",
            "_view_module_version": "1.2.0",
            "_view_name": "LayoutView",
            "align_content": null,
            "align_items": null,
            "align_self": null,
            "border": null,
            "bottom": null,
            "display": null,
            "flex": null,
            "flex_flow": null,
            "grid_area": null,
            "grid_auto_columns": null,
            "grid_auto_flow": null,
            "grid_auto_rows": null,
            "grid_column": null,
            "grid_gap": null,
            "grid_row": null,
            "grid_template_areas": null,
            "grid_template_columns": null,
            "grid_template_rows": null,
            "height": null,
            "justify_content": null,
            "justify_items": null,
            "left": null,
            "margin": null,
            "max_height": null,
            "max_width": null,
            "min_height": null,
            "min_width": null,
            "object_fit": null,
            "object_position": null,
            "order": null,
            "overflow": null,
            "overflow_x": null,
            "overflow_y": null,
            "padding": null,
            "right": null,
            "top": null,
            "visibility": null,
            "width": null
          }
        },
        "1f703252493e425fb993729b4cbf7a58": {
          "model_module": "@jupyter-widgets/base",
          "model_name": "LayoutModel",
          "model_module_version": "1.2.0",
          "state": {
            "_model_module": "@jupyter-widgets/base",
            "_model_module_version": "1.2.0",
            "_model_name": "LayoutModel",
            "_view_count": null,
            "_view_module": "@jupyter-widgets/base",
            "_view_module_version": "1.2.0",
            "_view_name": "LayoutView",
            "align_content": null,
            "align_items": null,
            "align_self": null,
            "border": null,
            "bottom": null,
            "display": null,
            "flex": null,
            "flex_flow": null,
            "grid_area": null,
            "grid_auto_columns": null,
            "grid_auto_flow": null,
            "grid_auto_rows": null,
            "grid_column": null,
            "grid_gap": null,
            "grid_row": null,
            "grid_template_areas": null,
            "grid_template_columns": null,
            "grid_template_rows": null,
            "height": null,
            "justify_content": null,
            "justify_items": null,
            "left": null,
            "margin": null,
            "max_height": null,
            "max_width": null,
            "min_height": null,
            "min_width": null,
            "object_fit": null,
            "object_position": null,
            "order": null,
            "overflow": null,
            "overflow_x": null,
            "overflow_y": null,
            "padding": null,
            "right": null,
            "top": null,
            "visibility": null,
            "width": null
          }
        },
        "b258a69928ad4da9b5002681d9b64f7b": {
          "model_module": "@jupyter-widgets/controls",
          "model_name": "DescriptionStyleModel",
          "model_module_version": "1.5.0",
          "state": {
            "_model_module": "@jupyter-widgets/controls",
            "_model_module_version": "1.5.0",
            "_model_name": "DescriptionStyleModel",
            "_view_count": null,
            "_view_module": "@jupyter-widgets/base",
            "_view_module_version": "1.2.0",
            "_view_name": "StyleView",
            "description_width": ""
          }
        },
        "0d251d3b8be3447daf0366168c36a236": {
          "model_module": "@jupyter-widgets/base",
          "model_name": "LayoutModel",
          "model_module_version": "1.2.0",
          "state": {
            "_model_module": "@jupyter-widgets/base",
            "_model_module_version": "1.2.0",
            "_model_name": "LayoutModel",
            "_view_count": null,
            "_view_module": "@jupyter-widgets/base",
            "_view_module_version": "1.2.0",
            "_view_name": "LayoutView",
            "align_content": null,
            "align_items": null,
            "align_self": null,
            "border": null,
            "bottom": null,
            "display": null,
            "flex": null,
            "flex_flow": null,
            "grid_area": null,
            "grid_auto_columns": null,
            "grid_auto_flow": null,
            "grid_auto_rows": null,
            "grid_column": null,
            "grid_gap": null,
            "grid_row": null,
            "grid_template_areas": null,
            "grid_template_columns": null,
            "grid_template_rows": null,
            "height": null,
            "justify_content": null,
            "justify_items": null,
            "left": null,
            "margin": null,
            "max_height": null,
            "max_width": null,
            "min_height": null,
            "min_width": null,
            "object_fit": null,
            "object_position": null,
            "order": null,
            "overflow": null,
            "overflow_x": null,
            "overflow_y": null,
            "padding": null,
            "right": null,
            "top": null,
            "visibility": null,
            "width": null
          }
        },
        "4f22a17464cf45dcb77f7c7900315a57": {
          "model_module": "@jupyter-widgets/controls",
          "model_name": "ProgressStyleModel",
          "model_module_version": "1.5.0",
          "state": {
            "_model_module": "@jupyter-widgets/controls",
            "_model_module_version": "1.5.0",
            "_model_name": "ProgressStyleModel",
            "_view_count": null,
            "_view_module": "@jupyter-widgets/base",
            "_view_module_version": "1.2.0",
            "_view_name": "StyleView",
            "bar_color": null,
            "description_width": ""
          }
        },
        "fcce8649ec444a948bbe8935b36a3121": {
          "model_module": "@jupyter-widgets/base",
          "model_name": "LayoutModel",
          "model_module_version": "1.2.0",
          "state": {
            "_model_module": "@jupyter-widgets/base",
            "_model_module_version": "1.2.0",
            "_model_name": "LayoutModel",
            "_view_count": null,
            "_view_module": "@jupyter-widgets/base",
            "_view_module_version": "1.2.0",
            "_view_name": "LayoutView",
            "align_content": null,
            "align_items": null,
            "align_self": null,
            "border": null,
            "bottom": null,
            "display": null,
            "flex": null,
            "flex_flow": null,
            "grid_area": null,
            "grid_auto_columns": null,
            "grid_auto_flow": null,
            "grid_auto_rows": null,
            "grid_column": null,
            "grid_gap": null,
            "grid_row": null,
            "grid_template_areas": null,
            "grid_template_columns": null,
            "grid_template_rows": null,
            "height": null,
            "justify_content": null,
            "justify_items": null,
            "left": null,
            "margin": null,
            "max_height": null,
            "max_width": null,
            "min_height": null,
            "min_width": null,
            "object_fit": null,
            "object_position": null,
            "order": null,
            "overflow": null,
            "overflow_x": null,
            "overflow_y": null,
            "padding": null,
            "right": null,
            "top": null,
            "visibility": null,
            "width": null
          }
        },
        "33b1f30b5a5c4959b3398dc4225e6fe4": {
          "model_module": "@jupyter-widgets/controls",
          "model_name": "DescriptionStyleModel",
          "model_module_version": "1.5.0",
          "state": {
            "_model_module": "@jupyter-widgets/controls",
            "_model_module_version": "1.5.0",
            "_model_name": "DescriptionStyleModel",
            "_view_count": null,
            "_view_module": "@jupyter-widgets/base",
            "_view_module_version": "1.2.0",
            "_view_name": "StyleView",
            "description_width": ""
          }
        },
        "5ebe079eb0a0440697c090a6558c486d": {
          "model_module": "@jupyter-widgets/controls",
          "model_name": "HBoxModel",
          "model_module_version": "1.5.0",
          "state": {
            "_dom_classes": [],
            "_model_module": "@jupyter-widgets/controls",
            "_model_module_version": "1.5.0",
            "_model_name": "HBoxModel",
            "_view_count": null,
            "_view_module": "@jupyter-widgets/controls",
            "_view_module_version": "1.5.0",
            "_view_name": "HBoxView",
            "box_style": "",
            "children": [
              "IPY_MODEL_231c7bbbccb74c24b77c1c43ec214c9e",
              "IPY_MODEL_6f750856327245f78af722766bf7cfd9",
              "IPY_MODEL_96089c851df94331a52f80b29c7167fb"
            ],
            "layout": "IPY_MODEL_0d6a105a5ba34352b85a8027eca4c94f"
          }
        },
        "231c7bbbccb74c24b77c1c43ec214c9e": {
          "model_module": "@jupyter-widgets/controls",
          "model_name": "HTMLModel",
          "model_module_version": "1.5.0",
          "state": {
            "_dom_classes": [],
            "_model_module": "@jupyter-widgets/controls",
            "_model_module_version": "1.5.0",
            "_model_name": "HTMLModel",
            "_view_count": null,
            "_view_module": "@jupyter-widgets/controls",
            "_view_module_version": "1.5.0",
            "_view_name": "HTMLView",
            "description": "",
            "description_tooltip": null,
            "layout": "IPY_MODEL_8f10098aa8d54e5a85e6d11c782aec13",
            "placeholder": "​",
            "style": "IPY_MODEL_a84e4f0a1f0349ecafa282f2045751ec",
            "value": "Downloading metadata: 100%"
          }
        },
        "6f750856327245f78af722766bf7cfd9": {
          "model_module": "@jupyter-widgets/controls",
          "model_name": "FloatProgressModel",
          "model_module_version": "1.5.0",
          "state": {
            "_dom_classes": [],
            "_model_module": "@jupyter-widgets/controls",
            "_model_module_version": "1.5.0",
            "_model_name": "FloatProgressModel",
            "_view_count": null,
            "_view_module": "@jupyter-widgets/controls",
            "_view_module_version": "1.5.0",
            "_view_name": "ProgressView",
            "bar_style": "success",
            "description": "",
            "description_tooltip": null,
            "layout": "IPY_MODEL_aec9b36855594d0b9987cf8351b4c64d",
            "max": 8446,
            "min": 0,
            "orientation": "horizontal",
            "style": "IPY_MODEL_749d24cbe49e416a8b69c686c42cc9cf",
            "value": 8446
          }
        },
        "96089c851df94331a52f80b29c7167fb": {
          "model_module": "@jupyter-widgets/controls",
          "model_name": "HTMLModel",
          "model_module_version": "1.5.0",
          "state": {
            "_dom_classes": [],
            "_model_module": "@jupyter-widgets/controls",
            "_model_module_version": "1.5.0",
            "_model_name": "HTMLModel",
            "_view_count": null,
            "_view_module": "@jupyter-widgets/controls",
            "_view_module_version": "1.5.0",
            "_view_name": "HTMLView",
            "description": "",
            "description_tooltip": null,
            "layout": "IPY_MODEL_fd7f7efc501744a18e1d43b92a7f4c6b",
            "placeholder": "​",
            "style": "IPY_MODEL_f41e46ea86154adfa8a216787a52da49",
            "value": " 8.45k/8.45k [00:00&lt;00:00, 218kB/s]"
          }
        },
        "0d6a105a5ba34352b85a8027eca4c94f": {
          "model_module": "@jupyter-widgets/base",
          "model_name": "LayoutModel",
          "model_module_version": "1.2.0",
          "state": {
            "_model_module": "@jupyter-widgets/base",
            "_model_module_version": "1.2.0",
            "_model_name": "LayoutModel",
            "_view_count": null,
            "_view_module": "@jupyter-widgets/base",
            "_view_module_version": "1.2.0",
            "_view_name": "LayoutView",
            "align_content": null,
            "align_items": null,
            "align_self": null,
            "border": null,
            "bottom": null,
            "display": null,
            "flex": null,
            "flex_flow": null,
            "grid_area": null,
            "grid_auto_columns": null,
            "grid_auto_flow": null,
            "grid_auto_rows": null,
            "grid_column": null,
            "grid_gap": null,
            "grid_row": null,
            "grid_template_areas": null,
            "grid_template_columns": null,
            "grid_template_rows": null,
            "height": null,
            "justify_content": null,
            "justify_items": null,
            "left": null,
            "margin": null,
            "max_height": null,
            "max_width": null,
            "min_height": null,
            "min_width": null,
            "object_fit": null,
            "object_position": null,
            "order": null,
            "overflow": null,
            "overflow_x": null,
            "overflow_y": null,
            "padding": null,
            "right": null,
            "top": null,
            "visibility": null,
            "width": null
          }
        },
        "8f10098aa8d54e5a85e6d11c782aec13": {
          "model_module": "@jupyter-widgets/base",
          "model_name": "LayoutModel",
          "model_module_version": "1.2.0",
          "state": {
            "_model_module": "@jupyter-widgets/base",
            "_model_module_version": "1.2.0",
            "_model_name": "LayoutModel",
            "_view_count": null,
            "_view_module": "@jupyter-widgets/base",
            "_view_module_version": "1.2.0",
            "_view_name": "LayoutView",
            "align_content": null,
            "align_items": null,
            "align_self": null,
            "border": null,
            "bottom": null,
            "display": null,
            "flex": null,
            "flex_flow": null,
            "grid_area": null,
            "grid_auto_columns": null,
            "grid_auto_flow": null,
            "grid_auto_rows": null,
            "grid_column": null,
            "grid_gap": null,
            "grid_row": null,
            "grid_template_areas": null,
            "grid_template_columns": null,
            "grid_template_rows": null,
            "height": null,
            "justify_content": null,
            "justify_items": null,
            "left": null,
            "margin": null,
            "max_height": null,
            "max_width": null,
            "min_height": null,
            "min_width": null,
            "object_fit": null,
            "object_position": null,
            "order": null,
            "overflow": null,
            "overflow_x": null,
            "overflow_y": null,
            "padding": null,
            "right": null,
            "top": null,
            "visibility": null,
            "width": null
          }
        },
        "a84e4f0a1f0349ecafa282f2045751ec": {
          "model_module": "@jupyter-widgets/controls",
          "model_name": "DescriptionStyleModel",
          "model_module_version": "1.5.0",
          "state": {
            "_model_module": "@jupyter-widgets/controls",
            "_model_module_version": "1.5.0",
            "_model_name": "DescriptionStyleModel",
            "_view_count": null,
            "_view_module": "@jupyter-widgets/base",
            "_view_module_version": "1.2.0",
            "_view_name": "StyleView",
            "description_width": ""
          }
        },
        "aec9b36855594d0b9987cf8351b4c64d": {
          "model_module": "@jupyter-widgets/base",
          "model_name": "LayoutModel",
          "model_module_version": "1.2.0",
          "state": {
            "_model_module": "@jupyter-widgets/base",
            "_model_module_version": "1.2.0",
            "_model_name": "LayoutModel",
            "_view_count": null,
            "_view_module": "@jupyter-widgets/base",
            "_view_module_version": "1.2.0",
            "_view_name": "LayoutView",
            "align_content": null,
            "align_items": null,
            "align_self": null,
            "border": null,
            "bottom": null,
            "display": null,
            "flex": null,
            "flex_flow": null,
            "grid_area": null,
            "grid_auto_columns": null,
            "grid_auto_flow": null,
            "grid_auto_rows": null,
            "grid_column": null,
            "grid_gap": null,
            "grid_row": null,
            "grid_template_areas": null,
            "grid_template_columns": null,
            "grid_template_rows": null,
            "height": null,
            "justify_content": null,
            "justify_items": null,
            "left": null,
            "margin": null,
            "max_height": null,
            "max_width": null,
            "min_height": null,
            "min_width": null,
            "object_fit": null,
            "object_position": null,
            "order": null,
            "overflow": null,
            "overflow_x": null,
            "overflow_y": null,
            "padding": null,
            "right": null,
            "top": null,
            "visibility": null,
            "width": null
          }
        },
        "749d24cbe49e416a8b69c686c42cc9cf": {
          "model_module": "@jupyter-widgets/controls",
          "model_name": "ProgressStyleModel",
          "model_module_version": "1.5.0",
          "state": {
            "_model_module": "@jupyter-widgets/controls",
            "_model_module_version": "1.5.0",
            "_model_name": "ProgressStyleModel",
            "_view_count": null,
            "_view_module": "@jupyter-widgets/base",
            "_view_module_version": "1.2.0",
            "_view_name": "StyleView",
            "bar_color": null,
            "description_width": ""
          }
        },
        "fd7f7efc501744a18e1d43b92a7f4c6b": {
          "model_module": "@jupyter-widgets/base",
          "model_name": "LayoutModel",
          "model_module_version": "1.2.0",
          "state": {
            "_model_module": "@jupyter-widgets/base",
            "_model_module_version": "1.2.0",
            "_model_name": "LayoutModel",
            "_view_count": null,
            "_view_module": "@jupyter-widgets/base",
            "_view_module_version": "1.2.0",
            "_view_name": "LayoutView",
            "align_content": null,
            "align_items": null,
            "align_self": null,
            "border": null,
            "bottom": null,
            "display": null,
            "flex": null,
            "flex_flow": null,
            "grid_area": null,
            "grid_auto_columns": null,
            "grid_auto_flow": null,
            "grid_auto_rows": null,
            "grid_column": null,
            "grid_gap": null,
            "grid_row": null,
            "grid_template_areas": null,
            "grid_template_columns": null,
            "grid_template_rows": null,
            "height": null,
            "justify_content": null,
            "justify_items": null,
            "left": null,
            "margin": null,
            "max_height": null,
            "max_width": null,
            "min_height": null,
            "min_width": null,
            "object_fit": null,
            "object_position": null,
            "order": null,
            "overflow": null,
            "overflow_x": null,
            "overflow_y": null,
            "padding": null,
            "right": null,
            "top": null,
            "visibility": null,
            "width": null
          }
        },
        "f41e46ea86154adfa8a216787a52da49": {
          "model_module": "@jupyter-widgets/controls",
          "model_name": "DescriptionStyleModel",
          "model_module_version": "1.5.0",
          "state": {
            "_model_module": "@jupyter-widgets/controls",
            "_model_module_version": "1.5.0",
            "_model_name": "DescriptionStyleModel",
            "_view_count": null,
            "_view_module": "@jupyter-widgets/base",
            "_view_module_version": "1.2.0",
            "_view_name": "StyleView",
            "description_width": ""
          }
        },
        "1f3815c7b5a34f1b8fa0d5ad2436b9a6": {
          "model_module": "@jupyter-widgets/controls",
          "model_name": "HBoxModel",
          "model_module_version": "1.5.0",
          "state": {
            "_dom_classes": [],
            "_model_module": "@jupyter-widgets/controls",
            "_model_module_version": "1.5.0",
            "_model_name": "HBoxModel",
            "_view_count": null,
            "_view_module": "@jupyter-widgets/controls",
            "_view_module_version": "1.5.0",
            "_view_name": "HBoxView",
            "box_style": "",
            "children": [
              "IPY_MODEL_bc98e0cfa66e463e90209a44bf2ce9e7",
              "IPY_MODEL_6403efe00de94efd95b5f95d578eff14",
              "IPY_MODEL_2eab94dd311e4617b171afed921ed778"
            ],
            "layout": "IPY_MODEL_924483edf25146ecaaa26561a07598bc"
          }
        },
        "bc98e0cfa66e463e90209a44bf2ce9e7": {
          "model_module": "@jupyter-widgets/controls",
          "model_name": "HTMLModel",
          "model_module_version": "1.5.0",
          "state": {
            "_dom_classes": [],
            "_model_module": "@jupyter-widgets/controls",
            "_model_module_version": "1.5.0",
            "_model_name": "HTMLModel",
            "_view_count": null,
            "_view_module": "@jupyter-widgets/controls",
            "_view_module_version": "1.5.0",
            "_view_name": "HTMLView",
            "description": "",
            "description_tooltip": null,
            "layout": "IPY_MODEL_270a1fdc86a44f3c839a467592d01844",
            "placeholder": "​",
            "style": "IPY_MODEL_2264145e4fc34053a3bfedfcd48d682a",
            "value": "Downloading readme: 100%"
          }
        },
        "6403efe00de94efd95b5f95d578eff14": {
          "model_module": "@jupyter-widgets/controls",
          "model_name": "FloatProgressModel",
          "model_module_version": "1.5.0",
          "state": {
            "_dom_classes": [],
            "_model_module": "@jupyter-widgets/controls",
            "_model_module_version": "1.5.0",
            "_model_name": "FloatProgressModel",
            "_view_count": null,
            "_view_module": "@jupyter-widgets/controls",
            "_view_module_version": "1.5.0",
            "_view_name": "ProgressView",
            "bar_style": "success",
            "description": "",
            "description_tooltip": null,
            "layout": "IPY_MODEL_f90e2744f59c49118980334215b9ac29",
            "max": 5103,
            "min": 0,
            "orientation": "horizontal",
            "style": "IPY_MODEL_7d2fe4709a11424f9bf0925a54f34e70",
            "value": 5103
          }
        },
        "2eab94dd311e4617b171afed921ed778": {
          "model_module": "@jupyter-widgets/controls",
          "model_name": "HTMLModel",
          "model_module_version": "1.5.0",
          "state": {
            "_dom_classes": [],
            "_model_module": "@jupyter-widgets/controls",
            "_model_module_version": "1.5.0",
            "_model_name": "HTMLModel",
            "_view_count": null,
            "_view_module": "@jupyter-widgets/controls",
            "_view_module_version": "1.5.0",
            "_view_name": "HTMLView",
            "description": "",
            "description_tooltip": null,
            "layout": "IPY_MODEL_497a23f191b446db80b155e072cb1d02",
            "placeholder": "​",
            "style": "IPY_MODEL_03efc2d5a2434664a39482266842ad67",
            "value": " 5.10k/5.10k [00:00&lt;00:00, 100kB/s]"
          }
        },
        "924483edf25146ecaaa26561a07598bc": {
          "model_module": "@jupyter-widgets/base",
          "model_name": "LayoutModel",
          "model_module_version": "1.2.0",
          "state": {
            "_model_module": "@jupyter-widgets/base",
            "_model_module_version": "1.2.0",
            "_model_name": "LayoutModel",
            "_view_count": null,
            "_view_module": "@jupyter-widgets/base",
            "_view_module_version": "1.2.0",
            "_view_name": "LayoutView",
            "align_content": null,
            "align_items": null,
            "align_self": null,
            "border": null,
            "bottom": null,
            "display": null,
            "flex": null,
            "flex_flow": null,
            "grid_area": null,
            "grid_auto_columns": null,
            "grid_auto_flow": null,
            "grid_auto_rows": null,
            "grid_column": null,
            "grid_gap": null,
            "grid_row": null,
            "grid_template_areas": null,
            "grid_template_columns": null,
            "grid_template_rows": null,
            "height": null,
            "justify_content": null,
            "justify_items": null,
            "left": null,
            "margin": null,
            "max_height": null,
            "max_width": null,
            "min_height": null,
            "min_width": null,
            "object_fit": null,
            "object_position": null,
            "order": null,
            "overflow": null,
            "overflow_x": null,
            "overflow_y": null,
            "padding": null,
            "right": null,
            "top": null,
            "visibility": null,
            "width": null
          }
        },
        "270a1fdc86a44f3c839a467592d01844": {
          "model_module": "@jupyter-widgets/base",
          "model_name": "LayoutModel",
          "model_module_version": "1.2.0",
          "state": {
            "_model_module": "@jupyter-widgets/base",
            "_model_module_version": "1.2.0",
            "_model_name": "LayoutModel",
            "_view_count": null,
            "_view_module": "@jupyter-widgets/base",
            "_view_module_version": "1.2.0",
            "_view_name": "LayoutView",
            "align_content": null,
            "align_items": null,
            "align_self": null,
            "border": null,
            "bottom": null,
            "display": null,
            "flex": null,
            "flex_flow": null,
            "grid_area": null,
            "grid_auto_columns": null,
            "grid_auto_flow": null,
            "grid_auto_rows": null,
            "grid_column": null,
            "grid_gap": null,
            "grid_row": null,
            "grid_template_areas": null,
            "grid_template_columns": null,
            "grid_template_rows": null,
            "height": null,
            "justify_content": null,
            "justify_items": null,
            "left": null,
            "margin": null,
            "max_height": null,
            "max_width": null,
            "min_height": null,
            "min_width": null,
            "object_fit": null,
            "object_position": null,
            "order": null,
            "overflow": null,
            "overflow_x": null,
            "overflow_y": null,
            "padding": null,
            "right": null,
            "top": null,
            "visibility": null,
            "width": null
          }
        },
        "2264145e4fc34053a3bfedfcd48d682a": {
          "model_module": "@jupyter-widgets/controls",
          "model_name": "DescriptionStyleModel",
          "model_module_version": "1.5.0",
          "state": {
            "_model_module": "@jupyter-widgets/controls",
            "_model_module_version": "1.5.0",
            "_model_name": "DescriptionStyleModel",
            "_view_count": null,
            "_view_module": "@jupyter-widgets/base",
            "_view_module_version": "1.2.0",
            "_view_name": "StyleView",
            "description_width": ""
          }
        },
        "f90e2744f59c49118980334215b9ac29": {
          "model_module": "@jupyter-widgets/base",
          "model_name": "LayoutModel",
          "model_module_version": "1.2.0",
          "state": {
            "_model_module": "@jupyter-widgets/base",
            "_model_module_version": "1.2.0",
            "_model_name": "LayoutModel",
            "_view_count": null,
            "_view_module": "@jupyter-widgets/base",
            "_view_module_version": "1.2.0",
            "_view_name": "LayoutView",
            "align_content": null,
            "align_items": null,
            "align_self": null,
            "border": null,
            "bottom": null,
            "display": null,
            "flex": null,
            "flex_flow": null,
            "grid_area": null,
            "grid_auto_columns": null,
            "grid_auto_flow": null,
            "grid_auto_rows": null,
            "grid_column": null,
            "grid_gap": null,
            "grid_row": null,
            "grid_template_areas": null,
            "grid_template_columns": null,
            "grid_template_rows": null,
            "height": null,
            "justify_content": null,
            "justify_items": null,
            "left": null,
            "margin": null,
            "max_height": null,
            "max_width": null,
            "min_height": null,
            "min_width": null,
            "object_fit": null,
            "object_position": null,
            "order": null,
            "overflow": null,
            "overflow_x": null,
            "overflow_y": null,
            "padding": null,
            "right": null,
            "top": null,
            "visibility": null,
            "width": null
          }
        },
        "7d2fe4709a11424f9bf0925a54f34e70": {
          "model_module": "@jupyter-widgets/controls",
          "model_name": "ProgressStyleModel",
          "model_module_version": "1.5.0",
          "state": {
            "_model_module": "@jupyter-widgets/controls",
            "_model_module_version": "1.5.0",
            "_model_name": "ProgressStyleModel",
            "_view_count": null,
            "_view_module": "@jupyter-widgets/base",
            "_view_module_version": "1.2.0",
            "_view_name": "StyleView",
            "bar_color": null,
            "description_width": ""
          }
        },
        "497a23f191b446db80b155e072cb1d02": {
          "model_module": "@jupyter-widgets/base",
          "model_name": "LayoutModel",
          "model_module_version": "1.2.0",
          "state": {
            "_model_module": "@jupyter-widgets/base",
            "_model_module_version": "1.2.0",
            "_model_name": "LayoutModel",
            "_view_count": null,
            "_view_module": "@jupyter-widgets/base",
            "_view_module_version": "1.2.0",
            "_view_name": "LayoutView",
            "align_content": null,
            "align_items": null,
            "align_self": null,
            "border": null,
            "bottom": null,
            "display": null,
            "flex": null,
            "flex_flow": null,
            "grid_area": null,
            "grid_auto_columns": null,
            "grid_auto_flow": null,
            "grid_auto_rows": null,
            "grid_column": null,
            "grid_gap": null,
            "grid_row": null,
            "grid_template_areas": null,
            "grid_template_columns": null,
            "grid_template_rows": null,
            "height": null,
            "justify_content": null,
            "justify_items": null,
            "left": null,
            "margin": null,
            "max_height": null,
            "max_width": null,
            "min_height": null,
            "min_width": null,
            "object_fit": null,
            "object_position": null,
            "order": null,
            "overflow": null,
            "overflow_x": null,
            "overflow_y": null,
            "padding": null,
            "right": null,
            "top": null,
            "visibility": null,
            "width": null
          }
        },
        "03efc2d5a2434664a39482266842ad67": {
          "model_module": "@jupyter-widgets/controls",
          "model_name": "DescriptionStyleModel",
          "model_module_version": "1.5.0",
          "state": {
            "_model_module": "@jupyter-widgets/controls",
            "_model_module_version": "1.5.0",
            "_model_name": "DescriptionStyleModel",
            "_view_count": null,
            "_view_module": "@jupyter-widgets/base",
            "_view_module_version": "1.2.0",
            "_view_name": "StyleView",
            "description_width": ""
          }
        },
        "a8941d7f504a4ac8aba0442c523ae44d": {
          "model_module": "@jupyter-widgets/controls",
          "model_name": "HBoxModel",
          "model_module_version": "1.5.0",
          "state": {
            "_dom_classes": [],
            "_model_module": "@jupyter-widgets/controls",
            "_model_module_version": "1.5.0",
            "_model_name": "HBoxModel",
            "_view_count": null,
            "_view_module": "@jupyter-widgets/controls",
            "_view_module_version": "1.5.0",
            "_view_name": "HBoxView",
            "box_style": "",
            "children": [
              "IPY_MODEL_8e6a03c5b41e4632b6f8fab51dea7994",
              "IPY_MODEL_92b2a72d422b4ee58af1ed71e97da584",
              "IPY_MODEL_b90e678545f84040a8575c31f65d830d"
            ],
            "layout": "IPY_MODEL_e88c9a77b8014cd29667ef0e81d25113"
          }
        },
        "8e6a03c5b41e4632b6f8fab51dea7994": {
          "model_module": "@jupyter-widgets/controls",
          "model_name": "HTMLModel",
          "model_module_version": "1.5.0",
          "state": {
            "_dom_classes": [],
            "_model_module": "@jupyter-widgets/controls",
            "_model_module_version": "1.5.0",
            "_model_name": "HTMLModel",
            "_view_count": null,
            "_view_module": "@jupyter-widgets/controls",
            "_view_module_version": "1.5.0",
            "_view_name": "HTMLView",
            "description": "",
            "description_tooltip": null,
            "layout": "IPY_MODEL_7cb499ca69b840729c453f48076131bd",
            "placeholder": "​",
            "style": "IPY_MODEL_13d71be4d91543219922b81364b5a6d1",
            "value": "Downloading data: 100%"
          }
        },
        "92b2a72d422b4ee58af1ed71e97da584": {
          "model_module": "@jupyter-widgets/controls",
          "model_name": "FloatProgressModel",
          "model_module_version": "1.5.0",
          "state": {
            "_dom_classes": [],
            "_model_module": "@jupyter-widgets/controls",
            "_model_module_version": "1.5.0",
            "_model_name": "FloatProgressModel",
            "_view_count": null,
            "_view_module": "@jupyter-widgets/controls",
            "_view_module_version": "1.5.0",
            "_view_name": "ProgressView",
            "bar_style": "success",
            "description": "",
            "description_tooltip": null,
            "layout": "IPY_MODEL_0a171b09866446eeba2e70c440acbcc8",
            "max": 7049364,
            "min": 0,
            "orientation": "horizontal",
            "style": "IPY_MODEL_e2efa12fc2ac4a4793b82675225a32c6",
            "value": 7049364
          }
        },
        "b90e678545f84040a8575c31f65d830d": {
          "model_module": "@jupyter-widgets/controls",
          "model_name": "HTMLModel",
          "model_module_version": "1.5.0",
          "state": {
            "_dom_classes": [],
            "_model_module": "@jupyter-widgets/controls",
            "_model_module_version": "1.5.0",
            "_model_name": "HTMLModel",
            "_view_count": null,
            "_view_module": "@jupyter-widgets/controls",
            "_view_module_version": "1.5.0",
            "_view_name": "HTMLView",
            "description": "",
            "description_tooltip": null,
            "layout": "IPY_MODEL_4ed445ff9ba3456ba298efc4a0ca2d20",
            "placeholder": "​",
            "style": "IPY_MODEL_00aa1662f6ba4b2581a8efac87e4b815",
            "value": " 7.05M/7.05M [00:01&lt;00:00, 9.78MB/s]"
          }
        },
        "e88c9a77b8014cd29667ef0e81d25113": {
          "model_module": "@jupyter-widgets/base",
          "model_name": "LayoutModel",
          "model_module_version": "1.2.0",
          "state": {
            "_model_module": "@jupyter-widgets/base",
            "_model_module_version": "1.2.0",
            "_model_name": "LayoutModel",
            "_view_count": null,
            "_view_module": "@jupyter-widgets/base",
            "_view_module_version": "1.2.0",
            "_view_name": "LayoutView",
            "align_content": null,
            "align_items": null,
            "align_self": null,
            "border": null,
            "bottom": null,
            "display": null,
            "flex": null,
            "flex_flow": null,
            "grid_area": null,
            "grid_auto_columns": null,
            "grid_auto_flow": null,
            "grid_auto_rows": null,
            "grid_column": null,
            "grid_gap": null,
            "grid_row": null,
            "grid_template_areas": null,
            "grid_template_columns": null,
            "grid_template_rows": null,
            "height": null,
            "justify_content": null,
            "justify_items": null,
            "left": null,
            "margin": null,
            "max_height": null,
            "max_width": null,
            "min_height": null,
            "min_width": null,
            "object_fit": null,
            "object_position": null,
            "order": null,
            "overflow": null,
            "overflow_x": null,
            "overflow_y": null,
            "padding": null,
            "right": null,
            "top": null,
            "visibility": null,
            "width": null
          }
        },
        "7cb499ca69b840729c453f48076131bd": {
          "model_module": "@jupyter-widgets/base",
          "model_name": "LayoutModel",
          "model_module_version": "1.2.0",
          "state": {
            "_model_module": "@jupyter-widgets/base",
            "_model_module_version": "1.2.0",
            "_model_name": "LayoutModel",
            "_view_count": null,
            "_view_module": "@jupyter-widgets/base",
            "_view_module_version": "1.2.0",
            "_view_name": "LayoutView",
            "align_content": null,
            "align_items": null,
            "align_self": null,
            "border": null,
            "bottom": null,
            "display": null,
            "flex": null,
            "flex_flow": null,
            "grid_area": null,
            "grid_auto_columns": null,
            "grid_auto_flow": null,
            "grid_auto_rows": null,
            "grid_column": null,
            "grid_gap": null,
            "grid_row": null,
            "grid_template_areas": null,
            "grid_template_columns": null,
            "grid_template_rows": null,
            "height": null,
            "justify_content": null,
            "justify_items": null,
            "left": null,
            "margin": null,
            "max_height": null,
            "max_width": null,
            "min_height": null,
            "min_width": null,
            "object_fit": null,
            "object_position": null,
            "order": null,
            "overflow": null,
            "overflow_x": null,
            "overflow_y": null,
            "padding": null,
            "right": null,
            "top": null,
            "visibility": null,
            "width": null
          }
        },
        "13d71be4d91543219922b81364b5a6d1": {
          "model_module": "@jupyter-widgets/controls",
          "model_name": "DescriptionStyleModel",
          "model_module_version": "1.5.0",
          "state": {
            "_model_module": "@jupyter-widgets/controls",
            "_model_module_version": "1.5.0",
            "_model_name": "DescriptionStyleModel",
            "_view_count": null,
            "_view_module": "@jupyter-widgets/base",
            "_view_module_version": "1.2.0",
            "_view_name": "StyleView",
            "description_width": ""
          }
        },
        "0a171b09866446eeba2e70c440acbcc8": {
          "model_module": "@jupyter-widgets/base",
          "model_name": "LayoutModel",
          "model_module_version": "1.2.0",
          "state": {
            "_model_module": "@jupyter-widgets/base",
            "_model_module_version": "1.2.0",
            "_model_name": "LayoutModel",
            "_view_count": null,
            "_view_module": "@jupyter-widgets/base",
            "_view_module_version": "1.2.0",
            "_view_name": "LayoutView",
            "align_content": null,
            "align_items": null,
            "align_self": null,
            "border": null,
            "bottom": null,
            "display": null,
            "flex": null,
            "flex_flow": null,
            "grid_area": null,
            "grid_auto_columns": null,
            "grid_auto_flow": null,
            "grid_auto_rows": null,
            "grid_column": null,
            "grid_gap": null,
            "grid_row": null,
            "grid_template_areas": null,
            "grid_template_columns": null,
            "grid_template_rows": null,
            "height": null,
            "justify_content": null,
            "justify_items": null,
            "left": null,
            "margin": null,
            "max_height": null,
            "max_width": null,
            "min_height": null,
            "min_width": null,
            "object_fit": null,
            "object_position": null,
            "order": null,
            "overflow": null,
            "overflow_x": null,
            "overflow_y": null,
            "padding": null,
            "right": null,
            "top": null,
            "visibility": null,
            "width": null
          }
        },
        "e2efa12fc2ac4a4793b82675225a32c6": {
          "model_module": "@jupyter-widgets/controls",
          "model_name": "ProgressStyleModel",
          "model_module_version": "1.5.0",
          "state": {
            "_model_module": "@jupyter-widgets/controls",
            "_model_module_version": "1.5.0",
            "_model_name": "ProgressStyleModel",
            "_view_count": null,
            "_view_module": "@jupyter-widgets/base",
            "_view_module_version": "1.2.0",
            "_view_name": "StyleView",
            "bar_color": null,
            "description_width": ""
          }
        },
        "4ed445ff9ba3456ba298efc4a0ca2d20": {
          "model_module": "@jupyter-widgets/base",
          "model_name": "LayoutModel",
          "model_module_version": "1.2.0",
          "state": {
            "_model_module": "@jupyter-widgets/base",
            "_model_module_version": "1.2.0",
            "_model_name": "LayoutModel",
            "_view_count": null,
            "_view_module": "@jupyter-widgets/base",
            "_view_module_version": "1.2.0",
            "_view_name": "LayoutView",
            "align_content": null,
            "align_items": null,
            "align_self": null,
            "border": null,
            "bottom": null,
            "display": null,
            "flex": null,
            "flex_flow": null,
            "grid_area": null,
            "grid_auto_columns": null,
            "grid_auto_flow": null,
            "grid_auto_rows": null,
            "grid_column": null,
            "grid_gap": null,
            "grid_row": null,
            "grid_template_areas": null,
            "grid_template_columns": null,
            "grid_template_rows": null,
            "height": null,
            "justify_content": null,
            "justify_items": null,
            "left": null,
            "margin": null,
            "max_height": null,
            "max_width": null,
            "min_height": null,
            "min_width": null,
            "object_fit": null,
            "object_position": null,
            "order": null,
            "overflow": null,
            "overflow_x": null,
            "overflow_y": null,
            "padding": null,
            "right": null,
            "top": null,
            "visibility": null,
            "width": null
          }
        },
        "00aa1662f6ba4b2581a8efac87e4b815": {
          "model_module": "@jupyter-widgets/controls",
          "model_name": "DescriptionStyleModel",
          "model_module_version": "1.5.0",
          "state": {
            "_model_module": "@jupyter-widgets/controls",
            "_model_module_version": "1.5.0",
            "_model_name": "DescriptionStyleModel",
            "_view_count": null,
            "_view_module": "@jupyter-widgets/base",
            "_view_module_version": "1.2.0",
            "_view_name": "StyleView",
            "description_width": ""
          }
        },
        "46d674be9b8c46048c61819e5c1240f7": {
          "model_module": "@jupyter-widgets/controls",
          "model_name": "HBoxModel",
          "model_module_version": "1.5.0",
          "state": {
            "_dom_classes": [],
            "_model_module": "@jupyter-widgets/controls",
            "_model_module_version": "1.5.0",
            "_model_name": "HBoxModel",
            "_view_count": null,
            "_view_module": "@jupyter-widgets/controls",
            "_view_module_version": "1.5.0",
            "_view_name": "HBoxView",
            "box_style": "",
            "children": [
              "IPY_MODEL_28c74a4e0339462381eef05949cb2b18",
              "IPY_MODEL_09ee185f033f4db28b1e345c808f7f9d",
              "IPY_MODEL_7453f79922e24cd38ecac73e2113955f"
            ],
            "layout": "IPY_MODEL_1ad96d569cf54f8e9d0f96f3f167b072"
          }
        },
        "28c74a4e0339462381eef05949cb2b18": {
          "model_module": "@jupyter-widgets/controls",
          "model_name": "HTMLModel",
          "model_module_version": "1.5.0",
          "state": {
            "_dom_classes": [],
            "_model_module": "@jupyter-widgets/controls",
            "_model_module_version": "1.5.0",
            "_model_name": "HTMLModel",
            "_view_count": null,
            "_view_module": "@jupyter-widgets/controls",
            "_view_module_version": "1.5.0",
            "_view_name": "HTMLView",
            "description": "",
            "description_tooltip": null,
            "layout": "IPY_MODEL_3d7bec98f9ab4bb286adf1aee6893233",
            "placeholder": "​",
            "style": "IPY_MODEL_565bcacf2d9643c29c55289fdfb3535e",
            "value": "Generating train split: 100%"
          }
        },
        "09ee185f033f4db28b1e345c808f7f9d": {
          "model_module": "@jupyter-widgets/controls",
          "model_name": "FloatProgressModel",
          "model_module_version": "1.5.0",
          "state": {
            "_dom_classes": [],
            "_model_module": "@jupyter-widgets/controls",
            "_model_module_version": "1.5.0",
            "_model_name": "FloatProgressModel",
            "_view_count": null,
            "_view_module": "@jupyter-widgets/controls",
            "_view_module_version": "1.5.0",
            "_view_name": "ProgressView",
            "bar_style": "success",
            "description": "",
            "description_tooltip": null,
            "layout": "IPY_MODEL_00d21bab49be4b8b9cb1fc405c84102b",
            "max": 210173,
            "min": 0,
            "orientation": "horizontal",
            "style": "IPY_MODEL_cbc3e7fd47f244de9c7d9ce898149688",
            "value": 210173
          }
        },
        "7453f79922e24cd38ecac73e2113955f": {
          "model_module": "@jupyter-widgets/controls",
          "model_name": "HTMLModel",
          "model_module_version": "1.5.0",
          "state": {
            "_dom_classes": [],
            "_model_module": "@jupyter-widgets/controls",
            "_model_module_version": "1.5.0",
            "_model_name": "HTMLModel",
            "_view_count": null,
            "_view_module": "@jupyter-widgets/controls",
            "_view_module_version": "1.5.0",
            "_view_name": "HTMLView",
            "description": "",
            "description_tooltip": null,
            "layout": "IPY_MODEL_68083a073cad4c9a81a6604b923c3773",
            "placeholder": "​",
            "style": "IPY_MODEL_6aba634290e24a1996bf1ab4fb8c050a",
            "value": " 210173/210173 [00:21&lt;00:00, 10114.93 examples/s]"
          }
        },
        "1ad96d569cf54f8e9d0f96f3f167b072": {
          "model_module": "@jupyter-widgets/base",
          "model_name": "LayoutModel",
          "model_module_version": "1.2.0",
          "state": {
            "_model_module": "@jupyter-widgets/base",
            "_model_module_version": "1.2.0",
            "_model_name": "LayoutModel",
            "_view_count": null,
            "_view_module": "@jupyter-widgets/base",
            "_view_module_version": "1.2.0",
            "_view_name": "LayoutView",
            "align_content": null,
            "align_items": null,
            "align_self": null,
            "border": null,
            "bottom": null,
            "display": null,
            "flex": null,
            "flex_flow": null,
            "grid_area": null,
            "grid_auto_columns": null,
            "grid_auto_flow": null,
            "grid_auto_rows": null,
            "grid_column": null,
            "grid_gap": null,
            "grid_row": null,
            "grid_template_areas": null,
            "grid_template_columns": null,
            "grid_template_rows": null,
            "height": null,
            "justify_content": null,
            "justify_items": null,
            "left": null,
            "margin": null,
            "max_height": null,
            "max_width": null,
            "min_height": null,
            "min_width": null,
            "object_fit": null,
            "object_position": null,
            "order": null,
            "overflow": null,
            "overflow_x": null,
            "overflow_y": null,
            "padding": null,
            "right": null,
            "top": null,
            "visibility": null,
            "width": null
          }
        },
        "3d7bec98f9ab4bb286adf1aee6893233": {
          "model_module": "@jupyter-widgets/base",
          "model_name": "LayoutModel",
          "model_module_version": "1.2.0",
          "state": {
            "_model_module": "@jupyter-widgets/base",
            "_model_module_version": "1.2.0",
            "_model_name": "LayoutModel",
            "_view_count": null,
            "_view_module": "@jupyter-widgets/base",
            "_view_module_version": "1.2.0",
            "_view_name": "LayoutView",
            "align_content": null,
            "align_items": null,
            "align_self": null,
            "border": null,
            "bottom": null,
            "display": null,
            "flex": null,
            "flex_flow": null,
            "grid_area": null,
            "grid_auto_columns": null,
            "grid_auto_flow": null,
            "grid_auto_rows": null,
            "grid_column": null,
            "grid_gap": null,
            "grid_row": null,
            "grid_template_areas": null,
            "grid_template_columns": null,
            "grid_template_rows": null,
            "height": null,
            "justify_content": null,
            "justify_items": null,
            "left": null,
            "margin": null,
            "max_height": null,
            "max_width": null,
            "min_height": null,
            "min_width": null,
            "object_fit": null,
            "object_position": null,
            "order": null,
            "overflow": null,
            "overflow_x": null,
            "overflow_y": null,
            "padding": null,
            "right": null,
            "top": null,
            "visibility": null,
            "width": null
          }
        },
        "565bcacf2d9643c29c55289fdfb3535e": {
          "model_module": "@jupyter-widgets/controls",
          "model_name": "DescriptionStyleModel",
          "model_module_version": "1.5.0",
          "state": {
            "_model_module": "@jupyter-widgets/controls",
            "_model_module_version": "1.5.0",
            "_model_name": "DescriptionStyleModel",
            "_view_count": null,
            "_view_module": "@jupyter-widgets/base",
            "_view_module_version": "1.2.0",
            "_view_name": "StyleView",
            "description_width": ""
          }
        },
        "00d21bab49be4b8b9cb1fc405c84102b": {
          "model_module": "@jupyter-widgets/base",
          "model_name": "LayoutModel",
          "model_module_version": "1.2.0",
          "state": {
            "_model_module": "@jupyter-widgets/base",
            "_model_module_version": "1.2.0",
            "_model_name": "LayoutModel",
            "_view_count": null,
            "_view_module": "@jupyter-widgets/base",
            "_view_module_version": "1.2.0",
            "_view_name": "LayoutView",
            "align_content": null,
            "align_items": null,
            "align_self": null,
            "border": null,
            "bottom": null,
            "display": null,
            "flex": null,
            "flex_flow": null,
            "grid_area": null,
            "grid_auto_columns": null,
            "grid_auto_flow": null,
            "grid_auto_rows": null,
            "grid_column": null,
            "grid_gap": null,
            "grid_row": null,
            "grid_template_areas": null,
            "grid_template_columns": null,
            "grid_template_rows": null,
            "height": null,
            "justify_content": null,
            "justify_items": null,
            "left": null,
            "margin": null,
            "max_height": null,
            "max_width": null,
            "min_height": null,
            "min_width": null,
            "object_fit": null,
            "object_position": null,
            "order": null,
            "overflow": null,
            "overflow_x": null,
            "overflow_y": null,
            "padding": null,
            "right": null,
            "top": null,
            "visibility": null,
            "width": null
          }
        },
        "cbc3e7fd47f244de9c7d9ce898149688": {
          "model_module": "@jupyter-widgets/controls",
          "model_name": "ProgressStyleModel",
          "model_module_version": "1.5.0",
          "state": {
            "_model_module": "@jupyter-widgets/controls",
            "_model_module_version": "1.5.0",
            "_model_name": "ProgressStyleModel",
            "_view_count": null,
            "_view_module": "@jupyter-widgets/base",
            "_view_module_version": "1.2.0",
            "_view_name": "StyleView",
            "bar_color": null,
            "description_width": ""
          }
        },
        "68083a073cad4c9a81a6604b923c3773": {
          "model_module": "@jupyter-widgets/base",
          "model_name": "LayoutModel",
          "model_module_version": "1.2.0",
          "state": {
            "_model_module": "@jupyter-widgets/base",
            "_model_module_version": "1.2.0",
            "_model_name": "LayoutModel",
            "_view_count": null,
            "_view_module": "@jupyter-widgets/base",
            "_view_module_version": "1.2.0",
            "_view_name": "LayoutView",
            "align_content": null,
            "align_items": null,
            "align_self": null,
            "border": null,
            "bottom": null,
            "display": null,
            "flex": null,
            "flex_flow": null,
            "grid_area": null,
            "grid_auto_columns": null,
            "grid_auto_flow": null,
            "grid_auto_rows": null,
            "grid_column": null,
            "grid_gap": null,
            "grid_row": null,
            "grid_template_areas": null,
            "grid_template_columns": null,
            "grid_template_rows": null,
            "height": null,
            "justify_content": null,
            "justify_items": null,
            "left": null,
            "margin": null,
            "max_height": null,
            "max_width": null,
            "min_height": null,
            "min_width": null,
            "object_fit": null,
            "object_position": null,
            "order": null,
            "overflow": null,
            "overflow_x": null,
            "overflow_y": null,
            "padding": null,
            "right": null,
            "top": null,
            "visibility": null,
            "width": null
          }
        },
        "6aba634290e24a1996bf1ab4fb8c050a": {
          "model_module": "@jupyter-widgets/controls",
          "model_name": "DescriptionStyleModel",
          "model_module_version": "1.5.0",
          "state": {
            "_model_module": "@jupyter-widgets/controls",
            "_model_module_version": "1.5.0",
            "_model_name": "DescriptionStyleModel",
            "_view_count": null,
            "_view_module": "@jupyter-widgets/base",
            "_view_module_version": "1.2.0",
            "_view_name": "StyleView",
            "description_width": ""
          }
        },
        "a92b5774dd934f56818e84c399ee8924": {
          "model_module": "@jupyter-widgets/controls",
          "model_name": "HBoxModel",
          "model_module_version": "1.5.0",
          "state": {
            "_dom_classes": [],
            "_model_module": "@jupyter-widgets/controls",
            "_model_module_version": "1.5.0",
            "_model_name": "HBoxModel",
            "_view_count": null,
            "_view_module": "@jupyter-widgets/controls",
            "_view_module_version": "1.5.0",
            "_view_name": "HBoxView",
            "box_style": "",
            "children": [
              "IPY_MODEL_25cde1cb1c2b468e9acdee6b28be36d4",
              "IPY_MODEL_7f24c062790747a29ca4f0880d519df6",
              "IPY_MODEL_ab6d2a04c0164cfd884298af0d89d89c"
            ],
            "layout": "IPY_MODEL_3fcf3c09687c4ed1a2388c8c013c4607"
          }
        },
        "25cde1cb1c2b468e9acdee6b28be36d4": {
          "model_module": "@jupyter-widgets/controls",
          "model_name": "HTMLModel",
          "model_module_version": "1.5.0",
          "state": {
            "_dom_classes": [],
            "_model_module": "@jupyter-widgets/controls",
            "_model_module_version": "1.5.0",
            "_model_name": "HTMLModel",
            "_view_count": null,
            "_view_module": "@jupyter-widgets/controls",
            "_view_module_version": "1.5.0",
            "_view_name": "HTMLView",
            "description": "",
            "description_tooltip": null,
            "layout": "IPY_MODEL_ff88997175f34463b0056b4c4a84dc4c",
            "placeholder": "​",
            "style": "IPY_MODEL_f7efc7679e2b4324b6d379f6f55e06e7",
            "value": "tokenizer_config.json: 100%"
          }
        },
        "7f24c062790747a29ca4f0880d519df6": {
          "model_module": "@jupyter-widgets/controls",
          "model_name": "FloatProgressModel",
          "model_module_version": "1.5.0",
          "state": {
            "_dom_classes": [],
            "_model_module": "@jupyter-widgets/controls",
            "_model_module_version": "1.5.0",
            "_model_name": "FloatProgressModel",
            "_view_count": null,
            "_view_module": "@jupyter-widgets/controls",
            "_view_module_version": "1.5.0",
            "_view_name": "ProgressView",
            "bar_style": "success",
            "description": "",
            "description_tooltip": null,
            "layout": "IPY_MODEL_7131cf3c451747c2992184008f216bb2",
            "max": 42,
            "min": 0,
            "orientation": "horizontal",
            "style": "IPY_MODEL_0c07b61e445f4cf680a83b8402ba2b62",
            "value": 42
          }
        },
        "ab6d2a04c0164cfd884298af0d89d89c": {
          "model_module": "@jupyter-widgets/controls",
          "model_name": "HTMLModel",
          "model_module_version": "1.5.0",
          "state": {
            "_dom_classes": [],
            "_model_module": "@jupyter-widgets/controls",
            "_model_module_version": "1.5.0",
            "_model_name": "HTMLModel",
            "_view_count": null,
            "_view_module": "@jupyter-widgets/controls",
            "_view_module_version": "1.5.0",
            "_view_name": "HTMLView",
            "description": "",
            "description_tooltip": null,
            "layout": "IPY_MODEL_56585a0846a84af386db70e73ea3914e",
            "placeholder": "​",
            "style": "IPY_MODEL_fb9caa34212a43b199b76f7716c3351f",
            "value": " 42.0/42.0 [00:00&lt;00:00, 554B/s]"
          }
        },
        "3fcf3c09687c4ed1a2388c8c013c4607": {
          "model_module": "@jupyter-widgets/base",
          "model_name": "LayoutModel",
          "model_module_version": "1.2.0",
          "state": {
            "_model_module": "@jupyter-widgets/base",
            "_model_module_version": "1.2.0",
            "_model_name": "LayoutModel",
            "_view_count": null,
            "_view_module": "@jupyter-widgets/base",
            "_view_module_version": "1.2.0",
            "_view_name": "LayoutView",
            "align_content": null,
            "align_items": null,
            "align_self": null,
            "border": null,
            "bottom": null,
            "display": null,
            "flex": null,
            "flex_flow": null,
            "grid_area": null,
            "grid_auto_columns": null,
            "grid_auto_flow": null,
            "grid_auto_rows": null,
            "grid_column": null,
            "grid_gap": null,
            "grid_row": null,
            "grid_template_areas": null,
            "grid_template_columns": null,
            "grid_template_rows": null,
            "height": null,
            "justify_content": null,
            "justify_items": null,
            "left": null,
            "margin": null,
            "max_height": null,
            "max_width": null,
            "min_height": null,
            "min_width": null,
            "object_fit": null,
            "object_position": null,
            "order": null,
            "overflow": null,
            "overflow_x": null,
            "overflow_y": null,
            "padding": null,
            "right": null,
            "top": null,
            "visibility": null,
            "width": null
          }
        },
        "ff88997175f34463b0056b4c4a84dc4c": {
          "model_module": "@jupyter-widgets/base",
          "model_name": "LayoutModel",
          "model_module_version": "1.2.0",
          "state": {
            "_model_module": "@jupyter-widgets/base",
            "_model_module_version": "1.2.0",
            "_model_name": "LayoutModel",
            "_view_count": null,
            "_view_module": "@jupyter-widgets/base",
            "_view_module_version": "1.2.0",
            "_view_name": "LayoutView",
            "align_content": null,
            "align_items": null,
            "align_self": null,
            "border": null,
            "bottom": null,
            "display": null,
            "flex": null,
            "flex_flow": null,
            "grid_area": null,
            "grid_auto_columns": null,
            "grid_auto_flow": null,
            "grid_auto_rows": null,
            "grid_column": null,
            "grid_gap": null,
            "grid_row": null,
            "grid_template_areas": null,
            "grid_template_columns": null,
            "grid_template_rows": null,
            "height": null,
            "justify_content": null,
            "justify_items": null,
            "left": null,
            "margin": null,
            "max_height": null,
            "max_width": null,
            "min_height": null,
            "min_width": null,
            "object_fit": null,
            "object_position": null,
            "order": null,
            "overflow": null,
            "overflow_x": null,
            "overflow_y": null,
            "padding": null,
            "right": null,
            "top": null,
            "visibility": null,
            "width": null
          }
        },
        "f7efc7679e2b4324b6d379f6f55e06e7": {
          "model_module": "@jupyter-widgets/controls",
          "model_name": "DescriptionStyleModel",
          "model_module_version": "1.5.0",
          "state": {
            "_model_module": "@jupyter-widgets/controls",
            "_model_module_version": "1.5.0",
            "_model_name": "DescriptionStyleModel",
            "_view_count": null,
            "_view_module": "@jupyter-widgets/base",
            "_view_module_version": "1.2.0",
            "_view_name": "StyleView",
            "description_width": ""
          }
        },
        "7131cf3c451747c2992184008f216bb2": {
          "model_module": "@jupyter-widgets/base",
          "model_name": "LayoutModel",
          "model_module_version": "1.2.0",
          "state": {
            "_model_module": "@jupyter-widgets/base",
            "_model_module_version": "1.2.0",
            "_model_name": "LayoutModel",
            "_view_count": null,
            "_view_module": "@jupyter-widgets/base",
            "_view_module_version": "1.2.0",
            "_view_name": "LayoutView",
            "align_content": null,
            "align_items": null,
            "align_self": null,
            "border": null,
            "bottom": null,
            "display": null,
            "flex": null,
            "flex_flow": null,
            "grid_area": null,
            "grid_auto_columns": null,
            "grid_auto_flow": null,
            "grid_auto_rows": null,
            "grid_column": null,
            "grid_gap": null,
            "grid_row": null,
            "grid_template_areas": null,
            "grid_template_columns": null,
            "grid_template_rows": null,
            "height": null,
            "justify_content": null,
            "justify_items": null,
            "left": null,
            "margin": null,
            "max_height": null,
            "max_width": null,
            "min_height": null,
            "min_width": null,
            "object_fit": null,
            "object_position": null,
            "order": null,
            "overflow": null,
            "overflow_x": null,
            "overflow_y": null,
            "padding": null,
            "right": null,
            "top": null,
            "visibility": null,
            "width": null
          }
        },
        "0c07b61e445f4cf680a83b8402ba2b62": {
          "model_module": "@jupyter-widgets/controls",
          "model_name": "ProgressStyleModel",
          "model_module_version": "1.5.0",
          "state": {
            "_model_module": "@jupyter-widgets/controls",
            "_model_module_version": "1.5.0",
            "_model_name": "ProgressStyleModel",
            "_view_count": null,
            "_view_module": "@jupyter-widgets/base",
            "_view_module_version": "1.2.0",
            "_view_name": "StyleView",
            "bar_color": null,
            "description_width": ""
          }
        },
        "56585a0846a84af386db70e73ea3914e": {
          "model_module": "@jupyter-widgets/base",
          "model_name": "LayoutModel",
          "model_module_version": "1.2.0",
          "state": {
            "_model_module": "@jupyter-widgets/base",
            "_model_module_version": "1.2.0",
            "_model_name": "LayoutModel",
            "_view_count": null,
            "_view_module": "@jupyter-widgets/base",
            "_view_module_version": "1.2.0",
            "_view_name": "LayoutView",
            "align_content": null,
            "align_items": null,
            "align_self": null,
            "border": null,
            "bottom": null,
            "display": null,
            "flex": null,
            "flex_flow": null,
            "grid_area": null,
            "grid_auto_columns": null,
            "grid_auto_flow": null,
            "grid_auto_rows": null,
            "grid_column": null,
            "grid_gap": null,
            "grid_row": null,
            "grid_template_areas": null,
            "grid_template_columns": null,
            "grid_template_rows": null,
            "height": null,
            "justify_content": null,
            "justify_items": null,
            "left": null,
            "margin": null,
            "max_height": null,
            "max_width": null,
            "min_height": null,
            "min_width": null,
            "object_fit": null,
            "object_position": null,
            "order": null,
            "overflow": null,
            "overflow_x": null,
            "overflow_y": null,
            "padding": null,
            "right": null,
            "top": null,
            "visibility": null,
            "width": null
          }
        },
        "fb9caa34212a43b199b76f7716c3351f": {
          "model_module": "@jupyter-widgets/controls",
          "model_name": "DescriptionStyleModel",
          "model_module_version": "1.5.0",
          "state": {
            "_model_module": "@jupyter-widgets/controls",
            "_model_module_version": "1.5.0",
            "_model_name": "DescriptionStyleModel",
            "_view_count": null,
            "_view_module": "@jupyter-widgets/base",
            "_view_module_version": "1.2.0",
            "_view_name": "StyleView",
            "description_width": ""
          }
        },
        "75200cb1cf3e4ee5859a5d2dd3d1ccc5": {
          "model_module": "@jupyter-widgets/controls",
          "model_name": "HBoxModel",
          "model_module_version": "1.5.0",
          "state": {
            "_dom_classes": [],
            "_model_module": "@jupyter-widgets/controls",
            "_model_module_version": "1.5.0",
            "_model_name": "HBoxModel",
            "_view_count": null,
            "_view_module": "@jupyter-widgets/controls",
            "_view_module_version": "1.5.0",
            "_view_name": "HBoxView",
            "box_style": "",
            "children": [
              "IPY_MODEL_92f6473ed261466e8562a14d2624b5ca",
              "IPY_MODEL_82b8f05f99824dbbb09f7c20cceede57",
              "IPY_MODEL_e67162a3bccc4b658e63df598589a261"
            ],
            "layout": "IPY_MODEL_5e083d02ff034a43a4b1cf013ebe7a7e"
          }
        },
        "92f6473ed261466e8562a14d2624b5ca": {
          "model_module": "@jupyter-widgets/controls",
          "model_name": "HTMLModel",
          "model_module_version": "1.5.0",
          "state": {
            "_dom_classes": [],
            "_model_module": "@jupyter-widgets/controls",
            "_model_module_version": "1.5.0",
            "_model_name": "HTMLModel",
            "_view_count": null,
            "_view_module": "@jupyter-widgets/controls",
            "_view_module_version": "1.5.0",
            "_view_name": "HTMLView",
            "description": "",
            "description_tooltip": null,
            "layout": "IPY_MODEL_3f825736ae4b4f0db3d13dc615a904f9",
            "placeholder": "​",
            "style": "IPY_MODEL_5f6823dc737a4e1ba0cabecae71ae218",
            "value": "config.json: 100%"
          }
        },
        "82b8f05f99824dbbb09f7c20cceede57": {
          "model_module": "@jupyter-widgets/controls",
          "model_name": "FloatProgressModel",
          "model_module_version": "1.5.0",
          "state": {
            "_dom_classes": [],
            "_model_module": "@jupyter-widgets/controls",
            "_model_module_version": "1.5.0",
            "_model_name": "FloatProgressModel",
            "_view_count": null,
            "_view_module": "@jupyter-widgets/controls",
            "_view_module_version": "1.5.0",
            "_view_name": "ProgressView",
            "bar_style": "success",
            "description": "",
            "description_tooltip": null,
            "layout": "IPY_MODEL_553195e6c5e44f30bbfbcced9f14421f",
            "max": 1416,
            "min": 0,
            "orientation": "horizontal",
            "style": "IPY_MODEL_7adafdd08f584585bbfe96a5b7e7089a",
            "value": 1416
          }
        },
        "e67162a3bccc4b658e63df598589a261": {
          "model_module": "@jupyter-widgets/controls",
          "model_name": "HTMLModel",
          "model_module_version": "1.5.0",
          "state": {
            "_dom_classes": [],
            "_model_module": "@jupyter-widgets/controls",
            "_model_module_version": "1.5.0",
            "_model_name": "HTMLModel",
            "_view_count": null,
            "_view_module": "@jupyter-widgets/controls",
            "_view_module_version": "1.5.0",
            "_view_name": "HTMLView",
            "description": "",
            "description_tooltip": null,
            "layout": "IPY_MODEL_8fdb017c129441f1b3d08eda926fe99d",
            "placeholder": "​",
            "style": "IPY_MODEL_f211efdd7edb4f12ae1ac663a50e308e",
            "value": " 1.42k/1.42k [00:00&lt;00:00, 14.3kB/s]"
          }
        },
        "5e083d02ff034a43a4b1cf013ebe7a7e": {
          "model_module": "@jupyter-widgets/base",
          "model_name": "LayoutModel",
          "model_module_version": "1.2.0",
          "state": {
            "_model_module": "@jupyter-widgets/base",
            "_model_module_version": "1.2.0",
            "_model_name": "LayoutModel",
            "_view_count": null,
            "_view_module": "@jupyter-widgets/base",
            "_view_module_version": "1.2.0",
            "_view_name": "LayoutView",
            "align_content": null,
            "align_items": null,
            "align_self": null,
            "border": null,
            "bottom": null,
            "display": null,
            "flex": null,
            "flex_flow": null,
            "grid_area": null,
            "grid_auto_columns": null,
            "grid_auto_flow": null,
            "grid_auto_rows": null,
            "grid_column": null,
            "grid_gap": null,
            "grid_row": null,
            "grid_template_areas": null,
            "grid_template_columns": null,
            "grid_template_rows": null,
            "height": null,
            "justify_content": null,
            "justify_items": null,
            "left": null,
            "margin": null,
            "max_height": null,
            "max_width": null,
            "min_height": null,
            "min_width": null,
            "object_fit": null,
            "object_position": null,
            "order": null,
            "overflow": null,
            "overflow_x": null,
            "overflow_y": null,
            "padding": null,
            "right": null,
            "top": null,
            "visibility": null,
            "width": null
          }
        },
        "3f825736ae4b4f0db3d13dc615a904f9": {
          "model_module": "@jupyter-widgets/base",
          "model_name": "LayoutModel",
          "model_module_version": "1.2.0",
          "state": {
            "_model_module": "@jupyter-widgets/base",
            "_model_module_version": "1.2.0",
            "_model_name": "LayoutModel",
            "_view_count": null,
            "_view_module": "@jupyter-widgets/base",
            "_view_module_version": "1.2.0",
            "_view_name": "LayoutView",
            "align_content": null,
            "align_items": null,
            "align_self": null,
            "border": null,
            "bottom": null,
            "display": null,
            "flex": null,
            "flex_flow": null,
            "grid_area": null,
            "grid_auto_columns": null,
            "grid_auto_flow": null,
            "grid_auto_rows": null,
            "grid_column": null,
            "grid_gap": null,
            "grid_row": null,
            "grid_template_areas": null,
            "grid_template_columns": null,
            "grid_template_rows": null,
            "height": null,
            "justify_content": null,
            "justify_items": null,
            "left": null,
            "margin": null,
            "max_height": null,
            "max_width": null,
            "min_height": null,
            "min_width": null,
            "object_fit": null,
            "object_position": null,
            "order": null,
            "overflow": null,
            "overflow_x": null,
            "overflow_y": null,
            "padding": null,
            "right": null,
            "top": null,
            "visibility": null,
            "width": null
          }
        },
        "5f6823dc737a4e1ba0cabecae71ae218": {
          "model_module": "@jupyter-widgets/controls",
          "model_name": "DescriptionStyleModel",
          "model_module_version": "1.5.0",
          "state": {
            "_model_module": "@jupyter-widgets/controls",
            "_model_module_version": "1.5.0",
            "_model_name": "DescriptionStyleModel",
            "_view_count": null,
            "_view_module": "@jupyter-widgets/base",
            "_view_module_version": "1.2.0",
            "_view_name": "StyleView",
            "description_width": ""
          }
        },
        "553195e6c5e44f30bbfbcced9f14421f": {
          "model_module": "@jupyter-widgets/base",
          "model_name": "LayoutModel",
          "model_module_version": "1.2.0",
          "state": {
            "_model_module": "@jupyter-widgets/base",
            "_model_module_version": "1.2.0",
            "_model_name": "LayoutModel",
            "_view_count": null,
            "_view_module": "@jupyter-widgets/base",
            "_view_module_version": "1.2.0",
            "_view_name": "LayoutView",
            "align_content": null,
            "align_items": null,
            "align_self": null,
            "border": null,
            "bottom": null,
            "display": null,
            "flex": null,
            "flex_flow": null,
            "grid_area": null,
            "grid_auto_columns": null,
            "grid_auto_flow": null,
            "grid_auto_rows": null,
            "grid_column": null,
            "grid_gap": null,
            "grid_row": null,
            "grid_template_areas": null,
            "grid_template_columns": null,
            "grid_template_rows": null,
            "height": null,
            "justify_content": null,
            "justify_items": null,
            "left": null,
            "margin": null,
            "max_height": null,
            "max_width": null,
            "min_height": null,
            "min_width": null,
            "object_fit": null,
            "object_position": null,
            "order": null,
            "overflow": null,
            "overflow_x": null,
            "overflow_y": null,
            "padding": null,
            "right": null,
            "top": null,
            "visibility": null,
            "width": null
          }
        },
        "7adafdd08f584585bbfe96a5b7e7089a": {
          "model_module": "@jupyter-widgets/controls",
          "model_name": "ProgressStyleModel",
          "model_module_version": "1.5.0",
          "state": {
            "_model_module": "@jupyter-widgets/controls",
            "_model_module_version": "1.5.0",
            "_model_name": "ProgressStyleModel",
            "_view_count": null,
            "_view_module": "@jupyter-widgets/base",
            "_view_module_version": "1.2.0",
            "_view_name": "StyleView",
            "bar_color": null,
            "description_width": ""
          }
        },
        "8fdb017c129441f1b3d08eda926fe99d": {
          "model_module": "@jupyter-widgets/base",
          "model_name": "LayoutModel",
          "model_module_version": "1.2.0",
          "state": {
            "_model_module": "@jupyter-widgets/base",
            "_model_module_version": "1.2.0",
            "_model_name": "LayoutModel",
            "_view_count": null,
            "_view_module": "@jupyter-widgets/base",
            "_view_module_version": "1.2.0",
            "_view_name": "LayoutView",
            "align_content": null,
            "align_items": null,
            "align_self": null,
            "border": null,
            "bottom": null,
            "display": null,
            "flex": null,
            "flex_flow": null,
            "grid_area": null,
            "grid_auto_columns": null,
            "grid_auto_flow": null,
            "grid_auto_rows": null,
            "grid_column": null,
            "grid_gap": null,
            "grid_row": null,
            "grid_template_areas": null,
            "grid_template_columns": null,
            "grid_template_rows": null,
            "height": null,
            "justify_content": null,
            "justify_items": null,
            "left": null,
            "margin": null,
            "max_height": null,
            "max_width": null,
            "min_height": null,
            "min_width": null,
            "object_fit": null,
            "object_position": null,
            "order": null,
            "overflow": null,
            "overflow_x": null,
            "overflow_y": null,
            "padding": null,
            "right": null,
            "top": null,
            "visibility": null,
            "width": null
          }
        },
        "f211efdd7edb4f12ae1ac663a50e308e": {
          "model_module": "@jupyter-widgets/controls",
          "model_name": "DescriptionStyleModel",
          "model_module_version": "1.5.0",
          "state": {
            "_model_module": "@jupyter-widgets/controls",
            "_model_module_version": "1.5.0",
            "_model_name": "DescriptionStyleModel",
            "_view_count": null,
            "_view_module": "@jupyter-widgets/base",
            "_view_module_version": "1.2.0",
            "_view_name": "StyleView",
            "description_width": ""
          }
        },
        "08f82fec9da6490a92f784715786cd7b": {
          "model_module": "@jupyter-widgets/controls",
          "model_name": "HBoxModel",
          "model_module_version": "1.5.0",
          "state": {
            "_dom_classes": [],
            "_model_module": "@jupyter-widgets/controls",
            "_model_module_version": "1.5.0",
            "_model_name": "HBoxModel",
            "_view_count": null,
            "_view_module": "@jupyter-widgets/controls",
            "_view_module_version": "1.5.0",
            "_view_name": "HBoxView",
            "box_style": "",
            "children": [
              "IPY_MODEL_a59413878341464f805e486bd58e950c",
              "IPY_MODEL_9fdeda17eec949108a0bced2fd0eeebc",
              "IPY_MODEL_5cdcd1dd4f2440c69bd4d9c877c67c7f"
            ],
            "layout": "IPY_MODEL_b87d602e3ef74a0090b49850970d5512"
          }
        },
        "a59413878341464f805e486bd58e950c": {
          "model_module": "@jupyter-widgets/controls",
          "model_name": "HTMLModel",
          "model_module_version": "1.5.0",
          "state": {
            "_dom_classes": [],
            "_model_module": "@jupyter-widgets/controls",
            "_model_module_version": "1.5.0",
            "_model_name": "HTMLModel",
            "_view_count": null,
            "_view_module": "@jupyter-widgets/controls",
            "_view_module_version": "1.5.0",
            "_view_name": "HTMLView",
            "description": "",
            "description_tooltip": null,
            "layout": "IPY_MODEL_47f976d1e3944deba7297d75134d6800",
            "placeholder": "​",
            "style": "IPY_MODEL_19dd498792954340bbd443e72349faa9",
            "value": "source.spm: 100%"
          }
        },
        "9fdeda17eec949108a0bced2fd0eeebc": {
          "model_module": "@jupyter-widgets/controls",
          "model_name": "FloatProgressModel",
          "model_module_version": "1.5.0",
          "state": {
            "_dom_classes": [],
            "_model_module": "@jupyter-widgets/controls",
            "_model_module_version": "1.5.0",
            "_model_name": "FloatProgressModel",
            "_view_count": null,
            "_view_module": "@jupyter-widgets/controls",
            "_view_module_version": "1.5.0",
            "_view_name": "ProgressView",
            "bar_style": "success",
            "description": "",
            "description_tooltip": null,
            "layout": "IPY_MODEL_96175416f0774bd1b59cba27b590a37e",
            "max": 778395,
            "min": 0,
            "orientation": "horizontal",
            "style": "IPY_MODEL_59f59a50cad3403ba14ea5c48e65ce65",
            "value": 778395
          }
        },
        "5cdcd1dd4f2440c69bd4d9c877c67c7f": {
          "model_module": "@jupyter-widgets/controls",
          "model_name": "HTMLModel",
          "model_module_version": "1.5.0",
          "state": {
            "_dom_classes": [],
            "_model_module": "@jupyter-widgets/controls",
            "_model_module_version": "1.5.0",
            "_model_name": "HTMLModel",
            "_view_count": null,
            "_view_module": "@jupyter-widgets/controls",
            "_view_module_version": "1.5.0",
            "_view_name": "HTMLView",
            "description": "",
            "description_tooltip": null,
            "layout": "IPY_MODEL_2cb0e82a92b34e3c88ba16165a29ab05",
            "placeholder": "​",
            "style": "IPY_MODEL_50f1d4be4ccc4bebaec7a40a8144243e",
            "value": " 778k/778k [00:00&lt;00:00, 3.70MB/s]"
          }
        },
        "b87d602e3ef74a0090b49850970d5512": {
          "model_module": "@jupyter-widgets/base",
          "model_name": "LayoutModel",
          "model_module_version": "1.2.0",
          "state": {
            "_model_module": "@jupyter-widgets/base",
            "_model_module_version": "1.2.0",
            "_model_name": "LayoutModel",
            "_view_count": null,
            "_view_module": "@jupyter-widgets/base",
            "_view_module_version": "1.2.0",
            "_view_name": "LayoutView",
            "align_content": null,
            "align_items": null,
            "align_self": null,
            "border": null,
            "bottom": null,
            "display": null,
            "flex": null,
            "flex_flow": null,
            "grid_area": null,
            "grid_auto_columns": null,
            "grid_auto_flow": null,
            "grid_auto_rows": null,
            "grid_column": null,
            "grid_gap": null,
            "grid_row": null,
            "grid_template_areas": null,
            "grid_template_columns": null,
            "grid_template_rows": null,
            "height": null,
            "justify_content": null,
            "justify_items": null,
            "left": null,
            "margin": null,
            "max_height": null,
            "max_width": null,
            "min_height": null,
            "min_width": null,
            "object_fit": null,
            "object_position": null,
            "order": null,
            "overflow": null,
            "overflow_x": null,
            "overflow_y": null,
            "padding": null,
            "right": null,
            "top": null,
            "visibility": null,
            "width": null
          }
        },
        "47f976d1e3944deba7297d75134d6800": {
          "model_module": "@jupyter-widgets/base",
          "model_name": "LayoutModel",
          "model_module_version": "1.2.0",
          "state": {
            "_model_module": "@jupyter-widgets/base",
            "_model_module_version": "1.2.0",
            "_model_name": "LayoutModel",
            "_view_count": null,
            "_view_module": "@jupyter-widgets/base",
            "_view_module_version": "1.2.0",
            "_view_name": "LayoutView",
            "align_content": null,
            "align_items": null,
            "align_self": null,
            "border": null,
            "bottom": null,
            "display": null,
            "flex": null,
            "flex_flow": null,
            "grid_area": null,
            "grid_auto_columns": null,
            "grid_auto_flow": null,
            "grid_auto_rows": null,
            "grid_column": null,
            "grid_gap": null,
            "grid_row": null,
            "grid_template_areas": null,
            "grid_template_columns": null,
            "grid_template_rows": null,
            "height": null,
            "justify_content": null,
            "justify_items": null,
            "left": null,
            "margin": null,
            "max_height": null,
            "max_width": null,
            "min_height": null,
            "min_width": null,
            "object_fit": null,
            "object_position": null,
            "order": null,
            "overflow": null,
            "overflow_x": null,
            "overflow_y": null,
            "padding": null,
            "right": null,
            "top": null,
            "visibility": null,
            "width": null
          }
        },
        "19dd498792954340bbd443e72349faa9": {
          "model_module": "@jupyter-widgets/controls",
          "model_name": "DescriptionStyleModel",
          "model_module_version": "1.5.0",
          "state": {
            "_model_module": "@jupyter-widgets/controls",
            "_model_module_version": "1.5.0",
            "_model_name": "DescriptionStyleModel",
            "_view_count": null,
            "_view_module": "@jupyter-widgets/base",
            "_view_module_version": "1.2.0",
            "_view_name": "StyleView",
            "description_width": ""
          }
        },
        "96175416f0774bd1b59cba27b590a37e": {
          "model_module": "@jupyter-widgets/base",
          "model_name": "LayoutModel",
          "model_module_version": "1.2.0",
          "state": {
            "_model_module": "@jupyter-widgets/base",
            "_model_module_version": "1.2.0",
            "_model_name": "LayoutModel",
            "_view_count": null,
            "_view_module": "@jupyter-widgets/base",
            "_view_module_version": "1.2.0",
            "_view_name": "LayoutView",
            "align_content": null,
            "align_items": null,
            "align_self": null,
            "border": null,
            "bottom": null,
            "display": null,
            "flex": null,
            "flex_flow": null,
            "grid_area": null,
            "grid_auto_columns": null,
            "grid_auto_flow": null,
            "grid_auto_rows": null,
            "grid_column": null,
            "grid_gap": null,
            "grid_row": null,
            "grid_template_areas": null,
            "grid_template_columns": null,
            "grid_template_rows": null,
            "height": null,
            "justify_content": null,
            "justify_items": null,
            "left": null,
            "margin": null,
            "max_height": null,
            "max_width": null,
            "min_height": null,
            "min_width": null,
            "object_fit": null,
            "object_position": null,
            "order": null,
            "overflow": null,
            "overflow_x": null,
            "overflow_y": null,
            "padding": null,
            "right": null,
            "top": null,
            "visibility": null,
            "width": null
          }
        },
        "59f59a50cad3403ba14ea5c48e65ce65": {
          "model_module": "@jupyter-widgets/controls",
          "model_name": "ProgressStyleModel",
          "model_module_version": "1.5.0",
          "state": {
            "_model_module": "@jupyter-widgets/controls",
            "_model_module_version": "1.5.0",
            "_model_name": "ProgressStyleModel",
            "_view_count": null,
            "_view_module": "@jupyter-widgets/base",
            "_view_module_version": "1.2.0",
            "_view_name": "StyleView",
            "bar_color": null,
            "description_width": ""
          }
        },
        "2cb0e82a92b34e3c88ba16165a29ab05": {
          "model_module": "@jupyter-widgets/base",
          "model_name": "LayoutModel",
          "model_module_version": "1.2.0",
          "state": {
            "_model_module": "@jupyter-widgets/base",
            "_model_module_version": "1.2.0",
            "_model_name": "LayoutModel",
            "_view_count": null,
            "_view_module": "@jupyter-widgets/base",
            "_view_module_version": "1.2.0",
            "_view_name": "LayoutView",
            "align_content": null,
            "align_items": null,
            "align_self": null,
            "border": null,
            "bottom": null,
            "display": null,
            "flex": null,
            "flex_flow": null,
            "grid_area": null,
            "grid_auto_columns": null,
            "grid_auto_flow": null,
            "grid_auto_rows": null,
            "grid_column": null,
            "grid_gap": null,
            "grid_row": null,
            "grid_template_areas": null,
            "grid_template_columns": null,
            "grid_template_rows": null,
            "height": null,
            "justify_content": null,
            "justify_items": null,
            "left": null,
            "margin": null,
            "max_height": null,
            "max_width": null,
            "min_height": null,
            "min_width": null,
            "object_fit": null,
            "object_position": null,
            "order": null,
            "overflow": null,
            "overflow_x": null,
            "overflow_y": null,
            "padding": null,
            "right": null,
            "top": null,
            "visibility": null,
            "width": null
          }
        },
        "50f1d4be4ccc4bebaec7a40a8144243e": {
          "model_module": "@jupyter-widgets/controls",
          "model_name": "DescriptionStyleModel",
          "model_module_version": "1.5.0",
          "state": {
            "_model_module": "@jupyter-widgets/controls",
            "_model_module_version": "1.5.0",
            "_model_name": "DescriptionStyleModel",
            "_view_count": null,
            "_view_module": "@jupyter-widgets/base",
            "_view_module_version": "1.2.0",
            "_view_name": "StyleView",
            "description_width": ""
          }
        },
        "2fafab067d004527804fee6df11349bb": {
          "model_module": "@jupyter-widgets/controls",
          "model_name": "HBoxModel",
          "model_module_version": "1.5.0",
          "state": {
            "_dom_classes": [],
            "_model_module": "@jupyter-widgets/controls",
            "_model_module_version": "1.5.0",
            "_model_name": "HBoxModel",
            "_view_count": null,
            "_view_module": "@jupyter-widgets/controls",
            "_view_module_version": "1.5.0",
            "_view_name": "HBoxView",
            "box_style": "",
            "children": [
              "IPY_MODEL_cff71c2636544461b55b3ade0f664155",
              "IPY_MODEL_54cc7f8eb7404908bac4fb8002d295e6",
              "IPY_MODEL_93eccb3b7bcc4cf7bb29c2b1f3628975"
            ],
            "layout": "IPY_MODEL_5bf121c824044f7fb575847bd10dca74"
          }
        },
        "cff71c2636544461b55b3ade0f664155": {
          "model_module": "@jupyter-widgets/controls",
          "model_name": "HTMLModel",
          "model_module_version": "1.5.0",
          "state": {
            "_dom_classes": [],
            "_model_module": "@jupyter-widgets/controls",
            "_model_module_version": "1.5.0",
            "_model_name": "HTMLModel",
            "_view_count": null,
            "_view_module": "@jupyter-widgets/controls",
            "_view_module_version": "1.5.0",
            "_view_name": "HTMLView",
            "description": "",
            "description_tooltip": null,
            "layout": "IPY_MODEL_06bc6b500ea1476b8ba1f99db260439c",
            "placeholder": "​",
            "style": "IPY_MODEL_9476cad8c72a41c989d6e9f24edce87a",
            "value": "target.spm: 100%"
          }
        },
        "54cc7f8eb7404908bac4fb8002d295e6": {
          "model_module": "@jupyter-widgets/controls",
          "model_name": "FloatProgressModel",
          "model_module_version": "1.5.0",
          "state": {
            "_dom_classes": [],
            "_model_module": "@jupyter-widgets/controls",
            "_model_module_version": "1.5.0",
            "_model_name": "FloatProgressModel",
            "_view_count": null,
            "_view_module": "@jupyter-widgets/controls",
            "_view_module_version": "1.5.0",
            "_view_name": "ProgressView",
            "bar_style": "success",
            "description": "",
            "description_tooltip": null,
            "layout": "IPY_MODEL_f824193ef7a249f0a1bf79a97d8c99b0",
            "max": 802397,
            "min": 0,
            "orientation": "horizontal",
            "style": "IPY_MODEL_be63e40204284b19b2da5aec12643950",
            "value": 802397
          }
        },
        "93eccb3b7bcc4cf7bb29c2b1f3628975": {
          "model_module": "@jupyter-widgets/controls",
          "model_name": "HTMLModel",
          "model_module_version": "1.5.0",
          "state": {
            "_dom_classes": [],
            "_model_module": "@jupyter-widgets/controls",
            "_model_module_version": "1.5.0",
            "_model_name": "HTMLModel",
            "_view_count": null,
            "_view_module": "@jupyter-widgets/controls",
            "_view_module_version": "1.5.0",
            "_view_name": "HTMLView",
            "description": "",
            "description_tooltip": null,
            "layout": "IPY_MODEL_0529f78b2b9446a8938c04dae2eda37d",
            "placeholder": "​",
            "style": "IPY_MODEL_5c9da9e44b164380a6f1761014224dd9",
            "value": " 802k/802k [00:00&lt;00:00, 7.41MB/s]"
          }
        },
        "5bf121c824044f7fb575847bd10dca74": {
          "model_module": "@jupyter-widgets/base",
          "model_name": "LayoutModel",
          "model_module_version": "1.2.0",
          "state": {
            "_model_module": "@jupyter-widgets/base",
            "_model_module_version": "1.2.0",
            "_model_name": "LayoutModel",
            "_view_count": null,
            "_view_module": "@jupyter-widgets/base",
            "_view_module_version": "1.2.0",
            "_view_name": "LayoutView",
            "align_content": null,
            "align_items": null,
            "align_self": null,
            "border": null,
            "bottom": null,
            "display": null,
            "flex": null,
            "flex_flow": null,
            "grid_area": null,
            "grid_auto_columns": null,
            "grid_auto_flow": null,
            "grid_auto_rows": null,
            "grid_column": null,
            "grid_gap": null,
            "grid_row": null,
            "grid_template_areas": null,
            "grid_template_columns": null,
            "grid_template_rows": null,
            "height": null,
            "justify_content": null,
            "justify_items": null,
            "left": null,
            "margin": null,
            "max_height": null,
            "max_width": null,
            "min_height": null,
            "min_width": null,
            "object_fit": null,
            "object_position": null,
            "order": null,
            "overflow": null,
            "overflow_x": null,
            "overflow_y": null,
            "padding": null,
            "right": null,
            "top": null,
            "visibility": null,
            "width": null
          }
        },
        "06bc6b500ea1476b8ba1f99db260439c": {
          "model_module": "@jupyter-widgets/base",
          "model_name": "LayoutModel",
          "model_module_version": "1.2.0",
          "state": {
            "_model_module": "@jupyter-widgets/base",
            "_model_module_version": "1.2.0",
            "_model_name": "LayoutModel",
            "_view_count": null,
            "_view_module": "@jupyter-widgets/base",
            "_view_module_version": "1.2.0",
            "_view_name": "LayoutView",
            "align_content": null,
            "align_items": null,
            "align_self": null,
            "border": null,
            "bottom": null,
            "display": null,
            "flex": null,
            "flex_flow": null,
            "grid_area": null,
            "grid_auto_columns": null,
            "grid_auto_flow": null,
            "grid_auto_rows": null,
            "grid_column": null,
            "grid_gap": null,
            "grid_row": null,
            "grid_template_areas": null,
            "grid_template_columns": null,
            "grid_template_rows": null,
            "height": null,
            "justify_content": null,
            "justify_items": null,
            "left": null,
            "margin": null,
            "max_height": null,
            "max_width": null,
            "min_height": null,
            "min_width": null,
            "object_fit": null,
            "object_position": null,
            "order": null,
            "overflow": null,
            "overflow_x": null,
            "overflow_y": null,
            "padding": null,
            "right": null,
            "top": null,
            "visibility": null,
            "width": null
          }
        },
        "9476cad8c72a41c989d6e9f24edce87a": {
          "model_module": "@jupyter-widgets/controls",
          "model_name": "DescriptionStyleModel",
          "model_module_version": "1.5.0",
          "state": {
            "_model_module": "@jupyter-widgets/controls",
            "_model_module_version": "1.5.0",
            "_model_name": "DescriptionStyleModel",
            "_view_count": null,
            "_view_module": "@jupyter-widgets/base",
            "_view_module_version": "1.2.0",
            "_view_name": "StyleView",
            "description_width": ""
          }
        },
        "f824193ef7a249f0a1bf79a97d8c99b0": {
          "model_module": "@jupyter-widgets/base",
          "model_name": "LayoutModel",
          "model_module_version": "1.2.0",
          "state": {
            "_model_module": "@jupyter-widgets/base",
            "_model_module_version": "1.2.0",
            "_model_name": "LayoutModel",
            "_view_count": null,
            "_view_module": "@jupyter-widgets/base",
            "_view_module_version": "1.2.0",
            "_view_name": "LayoutView",
            "align_content": null,
            "align_items": null,
            "align_self": null,
            "border": null,
            "bottom": null,
            "display": null,
            "flex": null,
            "flex_flow": null,
            "grid_area": null,
            "grid_auto_columns": null,
            "grid_auto_flow": null,
            "grid_auto_rows": null,
            "grid_column": null,
            "grid_gap": null,
            "grid_row": null,
            "grid_template_areas": null,
            "grid_template_columns": null,
            "grid_template_rows": null,
            "height": null,
            "justify_content": null,
            "justify_items": null,
            "left": null,
            "margin": null,
            "max_height": null,
            "max_width": null,
            "min_height": null,
            "min_width": null,
            "object_fit": null,
            "object_position": null,
            "order": null,
            "overflow": null,
            "overflow_x": null,
            "overflow_y": null,
            "padding": null,
            "right": null,
            "top": null,
            "visibility": null,
            "width": null
          }
        },
        "be63e40204284b19b2da5aec12643950": {
          "model_module": "@jupyter-widgets/controls",
          "model_name": "ProgressStyleModel",
          "model_module_version": "1.5.0",
          "state": {
            "_model_module": "@jupyter-widgets/controls",
            "_model_module_version": "1.5.0",
            "_model_name": "ProgressStyleModel",
            "_view_count": null,
            "_view_module": "@jupyter-widgets/base",
            "_view_module_version": "1.2.0",
            "_view_name": "StyleView",
            "bar_color": null,
            "description_width": ""
          }
        },
        "0529f78b2b9446a8938c04dae2eda37d": {
          "model_module": "@jupyter-widgets/base",
          "model_name": "LayoutModel",
          "model_module_version": "1.2.0",
          "state": {
            "_model_module": "@jupyter-widgets/base",
            "_model_module_version": "1.2.0",
            "_model_name": "LayoutModel",
            "_view_count": null,
            "_view_module": "@jupyter-widgets/base",
            "_view_module_version": "1.2.0",
            "_view_name": "LayoutView",
            "align_content": null,
            "align_items": null,
            "align_self": null,
            "border": null,
            "bottom": null,
            "display": null,
            "flex": null,
            "flex_flow": null,
            "grid_area": null,
            "grid_auto_columns": null,
            "grid_auto_flow": null,
            "grid_auto_rows": null,
            "grid_column": null,
            "grid_gap": null,
            "grid_row": null,
            "grid_template_areas": null,
            "grid_template_columns": null,
            "grid_template_rows": null,
            "height": null,
            "justify_content": null,
            "justify_items": null,
            "left": null,
            "margin": null,
            "max_height": null,
            "max_width": null,
            "min_height": null,
            "min_width": null,
            "object_fit": null,
            "object_position": null,
            "order": null,
            "overflow": null,
            "overflow_x": null,
            "overflow_y": null,
            "padding": null,
            "right": null,
            "top": null,
            "visibility": null,
            "width": null
          }
        },
        "5c9da9e44b164380a6f1761014224dd9": {
          "model_module": "@jupyter-widgets/controls",
          "model_name": "DescriptionStyleModel",
          "model_module_version": "1.5.0",
          "state": {
            "_model_module": "@jupyter-widgets/controls",
            "_model_module_version": "1.5.0",
            "_model_name": "DescriptionStyleModel",
            "_view_count": null,
            "_view_module": "@jupyter-widgets/base",
            "_view_module_version": "1.2.0",
            "_view_name": "StyleView",
            "description_width": ""
          }
        },
        "1b66c017cbc24a128d4c44ced938901d": {
          "model_module": "@jupyter-widgets/controls",
          "model_name": "HBoxModel",
          "model_module_version": "1.5.0",
          "state": {
            "_dom_classes": [],
            "_model_module": "@jupyter-widgets/controls",
            "_model_module_version": "1.5.0",
            "_model_name": "HBoxModel",
            "_view_count": null,
            "_view_module": "@jupyter-widgets/controls",
            "_view_module_version": "1.5.0",
            "_view_name": "HBoxView",
            "box_style": "",
            "children": [
              "IPY_MODEL_47006d41df71415ca3699a3bc9026195",
              "IPY_MODEL_0b6bc8e435ae471da04701b5336c867c",
              "IPY_MODEL_36c7f66e98014b0fabe6cde4b35c6479"
            ],
            "layout": "IPY_MODEL_0ac3cd8c614742febd379df26dd41be6"
          }
        },
        "47006d41df71415ca3699a3bc9026195": {
          "model_module": "@jupyter-widgets/controls",
          "model_name": "HTMLModel",
          "model_module_version": "1.5.0",
          "state": {
            "_dom_classes": [],
            "_model_module": "@jupyter-widgets/controls",
            "_model_module_version": "1.5.0",
            "_model_name": "HTMLModel",
            "_view_count": null,
            "_view_module": "@jupyter-widgets/controls",
            "_view_module_version": "1.5.0",
            "_view_name": "HTMLView",
            "description": "",
            "description_tooltip": null,
            "layout": "IPY_MODEL_8d8b584ee21e4491bf545d9f1d224978",
            "placeholder": "​",
            "style": "IPY_MODEL_948ae4144001427788249c8e594fa857",
            "value": "vocab.json: 100%"
          }
        },
        "0b6bc8e435ae471da04701b5336c867c": {
          "model_module": "@jupyter-widgets/controls",
          "model_name": "FloatProgressModel",
          "model_module_version": "1.5.0",
          "state": {
            "_dom_classes": [],
            "_model_module": "@jupyter-widgets/controls",
            "_model_module_version": "1.5.0",
            "_model_name": "FloatProgressModel",
            "_view_count": null,
            "_view_module": "@jupyter-widgets/controls",
            "_view_module_version": "1.5.0",
            "_view_name": "ProgressView",
            "bar_style": "success",
            "description": "",
            "description_tooltip": null,
            "layout": "IPY_MODEL_8bee312b608c4c5a9454c6e78ca6bf95",
            "max": 1339166,
            "min": 0,
            "orientation": "horizontal",
            "style": "IPY_MODEL_4b86a274c32c444f9ec898302a0d8ed9",
            "value": 1339166
          }
        },
        "36c7f66e98014b0fabe6cde4b35c6479": {
          "model_module": "@jupyter-widgets/controls",
          "model_name": "HTMLModel",
          "model_module_version": "1.5.0",
          "state": {
            "_dom_classes": [],
            "_model_module": "@jupyter-widgets/controls",
            "_model_module_version": "1.5.0",
            "_model_name": "HTMLModel",
            "_view_count": null,
            "_view_module": "@jupyter-widgets/controls",
            "_view_module_version": "1.5.0",
            "_view_name": "HTMLView",
            "description": "",
            "description_tooltip": null,
            "layout": "IPY_MODEL_b9749002358e4b4b8f401c56a766256a",
            "placeholder": "​",
            "style": "IPY_MODEL_575c1d283d9e4a57b37e452e51dfaf24",
            "value": " 1.34M/1.34M [00:00&lt;00:00, 8.04MB/s]"
          }
        },
        "0ac3cd8c614742febd379df26dd41be6": {
          "model_module": "@jupyter-widgets/base",
          "model_name": "LayoutModel",
          "model_module_version": "1.2.0",
          "state": {
            "_model_module": "@jupyter-widgets/base",
            "_model_module_version": "1.2.0",
            "_model_name": "LayoutModel",
            "_view_count": null,
            "_view_module": "@jupyter-widgets/base",
            "_view_module_version": "1.2.0",
            "_view_name": "LayoutView",
            "align_content": null,
            "align_items": null,
            "align_self": null,
            "border": null,
            "bottom": null,
            "display": null,
            "flex": null,
            "flex_flow": null,
            "grid_area": null,
            "grid_auto_columns": null,
            "grid_auto_flow": null,
            "grid_auto_rows": null,
            "grid_column": null,
            "grid_gap": null,
            "grid_row": null,
            "grid_template_areas": null,
            "grid_template_columns": null,
            "grid_template_rows": null,
            "height": null,
            "justify_content": null,
            "justify_items": null,
            "left": null,
            "margin": null,
            "max_height": null,
            "max_width": null,
            "min_height": null,
            "min_width": null,
            "object_fit": null,
            "object_position": null,
            "order": null,
            "overflow": null,
            "overflow_x": null,
            "overflow_y": null,
            "padding": null,
            "right": null,
            "top": null,
            "visibility": null,
            "width": null
          }
        },
        "8d8b584ee21e4491bf545d9f1d224978": {
          "model_module": "@jupyter-widgets/base",
          "model_name": "LayoutModel",
          "model_module_version": "1.2.0",
          "state": {
            "_model_module": "@jupyter-widgets/base",
            "_model_module_version": "1.2.0",
            "_model_name": "LayoutModel",
            "_view_count": null,
            "_view_module": "@jupyter-widgets/base",
            "_view_module_version": "1.2.0",
            "_view_name": "LayoutView",
            "align_content": null,
            "align_items": null,
            "align_self": null,
            "border": null,
            "bottom": null,
            "display": null,
            "flex": null,
            "flex_flow": null,
            "grid_area": null,
            "grid_auto_columns": null,
            "grid_auto_flow": null,
            "grid_auto_rows": null,
            "grid_column": null,
            "grid_gap": null,
            "grid_row": null,
            "grid_template_areas": null,
            "grid_template_columns": null,
            "grid_template_rows": null,
            "height": null,
            "justify_content": null,
            "justify_items": null,
            "left": null,
            "margin": null,
            "max_height": null,
            "max_width": null,
            "min_height": null,
            "min_width": null,
            "object_fit": null,
            "object_position": null,
            "order": null,
            "overflow": null,
            "overflow_x": null,
            "overflow_y": null,
            "padding": null,
            "right": null,
            "top": null,
            "visibility": null,
            "width": null
          }
        },
        "948ae4144001427788249c8e594fa857": {
          "model_module": "@jupyter-widgets/controls",
          "model_name": "DescriptionStyleModel",
          "model_module_version": "1.5.0",
          "state": {
            "_model_module": "@jupyter-widgets/controls",
            "_model_module_version": "1.5.0",
            "_model_name": "DescriptionStyleModel",
            "_view_count": null,
            "_view_module": "@jupyter-widgets/base",
            "_view_module_version": "1.2.0",
            "_view_name": "StyleView",
            "description_width": ""
          }
        },
        "8bee312b608c4c5a9454c6e78ca6bf95": {
          "model_module": "@jupyter-widgets/base",
          "model_name": "LayoutModel",
          "model_module_version": "1.2.0",
          "state": {
            "_model_module": "@jupyter-widgets/base",
            "_model_module_version": "1.2.0",
            "_model_name": "LayoutModel",
            "_view_count": null,
            "_view_module": "@jupyter-widgets/base",
            "_view_module_version": "1.2.0",
            "_view_name": "LayoutView",
            "align_content": null,
            "align_items": null,
            "align_self": null,
            "border": null,
            "bottom": null,
            "display": null,
            "flex": null,
            "flex_flow": null,
            "grid_area": null,
            "grid_auto_columns": null,
            "grid_auto_flow": null,
            "grid_auto_rows": null,
            "grid_column": null,
            "grid_gap": null,
            "grid_row": null,
            "grid_template_areas": null,
            "grid_template_columns": null,
            "grid_template_rows": null,
            "height": null,
            "justify_content": null,
            "justify_items": null,
            "left": null,
            "margin": null,
            "max_height": null,
            "max_width": null,
            "min_height": null,
            "min_width": null,
            "object_fit": null,
            "object_position": null,
            "order": null,
            "overflow": null,
            "overflow_x": null,
            "overflow_y": null,
            "padding": null,
            "right": null,
            "top": null,
            "visibility": null,
            "width": null
          }
        },
        "4b86a274c32c444f9ec898302a0d8ed9": {
          "model_module": "@jupyter-widgets/controls",
          "model_name": "ProgressStyleModel",
          "model_module_version": "1.5.0",
          "state": {
            "_model_module": "@jupyter-widgets/controls",
            "_model_module_version": "1.5.0",
            "_model_name": "ProgressStyleModel",
            "_view_count": null,
            "_view_module": "@jupyter-widgets/base",
            "_view_module_version": "1.2.0",
            "_view_name": "StyleView",
            "bar_color": null,
            "description_width": ""
          }
        },
        "b9749002358e4b4b8f401c56a766256a": {
          "model_module": "@jupyter-widgets/base",
          "model_name": "LayoutModel",
          "model_module_version": "1.2.0",
          "state": {
            "_model_module": "@jupyter-widgets/base",
            "_model_module_version": "1.2.0",
            "_model_name": "LayoutModel",
            "_view_count": null,
            "_view_module": "@jupyter-widgets/base",
            "_view_module_version": "1.2.0",
            "_view_name": "LayoutView",
            "align_content": null,
            "align_items": null,
            "align_self": null,
            "border": null,
            "bottom": null,
            "display": null,
            "flex": null,
            "flex_flow": null,
            "grid_area": null,
            "grid_auto_columns": null,
            "grid_auto_flow": null,
            "grid_auto_rows": null,
            "grid_column": null,
            "grid_gap": null,
            "grid_row": null,
            "grid_template_areas": null,
            "grid_template_columns": null,
            "grid_template_rows": null,
            "height": null,
            "justify_content": null,
            "justify_items": null,
            "left": null,
            "margin": null,
            "max_height": null,
            "max_width": null,
            "min_height": null,
            "min_width": null,
            "object_fit": null,
            "object_position": null,
            "order": null,
            "overflow": null,
            "overflow_x": null,
            "overflow_y": null,
            "padding": null,
            "right": null,
            "top": null,
            "visibility": null,
            "width": null
          }
        },
        "575c1d283d9e4a57b37e452e51dfaf24": {
          "model_module": "@jupyter-widgets/controls",
          "model_name": "DescriptionStyleModel",
          "model_module_version": "1.5.0",
          "state": {
            "_model_module": "@jupyter-widgets/controls",
            "_model_module_version": "1.5.0",
            "_model_name": "DescriptionStyleModel",
            "_view_count": null,
            "_view_module": "@jupyter-widgets/base",
            "_view_module_version": "1.2.0",
            "_view_name": "StyleView",
            "description_width": ""
          }
        },
        "0b6dcff66b074641acf2f893a253b5d5": {
          "model_module": "@jupyter-widgets/controls",
          "model_name": "HBoxModel",
          "model_module_version": "1.5.0",
          "state": {
            "_dom_classes": [],
            "_model_module": "@jupyter-widgets/controls",
            "_model_module_version": "1.5.0",
            "_model_name": "HBoxModel",
            "_view_count": null,
            "_view_module": "@jupyter-widgets/controls",
            "_view_module_version": "1.5.0",
            "_view_name": "HBoxView",
            "box_style": "",
            "children": [
              "IPY_MODEL_e1f403a693de429a8a23ad859d924b35",
              "IPY_MODEL_f380e91d4d844fefabcc9f8ba0309956",
              "IPY_MODEL_2056090dca7646d69a336d767f2120d4"
            ],
            "layout": "IPY_MODEL_e68d0915b01c4c908d95b96c7bbec8b4"
          }
        },
        "e1f403a693de429a8a23ad859d924b35": {
          "model_module": "@jupyter-widgets/controls",
          "model_name": "HTMLModel",
          "model_module_version": "1.5.0",
          "state": {
            "_dom_classes": [],
            "_model_module": "@jupyter-widgets/controls",
            "_model_module_version": "1.5.0",
            "_model_name": "HTMLModel",
            "_view_count": null,
            "_view_module": "@jupyter-widgets/controls",
            "_view_module_version": "1.5.0",
            "_view_name": "HTMLView",
            "description": "",
            "description_tooltip": null,
            "layout": "IPY_MODEL_1730197dfd0f40438b69bc9ed71a14c4",
            "placeholder": "​",
            "style": "IPY_MODEL_a8ef2599f8054d8e8ec47f6979a7c495",
            "value": "Map: 100%"
          }
        },
        "f380e91d4d844fefabcc9f8ba0309956": {
          "model_module": "@jupyter-widgets/controls",
          "model_name": "FloatProgressModel",
          "model_module_version": "1.5.0",
          "state": {
            "_dom_classes": [],
            "_model_module": "@jupyter-widgets/controls",
            "_model_module_version": "1.5.0",
            "_model_name": "FloatProgressModel",
            "_view_count": null,
            "_view_module": "@jupyter-widgets/controls",
            "_view_module_version": "1.5.0",
            "_view_name": "ProgressView",
            "bar_style": "success",
            "description": "",
            "description_tooltip": null,
            "layout": "IPY_MODEL_52e28d684e434327bf5a09cea789c133",
            "max": 750,
            "min": 0,
            "orientation": "horizontal",
            "style": "IPY_MODEL_e5a8b7c3bf5248adac99b49f2b47fb6c",
            "value": 750
          }
        },
        "2056090dca7646d69a336d767f2120d4": {
          "model_module": "@jupyter-widgets/controls",
          "model_name": "HTMLModel",
          "model_module_version": "1.5.0",
          "state": {
            "_dom_classes": [],
            "_model_module": "@jupyter-widgets/controls",
            "_model_module_version": "1.5.0",
            "_model_name": "HTMLModel",
            "_view_count": null,
            "_view_module": "@jupyter-widgets/controls",
            "_view_module_version": "1.5.0",
            "_view_name": "HTMLView",
            "description": "",
            "description_tooltip": null,
            "layout": "IPY_MODEL_5aa74776decd4dc9b0e5359ac4ed2f2f",
            "placeholder": "​",
            "style": "IPY_MODEL_71e00ee6dca24d04957e09be7f9514e7",
            "value": " 750/750 [00:00&lt;00:00, 2227.90 examples/s]"
          }
        },
        "e68d0915b01c4c908d95b96c7bbec8b4": {
          "model_module": "@jupyter-widgets/base",
          "model_name": "LayoutModel",
          "model_module_version": "1.2.0",
          "state": {
            "_model_module": "@jupyter-widgets/base",
            "_model_module_version": "1.2.0",
            "_model_name": "LayoutModel",
            "_view_count": null,
            "_view_module": "@jupyter-widgets/base",
            "_view_module_version": "1.2.0",
            "_view_name": "LayoutView",
            "align_content": null,
            "align_items": null,
            "align_self": null,
            "border": null,
            "bottom": null,
            "display": null,
            "flex": null,
            "flex_flow": null,
            "grid_area": null,
            "grid_auto_columns": null,
            "grid_auto_flow": null,
            "grid_auto_rows": null,
            "grid_column": null,
            "grid_gap": null,
            "grid_row": null,
            "grid_template_areas": null,
            "grid_template_columns": null,
            "grid_template_rows": null,
            "height": null,
            "justify_content": null,
            "justify_items": null,
            "left": null,
            "margin": null,
            "max_height": null,
            "max_width": null,
            "min_height": null,
            "min_width": null,
            "object_fit": null,
            "object_position": null,
            "order": null,
            "overflow": null,
            "overflow_x": null,
            "overflow_y": null,
            "padding": null,
            "right": null,
            "top": null,
            "visibility": null,
            "width": null
          }
        },
        "1730197dfd0f40438b69bc9ed71a14c4": {
          "model_module": "@jupyter-widgets/base",
          "model_name": "LayoutModel",
          "model_module_version": "1.2.0",
          "state": {
            "_model_module": "@jupyter-widgets/base",
            "_model_module_version": "1.2.0",
            "_model_name": "LayoutModel",
            "_view_count": null,
            "_view_module": "@jupyter-widgets/base",
            "_view_module_version": "1.2.0",
            "_view_name": "LayoutView",
            "align_content": null,
            "align_items": null,
            "align_self": null,
            "border": null,
            "bottom": null,
            "display": null,
            "flex": null,
            "flex_flow": null,
            "grid_area": null,
            "grid_auto_columns": null,
            "grid_auto_flow": null,
            "grid_auto_rows": null,
            "grid_column": null,
            "grid_gap": null,
            "grid_row": null,
            "grid_template_areas": null,
            "grid_template_columns": null,
            "grid_template_rows": null,
            "height": null,
            "justify_content": null,
            "justify_items": null,
            "left": null,
            "margin": null,
            "max_height": null,
            "max_width": null,
            "min_height": null,
            "min_width": null,
            "object_fit": null,
            "object_position": null,
            "order": null,
            "overflow": null,
            "overflow_x": null,
            "overflow_y": null,
            "padding": null,
            "right": null,
            "top": null,
            "visibility": null,
            "width": null
          }
        },
        "a8ef2599f8054d8e8ec47f6979a7c495": {
          "model_module": "@jupyter-widgets/controls",
          "model_name": "DescriptionStyleModel",
          "model_module_version": "1.5.0",
          "state": {
            "_model_module": "@jupyter-widgets/controls",
            "_model_module_version": "1.5.0",
            "_model_name": "DescriptionStyleModel",
            "_view_count": null,
            "_view_module": "@jupyter-widgets/base",
            "_view_module_version": "1.2.0",
            "_view_name": "StyleView",
            "description_width": ""
          }
        },
        "52e28d684e434327bf5a09cea789c133": {
          "model_module": "@jupyter-widgets/base",
          "model_name": "LayoutModel",
          "model_module_version": "1.2.0",
          "state": {
            "_model_module": "@jupyter-widgets/base",
            "_model_module_version": "1.2.0",
            "_model_name": "LayoutModel",
            "_view_count": null,
            "_view_module": "@jupyter-widgets/base",
            "_view_module_version": "1.2.0",
            "_view_name": "LayoutView",
            "align_content": null,
            "align_items": null,
            "align_self": null,
            "border": null,
            "bottom": null,
            "display": null,
            "flex": null,
            "flex_flow": null,
            "grid_area": null,
            "grid_auto_columns": null,
            "grid_auto_flow": null,
            "grid_auto_rows": null,
            "grid_column": null,
            "grid_gap": null,
            "grid_row": null,
            "grid_template_areas": null,
            "grid_template_columns": null,
            "grid_template_rows": null,
            "height": null,
            "justify_content": null,
            "justify_items": null,
            "left": null,
            "margin": null,
            "max_height": null,
            "max_width": null,
            "min_height": null,
            "min_width": null,
            "object_fit": null,
            "object_position": null,
            "order": null,
            "overflow": null,
            "overflow_x": null,
            "overflow_y": null,
            "padding": null,
            "right": null,
            "top": null,
            "visibility": null,
            "width": null
          }
        },
        "e5a8b7c3bf5248adac99b49f2b47fb6c": {
          "model_module": "@jupyter-widgets/controls",
          "model_name": "ProgressStyleModel",
          "model_module_version": "1.5.0",
          "state": {
            "_model_module": "@jupyter-widgets/controls",
            "_model_module_version": "1.5.0",
            "_model_name": "ProgressStyleModel",
            "_view_count": null,
            "_view_module": "@jupyter-widgets/base",
            "_view_module_version": "1.2.0",
            "_view_name": "StyleView",
            "bar_color": null,
            "description_width": ""
          }
        },
        "5aa74776decd4dc9b0e5359ac4ed2f2f": {
          "model_module": "@jupyter-widgets/base",
          "model_name": "LayoutModel",
          "model_module_version": "1.2.0",
          "state": {
            "_model_module": "@jupyter-widgets/base",
            "_model_module_version": "1.2.0",
            "_model_name": "LayoutModel",
            "_view_count": null,
            "_view_module": "@jupyter-widgets/base",
            "_view_module_version": "1.2.0",
            "_view_name": "LayoutView",
            "align_content": null,
            "align_items": null,
            "align_self": null,
            "border": null,
            "bottom": null,
            "display": null,
            "flex": null,
            "flex_flow": null,
            "grid_area": null,
            "grid_auto_columns": null,
            "grid_auto_flow": null,
            "grid_auto_rows": null,
            "grid_column": null,
            "grid_gap": null,
            "grid_row": null,
            "grid_template_areas": null,
            "grid_template_columns": null,
            "grid_template_rows": null,
            "height": null,
            "justify_content": null,
            "justify_items": null,
            "left": null,
            "margin": null,
            "max_height": null,
            "max_width": null,
            "min_height": null,
            "min_width": null,
            "object_fit": null,
            "object_position": null,
            "order": null,
            "overflow": null,
            "overflow_x": null,
            "overflow_y": null,
            "padding": null,
            "right": null,
            "top": null,
            "visibility": null,
            "width": null
          }
        },
        "71e00ee6dca24d04957e09be7f9514e7": {
          "model_module": "@jupyter-widgets/controls",
          "model_name": "DescriptionStyleModel",
          "model_module_version": "1.5.0",
          "state": {
            "_model_module": "@jupyter-widgets/controls",
            "_model_module_version": "1.5.0",
            "_model_name": "DescriptionStyleModel",
            "_view_count": null,
            "_view_module": "@jupyter-widgets/base",
            "_view_module_version": "1.2.0",
            "_view_name": "StyleView",
            "description_width": ""
          }
        },
        "e946c8a4cad54e8c97f49e9a4d35cbb3": {
          "model_module": "@jupyter-widgets/controls",
          "model_name": "HBoxModel",
          "model_module_version": "1.5.0",
          "state": {
            "_dom_classes": [],
            "_model_module": "@jupyter-widgets/controls",
            "_model_module_version": "1.5.0",
            "_model_name": "HBoxModel",
            "_view_count": null,
            "_view_module": "@jupyter-widgets/controls",
            "_view_module_version": "1.5.0",
            "_view_name": "HBoxView",
            "box_style": "",
            "children": [
              "IPY_MODEL_a65053b71d284858b4fbc4d0b488f17f",
              "IPY_MODEL_a25821855d6744cd8d614d57186d9630",
              "IPY_MODEL_89c7c61195e04b7a837f42c17496eb61"
            ],
            "layout": "IPY_MODEL_c4460a595e434267850fb0656f6ff07e"
          }
        },
        "a65053b71d284858b4fbc4d0b488f17f": {
          "model_module": "@jupyter-widgets/controls",
          "model_name": "HTMLModel",
          "model_module_version": "1.5.0",
          "state": {
            "_dom_classes": [],
            "_model_module": "@jupyter-widgets/controls",
            "_model_module_version": "1.5.0",
            "_model_name": "HTMLModel",
            "_view_count": null,
            "_view_module": "@jupyter-widgets/controls",
            "_view_module_version": "1.5.0",
            "_view_name": "HTMLView",
            "description": "",
            "description_tooltip": null,
            "layout": "IPY_MODEL_183be5fdd644491fa26a78be86be691c",
            "placeholder": "​",
            "style": "IPY_MODEL_ec211f1f8cf7452f9c54ed12d9c25f59",
            "value": "Map: 100%"
          }
        },
        "a25821855d6744cd8d614d57186d9630": {
          "model_module": "@jupyter-widgets/controls",
          "model_name": "FloatProgressModel",
          "model_module_version": "1.5.0",
          "state": {
            "_dom_classes": [],
            "_model_module": "@jupyter-widgets/controls",
            "_model_module_version": "1.5.0",
            "_model_name": "FloatProgressModel",
            "_view_count": null,
            "_view_module": "@jupyter-widgets/controls",
            "_view_module_version": "1.5.0",
            "_view_name": "ProgressView",
            "bar_style": "success",
            "description": "",
            "description_tooltip": null,
            "layout": "IPY_MODEL_72cf39f76d26494a927c9feadf8fafa3",
            "max": 250,
            "min": 0,
            "orientation": "horizontal",
            "style": "IPY_MODEL_410cf1e26a744517a9ebc7c51ad3aa95",
            "value": 250
          }
        },
        "89c7c61195e04b7a837f42c17496eb61": {
          "model_module": "@jupyter-widgets/controls",
          "model_name": "HTMLModel",
          "model_module_version": "1.5.0",
          "state": {
            "_dom_classes": [],
            "_model_module": "@jupyter-widgets/controls",
            "_model_module_version": "1.5.0",
            "_model_name": "HTMLModel",
            "_view_count": null,
            "_view_module": "@jupyter-widgets/controls",
            "_view_module_version": "1.5.0",
            "_view_name": "HTMLView",
            "description": "",
            "description_tooltip": null,
            "layout": "IPY_MODEL_c53ce634d7ee44c4b6ecb90a43466c8a",
            "placeholder": "​",
            "style": "IPY_MODEL_43f3c5593a014a49b43886e49c53492d",
            "value": " 250/250 [00:00&lt;00:00, 910.18 examples/s]"
          }
        },
        "c4460a595e434267850fb0656f6ff07e": {
          "model_module": "@jupyter-widgets/base",
          "model_name": "LayoutModel",
          "model_module_version": "1.2.0",
          "state": {
            "_model_module": "@jupyter-widgets/base",
            "_model_module_version": "1.2.0",
            "_model_name": "LayoutModel",
            "_view_count": null,
            "_view_module": "@jupyter-widgets/base",
            "_view_module_version": "1.2.0",
            "_view_name": "LayoutView",
            "align_content": null,
            "align_items": null,
            "align_self": null,
            "border": null,
            "bottom": null,
            "display": null,
            "flex": null,
            "flex_flow": null,
            "grid_area": null,
            "grid_auto_columns": null,
            "grid_auto_flow": null,
            "grid_auto_rows": null,
            "grid_column": null,
            "grid_gap": null,
            "grid_row": null,
            "grid_template_areas": null,
            "grid_template_columns": null,
            "grid_template_rows": null,
            "height": null,
            "justify_content": null,
            "justify_items": null,
            "left": null,
            "margin": null,
            "max_height": null,
            "max_width": null,
            "min_height": null,
            "min_width": null,
            "object_fit": null,
            "object_position": null,
            "order": null,
            "overflow": null,
            "overflow_x": null,
            "overflow_y": null,
            "padding": null,
            "right": null,
            "top": null,
            "visibility": null,
            "width": null
          }
        },
        "183be5fdd644491fa26a78be86be691c": {
          "model_module": "@jupyter-widgets/base",
          "model_name": "LayoutModel",
          "model_module_version": "1.2.0",
          "state": {
            "_model_module": "@jupyter-widgets/base",
            "_model_module_version": "1.2.0",
            "_model_name": "LayoutModel",
            "_view_count": null,
            "_view_module": "@jupyter-widgets/base",
            "_view_module_version": "1.2.0",
            "_view_name": "LayoutView",
            "align_content": null,
            "align_items": null,
            "align_self": null,
            "border": null,
            "bottom": null,
            "display": null,
            "flex": null,
            "flex_flow": null,
            "grid_area": null,
            "grid_auto_columns": null,
            "grid_auto_flow": null,
            "grid_auto_rows": null,
            "grid_column": null,
            "grid_gap": null,
            "grid_row": null,
            "grid_template_areas": null,
            "grid_template_columns": null,
            "grid_template_rows": null,
            "height": null,
            "justify_content": null,
            "justify_items": null,
            "left": null,
            "margin": null,
            "max_height": null,
            "max_width": null,
            "min_height": null,
            "min_width": null,
            "object_fit": null,
            "object_position": null,
            "order": null,
            "overflow": null,
            "overflow_x": null,
            "overflow_y": null,
            "padding": null,
            "right": null,
            "top": null,
            "visibility": null,
            "width": null
          }
        },
        "ec211f1f8cf7452f9c54ed12d9c25f59": {
          "model_module": "@jupyter-widgets/controls",
          "model_name": "DescriptionStyleModel",
          "model_module_version": "1.5.0",
          "state": {
            "_model_module": "@jupyter-widgets/controls",
            "_model_module_version": "1.5.0",
            "_model_name": "DescriptionStyleModel",
            "_view_count": null,
            "_view_module": "@jupyter-widgets/base",
            "_view_module_version": "1.2.0",
            "_view_name": "StyleView",
            "description_width": ""
          }
        },
        "72cf39f76d26494a927c9feadf8fafa3": {
          "model_module": "@jupyter-widgets/base",
          "model_name": "LayoutModel",
          "model_module_version": "1.2.0",
          "state": {
            "_model_module": "@jupyter-widgets/base",
            "_model_module_version": "1.2.0",
            "_model_name": "LayoutModel",
            "_view_count": null,
            "_view_module": "@jupyter-widgets/base",
            "_view_module_version": "1.2.0",
            "_view_name": "LayoutView",
            "align_content": null,
            "align_items": null,
            "align_self": null,
            "border": null,
            "bottom": null,
            "display": null,
            "flex": null,
            "flex_flow": null,
            "grid_area": null,
            "grid_auto_columns": null,
            "grid_auto_flow": null,
            "grid_auto_rows": null,
            "grid_column": null,
            "grid_gap": null,
            "grid_row": null,
            "grid_template_areas": null,
            "grid_template_columns": null,
            "grid_template_rows": null,
            "height": null,
            "justify_content": null,
            "justify_items": null,
            "left": null,
            "margin": null,
            "max_height": null,
            "max_width": null,
            "min_height": null,
            "min_width": null,
            "object_fit": null,
            "object_position": null,
            "order": null,
            "overflow": null,
            "overflow_x": null,
            "overflow_y": null,
            "padding": null,
            "right": null,
            "top": null,
            "visibility": null,
            "width": null
          }
        },
        "410cf1e26a744517a9ebc7c51ad3aa95": {
          "model_module": "@jupyter-widgets/controls",
          "model_name": "ProgressStyleModel",
          "model_module_version": "1.5.0",
          "state": {
            "_model_module": "@jupyter-widgets/controls",
            "_model_module_version": "1.5.0",
            "_model_name": "ProgressStyleModel",
            "_view_count": null,
            "_view_module": "@jupyter-widgets/base",
            "_view_module_version": "1.2.0",
            "_view_name": "StyleView",
            "bar_color": null,
            "description_width": ""
          }
        },
        "c53ce634d7ee44c4b6ecb90a43466c8a": {
          "model_module": "@jupyter-widgets/base",
          "model_name": "LayoutModel",
          "model_module_version": "1.2.0",
          "state": {
            "_model_module": "@jupyter-widgets/base",
            "_model_module_version": "1.2.0",
            "_model_name": "LayoutModel",
            "_view_count": null,
            "_view_module": "@jupyter-widgets/base",
            "_view_module_version": "1.2.0",
            "_view_name": "LayoutView",
            "align_content": null,
            "align_items": null,
            "align_self": null,
            "border": null,
            "bottom": null,
            "display": null,
            "flex": null,
            "flex_flow": null,
            "grid_area": null,
            "grid_auto_columns": null,
            "grid_auto_flow": null,
            "grid_auto_rows": null,
            "grid_column": null,
            "grid_gap": null,
            "grid_row": null,
            "grid_template_areas": null,
            "grid_template_columns": null,
            "grid_template_rows": null,
            "height": null,
            "justify_content": null,
            "justify_items": null,
            "left": null,
            "margin": null,
            "max_height": null,
            "max_width": null,
            "min_height": null,
            "min_width": null,
            "object_fit": null,
            "object_position": null,
            "order": null,
            "overflow": null,
            "overflow_x": null,
            "overflow_y": null,
            "padding": null,
            "right": null,
            "top": null,
            "visibility": null,
            "width": null
          }
        },
        "43f3c5593a014a49b43886e49c53492d": {
          "model_module": "@jupyter-widgets/controls",
          "model_name": "DescriptionStyleModel",
          "model_module_version": "1.5.0",
          "state": {
            "_model_module": "@jupyter-widgets/controls",
            "_model_module_version": "1.5.0",
            "_model_name": "DescriptionStyleModel",
            "_view_count": null,
            "_view_module": "@jupyter-widgets/base",
            "_view_module_version": "1.2.0",
            "_view_name": "StyleView",
            "description_width": ""
          }
        },
        "030f2260721143be8be59235effdad29": {
          "model_module": "@jupyter-widgets/controls",
          "model_name": "HBoxModel",
          "model_module_version": "1.5.0",
          "state": {
            "_dom_classes": [],
            "_model_module": "@jupyter-widgets/controls",
            "_model_module_version": "1.5.0",
            "_model_name": "HBoxModel",
            "_view_count": null,
            "_view_module": "@jupyter-widgets/controls",
            "_view_module_version": "1.5.0",
            "_view_name": "HBoxView",
            "box_style": "",
            "children": [
              "IPY_MODEL_19891a122ba0455fb5a890d05b795175",
              "IPY_MODEL_aaee0d866a0141da9979e540b83bebfa",
              "IPY_MODEL_7006e56b946b47c1addabb188fadb85c"
            ],
            "layout": "IPY_MODEL_4a573551ebaa4f5796488084d98fe079"
          }
        },
        "19891a122ba0455fb5a890d05b795175": {
          "model_module": "@jupyter-widgets/controls",
          "model_name": "HTMLModel",
          "model_module_version": "1.5.0",
          "state": {
            "_dom_classes": [],
            "_model_module": "@jupyter-widgets/controls",
            "_model_module_version": "1.5.0",
            "_model_name": "HTMLModel",
            "_view_count": null,
            "_view_module": "@jupyter-widgets/controls",
            "_view_module_version": "1.5.0",
            "_view_name": "HTMLView",
            "description": "",
            "description_tooltip": null,
            "layout": "IPY_MODEL_debb88ef17834cff88b5ec07e9555ee5",
            "placeholder": "​",
            "style": "IPY_MODEL_323cbe6285ea4294a3f0145b416bf76e",
            "value": "Downloading builder script: "
          }
        },
        "aaee0d866a0141da9979e540b83bebfa": {
          "model_module": "@jupyter-widgets/controls",
          "model_name": "FloatProgressModel",
          "model_module_version": "1.5.0",
          "state": {
            "_dom_classes": [],
            "_model_module": "@jupyter-widgets/controls",
            "_model_module_version": "1.5.0",
            "_model_name": "FloatProgressModel",
            "_view_count": null,
            "_view_module": "@jupyter-widgets/controls",
            "_view_module_version": "1.5.0",
            "_view_name": "ProgressView",
            "bar_style": "success",
            "description": "",
            "description_tooltip": null,
            "layout": "IPY_MODEL_6298fe1c04914af28f9f2b079c74f91c",
            "max": 2849,
            "min": 0,
            "orientation": "horizontal",
            "style": "IPY_MODEL_349dd8b43e6d4423ae1c9457ddabba11",
            "value": 2849
          }
        },
        "7006e56b946b47c1addabb188fadb85c": {
          "model_module": "@jupyter-widgets/controls",
          "model_name": "HTMLModel",
          "model_module_version": "1.5.0",
          "state": {
            "_dom_classes": [],
            "_model_module": "@jupyter-widgets/controls",
            "_model_module_version": "1.5.0",
            "_model_name": "HTMLModel",
            "_view_count": null,
            "_view_module": "@jupyter-widgets/controls",
            "_view_module_version": "1.5.0",
            "_view_name": "HTMLView",
            "description": "",
            "description_tooltip": null,
            "layout": "IPY_MODEL_fba0269ccc2748aa8f7f23d13b036912",
            "placeholder": "​",
            "style": "IPY_MODEL_a91cfa46685b499d84b6a70b776f3d2d",
            "value": " 7.65k/? [00:00&lt;00:00, 4.14kB/s]"
          }
        },
        "4a573551ebaa4f5796488084d98fe079": {
          "model_module": "@jupyter-widgets/base",
          "model_name": "LayoutModel",
          "model_module_version": "1.2.0",
          "state": {
            "_model_module": "@jupyter-widgets/base",
            "_model_module_version": "1.2.0",
            "_model_name": "LayoutModel",
            "_view_count": null,
            "_view_module": "@jupyter-widgets/base",
            "_view_module_version": "1.2.0",
            "_view_name": "LayoutView",
            "align_content": null,
            "align_items": null,
            "align_self": null,
            "border": null,
            "bottom": null,
            "display": null,
            "flex": null,
            "flex_flow": null,
            "grid_area": null,
            "grid_auto_columns": null,
            "grid_auto_flow": null,
            "grid_auto_rows": null,
            "grid_column": null,
            "grid_gap": null,
            "grid_row": null,
            "grid_template_areas": null,
            "grid_template_columns": null,
            "grid_template_rows": null,
            "height": null,
            "justify_content": null,
            "justify_items": null,
            "left": null,
            "margin": null,
            "max_height": null,
            "max_width": null,
            "min_height": null,
            "min_width": null,
            "object_fit": null,
            "object_position": null,
            "order": null,
            "overflow": null,
            "overflow_x": null,
            "overflow_y": null,
            "padding": null,
            "right": null,
            "top": null,
            "visibility": null,
            "width": null
          }
        },
        "debb88ef17834cff88b5ec07e9555ee5": {
          "model_module": "@jupyter-widgets/base",
          "model_name": "LayoutModel",
          "model_module_version": "1.2.0",
          "state": {
            "_model_module": "@jupyter-widgets/base",
            "_model_module_version": "1.2.0",
            "_model_name": "LayoutModel",
            "_view_count": null,
            "_view_module": "@jupyter-widgets/base",
            "_view_module_version": "1.2.0",
            "_view_name": "LayoutView",
            "align_content": null,
            "align_items": null,
            "align_self": null,
            "border": null,
            "bottom": null,
            "display": null,
            "flex": null,
            "flex_flow": null,
            "grid_area": null,
            "grid_auto_columns": null,
            "grid_auto_flow": null,
            "grid_auto_rows": null,
            "grid_column": null,
            "grid_gap": null,
            "grid_row": null,
            "grid_template_areas": null,
            "grid_template_columns": null,
            "grid_template_rows": null,
            "height": null,
            "justify_content": null,
            "justify_items": null,
            "left": null,
            "margin": null,
            "max_height": null,
            "max_width": null,
            "min_height": null,
            "min_width": null,
            "object_fit": null,
            "object_position": null,
            "order": null,
            "overflow": null,
            "overflow_x": null,
            "overflow_y": null,
            "padding": null,
            "right": null,
            "top": null,
            "visibility": null,
            "width": null
          }
        },
        "323cbe6285ea4294a3f0145b416bf76e": {
          "model_module": "@jupyter-widgets/controls",
          "model_name": "DescriptionStyleModel",
          "model_module_version": "1.5.0",
          "state": {
            "_model_module": "@jupyter-widgets/controls",
            "_model_module_version": "1.5.0",
            "_model_name": "DescriptionStyleModel",
            "_view_count": null,
            "_view_module": "@jupyter-widgets/base",
            "_view_module_version": "1.2.0",
            "_view_name": "StyleView",
            "description_width": ""
          }
        },
        "6298fe1c04914af28f9f2b079c74f91c": {
          "model_module": "@jupyter-widgets/base",
          "model_name": "LayoutModel",
          "model_module_version": "1.2.0",
          "state": {
            "_model_module": "@jupyter-widgets/base",
            "_model_module_version": "1.2.0",
            "_model_name": "LayoutModel",
            "_view_count": null,
            "_view_module": "@jupyter-widgets/base",
            "_view_module_version": "1.2.0",
            "_view_name": "LayoutView",
            "align_content": null,
            "align_items": null,
            "align_self": null,
            "border": null,
            "bottom": null,
            "display": null,
            "flex": null,
            "flex_flow": null,
            "grid_area": null,
            "grid_auto_columns": null,
            "grid_auto_flow": null,
            "grid_auto_rows": null,
            "grid_column": null,
            "grid_gap": null,
            "grid_row": null,
            "grid_template_areas": null,
            "grid_template_columns": null,
            "grid_template_rows": null,
            "height": null,
            "justify_content": null,
            "justify_items": null,
            "left": null,
            "margin": null,
            "max_height": null,
            "max_width": null,
            "min_height": null,
            "min_width": null,
            "object_fit": null,
            "object_position": null,
            "order": null,
            "overflow": null,
            "overflow_x": null,
            "overflow_y": null,
            "padding": null,
            "right": null,
            "top": null,
            "visibility": null,
            "width": null
          }
        },
        "349dd8b43e6d4423ae1c9457ddabba11": {
          "model_module": "@jupyter-widgets/controls",
          "model_name": "ProgressStyleModel",
          "model_module_version": "1.5.0",
          "state": {
            "_model_module": "@jupyter-widgets/controls",
            "_model_module_version": "1.5.0",
            "_model_name": "ProgressStyleModel",
            "_view_count": null,
            "_view_module": "@jupyter-widgets/base",
            "_view_module_version": "1.2.0",
            "_view_name": "StyleView",
            "bar_color": null,
            "description_width": ""
          }
        },
        "fba0269ccc2748aa8f7f23d13b036912": {
          "model_module": "@jupyter-widgets/base",
          "model_name": "LayoutModel",
          "model_module_version": "1.2.0",
          "state": {
            "_model_module": "@jupyter-widgets/base",
            "_model_module_version": "1.2.0",
            "_model_name": "LayoutModel",
            "_view_count": null,
            "_view_module": "@jupyter-widgets/base",
            "_view_module_version": "1.2.0",
            "_view_name": "LayoutView",
            "align_content": null,
            "align_items": null,
            "align_self": null,
            "border": null,
            "bottom": null,
            "display": null,
            "flex": null,
            "flex_flow": null,
            "grid_area": null,
            "grid_auto_columns": null,
            "grid_auto_flow": null,
            "grid_auto_rows": null,
            "grid_column": null,
            "grid_gap": null,
            "grid_row": null,
            "grid_template_areas": null,
            "grid_template_columns": null,
            "grid_template_rows": null,
            "height": null,
            "justify_content": null,
            "justify_items": null,
            "left": null,
            "margin": null,
            "max_height": null,
            "max_width": null,
            "min_height": null,
            "min_width": null,
            "object_fit": null,
            "object_position": null,
            "order": null,
            "overflow": null,
            "overflow_x": null,
            "overflow_y": null,
            "padding": null,
            "right": null,
            "top": null,
            "visibility": null,
            "width": null
          }
        },
        "a91cfa46685b499d84b6a70b776f3d2d": {
          "model_module": "@jupyter-widgets/controls",
          "model_name": "DescriptionStyleModel",
          "model_module_version": "1.5.0",
          "state": {
            "_model_module": "@jupyter-widgets/controls",
            "_model_module_version": "1.5.0",
            "_model_name": "DescriptionStyleModel",
            "_view_count": null,
            "_view_module": "@jupyter-widgets/base",
            "_view_module_version": "1.2.0",
            "_view_name": "StyleView",
            "description_width": ""
          }
        },
        "ac20e41cc126418c90ea867d986cae85": {
          "model_module": "@jupyter-widgets/controls",
          "model_name": "HBoxModel",
          "model_module_version": "1.5.0",
          "state": {
            "_dom_classes": [],
            "_model_module": "@jupyter-widgets/controls",
            "_model_module_version": "1.5.0",
            "_model_name": "HBoxModel",
            "_view_count": null,
            "_view_module": "@jupyter-widgets/controls",
            "_view_module_version": "1.5.0",
            "_view_name": "HBoxView",
            "box_style": "",
            "children": [
              "IPY_MODEL_6762b4f715434196a78c4dcf544d870d",
              "IPY_MODEL_8887e20e5321446c8caeba83e8ec6ea8",
              "IPY_MODEL_54d99202c43247d1bd045fec02352629"
            ],
            "layout": "IPY_MODEL_90d29099187b4546bd5f8d9a8aa41664"
          }
        },
        "6762b4f715434196a78c4dcf544d870d": {
          "model_module": "@jupyter-widgets/controls",
          "model_name": "HTMLModel",
          "model_module_version": "1.5.0",
          "state": {
            "_dom_classes": [],
            "_model_module": "@jupyter-widgets/controls",
            "_model_module_version": "1.5.0",
            "_model_name": "HTMLModel",
            "_view_count": null,
            "_view_module": "@jupyter-widgets/controls",
            "_view_module_version": "1.5.0",
            "_view_name": "HTMLView",
            "description": "",
            "description_tooltip": null,
            "layout": "IPY_MODEL_7ab1e8d2a4d44587b3b0e07cf75df230",
            "placeholder": "​",
            "style": "IPY_MODEL_1e8cfcac15d947ca88b8bbc2c1c4cf4b",
            "value": "Downloading builder script: "
          }
        },
        "8887e20e5321446c8caeba83e8ec6ea8": {
          "model_module": "@jupyter-widgets/controls",
          "model_name": "FloatProgressModel",
          "model_module_version": "1.5.0",
          "state": {
            "_dom_classes": [],
            "_model_module": "@jupyter-widgets/controls",
            "_model_module_version": "1.5.0",
            "_model_name": "FloatProgressModel",
            "_view_count": null,
            "_view_module": "@jupyter-widgets/controls",
            "_view_module_version": "1.5.0",
            "_view_name": "ProgressView",
            "bar_style": "success",
            "description": "",
            "description_tooltip": null,
            "layout": "IPY_MODEL_ff9c8cf09ff14a0aaf345debd825f043",
            "max": 2923,
            "min": 0,
            "orientation": "horizontal",
            "style": "IPY_MODEL_c536dcd26ee942579b2dfe778ccad08e",
            "value": 2923
          }
        },
        "54d99202c43247d1bd045fec02352629": {
          "model_module": "@jupyter-widgets/controls",
          "model_name": "HTMLModel",
          "model_module_version": "1.5.0",
          "state": {
            "_dom_classes": [],
            "_model_module": "@jupyter-widgets/controls",
            "_model_module_version": "1.5.0",
            "_model_name": "HTMLModel",
            "_view_count": null,
            "_view_module": "@jupyter-widgets/controls",
            "_view_module_version": "1.5.0",
            "_view_name": "HTMLView",
            "description": "",
            "description_tooltip": null,
            "layout": "IPY_MODEL_232ba42b0a894dce8a2bad64d2c9bf88",
            "placeholder": "​",
            "style": "IPY_MODEL_848fd7d8d71541958ec2cd013ad611ec",
            "value": " 8.10k/? [00:00&lt;00:00, 154kB/s]"
          }
        },
        "90d29099187b4546bd5f8d9a8aa41664": {
          "model_module": "@jupyter-widgets/base",
          "model_name": "LayoutModel",
          "model_module_version": "1.2.0",
          "state": {
            "_model_module": "@jupyter-widgets/base",
            "_model_module_version": "1.2.0",
            "_model_name": "LayoutModel",
            "_view_count": null,
            "_view_module": "@jupyter-widgets/base",
            "_view_module_version": "1.2.0",
            "_view_name": "LayoutView",
            "align_content": null,
            "align_items": null,
            "align_self": null,
            "border": null,
            "bottom": null,
            "display": null,
            "flex": null,
            "flex_flow": null,
            "grid_area": null,
            "grid_auto_columns": null,
            "grid_auto_flow": null,
            "grid_auto_rows": null,
            "grid_column": null,
            "grid_gap": null,
            "grid_row": null,
            "grid_template_areas": null,
            "grid_template_columns": null,
            "grid_template_rows": null,
            "height": null,
            "justify_content": null,
            "justify_items": null,
            "left": null,
            "margin": null,
            "max_height": null,
            "max_width": null,
            "min_height": null,
            "min_width": null,
            "object_fit": null,
            "object_position": null,
            "order": null,
            "overflow": null,
            "overflow_x": null,
            "overflow_y": null,
            "padding": null,
            "right": null,
            "top": null,
            "visibility": null,
            "width": null
          }
        },
        "7ab1e8d2a4d44587b3b0e07cf75df230": {
          "model_module": "@jupyter-widgets/base",
          "model_name": "LayoutModel",
          "model_module_version": "1.2.0",
          "state": {
            "_model_module": "@jupyter-widgets/base",
            "_model_module_version": "1.2.0",
            "_model_name": "LayoutModel",
            "_view_count": null,
            "_view_module": "@jupyter-widgets/base",
            "_view_module_version": "1.2.0",
            "_view_name": "LayoutView",
            "align_content": null,
            "align_items": null,
            "align_self": null,
            "border": null,
            "bottom": null,
            "display": null,
            "flex": null,
            "flex_flow": null,
            "grid_area": null,
            "grid_auto_columns": null,
            "grid_auto_flow": null,
            "grid_auto_rows": null,
            "grid_column": null,
            "grid_gap": null,
            "grid_row": null,
            "grid_template_areas": null,
            "grid_template_columns": null,
            "grid_template_rows": null,
            "height": null,
            "justify_content": null,
            "justify_items": null,
            "left": null,
            "margin": null,
            "max_height": null,
            "max_width": null,
            "min_height": null,
            "min_width": null,
            "object_fit": null,
            "object_position": null,
            "order": null,
            "overflow": null,
            "overflow_x": null,
            "overflow_y": null,
            "padding": null,
            "right": null,
            "top": null,
            "visibility": null,
            "width": null
          }
        },
        "1e8cfcac15d947ca88b8bbc2c1c4cf4b": {
          "model_module": "@jupyter-widgets/controls",
          "model_name": "DescriptionStyleModel",
          "model_module_version": "1.5.0",
          "state": {
            "_model_module": "@jupyter-widgets/controls",
            "_model_module_version": "1.5.0",
            "_model_name": "DescriptionStyleModel",
            "_view_count": null,
            "_view_module": "@jupyter-widgets/base",
            "_view_module_version": "1.2.0",
            "_view_name": "StyleView",
            "description_width": ""
          }
        },
        "ff9c8cf09ff14a0aaf345debd825f043": {
          "model_module": "@jupyter-widgets/base",
          "model_name": "LayoutModel",
          "model_module_version": "1.2.0",
          "state": {
            "_model_module": "@jupyter-widgets/base",
            "_model_module_version": "1.2.0",
            "_model_name": "LayoutModel",
            "_view_count": null,
            "_view_module": "@jupyter-widgets/base",
            "_view_module_version": "1.2.0",
            "_view_name": "LayoutView",
            "align_content": null,
            "align_items": null,
            "align_self": null,
            "border": null,
            "bottom": null,
            "display": null,
            "flex": null,
            "flex_flow": null,
            "grid_area": null,
            "grid_auto_columns": null,
            "grid_auto_flow": null,
            "grid_auto_rows": null,
            "grid_column": null,
            "grid_gap": null,
            "grid_row": null,
            "grid_template_areas": null,
            "grid_template_columns": null,
            "grid_template_rows": null,
            "height": null,
            "justify_content": null,
            "justify_items": null,
            "left": null,
            "margin": null,
            "max_height": null,
            "max_width": null,
            "min_height": null,
            "min_width": null,
            "object_fit": null,
            "object_position": null,
            "order": null,
            "overflow": null,
            "overflow_x": null,
            "overflow_y": null,
            "padding": null,
            "right": null,
            "top": null,
            "visibility": null,
            "width": null
          }
        },
        "c536dcd26ee942579b2dfe778ccad08e": {
          "model_module": "@jupyter-widgets/controls",
          "model_name": "ProgressStyleModel",
          "model_module_version": "1.5.0",
          "state": {
            "_model_module": "@jupyter-widgets/controls",
            "_model_module_version": "1.5.0",
            "_model_name": "ProgressStyleModel",
            "_view_count": null,
            "_view_module": "@jupyter-widgets/base",
            "_view_module_version": "1.2.0",
            "_view_name": "StyleView",
            "bar_color": null,
            "description_width": ""
          }
        },
        "232ba42b0a894dce8a2bad64d2c9bf88": {
          "model_module": "@jupyter-widgets/base",
          "model_name": "LayoutModel",
          "model_module_version": "1.2.0",
          "state": {
            "_model_module": "@jupyter-widgets/base",
            "_model_module_version": "1.2.0",
            "_model_name": "LayoutModel",
            "_view_count": null,
            "_view_module": "@jupyter-widgets/base",
            "_view_module_version": "1.2.0",
            "_view_name": "LayoutView",
            "align_content": null,
            "align_items": null,
            "align_self": null,
            "border": null,
            "bottom": null,
            "display": null,
            "flex": null,
            "flex_flow": null,
            "grid_area": null,
            "grid_auto_columns": null,
            "grid_auto_flow": null,
            "grid_auto_rows": null,
            "grid_column": null,
            "grid_gap": null,
            "grid_row": null,
            "grid_template_areas": null,
            "grid_template_columns": null,
            "grid_template_rows": null,
            "height": null,
            "justify_content": null,
            "justify_items": null,
            "left": null,
            "margin": null,
            "max_height": null,
            "max_width": null,
            "min_height": null,
            "min_width": null,
            "object_fit": null,
            "object_position": null,
            "order": null,
            "overflow": null,
            "overflow_x": null,
            "overflow_y": null,
            "padding": null,
            "right": null,
            "top": null,
            "visibility": null,
            "width": null
          }
        },
        "848fd7d8d71541958ec2cd013ad611ec": {
          "model_module": "@jupyter-widgets/controls",
          "model_name": "DescriptionStyleModel",
          "model_module_version": "1.5.0",
          "state": {
            "_model_module": "@jupyter-widgets/controls",
            "_model_module_version": "1.5.0",
            "_model_name": "DescriptionStyleModel",
            "_view_count": null,
            "_view_module": "@jupyter-widgets/base",
            "_view_module_version": "1.2.0",
            "_view_name": "StyleView",
            "description_width": ""
          }
        },
        "58a13a23cb5d4a789ed6164ba0e10151": {
          "model_module": "@jupyter-widgets/controls",
          "model_name": "HBoxModel",
          "model_module_version": "1.5.0",
          "state": {
            "_dom_classes": [],
            "_model_module": "@jupyter-widgets/controls",
            "_model_module_version": "1.5.0",
            "_model_name": "HBoxModel",
            "_view_count": null,
            "_view_module": "@jupyter-widgets/controls",
            "_view_module_version": "1.5.0",
            "_view_name": "HBoxView",
            "box_style": "",
            "children": [
              "IPY_MODEL_524dee0e998d4533bdd7c9a01ec310b8",
              "IPY_MODEL_796d7c05093249b6b8132a918050d01b",
              "IPY_MODEL_688b1ad84a2e431ca921e59cff90f171"
            ],
            "layout": "IPY_MODEL_ab2bca43f83e4b469702eb5617e71f34"
          }
        },
        "524dee0e998d4533bdd7c9a01ec310b8": {
          "model_module": "@jupyter-widgets/controls",
          "model_name": "HTMLModel",
          "model_module_version": "1.5.0",
          "state": {
            "_dom_classes": [],
            "_model_module": "@jupyter-widgets/controls",
            "_model_module_version": "1.5.0",
            "_model_name": "HTMLModel",
            "_view_count": null,
            "_view_module": "@jupyter-widgets/controls",
            "_view_module_version": "1.5.0",
            "_view_name": "HTMLView",
            "description": "",
            "description_tooltip": null,
            "layout": "IPY_MODEL_a684a55ed97e469986c3710cbb57c53f",
            "placeholder": "​",
            "style": "IPY_MODEL_1210b64b476f4e4bb76a2d2440bfd2cb",
            "value": "config.json: 100%"
          }
        },
        "796d7c05093249b6b8132a918050d01b": {
          "model_module": "@jupyter-widgets/controls",
          "model_name": "FloatProgressModel",
          "model_module_version": "1.5.0",
          "state": {
            "_dom_classes": [],
            "_model_module": "@jupyter-widgets/controls",
            "_model_module_version": "1.5.0",
            "_model_name": "FloatProgressModel",
            "_view_count": null,
            "_view_module": "@jupyter-widgets/controls",
            "_view_module_version": "1.5.0",
            "_view_name": "ProgressView",
            "bar_style": "success",
            "description": "",
            "description_tooltip": null,
            "layout": "IPY_MODEL_fff9ed219fb943038216ad36ad13752c",
            "max": 482,
            "min": 0,
            "orientation": "horizontal",
            "style": "IPY_MODEL_ebc34ed317d44737b1ecfd564eede209",
            "value": 482
          }
        },
        "688b1ad84a2e431ca921e59cff90f171": {
          "model_module": "@jupyter-widgets/controls",
          "model_name": "HTMLModel",
          "model_module_version": "1.5.0",
          "state": {
            "_dom_classes": [],
            "_model_module": "@jupyter-widgets/controls",
            "_model_module_version": "1.5.0",
            "_model_name": "HTMLModel",
            "_view_count": null,
            "_view_module": "@jupyter-widgets/controls",
            "_view_module_version": "1.5.0",
            "_view_name": "HTMLView",
            "description": "",
            "description_tooltip": null,
            "layout": "IPY_MODEL_11c4d2c65001410fbf52170c28c3fba9",
            "placeholder": "​",
            "style": "IPY_MODEL_7a5120328dfc4cc4bef3230695212c01",
            "value": " 482/482 [00:00&lt;00:00, 8.60kB/s]"
          }
        },
        "ab2bca43f83e4b469702eb5617e71f34": {
          "model_module": "@jupyter-widgets/base",
          "model_name": "LayoutModel",
          "model_module_version": "1.2.0",
          "state": {
            "_model_module": "@jupyter-widgets/base",
            "_model_module_version": "1.2.0",
            "_model_name": "LayoutModel",
            "_view_count": null,
            "_view_module": "@jupyter-widgets/base",
            "_view_module_version": "1.2.0",
            "_view_name": "LayoutView",
            "align_content": null,
            "align_items": null,
            "align_self": null,
            "border": null,
            "bottom": null,
            "display": null,
            "flex": null,
            "flex_flow": null,
            "grid_area": null,
            "grid_auto_columns": null,
            "grid_auto_flow": null,
            "grid_auto_rows": null,
            "grid_column": null,
            "grid_gap": null,
            "grid_row": null,
            "grid_template_areas": null,
            "grid_template_columns": null,
            "grid_template_rows": null,
            "height": null,
            "justify_content": null,
            "justify_items": null,
            "left": null,
            "margin": null,
            "max_height": null,
            "max_width": null,
            "min_height": null,
            "min_width": null,
            "object_fit": null,
            "object_position": null,
            "order": null,
            "overflow": null,
            "overflow_x": null,
            "overflow_y": null,
            "padding": null,
            "right": null,
            "top": null,
            "visibility": null,
            "width": null
          }
        },
        "a684a55ed97e469986c3710cbb57c53f": {
          "model_module": "@jupyter-widgets/base",
          "model_name": "LayoutModel",
          "model_module_version": "1.2.0",
          "state": {
            "_model_module": "@jupyter-widgets/base",
            "_model_module_version": "1.2.0",
            "_model_name": "LayoutModel",
            "_view_count": null,
            "_view_module": "@jupyter-widgets/base",
            "_view_module_version": "1.2.0",
            "_view_name": "LayoutView",
            "align_content": null,
            "align_items": null,
            "align_self": null,
            "border": null,
            "bottom": null,
            "display": null,
            "flex": null,
            "flex_flow": null,
            "grid_area": null,
            "grid_auto_columns": null,
            "grid_auto_flow": null,
            "grid_auto_rows": null,
            "grid_column": null,
            "grid_gap": null,
            "grid_row": null,
            "grid_template_areas": null,
            "grid_template_columns": null,
            "grid_template_rows": null,
            "height": null,
            "justify_content": null,
            "justify_items": null,
            "left": null,
            "margin": null,
            "max_height": null,
            "max_width": null,
            "min_height": null,
            "min_width": null,
            "object_fit": null,
            "object_position": null,
            "order": null,
            "overflow": null,
            "overflow_x": null,
            "overflow_y": null,
            "padding": null,
            "right": null,
            "top": null,
            "visibility": null,
            "width": null
          }
        },
        "1210b64b476f4e4bb76a2d2440bfd2cb": {
          "model_module": "@jupyter-widgets/controls",
          "model_name": "DescriptionStyleModel",
          "model_module_version": "1.5.0",
          "state": {
            "_model_module": "@jupyter-widgets/controls",
            "_model_module_version": "1.5.0",
            "_model_name": "DescriptionStyleModel",
            "_view_count": null,
            "_view_module": "@jupyter-widgets/base",
            "_view_module_version": "1.2.0",
            "_view_name": "StyleView",
            "description_width": ""
          }
        },
        "fff9ed219fb943038216ad36ad13752c": {
          "model_module": "@jupyter-widgets/base",
          "model_name": "LayoutModel",
          "model_module_version": "1.2.0",
          "state": {
            "_model_module": "@jupyter-widgets/base",
            "_model_module_version": "1.2.0",
            "_model_name": "LayoutModel",
            "_view_count": null,
            "_view_module": "@jupyter-widgets/base",
            "_view_module_version": "1.2.0",
            "_view_name": "LayoutView",
            "align_content": null,
            "align_items": null,
            "align_self": null,
            "border": null,
            "bottom": null,
            "display": null,
            "flex": null,
            "flex_flow": null,
            "grid_area": null,
            "grid_auto_columns": null,
            "grid_auto_flow": null,
            "grid_auto_rows": null,
            "grid_column": null,
            "grid_gap": null,
            "grid_row": null,
            "grid_template_areas": null,
            "grid_template_columns": null,
            "grid_template_rows": null,
            "height": null,
            "justify_content": null,
            "justify_items": null,
            "left": null,
            "margin": null,
            "max_height": null,
            "max_width": null,
            "min_height": null,
            "min_width": null,
            "object_fit": null,
            "object_position": null,
            "order": null,
            "overflow": null,
            "overflow_x": null,
            "overflow_y": null,
            "padding": null,
            "right": null,
            "top": null,
            "visibility": null,
            "width": null
          }
        },
        "ebc34ed317d44737b1ecfd564eede209": {
          "model_module": "@jupyter-widgets/controls",
          "model_name": "ProgressStyleModel",
          "model_module_version": "1.5.0",
          "state": {
            "_model_module": "@jupyter-widgets/controls",
            "_model_module_version": "1.5.0",
            "_model_name": "ProgressStyleModel",
            "_view_count": null,
            "_view_module": "@jupyter-widgets/base",
            "_view_module_version": "1.2.0",
            "_view_name": "StyleView",
            "bar_color": null,
            "description_width": ""
          }
        },
        "11c4d2c65001410fbf52170c28c3fba9": {
          "model_module": "@jupyter-widgets/base",
          "model_name": "LayoutModel",
          "model_module_version": "1.2.0",
          "state": {
            "_model_module": "@jupyter-widgets/base",
            "_model_module_version": "1.2.0",
            "_model_name": "LayoutModel",
            "_view_count": null,
            "_view_module": "@jupyter-widgets/base",
            "_view_module_version": "1.2.0",
            "_view_name": "LayoutView",
            "align_content": null,
            "align_items": null,
            "align_self": null,
            "border": null,
            "bottom": null,
            "display": null,
            "flex": null,
            "flex_flow": null,
            "grid_area": null,
            "grid_auto_columns": null,
            "grid_auto_flow": null,
            "grid_auto_rows": null,
            "grid_column": null,
            "grid_gap": null,
            "grid_row": null,
            "grid_template_areas": null,
            "grid_template_columns": null,
            "grid_template_rows": null,
            "height": null,
            "justify_content": null,
            "justify_items": null,
            "left": null,
            "margin": null,
            "max_height": null,
            "max_width": null,
            "min_height": null,
            "min_width": null,
            "object_fit": null,
            "object_position": null,
            "order": null,
            "overflow": null,
            "overflow_x": null,
            "overflow_y": null,
            "padding": null,
            "right": null,
            "top": null,
            "visibility": null,
            "width": null
          }
        },
        "7a5120328dfc4cc4bef3230695212c01": {
          "model_module": "@jupyter-widgets/controls",
          "model_name": "DescriptionStyleModel",
          "model_module_version": "1.5.0",
          "state": {
            "_model_module": "@jupyter-widgets/controls",
            "_model_module_version": "1.5.0",
            "_model_name": "DescriptionStyleModel",
            "_view_count": null,
            "_view_module": "@jupyter-widgets/base",
            "_view_module_version": "1.2.0",
            "_view_name": "StyleView",
            "description_width": ""
          }
        },
        "321f5476417246ae89ba3667d53853be": {
          "model_module": "@jupyter-widgets/controls",
          "model_name": "HBoxModel",
          "model_module_version": "1.5.0",
          "state": {
            "_dom_classes": [],
            "_model_module": "@jupyter-widgets/controls",
            "_model_module_version": "1.5.0",
            "_model_name": "HBoxModel",
            "_view_count": null,
            "_view_module": "@jupyter-widgets/controls",
            "_view_module_version": "1.5.0",
            "_view_name": "HBoxView",
            "box_style": "",
            "children": [
              "IPY_MODEL_816ceed41398475e99cf90c1fc4da4b7",
              "IPY_MODEL_85224f2453d54cc7b9b47bd1de4faebb",
              "IPY_MODEL_1e1ea86706504295b5687ac8eef3fde5"
            ],
            "layout": "IPY_MODEL_6496488dbb7b426b9611ef18691b6644"
          }
        },
        "816ceed41398475e99cf90c1fc4da4b7": {
          "model_module": "@jupyter-widgets/controls",
          "model_name": "HTMLModel",
          "model_module_version": "1.5.0",
          "state": {
            "_dom_classes": [],
            "_model_module": "@jupyter-widgets/controls",
            "_model_module_version": "1.5.0",
            "_model_name": "HTMLModel",
            "_view_count": null,
            "_view_module": "@jupyter-widgets/controls",
            "_view_module_version": "1.5.0",
            "_view_name": "HTMLView",
            "description": "",
            "description_tooltip": null,
            "layout": "IPY_MODEL_626582c0406446739ac5ea56dcd08240",
            "placeholder": "​",
            "style": "IPY_MODEL_1fe89ab8902343f39a2736351646c767",
            "value": "vocab.json: 100%"
          }
        },
        "85224f2453d54cc7b9b47bd1de4faebb": {
          "model_module": "@jupyter-widgets/controls",
          "model_name": "FloatProgressModel",
          "model_module_version": "1.5.0",
          "state": {
            "_dom_classes": [],
            "_model_module": "@jupyter-widgets/controls",
            "_model_module_version": "1.5.0",
            "_model_name": "FloatProgressModel",
            "_view_count": null,
            "_view_module": "@jupyter-widgets/controls",
            "_view_module_version": "1.5.0",
            "_view_name": "ProgressView",
            "bar_style": "success",
            "description": "",
            "description_tooltip": null,
            "layout": "IPY_MODEL_c61316ca5bb3499683bba02def2ddbfd",
            "max": 898823,
            "min": 0,
            "orientation": "horizontal",
            "style": "IPY_MODEL_42a3e0f900924e16a3149e1b2e4605bf",
            "value": 898823
          }
        },
        "1e1ea86706504295b5687ac8eef3fde5": {
          "model_module": "@jupyter-widgets/controls",
          "model_name": "HTMLModel",
          "model_module_version": "1.5.0",
          "state": {
            "_dom_classes": [],
            "_model_module": "@jupyter-widgets/controls",
            "_model_module_version": "1.5.0",
            "_model_name": "HTMLModel",
            "_view_count": null,
            "_view_module": "@jupyter-widgets/controls",
            "_view_module_version": "1.5.0",
            "_view_name": "HTMLView",
            "description": "",
            "description_tooltip": null,
            "layout": "IPY_MODEL_c149f6f5ae114477b4af308540371891",
            "placeholder": "​",
            "style": "IPY_MODEL_093c4f18e93943f18ad7a1477d32ed49",
            "value": " 899k/899k [00:00&lt;00:00, 2.46MB/s]"
          }
        },
        "6496488dbb7b426b9611ef18691b6644": {
          "model_module": "@jupyter-widgets/base",
          "model_name": "LayoutModel",
          "model_module_version": "1.2.0",
          "state": {
            "_model_module": "@jupyter-widgets/base",
            "_model_module_version": "1.2.0",
            "_model_name": "LayoutModel",
            "_view_count": null,
            "_view_module": "@jupyter-widgets/base",
            "_view_module_version": "1.2.0",
            "_view_name": "LayoutView",
            "align_content": null,
            "align_items": null,
            "align_self": null,
            "border": null,
            "bottom": null,
            "display": null,
            "flex": null,
            "flex_flow": null,
            "grid_area": null,
            "grid_auto_columns": null,
            "grid_auto_flow": null,
            "grid_auto_rows": null,
            "grid_column": null,
            "grid_gap": null,
            "grid_row": null,
            "grid_template_areas": null,
            "grid_template_columns": null,
            "grid_template_rows": null,
            "height": null,
            "justify_content": null,
            "justify_items": null,
            "left": null,
            "margin": null,
            "max_height": null,
            "max_width": null,
            "min_height": null,
            "min_width": null,
            "object_fit": null,
            "object_position": null,
            "order": null,
            "overflow": null,
            "overflow_x": null,
            "overflow_y": null,
            "padding": null,
            "right": null,
            "top": null,
            "visibility": null,
            "width": null
          }
        },
        "626582c0406446739ac5ea56dcd08240": {
          "model_module": "@jupyter-widgets/base",
          "model_name": "LayoutModel",
          "model_module_version": "1.2.0",
          "state": {
            "_model_module": "@jupyter-widgets/base",
            "_model_module_version": "1.2.0",
            "_model_name": "LayoutModel",
            "_view_count": null,
            "_view_module": "@jupyter-widgets/base",
            "_view_module_version": "1.2.0",
            "_view_name": "LayoutView",
            "align_content": null,
            "align_items": null,
            "align_self": null,
            "border": null,
            "bottom": null,
            "display": null,
            "flex": null,
            "flex_flow": null,
            "grid_area": null,
            "grid_auto_columns": null,
            "grid_auto_flow": null,
            "grid_auto_rows": null,
            "grid_column": null,
            "grid_gap": null,
            "grid_row": null,
            "grid_template_areas": null,
            "grid_template_columns": null,
            "grid_template_rows": null,
            "height": null,
            "justify_content": null,
            "justify_items": null,
            "left": null,
            "margin": null,
            "max_height": null,
            "max_width": null,
            "min_height": null,
            "min_width": null,
            "object_fit": null,
            "object_position": null,
            "order": null,
            "overflow": null,
            "overflow_x": null,
            "overflow_y": null,
            "padding": null,
            "right": null,
            "top": null,
            "visibility": null,
            "width": null
          }
        },
        "1fe89ab8902343f39a2736351646c767": {
          "model_module": "@jupyter-widgets/controls",
          "model_name": "DescriptionStyleModel",
          "model_module_version": "1.5.0",
          "state": {
            "_model_module": "@jupyter-widgets/controls",
            "_model_module_version": "1.5.0",
            "_model_name": "DescriptionStyleModel",
            "_view_count": null,
            "_view_module": "@jupyter-widgets/base",
            "_view_module_version": "1.2.0",
            "_view_name": "StyleView",
            "description_width": ""
          }
        },
        "c61316ca5bb3499683bba02def2ddbfd": {
          "model_module": "@jupyter-widgets/base",
          "model_name": "LayoutModel",
          "model_module_version": "1.2.0",
          "state": {
            "_model_module": "@jupyter-widgets/base",
            "_model_module_version": "1.2.0",
            "_model_name": "LayoutModel",
            "_view_count": null,
            "_view_module": "@jupyter-widgets/base",
            "_view_module_version": "1.2.0",
            "_view_name": "LayoutView",
            "align_content": null,
            "align_items": null,
            "align_self": null,
            "border": null,
            "bottom": null,
            "display": null,
            "flex": null,
            "flex_flow": null,
            "grid_area": null,
            "grid_auto_columns": null,
            "grid_auto_flow": null,
            "grid_auto_rows": null,
            "grid_column": null,
            "grid_gap": null,
            "grid_row": null,
            "grid_template_areas": null,
            "grid_template_columns": null,
            "grid_template_rows": null,
            "height": null,
            "justify_content": null,
            "justify_items": null,
            "left": null,
            "margin": null,
            "max_height": null,
            "max_width": null,
            "min_height": null,
            "min_width": null,
            "object_fit": null,
            "object_position": null,
            "order": null,
            "overflow": null,
            "overflow_x": null,
            "overflow_y": null,
            "padding": null,
            "right": null,
            "top": null,
            "visibility": null,
            "width": null
          }
        },
        "42a3e0f900924e16a3149e1b2e4605bf": {
          "model_module": "@jupyter-widgets/controls",
          "model_name": "ProgressStyleModel",
          "model_module_version": "1.5.0",
          "state": {
            "_model_module": "@jupyter-widgets/controls",
            "_model_module_version": "1.5.0",
            "_model_name": "ProgressStyleModel",
            "_view_count": null,
            "_view_module": "@jupyter-widgets/base",
            "_view_module_version": "1.2.0",
            "_view_name": "StyleView",
            "bar_color": null,
            "description_width": ""
          }
        },
        "c149f6f5ae114477b4af308540371891": {
          "model_module": "@jupyter-widgets/base",
          "model_name": "LayoutModel",
          "model_module_version": "1.2.0",
          "state": {
            "_model_module": "@jupyter-widgets/base",
            "_model_module_version": "1.2.0",
            "_model_name": "LayoutModel",
            "_view_count": null,
            "_view_module": "@jupyter-widgets/base",
            "_view_module_version": "1.2.0",
            "_view_name": "LayoutView",
            "align_content": null,
            "align_items": null,
            "align_self": null,
            "border": null,
            "bottom": null,
            "display": null,
            "flex": null,
            "flex_flow": null,
            "grid_area": null,
            "grid_auto_columns": null,
            "grid_auto_flow": null,
            "grid_auto_rows": null,
            "grid_column": null,
            "grid_gap": null,
            "grid_row": null,
            "grid_template_areas": null,
            "grid_template_columns": null,
            "grid_template_rows": null,
            "height": null,
            "justify_content": null,
            "justify_items": null,
            "left": null,
            "margin": null,
            "max_height": null,
            "max_width": null,
            "min_height": null,
            "min_width": null,
            "object_fit": null,
            "object_position": null,
            "order": null,
            "overflow": null,
            "overflow_x": null,
            "overflow_y": null,
            "padding": null,
            "right": null,
            "top": null,
            "visibility": null,
            "width": null
          }
        },
        "093c4f18e93943f18ad7a1477d32ed49": {
          "model_module": "@jupyter-widgets/controls",
          "model_name": "DescriptionStyleModel",
          "model_module_version": "1.5.0",
          "state": {
            "_model_module": "@jupyter-widgets/controls",
            "_model_module_version": "1.5.0",
            "_model_name": "DescriptionStyleModel",
            "_view_count": null,
            "_view_module": "@jupyter-widgets/base",
            "_view_module_version": "1.2.0",
            "_view_name": "StyleView",
            "description_width": ""
          }
        },
        "0141d65c45fe45ff94cf8ee5b0478716": {
          "model_module": "@jupyter-widgets/controls",
          "model_name": "HBoxModel",
          "model_module_version": "1.5.0",
          "state": {
            "_dom_classes": [],
            "_model_module": "@jupyter-widgets/controls",
            "_model_module_version": "1.5.0",
            "_model_name": "HBoxModel",
            "_view_count": null,
            "_view_module": "@jupyter-widgets/controls",
            "_view_module_version": "1.5.0",
            "_view_name": "HBoxView",
            "box_style": "",
            "children": [
              "IPY_MODEL_11bc1e4b5bd245d9ad0fbfd154c16331",
              "IPY_MODEL_31648fdd7de24c448967c5f77b65b9d9",
              "IPY_MODEL_624802a1b1c6416898e3327d71d8e17b"
            ],
            "layout": "IPY_MODEL_3989df2179f94472babc1969742868c5"
          }
        },
        "11bc1e4b5bd245d9ad0fbfd154c16331": {
          "model_module": "@jupyter-widgets/controls",
          "model_name": "HTMLModel",
          "model_module_version": "1.5.0",
          "state": {
            "_dom_classes": [],
            "_model_module": "@jupyter-widgets/controls",
            "_model_module_version": "1.5.0",
            "_model_name": "HTMLModel",
            "_view_count": null,
            "_view_module": "@jupyter-widgets/controls",
            "_view_module_version": "1.5.0",
            "_view_name": "HTMLView",
            "description": "",
            "description_tooltip": null,
            "layout": "IPY_MODEL_4354166d119246ecb504b6c40149c5cc",
            "placeholder": "​",
            "style": "IPY_MODEL_3eaf9a081fca4bf99bcf3a04cdcbc15e",
            "value": "merges.txt: 100%"
          }
        },
        "31648fdd7de24c448967c5f77b65b9d9": {
          "model_module": "@jupyter-widgets/controls",
          "model_name": "FloatProgressModel",
          "model_module_version": "1.5.0",
          "state": {
            "_dom_classes": [],
            "_model_module": "@jupyter-widgets/controls",
            "_model_module_version": "1.5.0",
            "_model_name": "FloatProgressModel",
            "_view_count": null,
            "_view_module": "@jupyter-widgets/controls",
            "_view_module_version": "1.5.0",
            "_view_name": "ProgressView",
            "bar_style": "success",
            "description": "",
            "description_tooltip": null,
            "layout": "IPY_MODEL_f953cf08c777410b9e867daa486f3433",
            "max": 456318,
            "min": 0,
            "orientation": "horizontal",
            "style": "IPY_MODEL_a117e1bf3a8b4764ba49232fb5ab0384",
            "value": 456318
          }
        },
        "624802a1b1c6416898e3327d71d8e17b": {
          "model_module": "@jupyter-widgets/controls",
          "model_name": "HTMLModel",
          "model_module_version": "1.5.0",
          "state": {
            "_dom_classes": [],
            "_model_module": "@jupyter-widgets/controls",
            "_model_module_version": "1.5.0",
            "_model_name": "HTMLModel",
            "_view_count": null,
            "_view_module": "@jupyter-widgets/controls",
            "_view_module_version": "1.5.0",
            "_view_name": "HTMLView",
            "description": "",
            "description_tooltip": null,
            "layout": "IPY_MODEL_35b23a7ac029486788f555fb13da5485",
            "placeholder": "​",
            "style": "IPY_MODEL_d816dbe9beea4f2d8ed0830a31d3b79e",
            "value": " 456k/456k [00:00&lt;00:00, 4.58MB/s]"
          }
        },
        "3989df2179f94472babc1969742868c5": {
          "model_module": "@jupyter-widgets/base",
          "model_name": "LayoutModel",
          "model_module_version": "1.2.0",
          "state": {
            "_model_module": "@jupyter-widgets/base",
            "_model_module_version": "1.2.0",
            "_model_name": "LayoutModel",
            "_view_count": null,
            "_view_module": "@jupyter-widgets/base",
            "_view_module_version": "1.2.0",
            "_view_name": "LayoutView",
            "align_content": null,
            "align_items": null,
            "align_self": null,
            "border": null,
            "bottom": null,
            "display": null,
            "flex": null,
            "flex_flow": null,
            "grid_area": null,
            "grid_auto_columns": null,
            "grid_auto_flow": null,
            "grid_auto_rows": null,
            "grid_column": null,
            "grid_gap": null,
            "grid_row": null,
            "grid_template_areas": null,
            "grid_template_columns": null,
            "grid_template_rows": null,
            "height": null,
            "justify_content": null,
            "justify_items": null,
            "left": null,
            "margin": null,
            "max_height": null,
            "max_width": null,
            "min_height": null,
            "min_width": null,
            "object_fit": null,
            "object_position": null,
            "order": null,
            "overflow": null,
            "overflow_x": null,
            "overflow_y": null,
            "padding": null,
            "right": null,
            "top": null,
            "visibility": null,
            "width": null
          }
        },
        "4354166d119246ecb504b6c40149c5cc": {
          "model_module": "@jupyter-widgets/base",
          "model_name": "LayoutModel",
          "model_module_version": "1.2.0",
          "state": {
            "_model_module": "@jupyter-widgets/base",
            "_model_module_version": "1.2.0",
            "_model_name": "LayoutModel",
            "_view_count": null,
            "_view_module": "@jupyter-widgets/base",
            "_view_module_version": "1.2.0",
            "_view_name": "LayoutView",
            "align_content": null,
            "align_items": null,
            "align_self": null,
            "border": null,
            "bottom": null,
            "display": null,
            "flex": null,
            "flex_flow": null,
            "grid_area": null,
            "grid_auto_columns": null,
            "grid_auto_flow": null,
            "grid_auto_rows": null,
            "grid_column": null,
            "grid_gap": null,
            "grid_row": null,
            "grid_template_areas": null,
            "grid_template_columns": null,
            "grid_template_rows": null,
            "height": null,
            "justify_content": null,
            "justify_items": null,
            "left": null,
            "margin": null,
            "max_height": null,
            "max_width": null,
            "min_height": null,
            "min_width": null,
            "object_fit": null,
            "object_position": null,
            "order": null,
            "overflow": null,
            "overflow_x": null,
            "overflow_y": null,
            "padding": null,
            "right": null,
            "top": null,
            "visibility": null,
            "width": null
          }
        },
        "3eaf9a081fca4bf99bcf3a04cdcbc15e": {
          "model_module": "@jupyter-widgets/controls",
          "model_name": "DescriptionStyleModel",
          "model_module_version": "1.5.0",
          "state": {
            "_model_module": "@jupyter-widgets/controls",
            "_model_module_version": "1.5.0",
            "_model_name": "DescriptionStyleModel",
            "_view_count": null,
            "_view_module": "@jupyter-widgets/base",
            "_view_module_version": "1.2.0",
            "_view_name": "StyleView",
            "description_width": ""
          }
        },
        "f953cf08c777410b9e867daa486f3433": {
          "model_module": "@jupyter-widgets/base",
          "model_name": "LayoutModel",
          "model_module_version": "1.2.0",
          "state": {
            "_model_module": "@jupyter-widgets/base",
            "_model_module_version": "1.2.0",
            "_model_name": "LayoutModel",
            "_view_count": null,
            "_view_module": "@jupyter-widgets/base",
            "_view_module_version": "1.2.0",
            "_view_name": "LayoutView",
            "align_content": null,
            "align_items": null,
            "align_self": null,
            "border": null,
            "bottom": null,
            "display": null,
            "flex": null,
            "flex_flow": null,
            "grid_area": null,
            "grid_auto_columns": null,
            "grid_auto_flow": null,
            "grid_auto_rows": null,
            "grid_column": null,
            "grid_gap": null,
            "grid_row": null,
            "grid_template_areas": null,
            "grid_template_columns": null,
            "grid_template_rows": null,
            "height": null,
            "justify_content": null,
            "justify_items": null,
            "left": null,
            "margin": null,
            "max_height": null,
            "max_width": null,
            "min_height": null,
            "min_width": null,
            "object_fit": null,
            "object_position": null,
            "order": null,
            "overflow": null,
            "overflow_x": null,
            "overflow_y": null,
            "padding": null,
            "right": null,
            "top": null,
            "visibility": null,
            "width": null
          }
        },
        "a117e1bf3a8b4764ba49232fb5ab0384": {
          "model_module": "@jupyter-widgets/controls",
          "model_name": "ProgressStyleModel",
          "model_module_version": "1.5.0",
          "state": {
            "_model_module": "@jupyter-widgets/controls",
            "_model_module_version": "1.5.0",
            "_model_name": "ProgressStyleModel",
            "_view_count": null,
            "_view_module": "@jupyter-widgets/base",
            "_view_module_version": "1.2.0",
            "_view_name": "StyleView",
            "bar_color": null,
            "description_width": ""
          }
        },
        "35b23a7ac029486788f555fb13da5485": {
          "model_module": "@jupyter-widgets/base",
          "model_name": "LayoutModel",
          "model_module_version": "1.2.0",
          "state": {
            "_model_module": "@jupyter-widgets/base",
            "_model_module_version": "1.2.0",
            "_model_name": "LayoutModel",
            "_view_count": null,
            "_view_module": "@jupyter-widgets/base",
            "_view_module_version": "1.2.0",
            "_view_name": "LayoutView",
            "align_content": null,
            "align_items": null,
            "align_self": null,
            "border": null,
            "bottom": null,
            "display": null,
            "flex": null,
            "flex_flow": null,
            "grid_area": null,
            "grid_auto_columns": null,
            "grid_auto_flow": null,
            "grid_auto_rows": null,
            "grid_column": null,
            "grid_gap": null,
            "grid_row": null,
            "grid_template_areas": null,
            "grid_template_columns": null,
            "grid_template_rows": null,
            "height": null,
            "justify_content": null,
            "justify_items": null,
            "left": null,
            "margin": null,
            "max_height": null,
            "max_width": null,
            "min_height": null,
            "min_width": null,
            "object_fit": null,
            "object_position": null,
            "order": null,
            "overflow": null,
            "overflow_x": null,
            "overflow_y": null,
            "padding": null,
            "right": null,
            "top": null,
            "visibility": null,
            "width": null
          }
        },
        "d816dbe9beea4f2d8ed0830a31d3b79e": {
          "model_module": "@jupyter-widgets/controls",
          "model_name": "DescriptionStyleModel",
          "model_module_version": "1.5.0",
          "state": {
            "_model_module": "@jupyter-widgets/controls",
            "_model_module_version": "1.5.0",
            "_model_name": "DescriptionStyleModel",
            "_view_count": null,
            "_view_module": "@jupyter-widgets/base",
            "_view_module_version": "1.2.0",
            "_view_name": "StyleView",
            "description_width": ""
          }
        },
        "b99ca48ec6e74cb5838183b75913bb1f": {
          "model_module": "@jupyter-widgets/controls",
          "model_name": "HBoxModel",
          "model_module_version": "1.5.0",
          "state": {
            "_dom_classes": [],
            "_model_module": "@jupyter-widgets/controls",
            "_model_module_version": "1.5.0",
            "_model_name": "HBoxModel",
            "_view_count": null,
            "_view_module": "@jupyter-widgets/controls",
            "_view_module_version": "1.5.0",
            "_view_name": "HBoxView",
            "box_style": "",
            "children": [
              "IPY_MODEL_aab1f43e4c394412ba72c6569c34c6ac",
              "IPY_MODEL_f04ac89359254761a48daa76c7a3cdcf",
              "IPY_MODEL_79f09f384b2f4feab4f89a707d4e1dce"
            ],
            "layout": "IPY_MODEL_2249bdb1e39344a2b0d012d4d6d8b22d"
          }
        },
        "aab1f43e4c394412ba72c6569c34c6ac": {
          "model_module": "@jupyter-widgets/controls",
          "model_name": "HTMLModel",
          "model_module_version": "1.5.0",
          "state": {
            "_dom_classes": [],
            "_model_module": "@jupyter-widgets/controls",
            "_model_module_version": "1.5.0",
            "_model_name": "HTMLModel",
            "_view_count": null,
            "_view_module": "@jupyter-widgets/controls",
            "_view_module_version": "1.5.0",
            "_view_name": "HTMLView",
            "description": "",
            "description_tooltip": null,
            "layout": "IPY_MODEL_92d299b6a69442dc82f62077290e4ac3",
            "placeholder": "​",
            "style": "IPY_MODEL_472ae6881bfd4c38828ea3cbd5fb58bc",
            "value": "tokenizer.json: 100%"
          }
        },
        "f04ac89359254761a48daa76c7a3cdcf": {
          "model_module": "@jupyter-widgets/controls",
          "model_name": "FloatProgressModel",
          "model_module_version": "1.5.0",
          "state": {
            "_dom_classes": [],
            "_model_module": "@jupyter-widgets/controls",
            "_model_module_version": "1.5.0",
            "_model_name": "FloatProgressModel",
            "_view_count": null,
            "_view_module": "@jupyter-widgets/controls",
            "_view_module_version": "1.5.0",
            "_view_name": "ProgressView",
            "bar_style": "success",
            "description": "",
            "description_tooltip": null,
            "layout": "IPY_MODEL_f101303353404a43b19383a599a3adc2",
            "max": 1355863,
            "min": 0,
            "orientation": "horizontal",
            "style": "IPY_MODEL_69841d87de2c49eba31becc8b0f43b97",
            "value": 1355863
          }
        },
        "79f09f384b2f4feab4f89a707d4e1dce": {
          "model_module": "@jupyter-widgets/controls",
          "model_name": "HTMLModel",
          "model_module_version": "1.5.0",
          "state": {
            "_dom_classes": [],
            "_model_module": "@jupyter-widgets/controls",
            "_model_module_version": "1.5.0",
            "_model_name": "HTMLModel",
            "_view_count": null,
            "_view_module": "@jupyter-widgets/controls",
            "_view_module_version": "1.5.0",
            "_view_name": "HTMLView",
            "description": "",
            "description_tooltip": null,
            "layout": "IPY_MODEL_724368eb49c541ce850f5c642eb23b60",
            "placeholder": "​",
            "style": "IPY_MODEL_94ba23ad89fb4b779549f96dbd5dbd7c",
            "value": " 1.36M/1.36M [00:00&lt;00:00, 11.2MB/s]"
          }
        },
        "2249bdb1e39344a2b0d012d4d6d8b22d": {
          "model_module": "@jupyter-widgets/base",
          "model_name": "LayoutModel",
          "model_module_version": "1.2.0",
          "state": {
            "_model_module": "@jupyter-widgets/base",
            "_model_module_version": "1.2.0",
            "_model_name": "LayoutModel",
            "_view_count": null,
            "_view_module": "@jupyter-widgets/base",
            "_view_module_version": "1.2.0",
            "_view_name": "LayoutView",
            "align_content": null,
            "align_items": null,
            "align_self": null,
            "border": null,
            "bottom": null,
            "display": null,
            "flex": null,
            "flex_flow": null,
            "grid_area": null,
            "grid_auto_columns": null,
            "grid_auto_flow": null,
            "grid_auto_rows": null,
            "grid_column": null,
            "grid_gap": null,
            "grid_row": null,
            "grid_template_areas": null,
            "grid_template_columns": null,
            "grid_template_rows": null,
            "height": null,
            "justify_content": null,
            "justify_items": null,
            "left": null,
            "margin": null,
            "max_height": null,
            "max_width": null,
            "min_height": null,
            "min_width": null,
            "object_fit": null,
            "object_position": null,
            "order": null,
            "overflow": null,
            "overflow_x": null,
            "overflow_y": null,
            "padding": null,
            "right": null,
            "top": null,
            "visibility": null,
            "width": null
          }
        },
        "92d299b6a69442dc82f62077290e4ac3": {
          "model_module": "@jupyter-widgets/base",
          "model_name": "LayoutModel",
          "model_module_version": "1.2.0",
          "state": {
            "_model_module": "@jupyter-widgets/base",
            "_model_module_version": "1.2.0",
            "_model_name": "LayoutModel",
            "_view_count": null,
            "_view_module": "@jupyter-widgets/base",
            "_view_module_version": "1.2.0",
            "_view_name": "LayoutView",
            "align_content": null,
            "align_items": null,
            "align_self": null,
            "border": null,
            "bottom": null,
            "display": null,
            "flex": null,
            "flex_flow": null,
            "grid_area": null,
            "grid_auto_columns": null,
            "grid_auto_flow": null,
            "grid_auto_rows": null,
            "grid_column": null,
            "grid_gap": null,
            "grid_row": null,
            "grid_template_areas": null,
            "grid_template_columns": null,
            "grid_template_rows": null,
            "height": null,
            "justify_content": null,
            "justify_items": null,
            "left": null,
            "margin": null,
            "max_height": null,
            "max_width": null,
            "min_height": null,
            "min_width": null,
            "object_fit": null,
            "object_position": null,
            "order": null,
            "overflow": null,
            "overflow_x": null,
            "overflow_y": null,
            "padding": null,
            "right": null,
            "top": null,
            "visibility": null,
            "width": null
          }
        },
        "472ae6881bfd4c38828ea3cbd5fb58bc": {
          "model_module": "@jupyter-widgets/controls",
          "model_name": "DescriptionStyleModel",
          "model_module_version": "1.5.0",
          "state": {
            "_model_module": "@jupyter-widgets/controls",
            "_model_module_version": "1.5.0",
            "_model_name": "DescriptionStyleModel",
            "_view_count": null,
            "_view_module": "@jupyter-widgets/base",
            "_view_module_version": "1.2.0",
            "_view_name": "StyleView",
            "description_width": ""
          }
        },
        "f101303353404a43b19383a599a3adc2": {
          "model_module": "@jupyter-widgets/base",
          "model_name": "LayoutModel",
          "model_module_version": "1.2.0",
          "state": {
            "_model_module": "@jupyter-widgets/base",
            "_model_module_version": "1.2.0",
            "_model_name": "LayoutModel",
            "_view_count": null,
            "_view_module": "@jupyter-widgets/base",
            "_view_module_version": "1.2.0",
            "_view_name": "LayoutView",
            "align_content": null,
            "align_items": null,
            "align_self": null,
            "border": null,
            "bottom": null,
            "display": null,
            "flex": null,
            "flex_flow": null,
            "grid_area": null,
            "grid_auto_columns": null,
            "grid_auto_flow": null,
            "grid_auto_rows": null,
            "grid_column": null,
            "grid_gap": null,
            "grid_row": null,
            "grid_template_areas": null,
            "grid_template_columns": null,
            "grid_template_rows": null,
            "height": null,
            "justify_content": null,
            "justify_items": null,
            "left": null,
            "margin": null,
            "max_height": null,
            "max_width": null,
            "min_height": null,
            "min_width": null,
            "object_fit": null,
            "object_position": null,
            "order": null,
            "overflow": null,
            "overflow_x": null,
            "overflow_y": null,
            "padding": null,
            "right": null,
            "top": null,
            "visibility": null,
            "width": null
          }
        },
        "69841d87de2c49eba31becc8b0f43b97": {
          "model_module": "@jupyter-widgets/controls",
          "model_name": "ProgressStyleModel",
          "model_module_version": "1.5.0",
          "state": {
            "_model_module": "@jupyter-widgets/controls",
            "_model_module_version": "1.5.0",
            "_model_name": "ProgressStyleModel",
            "_view_count": null,
            "_view_module": "@jupyter-widgets/base",
            "_view_module_version": "1.2.0",
            "_view_name": "StyleView",
            "bar_color": null,
            "description_width": ""
          }
        },
        "724368eb49c541ce850f5c642eb23b60": {
          "model_module": "@jupyter-widgets/base",
          "model_name": "LayoutModel",
          "model_module_version": "1.2.0",
          "state": {
            "_model_module": "@jupyter-widgets/base",
            "_model_module_version": "1.2.0",
            "_model_name": "LayoutModel",
            "_view_count": null,
            "_view_module": "@jupyter-widgets/base",
            "_view_module_version": "1.2.0",
            "_view_name": "LayoutView",
            "align_content": null,
            "align_items": null,
            "align_self": null,
            "border": null,
            "bottom": null,
            "display": null,
            "flex": null,
            "flex_flow": null,
            "grid_area": null,
            "grid_auto_columns": null,
            "grid_auto_flow": null,
            "grid_auto_rows": null,
            "grid_column": null,
            "grid_gap": null,
            "grid_row": null,
            "grid_template_areas": null,
            "grid_template_columns": null,
            "grid_template_rows": null,
            "height": null,
            "justify_content": null,
            "justify_items": null,
            "left": null,
            "margin": null,
            "max_height": null,
            "max_width": null,
            "min_height": null,
            "min_width": null,
            "object_fit": null,
            "object_position": null,
            "order": null,
            "overflow": null,
            "overflow_x": null,
            "overflow_y": null,
            "padding": null,
            "right": null,
            "top": null,
            "visibility": null,
            "width": null
          }
        },
        "94ba23ad89fb4b779549f96dbd5dbd7c": {
          "model_module": "@jupyter-widgets/controls",
          "model_name": "DescriptionStyleModel",
          "model_module_version": "1.5.0",
          "state": {
            "_model_module": "@jupyter-widgets/controls",
            "_model_module_version": "1.5.0",
            "_model_name": "DescriptionStyleModel",
            "_view_count": null,
            "_view_module": "@jupyter-widgets/base",
            "_view_module_version": "1.2.0",
            "_view_name": "StyleView",
            "description_width": ""
          }
        },
        "2e083321e85a41608eb386e162d377aa": {
          "model_module": "@jupyter-widgets/controls",
          "model_name": "HBoxModel",
          "model_module_version": "1.5.0",
          "state": {
            "_dom_classes": [],
            "_model_module": "@jupyter-widgets/controls",
            "_model_module_version": "1.5.0",
            "_model_name": "HBoxModel",
            "_view_count": null,
            "_view_module": "@jupyter-widgets/controls",
            "_view_module_version": "1.5.0",
            "_view_name": "HBoxView",
            "box_style": "",
            "children": [
              "IPY_MODEL_ca2b4dbf97ab4ca893ca202419e9c50c",
              "IPY_MODEL_88f8e5a3a06b433a86a838d8d8a07953",
              "IPY_MODEL_27836fb13a3445d4a67cadf389b71451"
            ],
            "layout": "IPY_MODEL_f1b3d4dfabc34f3cb78b808f4029184d"
          }
        },
        "ca2b4dbf97ab4ca893ca202419e9c50c": {
          "model_module": "@jupyter-widgets/controls",
          "model_name": "HTMLModel",
          "model_module_version": "1.5.0",
          "state": {
            "_dom_classes": [],
            "_model_module": "@jupyter-widgets/controls",
            "_model_module_version": "1.5.0",
            "_model_name": "HTMLModel",
            "_view_count": null,
            "_view_module": "@jupyter-widgets/controls",
            "_view_module_version": "1.5.0",
            "_view_name": "HTMLView",
            "description": "",
            "description_tooltip": null,
            "layout": "IPY_MODEL_3985fddfafc74d799a19806676e62e11",
            "placeholder": "​",
            "style": "IPY_MODEL_3e8a24e2fd904ed292383f0b3a3b3948",
            "value": "model.safetensors: 100%"
          }
        },
        "88f8e5a3a06b433a86a838d8d8a07953": {
          "model_module": "@jupyter-widgets/controls",
          "model_name": "FloatProgressModel",
          "model_module_version": "1.5.0",
          "state": {
            "_dom_classes": [],
            "_model_module": "@jupyter-widgets/controls",
            "_model_module_version": "1.5.0",
            "_model_name": "FloatProgressModel",
            "_view_count": null,
            "_view_module": "@jupyter-widgets/controls",
            "_view_module_version": "1.5.0",
            "_view_name": "ProgressView",
            "bar_style": "success",
            "description": "",
            "description_tooltip": null,
            "layout": "IPY_MODEL_27542afdb6c64c028c62cfce0ae0c7af",
            "max": 1421700479,
            "min": 0,
            "orientation": "horizontal",
            "style": "IPY_MODEL_d4dac725b59044648fac9ab8219a7e31",
            "value": 1421700479
          }
        },
        "27836fb13a3445d4a67cadf389b71451": {
          "model_module": "@jupyter-widgets/controls",
          "model_name": "HTMLModel",
          "model_module_version": "1.5.0",
          "state": {
            "_dom_classes": [],
            "_model_module": "@jupyter-widgets/controls",
            "_model_module_version": "1.5.0",
            "_model_name": "HTMLModel",
            "_view_count": null,
            "_view_module": "@jupyter-widgets/controls",
            "_view_module_version": "1.5.0",
            "_view_name": "HTMLView",
            "description": "",
            "description_tooltip": null,
            "layout": "IPY_MODEL_4ffc778fabd94eee9dad371d36a22556",
            "placeholder": "​",
            "style": "IPY_MODEL_fd1518ff2cdc422aa69712cc9db2fd09",
            "value": " 1.42G/1.42G [00:17&lt;00:00, 128MB/s]"
          }
        },
        "f1b3d4dfabc34f3cb78b808f4029184d": {
          "model_module": "@jupyter-widgets/base",
          "model_name": "LayoutModel",
          "model_module_version": "1.2.0",
          "state": {
            "_model_module": "@jupyter-widgets/base",
            "_model_module_version": "1.2.0",
            "_model_name": "LayoutModel",
            "_view_count": null,
            "_view_module": "@jupyter-widgets/base",
            "_view_module_version": "1.2.0",
            "_view_name": "LayoutView",
            "align_content": null,
            "align_items": null,
            "align_self": null,
            "border": null,
            "bottom": null,
            "display": null,
            "flex": null,
            "flex_flow": null,
            "grid_area": null,
            "grid_auto_columns": null,
            "grid_auto_flow": null,
            "grid_auto_rows": null,
            "grid_column": null,
            "grid_gap": null,
            "grid_row": null,
            "grid_template_areas": null,
            "grid_template_columns": null,
            "grid_template_rows": null,
            "height": null,
            "justify_content": null,
            "justify_items": null,
            "left": null,
            "margin": null,
            "max_height": null,
            "max_width": null,
            "min_height": null,
            "min_width": null,
            "object_fit": null,
            "object_position": null,
            "order": null,
            "overflow": null,
            "overflow_x": null,
            "overflow_y": null,
            "padding": null,
            "right": null,
            "top": null,
            "visibility": null,
            "width": null
          }
        },
        "3985fddfafc74d799a19806676e62e11": {
          "model_module": "@jupyter-widgets/base",
          "model_name": "LayoutModel",
          "model_module_version": "1.2.0",
          "state": {
            "_model_module": "@jupyter-widgets/base",
            "_model_module_version": "1.2.0",
            "_model_name": "LayoutModel",
            "_view_count": null,
            "_view_module": "@jupyter-widgets/base",
            "_view_module_version": "1.2.0",
            "_view_name": "LayoutView",
            "align_content": null,
            "align_items": null,
            "align_self": null,
            "border": null,
            "bottom": null,
            "display": null,
            "flex": null,
            "flex_flow": null,
            "grid_area": null,
            "grid_auto_columns": null,
            "grid_auto_flow": null,
            "grid_auto_rows": null,
            "grid_column": null,
            "grid_gap": null,
            "grid_row": null,
            "grid_template_areas": null,
            "grid_template_columns": null,
            "grid_template_rows": null,
            "height": null,
            "justify_content": null,
            "justify_items": null,
            "left": null,
            "margin": null,
            "max_height": null,
            "max_width": null,
            "min_height": null,
            "min_width": null,
            "object_fit": null,
            "object_position": null,
            "order": null,
            "overflow": null,
            "overflow_x": null,
            "overflow_y": null,
            "padding": null,
            "right": null,
            "top": null,
            "visibility": null,
            "width": null
          }
        },
        "3e8a24e2fd904ed292383f0b3a3b3948": {
          "model_module": "@jupyter-widgets/controls",
          "model_name": "DescriptionStyleModel",
          "model_module_version": "1.5.0",
          "state": {
            "_model_module": "@jupyter-widgets/controls",
            "_model_module_version": "1.5.0",
            "_model_name": "DescriptionStyleModel",
            "_view_count": null,
            "_view_module": "@jupyter-widgets/base",
            "_view_module_version": "1.2.0",
            "_view_name": "StyleView",
            "description_width": ""
          }
        },
        "27542afdb6c64c028c62cfce0ae0c7af": {
          "model_module": "@jupyter-widgets/base",
          "model_name": "LayoutModel",
          "model_module_version": "1.2.0",
          "state": {
            "_model_module": "@jupyter-widgets/base",
            "_model_module_version": "1.2.0",
            "_model_name": "LayoutModel",
            "_view_count": null,
            "_view_module": "@jupyter-widgets/base",
            "_view_module_version": "1.2.0",
            "_view_name": "LayoutView",
            "align_content": null,
            "align_items": null,
            "align_self": null,
            "border": null,
            "bottom": null,
            "display": null,
            "flex": null,
            "flex_flow": null,
            "grid_area": null,
            "grid_auto_columns": null,
            "grid_auto_flow": null,
            "grid_auto_rows": null,
            "grid_column": null,
            "grid_gap": null,
            "grid_row": null,
            "grid_template_areas": null,
            "grid_template_columns": null,
            "grid_template_rows": null,
            "height": null,
            "justify_content": null,
            "justify_items": null,
            "left": null,
            "margin": null,
            "max_height": null,
            "max_width": null,
            "min_height": null,
            "min_width": null,
            "object_fit": null,
            "object_position": null,
            "order": null,
            "overflow": null,
            "overflow_x": null,
            "overflow_y": null,
            "padding": null,
            "right": null,
            "top": null,
            "visibility": null,
            "width": null
          }
        },
        "d4dac725b59044648fac9ab8219a7e31": {
          "model_module": "@jupyter-widgets/controls",
          "model_name": "ProgressStyleModel",
          "model_module_version": "1.5.0",
          "state": {
            "_model_module": "@jupyter-widgets/controls",
            "_model_module_version": "1.5.0",
            "_model_name": "ProgressStyleModel",
            "_view_count": null,
            "_view_module": "@jupyter-widgets/base",
            "_view_module_version": "1.2.0",
            "_view_name": "StyleView",
            "bar_color": null,
            "description_width": ""
          }
        },
        "4ffc778fabd94eee9dad371d36a22556": {
          "model_module": "@jupyter-widgets/base",
          "model_name": "LayoutModel",
          "model_module_version": "1.2.0",
          "state": {
            "_model_module": "@jupyter-widgets/base",
            "_model_module_version": "1.2.0",
            "_model_name": "LayoutModel",
            "_view_count": null,
            "_view_module": "@jupyter-widgets/base",
            "_view_module_version": "1.2.0",
            "_view_name": "LayoutView",
            "align_content": null,
            "align_items": null,
            "align_self": null,
            "border": null,
            "bottom": null,
            "display": null,
            "flex": null,
            "flex_flow": null,
            "grid_area": null,
            "grid_auto_columns": null,
            "grid_auto_flow": null,
            "grid_auto_rows": null,
            "grid_column": null,
            "grid_gap": null,
            "grid_row": null,
            "grid_template_areas": null,
            "grid_template_columns": null,
            "grid_template_rows": null,
            "height": null,
            "justify_content": null,
            "justify_items": null,
            "left": null,
            "margin": null,
            "max_height": null,
            "max_width": null,
            "min_height": null,
            "min_width": null,
            "object_fit": null,
            "object_position": null,
            "order": null,
            "overflow": null,
            "overflow_x": null,
            "overflow_y": null,
            "padding": null,
            "right": null,
            "top": null,
            "visibility": null,
            "width": null
          }
        },
        "fd1518ff2cdc422aa69712cc9db2fd09": {
          "model_module": "@jupyter-widgets/controls",
          "model_name": "DescriptionStyleModel",
          "model_module_version": "1.5.0",
          "state": {
            "_model_module": "@jupyter-widgets/controls",
            "_model_module_version": "1.5.0",
            "_model_name": "DescriptionStyleModel",
            "_view_count": null,
            "_view_module": "@jupyter-widgets/base",
            "_view_module_version": "1.2.0",
            "_view_name": "StyleView",
            "description_width": ""
          }
        }
      }
    }
  },
  "cells": [
    {
      "cell_type": "markdown",
      "metadata": {
        "id": "view-in-github",
        "colab_type": "text"
      },
      "source": [
        "<a href=\"https://colab.research.google.com/github/qmeng222/transformers-for-NLP/blob/main/Seq2Seq/Translation.ipynb\" target=\"_parent\"><img src=\"https://colab.research.google.com/assets/colab-badge.svg\" alt=\"Open In Colab\"/></a>"
      ]
    },
    {
      "cell_type": "code",
      "execution_count": 1,
      "metadata": {
        "colab": {
          "base_uri": "https://localhost:8080/"
        },
        "id": "DW0U6nCHS48j",
        "outputId": "aa0b30dd-4537-4ae2-f4e9-6b3070b78f7c"
      },
      "outputs": [
        {
          "output_type": "stream",
          "name": "stdout",
          "text": [
            "Requirement already satisfied: transformers in /usr/local/lib/python3.10/dist-packages (4.35.2)\n",
            "Collecting datasets\n",
            "  Downloading datasets-2.15.0-py3-none-any.whl (521 kB)\n",
            "\u001b[2K     \u001b[90m━━━━━━━━━━━━━━━━━━━━━━━━━━━━━━━━━━━━━━━━\u001b[0m \u001b[32m521.2/521.2 kB\u001b[0m \u001b[31m7.5 MB/s\u001b[0m eta \u001b[36m0:00:00\u001b[0m\n",
            "\u001b[?25hCollecting sentencepiece\n",
            "  Downloading sentencepiece-0.1.99-cp310-cp310-manylinux_2_17_x86_64.manylinux2014_x86_64.whl (1.3 MB)\n",
            "\u001b[2K     \u001b[90m━━━━━━━━━━━━━━━━━━━━━━━━━━━━━━━━━━━━━━━━\u001b[0m \u001b[32m1.3/1.3 MB\u001b[0m \u001b[31m35.9 MB/s\u001b[0m eta \u001b[36m0:00:00\u001b[0m\n",
            "\u001b[?25hRequirement already satisfied: filelock in /usr/local/lib/python3.10/dist-packages (from transformers) (3.13.1)\n",
            "Requirement already satisfied: huggingface-hub<1.0,>=0.16.4 in /usr/local/lib/python3.10/dist-packages (from transformers) (0.19.4)\n",
            "Requirement already satisfied: numpy>=1.17 in /usr/local/lib/python3.10/dist-packages (from transformers) (1.23.5)\n",
            "Requirement already satisfied: packaging>=20.0 in /usr/local/lib/python3.10/dist-packages (from transformers) (23.2)\n",
            "Requirement already satisfied: pyyaml>=5.1 in /usr/local/lib/python3.10/dist-packages (from transformers) (6.0.1)\n",
            "Requirement already satisfied: regex!=2019.12.17 in /usr/local/lib/python3.10/dist-packages (from transformers) (2023.6.3)\n",
            "Requirement already satisfied: requests in /usr/local/lib/python3.10/dist-packages (from transformers) (2.31.0)\n",
            "Requirement already satisfied: tokenizers<0.19,>=0.14 in /usr/local/lib/python3.10/dist-packages (from transformers) (0.15.0)\n",
            "Requirement already satisfied: safetensors>=0.3.1 in /usr/local/lib/python3.10/dist-packages (from transformers) (0.4.0)\n",
            "Requirement already satisfied: tqdm>=4.27 in /usr/local/lib/python3.10/dist-packages (from transformers) (4.66.1)\n",
            "Requirement already satisfied: pyarrow>=8.0.0 in /usr/local/lib/python3.10/dist-packages (from datasets) (9.0.0)\n",
            "Collecting pyarrow-hotfix (from datasets)\n",
            "  Downloading pyarrow_hotfix-0.6-py3-none-any.whl (7.9 kB)\n",
            "Collecting dill<0.3.8,>=0.3.0 (from datasets)\n",
            "  Downloading dill-0.3.7-py3-none-any.whl (115 kB)\n",
            "\u001b[2K     \u001b[90m━━━━━━━━━━━━━━━━━━━━━━━━━━━━━━━━━━━━━━━━\u001b[0m \u001b[32m115.3/115.3 kB\u001b[0m \u001b[31m13.6 MB/s\u001b[0m eta \u001b[36m0:00:00\u001b[0m\n",
            "\u001b[?25hRequirement already satisfied: pandas in /usr/local/lib/python3.10/dist-packages (from datasets) (1.5.3)\n",
            "Requirement already satisfied: xxhash in /usr/local/lib/python3.10/dist-packages (from datasets) (3.4.1)\n",
            "Collecting multiprocess (from datasets)\n",
            "  Downloading multiprocess-0.70.15-py310-none-any.whl (134 kB)\n",
            "\u001b[2K     \u001b[90m━━━━━━━━━━━━━━━━━━━━━━━━━━━━━━━━━━━━━━━━\u001b[0m \u001b[32m134.8/134.8 kB\u001b[0m \u001b[31m15.1 MB/s\u001b[0m eta \u001b[36m0:00:00\u001b[0m\n",
            "\u001b[?25hRequirement already satisfied: fsspec[http]<=2023.10.0,>=2023.1.0 in /usr/local/lib/python3.10/dist-packages (from datasets) (2023.6.0)\n",
            "Requirement already satisfied: aiohttp in /usr/local/lib/python3.10/dist-packages (from datasets) (3.8.6)\n",
            "Requirement already satisfied: attrs>=17.3.0 in /usr/local/lib/python3.10/dist-packages (from aiohttp->datasets) (23.1.0)\n",
            "Requirement already satisfied: charset-normalizer<4.0,>=2.0 in /usr/local/lib/python3.10/dist-packages (from aiohttp->datasets) (3.3.2)\n",
            "Requirement already satisfied: multidict<7.0,>=4.5 in /usr/local/lib/python3.10/dist-packages (from aiohttp->datasets) (6.0.4)\n",
            "Requirement already satisfied: async-timeout<5.0,>=4.0.0a3 in /usr/local/lib/python3.10/dist-packages (from aiohttp->datasets) (4.0.3)\n",
            "Requirement already satisfied: yarl<2.0,>=1.0 in /usr/local/lib/python3.10/dist-packages (from aiohttp->datasets) (1.9.2)\n",
            "Requirement already satisfied: frozenlist>=1.1.1 in /usr/local/lib/python3.10/dist-packages (from aiohttp->datasets) (1.4.0)\n",
            "Requirement already satisfied: aiosignal>=1.1.2 in /usr/local/lib/python3.10/dist-packages (from aiohttp->datasets) (1.3.1)\n",
            "Requirement already satisfied: typing-extensions>=3.7.4.3 in /usr/local/lib/python3.10/dist-packages (from huggingface-hub<1.0,>=0.16.4->transformers) (4.5.0)\n",
            "Requirement already satisfied: idna<4,>=2.5 in /usr/local/lib/python3.10/dist-packages (from requests->transformers) (3.4)\n",
            "Requirement already satisfied: urllib3<3,>=1.21.1 in /usr/local/lib/python3.10/dist-packages (from requests->transformers) (2.0.7)\n",
            "Requirement already satisfied: certifi>=2017.4.17 in /usr/local/lib/python3.10/dist-packages (from requests->transformers) (2023.7.22)\n",
            "Requirement already satisfied: python-dateutil>=2.8.1 in /usr/local/lib/python3.10/dist-packages (from pandas->datasets) (2.8.2)\n",
            "Requirement already satisfied: pytz>=2020.1 in /usr/local/lib/python3.10/dist-packages (from pandas->datasets) (2023.3.post1)\n",
            "Requirement already satisfied: six>=1.5 in /usr/local/lib/python3.10/dist-packages (from python-dateutil>=2.8.1->pandas->datasets) (1.16.0)\n",
            "Installing collected packages: sentencepiece, pyarrow-hotfix, dill, multiprocess, datasets\n",
            "Successfully installed datasets-2.15.0 dill-0.3.7 multiprocess-0.70.15 pyarrow-hotfix-0.6 sentencepiece-0.1.99\n"
          ]
        }
      ],
      "source": [
        "# install libraries:\n",
        "!pip install transformers datasets sentencepiece\n",
        "# `transformers` library: for using pre-trained models\n",
        "# `datasets` library: to access a collection of high-quality datasets for NLP tasks\n",
        "# `sentencepiece` library: to tokenize text into subwords"
      ]
    },
    {
      "cell_type": "markdown",
      "source": [
        "# Load the dataset & split it into training and testing sets:\n",
        "\n",
        "The process of loading a dataset might implicitly involve downloading it if the dataset is not already present on your system."
      ],
      "metadata": {
        "id": "W4rDzVpi7XKM"
      }
    },
    {
      "cell_type": "code",
      "source": [
        "from datasets import load_dataset # from the library, import the function\n",
        "\n",
        "# [Reference] possible language pairs: https://opus.nlpl.eu/KDE4.php\n",
        "data = load_dataset(\"kde4\", lang1=\"en\", lang2=\"fr\") # load a dataset named \"kde4\" with specific language configurations\n",
        "data"
      ],
      "metadata": {
        "colab": {
          "base_uri": "https://localhost:8080/",
          "height": 281,
          "referenced_widgets": [
            "dddae29a3a8749f9872c5b8c7249c2cf",
            "a94c370a7e634e9e9839d1568dffed96",
            "af543e2484204a9fbbfecda279913309",
            "46e3857283384227bc7c552c908e8c70",
            "48f1ee81ef2b45bb99f129fcfe1a7613",
            "1f703252493e425fb993729b4cbf7a58",
            "b258a69928ad4da9b5002681d9b64f7b",
            "0d251d3b8be3447daf0366168c36a236",
            "4f22a17464cf45dcb77f7c7900315a57",
            "fcce8649ec444a948bbe8935b36a3121",
            "33b1f30b5a5c4959b3398dc4225e6fe4",
            "5ebe079eb0a0440697c090a6558c486d",
            "231c7bbbccb74c24b77c1c43ec214c9e",
            "6f750856327245f78af722766bf7cfd9",
            "96089c851df94331a52f80b29c7167fb",
            "0d6a105a5ba34352b85a8027eca4c94f",
            "8f10098aa8d54e5a85e6d11c782aec13",
            "a84e4f0a1f0349ecafa282f2045751ec",
            "aec9b36855594d0b9987cf8351b4c64d",
            "749d24cbe49e416a8b69c686c42cc9cf",
            "fd7f7efc501744a18e1d43b92a7f4c6b",
            "f41e46ea86154adfa8a216787a52da49",
            "1f3815c7b5a34f1b8fa0d5ad2436b9a6",
            "bc98e0cfa66e463e90209a44bf2ce9e7",
            "6403efe00de94efd95b5f95d578eff14",
            "2eab94dd311e4617b171afed921ed778",
            "924483edf25146ecaaa26561a07598bc",
            "270a1fdc86a44f3c839a467592d01844",
            "2264145e4fc34053a3bfedfcd48d682a",
            "f90e2744f59c49118980334215b9ac29",
            "7d2fe4709a11424f9bf0925a54f34e70",
            "497a23f191b446db80b155e072cb1d02",
            "03efc2d5a2434664a39482266842ad67",
            "a8941d7f504a4ac8aba0442c523ae44d",
            "8e6a03c5b41e4632b6f8fab51dea7994",
            "92b2a72d422b4ee58af1ed71e97da584",
            "b90e678545f84040a8575c31f65d830d",
            "e88c9a77b8014cd29667ef0e81d25113",
            "7cb499ca69b840729c453f48076131bd",
            "13d71be4d91543219922b81364b5a6d1",
            "0a171b09866446eeba2e70c440acbcc8",
            "e2efa12fc2ac4a4793b82675225a32c6",
            "4ed445ff9ba3456ba298efc4a0ca2d20",
            "00aa1662f6ba4b2581a8efac87e4b815",
            "46d674be9b8c46048c61819e5c1240f7",
            "28c74a4e0339462381eef05949cb2b18",
            "09ee185f033f4db28b1e345c808f7f9d",
            "7453f79922e24cd38ecac73e2113955f",
            "1ad96d569cf54f8e9d0f96f3f167b072",
            "3d7bec98f9ab4bb286adf1aee6893233",
            "565bcacf2d9643c29c55289fdfb3535e",
            "00d21bab49be4b8b9cb1fc405c84102b",
            "cbc3e7fd47f244de9c7d9ce898149688",
            "68083a073cad4c9a81a6604b923c3773",
            "6aba634290e24a1996bf1ab4fb8c050a"
          ]
        },
        "id": "qPMSk6b_2t7Q",
        "outputId": "5f028e9e-b658-461d-84b5-d64568e9298e"
      },
      "execution_count": 2,
      "outputs": [
        {
          "output_type": "display_data",
          "data": {
            "text/plain": [
              "Downloading builder script:   0%|          | 0.00/4.25k [00:00<?, ?B/s]"
            ],
            "application/vnd.jupyter.widget-view+json": {
              "version_major": 2,
              "version_minor": 0,
              "model_id": "dddae29a3a8749f9872c5b8c7249c2cf"
            }
          },
          "metadata": {}
        },
        {
          "output_type": "display_data",
          "data": {
            "text/plain": [
              "Downloading metadata:   0%|          | 0.00/8.45k [00:00<?, ?B/s]"
            ],
            "application/vnd.jupyter.widget-view+json": {
              "version_major": 2,
              "version_minor": 0,
              "model_id": "5ebe079eb0a0440697c090a6558c486d"
            }
          },
          "metadata": {}
        },
        {
          "output_type": "display_data",
          "data": {
            "text/plain": [
              "Downloading readme:   0%|          | 0.00/5.10k [00:00<?, ?B/s]"
            ],
            "application/vnd.jupyter.widget-view+json": {
              "version_major": 2,
              "version_minor": 0,
              "model_id": "1f3815c7b5a34f1b8fa0d5ad2436b9a6"
            }
          },
          "metadata": {}
        },
        {
          "output_type": "display_data",
          "data": {
            "text/plain": [
              "Downloading data:   0%|          | 0.00/7.05M [00:00<?, ?B/s]"
            ],
            "application/vnd.jupyter.widget-view+json": {
              "version_major": 2,
              "version_minor": 0,
              "model_id": "a8941d7f504a4ac8aba0442c523ae44d"
            }
          },
          "metadata": {}
        },
        {
          "output_type": "display_data",
          "data": {
            "text/plain": [
              "Generating train split:   0%|          | 0/210173 [00:00<?, ? examples/s]"
            ],
            "application/vnd.jupyter.widget-view+json": {
              "version_major": 2,
              "version_minor": 0,
              "model_id": "46d674be9b8c46048c61819e5c1240f7"
            }
          },
          "metadata": {}
        },
        {
          "output_type": "execute_result",
          "data": {
            "text/plain": [
              "DatasetDict({\n",
              "    train: Dataset({\n",
              "        features: ['id', 'translation'],\n",
              "        num_rows: 210173\n",
              "    })\n",
              "})"
            ]
          },
          "metadata": {},
          "execution_count": 2
        }
      ]
    },
    {
      "cell_type": "markdown",
      "source": [
        "👆 Too many samples!"
      ],
      "metadata": {
        "id": "qHhdwcG039wd"
      }
    },
    {
      "cell_type": "code",
      "source": [
        "small = data[\"train\"].shuffle(seed=42).select(range(1_000)) # create a smaller, shuffled subset of the training data\n",
        "# .shuffle(): this method shuffles the training examples\n",
        "# seed=42: the seed parameter is set to 42 to ensure reproducibility\n",
        "# .select(range(1_000)): selects the first 20,000 examples (0-999)\n",
        "small"
      ],
      "metadata": {
        "colab": {
          "base_uri": "https://localhost:8080/"
        },
        "id": "aheFm_qc327I",
        "outputId": "a039d6b6-b4ef-4357-a683-e05e4aaa6c4e"
      },
      "execution_count": 3,
      "outputs": [
        {
          "output_type": "execute_result",
          "data": {
            "text/plain": [
              "Dataset({\n",
              "    features: ['id', 'translation'],\n",
              "    num_rows: 1000\n",
              "})"
            ]
          },
          "metadata": {},
          "execution_count": 3
        }
      ]
    },
    {
      "cell_type": "code",
      "source": [
        "# split dataset ('small') into training and testing sets:\n",
        "split = small.train_test_split(seed=42) # ensure the split is reproducible\n",
        "split"
      ],
      "metadata": {
        "colab": {
          "base_uri": "https://localhost:8080/"
        },
        "id": "qiujiFqN6KaK",
        "outputId": "3e4968ba-a79e-4c3a-a42f-d6ac045f71d2"
      },
      "execution_count": 4,
      "outputs": [
        {
          "output_type": "execute_result",
          "data": {
            "text/plain": [
              "DatasetDict({\n",
              "    train: Dataset({\n",
              "        features: ['id', 'translation'],\n",
              "        num_rows: 750\n",
              "    })\n",
              "    test: Dataset({\n",
              "        features: ['id', 'translation'],\n",
              "        num_rows: 250\n",
              "    })\n",
              "})"
            ]
          },
          "metadata": {},
          "execution_count": 4
        }
      ]
    },
    {
      "cell_type": "code",
      "source": [
        "# check the 1st example from the training set:\n",
        "split[\"train\"][0]"
      ],
      "metadata": {
        "colab": {
          "base_uri": "https://localhost:8080/"
        },
        "id": "gg7AELAw6Tno",
        "outputId": "5bd50465-438f-4ac1-f329-9d1a54d0d3cd"
      },
      "execution_count": 5,
      "outputs": [
        {
          "output_type": "execute_result",
          "data": {
            "text/plain": [
              "{'id': '169005',\n",
              " 'translation': {'en': '& Reduce Tree', 'fr': \"& Refermer l' arborescence\"}}"
            ]
          },
          "metadata": {},
          "execution_count": 5
        }
      ]
    },
    {
      "cell_type": "markdown",
      "source": [
        "# Load the tokenizer:"
      ],
      "metadata": {
        "id": "pxQT1zSO8uu2"
      }
    },
    {
      "cell_type": "code",
      "source": [
        "from transformers import AutoTokenizer # import the class, enabling dynamic loading of tokenizer for a specific pre-trained model\n",
        "\n",
        "checkpoint = \"Helsinki-NLP/opus-mt-en-fr\" # model identifier (specify the name of a pre-trained model)\n",
        "tokenizer = AutoTokenizer.from_pretrained(checkpoint) # automatically load the appropriate tokenizer"
      ],
      "metadata": {
        "colab": {
          "base_uri": "https://localhost:8080/",
          "height": 232,
          "referenced_widgets": [
            "a92b5774dd934f56818e84c399ee8924",
            "25cde1cb1c2b468e9acdee6b28be36d4",
            "7f24c062790747a29ca4f0880d519df6",
            "ab6d2a04c0164cfd884298af0d89d89c",
            "3fcf3c09687c4ed1a2388c8c013c4607",
            "ff88997175f34463b0056b4c4a84dc4c",
            "f7efc7679e2b4324b6d379f6f55e06e7",
            "7131cf3c451747c2992184008f216bb2",
            "0c07b61e445f4cf680a83b8402ba2b62",
            "56585a0846a84af386db70e73ea3914e",
            "fb9caa34212a43b199b76f7716c3351f",
            "75200cb1cf3e4ee5859a5d2dd3d1ccc5",
            "92f6473ed261466e8562a14d2624b5ca",
            "82b8f05f99824dbbb09f7c20cceede57",
            "e67162a3bccc4b658e63df598589a261",
            "5e083d02ff034a43a4b1cf013ebe7a7e",
            "3f825736ae4b4f0db3d13dc615a904f9",
            "5f6823dc737a4e1ba0cabecae71ae218",
            "553195e6c5e44f30bbfbcced9f14421f",
            "7adafdd08f584585bbfe96a5b7e7089a",
            "8fdb017c129441f1b3d08eda926fe99d",
            "f211efdd7edb4f12ae1ac663a50e308e",
            "08f82fec9da6490a92f784715786cd7b",
            "a59413878341464f805e486bd58e950c",
            "9fdeda17eec949108a0bced2fd0eeebc",
            "5cdcd1dd4f2440c69bd4d9c877c67c7f",
            "b87d602e3ef74a0090b49850970d5512",
            "47f976d1e3944deba7297d75134d6800",
            "19dd498792954340bbd443e72349faa9",
            "96175416f0774bd1b59cba27b590a37e",
            "59f59a50cad3403ba14ea5c48e65ce65",
            "2cb0e82a92b34e3c88ba16165a29ab05",
            "50f1d4be4ccc4bebaec7a40a8144243e",
            "2fafab067d004527804fee6df11349bb",
            "cff71c2636544461b55b3ade0f664155",
            "54cc7f8eb7404908bac4fb8002d295e6",
            "93eccb3b7bcc4cf7bb29c2b1f3628975",
            "5bf121c824044f7fb575847bd10dca74",
            "06bc6b500ea1476b8ba1f99db260439c",
            "9476cad8c72a41c989d6e9f24edce87a",
            "f824193ef7a249f0a1bf79a97d8c99b0",
            "be63e40204284b19b2da5aec12643950",
            "0529f78b2b9446a8938c04dae2eda37d",
            "5c9da9e44b164380a6f1761014224dd9",
            "1b66c017cbc24a128d4c44ced938901d",
            "47006d41df71415ca3699a3bc9026195",
            "0b6bc8e435ae471da04701b5336c867c",
            "36c7f66e98014b0fabe6cde4b35c6479",
            "0ac3cd8c614742febd379df26dd41be6",
            "8d8b584ee21e4491bf545d9f1d224978",
            "948ae4144001427788249c8e594fa857",
            "8bee312b608c4c5a9454c6e78ca6bf95",
            "4b86a274c32c444f9ec898302a0d8ed9",
            "b9749002358e4b4b8f401c56a766256a",
            "575c1d283d9e4a57b37e452e51dfaf24"
          ]
        },
        "id": "mpS4QqkA6_uj",
        "outputId": "ca874150-470a-48f8-b8e4-be16135c2f43"
      },
      "execution_count": 6,
      "outputs": [
        {
          "output_type": "display_data",
          "data": {
            "text/plain": [
              "tokenizer_config.json:   0%|          | 0.00/42.0 [00:00<?, ?B/s]"
            ],
            "application/vnd.jupyter.widget-view+json": {
              "version_major": 2,
              "version_minor": 0,
              "model_id": "a92b5774dd934f56818e84c399ee8924"
            }
          },
          "metadata": {}
        },
        {
          "output_type": "display_data",
          "data": {
            "text/plain": [
              "config.json:   0%|          | 0.00/1.42k [00:00<?, ?B/s]"
            ],
            "application/vnd.jupyter.widget-view+json": {
              "version_major": 2,
              "version_minor": 0,
              "model_id": "75200cb1cf3e4ee5859a5d2dd3d1ccc5"
            }
          },
          "metadata": {}
        },
        {
          "output_type": "display_data",
          "data": {
            "text/plain": [
              "source.spm:   0%|          | 0.00/778k [00:00<?, ?B/s]"
            ],
            "application/vnd.jupyter.widget-view+json": {
              "version_major": 2,
              "version_minor": 0,
              "model_id": "08f82fec9da6490a92f784715786cd7b"
            }
          },
          "metadata": {}
        },
        {
          "output_type": "display_data",
          "data": {
            "text/plain": [
              "target.spm:   0%|          | 0.00/802k [00:00<?, ?B/s]"
            ],
            "application/vnd.jupyter.widget-view+json": {
              "version_major": 2,
              "version_minor": 0,
              "model_id": "2fafab067d004527804fee6df11349bb"
            }
          },
          "metadata": {}
        },
        {
          "output_type": "display_data",
          "data": {
            "text/plain": [
              "vocab.json:   0%|          | 0.00/1.34M [00:00<?, ?B/s]"
            ],
            "application/vnd.jupyter.widget-view+json": {
              "version_major": 2,
              "version_minor": 0,
              "model_id": "1b66c017cbc24a128d4c44ced938901d"
            }
          },
          "metadata": {}
        },
        {
          "output_type": "stream",
          "name": "stderr",
          "text": [
            "/usr/local/lib/python3.10/dist-packages/transformers/models/marian/tokenization_marian.py:197: UserWarning: Recommended: pip install sacremoses.\n",
            "  warnings.warn(\"Recommended: pip install sacremoses.\")\n"
          ]
        }
      ]
    },
    {
      "cell_type": "markdown",
      "source": [
        "# Prepare the model inputs:"
      ],
      "metadata": {
        "id": "OPE9qG3Mh4Zm"
      }
    },
    {
      "cell_type": "code",
      "source": [
        "# check the 6th example from the training set:\n",
        "split[\"train\"][5]"
      ],
      "metadata": {
        "colab": {
          "base_uri": "https://localhost:8080/"
        },
        "id": "QYRUJcSu_ndW",
        "outputId": "fe8cde63-f5ec-496f-c024-632a4a4060cc"
      },
      "execution_count": 7,
      "outputs": [
        {
          "output_type": "execute_result",
          "data": {
            "text/plain": [
              "{'id': '46472',\n",
              " 'translation': {'en': 'You can either pick a file or enter its name in the Location: box.',\n",
              "  'fr': 'Vous pouvez soit choisir un fichier soit saisir son nom dans la zone de texte Emplacement.'}}"
            ]
          },
          "metadata": {},
          "execution_count": 7
        }
      ]
    },
    {
      "cell_type": "code",
      "source": [
        "# extract the English and French translation texts from the 6th example (idx=5):\n",
        "en = split['train'][5]['translation']['en']\n",
        "fr = split['train'][5]['translation']['fr']\n",
        "en, fr"
      ],
      "metadata": {
        "colab": {
          "base_uri": "https://localhost:8080/"
        },
        "id": "YbdWycle863m",
        "outputId": "c6f6ad3d-e995-47d5-9135-ec29d9970168"
      },
      "execution_count": 8,
      "outputs": [
        {
          "output_type": "execute_result",
          "data": {
            "text/plain": [
              "('You can either pick a file or enter its name in the Location: box.',\n",
              " 'Vous pouvez soit choisir un fichier soit saisir son nom dans la zone de texte Emplacement.')"
            ]
          },
          "metadata": {},
          "execution_count": 8
        }
      ]
    },
    {
      "cell_type": "code",
      "source": [
        "# tokenize the English translation text -> the input tokens (into a machine learning model)\n",
        "inputs = tokenizer(en)\n",
        "inputs"
      ],
      "metadata": {
        "colab": {
          "base_uri": "https://localhost:8080/"
        },
        "id": "8kKaNFM2_5-S",
        "outputId": "fc975735-e1ae-4882-ee62-80c98b5a1711"
      },
      "execution_count": 9,
      "outputs": [
        {
          "output_type": "execute_result",
          "data": {
            "text/plain": [
              "{'input_ids': [213, 115, 1828, 8437, 15, 1437, 57, 3307, 96, 1129, 18, 4, 4577, 37, 5311, 3, 0], 'attention_mask': [1, 1, 1, 1, 1, 1, 1, 1, 1, 1, 1, 1, 1, 1, 1, 1, 1]}"
            ]
          },
          "metadata": {},
          "execution_count": 9
        }
      ]
    },
    {
      "cell_type": "markdown",
      "source": [
        "👆 Note: it comes with an attention mask"
      ],
      "metadata": {
        "id": "-vIJtxKbMjSH"
      }
    },
    {
      "cell_type": "code",
      "source": [
        "# tokenize the French translation text -> the target tokens\n",
        "targets = tokenizer(text_target=fr) # NOTE: must specify `text_target` here!\n",
        "targets"
      ],
      "metadata": {
        "colab": {
          "base_uri": "https://localhost:8080/"
        },
        "id": "6aQeylkDJcHI",
        "outputId": "5734570b-4ad3-403b-a960-8d53685df1f3"
      },
      "execution_count": 10,
      "outputs": [
        {
          "output_type": "execute_result",
          "data": {
            "text/plain": [
              "{'input_ids': [344, 1069, 345, 4094, 34, 2428, 345, 9315, 113, 689, 31, 8, 1283, 5, 1470, 21708, 3, 0], 'attention_mask': [1, 1, 1, 1, 1, 1, 1, 1, 1, 1, 1, 1, 1, 1, 1, 1, 1, 1]}"
            ]
          },
          "metadata": {},
          "execution_count": 10
        }
      ]
    },
    {
      "cell_type": "markdown",
      "source": [
        "👆 `targets` is a dictionary obtained from tokenizing some text,\n",
        "\n",
        "and 'input_ids' is a key in this dictionary.\n",
        "\n",
        "The value associated with this key is **a sequence of token IDs**."
      ],
      "metadata": {
        "id": "d53Yg0IJK350"
      }
    },
    {
      "cell_type": "code",
      "source": [
        "# just for checking purpose, convert ids back into string tokens:\n",
        "# the `convert_ids_to_tokens` method is a functionality provided by `tokenizer`\n",
        "# it takes a sequence of token ids & returns the corresponding tokens in a human-readable format\n",
        "tokenizer.convert_ids_to_tokens(targets['input_ids'])"
      ],
      "metadata": {
        "colab": {
          "base_uri": "https://localhost:8080/"
        },
        "id": "z2MZwYT7KXZk",
        "outputId": "3511615f-8feb-45fd-dc05-2313b27ef3eb"
      },
      "execution_count": 11,
      "outputs": [
        {
          "output_type": "execute_result",
          "data": {
            "text/plain": [
              "['▁Vous',\n",
              " '▁pouvez',\n",
              " '▁soit',\n",
              " '▁choisir',\n",
              " '▁un',\n",
              " '▁fichier',\n",
              " '▁soit',\n",
              " '▁saisir',\n",
              " '▁son',\n",
              " '▁nom',\n",
              " '▁dans',\n",
              " '▁la',\n",
              " '▁zone',\n",
              " '▁de',\n",
              " '▁texte',\n",
              " '▁Emplacement',\n",
              " '.',\n",
              " '</s>']"
            ]
          },
          "metadata": {},
          "execution_count": 11
        }
      ]
    },
    {
      "cell_type": "markdown",
      "source": [
        "Matches the print out in line 10 🎉\n",
        "\n",
        "one word -> one string token ✅"
      ],
      "metadata": {
        "id": "mvoBfNIsNtl0"
      }
    },
    {
      "cell_type": "code",
      "source": [
        "# (wrong) demo: What will happen if we didn't specify `text_target` in line 21?\n",
        "bad_targets = tokenizer(fr) # should be `targets = tokenizer(text_target=fr)` instead\n",
        "tokenizer.convert_ids_to_tokens(bad_targets['input_ids'])"
      ],
      "metadata": {
        "colab": {
          "base_uri": "https://localhost:8080/"
        },
        "id": "8fCY2OuLLzcs",
        "outputId": "863292a3-79dc-4e02-e8be-2623594affaa"
      },
      "execution_count": 12,
      "outputs": [
        {
          "output_type": "execute_result",
          "data": {
            "text/plain": [
              "['▁V',\n",
              " 'ous',\n",
              " '▁po',\n",
              " 'uv',\n",
              " 'ez',\n",
              " '▁so',\n",
              " 'it',\n",
              " '▁cho',\n",
              " 'is',\n",
              " 'ir',\n",
              " '▁un',\n",
              " '▁fi',\n",
              " 'chi',\n",
              " 'er',\n",
              " '▁so',\n",
              " 'it',\n",
              " '▁s',\n",
              " 'ais',\n",
              " 'ir',\n",
              " '▁son',\n",
              " '▁no',\n",
              " 'm',\n",
              " '▁dans',\n",
              " '▁la',\n",
              " '▁zone',\n",
              " '▁de',\n",
              " '▁text',\n",
              " 'e',\n",
              " '▁Em',\n",
              " 'placement',\n",
              " '.',\n",
              " '</s>']"
            ]
          },
          "metadata": {},
          "execution_count": 12
        }
      ]
    },
    {
      "cell_type": "markdown",
      "source": [
        "👆 Not completely fail.\n",
        "\n",
        "However, one word -> multiple string tokens ❌"
      ],
      "metadata": {
        "id": "8kVn5PHmT7t2"
      }
    },
    {
      "cell_type": "code",
      "source": [
        "import matplotlib.pyplot as plt # from the matplotlib library, import the pyplot module for data visualization"
      ],
      "metadata": {
        "id": "qopt3CuTUxcT"
      },
      "execution_count": 19,
      "outputs": []
    },
    {
      "cell_type": "code",
      "source": [
        "# scratch:\n",
        "split"
      ],
      "metadata": {
        "colab": {
          "base_uri": "https://localhost:8080/"
        },
        "id": "_PY2RzBeU_qs",
        "outputId": "e0b9ed42-b5df-42d0-af90-329d88c1ab68"
      },
      "execution_count": 22,
      "outputs": [
        {
          "output_type": "execute_result",
          "data": {
            "text/plain": [
              "DatasetDict({\n",
              "    train: Dataset({\n",
              "        features: ['id', 'translation'],\n",
              "        num_rows: 750\n",
              "    })\n",
              "    test: Dataset({\n",
              "        features: ['id', 'translation'],\n",
              "        num_rows: 250\n",
              "    })\n",
              "})"
            ]
          },
          "metadata": {},
          "execution_count": 22
        }
      ]
    },
    {
      "cell_type": "code",
      "source": [
        "# scratch:\n",
        "split['train']['translation'][9]"
      ],
      "metadata": {
        "colab": {
          "base_uri": "https://localhost:8080/"
        },
        "id": "I0Dd8gdBVOtt",
        "outputId": "bc5bec78-0f18-4883-e006-80fde44f4e7d"
      },
      "execution_count": 23,
      "outputs": [
        {
          "output_type": "execute_result",
          "data": {
            "text/plain": [
              "{'en': 'Creating new Data CD Project.',\n",
              " 'fr': \"Création d'un nouveau projet de CD de données.\"}"
            ]
          },
          "metadata": {},
          "execution_count": 23
        }
      ]
    },
    {
      "cell_type": "code",
      "source": [
        "# retrieve 'translation' features of the training subset:\n",
        "train = split['train']['translation']"
      ],
      "metadata": {
        "id": "etgF9GH4aNuh"
      },
      "execution_count": 25,
      "outputs": []
    },
    {
      "cell_type": "code",
      "source": [
        "# histogram to check the (English) input lengths:\n",
        "input_lens = [len(tr['en']) for tr in train]\n",
        "plt.hist(input_lens, bins=50);  # `;` suppresses output of the last expression"
      ],
      "metadata": {
        "colab": {
          "base_uri": "https://localhost:8080/",
          "height": 430
        },
        "id": "57nOCYW_ZgYr",
        "outputId": "5c6caa2a-b54b-4333-99db-63ce885bc5fb"
      },
      "execution_count": 27,
      "outputs": [
        {
          "output_type": "display_data",
          "data": {
            "text/plain": [
              "<Figure size 640x480 with 1 Axes>"
            ],
            "image/png": "[encoded data removed]"
          },
          "metadata": {}
        }
      ]
    },
    {
      "cell_type": "markdown",
      "source": [
        "👆 The majority of input lengths fall below 100."
      ],
      "metadata": {
        "id": "YL1V8JJ3Y4MR"
      }
    },
    {
      "cell_type": "code",
      "source": [
        "# histogram to check the (French) target lengths:\n",
        "target_lens = [len(tr['fr']) for tr in train]\n",
        "plt.hist(target_lens, bins=50);"
      ],
      "metadata": {
        "colab": {
          "base_uri": "https://localhost:8080/",
          "height": 430
        },
        "id": "UpElDvGlZaSt",
        "outputId": "a38221fe-1874-41e7-da9f-7d9eb3762634"
      },
      "execution_count": 28,
      "outputs": [
        {
          "output_type": "display_data",
          "data": {
            "text/plain": [
              "<Figure size 640x480 with 1 Axes>"
            ],
            "image/png": "[encoded data removed]"
          },
          "metadata": {}
        }
      ]
    },
    {
      "cell_type": "markdown",
      "source": [
        "👆 The majority of target lengths fall below 150."
      ],
      "metadata": {
        "id": "gHA7eo28dk5N"
      }
    },
    {
      "cell_type": "markdown",
      "source": [
        "# Tokenizer function:"
      ],
      "metadata": {
        "id": "givFE60-h_aa"
      }
    },
    {
      "cell_type": "code",
      "source": [
        "max_input_len = 128\n",
        "max_target_len = 128\n",
        "\n",
        "def tokenizer_fn(batch):\n",
        "  inputs = [x['en'] for x in batch['translation']]\n",
        "  targets = [x['fr'] for x in batch['translation']]\n",
        "\n",
        "  # tokenize the inputs:\n",
        "  tokenized_inputs = tokenizer(\n",
        "    inputs, max_length=max_input_len, truncation=True)\n",
        "  print(tokenized_inputs)\n",
        "\n",
        "  # tokenize the targets:\n",
        "  tokenized_targets = tokenizer(\n",
        "    text_target=targets, max_length=max_target_len, truncation=True)\n",
        "  print(tokenized_targets)\n",
        "\n",
        "  tokenized_inputs['labels'] = tokenized_targets['input_ids'] # ignore attention masks\n",
        "  return tokenized_inputs"
      ],
      "metadata": {
        "id": "KJ9PaaRReb-B"
      },
      "execution_count": 31,
      "outputs": []
    },
    {
      "cell_type": "markdown",
      "source": [
        "# Apply the tokenizer:"
      ],
      "metadata": {
        "id": "d-t53YHWiRLs"
      }
    },
    {
      "cell_type": "code",
      "source": [
        "# apply a function (`tokenizer_fn`) to each example in the dataset (`split`) & save as a new dataset (`tokenized_datasets`):\n",
        "tokenized_datasets = split.map(\n",
        "    tokenizer_fn,\n",
        "    batched=True, # apply tokenization function to examples in batches rather than individually\n",
        "    remove_columns=split['train'].column_names, # specify the columns to be removed from the resulting tokenized dataset\n",
        ")"
      ],
      "metadata": {
        "colab": {
          "base_uri": "https://localhost:8080/",
          "height": 170,
          "referenced_widgets": [
            "0b6dcff66b074641acf2f893a253b5d5",
            "e1f403a693de429a8a23ad859d924b35",
            "f380e91d4d844fefabcc9f8ba0309956",
            "2056090dca7646d69a336d767f2120d4",
            "e68d0915b01c4c908d95b96c7bbec8b4",
            "1730197dfd0f40438b69bc9ed71a14c4",
            "a8ef2599f8054d8e8ec47f6979a7c495",
            "52e28d684e434327bf5a09cea789c133",
            "e5a8b7c3bf5248adac99b49f2b47fb6c",
            "5aa74776decd4dc9b0e5359ac4ed2f2f",
            "71e00ee6dca24d04957e09be7f9514e7",
            "e946c8a4cad54e8c97f49e9a4d35cbb3",
            "a65053b71d284858b4fbc4d0b488f17f",
            "a25821855d6744cd8d614d57186d9630",
            "89c7c61195e04b7a837f42c17496eb61",
            "c4460a595e434267850fb0656f6ff07e",
            "183be5fdd644491fa26a78be86be691c",
            "ec211f1f8cf7452f9c54ed12d9c25f59",
            "72cf39f76d26494a927c9feadf8fafa3",
            "410cf1e26a744517a9ebc7c51ad3aa95",
            "c53ce634d7ee44c4b6ecb90a43466c8a",
            "43f3c5593a014a49b43886e49c53492d"
          ]
        },
        "id": "-ALj_IZBsrQz",
        "outputId": "6eb257cf-f131-4ce2-d9e5-caeed49c9739"
      },
      "execution_count": 30,
      "outputs": [
        {
          "output_type": "display_data",
          "data": {
            "text/plain": [
              "Map:   0%|          | 0/750 [00:00<?, ? examples/s]"
            ],
            "application/vnd.jupyter.widget-view+json": {
              "version_major": 2,
              "version_minor": 0,
              "model_id": "0b6dcff66b074641acf2f893a253b5d5"
            }
          },
          "metadata": {}
        },
        {
          "output_type": "stream",
          "name": "stdout",
          "text": [
            "{'input_ids': [[402, 34933, 29244, 0], [526, 3261, 0], [3492, 3070, 6443, 37, 443, 61, 32, 317, 2203, 4824, 514, 1807, 971, 4, 4124, 3, 0], [2167, 1398, 0], [526, 3261, 11223, 80, 532, 51, 1430, 2652, 0], [213, 115, 1828, 8437, 15, 1437, 57, 3307, 96, 1129, 18, 4, 4577, 37, 5311, 3, 0], [5559, 84, 1323, 0], [18961, 124, 16945, 9, 64, 301, 548, 0], [3107, 24, 14135, 12222, 75, 41085, 28, 0], [31780, 191, 3492, 3571, 3298, 3, 0], [17006, 0], [3321, 16999, 12, 12802, 3795, 4004, 12, 0], [23797, 3493, 0], [1715, 2, 11317, 2, 4469, 21, 31713, 2, 170, 2131, 1345, 0], [42530, 1777, 5149, 12, 16359, 9, 48, 15, 1497, 3, 2253, 16359, 1777, 32, 6372, 2, 170, 16359, 9, 52, 30297, 71, 98, 3, 2253, 16359, 1777, 32, 11415, 24, 776, 2751, 318, 119, 98, 16359, 9, 85, 52, 73, 13897, 6372, 86, 17214, 71, 4, 912, 1377, 3, 0], [249, 9490, 31293, 20570, 0], [4484, 1863, 12, 7293, 31111, 1317, 8658, 0], [402, 4484, 12079, 23409, 0], [443, 67, 5311, 32, 15108, 4, 10014, 25526, 86, 1680, 48, 4212, 2370, 232, 48, 7607, 3, 32162, 52, 11949, 3, 0], [25218, 74, 17856, 9, 12, 1240, 0], [13833, 23450, 9, 0], [5846, 1624, 4168, 12, 552, 14078, 3, 0], [359, 657, 17955, 4412, 8160, 859, 8961, 0], [7133, 27255, 0], [97, 4, 34955, 11134, 46, 67, 2805, 3280, 2, 55, 115, 713, 4, 14297, 24, 9, 8571, 9, 2, 6443, 4036, 2, 402, 1025, 50, 28, 403, 46, 4, 417, 3, 2260, 3, 0], [8025, 22880, 40578, 222, 3847, 317, 309, 50, 20142, 9, 24, 2636, 24736, 13772, 317, 309, 50, 2, 7770, 317, 309, 50, 12374, 2, 7770, 317, 309, 50, 7756, 2, 1025, 3, 28, 0], [402, 660, 9, 7761, 0], [24, 3878, 4011, 301, 4757, 401, 3878, 602, 623, 3878, 6470, 0], [26234, 5803, 4004, 110, 0], [15305, 101, 4788, 0], [1055, 1432, 6884, 30349, 0], [13224, 4, 417, 6240, 161, 45, 5289, 457, 1038, 1769, 3, 0], [14879, 21110, 0], [11557, 124, 2955, 7994, 37, 0], [15311, 75, 9077, 75, 35, 16488, 13405, 20269, 3, 5846, 3941, 24, 166, 75, 13259, 2846, 150, 28, 86, 20206, 12582, 36202, 26, 212, 800, 15311, 75, 9077, 75, 9077, 75, 2368, 8658, 33, 55, 5139, 3, 160, 32, 15, 1081, 3941, 26, 2199, 15311, 75, 9077, 75, 9077, 687, 226, 3442, 101, 2585, 3, 15311, 75, 9077, 75, 15311, 75, 0], [23611, 158, 0], [402, 11016, 0], [18689, 3792, 17314, 301, 548, 110, 0], [160, 518, 365, 32, 73, 6647, 3, 138, 115, 73, 45, 403, 3, 0], [24605, 402, 15352, 139, 24457, 0], [402, 13123, 3, 5571, 334, 15164, 50, 402, 13123, 3, 5571, 334, 15164, 3, 7829, 50, 0], [19335, 1509, 9, 4378, 0], [1113, 3897, 10953, 381, 12, 0], [20050, 16462, 4, 1237, 8241, 7, 4, 1877, 12, 45, 17424, 124, 3, 0], [4624, 5592, 0], [13679, 0], [23501, 9, 0], [80, 532, 51, 1430, 9913, 0], [357, 623, 3, 0], [47, 9, 8548, 720, 526, 1308, 0], [12647, 720, 1744, 973, 12839, 0], [46710, 2468, 0], [26925, 41, 45629, 87, 124, 24, 9021, 28, 0], [10730, 10359, 16913, 0], [8429, 108, 236, 21, 1874, 9893, 0], [89, 75, 13259, 50, 258, 24299, 0], [6152, 2, 38647, 0], [7002, 31283, 10, 11617, 0], [35, 402, 2635, 2307, 11379, 50, 28402, 0], [6509, 19915, 376, 0], [25541, 26237, 0], [3689, 5118, 47668, 25218, 0], [1538, 24, 337, 9832, 4971, 28, 0], [14493, 0], [14266, 2470, 1437, 37, 0], [35, 3298, 7378, 0], [17776, 9432, 0], [4471, 2, 55, 4700, 15, 8591, 23464, 3, 0], [1717, 7821, 110, 86, 3255, 4004, 64, 117, 18160, 12, 4, 28106, 3, 0], [1782, 9961, 358, 0], [18, 1662, 817, 376, 623, 6807, 6419, 9766, 0], [7587, 31035, 24, 8203, 2095, 28, 0], [39244, 11949, 9, 12, 37, 0], [935, 337, 23904, 772, 0], [7268, 0], [20397, 12423, 741, 141, 12593, 134, 1071, 5594, 0], [14455, 4971, 0], [301, 548, 664, 73, 6181, 12, 45, 15, 15675, 3, 1789, 3826, 15, 6647, 15675, 3, 0], [3298, 402, 5935, 37, 0], [25950, 7139, 0], [1963, 37, 151, 42254, 3280, 20228, 6352, 12, 151, 2095, 2, 73, 3482, 74, 3482, 16943, 3, 593, 32, 2, 196, 202, 45, 1186, 18573, 42, 4, 476, 3482, 74, 3482, 16943, 19841, 681, 4811, 9, 3, 0], [35645, 301, 548, 69, 3607, 3, 0], [26088, 4295, 301, 548, 26, 4438, 3, 0], [402, 7185, 2049, 37, 301, 548, 0], [24132, 0], [234, 6269, 385, 32020, 10437, 0], [233, 24, 550, 5967, 30, 13572, 42481, 28, 0], [8321, 6, 9, 29140, 1060, 0], [375, 48921, 703, 7, 499, 2, 287, 155, 202, 45, 3964, 3, 0], [2938, 0], [7821, 664, 73, 5019, 212, 15797, 3, 138, 202, 45, 4, 4128, 1226, 3, 0], [4012, 37, 583, 583, 3390, 3, 717, 2882, 9, 3, 57, 309, 74, 5386, 3, 49, 30824, 54, 2695, 4586, 9077, 9077, 9077, 9077, 39224, 1802, 9918, 0], [47, 8931, 15143, 32057, 38574, 43169, 0], [213, 202, 8615, 10, 7829, 117, 2058, 235, 55, 39296, 402, 47975, 114, 50, 12, 256, 667, 108, 1664, 3, 0], [47, 8594, 7158, 4212, 37, 0], [35, 8647, 33, 399, 205, 402, 338, 22659, 9, 50, 3875, 199, 151, 7, 4, 1043, 4555, 2, 1529, 61, 8828, 12, 26246, 4, 4033, 6442, 5893, 3, 0], [35, 1437, 55, 3819, 32, 73, 15, 6898, 1858, 13340, 2758, 24, 483, 13926, 13340, 2603, 52, 7, 2429, 21880, 15103, 2, 441, 1841, 15103, 2, 57, 846, 2312, 15103, 102, 213, 202, 835, 256, 29464, 2603, 7, 126, 14435, 46, 8488, 18756, 15, 2625, 3455, 720, 57, 1106, 63, 22392, 8488, 5222, 5066, 3, 443, 55, 52, 73, 11670, 42, 1175, 324, 6, 15226, 3455, 720, 8488, 5222, 25, 13407, 411, 2702, 639, 12, 256, 15, 6898, 1858, 13340, 2758, 479, 3, 25440, 6966, 133, 2603, 115, 45, 2259, 46, 1980, 16561, 101, 254, 64, 15, 1355, 6898, 1858, 13340, 18160, 37, 20, 111, 235, 4586, 74, 5, 973, 74, 6898, 1858, 13340, 7, 4586, 74, 492, 5634, 74, 6898, 1858, 13340, 3, 7724, 12729, 46, 0], [22509, 301, 548, 0], [16184, 37, 0], [3914, 123, 246, 713, 4, 1226, 365, 424, 487, 123, 197, 15, 191, 3740, 3, 402, 40819, 27973, 2398, 50, 41, 9, 973, 364, 86, 1680, 77, 6551, 1226, 365, 2, 239, 13645, 4, 1226, 365, 10, 3647, 4, 6032, 462, 3, 237, 4405, 79, 81, 6, 75, 1743, 2013, 270, 4, 1156, 1226, 365, 86, 45, 3, 0], [7730, 10384, 16143, 0], [17404, 0], [1889, 0], [47591, 26, 596, 402, 9988, 0], [1123, 2033, 8448, 7621, 14523, 3596, 0], [249, 22159, 9, 25005, 0], [44930, 4, 19924, 111, 9499, 5990, 5754, 26, 4, 29871, 108, 3, 19021, 1744, 840, 12, 256, 4, 3523, 21, 190, 11949, 85, 2004, 32, 11605, 3089, 20771, 42, 287, 1345, 6769, 10, 11605, 2720, 3, 0], [47591, 1509, 9, 4378, 115, 73, 45, 11285, 0], [301, 548, 29328, 687, 4456, 14503, 0], [213, 1566, 317, 13632, 15, 1658, 15675, 3, 0], [14405, 37, 0], [23101, 75, 12888, 126, 16945, 9, 0], [2010, 2255, 7, 67, 2025, 86, 73, 45, 42666, 3, 8429, 101, 246, 15043, 42666, 4036, 1298, 20892, 414, 525, 10, 74, 57, 21915, 8135, 155, 3, 134, 18877, 98, 2255, 5558, 54, 0], [35, 3867, 7, 471, 518, 32, 12, 2806, 71, 1187, 3043, 1588, 222, 313, 50, 7, 4, 1164, 42, 6694, 3, 0], [2958, 180, 15225, 107, 36596, 0], [24849, 15675, 95, 1356, 3847, 0], [6039, 1345, 84, 0], [359, 16901, 0], [160, 12, 5793, 859, 4, 2805, 3758, 30, 57, 1165, 3, 443, 61, 32, 1165, 2, 10, 55, 354, 12, 256, 4, 2805, 3758, 2, 55, 115, 349, 5487, 18, 4, 7389, 576, 7, 402, 2635, 3343, 7282, 50, 10, 15, 2805, 86, 4580, 3, 213, 115, 591, 5139, 5118, 7378, 3758, 12, 3012, 61, 717, 30, 3, 0], [301, 548, 46, 33658, 0], [4845, 1255, 37, 0], [41155, 5011, 0], [160, 1632, 13498, 32, 1482, 246, 235, 4, 1017, 542, 7, 478, 4336, 681, 647, 14435, 3, 0], [11769, 0], [6186, 16343, 0], [89, 75, 13259, 50, 16488, 50, 135, 2, 267, 5567, 1430, 741, 24, 190, 5665, 28, 0], [5548, 4839, 16717, 226, 18357, 1802, 46351, 11904, 3, 2638, 0], [4898, 0], [8864, 62, 5779, 3252, 114, 37, 0], [9086, 9, 15, 868, 613, 18, 15, 868, 2085, 7, 15, 868, 2701, 30, 85, 67, 1877, 57, 12, 21, 2049, 161, 317, 7513, 3, 0], [1113, 2862, 5805, 542, 37, 0], [488, 309, 10128, 7528, 7, 4, 2695, 2341, 3, 0], [402, 156, 17179, 8388, 597, 110, 0], [7517, 6, 37776, 4189, 25, 2636, 6, 41964, 6, 0], [8932, 9859, 22122, 0], [11016, 7, 5935, 10, 45436, 1863, 0], [15435, 110, 0], [996, 150, 20084, 24, 12885, 22880, 16672, 30, 21589, 28, 0], [4333, 9, 19671, 0], [31345, 63, 9927, 10572, 11970, 162, 0], [89, 15574, 301, 548, 37, 301, 2910, 12059, 4373, 0], [15917, 27257, 29477, 48601, 24834, 7139, 0], [236, 8246, 6461, 114, 10, 7865, 9, 2830, 114, 0], [402, 7821, 0], [35, 402, 1680, 9715, 687, 50, 28402, 0], [10706, 0], [402, 24132, 0], [1782, 2903, 18647, 42112, 0], [4493, 101, 8451, 0], [11769, 13191, 0], [97, 4, 34955, 55, 86, 579, 15, 1317, 30, 4, 1684, 7, 681, 1437, 13632, 5754, 9719, 3, 402, 8770, 720, 50, 2119, 77, 7138, 545, 7, 11949, 9, 9719, 12, 5882, 411, 1087, 1437, 1202, 122, 101, 15797, 3, 443, 55, 6, 111, 324, 12, 3255, 15, 191, 5754, 2, 5487, 30, 4, 1717, 9319, 2, 10, 542, 18, 117, 5754, 10, 5487, 30, 6841, 3, 213, 202, 256, 4, 476, 3900, 12, 7106, 9, 48, 2768, 18, 4, 660, 13632, 12595, 5719, 30349, 3, 0], [213, 1063, 12, 4513, 37, 0], [7002, 10582, 7507, 1971, 33, 52, 15421, 244, 6769, 3, 35, 26000, 2143, 24395, 13476, 7, 188, 21, 778, 2178, 12732, 12, 747, 6705, 26261, 2, 85, 32, 10888, 26, 6083, 1431, 9784, 7, 40837, 376, 542, 84, 3, 160, 10725, 33, 188, 8575, 9, 52, 2004, 7333, 18186, 9784, 3, 847, 1089, 121, 79, 24929, 702, 9, 25840, 1088, 2837, 24, 93, 10481, 126, 1809, 5967, 14421, 10582, 7507, 1971, 102, 0], [526, 6407, 2114, 37971, 402, 28402, 0], [258, 8585, 859, 0], [34933, 1344, 2429, 26, 24103, 1863, 0], [38494, 9, 1460, 0], [42530, 9, 18, 6950, 20546, 0], [30349, 647, 177, 41, 84, 623, 114, 0], [18903, 313, 5625, 50, 37313, 7378, 1111, 402, 2635, 1874, 50, 32, 26422, 0], [8987, 0], [27353, 0], [28259, 27690, 4524, 0], [25377, 15032, 401, 48049, 23177, 28, 2494, 9, 109, 7847, 4304, 3526, 0], [12450, 21286, 623, 13034, 301, 4011, 21286, 623, 9, 11205, 301, 331, 10, 21286, 1312, 9, 11205, 301, 602, 0], [443, 55, 79, 15, 22635, 42, 246, 271, 27030, 2, 19444, 533, 4, 402, 87, 10503, 50, 10, 402, 258, 10503, 50, 1181, 8488, 17682, 9, 4, 402, 156, 10503, 50, 7, 15, 544, 9319, 22635, 3, 0], [375, 514, 12, 1240, 2897, 0], [33228, 253, 37805, 3689, 37, 97, 67, 760, 402, 225, 883, 50, 3385, 15, 39395, 6594, 7, 4, 2004, 3819, 4923, 3, 3937, 7, 4, 4923, 6, 9, 15388, 9, 94, 96, 759, 5311, 42, 4923, 170, 511, 1129, 24, 9, 2251, 548, 26, 4, 293, 15388, 18, 4, 7081, 23725, 1043, 28, 10, 3930, 155, 24, 776, 8570, 30435, 576, 18, 4, 7081, 23725, 102, 0], [8429, 19610, 21, 10481, 21223, 5424, 2357, 0], [60, 124, 9, 0], [488, 309, 10128, 993, 37098, 5277, 52, 14673, 791, 4, 7528, 32, 18, 5029, 3, 0], [1691, 0], [1789, 3307, 117, 1760, 2561, 1557, 3, 443, 55, 639, 147, 913, 314, 4, 6137, 9929, 2, 5487, 30, 4, 13679, 37313, 9319, 3, 0], [402, 667, 3, 2805, 3, 2824, 50, 0], [402, 10915, 1817, 188, 7655, 9, 101, 10604, 0], [5537, 98, 35519, 18011, 85, 79, 15, 1223, 18, 4, 852, 1437, 401, 9, 102, 0], [402, 47, 8594, 7158, 0], [213, 115, 1903, 15, 191, 3175, 46, 21104, 67, 9319, 57, 1097, 4, 7821, 2805, 2, 596, 15049, 3, 0], [35, 48, 1167, 14882, 10, 62, 17291, 17564, 6445, 2184, 17025, 10, 4589, 3, 402, 484, 309, 50, 2, 141, 1485, 7100, 144, 11097, 2489, 0], [6791, 47591, 0], [40842, 0], [596, 3516, 0], [89, 7123, 10372, 22939, 0], [15832, 25218, 0], [47, 8594, 7158, 0], [6369, 30, 9086, 746, 2, 591, 10604, 122, 3, 213, 115, 913, 4, 2092, 122, 2183, 479, 18, 544, 2627, 37, 10915, 2, 3412, 10, 608, 3, 386, 411, 2092, 122, 9, 2, 3412, 57, 608, 1018, 18, 4, 476, 2183, 3, 443, 6540, 67, 3751, 664, 81, 6, 75, 216, 2, 399, 2210, 4, 4033, 10642, 26, 117, 2092, 122, 52, 3278, 18, 9086, 746, 2, 10604, 122, 2, 10604, 122, 16184, 9, 3, 0], [596, 2897, 6860, 944, 0], [14405, 37, 0], [14460, 0], [526, 142, 133, 1071, 634, 24, 720, 511, 50, 12647, 18373, 1277, 81, 22236, 446, 3732, 13050, 28, 32, 15, 6442, 12611, 85, 2, 26, 943, 2, 7877, 5117, 649, 12, 4, 2805, 18573, 3, 0], [160, 7748, 900, 2368, 9, 1226, 664, 73, 298, 4438, 12014, 39465, 8588, 9, 3, 0], [9710, 282, 7086, 1286, 226, 7086, 2, 307, 1123, 10850, 685, 0], [526, 41162, 0], [1989, 5310, 3255, 4, 2207, 36949, 301, 4011, 61, 32, 1016, 225, 7, 4, 1317, 7, 2207, 36949, 9, 3, 0], [249, 142, 8150, 158, 13230, 4662, 101, 0], [402, 2635, 4786, 13632, 50, 94, 15, 11949, 402, 2635, 511, 50, 6564, 2805, 48, 2999, 1557, 2, 42, 151, 1023, 37, 0], [35, 8961, 2805, 6886, 7, 171, 2118, 3, 0], [3818, 18597, 657, 5591, 37, 834, 2020, 928, 37, 301, 4011, 542, 37, 301, 331, 0], [2120, 0], [24496, 0], [20142, 0], [27180, 260, 41, 10066, 9, 0], [12374, 5082, 75, 6045, 37, 0], [15311, 75, 9077, 75, 35, 7528, 115, 45, 22191, 124, 18, 57, 176, 46, 45067, 117, 22635, 6, 9, 40201, 12837, 2, 15311, 75, 9077, 75, 9077, 4189, 46, 23522, 30391, 4, 22635, 205, 57, 761, 42, 4, 6718, 22635, 9319, 33958, 3, 213, 15311, 75, 9077, 75, 9077, 75, 3462, 121, 256, 4, 1398, 74, 41, 18011, 2, 57, 4, 58, 1842, 10451, 122, 97, 149, 74, 149, 25950, 7139, 58, 15373, 9, 18, 4, 3941, 3758, 10, 15311, 75, 9077, 75, 9077, 2766, 4, 3689, 2805, 3, 35, 25950, 10207, 115, 45, 545, 29717, 1097, 4, 149, 25950, 12, 935, 309, 13169, 15311, 75, 9077, 75, 9077, 75, 142, 3317, 58, 15373, 18, 4, 3689, 2805, 24, 142, 5871, 4387, 2846, 166, 75, 13259, 2846, 0], [488, 5793, 859, 4, 3420, 12, 713, 4, 13722, 7, 4, 3819, 62, 3954, 23382, 9, 0], [9673, 67, 5982, 0], [156, 31579, 16635, 20065, 367, 1850, 0], [45040, 331, 0], [12812, 403, 26, 4, 800, 6501, 15675, 9, 0], [35, 542, 7, 1410, 11767, 24, 259, 191, 1410, 542, 28, 0], [304, 1494, 24299, 0], [560, 128, 27190, 791, 5227, 4, 27882, 1437, 25, 3878, 548, 25, 37, 301, 331, 0], [16492, 9, 1165, 98, 19360, 10, 7528, 98, 4004, 3, 0], [84, 48517, 3878, 5073, 0], [21758, 158, 10706, 3868, 222, 9782, 0], [7875, 2110, 9256, 0], [1111, 67, 2674, 32, 15108, 2, 4, 15108, 2993, 64, 4, 1317, 1557, 86, 45, 3469, 12, 11059, 18, 606, 10753, 103, 9432, 3, 160, 5149, 246, 12, 526, 12643, 6, 9, 39395, 21622, 3, 17719, 9646, 487, 8759, 67, 145, 0], [12417, 1146, 746, 13550, 0], [6213, 2734, 2114, 627, 1160, 6369, 42234, 0], [2982, 2783, 12, 4822, 0], [3493, 0], [278, 973, 32675, 328, 0], [260, 7, 36320, 9, 0], [4484, 4, 526, 3261, 26354, 17778, 2, 48, 61, 32, 2319, 30, 13606, 3, 0], [15435, 23777, 30136, 190, 0], [17404, 7955, 21593, 0], [1989, 5310, 3444, 2603, 18, 301, 4494, 0], [7260, 142, 1167, 1044, 47146, 0], [6213, 21, 23298, 30, 15, 13847, 1618, 9, 61, 0], [9487, 0], [39406, 0], [2630, 46, 32885, 0], [2704, 26, 9101, 1436, 37211, 1013, 0], [5786, 6601, 0], [39270, 34622, 9, 0], [12432, 38007, 30, 646, 34046, 9, 0], [24828, 5990, 101, 0], [160, 32, 4, 12966, 1144, 0], [6554, 10837, 5401, 1044, 10808, 0], [5918, 5415, 37313, 0], [3492, 545, 3328, 170, 32102, 3, 1123, 55, 639, 12, 5591, 11920, 1480, 54, 0], [8251, 63, 32883, 0], [47, 8594, 7158, 13059, 7, 11603, 9, 12, 713, 4, 6240, 2429, 3, 35, 2207, 647, 86, 838, 61, 4971, 4, 2429, 152, 4, 4297, 6240, 32, 73, 2912, 3, 0], [35, 349, 48, 10781, 4077, 7, 4, 2350, 2127, 668, 7, 4, 13604, 4042, 2, 18, 38540, 1613, 3, 160, 1223, 32, 28997, 50, 61, 32, 31796, 14100, 4, 1038, 13710, 9, 761, 3, 0], [6592, 670, 8498, 1794, 0], [7730, 32, 15, 542, 7, 2824, 3, 35, 629, 52, 18, 15, 1437, 2454, 1381, 49, 15021, 7492, 2, 10, 115, 45, 2103, 30, 4, 6467, 1410, 42, 4, 4694, 1038, 3, 0], [97, 9314, 15, 8769, 3086, 12469, 18, 15, 8043, 19259, 10268, 12, 15, 19259, 34946, 3, 0], [2183, 48629, 191, 20302, 7761, 21338, 9, 15, 713, 7, 4, 6469, 2183, 518, 3, 35, 2183, 32, 77, 18, 1167, 3511, 42, 15, 1628, 7, 747, 21, 4238, 3, 0], [14022, 12, 7821, 0], [17404, 0], [5258, 12, 1240, 0], [8136, 37443, 0], [5658, 18114, 3974, 28524, 9, 0], [4612, 4923, 5058, 0], [526, 381, 5169, 14446, 529, 25797, 9, 0], [2734, 18794, 0], [18787, 9, 0], [7956, 6508, 2, 16494, 9, 10, 1459, 37, 402, 9839, 122, 10817, 3, 935, 265, 617, 50, 402, 9839, 122, 10817, 3, 935, 265, 617, 3, 7829, 50, 0], [249, 0], [443, 67, 2674, 32, 11415, 24, 776, 11949, 119, 4, 2695, 86, 45, 528, 8135, 3, 0], [4459, 1756, 1632, 8462, 1987, 0], [35, 23709, 16114, 9548, 2025, 0], [3615, 51, 28581, 51, 0], [28376, 0], [27065, 0], [6327, 124, 11557, 0], [13331, 2079, 38921, 9, 0], [2560, 11071, 0], [1113, 3897, 6132, 0], [1717, 15, 191, 1822, 3, 596, 2329, 52, 42697, 12, 4, 1317, 3, 0], [36320, 9, 42, 834, 4811, 9, 4450, 5073, 4719, 0], [443, 58, 559, 17179, 149, 32, 3819, 2, 591, 4, 58, 31401, 8806, 149, 21, 1817, 6226, 19524, 514, 3, 627, 61, 32, 73, 801, 12, 11523, 4, 8033, 1437, 13632, 3714, 3, 213, 115, 121, 36633, 67, 1348, 14831, 3, 0], [35885, 17770, 50, 57, 35885, 30349, 4612, 101, 32, 15, 545, 7, 1065, 33, 6860, 2097, 15, 368, 514, 4850, 2104, 606, 6442, 57, 834, 24430, 3, 160, 3707, 18, 16993, 2993, 12, 11601, 15648, 2, 2104, 124, 38869, 2, 10, 126, 2329, 1181, 10, 7419, 254, 12, 216, 6860, 3, 0], [249, 2030, 155, 30, 140, 21, 17442, 1437, 17706, 9, 0], [3020, 55, 115, 5139, 4, 195, 242, 4107, 9, 36227, 2, 57, 40171, 67, 7426, 31104, 46, 18718, 1123, 73, 5407, 6860, 24, 111, 14279, 4, 18318, 139, 12, 4, 1491, 1684, 102, 0], [11157, 962, 51, 7823, 514, 110, 0], [33646, 6501, 37, 0], [2704, 26, 287, 5220, 18, 557, 3, 249, 609, 227, 6520, 155, 3, 0], [6809, 5537, 1392, 14649, 41659, 0], [402, 9673, 67, 5386, 0], [11123, 14266, 2470, 0], [5969, 37313, 0], [28976, 948, 597, 24077, 166, 0], [402, 7723, 488, 0], [13362, 9, 0], [304, 12815, 124, 12, 545, 3572, 499, 0], [6327, 301, 548, 0], [2869, 550, 5591, 37, 47702, 928, 37, 301, 548, 0], [660, 10571, 8079, 1317, 0], [160, 5902, 6053, 4, 195, 30, 117, 1539, 30353, 64, 4, 2869, 16647, 3, 0], [26967, 21, 12204, 551, 0], [12784, 1744, 635, 3456, 602, 0], [19335, 5999, 5453, 2721, 446, 0], [34046, 1129, 0], [8564, 5625, 37175, 37, 0], [11769, 0], [35, 180, 5235, 32667, 3261, 401, 28, 3318, 11097, 15, 7618, 1464, 2301, 48, 15, 38540, 365, 3, 35, 10107, 253, 7618, 32, 4, 365, 12, 45, 16565, 10, 4, 10107, 32, 4, 47518, 7, 4, 10107, 0], [436, 0], [3321, 1689, 5939, 0], [7821, 0], [13550, 7, 6536, 301, 548, 69, 3607, 3, 0], [6791, 42347, 74, 9033, 0], [27377, 77, 2758, 1437, 30, 4, 2758, 9319, 3, 0], [402, 89, 75, 13259, 50, 2178, 0], [9212, 10113, 6870, 0], [4471, 9835, 32677, 0], [7378, 0], [9086, 746, 1438, 0], [35, 5490, 280, 45, 15, 1436, 16109, 5224, 8775, 2061, 133, 1624, 44451, 0], [402, 14411, 9176, 139, 0], [20293, 1455, 2758, 8617, 13070, 0], [1121, 197, 47, 6523, 16084, 64, 4, 7875, 11370, 54, 0], [1183, 21, 93, 1754, 1223, 928, 26, 36893, 301, 4494, 0], [26088, 0], [4898, 31673, 0], [8926, 0], [7821, 3818, 15832, 0], [6809, 8876, 101, 37, 9673, 15, 10176, 7, 1813, 27030, 12, 2942, 4, 2758, 12, 4, 668, 55, 639, 30, 4, 2905, 8615, 1624, 3, 47591, 32, 6, 41105, 25, 3, 7407, 28972, 26, 1288, 2993, 37, 160, 526, 3261, 39829, 17138, 561, 5709, 20228, 12, 4, 89, 10445, 142, 6467, 1410, 2160, 2674, 25352, 37, 41, 247, 668, 4586, 110, 3086, 6458, 37, 58, 7019, 21, 35135, 149, 57, 58, 9473, 10045, 149, 0], [4484, 3856, 261, 3401, 0], [4480, 0], [8136, 301, 548, 0], [526, 3261, 188, 30564, 12127, 8961, 0], [7504, 5091, 1072, 364, 21125, 9, 41, 15311, 9077, 27478, 5091, 1072, 364, 0], [4577, 37, 0], [28944, 31342, 134, 75, 4424, 0], [5370, 12, 1684, 37, 4808, 1392, 548, 4004, 24, 1246, 548, 46, 3585, 28, 3051, 583, 40171, 4, 4808, 64, 349, 12, 1684, 3, 0], [26088, 35645, 12, 28960, 7955, 21593, 0], [488, 5793, 859, 4, 16296, 7, 4, 18318, 139, 34955, 3, 0], [402, 238, 3508, 0], [491, 19576, 4759, 0], [11278, 11928, 817, 40376, 817, 8886, 323, 28928, 142, 0], [26234, 19069, 9638, 166, 12, 13662, 0], [8558, 6163, 21, 142, 3470, 13418, 1711, 3244, 309, 21, 10481, 40662, 8961, 0], [16114, 13103, 9, 4450, 4, 21809, 0], [32545, 0], [249, 13632, 0], [8941, 5919, 5719, 401, 34955, 278, 2, 9929, 328, 28, 0], [32568, 1676, 0], [9673, 5918, 9, 12, 4484, 0], [23087, 11751, 15, 32159, 42, 17818, 16084, 64, 55, 6, 158, 3687, 2075, 2, 10, 17215, 11333, 17818, 16084, 3, 0], [23776, 39529, 15857, 0], [15229, 31060, 0], [8364, 51, 2982, 2783, 36657, 0], [9688, 14493, 8130, 0], [29379, 9, 1418, 108, 5375, 244, 31793, 4, 440, 1184, 7, 9884, 37, 0], [7095, 0], [35, 2429, 7, 4, 34955, 0], [301, 548, 3522, 670, 0], [6189, 517, 143, 287, 581, 11616, 30, 526, 2470, 2, 287, 7426, 2604, 2, 5448, 18002, 10, 2955, 13329, 2, 10, 4317, 12, 9801, 42, 30, 986, 7332, 37, 28, 0], [5747, 111, 22391, 0], [13662, 1935, 16614, 108, 0], [402, 18641, 3, 156, 3, 48353, 50, 0], [35, 16517, 7378, 0], [160, 2223, 115, 246, 9176, 1877, 2, 4231, 2, 7113, 57, 881, 21, 6829, 133, 1317, 15675, 9, 3, 35, 1017, 2075, 10966, 251, 8384, 7279, 9, 37, 301, 548, 0], [4484, 1265, 267, 10292, 36414, 0], [6152, 15335, 0], [1392, 21, 24578, 37, 0], [13676, 12, 3255, 15, 191, 971, 3280, 1097, 499, 64, 15, 2454, 4492, 2752, 1144, 0], [24, 222, 28, 2196, 35, 526, 3261, 238, 3970, 5166, 0], [10706, 0], [19335, 28914, 9, 110, 0], [1717, 155, 12, 4004, 0], [13662, 37, 0], [57, 4, 17314, 346, 4, 526, 12571, 34820, 52, 3778, 18, 117, 402, 13606, 50, 1370, 3, 0], [236, 22880, 33687, 0], [1111, 55, 639, 12, 27664, 15, 191, 1144, 208, 4, 4577, 3941, 3758, 55, 1298, 639, 12, 1556, 4, 1017, 3280, 46, 19444, 4, 3856, 26401, 42, 4, 3641, 3047, 18, 4, 3941, 3758, 3, 0], [14944, 31946, 6740, 6443, 37, 170, 198, 261, 37, 301, 548, 0], [17724, 13632, 57, 4850, 1144, 37, 0], [26088, 2253, 27631, 2079, 22044, 7821, 0], [213, 79, 12, 545, 15, 609, 750, 4808, 17314, 487, 55, 115, 256, 67, 3318, 145, 0], [692, 33, 55, 197, 73, 354, 12, 21983, 42, 212, 10642, 235, 55, 197, 73, 340, 270, 154, 1771, 3, 526, 602, 226, 32, 1154, 12, 3826, 4, 10642, 877, 20854, 26, 55, 3, 0], [402, 1889, 7707, 101, 0], [301, 548, 278, 550, 190, 15262, 328, 0], [1414, 844, 2575, 32, 1112, 1668, 37, 1414, 2575, 37, 301, 548, 4346, 37, 301, 331, 0], [6132, 124, 0], [25005, 5259, 37, 0], [13331, 1249, 0], [402, 24849, 10207, 0], [24339, 0], [9673, 15847, 43783, 42530, 9, 3, 0], [32944, 114, 0], [15495, 8577, 259, 18, 526, 3261, 27786, 94, 13847, 9, 2, 10, 453, 55, 115, 121, 79, 27640, 9, 3, 9077, 9077, 3279, 3734, 4, 6718, 22635, 9319, 10, 1769, 8746, 151, 7, 4, 27640, 9, 2, 10, 457, 55, 52, 9393, 2, 3740, 4, 22635, 9319, 3, 443, 55, 246, 354, 12, 27664, 4, 3236, 2, 61, 835, 2369, 2, 424, 5487, 4, 6718, 22635, 9319, 3, 24, 6183, 115, 713, 4, 22635, 9319, 12, 256, 18, 4, 1004, 10642, 102, 9077, 9077, 5370, 453, 2, 196, 52, 4, 440, 27640, 9, 494, 37, 9077, 2942, 349, 10, 717, 1684, 41, 31673, 24, 5090, 75, 2846, 41376, 28, 9077, 2942, 1684, 10, 717, 349, 41, 5658, 24, 5090, 75, 2846, 1751, 4387, 28, 9077, 2942, 205, 0], [2725, 27438, 602, 0], [30340, 0], [9086, 9, 4, 365, 7, 28521, 12, 4507, 3, 35, 6467, 2515, 32, 12119, 314, 2585, 3, 0], [6369, 10, 29321, 77, 576, 18, 85, 12, 6871, 1863, 3, 6369, 10, 29321, 30, 4, 4293, 12, 2942, 61, 3, 213, 115, 317, 21072, 4, 1863, 5311, 46, 23522, 30391, 30, 4, 31793, 57, 46, 1097, 4, 660, 21072, 34955, 3, 0], [1123, 55, 1453, 639, 12, 14821, 4, 3819, 1464, 3280, 54, 0], [38143, 10, 48720, 7874, 0], [18466, 9432, 2000, 2, 3583, 61, 110, 0], [16162, 37948, 16685, 12280, 11434, 401, 11564, 28, 11097, 58, 1810, 337, 1216, 1100, 149, 0], [3704, 6443, 16718, 24, 2914, 3790, 5860, 917, 301, 4011, 1125, 917, 301, 2910, 5867, 195, 5909, 9, 301, 602, 37, 301, 6470, 0], [39270, 1415, 2329, 1097, 103, 3538, 5990, 26, 4, 4450, 10, 4293, 0], [7557, 0], [443, 55, 79, 15, 1580, 23714, 16494, 30, 4, 5952, 57, 26354, 2, 591, 1684, 5487, 30, 61, 12, 1240, 402, 2635, 186, 8577, 259, 50, 48, 15, 1437, 8402, 3, 0], [2635, 10301, 108, 50, 34955, 3529, 24, 5049, 26279, 50, 939, 8746, 28, 0], [35, 2758, 86, 45, 4696, 124, 30, 4, 7081, 3, 35, 6379, 13476, 86, 45, 841, 13762, 4, 2758, 664, 73, 2806, 3, 0], [97, 37313, 1648, 16036, 402, 2635, 15346, 883, 50, 110, 55, 86, 907, 9209, 2868, 3, 35, 293, 151, 32, 26, 436, 10642, 3, 0], [1414, 31149, 0], [3086, 12362, 12362, 12362, 12362, 12362, 12362, 12362, 12362, 12362, 12362, 12362, 12362, 12362, 12362, 12362, 12362, 12362, 12362, 12362, 12362, 12362, 12362, 12362, 12362, 12362, 12362, 12362, 12362, 12362, 12362, 12362, 12362, 12362, 12362, 12362, 12362, 12362, 12362, 12362, 12362, 12362, 12362, 12362, 12362, 12362, 12362, 12362, 12362, 12362, 12362, 12362, 3086, 402, 2635, 26515, 50, 3086, 5918, 5686, 23130, 1437, 26, 42803, 27882, 23130, 3086, 1060, 4586, 7075, 550, 4794, 3086, 12362, 12362, 12362, 12362, 12362, 12362, 12362, 12362, 12362, 12362, 12362, 12362, 12362, 12362, 12362, 12362, 12362, 12362, 12362, 12362, 12362, 12362, 12362, 12362, 12362, 12362, 12362, 12362, 12362, 12362, 12362, 12362, 12362, 12362, 12362, 12362, 12362, 12362, 12362, 12362, 12362, 12362, 12362, 12362, 12362, 12362, 12362, 12362, 12362, 12362, 12362, 0], [5118, 913, 5146, 242, 3281, 24, 6797, 27221, 2846, 1850, 532, 27635, 102, 160, 115, 4063, 694, 19234, 9, 3, 0], [402, 21573, 2613, 1098, 50, 25, 9, 14802, 7907, 7940, 55, 42, 1013, 33, 17003, 26364, 121, 18, 15, 681, 506, 3, 443, 55, 424, 3529, 77, 14802, 42, 15, 2103, 20763, 1437, 46, 1675, 21, 23298, 101, 30, 61, 57, 46, 1097, 7821, 19335, 2, 55, 165, 73, 45, 1154, 12, 5407, 117, 2406, 2027, 3, 160, 94, 7, 1031, 15, 2699, 37, 1111, 6679, 55, 639, 12, 713, 15, 1437, 2, 55, 161, 3073, 137, 973, 9, 19524, 487, 2, 239, 33, 98, 273, 16119, 4, 1437, 552, 15, 3739, 33, 55, 52, 750, 30, 61, 3, 0], [28422, 6809, 54, 0], [10326, 9, 1973, 6211, 364, 8245, 0], [11769, 18689, 0], [36320, 13675, 0], [28607, 19964, 24, 367, 3, 461, 1586, 0], [1590, 77, 309, 13169, 36735, 0], [31323, 34661, 124, 24430, 0], [16945, 18961, 27218, 0], [35, 6, 2680, 4923, 25, 43942, 3707, 55, 12, 3255, 15, 191, 4923, 3, 213, 86, 354, 12, 946, 4, 191, 4923, 15, 1237, 1129, 2, 10, 11523, 4, 4923, 6603, 10, 542, 3, 0], [35, 1223, 7, 58, 42689, 149, 18, 528, 7, 4974, 6644, 6252, 4896, 0], [28944, 741, 0], [1829, 41, 15311, 9077, 1865, 8070, 39224, 6756, 9918, 0], [35, 440, 86, 1680, 55, 541, 12, 2097, 3941, 3758, 9, 26, 15, 402, 180, 4761, 468, 50, 3, 13675, 3758, 9, 52, 39395, 2720, 33, 52, 6833, 12, 905, 3, 15847, 2, 18, 402, 49, 11713, 63, 10380, 50, 2, 52, 4, 819, 26, 7361, 98, 4, 13216, 33, 402, 49, 11713, 63, 10380, 50, 94, 10, 86, 10951, 18, 4, 842, 3, 35, 476, 3946, 33, 16478, 77, 442, 18, 402, 49, 11713, 63, 10380, 50, 121, 11150, 4107, 21, 673, 8565, 3498, 10, 11543, 34955, 9, 3, 932, 905, 2, 4, 3581, 7, 270, 55, 115, 197, 32, 16218, 3581, 3414, 3, 386, 840, 7, 77, 943, 2, 123, 86, 256, 13911, 50, 9697, 3814, 30, 192, 2207, 2868, 3, 0], [38128, 890, 2908, 18, 4, 402, 2635, 26515, 50, 2805, 161, 45, 2128, 21, 51, 33279, 3, 35, 7821, 2805, 3328, 2118, 12, 9133, 15, 4118, 2768, 4767, 10, 19524, 29271, 3, 35, 4914, 2805, 3328, 642, 2118, 10, 4, 37313, 2805, 3328, 2118, 12, 33212, 4, 1038, 3, 35, 1019, 2118, 18, 4, 6442, 34955, 52, 6510, 18, 4, 1156, 669, 3, 0], [43783, 9, 3523, 190, 7048, 5, 7731, 18452, 3, 0], [36336, 0], [188, 18411, 63, 0], [8557, 36178, 0], [3883, 46607, 0], [333, 18877, 101, 1863, 42, 402, 4486, 529, 309, 50, 25, 9, 30162, 75, 0], [49, 42251, 156, 14300, 13036, 0], [37199, 529, 687, 16337, 21, 190, 58, 3878, 548, 149, 1566, 5, 18877, 4036, 3, 0], [402, 5592, 0], [11557, 10520, 57, 11920, 499, 64, 0], [660, 21072, 0], [4193, 24, 43119, 28, 16478, 4, 1316, 462, 3, 109, 26, 2688, 71, 4, 2844, 7, 15, 551, 10, 747, 24, 47325, 28, 26, 2688, 71, 4, 703, 7, 15, 551, 3, 0], [13550, 4561, 12, 77, 87, 381, 4354, 1437, 3, 0], [35804, 101, 10251, 12374, 0], [32872, 4, 28509, 2619, 18, 15, 10014, 7, 15, 5629, 3278, 46, 15, 545, 7, 303, 3, 0], [560, 52, 191, 4036, 18, 67, 15675, 24, 3878, 6402, 2, 85, 79, 73, 118, 46419, 12, 4, 11634, 1743, 2, 152, 4, 15675, 94, 118, 11285, 30, 4, 11634, 57, 55, 197, 73, 79, 3771, 649, 327, 30, 4, 15675, 453, 12, 32838, 254, 3, 1789, 971, 117, 24284, 12, 1949, 32838, 7, 191, 4036, 12, 55, 2, 57, 2942, 254, 176, 7, 67, 15675, 3, 1123, 55, 639, 12, 2942, 218, 4036, 12, 1036, 15675, 453, 54, 0], [33658, 6, 9, 7608, 13442, 1920, 1684, 261, 167, 21, 1071, 31660, 3, 160, 32, 852, 6083, 12, 4, 1920, 1684, 7, 4, 4042, 2, 31865, 48, 2768, 18, 4, 643, 5331, 3717, 19924, 111, 9499, 3, 160, 1223, 86, 45, 6860, 6180, 235, 55, 2942, 4, 12921, 46, 29321, 10, 8428, 3, 0], [5258, 15675, 37, 0], [39338, 0], [41704, 0], [47234, 402, 8553, 6369, 0], [2120, 12, 9334, 18, 301, 548, 272, 0], [24132, 0], [462, 23167, 850, 1597, 9499, 0], [1648, 2102, 1162, 0], [213, 115, 579, 479, 15, 39764, 29418, 7, 4, 34203, 9570, 2375, 12, 15, 3047, 9378, 3, 0], [35, 6240, 3328, 15, 1317, 42, 271, 24274, 37, 4, 293, 10014, 19968, 19924, 111, 9499, 5277, 2, 4, 787, 41, 1184, 7, 4, 19924, 11609, 4378, 3, 488, 399, 61, 8828, 12, 6704, 4811, 7, 4, 5277, 10, 1184, 26, 4, 4118, 2, 16494, 9, 921, 12, 4, 1184, 52, 121, 11134, 3, 35, 1317, 3328, 246, 19924, 11609, 4378, 1363, 2127, 525, 7265, 12, 256, 4, 402, 16913, 50, 1255, 3, 35, 6240, 3707, 55, 12, 713, 4, 13847, 389, 57, 545, 4, 11080, 13847, 389, 3, 0], [14022, 4, 478, 48, 15, 681, 1437, 110, 0], [35, 4118, 1566, 15455, 212, 10642, 30, 67, 647, 3, 0], [160, 8944, 205, 15, 1437, 3236, 34955, 3, 488, 3577, 200, 67, 57, 126, 1658, 402, 2635, 511, 50, 34955, 17693, 18, 6042, 2, 1807, 8484, 4, 402, 2635, 511, 50, 2824, 3, 213, 115, 36438, 46, 21104, 30, 15675, 16494, 9, 57, 46, 1097, 4, 5667, 2955, 27030, 30, 4, 3941, 3758, 24, 19851, 7707, 124, 18, 4469, 3, 28, 6369, 101, 4, 205, 26401, 2791, 55, 205, 151, 15675, 518, 3, 0], [443, 55, 52, 5227, 67, 667, 18, 4, 402, 2635, 32041, 41105, 50, 2, 402, 18335, 13169, 50, 94, 1016, 118, 7918, 30, 67, 338, 10, 55, 197, 73, 354, 12802, 61, 13157, 3, 0], [23611, 158, 33716, 21893, 12, 47591, 0], [375, 514, 12, 2097, 2092, 122, 14078, 1437, 3, 0], [19335, 21, 300, 2652, 2329, 0], [1414, 5277, 0], [41659, 9, 0], [744, 20254, 3773, 0], [8926, 3748, 36591, 2494, 9, 830, 3692, 3293, 2607, 3078, 0], [12406, 15, 2834, 365, 37, 0], [2665, 3619, 8471, 2, 2112, 64, 1920, 3, 0], [11697, 623, 26260, 111, 4538, 2, 608, 38777, 2179, 0], [1414, 5277, 0], [2851, 122, 3988, 5990, 37, 0], [18415, 12, 7528, 1863, 28705, 3941, 3758, 16494, 9, 3, 0], [138, 32, 2625, 12, 2462, 26, 140, 21, 5025, 1916, 3, 0], [402, 5, 226, 5560, 158, 3353, 483, 9, 50, 37, 3704, 9, 3930, 155, 10, 1437, 338, 20419, 26, 317, 3353, 483, 9, 1437, 1089, 3, 2555, 7, 4, 317, 3353, 483, 9, 2203, 309, 9, 18863, 855, 33, 115, 45, 26004, 64, 3, 0], [9673, 15, 21971, 36352, 0], [5118, 4, 2025, 29418, 5123, 51, 1557, 4, 2025, 1317, 0], [26572, 660, 9, 7761, 0], [402, 10706, 0], [5382, 14014, 30349, 0], [402, 2120, 0], [876, 5429, 7796, 0], [385, 15225, 186, 6340, 4196, 122, 0], [546, 9, 0], [28574, 1430, 13216, 0], [301, 548, 402, 35436, 50, 301, 331, 309, 75, 50, 0], [13331, 24604, 6259, 1202, 107, 0], [22954, 16780, 0], [307, 15155, 0], [37969, 7536, 7642, 24, 1071, 8002, 71, 2635, 511, 57, 309, 28, 0], [188, 3491, 15999, 0], [596, 402, 27377, 9507, 1682, 741, 0], [10326, 9, 1973, 331, 15750, 7601, 0], [38623, 25218, 0], [15335, 0], [5999, 5453, 2721, 446, 26, 84, 137, 16739, 89, 30, 38376, 87, 32, 75, 9, 50, 84, 11921, 9, 52, 403, 12, 3647, 26, 4, 649, 46, 15, 852, 24, 584, 337, 9746, 21734, 28, 4118, 3, 84, 293, 19825, 298, 26, 84, 11921, 9, 26, 13184, 32, 494, 64, 402, 89, 10445, 142, 50, 50, 67, 86, 45, 20049, 18, 842, 5056, 3, 0], [213, 79, 73, 852, 15, 1437, 13632, 9378, 26, 4, 6536, 2, 1807, 545, 151, 3, 0], [11540, 101, 26, 11634, 0], [35, 8429, 101, 13847, 3707, 55, 12, 8236, 191, 34935, 7829, 24430, 10, 545, 287, 1087, 2118, 3, 0], [30349, 2118, 33, 24287, 55, 5046, 541, 2585, 3415, 161, 29926, 3, 0], [3118, 122, 9, 37, 5118, 9, 4, 827, 8414, 9, 402, 484, 309, 50, 58, 139, 1146, 623, 139, 21, 623, 139, 21, 623, 149, 57, 48, 44053, 376, 4212, 25, 3293, 2860, 25, 190, 30569, 42, 3051, 74, 40171, 7475, 26985, 3118, 9016, 9, 18, 4325, 402, 29751, 13191, 16913, 3, 0], [526, 34805, 0], [3592, 514, 9, 3818, 20083, 24, 2307, 244, 10808, 28, 298, 26, 402, 15, 3284, 7494, 50, 0], [19337, 16913, 0], [2213, 11793, 945, 41, 889, 46, 405, 263, 3118, 124, 2694, 2, 7974, 21329, 133, 10, 31345, 63, 9927, 10572, 11970, 162, 11974, 774, 3, 2635, 511, 1802, 309, 1874, 3, 5378, 0], [5537, 10384, 0], [13640, 11656, 2130, 2490, 5882, 3, 0], [25950, 37, 0], [6950, 0], [433, 276, 48, 4, 15252, 7804, 1043, 2, 402, 18903, 19994, 51, 50, 94, 298, 26, 1186, 126, 15252, 3, 97, 411, 918, 2, 67, 32, 73, 11415, 46, 11949, 57, 77, 1265, 20142, 280, 45, 7918, 3, 20081, 2, 18691, 2, 28830, 10, 11757, 9726, 52, 520, 18, 67, 506, 3, 2260, 402, 18903, 19994, 51, 3390, 50, 26, 2561, 2, 1446, 2, 4, 402, 18903, 19994, 51, 50, 1793, 52, 73, 1521, 26, 218, 15252, 3, 0], [15308, 0], [31394, 11157, 139, 0], [2476, 567, 18794, 0], [28382, 85, 7829, 15675, 9, 55, 639, 12, 579, 18, 117, 15675, 760, 0], [660, 13632, 7441, 0], [35, 6240, 542, 37, 22583, 2, 34046, 2, 43891, 2, 13675, 3758, 2, 7378, 2, 12595, 5719, 2, 4822, 9163, 6199, 57, 4697, 15164, 0], [2665, 124, 26, 5386, 1129, 0], [32512, 4, 2004, 3819, 1437, 8537, 57, 4, 3819, 17314, 664, 73, 4947, 3, 1789, 399, 2210, 2, 33, 4, 3819, 17314, 8537, 10, 4, 1437, 13632, 32, 73, 2004, 403, 18, 67, 17314, 3, 0], [15049, 37, 0], [238, 3252, 1088, 14624, 6068, 87, 1842, 850, 0], [10407, 4, 7616, 10, 800, 45, 3150, 26, 471, 1437, 3, 0], [69, 151, 7, 4, 293, 1706, 12, 16852, 103, 759, 13606, 27402, 12902, 26, 287, 7, 103, 4894, 3, 856, 2, 289, 12902, 52, 31905, 246, 24, 1506, 1249, 1459, 494, 119, 10, 1085, 1566, 45, 403, 12, 10199, 208, 126, 2560, 13184, 2784, 1013, 3, 0], [34618, 4033, 1773, 0], [30997, 19055, 0], [48010, 3252, 2708, 0], [5658, 746, 16581, 26, 8955, 403, 23885, 9, 3, 0], [5592, 2942, 26, 301, 548, 24, 42876, 301, 4757, 0], [402, 8429, 12593, 0], [44930, 16721, 26, 15, 5110, 3557, 269, 0], [3020, 55, 115, 545, 4, 36145, 1283, 26, 14327, 2, 986, 3, 484, 3, 4, 6, 47496, 25, 2368, 4, 19981, 1164, 85, 86, 399, 14327, 36145, 12, 471, 126, 288, 154, 52, 6360, 2763, 1036, 6240, 3, 0], [2665, 18, 402, 98, 609, 15675, 9, 0], [97, 402, 2635, 186, 8577, 259, 50, 631, 12, 37313, 1648, 16036, 402, 2635, 186, 8577, 259, 50, 110, 3, 3036, 5139, 1232, 46027, 64, 4, 16494, 1317, 3, 2646, 4, 45451, 9, 7394, 2, 245, 15, 3647, 18, 4, 5311, 1156, 12, 5118, 246, 7229, 46607, 18, 3006, 6268, 3941, 3758, 3, 2167, 18, 4, 45451, 27346, 77, 2674, 12, 5118, 18, 13675, 3758, 5633, 30, 21104, 42, 4, 402, 258, 10503, 50, 30, 212, 3006, 6268, 3280, 57, 18, 4, 19335, 2805, 288, 4, 3280, 32, 8757, 3, 304, 3525, 794, 115, 121, 45, 3150, 18, 4, 46607, 3941, 3758, 18, 890, 4, 476, 506, 3, 0], [11769, 7, 15, 409, 5508, 0], [870, 1506, 6943, 122, 0], [84, 9319, 33, 288, 5487, 124, 26518, 9, 96, 1863, 3202, 3, 35, 7293, 30, 4, 9319, 32, 545, 42, 4, 1863, 1592, 3, 28960, 64, 4, 1863, 3202, 24, 9868, 12, 1063, 33, 28, 86, 45, 26721, 124, 12, 5268, 111, 1624, 235, 4, 6871, 6439, 111, 1624, 1592, 32, 545, 12, 2756, 3, 35, 9319, 115, 45, 4, 11949, 442, 26, 4, 34955, 235, 4, 11949, 1592, 32, 545, 12, 2756, 3, 0], [2476, 18357, 9, 115, 45, 403, 26, 482, 5526, 3, 386, 2994, 2, 154, 52, 403, 12, 6121, 10115, 10, 12, 6445, 5803, 12452, 3, 616, 52, 1526, 121, 403, 26, 31947, 5783, 9, 3, 0], [2260, 235, 4, 19924, 111, 9499, 94, 118, 7728, 3, 0], [8136, 24605, 3786, 0], [646, 4, 47009, 9, 52, 1068, 22236, 514, 64, 4, 30349, 12595, 5719, 3, 0], [12051, 0], [89, 75, 13259, 50, 1465, 19335, 375, 2049, 37, 5800, 4231, 0], [12406, 3294, 30515, 2, 13538, 46, 13920, 670, 3, 0], [29773, 323, 12108, 3492, 7821, 0], [37313, 5118, 74, 31323, 4224, 13675, 3758, 0], [26088, 9, 2253, 8429, 101, 0], [18961, 101, 25061, 9, 0], [41659, 1695, 0], [2476, 400, 7742, 259, 30, 349, 5487, 208, 4, 5935, 3758, 57, 9341, 7, 77, 18, 9531, 6240, 3, 0], [30086, 133, 0], [4184, 39738, 1002, 0], [8997, 7106, 3454, 800, 3, 0], [35, 1129, 301, 548, 664, 73, 5028, 12, 212, 43667, 542, 3, 0], [3689, 31323, 1183, 21, 23001, 142, 25218, 0], [8136, 304, 3525, 794, 0], [7997, 670, 5277, 37, 0], [35, 2025, 32, 191, 12, 402, 2635, 1874, 50, 10, 55, 3, 0], [1691, 32563, 5210, 37, 0], [8615, 37, 583, 5771, 151, 147, 7, 289, 3925, 526, 561, 3748, 9984, 114, 2890, 46, 402, 2635, 511, 50, 3, 488, 649, 61, 2, 424, 542, 8615, 37, 583, 208, 4, 1144, 1164, 7, 402, 2635, 186, 8577, 259, 50, 3, 8615, 37, 583, 664, 81, 6, 75, 20479, 459, 2103, 21, 20763, 649, 12, 117, 8615, 44593, 2, 152, 61, 121, 3707, 55, 12, 713, 10642, 7, 117, 38869, 2, 7, 117, 8615, 338, 10, 24287, 55, 2097, 191, 38869, 10, 4719, 3, 0], [596, 956, 8961, 6766, 0], [9673, 4, 11949, 48583, 12, 45, 403, 50, 8367, 2, 55, 86, 45, 3341, 42, 6, 28149, 1631, 48583, 25, 1361, 161, 73, 79, 12, 713, 67, 3, 0], [7821, 29052, 1405, 0], [402, 2635, 511, 50, 57, 4, 526, 34046, 2652, 2, 32, 15, 2104, 5375, 2, 3120, 12, 256, 10697, 26354, 1197, 494, 26, 402, 1626, 11724, 50, 10, 6077, 1089, 3, 17541, 42, 15, 881, 554, 7, 402, 1626, 11724, 50, 198, 48, 402, 24559, 50, 583, 323, 190, 2662, 50, 2, 402, 1626, 11724, 50, 583, 720, 511, 50, 9820, 15, 5066, 881, 10, 1240, 25498, 7983, 494, 12, 5704, 881, 7, 1131, 3, 5133, 1459, 32, 494, 26, 4408, 12, 1374, 71, 2, 3577, 64, 2, 15455, 10, 1409, 3, 35853, 196, 32, 1353, 1478, 26, 4579, 2, 402, 2635, 511, 50, 1394, 23608, 15, 9327, 7426, 25586, 3454, 12, 4, 147, 12599, 928, 1577, 3146, 338, 74, 26354, 26202, 494, 3, 0], [1414, 2752, 9, 0], [4484, 4534, 4524, 3401, 0], [18185, 101, 30, 4, 6442, 7, 117, 3794, 2, 55, 86, 907, 4, 8131, 18, 117, 48064, 50, 55, 1298, 79, 12, 11601, 12, 117, 47, 4323, 10, 44204, 117, 191, 7829, 293, 3434, 3, 0], [33712, 1527, 0], [488, 5793, 859, 4, 3482, 25475, 5730, 18, 4, 14802, 30, 57, 1165, 3, 0], [35, 800, 2511, 4, 23398, 18, 15, 1632, 13498, 7, 4, 7821, 596, 64, 41659, 2805, 3, 0], [343, 7684, 101, 247, 108, 0], [44930, 48, 37073, 37, 0], [10795, 2, 48646, 2, 10, 16945, 46710, 446, 26, 2993, 6642, 649, 12, 8615, 136, 3, 0], [84, 1323, 0], [37078, 37, 0], [3688, 993, 67, 261, 32, 30, 15, 24717, 0], [19341, 12470, 1246, 4324, 11325, 401, 149, 5024, 846, 74, 1269, 58, 50, 149, 268, 74, 648, 74, 1269, 58, 50, 4847, 28, 11097, 41, 32313, 602, 0], [258, 4390, 11769, 7, 349, 21, 687, 21, 35135, 38867, 5594, 0], [4484, 4, 8428, 761, 5311, 7293, 124, 36779, 338, 12, 5139, 31859, 57, 2113, 8619, 1089, 7, 8602, 3, 0], [436, 13847, 0], [1787, 74, 33275, 309, 74, 269, 0], [87, 16310, 42910, 606, 21971, 11769, 3, 7903, 37, 301, 548, 0], [21300, 4, 44656, 12, 4, 703, 7, 4, 1410, 0], [35, 3746, 2242, 42, 4, 3819, 1659, 18744, 354, 12, 45, 317, 21, 670, 26172, 12, 15, 681, 1659, 7863, 487, 4, 3819, 1659, 18744, 115, 45, 11285, 3, 1789, 5139, 15, 1659, 7863, 64, 4, 1317, 1557, 3, 0], [236, 263, 22352, 134, 309, 0], [5846, 5551, 37, 0], [18961, 101, 5082, 226, 15021, 3492, 0], [44898, 2, 48206, 0], [15859, 46248, 0], [233, 14621, 1089, 2, 4, 1990, 1863, 7, 4, 24559, 436, 1439, 24172, 115, 45, 928, 18, 583, 368, 139, 74, 1787, 74, 1087, 21, 3791, 8409, 9, 74, 359, 9723, 3, 0], [12952, 21, 48936, 0], [160, 86, 2673, 963, 613, 7, 4, 2085, 85, 55, 5139, 18, 4, 58, 35195, 9, 12, 3073, 149, 800, 5311, 3, 0], [18, 75, 512, 532, 15538, 9, 401, 28, 0], [347, 0], [35, 1437, 32, 21502, 18, 1008, 2092, 0], [26959, 963, 37, 0], [35, 1437, 301, 548, 664, 73, 4947, 145, 0], [1648, 22236, 101, 5918, 5686, 13572, 7823, 9, 0], [13761, 4, 6682, 3143, 4731, 18, 4, 1437, 7137, 26, 4, 1017, 1437, 0], [9111, 3878, 548, 0], [375, 28416, 111, 3878, 548, 0], [1123, 11258, 720, 452, 584, 6464, 0], [30726, 23450, 50, 30726, 23450, 9, 50, 20, 850, 0], [249, 272, 1129, 3278, 0], [19673, 37, 301, 548, 0], [7730, 0], [35, 35871, 13847, 3385, 45744, 415, 200, 2004, 5917, 9334, 3, 13675, 3758, 3328, 37, 0], [596, 8961, 0], [6186, 111, 741, 0], [10706, 135, 17291, 0], [10730, 402, 4624, 2416, 0], [17377, 0], [443, 55, 79, 7229, 71, 1187, 151, 3941, 55, 86, 45, 1154, 12, 5139, 287, 905, 12, 45, 1515, 18, 402, 2635, 1874, 50, 42, 781, 12, 4036, 4501, 29340, 37, 12, 1882, 402, 2635, 1874, 50, 14037, 4036, 4501, 29340, 55, 14599, 161, 5313, 4, 3688, 4036, 1097, 4, 1301, 21, 20682, 3180, 2674, 50, 235, 55, 639, 4036, 16718, 48, 5324, 21, 42618, 12, 45, 6360, 208, 15, 588, 15675, 2, 1807, 5139, 4, 912, 15675, 10, 5313, 4, 21300, 16718, 34076, 4036, 12, 4, 3819, 15675, 2674, 50, 235, 4036, 16718, 48, 5324, 21, 42618, 161, 1265, 244, 45, 7229, 48, 2103, 2, 591, 5313, 4, 18419, 2, 5313, 16718, 34076, 4036, 48, 2103, 2674, 3, 0], [3592, 514, 4, 16359, 3, 138, 86, 73, 17214, 1348, 61, 94, 118, 29717, 11415, 3, 0], [1648, 16036, 27059, 7630, 9, 110, 0], [7821, 0], [15459, 13675, 24, 550, 13880, 6369, 12, 8437, 1342, 39702, 2, 25508, 2, 57, 24678, 26163, 12, 5139, 15, 1628, 7, 39702, 4484, 89, 75, 13259, 12, 12, 309, 10128, 4, 3236, 10, 9916, 12, 3255, 12, 4, 3236, 0], [37829, 11018, 13656, 0], [526, 2470, 0], [28761, 3680, 25308, 2, 17812, 13230, 23661, 21, 34437, 0], [24834, 22635, 5487, 13805, 37, 0], [596, 5918, 135, 24249, 429, 0], [160, 2674, 3707, 12079, 2294, 7, 42930, 9, 10, 19440, 2100, 3, 0], [35, 27960, 9, 1798, 3758, 8533, 98, 4, 3281, 33, 55, 79, 20206, 4492, 3, 443, 167, 2178, 1883, 20526, 331, 32, 81, 6, 75, 1016, 3819, 2, 5139, 61, 3, 3020, 55, 79, 649, 12, 15, 2086, 7, 2118, 3, 2618, 368, 317, 13632, 4, 3318, 10, 2942, 4, 20206, 177, 3357, 761, 3, 6204, 4, 3318, 23521, 12, 2365, 226, 6935, 401, 623, 28, 2178, 1883, 20526, 331, 41, 177, 10, 7514, 3307, 3, 488, 5139, 1036, 5990, 26, 4, 20206, 2, 5487, 4, 11016, 9319, 18, 4, 669, 4459, 10798, 1274, 71, 4, 8471, 7, 4, 3318, 1798, 3758, 10, 5139, 15, 191, 5990, 3, 0], [11769, 746, 0], [31342, 3746, 0], [11278, 11928, 817, 40376, 817, 8886, 323, 28928, 142, 0], [31103, 17856, 57, 609, 1437, 6603, 0], [7821, 5846, 0], [84, 3896, 0], [6313, 0], [33432, 21, 190, 34, 776, 10970, 2955, 2057, 12, 16959, 37189, 9, 64, 359, 657, 17955, 0], [301, 0], [4697, 7630, 10, 16846, 133, 0], [5658, 746, 11059, 37, 0], [23971, 11190, 971, 0], [30705, 110, 0], [1121, 115, 47, 9133, 15, 32159, 54, 0], [36542, 0], [13550, 12, 16427, 108, 0], [304, 42093, 0], [957, 301, 548, 0], [3492, 6871, 5508, 4524, 0], [488, 2097, 15, 191, 16359, 85, 19968, 15, 5435, 7, 77, 1462, 12, 21, 2049, 2, 29321, 4, 12, 21, 2049, 64, 402, 2635, 20611, 14464, 50, 57, 126, 417, 10933, 402, 2635, 253, 10886, 50, 25, 9, 643, 6240, 57, 338, 32630, 16494, 3, 160, 13805, 4, 42530, 19335, 34955, 42, 4, 12, 21, 2049, 9668, 48, 4, 16359, 1863, 3, 0], [12432, 28259, 0], [5454, 8365, 0], [6914, 0], [402, 35436, 50, 291, 9638, 166, 15903, 5845, 29379, 9, 1418, 108, 28149, 139, 18444, 9, 300, 402, 35436, 50, 29379, 9, 1418, 108, 28149, 139, 18444, 9, 300, 402, 35436, 50, 442, 1129, 48996, 6659, 746, 1017, 58, 7866, 402, 35436, 50, 5935, 300, 5658, 746, 18, 10359, 20546, 11205, 50, 583, 28416, 300, 402, 35436, 50, 3941, 75, 3595, 300, 5658, 746, 18, 1017, 17314, 11205, 50, 583, 37971, 75, 3595, 300, 402, 35436, 50, 16494, 300, 4004, 63, 517, 670, 11205, 50, 583, 792, 186, 300, 402, 35436, 50, 3538, 300, 3137, 11205, 50, 583, 38315, 300, 402, 35436, 50, 2153, 476, 817, 670, 48996, 37971, 75, 3595, 149, 583, 300, 402, 35436, 50, 6467, 300, 301, 817, 6801, 13340, 401, 41203, 50, 301, 0], [956, 37, 301, 548, 0], [443, 55, 639, 2047, 298, 2, 196, 32, 77, 1159, 660, 7530, 15544, 9969, 26, 402, 18903, 19994, 51, 50, 346, 55, 115, 907, 4, 1793, 18121, 1091, 24, 6533, 2, 73, 1353, 28, 622, 57, 424, 24622, 176, 3, 213, 115, 256, 212, 47, 7818, 2327, 12, 5758, 4, 9969, 24, 5878, 402, 18903, 19994, 51, 50, 119, 424, 3255, 77, 47, 7818, 971, 10, 256, 986, 7332, 3, 2635, 511, 3, 57, 309, 48, 4, 11634, 10, 3086, 2833, 19994, 51, 48, 4, 9969, 1129, 3, 2260, 55, 196, 145, 0], [596, 110, 0], [301, 548, 39026, 63, 4456, 14503, 0], [21490, 664, 73, 5030, 6315, 37, 301, 548, 0], [39944, 51, 3637, 32176, 9, 4, 1223, 7, 4, 3637, 199, 4, 44656, 3, 0], [8364, 687, 9857, 10661, 0], [213, 354, 402, 2635, 511, 50, 7912, 12, 3344, 67, 23398, 10, 61, 3749, 89, 37211, 3, 213, 115, 2103, 147, 200, 61, 30, 4012, 37, 583, 583, 7801, 17988, 3, 2635, 511, 3, 57, 309, 74, 6740, 3, 49, 30824, 54, 5935, 4586, 47897, 74, 491, 17348, 7684, 74, 10326, 9, 1973, 74, 49, 26475, 43629, 124, 2, 98, 2597, 52, 6510, 479, 3, 0], [16959, 1863, 0], [870, 190, 8806, 15249, 0], [1648, 16036, 2190, 139, 0], [488, 552, 526, 12423, 142, 205, 21, 1361, 21, 11770, 3792, 55, 86, 354, 12, 1769, 46, 6110, 2635, 75, 75, 9, 122, 8201, 2, 4, 402, 2635, 511, 50, 13662, 21, 687, 21, 142, 2783, 12222, 8402, 3, 0], [560, 52, 1186, 9929, 85, 3038, 4, 10109, 7, 4, 8621, 5526, 37, 0], [24, 222, 28, 889, 0], [11540, 101, 0], [89, 75, 13259, 50, 708, 8961, 37829, 110, 0], [21300, 9, 37, 301, 548, 0], [21244, 24691, 483, 15585, 0], [21880, 20, 4538, 2, 4787, 2, 4534, 1398, 11016, 11755, 139, 3, 2, 4787, 7551, 0], [7051, 20380, 28567, 0], [6492, 2114, 0], [31428, 0], [21821, 15675, 9, 26, 20277, 4036, 85, 79, 1286, 3343, 122, 4096, 10410, 3, 0], [11278, 11928, 817, 40376, 817, 8886, 323, 28928, 142, 0], [22122, 25218, 0], [15781, 0], [9673, 15, 7103, 0], [443, 67, 2674, 32, 11415, 2, 55, 115, 3734, 10, 3740, 4, 402, 43703, 50, 2, 402, 16488, 50, 57, 402, 89, 75, 13259, 50, 18011, 2, 10, 591, 3734, 1036, 1255, 12, 552, 15, 1255, 26674, 247, 24, 1312, 63, 22327, 37, 89, 75, 13259, 50, 402, 16488, 50, 9544, 373, 45, 1515, 42, 402, 89, 75, 13259, 50, 591, 402, 16488, 50, 591, 9544, 102, 0], [1648, 16036, 844, 0], [35, 37313, 7378, 0], [8231, 23104, 13432, 0], [4697, 40857, 3280, 0], [8426, 24532, 0], [9673, 4, 576, 346, 12, 1172, 4, 14395, 0], [84, 9928, 75, 0], [3086, 751, 3261, 14266, 2470, 7821, 278, 23978, 7863, 328, 10908, 2111, 139, 4586, 6603, 2, 1125, 12, 67, 1437, 2, 7, 4, 2824, 49, 9403, 4004, 402, 484, 309, 50, 49, 30824, 3776, 74, 3086, 7019, 518, 2720, 4822, 40613, 4586, 1414, 2153, 26, 218, 2824, 402, 484, 309, 50, 402, 25400, 50, 8192, 2824, 1681, 109, 4586, 29502, 4494, 49, 9403, 1681, 144, 4586, 12362, 142, 4516, 14417, 2, 3086, 142, 4516, 31993, 2, 3086, 142, 4516, 34979, 41398, 14417, 4586, 142, 4516, 14417, 3, 49, 9403, 41398, 31993, 4586, 142, 4516, 31993, 3, 49, 9403, 41398, 34979, 4586, 142, 4516, 34979, 3, 49, 9403, 110, 278, 4499, 13672, 328, 31394, 323, 1244, 4586, 483, 93, 222, 4011, 5231, 222, 2910, 11543, 4011, 11543, 2910, 0], [359, 10500, 38159, 4648, 13197, 19812, 4603, 0], [28657, 108, 0], [135, 4152, 5696, 51, 6966, 7106, 0], [23272, 12, 7689, 0], [402, 2635, 4786, 13632, 50, 0], [3137, 37313, 0], [44636, 108, 37, 301, 548, 0], [39094, 13176, 9773, 1433, 0], [43783, 9, 15495, 2037, 0], [43817, 40376, 1246, 21279, 401, 2584, 50, 2701, 50, 462, 28, 0], [12114, 37, 4012, 37, 583, 583, 124, 1108, 3, 2635, 511, 3, 57, 309, 74, 29791, 309, 0], [10915, 1817, 0], [402, 47, 8594, 7158, 0], [28382, 14411, 9, 0], [25146, 101, 14327, 18, 402, 2635, 511, 50, 0], [35, 12068, 75, 9288, 13847, 0], [35, 11949, 409, 462, 2454, 0], [44732, 3795, 7216, 25, 3878, 548, 25, 0], [8443, 3442, 101, 5537, 13675, 0], [36228, 155, 200, 4, 26500, 6536, 6570, 0], [526, 3261, 0], [13247, 2033, 11123, 752, 4783, 597, 0], [359, 15472, 970, 27393, 0], [443, 55, 40171, 67, 2, 15495, 8577, 259, 86, 3005, 32236, 4, 6240, 3, 1240, 401, 28, 7048, 6467, 3, 160, 32, 3925, 235, 55, 6988, 2278, 1401, 33, 399, 7138, 256, 7, 67, 6467, 12, 8117, 205, 2289, 31445, 9, 3, 1963, 37, 3592, 63, 22392, 67, 2674, 1298, 121, 5508, 588, 1401, 33, 2547, 6240, 3, 1240, 401, 28, 26, 5493, 2300, 3, 4484, 67, 7426, 9318, 3, 0], [34623, 2, 5432, 2, 10, 29418, 1344, 9, 0], [84, 3968, 778, 9672, 4399, 6, 142, 4281, 367, 0], [1392, 4664, 401, 42689, 50, 10609, 28, 11097, 24219, 0], [5011, 45558, 0], [18961, 18932, 313, 0], [15, 5634, 0], [6509, 60, 746, 3525, 0], [18684, 29614, 111, 265, 0], [11787, 21, 6407, 6351, 1100, 0], [11787, 29361, 889, 18961, 19594, 26, 526, 15068, 9, 28389, 0], [35, 440, 18011, 57, 12442, 52, 36154, 37, 0], [5133, 7, 596, 38536, 2064, 0], [8108, 0], [402, 19594, 43802, 110, 0], [5658, 1756, 26, 1989, 4189, 26, 5201, 2101, 0], [29730, 0], [24691, 259, 33327, 0], [38007, 30, 1620, 34046, 38125, 14773, 0], [249, 15685, 12532, 4586, 42689, 0], [862, 0], [402, 8035, 0], [2635, 6553, 720, 158, 10813, 9, 0], [11157, 15, 39395, 6508, 26, 4, 2796, 3, 10013, 10512, 52, 494, 8491, 30, 4, 1017, 4237, 3, 0], [97, 1023, 12, 15, 13920, 63, 2, 126, 12879, 202, 45, 403, 48, 15, 5, 26522, 108, 2, 38724, 471, 1223, 18, 4, 1437, 3, 0], [402, 3941, 21, 47046, 9, 50, 402, 3941, 21, 30602, 22939, 50, 402, 3941, 21, 63, 6343, 4081, 50, 402, 3941, 21, 253, 75, 973, 9, 2710, 50, 402, 3941, 21, 25252, 9, 746, 50, 402, 3941, 21, 15857, 43408, 108, 50, 402, 3941, 21, 9, 37642, 36773, 50, 402, 3941, 21, 1711, 37761, 9, 50, 402, 3941, 21, 3275, 3442, 101, 11370, 50, 402, 3941, 21, 16483, 9, 11120, 108, 50, 0], [10540, 4, 31932, 7, 15, 5867, 46, 6603, 3, 0], [9592, 0], [213, 10, 117, 3698, 0], [18466, 13362, 21551, 0], [560, 34313, 52, 10825, 71, 4, 2844, 7, 4, 9801, 3, 0], [1293, 74, 47771, 0], [11769, 64, 67, 195, 278, 585, 585, 37, 15783, 37, 16695, 328, 0], [160, 44204, 114, 4, 1990, 34039, 1437, 64, 4, 11634, 2, 402, 986, 51, 50, 15, 1317, 7, 4, 1912, 26, 98, 2993, 10, 98, 8647, 3, 160, 115, 45, 15, 8254, 1180, 7, 499, 3, 0], [2618, 6, 9, 3255, 15, 787, 4231, 3, 0], [134, 1071, 5594, 0], [5786, 16343, 0], [35, 34812, 1222, 3575, 236, 19607, 259, 10, 4, 236, 28011, 22308, 52, 545, 71, 77, 9430, 7, 728, 2019, 13070, 18, 4, 13604, 3, 35, 783, 346, 154, 702, 9, 7278, 52, 4, 48906, 253, 10, 42512, 253, 236, 8246, 6461, 114, 3, 0], [5372, 6252, 75, 635, 124, 0], [526, 3261, 0], [35, 135, 18243, 10, 385, 11934, 7506, 23777, 32, 15, 2477, 703, 12, 4, 2089, 62, 6259, 8465, 685, 10, 1680, 22332, 3, 135, 6259, 8465, 685, 1157, 30, 1017, 135, 18243, 14849, 2, 10, 32, 225, 7, 4, 855, 7, 135, 18243, 3180, 2, 85, 2396, 9, 4, 135, 10503, 24, 142, 114, 4077, 8136, 26852, 28, 10906, 2, 121, 1381, 4, 8025, 13929, 3748, 57, 21226, 48936, 10906, 3, 0], [935, 337, 23904, 772, 0], [304, 3525, 794, 0], [14582, 2223, 0], [48601, 349, 37, 0], [1717, 191, 5459, 0], [8429, 108, 32, 835, 4029, 4, 5836, 0], [2704, 26, 9101, 89, 37211, 1013, 0], [7088, 6564, 0], [12474, 10318, 7551, 0], [20664, 139, 304, 1430, 0], [134, 18877, 985, 0], [8136, 604, 15, 9928, 4492, 3, 0], [35, 10339, 1822, 7137, 1798, 3758, 16913, 0], [1492, 55, 161, 79, 15, 1374, 71, 16517, 669, 7, 402, 2635, 1874, 50, 25, 9, 7356, 235, 196, 52, 3180, 12, 15958, 117, 4036, 3, 0], [13247, 73, 40, 1689, 2758, 2454, 7, 301, 548, 50, 25698, 238, 14409, 3, 0], [35, 5733, 21, 9246, 7476, 2982, 22845, 111, 20870, 2369, 6352, 48, 4, 5733, 21, 29793, 1435, 2982, 22845, 111, 3, 3020, 52, 4, 2561, 7, 541, 4, 48767, 2369, 37, 402, 2635, 1874, 50, 115, 256, 1186, 3052, 3180, 12, 14037, 4036, 4501, 29340, 50, 61, 86, 3326, 12, 6860, 907, 176, 85, 7, 289, 3180, 52, 7918, 30, 117, 5311, 10, 86, 1680, 55, 4, 1018, 7, 4, 2695, 26, 471, 3941, 3, 213, 115, 5313, 4, 3180, 85, 55, 639, 12, 45, 403, 46, 402, 2635, 1874, 50, 12, 14037, 29340, 50, 16072, 3180, 85, 128, 73, 928, 32, 73, 322, 568, 4, 912, 3647, 7259, 114, 52, 6372, 3, 2907, 1031, 2, 55, 115, 1618, 4, 48767, 2, 12802, 15, 3941, 2, 10, 0], [1216, 3659, 1100, 0], [3592, 514, 12, 552, 8230, 4004, 235, 117, 2758, 94, 170, 5606, 0]], 'attention_mask': [[1, 1, 1, 1], [1, 1, 1], [1, 1, 1, 1, 1, 1, 1, 1, 1, 1, 1, 1, 1, 1, 1, 1, 1], [1, 1, 1], [1, 1, 1, 1, 1, 1, 1, 1, 1], [1, 1, 1, 1, 1, 1, 1, 1, 1, 1, 1, 1, 1, 1, 1, 1, 1], [1, 1, 1, 1], [1, 1, 1, 1, 1, 1, 1, 1], [1, 1, 1, 1, 1, 1, 1, 1], [1, 1, 1, 1, 1, 1, 1], [1, 1], [1, 1, 1, 1, 1, 1, 1, 1], [1, 1, 1], [1, 1, 1, 1, 1, 1, 1, 1, 1, 1, 1, 1], [1, 1, 1, 1, 1, 1, 1, 1, 1, 1, 1, 1, 1, 1, 1, 1, 1, 1, 1, 1, 1, 1, 1, 1, 1, 1, 1, 1, 1, 1, 1, 1, 1, 1, 1, 1, 1, 1, 1, 1, 1, 1, 1, 1, 1, 1, 1, 1, 1, 1], [1, 1, 1, 1, 1], [1, 1, 1, 1, 1, 1, 1, 1], [1, 1, 1, 1, 1], [1, 1, 1, 1, 1, 1, 1, 1, 1, 1, 1, 1, 1, 1, 1, 1, 1, 1, 1, 1, 1, 1], [1, 1, 1, 1, 1, 1, 1], [1, 1, 1, 1], [1, 1, 1, 1, 1, 1, 1, 1], [1, 1, 1, 1, 1, 1, 1, 1], [1, 1, 1], [1, 1, 1, 1, 1, 1, 1, 1, 1, 1, 1, 1, 1, 1, 1, 1, 1, 1, 1, 1, 1, 1, 1, 1, 1, 1, 1, 1, 1, 1, 1, 1, 1, 1], [1, 1, 1, 1, 1, 1, 1, 1, 1, 1, 1, 1, 1, 1, 1, 1, 1, 1, 1, 1, 1, 1, 1, 1, 1, 1, 1, 1, 1, 1, 1, 1, 1, 1], [1, 1, 1, 1, 1], [1, 1, 1, 1, 1, 1, 1, 1, 1, 1, 1, 1], [1, 1, 1, 1, 1], [1, 1, 1, 1], [1, 1, 1, 1, 1], [1, 1, 1, 1, 1, 1, 1, 1, 1, 1, 1, 1], [1, 1, 1], [1, 1, 1, 1, 1, 1], [1, 1, 1, 1, 1, 1, 1, 1, 1, 1, 1, 1, 1, 1, 1, 1, 1, 1, 1, 1, 1, 1, 1, 1, 1, 1, 1, 1, 1, 1, 1, 1, 1, 1, 1, 1, 1, 1, 1, 1, 1, 1, 1, 1, 1, 1, 1, 1, 1, 1, 1, 1, 1, 1, 1, 1, 1, 1, 1, 1, 1, 1], [1, 1, 1], [1, 1, 1], [1, 1, 1, 1, 1, 1, 1], [1, 1, 1, 1, 1, 1, 1, 1, 1, 1, 1, 1, 1, 1], [1, 1, 1, 1, 1, 1], [1, 1, 1, 1, 1, 1, 1, 1, 1, 1, 1, 1, 1, 1, 1, 1, 1], [1, 1, 1, 1, 1], [1, 1, 1, 1, 1, 1], [1, 1, 1, 1, 1, 1, 1, 1, 1, 1, 1, 1, 1, 1], [1, 1, 1], [1, 1], [1, 1, 1], [1, 1, 1, 1, 1, 1], [1, 1, 1, 1], [1, 1, 1, 1, 1, 1, 1], [1, 1, 1, 1, 1, 1], [1, 1, 1], [1, 1, 1, 1, 1, 1, 1, 1, 1], [1, 1, 1, 1], [1, 1, 1, 1, 1, 1, 1], [1, 1, 1, 1, 1, 1, 1], [1, 1, 1, 1], [1, 1, 1, 1, 1], [1, 1, 1, 1, 1, 1, 1, 1], [1, 1, 1, 1], [1, 1, 1], [1, 1, 1, 1, 1], [1, 1, 1, 1, 1, 1, 1], [1, 1], [1, 1, 1, 1, 1], [1, 1, 1, 1], [1, 1, 1], [1, 1, 1, 1, 1, 1, 1, 1, 1], [1, 1, 1, 1, 1, 1, 1, 1, 1, 1, 1, 1, 1, 1], [1, 1, 1, 1], [1, 1, 1, 1, 1, 1, 1, 1, 1], [1, 1, 1, 1, 1, 1, 1], [1, 1, 1, 1, 1, 1], [1, 1, 1, 1, 1], [1, 1], [1, 1, 1, 1, 1, 1, 1, 1, 1], [1, 1, 1], [1, 1, 1, 1, 1, 1, 1, 1, 1, 1, 1, 1, 1, 1, 1, 1, 1], [1, 1, 1, 1, 1], [1, 1, 1], [1, 1, 1, 1, 1, 1, 1, 1, 1, 1, 1, 1, 1, 1, 1, 1, 1, 1, 1, 1, 1, 1, 1, 1, 1, 1, 1, 1, 1, 1, 1, 1, 1, 1, 1, 1, 1, 1], [1, 1, 1, 1, 1, 1, 1], [1, 1, 1, 1, 1, 1, 1, 1], [1, 1, 1, 1, 1, 1, 1], [1, 1], [1, 1, 1, 1, 1, 1], [1, 1, 1, 1, 1, 1, 1, 1, 1], [1, 1, 1, 1, 1, 1], [1, 1, 1, 1, 1, 1, 1, 1, 1, 1, 1, 1, 1], [1, 1], [1, 1, 1, 1, 1, 1, 1, 1, 1, 1, 1, 1, 1, 1, 1], [1, 1, 1, 1, 1, 1, 1, 1, 1, 1, 1, 1, 1, 1, 1, 1, 1, 1, 1, 1, 1, 1, 1, 1, 1, 1, 1, 1], [1, 1, 1, 1, 1, 1, 1], [1, 1, 1, 1, 1, 1, 1, 1, 1, 1, 1, 1, 1, 1, 1, 1, 1, 1, 1, 1, 1], [1, 1, 1, 1, 1, 1], [1, 1, 1, 1, 1, 1, 1, 1, 1, 1, 1, 1, 1, 1, 1, 1, 1, 1, 1, 1, 1, 1, 1, 1, 1, 1, 1, 1, 1], [1, 1, 1, 1, 1, 1, 1, 1, 1, 1, 1, 1, 1, 1, 1, 1, 1, 1, 1, 1, 1, 1, 1, 1, 1, 1, 1, 1, 1, 1, 1, 1, 1, 1, 1, 1, 1, 1, 1, 1, 1, 1, 1, 1, 1, 1, 1, 1, 1, 1, 1, 1, 1, 1, 1, 1, 1, 1, 1, 1, 1, 1, 1, 1, 1, 1, 1, 1, 1, 1, 1, 1, 1, 1, 1, 1, 1, 1, 1, 1, 1, 1, 1, 1, 1, 1, 1, 1, 1, 1, 1, 1, 1, 1, 1, 1, 1, 1, 1, 1, 1, 1, 1, 1, 1, 1, 1, 1, 1, 1, 1, 1, 1, 1, 1, 1, 1, 1, 1, 1, 1, 1, 1, 1, 1, 1, 1, 1], [1, 1, 1, 1], [1, 1, 1], [1, 1, 1, 1, 1, 1, 1, 1, 1, 1, 1, 1, 1, 1, 1, 1, 1, 1, 1, 1, 1, 1, 1, 1, 1, 1, 1, 1, 1, 1, 1, 1, 1, 1, 1, 1, 1, 1, 1, 1, 1, 1, 1, 1, 1, 1, 1, 1, 1, 1, 1, 1, 1, 1, 1, 1, 1, 1, 1], [1, 1, 1, 1], [1, 1], [1, 1], [1, 1, 1, 1, 1, 1], [1, 1, 1, 1, 1, 1, 1], [1, 1, 1, 1, 1], [1, 1, 1, 1, 1, 1, 1, 1, 1, 1, 1, 1, 1, 1, 1, 1, 1, 1, 1, 1, 1, 1, 1, 1, 1, 1, 1, 1, 1, 1, 1, 1, 1, 1, 1, 1, 1], [1, 1, 1, 1, 1, 1, 1, 1, 1], [1, 1, 1, 1, 1, 1, 1], [1, 1, 1, 1, 1, 1, 1, 1, 1], [1, 1, 1], [1, 1, 1, 1, 1, 1, 1], [1, 1, 1, 1, 1, 1, 1, 1, 1, 1, 1, 1, 1, 1, 1, 1, 1, 1, 1, 1, 1, 1, 1, 1, 1, 1, 1, 1, 1, 1, 1, 1, 1, 1], [1, 1, 1, 1, 1, 1, 1, 1, 1, 1, 1, 1, 1, 1, 1, 1, 1, 1, 1, 1, 1, 1], [1, 1, 1, 1, 1, 1], [1, 1, 1, 1, 1, 1], [1, 1, 1, 1], [1, 1, 1], [1, 1, 1, 1, 1, 1, 1, 1, 1, 1, 1, 1, 1, 1, 1, 1, 1, 1, 1, 1, 1, 1, 1, 1, 1, 1, 1, 1, 1, 1, 1, 1, 1, 1, 1, 1, 1, 1, 1, 1, 1, 1, 1, 1, 1, 1, 1, 1, 1, 1, 1, 1, 1, 1, 1, 1, 1, 1, 1], [1, 1, 1, 1, 1], [1, 1, 1, 1], [1, 1, 1], [1, 1, 1, 1, 1, 1, 1, 1, 1, 1, 1, 1, 1, 1, 1, 1, 1, 1], [1, 1], [1, 1, 1], [1, 1, 1, 1, 1, 1, 1, 1, 1, 1, 1, 1, 1, 1, 1, 1, 1], [1, 1, 1, 1, 1, 1, 1, 1, 1, 1, 1], [1, 1], [1, 1, 1, 1, 1, 1, 1], [1, 1, 1, 1, 1, 1, 1, 1, 1, 1, 1, 1, 1, 1, 1, 1, 1, 1, 1, 1, 1, 1, 1, 1, 1, 1], [1, 1, 1, 1, 1, 1], [1, 1, 1, 1, 1, 1, 1, 1, 1, 1], [1, 1, 1, 1, 1, 1, 1], [1, 1, 1, 1, 1, 1, 1, 1, 1, 1], [1, 1, 1, 1], [1, 1, 1, 1, 1, 1, 1], [1, 1, 1], [1, 1, 1, 1, 1, 1, 1, 1, 1, 1, 1], [1, 1, 1, 1], [1, 1, 1, 1, 1, 1, 1], [1, 1, 1, 1, 1, 1, 1, 1, 1, 1], [1, 1, 1, 1, 1, 1, 1], [1, 1, 1, 1, 1, 1, 1, 1, 1, 1], [1, 1, 1], [1, 1, 1, 1, 1, 1, 1, 1], [1, 1], [1, 1, 1], [1, 1, 1, 1, 1], [1, 1, 1, 1], [1, 1, 1], [1, 1, 1, 1, 1, 1, 1, 1, 1, 1, 1, 1, 1, 1, 1, 1, 1, 1, 1, 1, 1, 1, 1, 1, 1, 1, 1, 1, 1, 1, 1, 1, 1, 1, 1, 1, 1, 1, 1, 1, 1, 1, 1, 1, 1, 1, 1, 1, 1, 1, 1, 1, 1, 1, 1, 1, 1, 1, 1, 1, 1, 1, 1, 1, 1, 1, 1, 1, 1, 1, 1, 1, 1, 1, 1, 1, 1, 1, 1, 1, 1, 1, 1, 1, 1, 1, 1], [1, 1, 1, 1, 1, 1], [1, 1, 1, 1, 1, 1, 1, 1, 1, 1, 1, 1, 1, 1, 1, 1, 1, 1, 1, 1, 1, 1, 1, 1, 1, 1, 1, 1, 1, 1, 1, 1, 1, 1, 1, 1, 1, 1, 1, 1, 1, 1, 1, 1, 1, 1, 1, 1, 1, 1, 1, 1, 1, 1, 1, 1, 1, 1, 1, 1, 1, 1, 1, 1, 1, 1, 1, 1, 1, 1, 1, 1, 1], [1, 1, 1, 1, 1, 1, 1], [1, 1, 1, 1], [1, 1, 1, 1, 1, 1, 1], [1, 1, 1, 1], [1, 1, 1, 1, 1, 1], [1, 1, 1, 1, 1, 1, 1, 1], [1, 1, 1, 1, 1, 1, 1, 1, 1, 1, 1, 1, 1, 1], [1, 1], [1, 1], [1, 1, 1, 1], [1, 1, 1, 1, 1, 1, 1, 1, 1, 1, 1, 1, 1], [1, 1, 1, 1, 1, 1, 1, 1, 1, 1, 1, 1, 1, 1, 1, 1, 1, 1, 1, 1], [1, 1, 1, 1, 1, 1, 1, 1, 1, 1, 1, 1, 1, 1, 1, 1, 1, 1, 1, 1, 1, 1, 1, 1, 1, 1, 1, 1, 1, 1, 1, 1, 1, 1, 1, 1, 1, 1], [1, 1, 1, 1, 1, 1], [1, 1, 1, 1, 1, 1, 1, 1, 1, 1, 1, 1, 1, 1, 1, 1, 1, 1, 1, 1, 1, 1, 1, 1, 1, 1, 1, 1, 1, 1, 1, 1, 1, 1, 1, 1, 1, 1, 1, 1, 1, 1, 1, 1, 1, 1, 1, 1, 1, 1, 1, 1, 1, 1, 1, 1, 1, 1, 1, 1, 1, 1, 1, 1, 1, 1, 1], [1, 1, 1, 1, 1, 1, 1, 1], [1, 1, 1, 1], [1, 1, 1, 1, 1, 1, 1, 1, 1, 1, 1, 1, 1, 1, 1, 1], [1, 1], [1, 1, 1, 1, 1, 1, 1, 1, 1, 1, 1, 1, 1, 1, 1, 1, 1, 1, 1, 1, 1, 1, 1, 1, 1], [1, 1, 1, 1, 1, 1, 1, 1], [1, 1, 1, 1, 1, 1, 1, 1, 1], [1, 1, 1, 1, 1, 1, 1, 1, 1, 1, 1, 1, 1, 1, 1, 1], [1, 1, 1, 1, 1], [1, 1, 1, 1, 1, 1, 1, 1, 1, 1, 1, 1, 1, 1, 1, 1, 1, 1, 1, 1], [1, 1, 1, 1, 1, 1, 1, 1, 1, 1, 1, 1, 1, 1, 1, 1, 1, 1, 1, 1, 1, 1, 1, 1, 1, 1], [1, 1, 1], [1, 1], [1, 1, 1], [1, 1, 1, 1, 1], [1, 1, 1], [1, 1, 1, 1], [1, 1, 1, 1, 1, 1, 1, 1, 1, 1, 1, 1, 1, 1, 1, 1, 1, 1, 1, 1, 1, 1, 1, 1, 1, 1, 1, 1, 1, 1, 1, 1, 1, 1, 1, 1, 1, 1, 1, 1, 1, 1, 1, 1, 1, 1, 1, 1, 1, 1, 1, 1, 1, 1, 1, 1, 1, 1, 1, 1, 1, 1, 1, 1, 1, 1, 1, 1, 1, 1, 1, 1, 1, 1, 1, 1], [1, 1, 1, 1, 1], [1, 1, 1], [1, 1], [1, 1, 1, 1, 1, 1, 1, 1, 1, 1, 1, 1, 1, 1, 1, 1, 1, 1, 1, 1, 1, 1, 1, 1, 1, 1, 1, 1, 1, 1, 1, 1, 1, 1, 1, 1], [1, 1, 1, 1, 1, 1, 1, 1, 1, 1, 1, 1, 1, 1, 1, 1], [1, 1, 1, 1, 1, 1, 1, 1, 1, 1, 1, 1], [1, 1, 1], [1, 1, 1, 1, 1, 1, 1, 1, 1, 1, 1, 1, 1, 1, 1, 1, 1, 1, 1, 1, 1], [1, 1, 1, 1, 1, 1, 1, 1], [1, 1, 1, 1, 1, 1, 1, 1, 1, 1, 1, 1, 1, 1, 1, 1, 1, 1, 1, 1, 1, 1, 1], [1, 1, 1, 1, 1, 1, 1, 1, 1], [1, 1, 1, 1, 1, 1, 1, 1, 1, 1, 1, 1, 1, 1, 1, 1], [1, 1], [1, 1], [1, 1], [1, 1, 1, 1, 1, 1], [1, 1, 1, 1, 1, 1], [1, 1, 1, 1, 1, 1, 1, 1, 1, 1, 1, 1, 1, 1, 1, 1, 1, 1, 1, 1, 1, 1, 1, 1, 1, 1, 1, 1, 1, 1, 1, 1, 1, 1, 1, 1, 1, 1, 1, 1, 1, 1, 1, 1, 1, 1, 1, 1, 1, 1, 1, 1, 1, 1, 1, 1, 1, 1, 1, 1, 1, 1, 1, 1, 1, 1, 1, 1, 1, 1, 1, 1, 1, 1, 1, 1, 1, 1, 1, 1, 1, 1, 1, 1, 1, 1, 1, 1, 1, 1, 1, 1, 1, 1, 1, 1, 1, 1, 1, 1, 1, 1, 1, 1, 1, 1, 1, 1, 1, 1, 1, 1, 1, 1, 1, 1, 1, 1, 1, 1, 1, 1, 1, 1, 1, 1, 1, 1], [1, 1, 1, 1, 1, 1, 1, 1, 1, 1, 1, 1, 1, 1, 1, 1, 1], [1, 1, 1, 1], [1, 1, 1, 1, 1, 1, 1], [1, 1, 1], [1, 1, 1, 1, 1, 1, 1, 1, 1], [1, 1, 1, 1, 1, 1, 1, 1, 1, 1, 1, 1], [1, 1, 1, 1], [1, 1, 1, 1, 1, 1, 1, 1, 1, 1, 1, 1, 1, 1, 1, 1], [1, 1, 1, 1, 1, 1, 1, 1, 1, 1, 1], [1, 1, 1, 1, 1], [1, 1, 1, 1, 1, 1, 1], [1, 1, 1, 1], [1, 1, 1, 1, 1, 1, 1, 1, 1, 1, 1, 1, 1, 1, 1, 1, 1, 1, 1, 1, 1, 1, 1, 1, 1, 1, 1, 1, 1, 1, 1, 1, 1, 1, 1, 1, 1, 1, 1, 1, 1, 1], [1, 1, 1, 1, 1], [1, 1, 1, 1, 1, 1, 1, 1], [1, 1, 1, 1, 1], [1, 1], [1, 1, 1, 1, 1], [1, 1, 1, 1, 1], [1, 1, 1, 1, 1, 1, 1, 1, 1, 1, 1, 1, 1, 1, 1], [1, 1, 1, 1, 1], [1, 1, 1, 1], [1, 1, 1, 1, 1, 1, 1, 1], [1, 1, 1, 1, 1, 1], [1, 1, 1, 1, 1, 1, 1, 1, 1, 1], [1, 1], [1, 1], [1, 1, 1, 1], [1, 1, 1, 1, 1, 1, 1], [1, 1, 1], [1, 1, 1, 1], [1, 1, 1, 1, 1, 1, 1], [1, 1, 1, 1], [1, 1, 1, 1, 1, 1], [1, 1, 1, 1, 1, 1], [1, 1, 1, 1], [1, 1, 1, 1, 1, 1, 1, 1, 1, 1, 1, 1, 1, 1, 1], [1, 1, 1, 1], [1, 1, 1, 1, 1, 1, 1, 1, 1, 1, 1, 1, 1, 1, 1, 1, 1, 1, 1, 1, 1, 1, 1, 1, 1, 1, 1, 1, 1, 1, 1], [1, 1, 1, 1, 1, 1, 1, 1, 1, 1, 1, 1, 1, 1, 1, 1, 1, 1, 1, 1, 1, 1, 1, 1, 1, 1, 1, 1, 1, 1, 1, 1, 1, 1, 1], [1, 1, 1, 1, 1], [1, 1, 1, 1, 1, 1, 1, 1, 1, 1, 1, 1, 1, 1, 1, 1, 1, 1, 1, 1, 1, 1, 1, 1, 1, 1, 1, 1, 1, 1, 1, 1, 1], [1, 1, 1, 1, 1, 1, 1, 1, 1, 1, 1, 1, 1, 1, 1, 1, 1], [1, 1, 1, 1, 1, 1, 1, 1, 1, 1, 1, 1, 1, 1, 1, 1, 1, 1, 1, 1, 1, 1, 1, 1, 1, 1, 1, 1, 1, 1, 1], [1, 1, 1, 1], [1, 1], [1, 1, 1, 1], [1, 1, 1], [1, 1, 1, 1, 1, 1], [1, 1, 1, 1], [1, 1, 1, 1, 1, 1, 1, 1], [1, 1, 1], [1, 1, 1], [1, 1, 1, 1, 1, 1, 1, 1, 1, 1, 1, 1, 1, 1, 1, 1, 1, 1, 1, 1, 1, 1, 1, 1, 1, 1, 1, 1, 1], [1, 1], [1, 1, 1, 1, 1, 1, 1, 1, 1, 1, 1, 1, 1, 1, 1, 1, 1], [1, 1, 1, 1, 1, 1], [1, 1, 1, 1, 1, 1], [1, 1, 1, 1, 1], [1, 1], [1, 1], [1, 1, 1, 1], [1, 1, 1, 1, 1], [1, 1, 1], [1, 1, 1, 1], [1, 1, 1, 1, 1, 1, 1, 1, 1, 1, 1, 1, 1, 1], [1, 1, 1, 1, 1, 1, 1, 1, 1, 1], [1, 1, 1, 1, 1, 1, 1, 1, 1, 1, 1, 1, 1, 1, 1, 1, 1, 1, 1, 1, 1, 1, 1, 1, 1, 1, 1, 1, 1, 1, 1, 1, 1, 1, 1, 1, 1, 1, 1, 1, 1, 1], [1, 1, 1, 1, 1, 1, 1, 1, 1, 1, 1, 1, 1, 1, 1, 1, 1, 1, 1, 1, 1, 1, 1, 1, 1, 1, 1, 1, 1, 1, 1, 1, 1, 1, 1, 1, 1, 1, 1, 1, 1, 1, 1, 1, 1, 1, 1, 1, 1, 1, 1, 1], [1, 1, 1, 1, 1, 1, 1, 1, 1, 1, 1], [1, 1, 1, 1, 1, 1, 1, 1, 1, 1, 1, 1, 1, 1, 1, 1, 1, 1, 1, 1, 1, 1, 1, 1, 1, 1, 1, 1, 1, 1, 1, 1, 1, 1], [1, 1, 1, 1, 1, 1, 1], [1, 1, 1, 1], [1, 1, 1, 1, 1, 1, 1, 1, 1, 1, 1, 1, 1, 1], [1, 1, 1, 1, 1, 1], [1, 1, 1, 1, 1], [1, 1, 1, 1], [1, 1, 1], [1, 1, 1, 1, 1, 1], [1, 1, 1, 1], [1, 1, 1], [1, 1, 1, 1, 1, 1, 1, 1], [1, 1, 1, 1], [1, 1, 1, 1, 1, 1, 1, 1, 1, 1], [1, 1, 1, 1, 1], [1, 1, 1, 1, 1, 1, 1, 1, 1, 1, 1, 1, 1, 1, 1], [1, 1, 1, 1, 1], [1, 1, 1, 1, 1, 1], [1, 1, 1, 1, 1, 1], [1, 1, 1], [1, 1, 1, 1, 1], [1, 1], [1, 1, 1, 1, 1, 1, 1, 1, 1, 1, 1, 1, 1, 1, 1, 1, 1, 1, 1, 1, 1, 1, 1, 1, 1, 1, 1, 1, 1, 1, 1, 1, 1, 1, 1, 1, 1, 1], [1, 1], [1, 1, 1, 1], [1, 1], [1, 1, 1, 1, 1, 1, 1, 1, 1], [1, 1, 1, 1, 1], [1, 1, 1, 1, 1, 1, 1, 1, 1, 1], [1, 1, 1, 1, 1, 1, 1], [1, 1, 1, 1], [1, 1, 1, 1], [1, 1], [1, 1, 1, 1], [1, 1, 1, 1, 1, 1, 1, 1, 1, 1, 1, 1, 1, 1], [1, 1, 1, 1, 1], [1, 1, 1, 1, 1, 1], [1, 1, 1, 1, 1, 1, 1, 1, 1, 1, 1], [1, 1, 1, 1, 1, 1, 1, 1, 1, 1, 1], [1, 1], [1, 1, 1], [1, 1], [1, 1, 1, 1], [1, 1, 1, 1, 1, 1, 1, 1, 1, 1, 1, 1, 1, 1, 1, 1, 1, 1, 1, 1, 1, 1, 1, 1, 1, 1, 1, 1, 1, 1, 1, 1, 1, 1, 1, 1, 1, 1, 1, 1, 1, 1, 1, 1, 1, 1, 1, 1, 1, 1, 1, 1, 1, 1, 1, 1, 1, 1, 1, 1, 1, 1, 1, 1, 1, 1, 1, 1, 1, 1, 1, 1, 1, 1, 1], [1, 1, 1, 1, 1], [1, 1], [1, 1, 1, 1], [1, 1, 1, 1, 1, 1, 1], [1, 1, 1, 1, 1, 1, 1, 1, 1, 1, 1, 1, 1, 1], [1, 1, 1], [1, 1, 1, 1, 1, 1], [1, 1, 1, 1, 1, 1, 1, 1, 1, 1, 1, 1, 1, 1, 1, 1, 1, 1, 1, 1, 1, 1, 1, 1, 1], [1, 1, 1, 1, 1, 1, 1], [1, 1, 1, 1, 1, 1, 1, 1, 1, 1, 1, 1], [1, 1, 1, 1], [1, 1, 1, 1], [1, 1, 1, 1, 1, 1, 1, 1, 1, 1], [1, 1, 1, 1, 1, 1, 1], [1, 1, 1, 1, 1, 1, 1, 1, 1, 1, 1, 1, 1, 1], [1, 1, 1, 1, 1, 1, 1], [1, 1], [1, 1, 1], [1, 1, 1, 1, 1, 1, 1, 1, 1, 1, 1], [1, 1, 1], [1, 1, 1, 1, 1, 1], [1, 1, 1, 1, 1, 1, 1, 1, 1, 1, 1, 1, 1, 1, 1, 1, 1, 1, 1, 1, 1], [1, 1, 1, 1], [1, 1, 1], [1, 1, 1, 1, 1, 1], [1, 1, 1, 1], [1, 1, 1, 1, 1, 1, 1, 1, 1, 1, 1, 1, 1, 1], [1, 1], [1, 1, 1, 1, 1, 1], [1, 1, 1, 1, 1], [1, 1, 1, 1, 1, 1, 1, 1, 1, 1, 1, 1, 1, 1, 1, 1, 1, 1, 1, 1, 1, 1, 1, 1, 1, 1, 1, 1, 1, 1, 1], [1, 1, 1, 1], [1, 1, 1, 1, 1], [1, 1, 1, 1, 1, 1, 1, 1], [1, 1, 1, 1], [1, 1, 1, 1, 1, 1, 1, 1, 1, 1, 1, 1, 1, 1, 1, 1, 1, 1, 1, 1, 1, 1, 1, 1, 1, 1, 1, 1, 1, 1, 1], [1, 1, 1, 1, 1, 1], [1, 1, 1], [1, 1, 1, 1, 1], [1, 1, 1, 1, 1, 1, 1, 1, 1, 1, 1, 1, 1, 1, 1, 1], [1, 1, 1, 1, 1, 1, 1, 1, 1, 1, 1], [1, 1], [1, 1, 1, 1, 1], [1, 1, 1, 1, 1], [1, 1, 1], [1, 1, 1, 1, 1, 1, 1, 1, 1, 1, 1, 1, 1, 1, 1, 1, 1, 1], [1, 1, 1, 1], [1, 1, 1, 1, 1, 1, 1, 1, 1, 1, 1, 1, 1, 1, 1, 1, 1, 1, 1, 1, 1, 1, 1, 1, 1, 1, 1, 1, 1, 1, 1, 1, 1, 1, 1, 1], [1, 1, 1, 1, 1, 1, 1, 1, 1, 1, 1, 1], [1, 1, 1, 1, 1, 1, 1], [1, 1, 1, 1, 1, 1, 1], [1, 1, 1, 1, 1, 1, 1, 1, 1, 1, 1, 1, 1, 1, 1, 1, 1], [1, 1, 1, 1, 1, 1, 1, 1, 1, 1, 1, 1, 1, 1, 1, 1, 1, 1, 1, 1, 1, 1, 1, 1, 1, 1, 1, 1, 1, 1, 1, 1, 1, 1, 1], [1, 1, 1, 1, 1], [1, 1, 1, 1, 1, 1, 1, 1], [1, 1, 1, 1, 1, 1, 1, 1, 1, 1, 1, 1, 1, 1, 1, 1, 1], [1, 1, 1], [1, 1, 1, 1], [1, 1, 1], [1, 1, 1, 1], [1, 1], [1, 1, 1, 1, 1, 1, 1], [1, 1, 1], [1, 1, 1, 1, 1, 1, 1, 1, 1, 1, 1, 1, 1, 1, 1, 1, 1, 1, 1, 1, 1, 1, 1, 1, 1, 1, 1, 1, 1, 1, 1, 1, 1, 1, 1, 1, 1, 1, 1, 1, 1, 1, 1, 1, 1, 1, 1, 1, 1, 1, 1, 1, 1, 1, 1, 1, 1, 1, 1, 1, 1, 1, 1, 1, 1, 1, 1, 1, 1, 1, 1, 1, 1, 1, 1, 1, 1, 1, 1, 1, 1, 1, 1, 1, 1, 1, 1, 1, 1, 1, 1, 1, 1, 1, 1, 1, 1, 1, 1, 1, 1, 1, 1, 1, 1, 1, 1, 1, 1, 1, 1, 1, 1, 1, 1, 1, 1, 1, 1, 1, 1, 1, 1, 1, 1, 1, 1, 1], [1, 1, 1, 1], [1, 1], [1, 1, 1, 1, 1, 1, 1, 1, 1, 1, 1, 1, 1, 1, 1, 1, 1, 1], [1, 1, 1, 1, 1, 1, 1, 1, 1, 1, 1, 1, 1, 1, 1, 1, 1, 1, 1, 1, 1, 1, 1, 1, 1, 1, 1, 1, 1, 1, 1, 1, 1, 1, 1, 1, 1, 1, 1, 1, 1, 1, 1], [1, 1, 1, 1, 1, 1, 1, 1, 1, 1, 1, 1], [1, 1, 1, 1, 1], [1, 1, 1, 1, 1, 1, 1, 1], [1, 1, 1, 1, 1, 1, 1, 1, 1, 1, 1, 1, 1, 1, 1, 1], [1, 1, 1, 1, 1, 1, 1, 1, 1, 1, 1, 1, 1, 1, 1, 1, 1, 1, 1, 1, 1, 1, 1, 1], [1, 1, 1, 1, 1, 1, 1, 1, 1, 1, 1, 1, 1], [1, 1], [1, 1, 1, 1, 1, 1, 1, 1, 1, 1, 1, 1, 1, 1, 1, 1, 1, 1, 1, 1, 1, 1, 1, 1, 1, 1, 1, 1, 1, 1, 1, 1], [1, 1, 1, 1, 1, 1, 1, 1, 1, 1, 1, 1, 1, 1], [1, 1, 1, 1, 1, 1, 1, 1, 1, 1, 1, 1, 1, 1, 1, 1, 1, 1, 1, 1, 1, 1, 1, 1], [1, 1, 1, 1, 1, 1, 1, 1, 1, 1, 1, 1, 1, 1, 1, 1, 1, 1, 1, 1, 1, 1, 1, 1, 1], [1, 1, 1], [1, 1, 1, 1, 1, 1, 1, 1, 1, 1, 1, 1, 1, 1, 1, 1, 1, 1, 1, 1, 1, 1, 1, 1, 1, 1, 1, 1, 1, 1, 1, 1, 1, 1, 1, 1, 1, 1, 1, 1, 1, 1, 1, 1, 1, 1, 1, 1, 1, 1, 1, 1, 1, 1, 1, 1, 1, 1, 1, 1, 1, 1, 1, 1, 1, 1, 1, 1, 1, 1, 1, 1, 1, 1, 1, 1, 1, 1, 1, 1, 1, 1, 1, 1, 1, 1, 1, 1, 1, 1, 1, 1, 1, 1, 1, 1, 1, 1, 1, 1, 1, 1, 1, 1, 1, 1, 1, 1, 1, 1, 1, 1, 1, 1, 1, 1, 1, 1, 1, 1, 1, 1, 1, 1, 1], [1, 1, 1, 1, 1, 1, 1, 1, 1, 1, 1, 1, 1, 1, 1, 1, 1, 1, 1, 1, 1], [1, 1, 1, 1, 1, 1, 1, 1, 1, 1, 1, 1, 1, 1, 1, 1, 1, 1, 1, 1, 1, 1, 1, 1, 1, 1, 1, 1, 1, 1, 1, 1, 1, 1, 1, 1, 1, 1, 1, 1, 1, 1, 1, 1, 1, 1, 1, 1, 1, 1, 1, 1, 1, 1, 1, 1, 1, 1, 1, 1, 1, 1, 1, 1, 1, 1, 1, 1, 1, 1, 1, 1, 1, 1, 1, 1, 1, 1, 1, 1, 1, 1, 1, 1, 1, 1, 1, 1, 1, 1, 1, 1, 1, 1, 1, 1, 1, 1, 1, 1], [1, 1, 1, 1], [1, 1, 1, 1, 1, 1, 1], [1, 1, 1], [1, 1, 1], [1, 1, 1, 1, 1, 1, 1, 1], [1, 1, 1, 1, 1, 1], [1, 1, 1, 1, 1], [1, 1, 1, 1], [1, 1, 1, 1, 1, 1, 1, 1, 1, 1, 1, 1, 1, 1, 1, 1, 1, 1, 1, 1, 1, 1, 1, 1, 1, 1, 1, 1, 1, 1, 1, 1, 1, 1, 1], [1, 1, 1, 1, 1, 1, 1, 1, 1, 1, 1, 1, 1, 1], [1, 1, 1], [1, 1, 1, 1, 1, 1, 1, 1, 1, 1], [1, 1, 1, 1, 1, 1, 1, 1, 1, 1, 1, 1, 1, 1, 1, 1, 1, 1, 1, 1, 1, 1, 1, 1, 1, 1, 1, 1, 1, 1, 1, 1, 1, 1, 1, 1, 1, 1, 1, 1, 1, 1, 1, 1, 1, 1, 1, 1, 1, 1, 1, 1, 1, 1, 1, 1, 1, 1, 1, 1, 1, 1, 1, 1, 1, 1, 1, 1, 1, 1, 1, 1, 1, 1, 1, 1, 1, 1, 1, 1, 1, 1, 1, 1, 1, 1, 1, 1, 1, 1, 1, 1, 1, 1, 1, 1, 1, 1, 1, 1, 1, 1, 1, 1, 1, 1, 1, 1, 1, 1, 1, 1, 1, 1, 1, 1, 1, 1, 1, 1, 1, 1, 1, 1], [1, 1, 1, 1, 1, 1, 1, 1, 1, 1, 1, 1, 1, 1, 1, 1, 1, 1, 1, 1, 1, 1, 1, 1, 1, 1, 1, 1, 1, 1, 1, 1, 1, 1, 1, 1, 1, 1, 1, 1, 1, 1, 1, 1, 1, 1, 1, 1, 1, 1, 1, 1, 1, 1, 1, 1, 1, 1, 1, 1, 1, 1, 1, 1], [1, 1, 1, 1, 1, 1, 1, 1, 1, 1], [1, 1], [1, 1, 1, 1], [1, 1, 1], [1, 1, 1], [1, 1, 1, 1, 1, 1, 1, 1, 1, 1, 1, 1, 1, 1, 1], [1, 1, 1, 1, 1, 1], [1, 1, 1, 1, 1, 1, 1, 1, 1, 1, 1, 1, 1, 1, 1, 1], [1, 1, 1], [1, 1, 1, 1, 1, 1, 1], [1, 1, 1], [1, 1, 1, 1, 1, 1, 1, 1, 1, 1, 1, 1, 1, 1, 1, 1, 1, 1, 1, 1, 1, 1, 1, 1, 1, 1, 1, 1, 1, 1, 1, 1, 1], [1, 1, 1, 1, 1, 1, 1, 1, 1, 1], [1, 1, 1, 1, 1], [1, 1, 1, 1, 1, 1, 1, 1, 1, 1, 1, 1, 1, 1, 1, 1, 1, 1], [1, 1, 1, 1, 1, 1, 1, 1, 1, 1, 1, 1, 1, 1, 1, 1, 1, 1, 1, 1, 1, 1, 1, 1, 1, 1, 1, 1, 1, 1, 1, 1, 1, 1, 1, 1, 1, 1, 1, 1, 1, 1, 1, 1, 1, 1, 1, 1, 1, 1, 1, 1, 1, 1, 1, 1, 1, 1, 1, 1, 1, 1, 1, 1, 1, 1, 1, 1, 1, 1, 1, 1, 1, 1, 1, 1, 1, 1, 1, 1], [1, 1, 1, 1, 1, 1, 1, 1, 1, 1, 1, 1, 1, 1, 1, 1, 1, 1, 1, 1, 1, 1, 1, 1, 1, 1, 1, 1, 1, 1, 1, 1, 1, 1, 1, 1, 1, 1, 1, 1, 1, 1, 1, 1, 1, 1, 1, 1, 1, 1, 1, 1, 1, 1], [1, 1, 1, 1], [1, 1], [1, 1], [1, 1, 1, 1, 1], [1, 1, 1, 1, 1, 1, 1, 1], [1, 1], [1, 1, 1, 1, 1, 1], [1, 1, 1, 1], [1, 1, 1, 1, 1, 1, 1, 1, 1, 1, 1, 1, 1, 1, 1, 1, 1, 1], [1, 1, 1, 1, 1, 1, 1, 1, 1, 1, 1, 1, 1, 1, 1, 1, 1, 1, 1, 1, 1, 1, 1, 1, 1, 1, 1, 1, 1, 1, 1, 1, 1, 1, 1, 1, 1, 1, 1, 1, 1, 1, 1, 1, 1, 1, 1, 1, 1, 1, 1, 1, 1, 1, 1, 1, 1, 1, 1, 1, 1, 1, 1, 1, 1, 1, 1, 1, 1, 1, 1, 1, 1, 1, 1, 1, 1, 1, 1, 1, 1, 1, 1, 1, 1, 1, 1, 1, 1, 1], [1, 1, 1, 1, 1, 1, 1, 1, 1], [1, 1, 1, 1, 1, 1, 1, 1, 1, 1, 1], [1, 1, 1, 1, 1, 1, 1, 1, 1, 1, 1, 1, 1, 1, 1, 1, 1, 1, 1, 1, 1, 1, 1, 1, 1, 1, 1, 1, 1, 1, 1, 1, 1, 1, 1, 1, 1, 1, 1, 1, 1, 1, 1, 1, 1, 1, 1, 1, 1, 1, 1, 1, 1, 1, 1, 1, 1, 1, 1, 1, 1, 1, 1, 1, 1, 1, 1, 1, 1, 1, 1, 1, 1, 1], [1, 1, 1, 1, 1, 1, 1, 1, 1, 1, 1, 1, 1, 1, 1, 1, 1, 1, 1, 1, 1, 1, 1, 1, 1, 1, 1, 1, 1, 1, 1, 1, 1, 1, 1], [1, 1, 1, 1, 1, 1, 1], [1, 1, 1, 1, 1, 1, 1, 1, 1, 1], [1, 1, 1, 1, 1, 1], [1, 1, 1], [1, 1, 1], [1, 1, 1, 1], [1, 1, 1, 1, 1, 1, 1, 1, 1, 1, 1], [1, 1, 1, 1, 1, 1], [1, 1, 1, 1, 1, 1, 1, 1, 1], [1, 1, 1, 1, 1, 1, 1, 1, 1, 1], [1, 1, 1], [1, 1, 1, 1, 1, 1], [1, 1, 1, 1, 1, 1, 1, 1, 1, 1, 1], [1, 1, 1, 1, 1, 1, 1, 1, 1, 1, 1, 1], [1, 1, 1, 1, 1, 1, 1, 1, 1, 1, 1, 1, 1, 1, 1, 1, 1, 1, 1, 1, 1, 1, 1, 1, 1, 1, 1, 1, 1, 1, 1, 1, 1, 1, 1, 1, 1, 1, 1, 1, 1, 1, 1, 1, 1], [1, 1, 1, 1, 1], [1, 1, 1, 1, 1, 1, 1, 1, 1, 1, 1], [1, 1, 1, 1, 1], [1, 1, 1], [1, 1, 1, 1], [1, 1, 1], [1, 1, 1, 1], [1, 1, 1, 1, 1, 1, 1], [1, 1, 1], [1, 1, 1, 1], [1, 1, 1, 1, 1, 1, 1, 1, 1, 1, 1], [1, 1, 1, 1, 1, 1], [1, 1, 1], [1, 1, 1], [1, 1, 1, 1, 1, 1, 1, 1, 1, 1, 1, 1, 1], [1, 1, 1, 1], [1, 1, 1, 1, 1, 1, 1], [1, 1, 1, 1, 1, 1, 1], [1, 1, 1], [1, 1], [1, 1, 1, 1, 1, 1, 1, 1, 1, 1, 1, 1, 1, 1, 1, 1, 1, 1, 1, 1, 1, 1, 1, 1, 1, 1, 1, 1, 1, 1, 1, 1, 1, 1, 1, 1, 1, 1, 1, 1, 1, 1, 1, 1, 1, 1, 1, 1, 1, 1, 1, 1, 1, 1, 1, 1, 1, 1, 1, 1, 1, 1, 1, 1, 1], [1, 1, 1, 1, 1, 1, 1, 1, 1, 1, 1, 1, 1, 1, 1, 1, 1], [1, 1, 1, 1, 1], [1, 1, 1, 1, 1, 1, 1, 1, 1, 1, 1, 1, 1, 1, 1, 1, 1, 1, 1], [1, 1, 1, 1, 1, 1, 1, 1, 1, 1, 1, 1, 1], [1, 1, 1, 1, 1, 1, 1, 1, 1, 1, 1, 1, 1, 1, 1, 1, 1, 1, 1, 1, 1, 1, 1, 1, 1, 1, 1, 1, 1, 1, 1, 1, 1, 1, 1, 1, 1, 1, 1, 1, 1, 1, 1, 1, 1, 1, 1, 1, 1, 1, 1, 1, 1], [1, 1, 1], [1, 1, 1, 1, 1, 1, 1, 1, 1, 1, 1, 1, 1, 1, 1, 1, 1, 1], [1, 1, 1], [1, 1, 1, 1, 1, 1, 1, 1, 1, 1, 1, 1, 1, 1, 1, 1, 1, 1, 1, 1, 1, 1, 1, 1, 1, 1, 1, 1, 1, 1, 1, 1, 1], [1, 1, 1], [1, 1, 1, 1, 1, 1, 1], [1, 1, 1], [1, 1], [1, 1, 1, 1, 1, 1, 1, 1, 1, 1, 1, 1, 1, 1, 1, 1, 1, 1, 1, 1, 1, 1, 1, 1, 1, 1, 1, 1, 1, 1, 1, 1, 1, 1, 1, 1, 1, 1, 1, 1, 1, 1, 1, 1, 1, 1, 1, 1, 1, 1, 1, 1, 1, 1, 1, 1, 1, 1, 1, 1, 1, 1, 1, 1, 1, 1, 1, 1, 1, 1, 1, 1, 1, 1, 1, 1, 1, 1, 1], [1, 1], [1, 1, 1, 1], [1, 1, 1, 1], [1, 1, 1, 1, 1, 1, 1, 1, 1, 1, 1, 1, 1, 1], [1, 1, 1, 1], [1, 1, 1, 1, 1, 1, 1, 1, 1, 1, 1, 1, 1, 1, 1, 1, 1, 1, 1, 1, 1, 1, 1, 1, 1], [1, 1, 1, 1, 1, 1], [1, 1, 1, 1, 1, 1, 1, 1, 1, 1, 1, 1, 1, 1, 1, 1, 1, 1, 1, 1, 1, 1, 1, 1, 1, 1, 1, 1, 1, 1, 1, 1, 1, 1, 1, 1], [1, 1, 1], [1, 1, 1, 1, 1, 1, 1, 1, 1], [1, 1, 1, 1, 1, 1, 1, 1, 1, 1, 1, 1], [1, 1, 1, 1, 1, 1, 1, 1, 1, 1, 1, 1, 1, 1, 1, 1, 1, 1, 1, 1, 1, 1, 1, 1, 1, 1, 1, 1, 1, 1, 1, 1, 1, 1, 1, 1, 1, 1, 1, 1, 1, 1, 1, 1, 1, 1, 1], [1, 1, 1, 1], [1, 1, 1], [1, 1, 1, 1], [1, 1, 1, 1, 1, 1, 1, 1, 1, 1], [1, 1, 1, 1, 1, 1, 1, 1, 1, 1], [1, 1, 1, 1], [1, 1, 1, 1, 1, 1, 1, 1], [1, 1, 1, 1, 1, 1, 1, 1, 1, 1, 1, 1, 1, 1, 1, 1, 1, 1, 1, 1, 1, 1, 1, 1, 1, 1, 1, 1, 1, 1, 1, 1, 1, 1, 1, 1, 1, 1, 1], [1, 1, 1, 1, 1, 1, 1, 1], [1, 1, 1, 1, 1, 1, 1, 1, 1, 1, 1, 1, 1, 1, 1, 1, 1, 1, 1, 1, 1, 1, 1, 1, 1, 1, 1, 1, 1, 1, 1, 1, 1, 1, 1, 1, 1, 1, 1, 1, 1, 1, 1, 1, 1, 1, 1, 1, 1, 1, 1, 1, 1, 1, 1, 1, 1, 1, 1, 1, 1, 1, 1, 1, 1, 1, 1, 1, 1, 1, 1, 1, 1, 1, 1, 1, 1, 1, 1, 1, 1, 1, 1, 1, 1, 1, 1, 1, 1, 1, 1, 1, 1, 1, 1, 1, 1, 1, 1, 1, 1, 1, 1, 1, 1, 1, 1, 1, 1], [1, 1, 1, 1, 1, 1], [1, 1, 1, 1, 1], [1, 1, 1, 1, 1, 1, 1, 1, 1, 1, 1, 1, 1, 1, 1, 1, 1, 1, 1, 1, 1, 1, 1, 1, 1, 1, 1, 1, 1, 1, 1, 1, 1, 1, 1, 1, 1, 1, 1, 1, 1, 1, 1, 1, 1, 1, 1, 1, 1, 1, 1, 1, 1, 1, 1, 1, 1, 1, 1, 1, 1, 1, 1, 1, 1, 1, 1, 1, 1, 1, 1, 1, 1, 1, 1], [1, 1, 1, 1, 1, 1, 1, 1, 1, 1, 1, 1, 1, 1, 1, 1, 1, 1, 1, 1, 1, 1, 1, 1, 1, 1, 1, 1, 1, 1, 1, 1, 1, 1, 1, 1], [1, 1, 1, 1, 1, 1, 1, 1, 1, 1, 1], [1, 1, 1, 1], [1, 1, 1, 1, 1, 1, 1, 1, 1, 1, 1, 1, 1, 1, 1], [1, 1], [1, 1, 1, 1, 1, 1, 1, 1, 1, 1, 1, 1], [1, 1, 1, 1, 1, 1, 1, 1, 1, 1], [1, 1, 1, 1, 1, 1], [1, 1, 1, 1, 1, 1, 1, 1], [1, 1, 1, 1, 1, 1], [1, 1, 1, 1, 1], [1, 1, 1], [1, 1, 1, 1, 1, 1, 1, 1, 1, 1, 1, 1, 1, 1, 1, 1, 1, 1, 1, 1], [1, 1, 1], [1, 1, 1, 1], [1, 1, 1, 1, 1, 1], [1, 1, 1, 1, 1, 1, 1, 1, 1, 1, 1, 1, 1], [1, 1, 1, 1, 1, 1, 1, 1], [1, 1, 1, 1, 1], [1, 1, 1, 1, 1], [1, 1, 1, 1, 1, 1, 1, 1, 1, 1, 1, 1, 1], [1, 1, 1, 1, 1], [1, 1, 1, 1, 1, 1, 1, 1, 1, 1, 1, 1, 1, 1, 1, 1, 1, 1, 1, 1, 1, 1, 1, 1, 1, 1, 1, 1, 1, 1, 1, 1, 1, 1, 1, 1, 1, 1, 1, 1, 1, 1, 1, 1, 1, 1, 1, 1, 1, 1, 1, 1, 1, 1, 1, 1, 1, 1, 1, 1, 1, 1, 1, 1, 1, 1, 1, 1, 1, 1, 1, 1, 1, 1, 1, 1, 1, 1, 1, 1, 1, 1, 1, 1, 1, 1], [1, 1, 1, 1, 1], [1, 1, 1, 1, 1, 1, 1, 1, 1, 1, 1, 1, 1, 1, 1, 1, 1, 1, 1, 1, 1, 1, 1, 1, 1, 1, 1, 1, 1], [1, 1, 1, 1], [1, 1, 1, 1, 1, 1, 1, 1, 1, 1, 1, 1, 1, 1, 1, 1, 1, 1, 1, 1, 1, 1, 1, 1, 1, 1, 1, 1, 1, 1, 1, 1, 1, 1, 1, 1, 1, 1, 1, 1, 1, 1, 1, 1, 1, 1, 1, 1, 1, 1, 1, 1, 1, 1, 1, 1, 1, 1, 1, 1, 1, 1, 1, 1, 1, 1, 1, 1, 1, 1, 1, 1, 1, 1, 1, 1, 1, 1, 1, 1, 1, 1, 1, 1, 1, 1, 1, 1, 1, 1, 1, 1, 1, 1, 1, 1, 1, 1, 1, 1, 1, 1, 1, 1, 1, 1, 1, 1, 1, 1, 1, 1, 1, 1, 1, 1, 1, 1, 1, 1, 1, 1, 1, 1, 1], [1, 1, 1, 1], [1, 1, 1, 1, 1], [1, 1, 1, 1, 1, 1, 1, 1, 1, 1, 1, 1, 1, 1, 1, 1, 1, 1, 1, 1, 1, 1, 1, 1, 1, 1, 1, 1, 1, 1, 1, 1, 1, 1, 1, 1], [1, 1, 1], [1, 1, 1, 1, 1, 1, 1, 1, 1, 1, 1, 1, 1, 1, 1], [1, 1, 1, 1, 1, 1, 1, 1, 1, 1, 1, 1, 1, 1, 1, 1, 1, 1], [1, 1, 1, 1, 1, 1], [1, 1, 1, 1, 1], [1, 1, 1, 1, 1, 1, 1, 1, 1, 1, 1, 1, 1, 1, 1, 1, 1], [1, 1, 1], [1, 1, 1], [1, 1, 1, 1, 1, 1, 1, 1, 1], [1, 1, 1, 1, 1, 1, 1, 1, 1, 1, 1, 1, 1, 1, 1, 1, 1, 1, 1, 1, 1, 1, 1, 1, 1, 1, 1, 1], [1, 1, 1, 1, 1, 1, 1, 1, 1, 1, 1, 1], [1, 1, 1, 1, 1, 1, 1, 1, 1, 1, 1, 1, 1, 1, 1, 1, 1, 1, 1, 1], [1, 1, 1], [1, 1, 1, 1, 1, 1, 1], [1, 1, 1, 1, 1, 1, 1, 1, 1, 1, 1, 1], [1, 1, 1, 1, 1, 1, 1, 1, 1, 1], [1, 1, 1, 1, 1, 1, 1, 1, 1, 1, 1, 1, 1, 1, 1, 1, 1, 1, 1, 1, 1, 1, 1, 1, 1, 1, 1, 1, 1, 1, 1, 1, 1, 1, 1, 1, 1, 1, 1, 1], [1, 1, 1, 1, 1, 1], [1, 1, 1, 1], [1, 1, 1, 1, 1, 1, 1], [1, 1, 1, 1], [1, 1, 1], [1, 1, 1, 1, 1, 1, 1, 1, 1, 1, 1, 1, 1, 1, 1, 1, 1, 1, 1, 1, 1, 1, 1, 1, 1, 1, 1, 1, 1, 1, 1, 1, 1], [1, 1, 1, 1], [1, 1, 1, 1, 1, 1, 1, 1, 1, 1, 1, 1, 1, 1, 1, 1, 1, 1, 1, 1, 1, 1, 1], [1, 1, 1, 1, 1, 1, 1, 1, 1], [1, 1], [1, 1, 1, 1, 1, 1, 1, 1], [1, 1, 1, 1], [1, 1, 1, 1, 1, 1, 1, 1, 1], [1, 1, 1, 1, 1, 1, 1, 1, 1], [1, 1, 1, 1, 1, 1, 1, 1, 1, 1, 1, 1, 1, 1], [1, 1, 1, 1], [1, 1, 1, 1, 1, 1], [1, 1, 1, 1, 1, 1, 1], [1, 1, 1, 1, 1, 1, 1, 1, 1, 1], [1, 1, 1, 1, 1], [1, 1, 1, 1, 1], [1, 1], [1, 1, 1, 1, 1, 1, 1, 1, 1, 1, 1, 1, 1, 1, 1, 1], [1, 1, 1], [1, 1, 1, 1], [1, 1, 1, 1], [1, 1, 1, 1, 1], [1, 1], [1, 1, 1, 1, 1, 1, 1, 1, 1, 1, 1, 1, 1, 1, 1, 1, 1, 1, 1, 1, 1, 1, 1, 1, 1, 1, 1, 1, 1, 1, 1, 1, 1, 1, 1, 1, 1, 1, 1, 1, 1, 1, 1, 1, 1, 1, 1, 1, 1, 1, 1, 1, 1, 1, 1, 1, 1, 1, 1, 1, 1, 1, 1, 1, 1, 1, 1, 1, 1, 1, 1, 1, 1, 1, 1, 1, 1, 1, 1, 1, 1, 1, 1, 1, 1, 1, 1, 1, 1, 1, 1, 1, 1, 1, 1, 1, 1, 1, 1, 1, 1, 1, 1, 1, 1, 1, 1, 1, 1, 1, 1, 1, 1, 1, 1, 1, 1, 1, 1, 1], [1, 1, 1, 1, 1, 1, 1, 1, 1, 1, 1, 1, 1, 1, 1, 1, 1], [1, 1, 1, 1, 1, 1, 1], [1, 1], [1, 1, 1, 1, 1, 1, 1, 1, 1, 1, 1, 1, 1, 1, 1, 1, 1, 1, 1, 1, 1, 1, 1, 1, 1, 1, 1, 1, 1, 1, 1, 1, 1, 1, 1, 1, 1, 1, 1, 1], [1, 1, 1, 1], [1, 1, 1], [1, 1, 1, 1, 1, 1, 1, 1, 1, 1], [1, 1, 1, 1, 1, 1], [1, 1, 1, 1, 1, 1], [1, 1, 1, 1, 1, 1, 1, 1, 1, 1, 1, 1, 1], [1, 1, 1, 1, 1, 1, 1, 1, 1, 1, 1, 1, 1, 1, 1, 1, 1, 1, 1, 1, 1, 1, 1, 1, 1, 1, 1, 1, 1, 1, 1, 1, 1, 1, 1, 1, 1, 1, 1, 1, 1, 1, 1, 1, 1, 1, 1, 1, 1, 1, 1, 1, 1, 1, 1, 1, 1, 1, 1, 1, 1, 1, 1, 1, 1, 1, 1, 1, 1, 1, 1, 1, 1, 1, 1, 1, 1, 1, 1, 1, 1, 1, 1, 1, 1, 1, 1, 1, 1, 1, 1, 1, 1, 1, 1, 1, 1, 1, 1, 1, 1, 1, 1, 1, 1, 1, 1, 1, 1], [1, 1, 1], [1, 1, 1], [1, 1, 1, 1, 1, 1, 1, 1, 1, 1], [1, 1, 1, 1, 1, 1, 1], [1, 1, 1], [1, 1, 1], [1, 1], [1, 1, 1, 1, 1, 1, 1, 1, 1, 1, 1, 1, 1, 1, 1, 1, 1], [1, 1], [1, 1, 1, 1, 1, 1], [1, 1, 1, 1, 1], [1, 1, 1, 1], [1, 1, 1], [1, 1, 1, 1, 1, 1, 1, 1], [1, 1], [1, 1, 1, 1, 1], [1, 1, 1], [1, 1, 1, 1], [1, 1, 1, 1, 1], [1, 1, 1, 1, 1, 1, 1, 1, 1, 1, 1, 1, 1, 1, 1, 1, 1, 1, 1, 1, 1, 1, 1, 1, 1, 1, 1, 1, 1, 1, 1, 1, 1, 1, 1, 1, 1, 1, 1, 1, 1, 1, 1, 1, 1, 1, 1, 1, 1, 1, 1, 1, 1, 1, 1, 1, 1, 1, 1, 1, 1, 1, 1], [1, 1, 1], [1, 1, 1], [1, 1], [1, 1, 1, 1, 1, 1, 1, 1, 1, 1, 1, 1, 1, 1, 1, 1, 1, 1, 1, 1, 1, 1, 1, 1, 1, 1, 1, 1, 1, 1, 1, 1, 1, 1, 1, 1, 1, 1, 1, 1, 1, 1, 1, 1, 1, 1, 1, 1, 1, 1, 1, 1, 1, 1, 1, 1, 1, 1, 1, 1, 1, 1, 1, 1, 1, 1, 1, 1, 1, 1, 1, 1, 1, 1, 1, 1, 1, 1, 1, 1, 1, 1, 1, 1, 1, 1, 1, 1, 1, 1, 1, 1, 1, 1, 1, 1, 1, 1, 1, 1, 1, 1, 1, 1, 1, 1, 1, 1, 1, 1, 1, 1, 1, 1, 1, 1, 1, 1, 1, 1, 1, 1, 1, 1, 1, 1, 1, 1], [1, 1, 1, 1, 1], [1, 1, 1, 1, 1, 1, 1, 1, 1, 1, 1, 1, 1, 1, 1, 1, 1, 1, 1, 1, 1, 1, 1, 1, 1, 1, 1, 1, 1, 1, 1, 1, 1, 1, 1, 1, 1, 1, 1, 1, 1, 1, 1, 1, 1, 1, 1, 1, 1, 1, 1, 1, 1, 1, 1, 1, 1, 1, 1, 1, 1, 1, 1, 1, 1, 1, 1, 1, 1, 1, 1, 1, 1, 1, 1, 1, 1, 1, 1, 1, 1, 1, 1, 1, 1, 1, 1, 1, 1, 1, 1, 1, 1], [1, 1, 1], [1, 1, 1, 1, 1, 1, 1], [1, 1, 1, 1, 1, 1, 1, 1, 1], [1, 1, 1, 1, 1, 1, 1, 1, 1, 1, 1, 1, 1, 1, 1], [1, 1, 1, 1, 1], [1, 1, 1, 1, 1, 1, 1, 1, 1, 1, 1, 1, 1, 1, 1, 1, 1, 1, 1, 1, 1, 1, 1, 1, 1, 1, 1, 1, 1, 1, 1, 1, 1, 1, 1, 1, 1, 1, 1, 1, 1, 1, 1, 1, 1, 1, 1, 1, 1, 1, 1, 1, 1, 1, 1, 1, 1, 1, 1, 1, 1, 1, 1, 1, 1, 1], [1, 1, 1], [1, 1, 1, 1, 1], [1, 1, 1, 1, 1], [1, 1, 1, 1, 1, 1, 1, 1, 1, 1, 1, 1, 1, 1, 1, 1, 1, 1, 1, 1, 1, 1, 1, 1, 1, 1, 1, 1, 1, 1, 1, 1, 1, 1, 1, 1, 1, 1, 1, 1], [1, 1, 1, 1, 1, 1, 1, 1, 1, 1, 1, 1, 1, 1], [1, 1, 1, 1, 1], [1, 1, 1], [1, 1, 1, 1, 1, 1, 1, 1, 1], [1, 1, 1, 1, 1, 1], [1, 1, 1, 1, 1], [1, 1, 1, 1, 1, 1, 1, 1, 1, 1, 1, 1, 1, 1, 1, 1], [1, 1, 1, 1], [1, 1, 1], [1, 1], [1, 1, 1, 1, 1, 1, 1, 1, 1, 1, 1, 1, 1, 1, 1], [1, 1, 1, 1, 1, 1, 1, 1, 1, 1], [1, 1, 1], [1, 1], [1, 1, 1, 1], [1, 1, 1, 1, 1, 1, 1, 1, 1, 1, 1, 1, 1, 1, 1, 1, 1, 1, 1, 1, 1, 1, 1, 1, 1, 1, 1, 1, 1, 1, 1, 1, 1, 1, 1, 1, 1, 1, 1, 1, 1, 1, 1, 1, 1, 1, 1, 1, 1, 1, 1, 1, 1, 1, 1, 1, 1, 1, 1, 1, 1, 1, 1, 1, 1, 1, 1, 1], [1, 1, 1, 1], [1, 1, 1, 1], [1, 1, 1, 1], [1, 1, 1, 1], [1, 1, 1], [1, 1, 1, 1, 1, 1, 1, 1, 1], [1, 1, 1, 1], [1, 1, 1, 1, 1, 1, 1, 1, 1, 1, 1, 1, 1, 1, 1, 1, 1, 1, 1, 1, 1, 1, 1, 1, 1, 1, 1, 1, 1, 1, 1, 1, 1, 1, 1, 1, 1, 1, 1, 1, 1, 1, 1, 1, 1, 1, 1, 1, 1, 1, 1, 1, 1, 1, 1, 1, 1, 1, 1, 1, 1, 1, 1, 1, 1, 1, 1, 1, 1, 1, 1, 1, 1, 1, 1, 1, 1, 1, 1, 1, 1, 1, 1, 1, 1, 1, 1, 1, 1, 1, 1, 1, 1, 1, 1, 1, 1, 1, 1, 1, 1, 1, 1, 1, 1, 1, 1, 1, 1, 1, 1, 1, 1, 1, 1, 1, 1, 1, 1, 1, 1, 1, 1, 1, 1, 1, 1, 1], [1, 1, 1, 1, 1, 1, 1, 1], [1, 1, 1], [1, 1, 1, 1, 1, 1, 1], [1, 1, 1, 1], [1, 1, 1, 1, 1, 1], [1, 1, 1], [1, 1, 1, 1, 1, 1], [1, 1, 1, 1, 1], [1, 1, 1, 1, 1], [1, 1, 1, 1, 1, 1, 1, 1, 1, 1, 1, 1], [1, 1, 1, 1, 1, 1, 1, 1, 1, 1, 1, 1, 1, 1, 1, 1, 1, 1], [1, 1, 1], [1, 1, 1, 1, 1], [1, 1, 1, 1], [1, 1, 1, 1, 1, 1, 1, 1, 1], [1, 1, 1, 1, 1, 1], [1, 1, 1, 1, 1, 1], [1, 1, 1, 1, 1, 1, 1, 1], [1, 1, 1, 1, 1, 1], [1, 1, 1, 1, 1, 1, 1, 1], [1, 1, 1], [1, 1, 1, 1, 1, 1, 1], [1, 1, 1, 1, 1], [1, 1, 1, 1, 1, 1, 1, 1, 1, 1, 1, 1, 1, 1, 1, 1, 1, 1, 1, 1, 1, 1, 1, 1, 1, 1, 1, 1, 1, 1, 1, 1, 1, 1, 1, 1, 1, 1, 1, 1, 1, 1, 1, 1, 1, 1, 1, 1, 1, 1, 1, 1, 1, 1, 1, 1, 1, 1, 1, 1, 1, 1, 1, 1, 1, 1, 1, 1, 1, 1, 1], [1, 1, 1, 1, 1, 1, 1, 1, 1], [1, 1, 1, 1, 1, 1, 1, 1, 1, 1], [1, 1, 1, 1, 1, 1, 1, 1, 1, 1], [1, 1, 1], [1, 1, 1, 1], [1, 1, 1], [1, 1, 1, 1, 1], [1, 1, 1, 1, 1], [1, 1, 1, 1, 1, 1], [1, 1, 1, 1, 1, 1, 1, 1, 1, 1, 1], [1, 1, 1, 1, 1, 1, 1, 1, 1], [1, 1, 1, 1, 1, 1], [1, 1], [1, 1, 1, 1, 1], [1, 1, 1, 1, 1, 1, 1, 1, 1], [1, 1], [1, 1, 1, 1], [1, 1, 1, 1, 1, 1, 1], [1, 1, 1, 1, 1, 1], [1, 1], [1, 1, 1], [1, 1, 1, 1, 1, 1, 1], [1, 1, 1, 1, 1, 1, 1, 1, 1, 1, 1, 1, 1, 1, 1, 1, 1, 1, 1], [1, 1, 1, 1, 1, 1, 1, 1, 1, 1, 1, 1, 1, 1, 1, 1, 1, 1, 1, 1, 1, 1, 1, 1, 1, 1], [1, 1, 1, 1, 1, 1, 1, 1, 1, 1, 1, 1, 1, 1, 1, 1, 1, 1, 1, 1, 1, 1, 1, 1, 1, 1, 1, 1, 1, 1, 1, 1, 1, 1, 1, 1, 1, 1, 1, 1, 1, 1, 1, 1, 1, 1, 1, 1, 1, 1, 1, 1, 1, 1, 1, 1, 1, 1, 1, 1, 1, 1, 1, 1, 1, 1, 1, 1, 1, 1, 1, 1, 1], [1, 1, 1, 1, 1, 1, 1, 1, 1, 1], [1, 1], [1, 1, 1, 1, 1], [1, 1, 1, 1], [1, 1, 1, 1, 1, 1, 1, 1, 1, 1, 1, 1], [1, 1, 1, 1], [1, 1, 1, 1, 1, 1, 1, 1, 1, 1, 1, 1, 1], [1, 1, 1, 1, 1, 1, 1, 1, 1, 1, 1, 1, 1, 1, 1, 1, 1, 1, 1, 1, 1, 1, 1, 1, 1, 1, 1, 1, 1, 1, 1, 1, 1, 1, 1, 1, 1], [1, 1, 1, 1, 1, 1, 1, 1, 1], [1, 1, 1, 1], [1, 1, 1], [1, 1, 1, 1, 1, 1, 1, 1, 1, 1, 1, 1, 1, 1, 1, 1, 1, 1, 1, 1, 1, 1, 1, 1, 1, 1, 1, 1, 1, 1, 1, 1, 1, 1, 1, 1, 1, 1, 1, 1, 1, 1, 1, 1, 1], [1, 1, 1, 1, 1, 1], [1, 1, 1], [1, 1, 1, 1, 1, 1, 1, 1, 1, 1, 1, 1, 1, 1, 1, 1, 1, 1, 1, 1, 1, 1, 1, 1, 1, 1, 1, 1, 1, 1, 1, 1, 1, 1, 1, 1, 1, 1, 1, 1, 1, 1, 1, 1, 1, 1, 1, 1, 1, 1, 1, 1, 1, 1, 1, 1, 1, 1, 1, 1, 1, 1, 1, 1, 1, 1, 1, 1, 1, 1, 1, 1], [1, 1, 1, 1, 1], [1, 1, 1, 1], [1, 1, 1], [1, 1, 1, 1], [1, 1, 1, 1], [1, 1, 1, 1, 1, 1, 1, 1], [1, 1, 1, 1, 1, 1, 1], [1, 1, 1], [1, 1, 1, 1], [1, 1, 1, 1, 1], [1, 1, 1, 1], [1, 1, 1, 1, 1, 1, 1], [1, 1, 1, 1, 1, 1, 1, 1], [1, 1, 1, 1, 1, 1, 1, 1, 1, 1, 1, 1, 1, 1, 1, 1, 1, 1, 1, 1, 1, 1, 1, 1, 1, 1, 1], [1, 1, 1, 1, 1, 1, 1, 1, 1, 1, 1, 1, 1, 1, 1], [1, 1, 1, 1, 1, 1, 1, 1, 1, 1, 1, 1, 1, 1, 1, 1, 1, 1, 1, 1, 1, 1, 1, 1, 1, 1, 1, 1, 1, 1, 1, 1, 1, 1, 1, 1, 1, 1, 1, 1, 1, 1, 1, 1, 1, 1, 1, 1, 1, 1, 1, 1, 1, 1, 1, 1, 1, 1, 1, 1, 1, 1, 1, 1, 1, 1, 1, 1, 1, 1, 1, 1, 1, 1, 1, 1, 1, 1, 1, 1, 1, 1, 1, 1, 1, 1, 1, 1, 1, 1, 1, 1, 1, 1, 1, 1, 1, 1, 1, 1, 1, 1, 1, 1, 1, 1, 1, 1, 1, 1, 1, 1, 1, 1, 1, 1, 1, 1, 1, 1, 1, 1, 1, 1, 1, 1, 1, 1], [1, 1, 1, 1], [1, 1, 1, 1, 1, 1, 1, 1, 1, 1, 1, 1, 1]]}\n",
            "{'input_ids': [[402, 9950, 108, 2240, 14, 6, 38367, 13218, 0], [526, 3261, 0], [34023, 5, 3948, 5, 372, 402, 38492, 350, 823, 95, 13439, 2, 25985, 14, 6, 3996, 3, 0], [6643, 1398, 0], [526, 3261, 15481, 51, 8201, 2468, 80, 532, 51, 1430, 14185, 243, 24, 751, 20447, 28, 44347, 80, 532, 51, 1430, 27, 14, 6, 11800, 5, 898, 526, 3261, 0], [344, 1069, 345, 4094, 34, 2428, 345, 9315, 113, 689, 31, 8, 1283, 5, 1470, 21708, 3, 0], [2190, 174, 3681, 0], [29700, 9, 18649, 540, 301, 548, 1802, 7492, 37, 12, 2570, 75, 3595, 0], [26087, 24, 14135, 12222, 3954, 10250, 28, 0], [14283, 20, 6, 93, 666, 325, 5, 3571, 5, 372, 3, 0], [5790, 364, 0], [6139, 16999, 51, 311, 12029, 16, 4027, 5, 515, 0], [6485, 5, 8, 11330, 0], [1136, 2, 16253, 2, 4219, 15594, 2, 53, 5, 2666, 17461, 51, 0], [153, 402, 29033, 13497, 13, 34803, 9, 402, 29033, 416, 62, 6, 4372, 17, 8, 9379, 13, 34803, 9, 3, 2893, 8, 1479, 13, 34803, 9, 43, 12619, 51, 2, 19, 20004, 20, 6, 27740, 10883, 5, 7127, 16, 34803, 9, 11, 598, 1452, 34803, 76, 95, 30636, 63, 3, 2893, 8, 1479, 13, 34803, 9, 43, 38475, 24, 352, 252, 2751, 119, 363, 16, 34803, 9, 44, 76, 70, 53, 49, 17321, 12619, 114, 95, 30636, 539, 56, 972, 68, 6, 107, 807, 3, 0], [2136, 20, 6, 9313, 24538, 9228, 11221, 970, 0], [22551, 34, 1470, 27, 23350, 139, 16, 6117, 5, 8, 1107, 20, 6, 6517, 0], [402, 22551, 13, 25362, 19868, 9, 0], [350, 120, 528, 43, 806, 17598, 2, 16, 6059, 13, 21672, 1068, 13071, 111, 2874, 13, 384, 9, 39, 543, 13, 6676, 3, 577, 5891, 2, 13, 6676, 70, 34338, 3, 0], [33355, 402, 29033, 583, 402, 29033, 17856, 17, 7112, 0], [13833, 23450, 9, 93, 567, 8591, 186, 7131, 9, 26, 5882, 101, 49, 15185, 18, 8806, 0], [60, 398, 1528, 20, 6, 13998, 20, 6, 13780, 20, 6, 93, 36885, 43, 13119, 3, 0], [20998, 4412, 8160, 859, 27, 359, 6347, 51, 657, 6587, 0], [3332, 3974, 0], [277, 8, 8856, 5, 1199, 30866, 40, 497, 4005, 5, 2805, 2, 88, 1069, 3031, 16, 14297, 24, 9, 573, 2, 4036, 20, 6, 27431, 2, 402, 1025, 50, 28, 3834, 40, 14, 6, 1015, 3, 28834, 3, 0], [8025, 22880, 14884, 792, 3847, 317, 309, 50, 8647, 9271, 24, 5601, 14268, 13772, 317, 309, 50, 2, 7770, 317, 309, 50, 12374, 2, 7770, 317, 309, 50, 7756, 2, 1025, 3, 28, 0], [18585, 0], [24, 3878, 4011, 301, 4757, 401, 3878, 602, 623, 3878, 6470, 0], [36161, 13, 4027, 110, 18351, 6602, 532, 14698, 19630, 529, 0], [18405, 108, 13, 341, 0], [11794, 5, 8, 6442, 22, 339, 18458, 3345, 108, 253, 95, 13217, 16404, 0], [8140, 59, 140, 8, 7552, 5, 14, 6, 1015, 39, 14776, 22, 201, 3, 8941, 774, 8291, 0], [14879, 21110, 166, 1026, 18, 2630, 0], [19405, 5, 2955, 6690, 402, 38492, 0], [87, 6, 15214, 20, 6, 42616, 605, 19, 398, 1382, 23, 21780, 81, 6, 5411, 2709, 644, 20, 6, 22897, 29, 88, 20899, 3, 89, 6, 82, 34, 832, 5987, 27, 17783, 16, 2585, 20, 6, 8355, 3, 0], [258, 82, 584, 10328, 0], [402, 12287, 0], [13137, 22, 3254, 301, 548, 110, 0], [335, 2387, 5, 432, 81, 6, 82, 53, 12679, 3, 104, 43, 3800, 5, 14, 6, 4482, 3, 0], [4192, 402, 40263, 0], [402, 13123, 3, 5571, 334, 15164, 50, 402, 13123, 3, 5571, 334, 15164, 3, 7829, 50, 0], [19125, 8, 1746, 1352, 24819, 11647, 0], [84, 17504, 14, 6, 3748, 381, 72, 0], [36761, 51, 19, 1470, 22, 2025, 17, 201, 139, 3, 0], [38286, 8, 486, 0], [84, 4342, 9177, 0], [21708, 9, 0], [23403, 80, 532, 51, 1430, 0], [357, 623, 3, 0], [1590, 9, 9, 4729, 526, 5927, 10378, 139, 8468, 265, 12634, 3, 4486, 122, 0], [12647, 720, 1744, 973, 12839, 7476, 9, 1098, 817, 9, 2949, 9216, 9, 3, 4486, 122, 0], [496, 337, 607, 13375, 0], [26925, 41, 9073, 15841, 24, 1443, 28, 142, 3954, 222, 489, 0], [17207, 14, 6, 31017, 4772, 0], [12218, 2752, 5, 14, 6, 49, 24938, 0], [89, 7101, 376, 50, 258, 44794, 17182, 139, 66, 5509, 127, 6310, 0], [14619, 1840, 2, 30966, 0], [7870, 9, 36829, 11, 9477, 657, 6587, 0], [60, 10288, 5, 402, 2635, 2307, 11379, 50, 0], [6509, 19915, 376, 0], [14641, 11766, 0], [29863, 8140, 16, 4027, 34250, 0], [1538, 24, 8258, 9, 5, 1710, 4559, 28, 0], [7323, 6622, 657, 6587, 0], [32888, 5, 6442, 402, 38492, 0], [60, 2805, 4750, 0], [7577, 5, 2099, 5666, 0], [5267, 229, 2, 88, 867, 1117, 34, 30372, 3, 0], [2935, 13, 4027, 110, 6002, 63, 17, 14, 6, 36374, 13, 4027, 3479, 5, 193, 10413, 3, 0], [1782, 9961, 358, 634, 5715, 15338, 817, 1071, 34095, 9, 3, 4486, 122, 0], [12958, 817, 376, 623, 6807, 6419, 9766, 0], [535, 37, 6178, 5, 8, 2528, 31035, 36, 19, 1166, 24, 8203, 1048, 28, 0], [9530, 40, 5891, 402, 38492, 0], [20334, 400, 756, 28324, 657, 6587, 0], [7397, 0], [134, 1071, 111, 738, 5, 304, 33278, 153, 402, 29033, 20397, 12423, 741, 141, 402, 29033, 416, 0], [49, 47954, 7540, 21332, 0], [153, 402, 29033, 301, 548, 402, 29033, 416, 76, 2349, 53, 100, 34, 3254, 3, 4366, 14134, 34, 3254, 12679, 3, 0], [402, 12775, 22, 325, 402, 38492, 0], [25950, 7631, 0], [16468, 402, 38492, 38, 4930, 31, 19, 39897, 4619, 7559, 17, 34, 1048, 2, 140, 17, 38, 22257, 3404, 74, 3404, 3, 23524, 524, 2, 92, 168, 167, 493, 652, 14387, 72, 8, 223, 22257, 3404, 74, 3404, 888, 13, 13414, 9, 1476, 3, 0], [43420, 446, 5, 8, 5659, 31, 301, 548, 5301, 72, 2281, 3, 526, 778, 529, 13518, 32, 34, 514, 12, 62, 10003, 301, 548, 53, 9, 15839, 95, 25878, 244, 18, 117, 49, 18417, 597, 3, 1123, 55, 4527, 282, 12, 62, 10003, 4, 53, 9, 15839, 18, 4, 34, 9, 19884, 6442, 1437, 18, 8302, 1418, 54, 58, 2, 1436, 6439, 5415, 401, 263, 2325, 364, 401, 149, 15185, 53, 9, 15839, 7185, 514, 12, 5268, 7158, 95, 25878, 301, 548, 964, 1436, 6439, 5415, 401, 263, 2325, 364, 401, 149, 15185, 53, 9, 15839, 6439, 7158, 402, 375, 9, 19884, 58, 119, 1436, 2061, 2766, 548, 6439, 5415, 401, 149, 34, 10661, 58, 119, 1436, 6439, 5415, 37, 78, 483, 10936, 2061, 2766, 548, 401, 0], [34688, 20, 6, 9126, 153, 402, 29033, 301, 548, 402, 29033, 416, 23, 28013, 3, 0], [402, 26404, 402, 38492, 301, 548, 0], [28484, 0], [234, 6269, 385, 612, 550, 10437, 0], [49, 37394, 274, 24, 29273, 8273, 36, 2333, 1450, 28, 0], [1060, 5, 14, 6, 21274, 22, 4735, 0], [2880, 402, 38492, 301, 548, 0], [12474, 9, 5378, 114, 15, 4387, 108, 4, 874, 93, 2398, 49, 14042, 20, 2470, 567, 0], [258, 26001, 19926, 17, 2915, 402, 29033, 3878, 72, 34, 7479, 0], [4012, 37, 583, 583, 3390, 3, 717, 2882, 9, 3, 49, 1937, 74, 10401, 738, 3, 49, 30824, 54, 2695, 4586, 9077, 9077, 9077, 9077, 39224, 1802, 9918, 657, 6587, 0], [2750, 5057, 190, 0], [344, 1069, 14961, 716, 2058, 11, 16, 7978, 40, 10763, 2755, 174, 88, 1068, 16036, 265, 402, 2635, 15120, 9, 50, 27, 68, 6, 107, 4667, 13, 1664, 8587, 3, 0], [47, 8594, 259, 108, 16, 384, 9, 402, 38492, 0], [83, 8647, 17531, 8, 402, 6442, 20766, 142, 19837, 26332, 50, 30770, 266, 14, 6, 112, 13, 3504, 777, 21, 2272, 2, 22774, 8, 19401, 22, 5893, 5, 6442, 4033, 3, 0], [60, 2428, 18524, 81, 6, 82, 53, 38, 2758, 5, 43448, 24, 859, 2603, 5, 43448, 9, 91, 38, 2880, 5, 21880, 3889, 2, 441, 1841, 3889, 59, 846, 2312, 3889, 102, 344, 12754, 1022, 1697, 20, 6, 362, 17723, 23, 37348, 6885, 34, 10413, 7961, 59, 23, 3259, 19391, 282, 6516, 14, 6, 10457, 5222, 3, 350, 88, 81, 6, 10969, 53, 28725, 72, 13, 1669, 127, 153, 402, 29033, 37348, 7676, 5, 10413, 7961, 402, 29033, 2165, 88, 12754, 1697, 38, 2758, 5, 43448, 769, 3, 83, 2603, 5, 43448, 9, 388, 100, 17876, 40, 16706, 1321, 540, 38, 43448, 8055, 402, 38492, 20, 111, 49, 1637, 4586, 74, 5, 973, 74, 6898, 26346, 133, 7, 4586, 74, 492, 5634, 74, 6898, 26346, 133, 3, 0], [22501, 1547, 301, 548, 0], [20450, 402, 38492, 0], [6713, 29, 116, 32869, 573, 19, 2387, 5, 1226, 1368, 470, 5, 5092, 38, 784, 1226, 22, 4575, 3, 402, 2635, 7476, 34866, 50, 41, 9, 973, 364, 14268, 63, 34, 7484, 2387, 5, 1226, 2, 13645, 265, 598, 19, 2387, 17469, 11, 42648, 8, 462, 5, 14508, 3, 326, 81, 6, 5946, 3665, 53, 481, 1962, 2709, 439, 19, 5108, 2387, 5, 1226, 3, 0], [12287, 22, 2598, 5, 8, 8856, 20, 6, 641, 0], [17404, 0], [1948, 352, 8111, 0], [577, 5891, 27, 16, 950, 23198, 0], [1286, 53, 183, 18456, 139, 16, 1045, 2669, 0], [6820, 6036, 81, 6, 63, 90, 20187, 0], [20050, 1637, 133, 4, 4527, 1597, 9499, 5990, 62, 21484, 51, 26, 4, 4195, 51, 51, 1405, 3, 19021, 1744, 143, 4896, 12, 49, 2114, 4, 10954, 107, 75, 21, 190, 5, 483, 8153, 17502, 7032, 49, 22230, 244, 32, 167, 1044, 7642, 3089, 4195, 6320, 42, 62, 7623, 14, 7437, 383, 2954, 51, 10, 167, 1044, 7642, 6366, 10259, 3, 0], [83, 32265, 9, 40, 5891, 76, 388, 53, 100, 36302, 114, 0], [301, 548, 1231, 2463, 687, 13343, 859, 63, 16035, 313, 18, 34, 7722, 24, 18359, 3511, 28, 0], [344, 76, 1069, 53, 37885, 2240, 34, 3254, 1658, 3, 0], [18902, 402, 38492, 8941, 774, 8291, 5, 19109, 0], [18240, 20, 6, 362, 10686, 0], [7510, 377, 5, 66, 2025, 76, 814, 53, 21276, 1838, 3, 87, 6, 12898, 5, 4036, 13118, 21276, 1064, 168, 23, 4952, 31305, 8, 422, 22, 414, 11, 402, 29033, 583, 402, 29033, 59, 19739, 1050, 641, 11591, 3, 21062, 41, 107, 6657, 139, 363, 16, 377, 402, 29033, 54, 0], [60, 152, 5, 521, 432, 43, 5, 6673, 9126, 39, 391, 3043, 1588, 222, 313, 50, 22, 2657, 72, 34, 8761, 3, 0], [2958, 180, 15225, 107, 9568, 3470, 883, 3, 4486, 122, 0], [45013, 34, 37582, 11648, 5, 4821, 0], [25963, 1658, 84, 0], [359, 16901, 0], [6025, 16795, 59, 17631, 8, 11831, 5, 2805, 3, 350, 286, 43, 29031, 11, 29, 88, 3586, 14, 6, 32783, 2, 88, 2482, 34, 24608, 21, 16571, 31, 8, 1283, 5, 2443, 5, 402, 2635, 3343, 7282, 50, 11, 34, 2805, 43673, 3, 344, 1069, 14134, 8140, 8, 11831, 5, 2805, 27, 8, 183, 906, 31447, 158, 3, 0], [301, 548, 40, 23926, 0], [29915, 24640, 402, 38492, 0], [333, 108, 5011, 166, 1026, 18, 596, 483, 8571, 1611, 106, 0], [335, 266, 21, 13498, 81, 6, 82, 7175, 29, 174, 19, 542, 5, 478, 4006, 18110, 16, 2868, 5, 1476, 17723, 3, 0], [41369, 139, 0], [14495, 5, 6055, 0], [89, 7101, 376, 50, 16488, 50, 135, 267, 683, 5567, 1430, 24, 3228, 28, 0], [5548, 4839, 16717, 226, 18357, 1802, 51, 1024, 400, 11904, 3, 2638, 0], [18631, 39, 1759, 0], [135, 5779, 3252, 114, 4526, 402, 38492, 0], [21404, 12132, 34, 370, 1117, 20, 6, 112, 2401, 4130, 27, 34, 661, 1117, 27, 1866, 14, 6, 38193, 59, 8, 5356, 95, 23318, 3, 8941, 774, 8291, 225, 383, 597, 3148, 162, 931, 8359, 751, 381, 11434, 10, 13192, 8900, 18, 25, 38161, 617, 30, 385, 16888, 3, 931, 8359, 751, 381, 11434, 7, 13192, 8900, 25, 0], [4193, 20, 6, 253, 309, 32031, 402, 38492, 0], [33261, 583, 89, 7123, 8, 11831, 20, 6, 2505, 3, 0], [402, 29204, 1432, 16, 10849, 9, 110, 0], [30260, 153, 402, 29033, 15, 8465, 259, 402, 29033, 416, 27, 153, 402, 29033, 28000, 402, 29033, 416, 0], [2871, 19576, 17580, 19, 5775, 0], [12287, 22, 1470, 5, 654, 11, 5, 21670, 0], [10830, 40, 10763, 110, 0], [996, 150, 20084, 24, 12885, 22880, 16672, 266, 2996, 21589, 28, 657, 6587, 0], [3853, 139, 18579, 1802, 1078, 37, 152, 1160, 0], [8932, 774, 9927, 10572, 11970, 162, 0], [9212, 1547, 301, 548, 402, 38492, 301, 2910, 4917, 24257, 0], [461, 36568, 22, 2508, 0], [1948, 8246, 6461, 114, 11, 13, 10916, 2830, 114, 0], [402, 32888, 0], [9834, 5, 402, 1680, 483, 19678, 50, 0], [11582, 8289, 13682, 111, 462, 6951, 1072, 364, 0], [89, 12868, 34, 2438, 3, 60, 2438, 168, 345, 22753, 31, 34, 361, 2, 345, 100, 1701, 6060, 3, 0], [27633, 9605, 31530, 7226, 0], [22922, 5, 14, 6, 1415, 0], [30936, 139, 14, 6, 7548, 468, 5570, 1973, 23, 8070, 51, 42, 34, 720, 364, 11621, 81, 6587, 0], [277, 8, 8856, 5, 1199, 2, 88, 24134, 38, 1107, 17, 4789, 4014, 1256, 5810, 5, 6055, 5, 4027, 3, 402, 351, 4096, 50, 11344, 34, 832, 384, 5, 5810, 40, 5891, 2, 13478, 56, 15797, 5, 6055, 5, 4027, 12088, 3, 350, 88, 8675, 6002, 34, 666, 7479, 2, 10170, 36, 19, 9376, 2935, 2, 1128, 16783, 193, 7479, 2, 1692, 10170, 36, 19, 9376, 9592, 3, 344, 1069, 1697, 16, 3063, 7337, 24, 9526, 20037, 40, 34, 402, 29033, 3878, 28, 29, 665, 7911, 31, 8, 8856, 5, 1199, 5, 6442, 5, 14, 6, 15214, 5, 8576, 40467, 5, 2428, 3, 0], [344, 88, 9581, 402, 38492, 0], [83, 3112, 37332, 9, 70, 15273, 19123, 9, 3, 3408, 91, 13, 5943, 2143, 21442, 5, 188, 21, 778, 2178, 18564, 17, 21365, 2216, 402, 29033, 589, 309, 2, 66, 44, 43, 19828, 27, 13, 7473, 3544, 1092, 5, 542, 49, 7364, 7413, 84, 3, 6025, 14706, 29, 16, 188, 8575, 70, 1698, 23, 2238, 5, 1978, 6668, 13, 7473, 3, 672, 1132, 91, 231, 34, 44615, 2342, 702, 39477, 1819, 24, 25638, 1819, 243, 56, 214, 37332, 9, 6366, 5967, 6411, 102, 0], [402, 9834, 5, 526, 559, 23581, 532, 16284, 0], [233, 35013, 2252, 0], [28559, 8, 2880, 5, 8, 780, 27, 16, 21410, 9, 0], [2094, 114, 1460, 634, 5715, 15338, 817, 1071, 34095, 9, 3, 4486, 122, 0], [1113, 7228, 31, 34, 3254, 609, 21332, 0], [30349, 647, 177, 41, 41475, 9, 0], [80, 7552, 3880, 5, 402, 2635, 539, 5625, 50, 0], [42338, 0], [516, 4548, 0], [4312, 20, 6, 6990, 12619, 0], [25377, 15032, 401, 37008, 23177, 28, 9390, 28865, 2623, 402, 29033, 171, 3526, 0], [12433, 5, 14, 5244, 623, 13034, 301, 4011, 14, 5244, 623, 9, 11205, 301, 331, 11, 14, 5244, 1312, 9, 11205, 301, 602, 0], [350, 88, 867, 38, 15527, 72, 810, 203, 23345, 2, 5430, 23, 223, 398, 36, 19, 402, 188, 17166, 50, 11, 19, 402, 188, 6515, 50, 986, 26530, 19, 402, 188, 9174, 50, 5, 8, 15527, 17, 547, 23345, 3, 0], [34688, 20, 6, 9126, 8, 8198, 0], [14781, 11430, 13, 25618, 402, 38492, 31, 120, 498, 2, 19, 402, 225, 883, 50, 3392, 38, 6037, 11430, 22, 24275, 1698, 18524, 3, 32329, 13, 15388, 9, 22, 24275, 43, 17174, 5, 113, 1737, 17912, 2, 72, 19, 689, 22, 81, 11700, 49, 4170, 5, 24275, 12090, 402, 29033, 62, 2251, 548, 402, 29033, 416, 27, 8, 677, 15388, 31, 8, 9630, 20, 6, 9407, 777, 21, 2272, 28, 11, 13, 641, 20, 6, 1046, 24, 774, 1283, 30435, 22687, 11, 153, 402, 29033, 3659, 3943, 402, 29033, 359, 2813, 402, 29033, 416, 31, 8, 9630, 102, 0], [10830, 13, 279, 21, 2203, 7237, 9, 5, 542, 19610, 0], [60, 124, 9, 166, 1026, 18, 185, 5119, 6675, 0], [20717, 1502, 174, 16, 6055, 5, 37098, 9, 474, 100, 29031, 9, 614, 29, 14, 6, 18117, 43, 23, 4235, 3, 0], [1691, 0], [4366, 9315, 716, 892, 4526, 777, 21, 3188, 3, 350, 88, 22300, 7127, 2072, 5, 7337, 22, 5789, 2, 10170, 36, 19, 9376, 153, 402, 29033, 30349, 11766, 402, 29033, 1958, 0], [402, 49, 12138, 529, 3, 2805, 3, 2824, 50, 0], [14641, 3633, 21, 17504, 0], [6708, 139, 363, 16, 4553, 5, 18312, 21, 28305, 888, 38, 1032, 31, 19, 401, 9, 28, 2428, 401, 9, 28, 4166, 401, 9, 102, 0], [402, 47, 8594, 259, 108, 0], [344, 1069, 17286, 34, 666, 113, 23, 22043, 36, 66, 9376, 59, 23, 4068, 19, 2805, 32888, 2, 4916, 113, 0], [83, 17194, 15, 9, 2096, 21749, 11, 11831, 5, 10107, 8398, 8, 24376, 11, 8, 4589, 3, 402, 357, 1312, 50, 141, 1485, 7100, 144, 15812, 2489, 0], [577, 5891, 0], [385, 2748, 0], [4916, 2438, 0], [10372, 5222, 5, 12611, 0], [33355, 11538, 0], [47, 8594, 259, 108, 0], [9538, 36, 30349, 2, 11, 10604, 122, 3, 344, 1069, 7127, 19, 2183, 5, 193, 2092, 122, 769, 23, 547, 5861, 402, 38492, 18601, 51, 3375, 2, 1003, 11, 3513, 3, 315, 8, 1565, 13, 2092, 16358, 2, 1003, 59, 3513, 2043, 19, 223, 2183, 3, 350, 4569, 66, 20057, 76, 148, 1291, 2, 42648, 29, 16, 7337, 17670, 9, 27, 193, 2092, 122, 70, 40795, 265, 31, 9086, 746, 2, 10604, 122, 2, 20450, 9, 2092, 122, 3, 0], [4194, 8198, 5581, 7080, 657, 6587, 0], [18902, 402, 38492, 0], [25848, 12001, 67, 32, 15, 526, 635, 93, 1432, 49, 9933, 15839, 0], [526, 142, 133, 1071, 634, 24, 720, 511, 50, 12647, 887, 122, 1277, 81, 24819, 11647, 3732, 13050, 59, 12611, 22, 369, 5, 6442, 28, 43, 34, 12611, 5, 8, 6442, 44, 11419, 40, 722, 34, 1400, 2323, 56, 14387, 13, 2805, 9, 3, 0], [60, 3473, 617, 76, 18110, 53, 8, 33695, 13, 8588, 1675, 16402, 3, 0], [16286, 7986, 4035, 5, 8, 9710, 607, 6865, 2, 307, 10878, 1418, 685, 3275, 9216, 81, 6587, 24, 9313, 253, 28, 0], [526, 166, 539, 14655, 0], [34688, 20, 6, 10356, 19, 2207, 9, 25041, 301, 4011, 92, 43, 754, 1084, 5, 8, 1107, 13, 2207, 9, 25041, 9, 3, 0], [2136, 5, 3527, 37139, 0], [402, 2635, 4786, 18039, 51, 50, 15, 34, 2805, 40, 5891, 402, 2635, 511, 50, 7768, 127, 5626, 777, 14050, 2, 72, 34, 17625, 402, 38492, 0], [60, 2805, 20998, 6365, 1234, 2118, 3, 0], [9228, 2882, 446, 3818, 778, 20470, 402, 38492, 2020, 2414, 20187, 402, 38492, 301, 4011, 542, 402, 38492, 301, 331, 0], [8919, 0], [24496, 0], [5893, 9151, 0], [135, 8002, 260, 41, 44, 313, 114, 1802, 2296, 122, 37, 18, 11370, 7259, 0], [47077, 5976, 402, 38492, 0], [15311, 75, 9077, 75, 87, 6, 18117, 168, 100, 22191, 274, 59, 1205, 6816, 33798, 23, 4068, 8, 27135, 2889, 5, 193, 15311, 75, 9077, 75, 9077, 75, 46199, 2, 59, 23, 28598, 8, 15527, 709, 19, 1426, 59, 709, 19, 2508, 72, 19, 9376, 1650, 15311, 75, 9077, 75, 9077, 3954, 9715, 14637, 3, 15311, 75, 9077, 75, 9077, 75, 9454, 1069, 231, 1697, 16, 6584, 9, 1398, 74, 41, 2, 59, 16, 1224, 153, 402, 29033, 25950, 470, 402, 29033, 416, 11, 15311, 75, 9077, 75, 9077, 75, 153, 402, 29033, 25950, 7631, 402, 29033, 416, 5, 8, 11831, 20, 6, 14847, 11, 31, 19, 2805, 29863, 3, 60, 432, 5, 22191, 15311, 75, 9077, 75, 9077, 75, 29284, 100, 7083, 31094, 2, 23, 4068, 0], [31101, 402, 38492, 0], [25720, 497, 2992, 0], [89, 8601, 2913, 5, 653, 4499, 39477, 446, 81, 6587, 24, 9313, 253, 28, 0], [84, 13492, 331, 0], [12812, 1972, 27, 16, 4821, 22, 215, 23, 644, 0], [60, 542, 5, 611, 5, 863, 24, 864, 542, 5, 19457, 5, 863, 28, 0], [304, 1494, 44794, 7891, 19, 5509, 0], [104, 167, 15, 871, 13, 20019, 9, 733, 5, 8, 4767, 22, 2428, 153, 402, 29033, 301, 548, 402, 29033, 416, 402, 38492, 301, 331, 0], [25365, 9531, 182, 16, 19476, 11, 16795, 182, 16, 4027, 3, 0], [375, 2447, 153, 402, 29033, 3878, 402, 29033, 416, 0], [3332, 9208, 274, 5, 40894, 16825, 1693, 9782, 0], [29541, 19, 21211, 18580, 0], [2893, 120, 2674, 43, 806, 17598, 2, 16, 3397, 806, 5038, 9, 31, 8, 1107, 777, 21, 3188, 814, 8754, 17, 95, 10854, 294, 9315, 5, 3404, 5, 2099, 3, 6025, 76, 62, 6, 4372, 68, 6, 358, 8, 8198, 23, 2092, 11430, 5, 526, 12643, 3, 44202, 9, 590, 41, 133, 17, 203, 447, 470, 5, 14, 6, 36783, 402, 29033, 145, 0], [3453, 2882, 12417, 1146, 746, 0], [41711, 733, 20, 6, 93, 24608, 72, 19, 9376, 1650, 5, 8, 15527, 0], [89, 2807, 1547, 0], [6485, 0], [278, 973, 166, 1564, 328, 0], [8454, 260, 0], [18093, 14, 6, 15214, 5, 466, 5, 17821, 5, 526, 3261, 2, 127, 30, 19, 6915, 266, 13606, 3, 17502, 6602, 532, 14698, 26, 2674, 18, 62, 26792, 101, 2996, 582, 720, 7019, 49, 27438, 9, 0], [18346, 5, 30098, 13, 6975, 9, 657, 6587, 0], [19265, 20, 6, 4237, 0], [34688, 20, 6, 18457, 108, 16, 2603, 31, 301, 4494, 0], [9829, 6449, 5237, 14955, 0], [46594, 5, 14, 6, 31017, 855, 17, 34, 24608, 22, 9376, 1650, 0], [9487, 0], [47236, 0], [87, 6, 7793, 40, 2696, 12403, 133, 2203, 4155, 429, 3, 4486, 122, 0], [28683, 23, 1131, 5, 8, 466, 5, 715, 1436, 559, 8670, 0], [14495, 0], [8140, 16, 6475, 0], [48242, 8, 7552, 36, 182, 16, 3381, 0], [11016, 446, 34, 894, 0], [6025, 43, 14, 6, 4620, 19980, 9, 3890, 597, 74, 12288, 0], [6554, 10837, 5401, 1044, 10808, 0], [30349, 22, 22608, 584, 5, 4553, 0], [60, 2443, 5, 372, 76, 3108, 1452, 863, 3, 24730, 41, 682, 16664, 38, 1480, 8287, 402, 29033, 54, 0], [4750, 8251, 63, 0], [47, 8594, 259, 108, 16, 11151, 13, 11603, 9, 27, 19, 317, 31799, 8273, 5, 8, 7552, 3, 80, 647, 1159, 7006, 63, 29, 129, 11151, 16111, 539, 2, 175, 891, 81, 6, 22505, 1488, 936, 3, 0], [87, 6, 37184, 5177, 5, 8, 668, 7025, 22, 10007, 7128, 5, 8, 2407, 22, 8086, 2, 23, 4352, 47079, 3, 530, 1032, 51, 43, 30102, 51, 402, 29033, 50, 286, 43, 906, 30603, 28966, 17, 521, 447, 29, 88, 19078, 265, 19, 201, 3, 0], [6592, 670, 8498, 1794, 5805, 265, 107, 3, 4486, 122, 0], [7730, 43, 34, 542, 5, 2824, 3, 83, 629, 70, 31, 34, 2454, 5, 4027, 4359, 887, 623, 7492, 2, 11, 388, 100, 14, 685, 23, 863, 5, 3745, 72, 19, 201, 4694, 3, 0], [7672, 313, 108, 34, 384, 8769, 20, 6, 3701, 9, 31, 38, 1406, 621, 6754, 17, 34, 23, 21, 19794, 44761, 3, 0], [2183, 7824, 9899, 76, 1146, 20302, 7761, 21338, 38, 2776, 22, 432, 18821, 3880, 3, 60, 2183, 43, 34, 4089, 680, 164, 747, 11, 826, 3, 0], [31398, 31, 19, 2428, 0], [17404, 0], [5258, 17, 7112, 0], [38825, 9, 22, 2025, 0], [34259, 9, 5, 717, 18114, 3974, 0], [1545, 567, 1547, 5, 25618, 1593, 0], [526, 381, 5169, 14446, 529, 25797, 9, 17370, 108, 792, 657, 6587, 0], [2734, 18794, 166, 1026, 18, 1640, 180, 2102, 18972, 5817, 0], [4832, 9, 0], [24575, 5, 2598, 9829, 2, 32239, 9, 11, 1459, 402, 38492, 402, 9839, 2503, 265, 3, 935, 265, 617, 50, 402, 9839, 2503, 265, 3, 935, 265, 617, 3, 7829, 50, 0], [1183, 0], [350, 120, 2674, 43, 806, 17598, 24, 14146, 6967, 40, 5891, 119, 8, 486, 439, 10245, 17, 8, 29790, 3, 0], [2935, 34, 266, 21, 8918, 3015, 0], [60, 2025, 20, 6, 30607, 5, 14, 6, 18117, 5, 14, 6, 2205, 0], [3592, 1588, 4077, 383, 9456, 4035, 5, 3615, 51, 0], [31663, 0], [14, 985, 265, 15477, 1448, 62, 7131, 8979, 26, 12526, 2161, 0], [24455, 5374, 0], [24251, 13, 16028, 0], [2560, 11071, 166, 1026, 18, 6040, 6859, 0], [749, 139, 0], [2935, 34, 4599, 4005, 3, 83, 950, 1224, 70, 20174, 17, 8, 611, 5, 8, 1107, 3, 0], [1561, 5625, 9558, 888, 13, 13414, 9, 6304, 17, 14, 6, 3228, 13, 4719, 5, 12137, 0], [350, 58, 550, 685, 985, 1432, 149, 43, 18524, 2, 849, 8, 863, 58, 142, 259, 10800, 149, 5037, 49, 37237, 514, 3, 679, 92, 81, 6, 82, 53, 1029, 5, 34656, 19, 2428, 22, 3220, 5, 8, 8776, 3854, 3, 344, 1069, 231, 19, 183, 39, 726, 5, 14, 6, 4963, 3, 0], [1465, 7775, 17770, 59, 1465, 7775, 30349, 4612, 101, 43, 34, 1303, 5, 1065, 44, 9129, 7080, 34, 1593, 20, 6, 3338, 27084, 294, 6442, 59, 21030, 5465, 3, 1714, 1328, 56, 3397, 18, 1312, 19807, 243, 1064, 5, 10854, 13, 15755, 2, 13, 29719, 9, 23, 3023, 11, 20, 6, 362, 1224, 11, 8369, 20, 6, 2522, 68, 6, 489, 18442, 7080, 3, 0], [2136, 20, 6, 3311, 20, 6, 3701, 36, 16, 1132, 5, 4027, 140, 2654, 0], [10909, 2, 88, 1069, 14134, 14, 6, 24095, 164, 203, 19773, 24345, 2, 59, 38892, 120, 952, 23, 17251, 2136, 20, 6, 6419, 21, 4963, 24, 15715, 590, 19, 42296, 3367, 709, 8, 4789, 102, 0], [20340, 34, 49, 32851, 514, 110, 0], [12812, 402, 38492, 0], [28683, 23, 1131, 27, 951, 3872, 5, 557, 3, 2136, 20, 6, 3311, 36, 16, 2717, 1814, 3, 0], [14390, 1392, 14649, 5, 1107, 13, 2603, 0], [402, 25720, 66, 14755, 0], [11238, 8, 6442, 0], [36561, 13, 2419, 0], [582, 720, 948, 597, 24077, 166, 0], [402, 46161, 17, 0], [5079, 0], [34688, 5, 4092, 16, 372, 20, 6, 6480, 0], [27426, 301, 548, 334, 10661, 49, 15185, 0], [9228, 2882, 446, 2869, 550, 402, 38492, 689, 20, 6, 8543, 3416, 402, 38492, 301, 548, 0], [660, 13233, 139, 8, 1107, 13, 20571, 0], [7424, 36, 19, 369, 21332, 0], [22279, 5, 7140, 21, 6959, 0], [5986, 9845, 107, 274, 141, 14955, 0], [19125, 38, 15, 18154, 2721, 446, 0], [689, 22, 1826, 0], [4322, 5, 47079, 9, 402, 38492, 0], [41369, 139, 8051, 170, 75, 1769, 986, 9584, 6185, 20, 63, 51, 3974, 0], [80, 952, 180, 5235, 323, 11814, 367, 401, 28, 19730, 34, 706, 23, 678, 7197, 23, 384, 1205, 412, 6184, 3, 153, 402, 29033, 21173, 10107, 5884, 402, 29033, 416, 43, 19, 384, 17, 18952, 11, 153, 402, 29033, 10107, 402, 29033, 416, 43, 19, 47090, 5, 8, 10107, 3, 0], [11387, 0], [6139, 9, 9915, 0], [32888, 0], [60, 13161, 22, 5893, 301, 548, 15, 90, 34, 2281, 3, 0], [87, 15098, 18560, 74, 21647, 8810, 0], [359, 376, 16783, 21, 2816, 3950, 590, 38, 2758, 36, 19, 9376, 72, 19, 8205, 4772, 2, 0], [402, 89, 7101, 376, 50, 2178, 0], [60, 978, 15, 24378, 5748, 93, 0], [11840, 11011, 0], [7378, 0], [1956, 0], [60, 5490, 283, 100, 34, 1436, 16109, 5224, 8775, 2061, 133, 1624, 561, 25770, 0], [34464, 5, 402, 17415, 0], [4705, 7210, 5, 8617, 976, 0], [1511, 1692, 41, 1909, 7324, 13, 16294, 5, 8, 1107, 5, 4767, 402, 29033, 54, 0], [469, 1032, 140, 1237, 15, 90, 20187, 27, 8, 17917, 301, 4494, 0], [3251, 0], [84, 18619, 150, 152, 1160, 30, 15, 23971, 1167, 4798, 0], [8926, 0], [32888, 29626, 3912, 401, 9, 28, 0], [8876, 8273, 5, 14, 6, 5316, 402, 38492, 19272, 38, 21943, 5, 23345, 1813, 27, 14237, 14, 6, 5316, 17, 8, 668, 29, 88, 8675, 3, 577, 5891, 2, 153, 402, 29033, 27076, 402, 29033, 416, 43, 18524, 3, 16468, 27, 16, 3397, 19448, 9, 402, 38492, 497, 4005, 5, 14, 6, 21274, 11430, 526, 3261, 21120, 3375, 4619, 39, 23408, 1759, 5, 8, 863, 5, 3745, 89, 10445, 142, 402, 38492, 41, 247, 668, 4586, 110, 3086, 6472, 37, 58, 7019, 21, 352, 4387, 149, 59, 58, 9473, 10045, 149, 0], [22551, 8, 3401, 22, 261, 5904, 0], [24381, 0], [8136, 301, 548, 0], [20998, 5, 25978, 38689, 7737, 114, 27, 526, 3261, 0], [44367, 9, 2184, 5091, 6689, 9, 41, 15311, 9077, 27478, 5091, 1072, 364, 0], [21708, 402, 38492, 0], [24251, 652, 14387, 0], [10603, 51, 17, 4789, 402, 38492, 36313, 16, 4027, 1392, 548, 24, 1246, 548, 46, 3585, 28, 1482, 402, 29033, 583, 3259, 9531, 8, 6897, 5, 5177, 17, 4789, 3, 0], [34023, 20, 6, 21924, 31, 19, 3254, 5, 3472, 0], [8452, 33261, 59, 12611, 16, 49, 8939, 33306, 9, 3, 0], [238, 3508, 6906, 1711, 0], [491, 19576, 4759, 18393, 7844, 63, 3, 4486, 122, 0], [402, 41586, 13573, 150, 6996, 607, 6688, 108, 50, 0], [36161, 19069, 46104, 23, 1470, 0], [20998, 5, 387, 107, 114, 8558, 6163, 21, 142, 3470, 31, 19, 2955, 13418, 1711, 186, 5793, 657, 6587, 0], [33261, 13, 49, 47652, 9, 17, 14, 6, 3228, 22, 21809, 657, 6587, 0], [60, 313, 5086, 0], [5760, 689, 0], [8941, 5919, 5719, 401, 24982, 5157, 381, 1098, 15439, 278, 2, 7337, 328, 28, 0], [16694, 14884, 5, 6031, 243, 0], [25720, 13, 4553, 17, 1697, 0], [97, 7156, 10475, 51, 38, 1107, 5, 4767, 72, 13, 16294, 24351, 9, 29246, 31, 193, 2075, 11, 6832, 17, 23, 6002, 39, 8581, 11, 17, 653, 3, 0], [23776, 359, 22810, 15857, 0], [83, 7947, 5, 402, 2635, 539, 5625, 50, 0], [38133, 20, 6, 5316, 402, 38492, 0], [39352, 8418, 23, 23352, 0], [29379, 9, 34866, 18110, 5, 686, 18013, 16, 1184, 20, 6, 36489, 1724, 402, 38492, 0], [8687, 0], [80, 2880, 5, 8, 8856, 5, 1199, 0], [301, 548, 3522, 670, 63, 16035, 313, 18, 34, 7722, 24, 18359, 3511, 28, 0], [156, 6, 63, 7883, 5, 7004, 27038, 20, 6, 615, 36, 526, 2470, 2, 951, 1784, 5, 13859, 2, 13, 11110, 9, 11, 13, 14360, 11, 34, 1011, 49, 37558, 36, 49, 31030, 402, 38492, 28, 0], [5747, 111, 22391, 166, 1026, 18, 1735, 106, 0], [34238, 5, 1155, 5, 14410, 0], [402, 18641, 3, 156, 3, 9361, 3894, 50, 0], [60, 2805, 20289, 0], [335, 2074, 168, 5178, 3018, 34, 8306, 2, 38, 5356, 2, 34, 7113, 59, 13, 4821, 5, 9157, 2671, 401, 9, 28, 21, 18487, 5555, 401, 9, 102, 80, 2075, 2790, 3108, 16, 1184, 156, 33593, 402, 38492, 301, 548, 1802, 24156, 352, 37, 6951, 1072, 364, 2, 7418, 162, 9769, 484, 4169, 6812, 3050, 1835, 0], [22551, 38, 49, 33703, 267, 10292, 4084, 0], [15335, 4298, 0], [1221, 133, 2144, 0], [43488, 139, 20, 6, 10356, 34, 666, 971, 23, 4068, 16, 372, 20, 6, 112, 4873, 2454, 1163, 5, 10763, 2755, 0], [24, 222, 28, 2196, 87, 6, 3174, 238, 3970, 5, 526, 3261, 0], [11582, 1802, 24156, 352, 37, 6951, 1072, 364, 0], [19125, 16, 8461, 9, 110, 0], [7424, 36, 8, 2880, 5, 14, 6, 2758, 0], [14743, 402, 38492, 0], [59, 19, 3254, 311, 16, 8647, 20, 6, 2133, 9, 402, 29033, 583, 19503, 24, 751, 12571, 135, 40792, 9, 28, 70, 9226, 31, 193, 1370, 402, 13606, 50, 3, 0], [13209, 28107, 9, 20, 6, 30427, 0], [2736, 88, 8675, 39168, 38, 784, 4873, 31, 8, 11831, 20, 6, 10810, 2, 88, 1069, 35466, 113, 2023, 23, 22043, 36, 8, 19830, 12909, 36, 5904, 5, 8, 11831, 20, 6, 14847, 3, 0], [34023, 20, 6, 11341, 14944, 323, 1054, 402, 38492, 53, 5, 261, 402, 38492, 301, 548, 0], [6178, 20, 6, 9007, 59, 4873, 4850, 402, 38492, 0], [469, 6502, 43, 22456, 733, 22, 13161, 22, 2428, 22044, 0], [344, 3287, 39988, 108, 34, 3254, 5, 6897, 5, 215, 4547, 470, 5, 1022, 1697, 120, 952, 402, 29033, 145, 0], [692, 29, 88, 81, 6, 4110, 53, 851, 5, 88, 6126, 33043, 139, 72, 13, 2118, 284, 88, 76, 27772, 53, 19, 1388, 3, 526, 602, 226, 43, 23, 653, 5, 4094, 16, 7337, 16, 65, 11487, 27, 88, 3, 0], [402, 11016, 446, 8591, 14597, 1754, 0], [301, 548, 278, 532, 108, 2261, 274, 328, 0], [2422, 9678, 5, 356, 43, 1585, 2508, 402, 38492, 2422, 9678, 402, 38492, 301, 548, 2838, 402, 38492, 301, 331, 0], [14389, 1605, 0], [238, 5350, 12240, 20200, 15454, 402, 38492, 0], [24251, 8, 1249, 0], [45013, 34, 432, 0], [27208, 6801, 93, 15444, 81, 6587, 0], [12739, 15847, 15479, 139, 16, 34803, 9, 3, 0], [18346, 9, 20, 6, 367, 74, 135, 0], [277, 526, 3261, 7297, 2, 15495, 8577, 259, 423, 13, 38417, 9, 2, 11, 1119, 88, 1069, 231, 33614, 13, 6746, 3, 9077, 9077, 4224, 3954, 590, 3665, 19, 9376, 1650, 5, 8, 15527, 46367, 11, 37385, 17, 37168, 14, 6, 93, 13, 6746, 2, 11, 22401, 265, 19, 9376, 1150, 88, 867, 7242, 3, 350, 88, 867, 810, 851, 5, 39168, 8, 3117, 2, 823, 7873, 721, 2, 92, 7452, 20, 6, 93, 1581, 24608, 72, 19, 9376, 1650, 3, 24, 9454, 1069, 4569, 19, 9376, 5, 15527, 17, 1697, 31, 8, 6442, 485, 102, 9077, 9077, 410, 497, 11503, 2, 129, 6746, 70, 1559, 402, 38492, 9077, 9703, 17, 5177, 1692, 17, 4789, 41, 13774, 12090, 402, 29033, 16488, 2846, 550, 376, 16164, 5177, 402, 0], [806, 20483, 738, 141, 14955, 0], [40972, 0], [21404, 12132, 19, 384, 5, 9224, 17, 25876, 139, 3353, 3, 87, 6, 26143, 13, 9224, 43, 6198, 39, 8581, 11, 17, 653, 13, 2585, 3, 0], [9538, 21, 8939, 14737, 27, 1205, 32226, 139, 8, 1283, 31, 915, 12778, 19, 1470, 3, 9538, 21, 8939, 14737, 17, 929, 22, 3313, 27, 19, 14237, 3, 344, 1069, 317, 31799, 1432, 8, 1283, 5, 1470, 23, 88, 7698, 13, 19923, 9, 5, 767, 2, 59, 23, 4068, 8, 8856, 5, 1199, 5, 660, 31799, 8273, 3, 0], [24730, 41, 682, 1836, 7324, 19, 320, 18524, 54, 0], [18690, 12939, 5398, 21, 597, 21, 166, 4277, 5398, 6801, 93, 15444, 81, 6587, 0], [7577, 5, 2099, 12649, 1720, 2, 28474, 110, 0], [236, 15257, 13200, 41068, 11434, 401, 11564, 28, 19730, 153, 402, 29033, 308, 1351, 1100, 402, 29033, 416, 0], [34023, 5, 4767, 19954, 51, 24, 27501, 20320, 301, 4011, 620, 2215, 301, 2910, 668, 5, 1719, 5, 11330, 301, 602, 37, 301, 6470, 0], [33261, 16, 1224, 13, 1415, 9, 72, 8, 4330, 5, 125, 2528, 27, 14, 6, 3228, 11, 8, 26284, 0], [13354, 559, 23581, 89, 2807, 259, 7288, 2783, 0], [350, 38, 32239, 23, 1118, 5, 1346, 43, 786, 36, 19, 2438, 5, 3313, 59, 19, 1826, 2, 34, 24608, 4789, 36, 1077, 41, 412, 11017, 402, 2635, 186, 8577, 259, 50, 23, 2092, 12093, 5, 4027, 3, 0], [24982, 5, 1199, 5, 402, 2635, 10301, 108, 50, 24, 2651, 19717, 402, 29791, 26279, 50, 28, 0], [87, 6, 5316, 439, 18828, 39, 858, 5, 14, 6, 9407, 294, 3031, 146, 2880, 3, 83, 5943, 5, 2598, 20, 6, 9407, 814, 15670, 31, 16, 1404, 140, 31786, 40, 14, 6, 5316, 3, 0], [277, 30349, 1648, 16036, 139, 402, 2635, 15346, 883, 50, 110, 88, 7485, 547, 38417, 9, 3, 60, 698, 811, 8, 6442, 23, 11387, 3, 0], [11033, 27012, 12995, 9, 9838, 9, 23167, 1817, 9396, 51, 0], [3086, 12362, 12362, 12362, 12362, 12362, 12362, 12362, 12362, 12362, 12362, 12362, 12362, 12362, 12362, 12362, 12362, 12362, 12362, 12362, 12362, 12362, 12362, 12362, 12362, 12362, 12362, 12362, 12362, 12362, 12362, 12362, 12362, 12362, 12362, 12362, 12362, 12362, 12362, 12362, 12362, 12362, 12362, 12362, 12362, 12362, 12362, 12362, 12362, 12362, 12362, 12362, 3086, 402, 2635, 26515, 50, 3086, 32888, 5, 1725, 22, 25580, 27, 16, 710, 5, 25580, 9, 23322, 3086, 1060, 4586, 7075, 550, 4794, 3086, 12362, 12362, 12362, 12362, 12362, 12362, 12362, 12362, 12362, 12362, 12362, 12362, 12362, 12362, 12362, 12362, 12362, 12362, 12362, 12362, 12362, 12362, 12362, 12362, 12362, 12362, 12362, 12362, 12362, 12362, 12362, 12362, 12362, 12362, 12362, 12362, 12362, 12362, 12362, 12362, 12362, 12362, 12362, 12362, 12362, 12362, 12362, 12362, 12362, 12362, 0], [8140, 19, 767, 5, 5509, 164, 16, 1965, 24, 166, 9772, 323, 2846, 1850, 532, 27635, 102, 530, 952, 168, 4491, 5, 2433, 49, 15142, 9, 3, 0], [87, 6, 21274, 20, 6, 11300, 5, 402, 66, 139, 2613, 1098, 50, 88, 1278, 27, 16, 715, 23483, 13, 14894, 9, 2, 175, 20, 6, 112, 737, 8980, 3, 350, 88, 15073, 5, 21395, 34, 30797, 72, 34, 2428, 23, 4767, 1845, 40, 34, 1675, 24608, 59, 17, 14, 6, 1001, 5, 32888, 28155, 2, 88, 76, 7420, 53, 13988, 716, 2406, 14408, 3, 104, 167, 15, 229, 3044, 38, 949, 17, 823, 402, 38492, 521, 447, 29, 88, 3586, 4569, 34, 2428, 2, 29589, 265, 137, 973, 9, 484, 11883, 39, 5690, 2, 5, 1981, 29, 182, 16, 3397, 30334, 19, 2428, 926, 19448, 9, 29, 88, 33153, 7382, 3, 0], [84, 10001, 108, 14, 6, 4103, 5, 14, 6, 5316, 402, 29033, 54, 0], [11329, 2783, 27, 10326, 9, 1973, 0], [41369, 139, 19, 41797, 0], [87, 6, 15214, 13, 12137, 0], [5042, 3315, 446, 20, 6, 4261, 24, 367, 3, 461, 28, 402, 38492, 643, 962, 3950, 1935, 49, 14042, 0], [37467, 13888, 13736, 0], [89, 23772, 16, 21030, 1205, 14514, 1064, 0], [20670, 5, 14, 6, 5535, 22, 5789, 0], [80, 3745, 153, 402, 29033, 2935, 34, 666, 24275, 402, 29033, 416, 1328, 20, 6, 10356, 34, 666, 24275, 3, 344, 19617, 316, 1304, 34, 689, 1237, 2, 23, 34656, 14, 6, 10810, 11, 19, 542, 3, 0], [80, 1032, 5, 153, 402, 29033, 2863, 402, 29033, 416, 39, 252, 59, 16, 383, 16284, 28199, 926, 15130, 9, 0], [25849, 1448, 108, 19, 644, 0], [4576, 41, 15311, 9077, 1865, 8070, 39224, 6756, 9918, 0], [335, 44, 1801, 88, 6238, 1027, 1578, 13, 22785, 20, 6, 14847, 27, 34, 402, 180, 4761, 468, 50, 3, 83, 22785, 20, 6, 14847, 70, 13, 1224, 18369, 44, 70, 20539, 9, 17, 13, 905, 3, 83, 905, 31, 402, 2532, 63, 10380, 50, 70, 8, 421, 5, 26918, 363, 16, 13216, 29, 5864, 402, 2532, 63, 10380, 50, 11, 44, 814, 22153, 31, 14, 6, 3628, 3, 60, 223, 3402, 44, 9594, 38, 442, 31, 402, 2532, 63, 10380, 50, 1482, 231, 14, 6, 6419, 9734, 376, 10513, 243, 11, 16, 21292, 5, 1199, 5, 34060, 3, 2269, 16, 905, 2, 66, 29, 88, 1069, 183, 43, 11113, 294, 3728, 3, 410, 654, 20, 6, 9096, 2, 116, 1697, 573, 13911, 50, 9697, 3814, 36, 0], [410, 729, 1484, 178, 66, 44, 43, 31, 19, 2805, 5, 402, 2635, 26515, 50, 697, 100, 30838, 294, 18426, 3, 60, 2805, 32888, 3108, 13, 2118, 27, 17240, 38, 20, 792, 13130, 10716, 40, 34, 12649, 11, 26381, 13279, 13, 20, 792, 23277, 3, 60, 2805, 134, 2831, 19583, 1693, 3108, 13, 2118, 20, 6, 13996, 11, 19, 2805, 30349, 3108, 13, 2118, 5, 39988, 738, 22, 201, 3, 83, 1476, 2118, 31, 8, 8856, 5, 1199, 5, 6442, 70, 8599, 114, 31, 8, 4034, 669, 3, 0], [15479, 19, 16826, 17047, 617, 7048, 6060, 3, 0], [34929, 18088, 3, 4486, 122, 0], [28383, 7130, 253, 3511, 1098, 3, 4486, 122, 0], [135, 5224, 3069, 657, 6587, 0], [5833, 4378, 10479, 0], [180, 11245, 4869, 10328, 34, 1470, 59, 34, 2428, 72, 14, 6, 4786, 4678, 5, 402, 4486, 529, 309, 50, 0], [44142, 139, 156, 14300, 13036, 0], [60, 5893, 9151, 5, 44465, 17571, 153, 402, 29033, 301, 548, 402, 29033, 416, 76, 168, 20, 11245, 4869, 10328, 16, 4036, 3, 0], [402, 13774, 0], [21010, 24182, 51, 59, 372, 28650, 540, 0], [32888, 3818, 26194, 708, 150, 21354, 140, 12679, 3, 6820, 46106, 153, 402, 29033, 1608, 37, 49, 23806, 402, 29033, 416, 20187, 3, 0], [4193, 24, 9313, 5884, 28, 9594, 8, 462, 5, 12273, 3, 109, 27, 19, 3021, 39, 1612, 5, 8, 624, 11, 747, 24, 1356, 5891, 28, 27, 19, 3021, 17, 8, 611, 5, 8, 624, 3, 0], [3453, 2882, 108, 13, 4561, 709, 34, 2428, 87, 381, 4354, 3, 0], [14351, 5622, 5514, 22, 3571, 5976, 0], [19730, 8, 65, 2615, 1032, 31, 38, 9649, 20, 6, 112, 421, 5, 372, 32016, 40, 34, 2443, 5, 303, 3, 0], [104, 1969, 2, 31, 66, 3254, 24, 3878, 6402, 2, 5, 950, 4036, 81, 6, 11284, 53, 481, 90, 15748, 39, 10929, 2, 175, 92, 2349, 29, 88, 81, 6, 30605, 53, 16, 209, 19083, 27, 16, 7978, 3, 4366, 5828, 193, 19022, 27, 68, 6, 107, 14506, 193, 356, 17, 7978, 5, 950, 4036, 2, 59, 29726, 265, 41, 859, 3633, 5, 66, 3254, 3, 24730, 41, 682, 14237, 129, 4036, 31, 34, 495, 3254, 1119, 402, 29033, 54, 0], [4312, 2873, 4789, 5, 14, 6, 15586, 5, 23926, 24, 1071, 259, 27968, 51, 167, 102, 80, 16623, 43, 4130, 40, 230, 39, 261, 2873, 4789, 5, 8, 2407, 2, 5, 2880, 1944, 29, 10716, 31, 8, 1283, 3880, 5, 2899, 22, 4101, 3, 530, 1032, 439, 7080, 355, 17, 370, 174, 88, 29726, 265, 19, 23926, 40, 30215, 21, 111, 42472, 3, 0], [19265, 13, 629, 402, 38492, 0], [689, 0], [12323, 0], [15479, 139, 11, 2480, 19, 24608, 0], [4228, 27117, 24, 5312, 694, 28, 20, 6, 93, 8079, 0], [28484, 1802, 1078, 37, 18548, 16284, 3758, 0], [484, 5713, 16109, 43538, 25568, 532, 8270, 9, 0], [1648, 2102, 1162, 166, 1026, 18, 3810, 1054, 63, 0], [344, 1069, 893, 769, 34, 7023, 5, 9570, 5, 8, 34650, 8884, 17, 34, 644, 5, 26737, 3, 49, 14042, 26, 15, 16035, 313, 7, 20, 32502, 3498, 0], [80, 7552, 3108, 38, 1107, 12022, 203, 21672, 402, 38492, 8, 677, 16795, 16, 6055, 13, 1224, 2, 8, 5041, 16, 1184, 13, 1224, 3, 315, 1713, 14, 6, 7910, 13, 6055, 11, 13, 1184, 65, 3860, 27, 14, 6, 8543, 2, 13, 32239, 9, 14048, 56, 1184, 70, 231, 34338, 3, 80, 1107, 76, 3108, 29, 16, 1224, 284, 8, 422, 5, 10007, 7128, 14506, 14, 6, 1046, 5, 8, 6584, 16913, 27, 16, 19459, 3, 530, 7552, 88, 1328, 5, 4569, 14, 6, 1722, 5, 1627, 226, 5222, 59, 5, 4094, 14, 6, 1722, 8810, 3, 0], [31398, 19, 478, 3912, 72, 34, 666, 689, 110, 0], [87, 6, 8543, 76, 168, 3031, 1488, 20057, 36, 120, 647, 3, 0], [6025, 11017, 38, 8856, 5, 1199, 5, 3117, 3, 315, 23, 7497, 65, 36, 6306, 59, 36, 16, 214, 21292, 5, 1199, 5, 402, 2635, 511, 50, 23, 4259, 2, 5315, 4476, 8, 2824, 5, 402, 2635, 511, 50, 3, 344, 1069, 29774, 23, 22043, 36, 38, 32239, 3254, 59, 23, 4068, 16, 23345, 5, 2955, 6497, 31, 8, 11831, 20, 6, 14847, 24, 3284, 10305, 23, 5853, 102, 23, 22043, 36, 23584, 21, 22469, 2, 88, 22486, 265, 20, 6, 93, 432, 31, 16, 4821, 3, 0], [350, 88, 14, 13022, 6306, 540, 19, 402, 858, 38107, 50, 2, 402, 49, 30764, 6698, 50, 43, 754, 11334, 11, 88, 76, 3287, 598, 65, 19, 183, 3, 0], [258, 82, 584, 10328, 8, 1725, 13, 5726, 56, 2218, 40, 5891, 0], [34688, 5, 1578, 19, 2428, 5, 37846, 22, 2092, 122, 3, 0], [28155, 21, 300, 1224, 20, 6, 1878, 0], [33131, 24099, 4957, 3864, 32996, 1510, 10749, 323, 3644, 18467, 0], [33081, 0], [1032, 5763, 429, 0], [8926, 3748, 36591, 9390, 11023, 2247, 402, 29033, 260, 2607, 402, 29033, 2380, 0], [40276, 34, 2387, 5, 332, 402, 38492, 0], [5971, 5, 8, 486, 3977, 2, 6451, 39, 1612, 3, 0], [11697, 1883, 11697, 357, 6966, 2, 2179, 366, 21639, 0], [6760, 3399, 6114, 60, 3547, 13195, 3864, 32996, 1510, 10749, 323, 3644, 18467, 0], [12287, 20, 6, 17972, 5, 8, 8178, 402, 38492, 0], [35538, 51, 27, 14268, 22, 1470, 17, 2333, 13, 32239, 9, 13, 22785, 20, 6, 14847, 3, 0], [92, 43, 27961, 30838, 27, 16, 140, 22135, 75, 18380, 402, 29033, 50, 0], [402, 5, 7731, 9359, 3353, 483, 9, 50, 402, 38492, 3522, 16, 641, 20, 6, 1046, 11, 16, 21418, 5, 1132, 5, 4027, 13, 1132, 5, 4027, 317, 3353, 483, 9, 3, 12641, 332, 5, 8, 855, 20, 6, 1672, 107, 11596, 9, 484, 331, 483, 9, 2203, 23837, 29, 14, 6, 186, 168, 8436, 36, 3, 0], [19272, 38, 387, 107, 51, 5464, 0], [8140, 34, 17912, 20, 6, 41914, 13, 4036, 23, 14050, 5, 8, 1107, 13, 4036, 0], [660, 14717, 8810, 21332, 0], [402, 11582, 0], [30349, 5, 14, 6, 16706, 0], [8919, 0], [876, 5429, 7796, 0], [385, 15225, 186, 6340, 63, 6347, 337, 211, 1611, 3, 4486, 122, 0], [546, 9, 0], [15349, 9, 359, 323, 1430, 0], [301, 548, 402, 14, 75, 50, 301, 331, 309, 75, 50, 8941, 51, 1874, 21, 1146, 9406, 21, 18039, 51, 74, 49, 8208, 301, 548, 32, 81, 6587, 2, 301, 331, 32, 3255, 9687, 0], [24251, 8, 47115, 0], [87, 6, 7919, 34141, 22316, 51, 3, 4486, 122, 0], [2865, 402, 29033, 3878, 0], [11462, 4415, 7536, 7642, 24, 1071, 8002, 71, 2635, 511, 49, 1937, 28, 0], [234, 1072, 1295, 0], [4916, 644, 20, 6, 9028, 402, 36483, 114, 0], [10326, 9, 1973, 331, 15750, 7601, 0], [33355, 7314, 9, 0], [15335, 0], [84, 18154, 2721, 446, 27, 84, 137, 4977, 9, 89, 91, 14655, 87, 49, 1244, 9, 24, 323, 3812, 5, 767, 20, 6, 1549, 28, 402, 29033, 50, 16, 84, 11921, 70, 2518, 27, 4993, 14, 6, 1549, 40, 34, 12649, 1117, 24, 584, 337, 607, 13375, 102, 469, 677, 466, 42227, 27, 14, 6, 7784, 23, 4068, 14, 6, 1433, 323, 43, 2200, 36, 402, 89, 10445, 142, 50, 402, 29033, 50, 6306, 439, 14304, 31, 16, 5056, 22717, 3, 0], [344, 81, 6, 4110, 53, 2134, 5, 7479, 5, 689, 5, 2428, 27, 19, 6104, 3, 4366, 23, 4092, 34, 3, 0], [134, 16450, 22, 10929, 0], [87, 6, 31017, 38141, 13, 4036, 1328, 5, 4092, 5, 950, 21030, 5, 10763, 19937, 11, 5, 4092, 951, 2118, 4298, 3, 0], [15335, 5, 6442, 2, 44, 1328, 5, 6098, 1027, 16, 2585, 6000, 2950, 95, 14121, 3, 0], [3118, 9016, 402, 38492, 16795, 16, 8414, 9, 16716, 402, 357, 1312, 50, 153, 402, 29033, 1329, 1146, 623, 139, 21, 623, 139, 21, 623, 402, 29033, 416, 59, 127, 13, 384, 9, 23157, 16168, 153, 402, 29033, 6924, 2860, 402, 29033, 416, 17, 8, 245, 13, 8414, 9, 11720, 31, 14, 6, 31017, 402, 29033, 4459, 63, 26935, 402, 8371, 6218, 15259, 402, 29033, 583, 25727, 3, 0], [526, 93, 2251, 166, 1026, 18, 2436, 15338, 0], [25365, 9531, 8, 466, 20, 6, 839, 529, 162, 20083, 24, 2606, 2807, 28, 27, 402, 15, 3284, 7494, 50, 0], [233, 10128, 75, 12595, 20182, 0], [8399, 22, 201, 945, 41, 889, 40, 84, 29936, 3118, 124, 2694, 2, 7974, 21329, 133, 11, 8932, 774, 9927, 10572, 11970, 162, 11974, 774, 3, 2635, 511, 1802, 309, 1874, 3, 5378, 0], [9530, 5, 1107, 0], [7913, 114, 15331, 1274, 5, 4061, 15, 6259, 11656, 8804, 3, 0], [402, 9159, 6400, 3620, 0], [6950, 2061, 2766, 548, 10163, 5625, 794, 597, 0], [402, 2635, 14545, 1167, 50, 18110, 481, 951, 214, 12467, 23, 65, 5, 665, 44, 70, 12855, 65, 1426, 3, 277, 8, 1565, 13, 252, 2, 418, 76, 70, 53, 23053, 9, 40, 5891, 59, 13109, 14, 6, 6300, 20, 6, 93, 5893, 4084, 3, 2113, 500, 1146, 5871, 352, 2, 18691, 2, 28830, 11, 11757, 9726, 70, 1559, 5, 120, 737, 3, 21463, 402, 2635, 14545, 1167, 3390, 50, 27, 65, 5, 3884, 2, 175, 5847, 178, 2, 14, 6, 3174, 5, 402, 2635, 14545, 1167, 50, 81, 6, 82, 53, 2448, 13, 8647, 27, 129, 12467, 3, 0], [20313, 21332, 0], [23920, 0], [2476, 567, 18794, 265, 27595, 226, 3148, 817, 1662, 15651, 9, 3, 4486, 122, 0], [38468, 16, 4821, 5, 10763, 2755, 29, 88, 8675, 893, 31, 193, 498, 13, 4821, 0], [660, 6347, 2240, 38, 19070, 5, 421, 0], [60, 542, 5, 7552, 402, 38492, 153, 402, 29033, 22583, 51, 402, 29033, 2165, 153, 402, 29033, 898, 402, 29033, 2165, 153, 402, 29033, 180, 5265, 402, 29033, 2165, 153, 402, 29033, 33047, 20, 6, 14847, 402, 29033, 2165, 153, 402, 29033, 7378, 402, 29033, 2165, 153, 402, 29033, 11815, 402, 29033, 2165, 153, 7378, 22, 1426, 416, 59, 153, 402, 29033, 17319, 17867, 402, 29033, 416, 0], [60, 689, 5, 14755, 738, 15, 90, 19911, 909, 8106, 352, 7, 4, 5470, 2, 18, 53, 75, 492, 8409, 0], [31753, 19, 2428, 1698, 18524, 1969, 59, 19, 11636, 18524, 81, 6, 8124, 53, 3, 4366, 41, 682, 30732, 29, 19, 11636, 18524, 1969, 11, 19, 689, 22, 2428, 81, 6, 82, 53, 754, 1972, 31, 66, 11636, 3, 0], [2168, 402, 38492, 0], [238, 3252, 1088, 187, 21, 6068, 87, 1842, 850, 0], [8140, 19, 402, 7157, 11, 19, 644, 27, 521, 2428, 0], [2231, 14, 6, 93, 13, 3690, 11925, 17, 12727, 219, 2174, 9663, 20, 6, 7784, 13606, 27, 693, 5, 219, 3693, 3, 2373, 2, 129, 9663, 70, 29927, 9, 810, 24, 13826, 5, 1459, 1249, 2200, 28, 11, 5, 66, 148, 76, 388, 100, 9850, 31, 20, 6, 584, 3585, 715, 20, 6, 7784, 10072, 3, 0], [31903, 5, 8198, 0], [30997, 19055, 9359, 970, 21, 13174, 5708, 817, 19648, 1971, 3, 4486, 122, 0], [6340, 162, 3252, 2708, 166, 1026, 18, 1113, 2914, 6429, 5817, 0], [15178, 9, 5, 11964, 27, 16, 11964, 9, 1184, 11214, 25881, 3, 0], [46873, 9703, 5, 301, 548, 24, 13343, 1547, 301, 4757, 0], [10830, 19, 10154, 0], [36761, 590, 19, 5043, 20, 6, 112, 269, 5, 341, 17, 1886, 6329, 0], [344, 1069, 7409, 769, 8, 2880, 5, 8, 1283, 20, 6, 27326, 13, 17821, 2, 137, 6, 82, 21, 358, 21, 3882, 14, 6, 18412, 22, 4074, 21831, 72, 1866, 16, 17821, 62, 6, 21668, 5447, 16, 38, 9, 214, 214, 1766, 6, 1295, 70, 9470, 3, 0], [32962, 31, 182, 16, 4821, 2654, 0], [277, 402, 2635, 186, 8577, 259, 50, 2, 5682, 31, 30349, 1648, 16036, 139, 402, 2635, 186, 8577, 259, 50, 3, 110, 12739, 849, 3600, 2882, 1693, 2207, 31, 8, 1107, 20, 6, 29180, 9, 3, 3249, 19, 654, 5833, 4378, 2, 137, 39449, 8, 528, 8140, 3018, 16, 7061, 5819, 7521, 31, 8, 11831, 5, 7061, 5819, 3, 6643, 2, 31, 14, 25, 21975, 5, 7061, 5819, 2, 38, 2674, 8140, 31, 8, 11831, 20, 6, 14847, 9239, 733, 20, 6, 93, 24608, 72, 19, 402, 188, 6515, 50, 36, 14, 6, 93, 13, 7061, 5819, 2, 59, 31, 19, 2805, 28155, 1150, 16, 14387, 70, 36, 6400, 14260, 3, 83, 4821, 388, 221, 100, 24433, 31, 8, 11831, 20, 6, 14847, 13, 7061, 5819, 5, 0], [3332, 3284, 8234, 20, 6, 112, 3549, 15448, 21332, 0], [870, 1506, 623, 1702, 0], [89, 6, 82, 34, 9376, 44, 1766, 6, 107, 43, 7136, 19002, 29589, 19, 1470, 44, 316, 43, 7498, 3, 60, 7293, 36, 19, 9376, 11, 36694, 17, 14, 6, 1001, 5, 8, 2437, 153, 402, 29033, 49, 13672, 402, 29033, 1958, 80, 5607, 22, 1470, 7498, 24, 673, 243, 16353, 823, 28, 439, 906, 1588, 7823, 1163, 17, 153, 402, 29033, 5268, 111, 1624, 402, 29033, 416, 174, 8, 2437, 153, 402, 29033, 4527, 13442, 6439, 111, 1624, 402, 29033, 416, 43, 40912, 51, 36, 153, 402, 29033, 22059, 51, 402, 29033, 1958, 60, 9376, 168, 21, 501, 6063, 27, 100, 14, 6, 1078, 40, 5891, 5, 8, 8856, 5, 1199, 174, 8, 2437, 153, 402, 29033, 5, 483, 8153, 402, 29033, 416, 43, 40912, 51, 0], [83, 19798, 4283, 9, 388, 100, 2518, 31, 5, 1857, 4288, 3, 577, 722, 2, 418, 70, 2518, 27, 28632, 13, 11587, 4245, 27, 3154, 13, 11808, 4245, 3, 679, 30, 16, 4667, 231, 366, 1320, 27, 16, 9697, 23937, 9, 3, 0], [461, 4253, 13682, 174, 14, 6, 12039, 11430, 15, 90, 4559, 3, 0], [3786, 5, 4023, 13, 4036, 0], [2155, 16, 27838, 9, 25580, 388, 100, 36694, 9, 540, 8, 8856, 5, 1199, 5, 6442, 3, 0], [15481, 4253, 10975, 9, 0], [402, 89, 7101, 376, 50, 1465, 28155, 26404, 402, 38492, 12624, 5356, 0], [34326, 1248, 769, 16, 828, 21418, 24799, 40, 13, 11408, 3, 0], [32888, 5, 372, 39, 2454, 156, 23423, 657, 6587, 0], [30349, 8140, 402, 29033, 583, 402, 29033, 20953, 8, 11831, 3880, 0], [33106, 614, 14, 6, 28474, 0], [14390, 5, 5943, 0], [7520, 13, 3693, 0], [3600, 2882, 1693, 733, 20, 6, 93, 24608, 297, 31, 8, 11831, 5, 654, 59, 19, 361, 20, 6, 112, 7552, 18, 9531, 3, 0], [3730, 5397, 4096, 8690, 51, 3, 4486, 122, 0], [7250, 25784, 171, 14955, 0], [683, 20, 6, 44159, 9, 1106, 16754, 274, 3, 741, 9, 7, 9895, 0], [60, 689, 301, 548, 76, 12236, 1488, 542, 5, 15765, 3, 0], [29863, 40624, 16, 4027, 140, 89, 35236, 0], [19265, 9, 5, 4036, 0], [6178, 9, 20, 6, 6232, 670, 402, 38492, 0], [89, 6, 82, 34, 666, 2025, 27, 402, 2635, 1874, 50, 11, 88, 3, 0], [1691, 13, 135, 7600, 166, 402, 38492, 0], [49, 10301, 37, 583, 3025, 34, 5893, 20, 6, 2133, 9, 402, 29033, 583, 19503, 3747, 4084, 3497, 3905, 243, 274, 31, 402, 2635, 511, 50, 3, 315, 167, 7674, 2, 1128, 16783, 3665, 49, 10301, 37, 583, 31, 19, 4074, 20, 6, 4620, 5, 402, 2635, 186, 8577, 259, 50, 3, 49, 10301, 37, 583, 76, 4357, 53, 810, 34, 1400, 23, 4767, 1845, 17, 193, 369, 20, 6, 7784, 2, 175, 92, 88, 1328, 231, 5, 4569, 16, 7337, 5, 716, 29719, 9, 59, 5, 193, 369, 20, 6, 7784, 2, 11, 88, 1328, 5, 1578, 5, 828, 29719, 9, 11, 5, 828, 4719, 20, 6, 41599, 9, 3, 0], [4194, 2075, 5, 4921, 5, 402, 13610, 0], [19272, 14, 6, 162, 1071, 111, 738, 17, 1697, 40, 5891, 3, 35294, 2, 153, 402, 29033, 22551, 14, 6, 162, 1071, 111, 738, 5, 193, 1918, 402, 29033, 416, 43, 229, 11684, 11, 88, 81, 6, 33197, 5014, 53, 851, 5, 4569, 66, 5043, 3, 0], [8564, 1078, 1432, 34, 2428, 0], [402, 2635, 511, 50, 59, 14, 6, 1257, 5, 1826, 526, 43, 34, 1878, 5, 1826, 6217, 2, 3860, 20, 6, 1046, 2, 11, 31328, 8, 4805, 1593, 27, 16, 1132, 14210, 402, 16541, 1430, 50, 3, 2269, 38, 49, 47597, 2671, 20, 6, 16336, 1430, 50, 2, 127, 402, 24559, 50, 402, 29033, 583, 402, 29033, 13606, 50, 2, 402, 16541, 1430, 50, 402, 29033, 583, 402, 29033, 2635, 511, 50, 2279, 38, 6899, 21, 8282, 6516, 2671, 2, 6815, 11, 5121, 27, 2541, 3, 1570, 19, 507, 168, 4476, 19, 1459, 1249, 2, 7497, 17, 929, 5, 901, 41, 412, 2, 3031, 11, 1383, 3, 1533, 68, 6, 107, 167, 2471, 721, 13, 9118, 5371, 2, 402, 2635, 511, 50, 4166, 1416, 6, 1051, 112, 0], [2635, 511, 1802, 22454, 25177, 3, 49, 1937, 2, 4242, 2879, 4773, 1802, 133, 2637, 10451, 3, 3272, 0], [22551, 38, 3401, 261, 5904, 0], [13774, 8, 6442, 5, 193, 6607, 2, 88, 7485, 8, 1788, 31, 193, 8856, 56, 6676, 3, 344, 19617, 168, 21, 501, 88, 10854, 20, 6, 3126, 17, 193, 7763, 5032, 11, 8436, 193, 10763, 2755, 3, 0], [37169, 20, 6, 7907, 0], [24, 10433, 9, 28, 9531, 8, 137, 1064, 1935, 8810, 5, 14, 6, 21975, 3, 0], [60, 644, 245, 19, 2074, 31, 34, 266, 21, 13498, 22, 2805, 32888, 4916, 17, 929, 22, 2074, 3, 110, 0], [1809, 6163, 1547, 166, 1026, 18, 8734, 63, 1611, 10714, 6268, 0], [24782, 127, 3404, 5659, 402, 38492, 0], [7481, 9, 2, 7527, 11, 5789, 20, 6, 33703, 27, 16, 3397, 27193, 17, 7674, 56, 136, 20, 6, 7784, 3, 0], [84, 1323, 0], [2871, 45585, 402, 38492, 0], [30556, 174, 66, 261, 9660, 17, 38, 21780, 0], [267, 334, 12470, 1246, 4324, 11325, 401, 149, 2623, 74, 144, 74, 1269, 58, 50, 149, 648, 74, 268, 74, 1269, 58, 50, 4847, 28, 19730, 41, 4494, 3484, 0], [26427, 5, 14, 6, 162, 1218, 4572, 13887, 5177, 21, 358, 21, 2496, 19488, 24, 2735, 6106, 28, 1974, 2610, 10784, 166, 539, 14655, 22295, 10054, 139, 9163, 6199, 0], [18093, 8, 1107, 36483, 51, 16577, 5906, 5, 653, 27, 14134, 19, 369, 5, 653, 49, 26160, 59, 3497, 5350, 253, 3, 0], [233, 10128, 75, 11387, 0], [1787, 74, 12050, 2470, 74, 269, 0], [6965, 5, 17220, 24, 323, 16310, 3393, 111, 28, 294, 1612, 24, 25413, 75, 102, 17130, 301, 548, 0], [3332, 8103, 139, 19, 42296, 626, 6, 358, 8, 611, 5, 8, 863, 0], [83, 1319, 10442, 72, 16, 2132, 14235, 18612, 20, 6, 501, 906, 670, 33243, 114, 17, 34, 2132, 8821, 470, 29, 16, 2132, 16662, 4240, 100, 26197, 3, 4457, 5, 4094, 34, 2132, 31, 8, 1107, 23, 14050, 3, 0], [236, 1248, 4729, 134, 309, 0], [22279, 14454, 402, 38492, 0], [9228, 2882, 108, 13, 372, 188, 5244, 532, 51, 1430, 0], [7439, 1754, 2, 49, 43960, 0], [15314, 20, 6, 6607, 142, 3954, 222, 489, 0], [1647, 16, 1132, 14621, 2, 19, 1470, 18163, 5, 8, 11611, 45595, 20901, 24559, 43, 2200, 31, 583, 368, 139, 74, 1787, 74, 1087, 21, 3791, 8409, 9, 74, 41561, 3, 0], [34464, 5, 14321, 0], [530, 952, 13988, 63, 521, 370, 5, 8, 2401, 29, 88, 18036, 31, 19, 644, 20, 6, 28349, 153, 402, 29033, 10968, 9, 20, 6, 2569, 402, 29033, 1958, 0], [18548, 512, 532, 15538, 9, 401, 28, 0], [927, 0], [60, 2428, 43, 37309, 23, 1226, 6278, 0], [84, 18619, 139, 182, 16, 402, 38492, 0], [60, 2428, 153, 402, 29033, 301, 548, 402, 29033, 416, 81, 6, 8124, 53, 402, 29033, 145, 0], [1648, 16036, 139, 16, 27838, 9, 25580, 0], [9346, 5525, 3353, 14, 6, 15654, 5, 8, 3370, 6063, 31, 153, 402, 29033, 28484, 13, 4027, 402, 29033, 416, 27, 19, 2428, 4006, 0], [1682, 3878, 548, 0], [294, 21, 26994, 3878, 548, 0], [32103, 4729, 452, 584, 6464, 0], [1205, 412, 23450, 50, 1205, 412, 23450, 9, 50, 20, 850, 63, 16035, 313, 18, 34, 7722, 24, 158, 253, 28, 0], [5687, 689, 5, 272, 81, 6, 82, 2134, 0], [21566, 402, 38492, 301, 548, 0], [7424, 0], [87, 6, 31017, 19664, 16795, 14, 6, 426, 5, 20973, 5555, 5919, 404, 14, 6, 15283, 29543, 5, 8, 11330, 23, 320, 5, 4767, 3, 80, 11831, 20, 6, 14847, 3108, 402, 38492, 0], [4194, 332, 0], [683, 6621, 0], [11582, 5, 11831, 5624, 6652, 0], [17207, 8, 11831, 5, 486, 0], [26021, 1802, 24156, 352, 37, 6951, 1072, 364, 3695, 51, 51, 19888, 9, 0], [350, 88, 867, 806, 5038, 39, 391, 34, 5987, 2, 88, 1069, 849, 4094, 16, 905, 17, 183, 31, 402, 2635, 1874, 50, 40, 230, 56, 4036, 4014, 13, 5324, 3, 315, 29, 402, 2635, 1874, 50, 43120, 16, 4036, 4014, 13, 5324, 2, 88, 3287, 19459, 14, 6, 9313, 30556, 16, 4036, 17, 14, 6, 1001, 13, 3850, 1301, 21, 20682, 3, 350, 88, 3586, 29, 16, 4036, 19954, 9, 127, 31898, 926, 20071, 31, 34, 588, 3254, 2, 20899, 19, 3254, 6559, 11, 1482, 265, 14, 6, 9313, 3332, 8103, 139, 16, 4036, 19954, 9, 127, 31898, 709, 19, 3254, 2134, 3, 350, 16, 4036, 19954, 9, 127, 31898, 474, 100, 23, 65, 28712, 127, 14, 685, 2, 1482, 265, 14, 6, 9313, 17182, 139, 0], [25365, 9531, 14, 6, 27740, 3, 508, 76, 95, 39654, 65, 626, 6, 358, 66, 68, 6, 431, 345, 38475, 31094, 3, 0], [1648, 16036, 139, 16, 5909, 111, 7630, 9, 110, 0], [32888, 0], [34238, 5, 3117, 24, 550, 13880, 89, 20098, 27, 33665, 13, 41452, 6876, 2, 13, 15429, 2, 59, 13, 24678, 25720, 34, 2016, 20, 6, 40505, 9, 22551, 8, 6584, 89, 7101, 376, 27, 442, 1432, 8, 3117, 11, 8, 6584, 18579, 27, 6002, 38, 495, 3117, 0], [15175, 139, 16, 2603, 9271, 0], [526, 2470, 17370, 108, 792, 657, 6587, 0], [462, 24257, 110, 0], [60, 24608, 4789, 1328, 20, 6, 9126, 402, 38492, 0], [4194, 22257, 5, 6584, 9, 0], [530, 2674, 1328, 5, 28100, 16, 11408, 5, 1853, 11, 16, 25362, 3, 0], [80, 11831, 21288, 5, 1965, 1107, 363, 16, 1965, 29, 88, 867, 21481, 3, 350, 167, 2178, 1883, 20526, 331, 81, 6, 82, 721, 53, 18524, 2, 20899, 19, 3, 344, 867, 769, 1400, 17, 38, 13783, 20, 6, 28349, 3, 10263, 19984, 573, 8, 952, 11, 9600, 774, 13187, 9, 8, 21780, 5, 177, 4668, 709, 19, 2508, 3, 17319, 1637, 1504, 8, 952, 5, 14, 6, 22476, 27, 40, 20624, 774, 401, 623, 28, 2178, 1883, 20526, 331, 41, 177, 11, 32640, 36, 402, 134, 1405, 50, 3, 315, 14134, 38, 495, 4330, 27, 8, 21780, 2, 10170, 36, 19, 9376, 12287, 31, 8, 669, 4459, 63, 26935, 23, 2508, 5, 8, 11831, 21288, 5, 952, 11, 20899, 38, 784, 4330, 3, 0], [3332, 3284, 8234, 0], [4999, 9028, 6329, 0], [402, 41586, 1246, 13488, 15491, 7036, 8459, 50, 402, 41586, 367, 7662, 334, 16426, 3399, 50, 0], [17856, 20, 21391, 59, 12440, 22, 2428, 609, 0], [1538, 22, 2428, 1802, 2296, 122, 37, 18, 6756, 0], [5999, 8696, 0], [17826, 0], [13362, 6060, 294, 4101, 10084, 17, 16959, 376, 11411, 9, 5, 359, 5674, 559, 1924, 6587, 0], [301, 0], [89, 21775, 11, 2417, 2662, 3148, 63, 4662, 1406, 0], [3305, 5, 11964, 402, 38492, 0], [24226, 15042, 22, 971, 0], [402, 32314, 0], [1511, 1692, 41, 1909, 17240, 38, 1107, 5, 4767, 402, 29033, 54, 0], [6606, 124, 15338, 166, 1026, 18, 8337, 9925, 106, 0], [3453, 2882, 108, 709, 19, 4179, 5, 3490, 0], [304, 751, 468, 0], [42786, 301, 548, 0], [4312, 20, 6, 6990, 27, 14, 6, 21924, 13, 372, 0], [315, 1578, 38, 784, 34803, 44, 16795, 34, 2025, 2755, 8854, 2, 2482, 30215, 19, 2025, 23, 299, 5, 402, 2635, 1874, 50, 36, 8, 7552, 3880, 5, 402, 2635, 253, 10886, 50, 59, 14, 6, 29180, 5, 8, 8856, 17, 28495, 9, 3, 135, 6, 12232, 849, 8, 7552, 153, 402, 29033, 4194, 34803, 402, 29033, 416, 4014, 19, 2025, 2755, 4089, 24, 133, 680, 113, 49, 24938, 2, 113, 19941, 2, 402, 1025, 50, 28, 23, 712, 29, 1470, 5, 14, 6, 27740, 3, 0], [25365, 36783, 1802, 7492, 0], [7520, 5, 14, 6, 9788, 21332, 0], [6914, 0], [402, 14, 75, 50, 291, 46104, 15903, 5845, 29379, 9, 34866, 1525, 7036, 18444, 9, 300, 402, 14, 75, 50, 29379, 9, 34866, 1525, 7036, 18444, 9, 300, 402, 14, 75, 50, 442, 81, 6587, 4586, 149, 6659, 746, 49, 22230, 58, 7866, 402, 14, 75, 50, 492, 567, 352, 300, 5658, 746, 18, 10612, 5447, 9425, 7639, 11205, 50, 583, 24156, 352, 300, 402, 14, 75, 50, 12, 2570, 75, 3595, 300, 5658, 746, 18, 49, 22230, 1321, 7639, 11205, 50, 583, 75, 16284, 75, 3595, 300, 402, 14, 75, 50, 49, 31373, 300, 1437, 9, 10003, 670, 11205, 50, 583, 31373, 300, 402, 14, 75, 50, 7110, 5612, 7639, 300, 3137, 11205, 50, 583, 12666, 5612, 7639, 300, 402, 14, 75, 50, 2153, 146, 1460, 0], [4713, 402, 38492, 301, 548, 0], [350, 88, 3586, 5, 14, 6, 1001, 23, 1321, 2, 92, 1969, 34, 7320, 5, 1710, 49, 31030, 27, 402, 2635, 14545, 1167, 50, 2, 311, 88, 1069, 1512, 16, 241, 5, 14, 6, 3174, 44, 26767, 313, 5, 341, 1065, 24, 10161, 2, 53, 721, 119, 59, 44, 874, 282, 607, 16, 3962, 3, 344, 1069, 1697, 81, 6, 5411, 2709, 2327, 49, 31030, 27, 10685, 19, 7320, 24, 133, 680, 402, 2635, 14545, 1167, 50, 102, 104, 7452, 20, 6, 10356, 34, 971, 49, 31030, 11, 20, 6, 4482, 986, 7332, 3, 2635, 511, 3, 49, 1937, 127, 10929, 11, 3086, 2833, 2783, 1167, 127, 689, 5, 7320, 3, 410, 8157, 402, 29033, 145, 0], [4916, 110, 0], [301, 548, 954, 14788, 13343, 859, 63, 16035, 313, 18, 34, 7722, 24, 18359, 3511, 28, 0], [60, 10929, 81, 6, 63, 53, 6933, 7352, 402, 38492, 301, 548, 0], [35530, 14, 6, 6342, 33261, 8, 1032, 5, 14, 6, 6342, 5589, 266, 19, 42296, 3, 0], [3853, 7072, 12465, 9, 11972, 3812, 26037, 0], [104, 88, 807, 402, 2635, 511, 50, 402, 29033, 7912, 27, 44852, 66, 2074, 11, 92, 4667, 15431, 8670, 3, 344, 23, 32358, 65, 17, 66, 1042, 36, 19, 414, 4012, 37, 583, 583, 7801, 17988, 3, 2635, 511, 3, 49, 1937, 74, 6740, 3, 49, 30824, 54, 492, 567, 352, 4586, 5157, 6663, 1858, 243, 74, 491, 11796, 16168, 74, 10326, 9, 1973, 74, 359, 597, 2559, 25413, 4492, 311, 363, 16, 2105, 70, 12352, 3, 0], [14743, 23, 5237, 0], [870, 190, 8806, 15249, 0], [1648, 16036, 139, 19, 647, 139, 0], [315, 1726, 526, 532, 4723, 2, 88, 3287, 21395, 2635, 13217, 9, 19536, 139, 2, 19, 12093, 5, 11058, 31768, 5, 402, 2635, 511, 50, 3, 0], [104, 167, 15, 652, 7337, 44, 20502, 36, 8, 9014, 13, 925, 35475, 402, 38492, 0], [24, 222, 28, 889, 0], [645, 32919, 0], [89, 7101, 376, 50, 708, 20998, 16827, 110, 0], [3332, 8103, 3638, 402, 38492, 301, 548, 0], [35160, 20, 6, 93, 10688, 5, 9945, 0], [21880, 357, 6966, 2, 2143, 2, 27837, 9, 13882, 11, 4330, 2, 5497, 2143, 0], [43624, 17443, 93, 567, 8591, 186, 7131, 9, 26, 5882, 101, 49, 15185, 18, 8806, 0], [24226, 8943, 51, 8, 5356, 3, 350, 286, 43, 1698, 22591, 2, 14, 6, 274, 19800, 20321, 62, 6, 19824, 3, 87, 6, 274, 19800, 20321, 5, 8, 4034, 5356, 7954, 20, 6, 501, 22591, 4831, 3, 0], [238, 5350, 12240, 20200, 0], [582, 4821, 20467, 9, 44, 3602, 5, 14134, 16, 4036, 72, 13, 21418, 1286, 3343, 122, 4096, 3, 9396, 51, 0], [402, 41586, 323, 4170, 11047, 612, 5569, 9, 1564, 50, 0], [33355, 5, 14, 6, 1415, 1802, 7492, 0], [30349, 1029, 0], [25720, 34, 7103, 0], [350, 120, 2674, 43, 38475, 2, 88, 1069, 5430, 1692, 22401, 139, 16, 6584, 9, 402, 18579, 50, 2, 402, 16488, 50, 59, 402, 89, 7101, 376, 50, 2, 1692, 2497, 5430, 36, 38, 495, 6584, 27, 1726, 38, 9617, 5, 6584, 9, 24, 9096, 402, 38492, 89, 7101, 376, 50, 402, 16488, 50, 24226, 8918, 168, 100, 5301, 40, 402, 89, 7101, 376, 50, 1692, 402, 16488, 50, 1692, 24226, 8918, 102, 0], [1648, 16036, 139, 19, 356, 1802, 9313, 17814, 6978, 604, 0], [60, 2805, 30349, 0], [267, 23104, 47200, 0], [1948, 12259, 7036, 14, 6, 4930, 0], [8426, 24532, 0], [19272, 8, 1283, 311, 13145, 19, 2447, 0], [84, 10924, 25269, 0], [3086, 751, 3261, 39447, 309, 7821, 278, 532, 158, 51, 328, 10908, 20, 1248, 4586, 4114, 20, 6, 1549, 2, 2215, 17, 66, 2428, 2, 13, 4027, 2824, 49, 9403, 402, 357, 1312, 50, 49, 30824, 3776, 74, 3086, 7019, 19, 6663, 6366, 10259, 4822, 236, 5713, 4586, 193, 2153, 27, 120, 2824, 402, 357, 1312, 50, 402, 25400, 50, 8192, 2824, 1681, 109, 4586, 27911, 985, 4494, 49, 9403, 1681, 144, 4586, 12362, 142, 4516, 14417, 2, 3086, 142, 4516, 3288, 2910, 3086, 142, 4516, 331, 1938, 1782, 222, 14417, 4586, 142, 4516, 14417, 3, 49, 9403, 1782, 222, 331, 1728, 4586, 142, 4516, 331, 10028, 49, 9403, 1782, 222, 331, 1938, 4586, 142, 4516, 331, 11873, 49, 9403, 110, 278, 4499, 13672, 328, 1648, 13672, 0], [18631, 431, 13, 12980, 4499, 39477, 446, 81, 6587, 24, 9313, 253, 28, 0], [4224, 3954, 1547, 0], [135, 4152, 87, 3773, 6966, 7106, 1802, 24156, 352, 37, 4527, 7529, 3022, 0], [16572, 51, 39, 698, 339, 0], [402, 2635, 4786, 18039, 51, 50, 0], [30349, 22, 369, 0], [38391, 402, 38492, 301, 548, 0], [13176, 89, 6831, 9773, 1433, 0], [43233, 51, 15495, 2037, 0], [180, 11434, 839, 550, 1246, 367, 3568, 401, 1458, 50, 661, 50, 370, 28, 0], [4552, 2207, 402, 38492, 4012, 37, 583, 583, 51, 2073, 3, 2635, 511, 3, 49, 1937, 74, 2635, 2470, 0], [27509, 863, 0], [402, 47, 8594, 259, 108, 0], [1648, 16036, 139, 16, 17415, 0], [491, 108, 38, 7552, 31, 402, 2635, 511, 50, 0], [80, 8856, 5, 1199, 1648, 16036, 139, 402, 2635, 20477, 607, 108, 50, 0], [60, 2454, 5, 462, 409, 40, 5891, 0], [41612, 5, 14211, 153, 402, 29033, 301, 548, 402, 29033, 416, 140, 12679, 0], [34238, 5, 1107, 20, 6, 1922, 0], [7424, 258, 18626, 17, 1833, 22, 8395, 22, 6104, 47, 4407, 0], [526, 3261, 0], [34688, 5, 1578, 8, 153, 402, 29033, 62, 5265, 597, 402, 29033, 416, 0], [2125, 4071, 623, 24, 20083, 28, 0], [350, 88, 3259, 9531, 265, 120, 2674, 2, 15495, 8577, 259, 81, 6, 39488, 63, 65, 8, 3745, 7048, 4527, 7529, 3022, 3, 1240, 401, 102, 530, 952, 43, 3747, 174, 88, 17755, 4765, 13, 1401, 4068, 19701, 243, 120, 3745, 27, 14268, 13, 37191, 9, 20509, 3, 16468, 402, 38492, 80, 3259, 17271, 5, 120, 2674, 26561, 756, 8, 2884, 31, 693, 1401, 15163, 4527, 7529, 3022, 3, 1240, 401, 28, 27, 8644, 7352, 3, 18093, 120, 22325, 72, 23868, 3, 0], [49, 28175, 108, 2, 5178, 11, 14268, 13, 780, 9, 5, 12137, 657, 6587, 0], [87, 6, 32240, 107, 20, 6, 8669, 14181, 1361, 107, 4499, 39477, 446, 81, 6587, 24, 9313, 253, 28, 0], [10534, 401, 778, 6795, 50, 304, 1096, 28, 19730, 461, 6795, 0], [60, 10561, 4395, 3439, 685, 63, 3, 4486, 122, 0], [9228, 2882, 108, 19, 43071, 0], [15, 5634, 0], [6509, 60, 746, 3525, 0], [18684, 29614, 111, 265, 0], [11787, 21, 559, 27583, 1100, 0], [28721, 20, 6, 5535, 9124, 29361, 27, 526, 15068, 8696, 108, 657, 6587, 0], [83, 4553, 59, 10686, 1724, 70, 40131, 9, 402, 38492, 0], [5133, 22, 666, 33295, 2064, 1806, 17502, 7032, 1321, 7639, 32, 4, 1437, 14, 3103, 2468, 54, 0], [8108, 0], [7406, 1502, 5, 40577, 110, 0], [18346, 27, 1989, 4189, 2147, 20, 6, 11227, 13, 3291, 657, 6587, 0], [258, 24402, 0], [24691, 259, 7903, 9, 657, 6587, 0], [469, 7552, 36, 34, 495, 1826, 434, 193, 1020, 21332, 0], [249, 15685, 12532, 4586, 19742, 51, 0], [735, 1802, 7492, 37, 17502, 6602, 24670, 9, 0], [402, 8035, 0], [2635, 6553, 720, 158, 10813, 9, 0], [20340, 34, 4101, 11430, 27, 19, 2443, 3, 83, 6785, 1559, 16531, 5, 193, 4237, 2790, 3, 0], [8663, 8, 41408, 2, 20, 6, 362, 37582, 12203, 388, 100, 2518, 27, 1205, 32226, 139, 521, 1032, 31, 19, 2428, 3, 0], [402, 12, 2570, 21, 511, 13838, 9, 50, 402, 12, 2570, 21, 36322, 3847, 50, 402, 12, 2570, 21, 63, 6343, 4081, 50, 402, 12, 2570, 21, 253, 75, 973, 9, 2710, 50, 402, 12, 2570, 21, 1146, 22078, 9, 746, 50, 402, 12, 2570, 21, 15857, 7731, 107, 2398, 50, 402, 12, 2570, 21, 3790, 10141, 5849, 50, 402, 12, 2570, 21, 1711, 2503, 573, 50, 402, 12, 2570, 21, 3275, 3442, 101, 11370, 50, 402, 12, 2570, 21, 16483, 9, 11120, 108, 50, 0], [6776, 1432, 16, 9762, 20, 6, 112, 11177, 17, 929, 5, 113, 12440, 3, 0], [9592, 0], [344, 11, 716, 4059, 23167, 1817, 9396, 51, 0], [19405, 5, 2955, 12649, 0], [672, 4403, 21, 15326, 70, 3290, 39, 1612, 5, 8, 9505, 3, 0], [1928, 74, 4192, 9516, 0], [2395, 120, 4352, 278, 585, 585, 37, 15783, 37, 16695, 328, 0], [530, 3745, 42081, 19, 2428, 5, 370, 29794, 31, 19, 10929, 2, 402, 137, 1418, 50, 38, 1107, 13, 3388, 404, 182, 16, 3397, 11, 182, 16, 8647, 3, 1714, 168, 9415, 38, 13162, 3675, 5, 372, 3, 0], [31835, 573, 38, 1309, 5356, 3, 0], [134, 1071, 111, 738, 0], [14495, 0], [87, 6, 29912, 3386, 24254, 11, 14, 25, 12319, 5967, 3755, 70, 40912, 9, 605, 34, 9430, 5, 144, 22462, 14112, 31, 19, 8086, 3, 83, 783, 20, 6, 38461, 70, 16, 2445, 8246, 6461, 114, 20, 6, 21129, 122, 772, 11, 5, 38810, 3, 0], [5853, 10619, 1448, 274, 14955, 0], [526, 3261, 0], [60, 30098, 5, 14, 6, 2505, 5, 135, 18243, 11, 5, 49, 41142, 43, 38, 7907, 56, 305, 62, 6259, 8465, 685, 11, 1680, 16035, 313, 3, 135, 6259, 8465, 685, 88, 13117, 13, 29201, 135, 18243, 16862, 11, 148, 332, 5, 8, 855, 13, 3850, 135, 18243, 44, 3441, 19, 5390, 135, 10503, 24, 142, 114, 4077, 8136, 188, 10661, 119, 4359, 231, 8025, 13929, 3748, 59, 80, 364, 14102, 13718, 3, 0], [1948, 337, 3348, 5550, 36623, 376, 0], [19265, 9, 0], [16572, 51, 17, 370, 19, 2074, 0], [1277, 190, 6792, 297, 402, 38492, 0], [2935, 38, 784, 8843, 0], [87, 6, 24938, 43, 23, 320, 5, 978, 5, 120, 5836, 0], [28683, 23, 1131, 5, 8, 466, 5, 715, 72, 15431, 8670, 0], [7768, 23, 863, 0], [33206, 65, 31202, 0], [304, 13956, 304, 1430, 0], [89, 1162, 529, 7941, 0], [4999, 1078, 5, 25059, 22089, 3, 0], [1951, 7560, 274, 3585, 5, 14, 6, 21274, 72, 14, 6, 9700, 2143, 0], [131, 13807, 20, 6, 3126, 34, 3729, 20, 25, 11700, 92, 17, 8, 1681, 13, 23999, 5, 8, 647, 2207, 5, 402, 2635, 1874, 50, 27, 4993, 62, 6, 107, 1969, 13, 3850, 27, 18952, 716, 4036, 3, 0], [34688, 20, 6, 22157, 19, 2454, 20, 6, 5316, 5, 301, 4011, 30, 7831, 29, 137, 6, 82, 22, 238, 14409, 3, 0], [87, 6, 35852, 5, 466, 13, 5324, 7873, 7559, 127, 14, 25, 35852, 5, 466, 13, 4036, 140, 20177, 9, 3, 4111, 16, 3884, 22, 2084, 5, 14, 6, 35852, 3, 402, 2635, 1874, 50, 168, 1697, 652, 3850, 9271, 27, 17084, 16, 4036, 4014, 13, 5324, 3, 104, 18702, 5, 1512, 7080, 8524, 3850, 70, 18101, 36, 193, 3221, 11, 88, 16795, 16, 637, 5, 8, 486, 27, 521, 5987, 3, 344, 1069, 5827, 16, 3850, 29, 88, 3586, 29, 402, 2635, 1874, 50, 4667, 27, 17084, 16, 5324, 3, 344, 76, 1069, 53, 2285, 2285, 17, 1697, 16, 3850, 140, 15454, 527, 16, 252, 114, 17, 43360, 17248, 70, 12619, 114, 3, 1533, 3044, 2, 88, 1069, 16851, 14, 6, 35852, 2, 12029, 34, 5987, 0], [1216, 3659, 1100, 0], [25365, 36783, 27, 1726, 5, 65, 2848, 4027, 174, 193, 2758, 81, 6, 63, 1452, 4805, 0]], 'attention_mask': [[1, 1, 1, 1, 1, 1, 1, 1, 1], [1, 1, 1], [1, 1, 1, 1, 1, 1, 1, 1, 1, 1, 1, 1, 1, 1, 1, 1, 1, 1], [1, 1, 1], [1, 1, 1, 1, 1, 1, 1, 1, 1, 1, 1, 1, 1, 1, 1, 1, 1, 1, 1, 1, 1, 1, 1, 1, 1, 1, 1, 1, 1, 1], [1, 1, 1, 1, 1, 1, 1, 1, 1, 1, 1, 1, 1, 1, 1, 1, 1, 1], [1, 1, 1, 1], [1, 1, 1, 1, 1, 1, 1, 1, 1, 1, 1, 1, 1, 1], [1, 1, 1, 1, 1, 1, 1, 1], [1, 1, 1, 1, 1, 1, 1, 1, 1, 1, 1, 1], [1, 1, 1], [1, 1, 1, 1, 1, 1, 1, 1, 1, 1], [1, 1, 1, 1, 1], [1, 1, 1, 1, 1, 1, 1, 1, 1, 1, 1, 1, 1], [1, 1, 1, 1, 1, 1, 1, 1, 1, 1, 1, 1, 1, 1, 1, 1, 1, 1, 1, 1, 1, 1, 1, 1, 1, 1, 1, 1, 1, 1, 1, 1, 1, 1, 1, 1, 1, 1, 1, 1, 1, 1, 1, 1, 1, 1, 1, 1, 1, 1, 1, 1, 1, 1, 1, 1, 1, 1, 1, 1, 1, 1, 1, 1, 1, 1, 1, 1, 1, 1, 1, 1, 1, 1, 1, 1, 1, 1, 1, 1, 1, 1, 1, 1, 1, 1], [1, 1, 1, 1, 1, 1, 1, 1, 1], [1, 1, 1, 1, 1, 1, 1, 1, 1, 1, 1, 1, 1, 1, 1], [1, 1, 1, 1, 1, 1, 1], [1, 1, 1, 1, 1, 1, 1, 1, 1, 1, 1, 1, 1, 1, 1, 1, 1, 1, 1, 1, 1, 1, 1, 1, 1, 1, 1, 1, 1, 1, 1, 1], [1, 1, 1, 1, 1, 1, 1, 1, 1, 1], [1, 1, 1, 1, 1, 1, 1, 1, 1, 1, 1, 1, 1, 1, 1, 1, 1], [1, 1, 1, 1, 1, 1, 1, 1, 1, 1, 1, 1, 1, 1, 1, 1, 1], [1, 1, 1, 1, 1, 1, 1, 1, 1, 1, 1], [1, 1, 1], [1, 1, 1, 1, 1, 1, 1, 1, 1, 1, 1, 1, 1, 1, 1, 1, 1, 1, 1, 1, 1, 1, 1, 1, 1, 1, 1, 1, 1, 1, 1, 1, 1, 1, 1, 1, 1, 1, 1], [1, 1, 1, 1, 1, 1, 1, 1, 1, 1, 1, 1, 1, 1, 1, 1, 1, 1, 1, 1, 1, 1, 1, 1, 1, 1, 1, 1, 1, 1, 1, 1, 1, 1], [1, 1], [1, 1, 1, 1, 1, 1, 1, 1, 1, 1, 1, 1], [1, 1, 1, 1, 1, 1, 1, 1, 1, 1, 1], [1, 1, 1, 1, 1], [1, 1, 1, 1, 1, 1, 1, 1, 1, 1, 1, 1, 1, 1], [1, 1, 1, 1, 1, 1, 1, 1, 1, 1, 1, 1, 1, 1, 1, 1, 1, 1], [1, 1, 1, 1, 1, 1, 1], [1, 1, 1, 1, 1, 1, 1], [1, 1, 1, 1, 1, 1, 1, 1, 1, 1, 1, 1, 1, 1, 1, 1, 1, 1, 1, 1, 1, 1, 1, 1, 1, 1, 1, 1, 1, 1, 1, 1, 1, 1, 1, 1, 1, 1, 1], [1, 1, 1, 1, 1], [1, 1, 1], [1, 1, 1, 1, 1, 1, 1], [1, 1, 1, 1, 1, 1, 1, 1, 1, 1, 1, 1, 1, 1, 1, 1, 1, 1, 1], [1, 1, 1, 1], [1, 1, 1, 1, 1, 1, 1, 1, 1, 1, 1, 1, 1, 1, 1, 1, 1], [1, 1, 1, 1, 1, 1, 1], [1, 1, 1, 1, 1, 1, 1, 1], [1, 1, 1, 1, 1, 1, 1, 1, 1, 1, 1], [1, 1, 1, 1], [1, 1, 1, 1], [1, 1, 1], [1, 1, 1, 1, 1, 1], [1, 1, 1, 1], [1, 1, 1, 1, 1, 1, 1, 1, 1, 1, 1, 1, 1, 1, 1], [1, 1, 1, 1, 1, 1, 1, 1, 1, 1, 1, 1, 1, 1, 1, 1, 1], [1, 1, 1, 1, 1], [1, 1, 1, 1, 1, 1, 1, 1, 1, 1, 1, 1], [1, 1, 1, 1, 1, 1], [1, 1, 1, 1, 1, 1, 1, 1], [1, 1, 1, 1, 1, 1, 1, 1, 1, 1, 1, 1, 1], [1, 1, 1, 1, 1], [1, 1, 1, 1, 1, 1, 1, 1], [1, 1, 1, 1, 1, 1, 1, 1, 1], [1, 1, 1, 1], [1, 1, 1], [1, 1, 1, 1, 1, 1], [1, 1, 1, 1, 1, 1, 1, 1, 1], [1, 1, 1, 1, 1], [1, 1, 1, 1, 1, 1], [1, 1, 1, 1], [1, 1, 1, 1, 1], [1, 1, 1, 1, 1, 1, 1, 1, 1, 1], [1, 1, 1, 1, 1, 1, 1, 1, 1, 1, 1, 1, 1, 1, 1, 1, 1, 1], [1, 1, 1, 1, 1, 1, 1, 1, 1, 1, 1, 1, 1, 1], [1, 1, 1, 1, 1, 1, 1, 1], [1, 1, 1, 1, 1, 1, 1, 1, 1, 1, 1, 1, 1, 1, 1], [1, 1, 1, 1, 1, 1], [1, 1, 1, 1, 1, 1, 1], [1, 1], [1, 1, 1, 1, 1, 1, 1, 1, 1, 1, 1, 1, 1, 1, 1, 1, 1, 1], [1, 1, 1, 1, 1], [1, 1, 1, 1, 1, 1, 1, 1, 1, 1, 1, 1, 1, 1, 1, 1, 1, 1, 1, 1, 1, 1], [1, 1, 1, 1, 1, 1, 1], [1, 1, 1], [1, 1, 1, 1, 1, 1, 1, 1, 1, 1, 1, 1, 1, 1, 1, 1, 1, 1, 1, 1, 1, 1, 1, 1, 1, 1, 1, 1, 1, 1, 1, 1, 1, 1, 1, 1, 1, 1, 1, 1, 1, 1, 1, 1, 1], [1, 1, 1, 1, 1, 1, 1, 1, 1, 1, 1, 1, 1, 1, 1, 1, 1, 1, 1, 1, 1, 1, 1, 1, 1, 1, 1, 1, 1, 1, 1, 1, 1, 1, 1, 1, 1, 1, 1, 1, 1, 1, 1, 1, 1, 1, 1, 1, 1, 1, 1, 1, 1, 1, 1, 1, 1, 1, 1, 1, 1, 1, 1, 1, 1, 1, 1, 1, 1, 1, 1, 1, 1, 1, 1, 1, 1, 1, 1, 1, 1, 1, 1, 1, 1, 1, 1, 1, 1, 1, 1, 1, 1, 1, 1, 1, 1, 1, 1, 1, 1, 1, 1, 1, 1, 1, 1, 1, 1, 1, 1, 1, 1, 1, 1, 1, 1, 1, 1, 1, 1, 1, 1, 1, 1, 1, 1, 1], [1, 1, 1, 1, 1, 1, 1, 1, 1, 1, 1, 1, 1, 1, 1, 1], [1, 1, 1, 1, 1, 1, 1], [1, 1], [1, 1, 1, 1, 1, 1, 1], [1, 1, 1, 1, 1, 1, 1, 1, 1, 1, 1], [1, 1, 1, 1, 1, 1, 1, 1], [1, 1, 1, 1, 1, 1], [1, 1, 1, 1, 1, 1, 1, 1, 1, 1, 1, 1, 1, 1, 1, 1, 1], [1, 1, 1, 1, 1, 1, 1, 1, 1, 1, 1, 1], [1, 1, 1, 1, 1, 1, 1, 1, 1, 1, 1, 1, 1, 1, 1, 1, 1, 1, 1, 1, 1, 1, 1, 1, 1, 1, 1, 1, 1, 1, 1], [1, 1, 1, 1], [1, 1, 1, 1, 1, 1, 1, 1, 1, 1, 1, 1, 1, 1, 1, 1, 1, 1, 1, 1, 1, 1, 1, 1, 1, 1, 1, 1, 1, 1, 1], [1, 1, 1, 1, 1, 1, 1, 1, 1, 1], [1, 1, 1, 1, 1, 1, 1, 1, 1, 1, 1, 1, 1, 1, 1, 1, 1, 1, 1, 1, 1, 1, 1, 1, 1, 1, 1, 1, 1, 1, 1, 1], [1, 1, 1, 1, 1, 1, 1, 1, 1, 1, 1, 1, 1, 1, 1, 1, 1, 1, 1, 1, 1, 1, 1, 1, 1, 1, 1, 1, 1, 1, 1, 1, 1, 1, 1, 1, 1, 1, 1, 1, 1, 1, 1, 1, 1, 1, 1, 1, 1, 1, 1, 1, 1, 1, 1, 1, 1, 1, 1, 1, 1, 1, 1, 1, 1, 1, 1, 1, 1, 1, 1, 1, 1, 1, 1, 1, 1, 1, 1, 1, 1, 1, 1, 1, 1, 1, 1, 1, 1, 1, 1, 1, 1, 1, 1, 1, 1, 1, 1, 1, 1, 1, 1, 1, 1, 1, 1, 1, 1, 1, 1, 1, 1, 1, 1, 1, 1, 1, 1, 1, 1, 1, 1, 1, 1, 1, 1, 1], [1, 1, 1, 1, 1], [1, 1, 1, 1], [1, 1, 1, 1, 1, 1, 1, 1, 1, 1, 1, 1, 1, 1, 1, 1, 1, 1, 1, 1, 1, 1, 1, 1, 1, 1, 1, 1, 1, 1, 1, 1, 1, 1, 1, 1, 1, 1, 1, 1, 1, 1, 1, 1, 1, 1, 1, 1, 1, 1, 1, 1, 1, 1, 1, 1, 1, 1, 1, 1, 1, 1, 1, 1, 1, 1], [1, 1, 1, 1, 1, 1, 1, 1, 1, 1], [1, 1], [1, 1, 1, 1], [1, 1, 1, 1, 1, 1, 1], [1, 1, 1, 1, 1, 1, 1, 1, 1], [1, 1, 1, 1, 1, 1, 1, 1], [1, 1, 1, 1, 1, 1, 1, 1, 1, 1, 1, 1, 1, 1, 1, 1, 1, 1, 1, 1, 1, 1, 1, 1, 1, 1, 1, 1, 1, 1, 1, 1, 1, 1, 1, 1, 1, 1, 1, 1, 1, 1, 1, 1, 1, 1, 1, 1, 1, 1, 1, 1, 1, 1, 1, 1, 1, 1, 1, 1, 1, 1], [1, 1, 1, 1, 1, 1, 1, 1, 1, 1, 1, 1], [1, 1, 1, 1, 1, 1, 1, 1, 1, 1, 1, 1, 1, 1, 1, 1, 1, 1], [1, 1, 1, 1, 1, 1, 1, 1, 1, 1, 1], [1, 1, 1, 1, 1, 1, 1, 1, 1], [1, 1, 1, 1, 1, 1], [1, 1, 1, 1, 1, 1, 1, 1, 1, 1, 1, 1, 1, 1, 1, 1, 1, 1, 1, 1, 1, 1, 1, 1, 1, 1, 1, 1, 1, 1, 1, 1, 1, 1, 1, 1, 1, 1, 1, 1, 1, 1, 1, 1, 1, 1, 1, 1, 1, 1, 1], [1, 1, 1, 1, 1, 1, 1, 1, 1, 1, 1, 1, 1, 1, 1, 1, 1, 1, 1, 1, 1, 1, 1], [1, 1, 1, 1, 1, 1, 1, 1, 1, 1, 1], [1, 1, 1, 1, 1, 1, 1], [1, 1, 1, 1], [1, 1, 1], [1, 1, 1, 1, 1, 1, 1, 1, 1, 1, 1, 1, 1, 1, 1, 1, 1, 1, 1, 1, 1, 1, 1, 1, 1, 1, 1, 1, 1, 1, 1, 1, 1, 1, 1, 1, 1, 1, 1, 1, 1, 1, 1, 1, 1, 1, 1, 1, 1, 1, 1, 1, 1, 1, 1, 1, 1, 1, 1], [1, 1, 1, 1, 1], [1, 1, 1, 1, 1], [1, 1, 1, 1, 1, 1, 1, 1, 1, 1, 1, 1], [1, 1, 1, 1, 1, 1, 1, 1, 1, 1, 1, 1, 1, 1, 1, 1, 1, 1, 1, 1, 1, 1, 1], [1, 1, 1], [1, 1, 1, 1], [1, 1, 1, 1, 1, 1, 1, 1, 1, 1, 1, 1, 1, 1, 1], [1, 1, 1, 1, 1, 1, 1, 1, 1, 1, 1, 1, 1], [1, 1, 1, 1], [1, 1, 1, 1, 1, 1, 1, 1], [1, 1, 1, 1, 1, 1, 1, 1, 1, 1, 1, 1, 1, 1, 1, 1, 1, 1, 1, 1, 1, 1, 1, 1, 1, 1, 1, 1, 1, 1, 1, 1, 1, 1, 1, 1, 1, 1, 1, 1, 1, 1, 1, 1, 1, 1, 1, 1, 1, 1, 1, 1, 1, 1, 1, 1, 1, 1, 1], [1, 1, 1, 1, 1, 1, 1, 1, 1], [1, 1, 1, 1, 1, 1, 1, 1, 1, 1, 1], [1, 1, 1, 1, 1, 1, 1, 1], [1, 1, 1, 1, 1, 1, 1, 1, 1, 1, 1, 1, 1, 1, 1, 1, 1, 1, 1], [1, 1, 1, 1, 1, 1], [1, 1, 1, 1, 1, 1, 1, 1, 1], [1, 1, 1, 1, 1], [1, 1, 1, 1, 1, 1, 1, 1, 1, 1, 1, 1, 1, 1], [1, 1, 1, 1, 1, 1, 1, 1, 1], [1, 1, 1, 1, 1, 1, 1], [1, 1, 1, 1, 1, 1, 1, 1, 1, 1, 1], [1, 1, 1, 1, 1], [1, 1, 1, 1, 1, 1, 1, 1, 1, 1], [1, 1, 1], [1, 1, 1, 1, 1, 1, 1, 1], [1, 1, 1, 1, 1, 1, 1, 1, 1], [1, 1, 1, 1, 1, 1, 1, 1, 1, 1, 1, 1, 1, 1, 1, 1, 1, 1, 1, 1], [1, 1, 1, 1, 1], [1, 1, 1, 1, 1, 1], [1, 1, 1, 1, 1, 1, 1, 1, 1, 1, 1, 1, 1, 1, 1, 1, 1, 1, 1], [1, 1, 1, 1, 1, 1, 1, 1, 1, 1, 1, 1, 1, 1, 1, 1, 1, 1, 1, 1, 1, 1, 1, 1, 1, 1, 1, 1, 1, 1, 1, 1, 1, 1, 1, 1, 1, 1, 1, 1, 1, 1, 1, 1, 1, 1, 1, 1, 1, 1, 1, 1, 1, 1, 1, 1, 1, 1, 1, 1, 1, 1, 1, 1, 1, 1, 1, 1, 1, 1, 1, 1, 1, 1, 1, 1, 1, 1, 1, 1, 1, 1, 1, 1, 1, 1, 1, 1, 1, 1, 1, 1, 1, 1, 1, 1, 1, 1, 1, 1, 1, 1, 1, 1], [1, 1, 1, 1, 1, 1], [1, 1, 1, 1, 1, 1, 1, 1, 1, 1, 1, 1, 1, 1, 1, 1, 1, 1, 1, 1, 1, 1, 1, 1, 1, 1, 1, 1, 1, 1, 1, 1, 1, 1, 1, 1, 1, 1, 1, 1, 1, 1, 1, 1, 1, 1, 1, 1, 1, 1, 1, 1, 1, 1, 1, 1, 1, 1, 1, 1, 1, 1, 1, 1, 1, 1, 1, 1, 1, 1, 1, 1, 1, 1, 1, 1, 1, 1, 1, 1, 1, 1, 1, 1], [1, 1, 1, 1, 1, 1, 1, 1, 1], [1, 1, 1, 1], [1, 1, 1, 1, 1, 1, 1, 1, 1, 1, 1], [1, 1, 1, 1, 1, 1, 1, 1, 1, 1, 1, 1, 1, 1], [1, 1, 1, 1, 1, 1, 1, 1], [1, 1, 1, 1, 1, 1, 1], [1, 1, 1, 1, 1, 1, 1, 1, 1, 1], [1, 1], [1, 1, 1], [1, 1, 1, 1, 1, 1], [1, 1, 1, 1, 1, 1, 1, 1, 1, 1, 1, 1, 1, 1], [1, 1, 1, 1, 1, 1, 1, 1, 1, 1, 1, 1, 1, 1, 1, 1, 1, 1, 1, 1, 1, 1, 1, 1], [1, 1, 1, 1, 1, 1, 1, 1, 1, 1, 1, 1, 1, 1, 1, 1, 1, 1, 1, 1, 1, 1, 1, 1, 1, 1, 1, 1, 1, 1, 1, 1, 1, 1, 1, 1, 1, 1, 1, 1, 1], [1, 1, 1, 1, 1, 1, 1], [1, 1, 1, 1, 1, 1, 1, 1, 1, 1, 1, 1, 1, 1, 1, 1, 1, 1, 1, 1, 1, 1, 1, 1, 1, 1, 1, 1, 1, 1, 1, 1, 1, 1, 1, 1, 1, 1, 1, 1, 1, 1, 1, 1, 1, 1, 1, 1, 1, 1, 1, 1, 1, 1, 1, 1, 1, 1, 1, 1, 1, 1, 1, 1, 1, 1, 1, 1, 1, 1, 1, 1, 1, 1, 1, 1, 1, 1, 1, 1, 1, 1, 1, 1, 1, 1, 1, 1, 1, 1, 1, 1, 1, 1, 1, 1, 1, 1, 1], [1, 1, 1, 1, 1, 1, 1, 1, 1, 1, 1], [1, 1, 1, 1, 1, 1, 1, 1, 1, 1], [1, 1, 1, 1, 1, 1, 1, 1, 1, 1, 1, 1, 1, 1, 1, 1, 1, 1, 1, 1, 1, 1], [1, 1], [1, 1, 1, 1, 1, 1, 1, 1, 1, 1, 1, 1, 1, 1, 1, 1, 1, 1, 1, 1, 1, 1, 1, 1, 1, 1, 1, 1, 1, 1, 1, 1], [1, 1, 1, 1, 1, 1, 1, 1, 1, 1], [1, 1, 1, 1, 1], [1, 1, 1, 1, 1, 1, 1, 1, 1, 1, 1, 1, 1, 1, 1, 1, 1, 1, 1, 1, 1, 1, 1, 1, 1, 1], [1, 1, 1, 1, 1, 1], [1, 1, 1, 1, 1, 1, 1, 1, 1, 1, 1, 1, 1, 1, 1, 1, 1, 1, 1, 1, 1], [1, 1, 1, 1, 1, 1, 1, 1, 1, 1, 1, 1, 1, 1, 1, 1, 1, 1, 1, 1, 1, 1, 1, 1, 1, 1, 1, 1], [1, 1, 1], [1, 1, 1], [1, 1, 1], [1, 1, 1, 1, 1], [1, 1, 1], [1, 1, 1, 1, 1], [1, 1, 1, 1, 1, 1, 1, 1, 1, 1, 1, 1, 1, 1, 1, 1, 1, 1, 1, 1, 1, 1, 1, 1, 1, 1, 1, 1, 1, 1, 1, 1, 1, 1, 1, 1, 1, 1, 1, 1, 1, 1, 1, 1, 1, 1, 1, 1, 1, 1, 1, 1, 1, 1, 1, 1, 1, 1, 1, 1, 1, 1, 1, 1, 1, 1, 1, 1, 1, 1, 1, 1, 1, 1, 1, 1, 1, 1, 1, 1], [1, 1, 1, 1, 1, 1, 1], [1, 1, 1, 1], [1, 1, 1, 1, 1, 1, 1, 1, 1, 1, 1, 1, 1], [1, 1, 1, 1, 1, 1, 1, 1, 1, 1, 1, 1, 1, 1, 1, 1, 1, 1, 1, 1, 1, 1, 1, 1, 1, 1, 1, 1, 1, 1, 1, 1, 1, 1, 1, 1, 1, 1, 1, 1, 1, 1, 1, 1, 1], [1, 1, 1, 1, 1, 1, 1, 1, 1, 1, 1, 1, 1, 1], [1, 1, 1, 1, 1, 1, 1, 1, 1, 1, 1, 1, 1, 1, 1, 1, 1, 1, 1, 1, 1, 1], [1, 1, 1, 1, 1], [1, 1, 1, 1, 1, 1, 1, 1, 1, 1, 1, 1, 1, 1, 1, 1, 1, 1, 1, 1, 1, 1, 1, 1], [1, 1, 1, 1, 1], [1, 1, 1, 1, 1, 1, 1, 1, 1, 1, 1, 1, 1, 1, 1, 1, 1, 1, 1, 1, 1, 1, 1, 1, 1, 1, 1], [1, 1, 1, 1, 1, 1, 1, 1], [1, 1, 1, 1, 1, 1, 1, 1, 1, 1, 1, 1, 1, 1, 1, 1, 1, 1, 1, 1, 1], [1, 1], [1, 1], [1, 1, 1], [1, 1, 1, 1, 1, 1, 1, 1, 1, 1, 1, 1, 1, 1, 1], [1, 1, 1, 1, 1], [1, 1, 1, 1, 1, 1, 1, 1, 1, 1, 1, 1, 1, 1, 1, 1, 1, 1, 1, 1, 1, 1, 1, 1, 1, 1, 1, 1, 1, 1, 1, 1, 1, 1, 1, 1, 1, 1, 1, 1, 1, 1, 1, 1, 1, 1, 1, 1, 1, 1, 1, 1, 1, 1, 1, 1, 1, 1, 1, 1, 1, 1, 1, 1, 1, 1, 1, 1, 1, 1, 1, 1, 1, 1, 1, 1, 1, 1, 1, 1, 1, 1, 1, 1, 1, 1, 1, 1, 1, 1, 1, 1, 1, 1, 1, 1, 1, 1, 1, 1, 1, 1, 1, 1, 1, 1, 1, 1, 1, 1, 1, 1, 1, 1, 1, 1, 1, 1, 1, 1, 1, 1, 1, 1, 1, 1, 1, 1], [1, 1, 1, 1], [1, 1, 1, 1], [1, 1, 1, 1, 1, 1, 1, 1, 1, 1, 1, 1, 1, 1, 1], [1, 1, 1, 1], [1, 1, 1, 1, 1, 1, 1, 1, 1, 1], [1, 1, 1, 1, 1, 1, 1, 1, 1, 1, 1, 1, 1, 1, 1], [1, 1, 1, 1, 1, 1, 1], [1, 1, 1, 1, 1, 1, 1, 1, 1, 1, 1, 1, 1, 1, 1, 1, 1, 1, 1, 1, 1, 1, 1, 1, 1, 1], [1, 1, 1, 1, 1, 1, 1, 1, 1, 1, 1, 1], [1, 1, 1, 1, 1, 1, 1, 1, 1, 1], [1, 1, 1, 1, 1, 1, 1, 1, 1], [1, 1, 1, 1, 1], [1, 1, 1, 1, 1, 1, 1, 1, 1, 1, 1, 1, 1, 1, 1, 1, 1, 1, 1, 1, 1, 1, 1, 1, 1, 1, 1, 1, 1, 1, 1, 1, 1, 1, 1, 1, 1, 1, 1, 1, 1, 1, 1, 1, 1, 1, 1, 1, 1, 1, 1, 1, 1, 1, 1, 1, 1, 1, 1, 1, 1, 1, 1, 1], [1, 1, 1, 1, 1, 1], [1, 1, 1, 1, 1, 1, 1, 1, 1, 1, 1, 1, 1, 1], [1, 1, 1, 1], [1, 1], [1, 1, 1, 1, 1, 1], [1, 1, 1], [1, 1, 1, 1, 1, 1, 1, 1, 1, 1, 1, 1, 1, 1, 1, 1, 1, 1, 1, 1, 1, 1, 1, 1, 1, 1, 1, 1, 1, 1, 1, 1, 1, 1, 1, 1, 1], [1, 1, 1, 1, 1, 1, 1, 1, 1], [1, 1, 1, 1, 1], [1, 1, 1, 1, 1, 1, 1, 1, 1, 1, 1], [1, 1, 1, 1, 1], [1, 1, 1, 1, 1, 1, 1, 1, 1, 1, 1, 1, 1], [1, 1], [1, 1], [1, 1, 1, 1, 1, 1, 1, 1, 1, 1, 1, 1, 1, 1], [1, 1, 1, 1, 1, 1, 1, 1, 1, 1, 1, 1], [1, 1], [1, 1, 1, 1], [1, 1, 1, 1, 1, 1, 1, 1], [1, 1, 1, 1, 1], [1, 1, 1, 1, 1, 1, 1, 1, 1, 1, 1, 1], [1, 1, 1, 1, 1, 1], [1, 1, 1, 1, 1, 1, 1], [1, 1, 1, 1, 1, 1, 1, 1, 1, 1, 1, 1, 1, 1, 1, 1, 1, 1, 1, 1], [1, 1, 1, 1], [1, 1, 1, 1, 1, 1, 1, 1, 1, 1, 1, 1, 1, 1, 1, 1, 1, 1, 1, 1, 1, 1, 1, 1, 1, 1, 1, 1, 1, 1, 1, 1, 1, 1, 1, 1, 1, 1], [1, 1, 1, 1, 1, 1, 1, 1, 1, 1, 1, 1, 1, 1, 1, 1, 1, 1, 1, 1, 1, 1, 1, 1, 1, 1, 1, 1, 1, 1, 1, 1, 1, 1, 1, 1, 1, 1, 1, 1, 1, 1, 1, 1, 1, 1], [1, 1, 1, 1, 1, 1, 1, 1, 1, 1, 1], [1, 1, 1, 1, 1, 1, 1, 1, 1, 1, 1, 1, 1, 1, 1, 1, 1, 1, 1, 1, 1, 1, 1, 1, 1, 1, 1, 1, 1, 1, 1, 1, 1, 1, 1], [1, 1, 1, 1, 1, 1, 1, 1, 1, 1, 1, 1, 1, 1, 1, 1, 1, 1, 1, 1, 1, 1, 1], [1, 1, 1, 1, 1, 1, 1, 1, 1, 1, 1, 1, 1, 1, 1, 1, 1, 1, 1, 1, 1, 1, 1, 1, 1, 1, 1], [1, 1, 1, 1, 1], [1, 1], [1, 1, 1, 1], [1, 1, 1, 1, 1], [1, 1, 1, 1, 1, 1, 1], [1, 1, 1, 1, 1, 1, 1], [1, 1, 1, 1, 1, 1, 1, 1, 1, 1, 1, 1, 1], [1, 1, 1, 1, 1, 1, 1, 1, 1, 1, 1], [1, 1, 1], [1, 1, 1, 1, 1, 1, 1, 1, 1, 1, 1, 1, 1, 1, 1, 1, 1, 1, 1, 1, 1, 1, 1, 1, 1, 1, 1, 1, 1, 1, 1, 1], [1, 1], [1, 1, 1, 1, 1, 1, 1, 1, 1, 1, 1, 1, 1, 1, 1, 1, 1, 1, 1, 1, 1], [1, 1, 1, 1, 1, 1, 1], [1, 1, 1, 1, 1, 1, 1, 1, 1, 1, 1, 1, 1, 1], [1, 1, 1, 1, 1, 1, 1, 1, 1, 1], [1, 1], [1, 1, 1, 1, 1, 1, 1, 1, 1, 1, 1, 1], [1, 1, 1], [1, 1, 1, 1], [1, 1, 1, 1, 1, 1, 1, 1], [1, 1, 1], [1, 1, 1, 1, 1, 1, 1, 1, 1, 1, 1, 1, 1, 1, 1, 1, 1, 1], [1, 1, 1, 1, 1, 1, 1, 1, 1, 1, 1, 1, 1, 1, 1, 1, 1], [1, 1, 1, 1, 1, 1, 1, 1, 1, 1, 1, 1, 1, 1, 1, 1, 1, 1, 1, 1, 1, 1, 1, 1, 1, 1, 1, 1, 1, 1, 1, 1, 1, 1, 1, 1, 1, 1, 1, 1, 1, 1, 1, 1, 1, 1, 1, 1, 1, 1, 1, 1, 1, 1], [1, 1, 1, 1, 1, 1, 1, 1, 1, 1, 1, 1, 1, 1, 1, 1, 1, 1, 1, 1, 1, 1, 1, 1, 1, 1, 1, 1, 1, 1, 1, 1, 1, 1, 1, 1, 1, 1, 1, 1, 1, 1, 1, 1, 1, 1, 1, 1, 1, 1, 1, 1, 1, 1, 1, 1, 1, 1, 1, 1, 1, 1, 1, 1, 1], [1, 1, 1, 1, 1, 1, 1, 1, 1, 1, 1, 1, 1, 1, 1], [1, 1, 1, 1, 1, 1, 1, 1, 1, 1, 1, 1, 1, 1, 1, 1, 1, 1, 1, 1, 1, 1, 1, 1, 1, 1, 1, 1, 1, 1, 1, 1, 1, 1, 1, 1], [1, 1, 1, 1, 1, 1, 1], [1, 1, 1, 1], [1, 1, 1, 1, 1, 1, 1, 1, 1, 1, 1, 1, 1, 1, 1, 1, 1, 1, 1], [1, 1, 1, 1, 1, 1, 1, 1], [1, 1, 1, 1, 1], [1, 1, 1, 1], [1, 1, 1, 1], [1, 1, 1, 1, 1, 1, 1], [1, 1, 1, 1], [1, 1], [1, 1, 1, 1, 1, 1, 1, 1, 1], [1, 1, 1, 1, 1, 1, 1, 1], [1, 1, 1, 1, 1, 1, 1, 1, 1, 1, 1, 1, 1, 1, 1, 1, 1], [1, 1, 1, 1, 1, 1, 1, 1], [1, 1, 1, 1, 1, 1], [1, 1, 1, 1, 1, 1], [1, 1, 1, 1, 1, 1, 1], [1, 1, 1, 1, 1, 1, 1], [1, 1, 1, 1], [1, 1, 1, 1, 1, 1, 1], [1, 1, 1, 1, 1, 1, 1, 1, 1, 1, 1, 1, 1, 1], [1, 1, 1, 1, 1, 1, 1, 1, 1, 1, 1, 1, 1, 1, 1, 1, 1, 1, 1, 1, 1, 1, 1, 1, 1, 1, 1, 1, 1, 1, 1, 1, 1, 1, 1, 1, 1, 1, 1, 1, 1, 1, 1, 1, 1, 1, 1, 1, 1, 1, 1], [1, 1], [1, 1, 1, 1], [1, 1], [1, 1, 1, 1, 1, 1, 1, 1, 1, 1, 1, 1], [1, 1, 1, 1, 1, 1, 1], [1, 1, 1, 1, 1, 1, 1, 1, 1, 1, 1, 1, 1, 1, 1, 1, 1, 1], [1, 1, 1, 1, 1, 1, 1], [1, 1, 1, 1, 1, 1, 1], [1, 1, 1], [1, 1], [1, 1], [1, 1, 1, 1, 1, 1, 1, 1, 1, 1, 1, 1, 1, 1, 1], [1, 1, 1, 1, 1], [1, 1, 1, 1, 1, 1], [1, 1, 1, 1, 1, 1, 1, 1, 1, 1, 1, 1, 1, 1, 1, 1], [1, 1, 1, 1, 1, 1, 1, 1, 1, 1, 1, 1, 1], [1, 1], [1, 1, 1, 1, 1, 1, 1, 1, 1, 1, 1], [1, 1], [1, 1, 1, 1, 1, 1, 1], [1, 1, 1, 1, 1, 1, 1, 1, 1, 1, 1, 1, 1, 1, 1, 1, 1, 1, 1, 1, 1, 1, 1, 1, 1, 1, 1, 1, 1, 1, 1, 1, 1, 1, 1, 1, 1, 1, 1, 1, 1, 1, 1, 1, 1, 1, 1, 1, 1, 1, 1, 1, 1, 1, 1, 1, 1, 1, 1, 1, 1, 1, 1, 1, 1, 1, 1, 1, 1, 1, 1, 1, 1, 1, 1, 1, 1, 1, 1, 1, 1, 1, 1, 1, 1, 1, 1, 1, 1, 1, 1, 1], [1, 1, 1, 1, 1, 1, 1], [1, 1], [1, 1, 1, 1], [1, 1, 1, 1, 1, 1, 1, 1, 1, 1], [1, 1, 1, 1, 1, 1, 1, 1, 1, 1, 1, 1, 1, 1], [1, 1, 1, 1], [1, 1, 1, 1], [1, 1, 1, 1, 1, 1, 1, 1, 1, 1, 1, 1, 1, 1, 1, 1, 1, 1, 1, 1, 1, 1, 1, 1, 1, 1, 1, 1, 1, 1, 1], [1, 1, 1, 1, 1, 1, 1, 1, 1, 1], [1, 1, 1, 1, 1, 1, 1, 1, 1, 1, 1], [1, 1, 1, 1, 1], [1, 1, 1, 1, 1, 1, 1, 1, 1, 1], [1, 1, 1, 1, 1, 1, 1, 1, 1, 1], [1, 1, 1, 1, 1, 1], [1, 1, 1, 1, 1, 1, 1, 1, 1, 1, 1, 1, 1, 1, 1, 1, 1, 1, 1, 1], [1, 1, 1, 1, 1, 1, 1, 1, 1, 1, 1, 1, 1, 1], [1, 1, 1, 1], [1, 1, 1], [1, 1, 1, 1, 1, 1, 1, 1, 1, 1, 1, 1, 1, 1, 1], [1, 1, 1, 1, 1, 1], [1, 1, 1, 1, 1, 1], [1, 1, 1, 1, 1, 1, 1, 1, 1, 1, 1, 1, 1, 1, 1, 1, 1, 1, 1, 1, 1, 1, 1, 1, 1, 1, 1, 1, 1], [1, 1, 1, 1, 1], [1, 1, 1, 1, 1, 1, 1, 1, 1], [1, 1, 1, 1, 1, 1, 1], [1, 1, 1, 1, 1], [1, 1, 1, 1, 1, 1, 1, 1, 1, 1, 1, 1, 1, 1, 1, 1], [1, 1], [1, 1, 1, 1, 1, 1, 1, 1], [1, 1, 1, 1, 1, 1, 1, 1, 1, 1, 1, 1, 1, 1, 1], [1, 1, 1, 1, 1, 1, 1, 1, 1, 1, 1, 1, 1, 1, 1, 1, 1, 1, 1, 1, 1, 1, 1, 1, 1, 1, 1, 1, 1, 1, 1, 1, 1, 1, 1, 1, 1], [1, 1, 1, 1, 1, 1, 1, 1, 1], [1, 1, 1, 1, 1, 1], [1, 1, 1, 1, 1, 1, 1, 1, 1], [1, 1, 1, 1], [1, 1, 1, 1, 1, 1, 1, 1, 1, 1, 1, 1, 1, 1, 1, 1, 1, 1, 1, 1, 1, 1, 1, 1, 1, 1, 1, 1, 1, 1, 1, 1, 1, 1, 1, 1, 1, 1, 1, 1, 1, 1, 1, 1, 1, 1, 1, 1, 1, 1, 1, 1, 1, 1, 1, 1, 1], [1, 1, 1, 1, 1, 1, 1, 1], [1, 1, 1], [1, 1, 1, 1], [1, 1, 1, 1, 1, 1, 1, 1, 1, 1, 1, 1, 1, 1, 1, 1, 1, 1, 1, 1, 1, 1], [1, 1, 1, 1, 1, 1, 1, 1, 1, 1, 1, 1, 1], [1, 1, 1, 1, 1, 1, 1, 1, 1], [1, 1, 1, 1, 1, 1], [1, 1, 1, 1, 1, 1, 1, 1, 1], [1, 1, 1, 1], [1, 1, 1, 1, 1, 1, 1, 1, 1, 1, 1, 1, 1, 1, 1, 1, 1, 1, 1, 1, 1, 1, 1, 1, 1, 1, 1, 1, 1, 1, 1], [1, 1, 1, 1, 1, 1, 1], [1, 1, 1, 1, 1, 1, 1, 1, 1, 1, 1, 1, 1, 1, 1, 1, 1, 1, 1, 1, 1, 1, 1, 1, 1, 1, 1, 1, 1, 1, 1, 1, 1, 1, 1], [1, 1, 1, 1, 1, 1, 1, 1, 1, 1, 1, 1, 1, 1, 1, 1, 1], [1, 1, 1, 1, 1, 1, 1, 1, 1, 1], [1, 1, 1, 1, 1, 1, 1, 1, 1, 1, 1], [1, 1, 1, 1, 1, 1, 1, 1, 1, 1, 1, 1, 1, 1, 1, 1, 1, 1, 1, 1, 1], [1, 1, 1, 1, 1, 1, 1, 1, 1, 1, 1, 1, 1, 1, 1, 1, 1, 1, 1, 1, 1, 1, 1, 1, 1, 1, 1, 1, 1, 1, 1, 1, 1, 1, 1, 1, 1, 1, 1, 1, 1], [1, 1, 1, 1, 1, 1, 1], [1, 1, 1, 1, 1, 1, 1, 1, 1], [1, 1, 1, 1, 1, 1, 1, 1, 1, 1, 1, 1, 1, 1, 1, 1, 1, 1, 1, 1, 1], [1, 1, 1], [1, 1, 1, 1, 1, 1, 1, 1], [1, 1, 1, 1], [1, 1, 1, 1], [1, 1, 1, 1, 1, 1, 1], [1, 1, 1, 1, 1, 1, 1, 1, 1], [1, 1, 1, 1, 1, 1, 1, 1], [1, 1, 1, 1, 1, 1, 1, 1, 1, 1, 1, 1, 1, 1, 1, 1, 1, 1, 1, 1, 1, 1, 1, 1, 1, 1, 1, 1, 1, 1, 1, 1, 1, 1, 1, 1, 1, 1, 1, 1, 1, 1, 1, 1, 1, 1, 1, 1, 1, 1, 1, 1, 1, 1, 1, 1, 1, 1, 1, 1, 1, 1, 1, 1, 1, 1, 1, 1, 1, 1, 1, 1, 1, 1, 1, 1, 1, 1, 1, 1, 1, 1, 1, 1, 1, 1, 1, 1, 1, 1, 1, 1, 1, 1, 1, 1, 1, 1, 1, 1, 1, 1, 1, 1, 1, 1, 1, 1, 1, 1, 1, 1, 1, 1, 1, 1, 1, 1, 1, 1, 1, 1, 1, 1, 1, 1, 1, 1], [1, 1, 1, 1, 1, 1], [1, 1], [1, 1, 1, 1, 1, 1, 1, 1, 1, 1, 1, 1, 1, 1, 1, 1, 1, 1, 1, 1, 1, 1, 1, 1, 1, 1, 1], [1, 1, 1, 1, 1, 1, 1, 1, 1, 1, 1, 1, 1, 1, 1, 1, 1, 1, 1, 1, 1, 1, 1, 1, 1, 1, 1, 1, 1, 1, 1, 1, 1, 1, 1, 1, 1, 1, 1, 1, 1, 1, 1, 1, 1, 1, 1, 1, 1, 1, 1, 1, 1, 1, 1, 1, 1, 1, 1], [1, 1, 1, 1, 1, 1, 1, 1, 1, 1], [1, 1, 1, 1, 1, 1, 1, 1, 1, 1, 1, 1, 1, 1, 1], [1, 1, 1, 1, 1, 1, 1, 1, 1], [1, 1, 1, 1, 1, 1, 1, 1, 1, 1, 1, 1, 1, 1, 1, 1, 1, 1, 1], [1, 1, 1, 1, 1, 1, 1, 1, 1, 1, 1, 1, 1, 1, 1, 1, 1, 1, 1, 1, 1, 1, 1, 1, 1], [1, 1, 1, 1, 1, 1, 1, 1, 1, 1, 1, 1, 1, 1, 1, 1, 1, 1, 1, 1], [1, 1, 1, 1, 1, 1, 1, 1, 1], [1, 1, 1, 1, 1, 1, 1, 1, 1, 1, 1, 1, 1, 1, 1, 1, 1, 1, 1, 1, 1, 1, 1, 1, 1, 1, 1, 1, 1, 1, 1, 1, 1, 1, 1, 1, 1, 1, 1], [1, 1, 1, 1, 1, 1, 1, 1, 1, 1, 1, 1, 1, 1, 1, 1, 1, 1], [1, 1, 1, 1, 1, 1, 1, 1, 1, 1, 1, 1, 1, 1, 1, 1, 1, 1, 1, 1, 1, 1, 1, 1, 1, 1, 1, 1, 1, 1, 1, 1, 1, 1, 1, 1], [1, 1, 1, 1, 1, 1, 1, 1, 1, 1, 1, 1, 1, 1, 1, 1, 1, 1, 1, 1, 1, 1, 1, 1, 1, 1], [1, 1, 1, 1, 1, 1, 1, 1, 1, 1, 1], [1, 1, 1, 1, 1, 1, 1, 1, 1, 1, 1, 1, 1, 1, 1, 1, 1, 1, 1, 1, 1, 1, 1, 1, 1, 1, 1, 1, 1, 1, 1, 1, 1, 1, 1, 1, 1, 1, 1, 1, 1, 1, 1, 1, 1, 1, 1, 1, 1, 1, 1, 1, 1, 1, 1, 1, 1, 1, 1, 1, 1, 1, 1, 1, 1, 1, 1, 1, 1, 1, 1, 1, 1, 1, 1, 1, 1, 1, 1, 1, 1, 1, 1, 1, 1, 1, 1, 1, 1, 1, 1, 1, 1, 1, 1, 1, 1, 1, 1, 1, 1, 1, 1, 1, 1, 1, 1, 1, 1, 1, 1, 1, 1, 1, 1, 1, 1, 1, 1, 1, 1, 1, 1, 1, 1, 1, 1, 1], [1, 1, 1, 1, 1, 1, 1, 1, 1, 1, 1, 1, 1, 1, 1, 1, 1, 1, 1, 1, 1, 1, 1, 1, 1, 1, 1, 1], [1, 1, 1, 1, 1, 1, 1, 1, 1, 1, 1, 1, 1, 1, 1, 1, 1, 1, 1, 1, 1, 1, 1, 1, 1, 1, 1, 1, 1, 1, 1, 1, 1, 1, 1, 1, 1, 1, 1, 1, 1, 1, 1, 1, 1, 1, 1, 1, 1, 1, 1, 1, 1, 1, 1, 1, 1, 1, 1, 1, 1, 1, 1, 1, 1, 1, 1, 1, 1, 1, 1, 1, 1, 1, 1, 1, 1, 1, 1, 1, 1, 1, 1, 1, 1, 1, 1, 1, 1, 1, 1, 1, 1, 1, 1, 1, 1, 1, 1, 1, 1, 1, 1, 1, 1, 1, 1, 1, 1, 1, 1, 1, 1], [1, 1, 1, 1, 1, 1, 1, 1, 1, 1, 1, 1, 1, 1], [1, 1, 1, 1, 1, 1, 1], [1, 1, 1, 1, 1], [1, 1, 1, 1, 1, 1], [1, 1, 1, 1, 1, 1, 1, 1, 1, 1, 1, 1, 1, 1, 1, 1, 1, 1, 1, 1], [1, 1, 1, 1], [1, 1, 1, 1, 1, 1, 1, 1], [1, 1, 1, 1, 1, 1, 1, 1], [1, 1, 1, 1, 1, 1, 1, 1, 1, 1, 1, 1, 1, 1, 1, 1, 1, 1, 1, 1, 1, 1, 1, 1, 1, 1, 1, 1, 1, 1, 1, 1, 1, 1, 1, 1, 1, 1], [1, 1, 1, 1, 1, 1, 1, 1, 1, 1, 1, 1, 1, 1, 1, 1, 1, 1, 1, 1, 1], [1, 1, 1, 1, 1, 1], [1, 1, 1, 1, 1, 1, 1, 1, 1, 1], [1, 1, 1, 1, 1, 1, 1, 1, 1, 1, 1, 1, 1, 1, 1, 1, 1, 1, 1, 1, 1, 1, 1, 1, 1, 1, 1, 1, 1, 1, 1, 1, 1, 1, 1, 1, 1, 1, 1, 1, 1, 1, 1, 1, 1, 1, 1, 1, 1, 1, 1, 1, 1, 1, 1, 1, 1, 1, 1, 1, 1, 1, 1, 1, 1, 1, 1, 1, 1, 1, 1, 1, 1, 1, 1, 1, 1, 1, 1, 1, 1, 1, 1, 1, 1, 1, 1, 1, 1, 1, 1, 1, 1, 1, 1, 1, 1, 1, 1, 1, 1, 1, 1, 1, 1, 1, 1, 1, 1, 1, 1, 1, 1, 1, 1, 1, 1, 1, 1, 1, 1, 1, 1, 1, 1, 1, 1, 1], [1, 1, 1, 1, 1, 1, 1, 1, 1, 1, 1, 1, 1, 1, 1, 1, 1, 1, 1, 1, 1, 1, 1, 1, 1, 1, 1, 1, 1, 1, 1, 1, 1, 1, 1, 1, 1, 1, 1, 1, 1, 1, 1, 1, 1, 1, 1, 1, 1, 1, 1, 1, 1, 1, 1, 1, 1, 1, 1, 1, 1, 1, 1, 1, 1, 1, 1, 1, 1, 1, 1, 1, 1, 1, 1, 1, 1, 1, 1, 1, 1, 1, 1, 1, 1, 1, 1, 1, 1], [1, 1, 1, 1, 1, 1, 1, 1, 1], [1, 1, 1, 1, 1, 1], [1, 1, 1, 1, 1, 1, 1, 1, 1], [1, 1, 1, 1, 1, 1], [1, 1, 1, 1], [1, 1, 1, 1, 1, 1, 1, 1, 1, 1, 1, 1, 1, 1, 1, 1, 1, 1, 1, 1, 1], [1, 1, 1, 1, 1, 1], [1, 1, 1, 1, 1, 1, 1, 1, 1, 1, 1, 1, 1, 1, 1, 1, 1, 1, 1, 1, 1, 1, 1, 1], [1, 1, 1], [1, 1, 1, 1, 1, 1, 1, 1], [1, 1, 1, 1, 1, 1, 1, 1, 1, 1, 1, 1, 1, 1, 1, 1, 1, 1, 1, 1, 1, 1, 1, 1], [1, 1, 1, 1, 1, 1, 1, 1, 1, 1, 1, 1, 1, 1, 1, 1, 1, 1, 1, 1, 1, 1, 1, 1, 1, 1, 1, 1, 1, 1, 1, 1, 1, 1, 1, 1, 1], [1, 1, 1, 1, 1, 1, 1, 1, 1, 1, 1, 1, 1], [1, 1, 1, 1, 1, 1, 1], [1, 1, 1, 1, 1, 1, 1, 1, 1, 1, 1, 1, 1, 1, 1, 1, 1, 1, 1, 1, 1, 1], [1, 1, 1, 1, 1, 1, 1, 1, 1, 1, 1, 1, 1, 1, 1, 1, 1, 1, 1, 1, 1, 1, 1, 1, 1, 1, 1, 1, 1, 1, 1, 1, 1, 1, 1, 1, 1, 1, 1, 1, 1, 1, 1, 1, 1, 1, 1, 1, 1, 1, 1, 1, 1, 1, 1, 1, 1, 1, 1, 1, 1, 1, 1, 1, 1, 1, 1, 1, 1, 1, 1, 1, 1, 1, 1, 1, 1, 1, 1, 1, 1], [1, 1, 1, 1, 1, 1, 1, 1, 1, 1, 1, 1, 1, 1, 1, 1, 1, 1, 1, 1, 1, 1, 1, 1, 1, 1, 1, 1, 1, 1, 1, 1, 1, 1, 1, 1, 1, 1, 1, 1, 1, 1, 1, 1, 1, 1, 1, 1, 1, 1, 1, 1, 1, 1, 1, 1, 1, 1, 1, 1, 1, 1, 1, 1], [1, 1, 1, 1, 1, 1], [1, 1], [1, 1], [1, 1, 1, 1, 1, 1, 1], [1, 1, 1, 1, 1, 1, 1, 1, 1, 1, 1], [1, 1, 1, 1, 1, 1, 1, 1], [1, 1, 1, 1, 1, 1, 1, 1, 1], [1, 1, 1, 1, 1, 1, 1, 1, 1, 1], [1, 1, 1, 1, 1, 1, 1, 1, 1, 1, 1, 1, 1, 1, 1, 1, 1, 1, 1, 1, 1, 1, 1, 1, 1, 1, 1, 1, 1], [1, 1, 1, 1, 1, 1, 1, 1, 1, 1, 1, 1, 1, 1, 1, 1, 1, 1, 1, 1, 1, 1, 1, 1, 1, 1, 1, 1, 1, 1, 1, 1, 1, 1, 1, 1, 1, 1, 1, 1, 1, 1, 1, 1, 1, 1, 1, 1, 1, 1, 1, 1, 1, 1, 1, 1, 1, 1, 1, 1, 1, 1, 1, 1, 1, 1, 1, 1, 1, 1, 1, 1, 1, 1, 1, 1, 1, 1, 1, 1, 1, 1, 1, 1, 1, 1, 1, 1, 1, 1, 1, 1, 1, 1, 1, 1, 1, 1, 1], [1, 1, 1, 1, 1, 1, 1, 1, 1, 1], [1, 1, 1, 1, 1, 1, 1, 1, 1, 1, 1, 1, 1], [1, 1, 1, 1, 1, 1, 1, 1, 1, 1, 1, 1, 1, 1, 1, 1, 1, 1, 1, 1, 1, 1, 1, 1, 1, 1, 1, 1, 1, 1, 1, 1, 1, 1, 1, 1, 1, 1, 1, 1, 1, 1, 1, 1, 1, 1, 1, 1, 1, 1, 1, 1, 1, 1, 1, 1, 1, 1, 1, 1, 1, 1, 1, 1, 1, 1, 1, 1, 1, 1, 1, 1, 1, 1, 1, 1, 1, 1, 1, 1, 1, 1, 1, 1, 1, 1, 1, 1], [1, 1, 1, 1, 1, 1, 1, 1, 1, 1, 1, 1, 1, 1, 1, 1, 1, 1, 1, 1, 1, 1, 1, 1, 1, 1, 1, 1, 1, 1], [1, 1, 1, 1, 1, 1, 1, 1, 1, 1, 1, 1, 1], [1, 1, 1, 1, 1, 1, 1, 1, 1, 1, 1, 1], [1, 1, 1, 1, 1, 1, 1, 1], [1, 1, 1, 1, 1, 1, 1, 1, 1, 1, 1], [1, 1], [1, 1, 1, 1], [1, 1, 1, 1, 1, 1, 1, 1, 1, 1, 1, 1, 1, 1], [1, 1, 1, 1, 1, 1, 1, 1], [1, 1, 1, 1, 1, 1, 1, 1, 1, 1, 1], [1, 1, 1, 1, 1, 1, 1, 1, 1, 1], [1, 1, 1, 1, 1, 1, 1, 1, 1, 1, 1, 1, 1, 1], [1, 1, 1, 1, 1, 1, 1, 1, 1, 1], [1, 1, 1, 1, 1, 1, 1, 1, 1, 1, 1, 1, 1, 1, 1, 1, 1, 1], [1, 1, 1, 1, 1, 1, 1, 1, 1, 1, 1, 1, 1, 1], [1, 1, 1, 1, 1, 1, 1, 1, 1, 1, 1, 1, 1, 1, 1, 1, 1, 1, 1, 1, 1, 1, 1, 1, 1, 1, 1, 1, 1, 1, 1, 1, 1, 1, 1, 1, 1, 1, 1, 1, 1, 1, 1, 1, 1, 1, 1, 1, 1, 1, 1, 1, 1, 1, 1, 1, 1, 1], [1, 1, 1, 1, 1, 1, 1], [1, 1, 1, 1, 1, 1, 1, 1, 1, 1, 1, 1, 1, 1, 1, 1], [1, 1, 1, 1, 1], [1, 1, 1], [1, 1, 1, 1, 1, 1], [1, 1], [1, 1, 1, 1], [1, 1, 1, 1, 1, 1, 1, 1, 1, 1, 1, 1, 1], [1, 1, 1], [1, 1, 1, 1, 1, 1], [1, 1, 1, 1, 1, 1, 1, 1, 1, 1, 1, 1, 1, 1, 1, 1, 1, 1, 1, 1, 1, 1, 1, 1, 1, 1, 1, 1, 1, 1, 1, 1, 1, 1, 1], [1, 1, 1, 1], [1, 1, 1, 1, 1, 1, 1, 1, 1, 1], [1, 1, 1, 1, 1], [1, 1, 1, 1, 1, 1, 1, 1, 1, 1, 1, 1, 1, 1], [1, 1, 1, 1], [1, 1, 1, 1, 1, 1, 1, 1, 1], [1, 1, 1, 1, 1, 1, 1], [1, 1, 1, 1], [1, 1], [1, 1, 1, 1, 1, 1, 1, 1, 1, 1, 1, 1, 1, 1, 1, 1, 1, 1, 1, 1, 1, 1, 1, 1, 1, 1, 1, 1, 1, 1, 1, 1, 1, 1, 1, 1, 1, 1, 1, 1, 1, 1, 1, 1, 1, 1, 1, 1, 1, 1, 1, 1, 1, 1, 1, 1, 1, 1, 1, 1, 1, 1, 1, 1, 1, 1, 1, 1, 1, 1, 1, 1, 1, 1, 1, 1, 1, 1, 1, 1, 1, 1], [1, 1, 1, 1, 1, 1, 1, 1, 1, 1, 1, 1, 1, 1, 1, 1, 1, 1, 1, 1, 1, 1], [1, 1, 1, 1, 1], [1, 1, 1, 1, 1, 1, 1, 1, 1, 1, 1, 1, 1, 1, 1, 1, 1, 1, 1, 1, 1, 1, 1], [1, 1, 1, 1, 1, 1, 1, 1, 1, 1, 1, 1, 1, 1, 1, 1, 1], [1, 1, 1, 1, 1, 1, 1, 1, 1, 1, 1, 1, 1, 1, 1, 1, 1, 1, 1, 1, 1, 1, 1, 1, 1, 1, 1, 1, 1, 1, 1, 1, 1, 1, 1, 1, 1, 1, 1, 1, 1, 1, 1, 1, 1, 1, 1, 1, 1, 1, 1, 1, 1, 1, 1, 1, 1, 1, 1, 1, 1, 1, 1, 1, 1, 1, 1, 1, 1], [1, 1, 1, 1, 1, 1, 1, 1, 1], [1, 1, 1, 1, 1, 1, 1, 1, 1, 1, 1, 1, 1, 1, 1, 1, 1, 1, 1, 1, 1], [1, 1, 1, 1, 1, 1], [1, 1, 1, 1, 1, 1, 1, 1, 1, 1, 1, 1, 1, 1, 1, 1, 1, 1, 1, 1, 1, 1, 1, 1, 1, 1, 1, 1, 1, 1, 1, 1, 1, 1], [1, 1, 1, 1], [1, 1, 1, 1, 1, 1, 1, 1, 1, 1, 1, 1], [1, 1, 1, 1, 1], [1, 1, 1, 1, 1, 1, 1, 1, 1], [1, 1, 1, 1, 1, 1, 1, 1, 1, 1, 1, 1, 1, 1, 1, 1, 1, 1, 1, 1, 1, 1, 1, 1, 1, 1, 1, 1, 1, 1, 1, 1, 1, 1, 1, 1, 1, 1, 1, 1, 1, 1, 1, 1, 1, 1, 1, 1, 1, 1, 1, 1, 1, 1, 1, 1, 1, 1, 1, 1, 1, 1, 1, 1, 1, 1, 1, 1, 1, 1, 1, 1, 1, 1, 1, 1, 1, 1, 1, 1, 1, 1, 1, 1, 1, 1, 1, 1, 1, 1, 1, 1, 1, 1, 1, 1, 1, 1, 1, 1], [1, 1, 1], [1, 1], [1, 1, 1, 1, 1, 1, 1, 1, 1, 1, 1, 1, 1, 1, 1], [1, 1, 1, 1, 1, 1, 1, 1, 1, 1, 1, 1, 1, 1, 1, 1], [1, 1, 1, 1, 1, 1, 1, 1], [1, 1, 1, 1, 1, 1, 1, 1, 1, 1, 1, 1, 1, 1, 1, 1, 1, 1, 1, 1, 1, 1, 1, 1, 1, 1, 1, 1, 1, 1, 1, 1, 1, 1, 1, 1, 1, 1, 1, 1, 1, 1, 1, 1, 1, 1, 1, 1, 1, 1, 1, 1, 1, 1, 1, 1, 1, 1, 1, 1, 1, 1, 1, 1, 1, 1, 1, 1], [1, 1, 1, 1, 1, 1, 1, 1, 1, 1, 1, 1, 1, 1, 1, 1, 1, 1, 1, 1, 1], [1, 1, 1, 1, 1, 1, 1, 1, 1, 1, 1, 1, 1, 1, 1, 1, 1, 1, 1, 1, 1, 1, 1, 1, 1, 1, 1, 1, 1, 1, 1, 1, 1, 1, 1, 1, 1, 1, 1, 1], [1, 1, 1, 1], [1, 1, 1, 1, 1, 1, 1, 1, 1, 1], [1, 1, 1, 1, 1, 1, 1, 1, 1, 1, 1], [1, 1, 1, 1, 1, 1, 1, 1, 1, 1, 1, 1, 1, 1, 1, 1, 1, 1, 1, 1, 1, 1, 1, 1, 1, 1, 1, 1, 1, 1, 1, 1, 1, 1, 1, 1, 1, 1, 1, 1, 1, 1, 1, 1, 1, 1, 1, 1, 1, 1, 1, 1, 1, 1, 1, 1, 1], [1, 1, 1, 1], [1, 1, 1, 1, 1, 1, 1, 1, 1, 1, 1, 1, 1, 1], [1, 1, 1, 1, 1, 1, 1, 1, 1, 1, 1, 1], [1, 1, 1, 1, 1, 1, 1, 1, 1, 1, 1, 1, 1], [1, 1, 1, 1, 1, 1, 1, 1, 1, 1, 1], [1, 1, 1, 1], [1, 1, 1, 1, 1, 1, 1, 1, 1, 1, 1, 1, 1, 1], [1, 1, 1, 1, 1, 1, 1, 1, 1, 1, 1, 1, 1, 1, 1, 1, 1, 1, 1, 1, 1, 1, 1, 1, 1, 1, 1, 1, 1, 1, 1, 1, 1, 1, 1, 1, 1, 1, 1, 1, 1, 1, 1, 1, 1, 1, 1, 1], [1, 1, 1, 1, 1, 1, 1], [1, 1, 1, 1, 1, 1, 1, 1, 1, 1, 1, 1, 1, 1, 1, 1, 1, 1, 1, 1, 1, 1, 1, 1, 1, 1, 1, 1, 1, 1, 1, 1, 1, 1, 1, 1, 1, 1, 1, 1, 1, 1, 1, 1, 1, 1, 1, 1, 1, 1, 1, 1, 1, 1, 1, 1, 1, 1, 1, 1, 1, 1, 1, 1, 1, 1, 1, 1, 1, 1, 1, 1, 1, 1, 1, 1, 1, 1, 1, 1, 1, 1, 1, 1, 1, 1, 1, 1, 1, 1, 1, 1, 1, 1, 1, 1, 1, 1, 1, 1, 1, 1, 1, 1, 1, 1, 1, 1, 1, 1, 1, 1, 1, 1, 1, 1, 1, 1, 1, 1, 1, 1, 1, 1, 1, 1, 1, 1], [1, 1, 1, 1, 1, 1, 1, 1, 1, 1], [1, 1, 1, 1, 1], [1, 1, 1, 1, 1, 1, 1, 1, 1, 1, 1, 1, 1, 1, 1, 1, 1, 1, 1, 1, 1, 1, 1, 1, 1, 1, 1, 1, 1, 1, 1, 1, 1, 1, 1, 1, 1, 1, 1, 1, 1, 1, 1, 1, 1, 1, 1, 1, 1, 1, 1, 1, 1, 1, 1, 1, 1, 1, 1, 1, 1, 1, 1, 1, 1, 1, 1, 1, 1, 1, 1, 1, 1, 1, 1, 1, 1, 1, 1, 1, 1, 1, 1, 1, 1, 1, 1, 1, 1, 1, 1, 1, 1, 1, 1, 1, 1, 1, 1, 1, 1, 1, 1, 1, 1, 1, 1, 1, 1, 1, 1, 1, 1, 1, 1, 1, 1, 1, 1, 1, 1, 1, 1, 1, 1, 1, 1, 1], [1, 1, 1, 1, 1, 1, 1, 1, 1, 1, 1, 1, 1, 1, 1, 1, 1, 1, 1, 1, 1, 1, 1, 1, 1, 1, 1, 1, 1, 1, 1, 1, 1, 1, 1, 1, 1, 1, 1, 1, 1, 1, 1], [1, 1, 1, 1, 1, 1, 1, 1, 1, 1, 1, 1, 1], [1, 1, 1, 1, 1, 1], [1, 1, 1, 1, 1, 1, 1, 1, 1, 1, 1, 1, 1, 1, 1, 1, 1, 1], [1, 1, 1, 1, 1], [1, 1, 1, 1, 1, 1, 1, 1, 1, 1, 1, 1, 1], [1, 1, 1, 1, 1, 1, 1, 1, 1, 1, 1, 1], [1, 1, 1, 1, 1, 1, 1, 1, 1, 1], [1, 1, 1, 1, 1, 1, 1, 1, 1, 1, 1, 1], [1, 1, 1, 1, 1, 1], [1, 1, 1, 1], [1, 1, 1, 1], [1, 1, 1, 1, 1, 1, 1, 1, 1, 1, 1, 1, 1, 1, 1, 1, 1, 1, 1, 1, 1, 1, 1, 1, 1], [1, 1, 1, 1, 1, 1, 1, 1, 1], [1, 1, 1, 1, 1], [1, 1, 1, 1, 1, 1, 1, 1, 1, 1, 1, 1, 1, 1], [1, 1, 1, 1, 1, 1, 1, 1, 1, 1, 1, 1], [1, 1, 1, 1, 1, 1, 1, 1], [1, 1, 1, 1, 1], [1, 1, 1, 1, 1, 1, 1, 1, 1], [1, 1, 1, 1, 1, 1, 1, 1, 1, 1, 1, 1, 1, 1, 1], [1, 1, 1, 1, 1, 1, 1, 1], [1, 1, 1, 1, 1, 1, 1, 1, 1, 1, 1, 1, 1, 1, 1, 1, 1, 1, 1, 1, 1, 1, 1, 1, 1, 1, 1, 1, 1, 1, 1, 1, 1, 1, 1, 1, 1, 1, 1, 1, 1, 1, 1, 1, 1, 1, 1, 1, 1, 1, 1, 1, 1, 1, 1, 1, 1, 1, 1, 1, 1, 1, 1, 1, 1, 1, 1, 1, 1, 1, 1, 1, 1, 1, 1, 1, 1, 1, 1, 1, 1, 1, 1, 1, 1, 1, 1, 1, 1, 1, 1, 1, 1, 1, 1, 1, 1, 1, 1, 1, 1, 1, 1, 1, 1, 1, 1, 1, 1, 1, 1, 1], [1, 1, 1, 1, 1, 1, 1, 1], [1, 1, 1, 1, 1, 1, 1, 1, 1, 1, 1, 1, 1, 1, 1, 1, 1, 1, 1, 1, 1, 1, 1, 1, 1, 1, 1, 1, 1, 1, 1, 1, 1, 1, 1, 1, 1, 1, 1, 1, 1, 1, 1, 1, 1, 1, 1], [1, 1, 1, 1, 1, 1], [1, 1, 1, 1, 1, 1, 1, 1, 1, 1, 1, 1, 1, 1, 1, 1, 1, 1, 1, 1, 1, 1, 1, 1, 1, 1, 1, 1, 1, 1, 1, 1, 1, 1, 1, 1, 1, 1, 1, 1, 1, 1, 1, 1, 1, 1, 1, 1, 1, 1, 1, 1, 1, 1, 1, 1, 1, 1, 1, 1, 1, 1, 1, 1, 1, 1, 1, 1, 1, 1, 1, 1, 1, 1, 1, 1, 1, 1, 1, 1, 1, 1, 1, 1, 1, 1, 1, 1, 1, 1, 1, 1, 1, 1, 1, 1, 1, 1, 1, 1, 1, 1, 1, 1, 1, 1, 1, 1, 1, 1, 1, 1, 1, 1, 1, 1, 1, 1, 1, 1, 1, 1, 1, 1, 1, 1, 1, 1], [1, 1, 1, 1, 1, 1, 1, 1, 1, 1, 1, 1, 1, 1, 1, 1, 1, 1, 1], [1, 1, 1, 1, 1, 1], [1, 1, 1, 1, 1, 1, 1, 1, 1, 1, 1, 1, 1, 1, 1, 1, 1, 1, 1, 1, 1, 1, 1, 1, 1, 1, 1, 1, 1, 1, 1, 1, 1, 1, 1, 1, 1, 1], [1, 1, 1, 1, 1], [1, 1, 1, 1, 1, 1, 1, 1, 1, 1, 1, 1, 1, 1, 1, 1], [1, 1, 1, 1, 1, 1, 1, 1, 1, 1, 1, 1, 1, 1, 1, 1, 1, 1, 1, 1, 1], [1, 1, 1, 1, 1, 1, 1, 1, 1, 1, 1, 1], [1, 1, 1, 1, 1, 1, 1], [1, 1, 1, 1, 1, 1, 1, 1, 1, 1, 1, 1, 1, 1, 1, 1, 1, 1, 1, 1, 1, 1], [1, 1, 1], [1, 1, 1, 1, 1], [1, 1, 1, 1, 1, 1, 1, 1, 1], [1, 1, 1, 1, 1, 1, 1, 1, 1, 1, 1, 1, 1, 1, 1, 1, 1, 1, 1, 1, 1, 1, 1, 1, 1, 1, 1, 1, 1, 1], [1, 1, 1, 1, 1, 1, 1, 1, 1, 1, 1, 1, 1, 1, 1, 1, 1, 1, 1, 1, 1, 1, 1, 1, 1, 1, 1, 1, 1, 1], [1, 1, 1, 1, 1, 1, 1, 1, 1, 1, 1, 1, 1, 1, 1, 1, 1, 1, 1, 1, 1, 1, 1], [1, 1, 1, 1, 1], [1, 1, 1, 1, 1, 1, 1], [1, 1, 1, 1, 1, 1, 1, 1, 1, 1, 1, 1, 1, 1, 1, 1, 1, 1, 1], [1, 1, 1, 1, 1, 1, 1, 1, 1, 1, 1, 1, 1, 1], [1, 1, 1, 1, 1, 1, 1, 1, 1, 1, 1, 1, 1, 1, 1, 1, 1, 1, 1, 1, 1, 1, 1, 1, 1, 1, 1, 1, 1, 1, 1, 1, 1, 1, 1, 1, 1, 1, 1, 1], [1, 1, 1, 1, 1, 1], [1, 1, 1, 1, 1], [1, 1, 1, 1, 1, 1, 1, 1, 1, 1, 1], [1, 1, 1, 1, 1, 1], [1, 1, 1, 1, 1, 1, 1, 1, 1], [1, 1, 1, 1, 1, 1, 1, 1, 1, 1, 1, 1, 1, 1, 1, 1, 1, 1, 1, 1, 1, 1, 1, 1, 1, 1, 1, 1, 1, 1, 1, 1], [1, 1, 1, 1], [1, 1, 1, 1, 1, 1, 1, 1, 1, 1, 1, 1, 1, 1, 1, 1, 1, 1, 1, 1, 1, 1, 1, 1, 1, 1, 1, 1, 1, 1], [1, 1, 1, 1, 1, 1, 1, 1], [1, 1], [1, 1, 1, 1, 1, 1, 1, 1], [1, 1, 1, 1, 1, 1, 1, 1], [1, 1, 1, 1, 1, 1, 1, 1, 1, 1, 1, 1, 1, 1, 1, 1, 1, 1], [1, 1, 1, 1, 1, 1, 1, 1], [1, 1, 1, 1, 1, 1, 1, 1, 1, 1, 1, 1, 1, 1, 1, 1, 1, 1, 1, 1, 1, 1, 1, 1, 1], [1, 1, 1, 1], [1, 1, 1, 1, 1, 1], [1, 1, 1, 1, 1, 1], [1, 1, 1, 1, 1, 1, 1, 1, 1, 1, 1, 1, 1, 1, 1, 1, 1, 1, 1, 1, 1, 1], [1, 1, 1, 1, 1, 1, 1, 1, 1], [1, 1, 1, 1, 1, 1], [1, 1], [1, 1, 1, 1, 1, 1, 1, 1, 1, 1, 1, 1, 1, 1, 1, 1, 1, 1, 1, 1, 1, 1, 1, 1, 1, 1, 1, 1, 1, 1, 1, 1, 1, 1], [1, 1, 1], [1, 1, 1], [1, 1, 1, 1, 1, 1], [1, 1, 1, 1, 1, 1], [1, 1, 1, 1, 1, 1, 1, 1, 1, 1, 1, 1, 1, 1], [1, 1, 1, 1, 1, 1, 1, 1, 1, 1, 1, 1, 1, 1, 1, 1, 1, 1, 1, 1, 1, 1, 1, 1, 1, 1, 1, 1, 1, 1, 1, 1, 1, 1, 1, 1, 1, 1, 1, 1, 1, 1, 1, 1, 1, 1, 1, 1, 1, 1, 1, 1, 1, 1, 1, 1, 1, 1, 1, 1, 1, 1, 1, 1, 1, 1, 1, 1, 1, 1, 1, 1, 1, 1, 1, 1, 1, 1, 1, 1, 1, 1, 1, 1, 1, 1, 1, 1, 1, 1, 1, 1, 1, 1, 1, 1, 1, 1, 1, 1, 1, 1, 1, 1, 1, 1, 1, 1, 1, 1, 1, 1, 1, 1, 1, 1, 1, 1, 1, 1, 1, 1, 1, 1, 1, 1, 1, 1], [1, 1, 1, 1, 1, 1, 1, 1, 1, 1, 1, 1, 1, 1, 1, 1, 1, 1, 1, 1, 1, 1, 1], [1, 1, 1, 1, 1, 1, 1, 1, 1, 1], [1, 1], [1, 1, 1, 1, 1, 1, 1, 1, 1, 1, 1, 1, 1, 1, 1, 1, 1, 1, 1, 1, 1, 1, 1, 1, 1, 1, 1, 1, 1, 1, 1, 1, 1, 1, 1, 1, 1, 1, 1, 1, 1, 1, 1, 1, 1, 1, 1, 1], [1, 1, 1, 1, 1, 1], [1, 1, 1, 1, 1, 1, 1, 1], [1, 1, 1, 1], [1, 1, 1, 1, 1, 1, 1, 1, 1, 1], [1, 1, 1, 1, 1, 1], [1, 1, 1, 1, 1, 1, 1, 1, 1, 1, 1, 1, 1, 1], [1, 1, 1, 1, 1, 1, 1, 1, 1, 1, 1, 1, 1, 1, 1, 1, 1, 1, 1, 1, 1, 1, 1, 1, 1, 1, 1, 1, 1, 1, 1, 1, 1, 1, 1, 1, 1, 1, 1, 1, 1, 1, 1, 1, 1, 1, 1, 1, 1, 1, 1, 1, 1, 1, 1, 1, 1, 1, 1, 1, 1, 1, 1, 1, 1, 1, 1, 1, 1, 1, 1, 1, 1, 1, 1, 1, 1, 1, 1, 1, 1, 1, 1, 1, 1, 1, 1, 1, 1, 1, 1, 1, 1, 1, 1, 1, 1, 1, 1, 1, 1, 1, 1, 1, 1, 1, 1, 1, 1, 1, 1, 1, 1, 1, 1, 1, 1, 1, 1, 1, 1, 1, 1, 1, 1], [1, 1, 1, 1], [1, 1, 1, 1], [1, 1, 1, 1, 1, 1, 1, 1, 1, 1, 1, 1, 1, 1, 1, 1, 1], [1, 1, 1, 1, 1, 1, 1, 1, 1], [1, 1, 1, 1, 1, 1, 1, 1, 1, 1], [1, 1, 1], [1, 1], [1, 1, 1, 1, 1, 1, 1, 1, 1, 1, 1, 1, 1, 1, 1, 1, 1], [1, 1], [1, 1, 1, 1, 1, 1, 1, 1, 1, 1], [1, 1, 1, 1, 1, 1], [1, 1, 1, 1, 1], [1, 1, 1], [1, 1, 1, 1, 1, 1, 1, 1, 1, 1, 1, 1, 1], [1, 1, 1, 1, 1, 1, 1, 1, 1, 1], [1, 1, 1, 1, 1, 1, 1, 1, 1], [1, 1, 1, 1], [1, 1, 1, 1], [1, 1, 1, 1, 1, 1, 1, 1, 1, 1, 1], [1, 1, 1, 1, 1, 1, 1, 1, 1, 1, 1, 1, 1, 1, 1, 1, 1, 1, 1, 1, 1, 1, 1, 1, 1, 1, 1, 1, 1, 1, 1, 1, 1, 1, 1, 1, 1, 1, 1, 1, 1, 1, 1, 1, 1, 1, 1, 1, 1, 1, 1, 1, 1, 1, 1, 1, 1, 1, 1, 1, 1, 1, 1, 1, 1, 1, 1, 1, 1, 1, 1, 1, 1, 1, 1, 1, 1, 1, 1, 1, 1, 1, 1, 1, 1, 1, 1], [1, 1, 1, 1, 1], [1, 1, 1, 1, 1, 1, 1], [1, 1], [1, 1, 1, 1, 1, 1, 1, 1, 1, 1, 1, 1, 1, 1, 1, 1, 1, 1, 1, 1, 1, 1, 1, 1, 1, 1, 1, 1, 1, 1, 1, 1, 1, 1, 1, 1, 1, 1, 1, 1, 1, 1, 1, 1, 1, 1, 1, 1, 1, 1, 1, 1, 1, 1, 1, 1, 1, 1, 1, 1, 1, 1, 1, 1, 1, 1, 1, 1, 1, 1, 1, 1, 1, 1, 1, 1, 1, 1, 1, 1, 1, 1, 1, 1, 1, 1, 1, 1, 1, 1, 1, 1, 1, 1, 1, 1, 1, 1, 1, 1, 1, 1, 1, 1, 1, 1, 1, 1, 1, 1, 1, 1, 1, 1, 1, 1, 1, 1, 1, 1, 1, 1, 1, 1, 1, 1, 1, 1], [1, 1, 1, 1, 1, 1], [1, 1, 1, 1, 1, 1, 1, 1, 1, 1, 1, 1, 1, 1, 1, 1, 1, 1, 1, 1, 1, 1, 1, 1, 1, 1, 1, 1, 1, 1, 1, 1, 1, 1, 1, 1, 1, 1, 1, 1, 1, 1, 1, 1, 1, 1, 1, 1, 1, 1, 1, 1, 1, 1, 1, 1, 1, 1, 1, 1, 1, 1, 1, 1, 1, 1, 1, 1, 1, 1, 1, 1, 1, 1, 1, 1, 1, 1, 1, 1, 1, 1, 1, 1, 1, 1, 1, 1, 1, 1, 1, 1, 1, 1, 1, 1, 1, 1, 1, 1, 1, 1, 1, 1, 1, 1, 1, 1, 1, 1, 1, 1, 1, 1, 1, 1, 1], [1, 1, 1], [1, 1, 1, 1, 1, 1, 1, 1, 1, 1, 1, 1, 1, 1, 1, 1, 1], [1, 1, 1, 1, 1, 1, 1, 1, 1, 1, 1, 1, 1], [1, 1, 1, 1, 1, 1, 1, 1, 1, 1, 1, 1, 1, 1, 1, 1, 1], [1, 1, 1, 1, 1, 1, 1, 1], [1, 1, 1, 1, 1, 1, 1, 1, 1, 1, 1, 1, 1, 1, 1, 1, 1, 1, 1, 1, 1, 1, 1, 1, 1, 1, 1, 1, 1, 1, 1, 1, 1, 1, 1, 1, 1, 1, 1, 1, 1, 1, 1, 1, 1, 1, 1, 1, 1, 1, 1, 1, 1, 1, 1, 1, 1, 1, 1, 1, 1, 1, 1, 1, 1, 1, 1, 1, 1, 1, 1, 1, 1, 1, 1, 1, 1, 1], [1, 1, 1, 1], [1, 1, 1, 1, 1], [1, 1, 1, 1, 1, 1, 1], [1, 1, 1, 1, 1, 1, 1, 1, 1, 1, 1, 1, 1, 1, 1, 1, 1, 1, 1, 1, 1, 1, 1, 1, 1, 1, 1], [1, 1, 1, 1, 1, 1, 1, 1, 1, 1, 1, 1, 1, 1, 1, 1], [1, 1, 1, 1, 1], [1, 1, 1], [1, 1, 1, 1, 1, 1, 1, 1, 1], [1, 1, 1, 1, 1, 1, 1, 1], [1, 1, 1, 1, 1, 1, 1, 1], [1, 1, 1, 1, 1, 1, 1, 1, 1, 1, 1, 1, 1, 1, 1], [1, 1, 1, 1, 1, 1, 1, 1, 1, 1, 1, 1, 1, 1, 1, 1], [1, 1, 1, 1, 1, 1, 1, 1, 1, 1, 1, 1, 1, 1, 1, 1, 1, 1, 1, 1, 1, 1, 1, 1, 1, 1, 1, 1, 1, 1, 1, 1, 1, 1, 1, 1, 1, 1], [1, 1, 1, 1, 1], [1, 1, 1, 1, 1, 1, 1, 1, 1, 1, 1, 1, 1, 1, 1, 1, 1, 1, 1, 1, 1], [1, 1, 1, 1, 1, 1, 1, 1, 1, 1, 1], [1, 1, 1, 1, 1, 1, 1, 1], [1, 1, 1], [1, 1, 1, 1], [1, 1, 1, 1, 1, 1, 1, 1, 1, 1, 1, 1, 1, 1, 1, 1, 1, 1, 1, 1, 1, 1, 1, 1, 1, 1, 1, 1, 1, 1, 1, 1, 1, 1, 1, 1, 1, 1, 1, 1, 1, 1, 1, 1, 1, 1, 1, 1, 1, 1, 1, 1, 1, 1, 1, 1, 1, 1, 1, 1, 1, 1, 1, 1, 1, 1, 1, 1, 1, 1, 1, 1, 1, 1], [1, 1, 1, 1, 1, 1, 1, 1, 1, 1, 1], [1, 1, 1, 1], [1, 1, 1, 1], [1, 1, 1, 1, 1, 1, 1], [1, 1, 1], [1, 1, 1, 1, 1, 1, 1, 1], [1, 1, 1, 1], [1, 1, 1, 1, 1, 1, 1, 1, 1, 1, 1, 1, 1, 1, 1, 1, 1, 1, 1, 1, 1, 1, 1, 1, 1, 1, 1, 1, 1, 1, 1, 1, 1, 1, 1, 1, 1, 1, 1, 1, 1, 1, 1, 1, 1, 1, 1, 1, 1, 1, 1, 1, 1, 1, 1, 1, 1, 1, 1, 1, 1, 1, 1, 1, 1, 1, 1, 1, 1, 1, 1, 1, 1, 1, 1, 1, 1, 1, 1, 1, 1, 1, 1, 1, 1, 1, 1, 1, 1, 1, 1, 1, 1, 1, 1, 1, 1, 1, 1, 1, 1, 1, 1, 1, 1, 1, 1, 1, 1, 1, 1, 1, 1, 1, 1, 1, 1, 1, 1, 1, 1, 1, 1, 1, 1, 1, 1, 1], [1, 1, 1, 1, 1, 1, 1, 1, 1, 1, 1, 1, 1, 1], [1, 1, 1, 1], [1, 1, 1, 1, 1, 1, 1, 1, 1, 1, 1, 1, 1, 1], [1, 1, 1, 1, 1, 1], [1, 1, 1, 1, 1, 1, 1], [1, 1, 1, 1], [1, 1, 1, 1, 1, 1], [1, 1, 1, 1, 1, 1], [1, 1, 1, 1, 1], [1, 1, 1, 1, 1, 1, 1, 1, 1, 1, 1, 1, 1, 1, 1], [1, 1, 1, 1, 1, 1, 1, 1, 1, 1, 1, 1, 1, 1, 1, 1, 1, 1, 1, 1], [1, 1, 1], [1, 1, 1, 1, 1, 1], [1, 1, 1, 1, 1, 1], [1, 1, 1, 1, 1, 1, 1, 1, 1, 1], [1, 1, 1, 1, 1, 1, 1, 1, 1, 1, 1, 1, 1, 1], [1, 1, 1, 1, 1, 1, 1, 1], [1, 1, 1, 1, 1, 1, 1, 1, 1, 1, 1, 1, 1, 1], [1, 1, 1, 1, 1, 1, 1], [1, 1, 1, 1, 1, 1, 1, 1, 1, 1, 1, 1], [1, 1, 1], [1, 1, 1, 1, 1, 1, 1, 1, 1, 1, 1, 1, 1, 1], [1, 1, 1, 1, 1, 1, 1], [1, 1, 1, 1, 1, 1, 1, 1, 1, 1, 1, 1, 1, 1, 1, 1, 1, 1, 1, 1, 1, 1, 1, 1, 1, 1, 1, 1, 1, 1, 1, 1, 1, 1, 1, 1, 1, 1, 1, 1, 1, 1, 1, 1, 1, 1, 1, 1, 1, 1, 1, 1, 1, 1, 1, 1, 1, 1, 1, 1, 1, 1, 1, 1, 1, 1, 1, 1, 1, 1, 1, 1, 1, 1, 1, 1, 1, 1, 1, 1, 1, 1, 1], [1, 1, 1, 1, 1, 1, 1, 1, 1, 1, 1, 1, 1, 1, 1], [1, 1, 1, 1, 1, 1, 1, 1, 1, 1, 1, 1, 1, 1, 1, 1, 1, 1, 1, 1], [1, 1, 1, 1, 1, 1, 1, 1, 1, 1, 1, 1], [1, 1, 1, 1, 1, 1, 1, 1, 1, 1], [1, 1, 1, 1, 1, 1], [1, 1, 1], [1, 1, 1, 1, 1], [1, 1, 1, 1, 1], [1, 1, 1, 1, 1, 1], [1, 1, 1, 1, 1, 1, 1, 1, 1, 1, 1, 1, 1, 1], [1, 1, 1, 1, 1, 1, 1, 1, 1, 1, 1], [1, 1, 1, 1, 1, 1, 1, 1, 1, 1, 1, 1, 1, 1, 1, 1, 1, 1], [1, 1], [1, 1, 1, 1, 1, 1], [1, 1, 1, 1, 1, 1, 1, 1, 1, 1, 1, 1, 1], [1, 1, 1], [1, 1, 1, 1, 1, 1, 1], [1, 1, 1, 1, 1, 1, 1, 1, 1, 1, 1], [1, 1, 1, 1, 1, 1, 1], [1, 1, 1, 1, 1, 1, 1, 1, 1], [1, 1, 1], [1, 1, 1, 1, 1, 1, 1], [1, 1, 1, 1, 1, 1, 1, 1, 1, 1, 1, 1, 1, 1, 1, 1, 1, 1], [1, 1, 1, 1, 1, 1, 1, 1, 1, 1, 1, 1, 1, 1, 1, 1, 1, 1, 1, 1, 1, 1, 1], [1, 1, 1, 1, 1, 1, 1, 1, 1, 1, 1, 1, 1, 1, 1, 1, 1, 1, 1, 1, 1, 1, 1, 1, 1, 1, 1, 1, 1, 1, 1, 1, 1, 1, 1, 1, 1, 1, 1, 1, 1, 1, 1, 1, 1, 1, 1, 1, 1, 1, 1, 1, 1, 1, 1, 1, 1, 1, 1, 1, 1, 1, 1, 1, 1, 1, 1, 1, 1, 1, 1, 1, 1, 1, 1, 1, 1, 1, 1, 1, 1, 1, 1, 1, 1, 1], [1, 1, 1, 1, 1, 1, 1, 1, 1, 1, 1, 1, 1, 1, 1], [1, 1], [1, 1, 1, 1, 1, 1, 1, 1, 1], [1, 1, 1, 1, 1], [1, 1, 1, 1, 1, 1, 1, 1, 1, 1, 1, 1, 1], [1, 1, 1, 1, 1], [1, 1, 1, 1, 1, 1, 1, 1, 1, 1, 1, 1], [1, 1, 1, 1, 1, 1, 1, 1, 1, 1, 1, 1, 1, 1, 1, 1, 1, 1, 1, 1, 1, 1, 1, 1, 1, 1, 1, 1, 1, 1, 1, 1, 1, 1, 1, 1, 1, 1, 1], [1, 1, 1, 1, 1, 1, 1], [1, 1, 1, 1, 1], [1, 1], [1, 1, 1, 1, 1, 1, 1, 1, 1, 1, 1, 1, 1, 1, 1, 1, 1, 1, 1, 1, 1, 1, 1, 1, 1, 1, 1, 1, 1, 1, 1, 1, 1, 1, 1, 1, 1, 1, 1, 1, 1, 1, 1, 1, 1, 1], [1, 1, 1, 1, 1, 1], [1, 1, 1], [1, 1, 1, 1, 1, 1, 1, 1, 1, 1, 1, 1, 1, 1, 1, 1, 1, 1, 1, 1, 1, 1, 1, 1, 1, 1, 1, 1, 1, 1, 1, 1, 1, 1, 1, 1, 1, 1, 1, 1, 1, 1, 1, 1, 1, 1, 1, 1, 1, 1, 1, 1, 1, 1, 1, 1, 1, 1, 1, 1, 1, 1, 1, 1, 1, 1, 1, 1, 1, 1, 1, 1, 1, 1], [1, 1, 1, 1, 1, 1, 1], [1, 1, 1], [1, 1, 1, 1, 1, 1, 1], [1, 1, 1, 1, 1, 1, 1], [1, 1, 1, 1, 1], [1, 1, 1, 1, 1, 1, 1, 1, 1, 1, 1, 1], [1, 1, 1, 1, 1, 1, 1, 1, 1, 1, 1, 1], [1, 1, 1, 1], [1, 1, 1, 1], [1, 1, 1, 1, 1], [1, 1, 1, 1, 1], [1, 1, 1, 1, 1, 1, 1], [1, 1, 1, 1, 1, 1, 1, 1, 1, 1, 1, 1, 1, 1], [1, 1, 1, 1, 1, 1, 1, 1, 1, 1, 1, 1, 1, 1, 1, 1, 1, 1, 1, 1, 1, 1, 1, 1, 1, 1, 1, 1, 1, 1, 1, 1, 1, 1, 1, 1, 1, 1, 1], [1, 1, 1, 1, 1, 1, 1, 1, 1, 1, 1, 1, 1, 1, 1, 1, 1, 1, 1, 1, 1, 1, 1], [1, 1, 1, 1, 1, 1, 1, 1, 1, 1, 1, 1, 1, 1, 1, 1, 1, 1, 1, 1, 1, 1, 1, 1, 1, 1, 1, 1, 1, 1, 1, 1, 1, 1, 1, 1, 1, 1, 1, 1, 1, 1, 1, 1, 1, 1, 1, 1, 1, 1, 1, 1, 1, 1, 1, 1, 1, 1, 1, 1, 1, 1, 1, 1, 1, 1, 1, 1, 1, 1, 1, 1, 1, 1, 1, 1, 1, 1, 1, 1, 1, 1, 1, 1, 1, 1, 1, 1, 1, 1, 1, 1, 1, 1, 1, 1, 1, 1, 1, 1, 1, 1, 1, 1, 1, 1, 1, 1, 1, 1, 1, 1, 1, 1, 1, 1, 1, 1, 1, 1, 1, 1, 1, 1, 1, 1, 1, 1], [1, 1, 1, 1], [1, 1, 1, 1, 1, 1, 1, 1, 1, 1, 1, 1, 1, 1, 1, 1, 1]]}\n"
          ]
        },
        {
          "output_type": "display_data",
          "data": {
            "text/plain": [
              "Map:   0%|          | 0/250 [00:00<?, ? examples/s]"
            ],
            "application/vnd.jupyter.widget-view+json": {
              "version_major": 2,
              "version_minor": 0,
              "model_id": "e946c8a4cad54e8c97f49e9a4d35cbb3"
            }
          },
          "metadata": {}
        },
        {
          "output_type": "stream",
          "name": "stdout",
          "text": [
            "{'input_ids': [[3982, 994, 0], [13572, 7823, 37, 0], [646, 0], [6703, 962, 51, 7823, 514, 2089, 3, 0], [24828, 3954, 4, 402, 2758, 0], [33260, 108, 37, 12650, 7735, 12, 26484, 37, 301, 548, 32, 73, 6647, 1822, 14808, 8245, 0], [24, 222, 28, 1895, 19930, 2, 6509, 526, 10721, 483, 4334, 108, 0], [16897, 0], [402, 24483, 4703, 5180, 253, 37, 0], [23845, 12416, 5018, 0], [11157, 270, 518, 7, 6042, 12, 1680, 30, 4, 14395, 3, 0], [12566, 8558, 477, 101, 0], [43307, 37, 0], [1113, 3897, 48601, 0], [21984, 253, 365, 7, 14849, 329, 4941, 0], [21829, 482, 7321, 0], [402, 18903, 313, 5625, 50, 32, 4, 3003, 1233, 26, 1760, 155, 587, 3, 138, 22445, 4, 276, 21, 14663, 402, 2635, 511, 50, 1664, 26, 2752, 2, 36658, 2, 1144, 3006, 2, 2058, 2, 10, 3405, 10624, 9, 24, 720, 1874, 50, 2, 402, 2635, 20611, 14464, 50, 2, 402, 2635, 46122, 8881, 50, 2, 402, 47975, 114, 50, 2, 10, 402, 2635, 1506, 511, 50, 28, 208, 15, 1690, 7907, 3, 17336, 731, 30, 15, 2756, 4852, 1212, 402, 18903, 313, 5625, 50, 1252, 6352, 4, 476, 19066, 48, 4, 4044, 21, 28372, 1664, 2, 10, 16395, 147, 3753, 2, 46, 1529, 256, 7, 4, 3003, 506, 402, 18903, 313, 5625, 50, 13020, 4, 1664, 48, 3907, 3, 25094, 835, 12700, 4, 3557, 7, 85, 0], [12406, 4, 11767, 2575, 928, 30, 4, 2018, 33, 32, 4, 705, 151, 487, 55, 639, 12, 1769, 11583, 67, 8867, 18, 526, 15347, 6407, 6351, 3, 0], [17403, 0], [18787, 9, 0], [1915, 0], [6809, 0], [357, 101, 1389, 0], [7048, 0], [35, 452, 1494, 5709, 16478, 15, 518, 21, 21480, 7394, 3, 41, 10770, 19325, 4586, 4392, 1684, 535, 3124, 817, 4696, 535, 3124, 817, 349, 535, 3124, 817, 13735, 328, 24, 16027, 4932, 186, 5715, 22094, 28, 41, 1087, 24573, 0], [5892, 2699, 402, 2635, 186, 8577, 259, 50, 202, 73, 1680, 4, 1437, 57, 15675, 55, 52, 2872, 26, 32, 33, 55, 202, 79, 4, 3689, 19594, 20142, 545, 12, 7528, 246, 588, 1184, 7, 1437, 3, 0], [24849, 304, 3525, 794, 29138, 301, 548, 0], [6204, 4, 24573, 7, 4, 2004, 3819, 12879, 3, 0], [37313, 5118, 13675, 3758, 0], [11371, 14846, 4434, 84, 3284, 7494, 5629, 110, 0], [402, 11769, 462, 37, 0], [13331, 6791, 29205, 0], [26234, 10359, 39465, 2079, 0], [213, 202, 3826, 151, 7, 4, 440, 2738, 17680, 235, 55, 52, 2210, 117, 7983, 29926, 9, 4, 476, 48, 4, 6682, 151, 3, 1789, 45, 2210, 2, 568, 117, 1017, 2104, 6442, 373, 45, 13608, 3, 0], [3688, 101, 5386, 7066, 110, 0], [4484, 402, 1027, 1437, 0], [11123, 9, 191, 5982, 7, 542, 58, 3878, 548, 149, 0], [1963, 541, 4, 95, 1356, 3847, 7940, 18, 800, 101, 3, 21009, 191, 12, 240, 3941, 3758, 1298, 79, 2479, 33, 4, 402, 2635, 186, 8577, 259, 50, 9319, 69, 324, 57, 4, 13349, 7, 4, 1769, 9319, 3, 0], [21324, 0], [138, 32, 2625, 12, 14850, 15, 2184, 2114, 7, 151, 48682, 3, 4911, 235, 61, 32, 24235, 322, 18, 4, 528, 7, 4, 4449, 1664, 2, 61, 3153, 15, 2086, 7, 7028, 2, 1020, 10, 1473, 64, 4, 2993, 2, 10, 218, 1566, 45, 8705, 3, 0], [26277, 13656, 110, 0], [2033, 2626, 0], [11371, 222, 21, 226, 7655, 9, 101, 0], [2895, 12, 45, 1515, 26, 15675, 58, 381, 756, 4387, 9, 149, 0], [24, 166, 28, 1100, 375, 211, 5746, 1419, 24, 166, 28, 945, 11748, 24311, 526, 2090, 6400, 14629, 0], [11108, 101, 3175, 42, 15, 4170, 3621, 13972, 101, 24, 511, 1418, 711, 28, 0], [5658, 746, 4004, 37, 0], [880, 246, 2791, 109, 7735, 2, 73, 301, 4494, 0], [45414, 542, 37, 0], [7173, 32, 1112, 694, 3, 0], [25, 657, 6185, 1044, 25, 22171, 4, 1129, 7, 15, 8785, 631, 226, 2592, 0], [488, 21, 2049, 9, 5129, 1394, 0], [1414, 5277, 0], [23929, 11769, 1538, 0], [47, 122, 34262, 3355, 0], [9964, 685, 0], [31323, 5278, 5867, 794, 0], [12406, 4, 1144, 26, 4, 36290, 6442, 11603, 3, 0], [2635, 6553, 817, 720, 111, 3573, 9, 111, 0], [1932, 197, 47, 79, 7171, 42, 240, 402, 304, 6978, 50, 2897, 54, 0], [2907, 1031, 2, 4, 4589, 2467, 115, 45, 4974, 12, 15, 7718, 57, 15, 8785, 3, 1758, 4, 2711, 7, 4, 4042, 2, 55, 161, 1994, 18, 2590, 33, 411, 1377, 4, 7718, 57, 8785, 86, 45, 1112, 933, 33, 55, 161, 459, 77, 1265, 21104, 576, 3, 97, 67, 943, 4, 7718, 165, 79, 4, 7038, 16832, 576, 10, 5990, 402, 35436, 50, 10274, 3486, 2, 3116, 309, 75, 50, 48, 96, 7216, 3, 0], [8136, 29418, 5123, 51, 24, 190, 4, 2803, 349, 46, 11949, 28, 0], [24834, 0], [24263, 263, 0], [443, 117, 27402, 32, 1154, 12, 4063, 48442, 8033, 2, 1097, 1828, 151, 21, 9732, 57, 271, 21, 9732, 1475, 2, 55, 202, 45, 1154, 12, 256, 151, 2, 57, 15, 6013, 2, 7, 4, 39991, 19360, 3, 0], [301, 548, 29328, 687, 38457, 9, 0], [21300, 518, 110, 0], [26572, 4922, 23727, 26, 14960, 0], [8399, 0], [3493, 7, 2603, 1292, 37, 0], [5118, 238, 18543, 402, 33104, 0], [402, 12317, 111, 3, 48100, 3, 28692, 9139, 12945, 50, 0], [582, 51, 5939, 646, 19594, 124, 0], [15457, 8136, 0], [14118, 0], [39625, 3941, 0], [160, 34955, 32, 6110, 64, 117, 583, 492, 5634, 17314, 3, 160, 202, 1771, 33, 61, 69, 3073, 64, 15, 526, 24122, 19529, 57, 64, 15, 47695, 3, 4497, 11603, 2226, 18, 67, 34955, 86, 79, 6871, 649, 12, 98, 7, 117, 1174, 17314, 50, 6110, 198, 34955, 9, 202, 45, 6160, 37, 52, 55, 2210, 55, 639, 12, 621, 54, 0], [16517, 0], [9150, 4, 16359, 457, 4, 3278, 195, 27136, 64, 453, 3, 0], [5950, 16500, 0], [9673, 4, 787, 7, 4, 1062, 5129, 783, 7, 4, 14565, 723, 16431, 110, 0], [5258, 12, 1240, 0], [3688, 1624, 2079, 660, 27551, 13801, 110, 0], [1625, 4, 506, 37, 30, 240, 1760, 25260, 32, 15, 29314, 7, 2207, 253, 14464, 12, 2103, 10, 25278, 4, 647, 817, 5719, 10, 946, 15, 2057, 8033, 3, 27315, 54, 0], [160, 1990, 389, 7, 8517, 32, 1381, 15, 934, 3, 560, 52, 1355, 2819, 10, 47258, 4815, 3, 35, 1355, 2819, 52, 98, 7, 151, 1801, 24, 5612, 50, 19802, 9, 102, 97, 4, 47258, 2819, 4, 4702, 5990, 1468, 64, 151, 12, 1036, 2, 242, 15, 3856, 5990, 24, 13035, 2949, 9, 10, 8330, 2651, 28, 10, 15, 4469, 5990, 24, 9789, 19600, 10, 24716, 9, 102, 0], [31323, 11013, 18080, 791, 62, 352, 9329, 54, 0], [301, 16951, 0], [39018, 0], [443, 67, 2674, 32, 11415, 2, 4, 2603, 6, 45436, 9, 86, 45, 3150, 3, 0], [10359, 0], [5436, 29479, 37, 0], [3268, 25885, 0], [24849, 15, 14395, 3, 2260, 4, 669, 24849, 101, 15, 19337, 26, 147, 2561, 3, 0], [11563, 0], [6979, 17390, 10169, 41533, 2959, 0], [7821, 37, 0], [20531, 3262, 9, 0], [43729, 41, 12763, 139, 42, 33828, 28336, 0], [32132, 0], [44898, 253, 1392, 259, 28986, 0], [160, 14564, 9, 55, 26, 15, 15675, 12, 1240, 2, 10, 591, 13037, 15, 32159, 4501, 4, 3303, 397, 4, 15675, 10, 212, 1632, 21, 17459, 794, 3, 35, 1129, 7, 4, 2259, 32159, 32, 4, 476, 48, 4, 1129, 7, 4, 3819, 15675, 3, 0], [13247, 73, 1769, 301, 548, 417, 3, 0], [660, 24006, 514, 25523, 0], [304, 4686, 195, 37, 0], [24, 222, 28, 1269, 19855, 2, 4, 526, 11276, 166, 253, 222, 26065, 0], [1620, 6467, 21, 1817, 2118, 37, 0], [5018, 0], [160, 11543, 86, 45, 5125, 42, 4, 3571, 365, 7, 15, 2184, 21, 8575, 8079, 3, 27367, 8950, 9, 13548, 7, 1186, 3571, 9, 3, 160, 11543, 94, 271, 7137, 37, 4541, 16478, 541, 482, 37175, 4, 365, 161, 71, 1187, 13548, 7, 24, 39727, 8153, 37, 14067, 6661, 9128, 6053, 4, 10163, 688, 12, 6661, 4, 881, 12469, 18, 2477, 7, 4, 365, 2, 235, 61, 94, 13665, 37175, 232, 4541, 3, 24, 39727, 8153, 37, 747, 102, 1963, 37, 160, 11543, 86, 246, 45, 5125, 235, 4, 2184, 21, 8575, 12921, 32, 11415, 26, 4, 3571, 3, 0], [35, 47009, 1255, 26202, 3150, 18, 67, 5852, 52, 4, 11949, 4815, 3, 616, 115, 7, 1031, 45, 4971, 3, 0], [2079, 37, 0], [37292, 2733, 18185, 21652, 110, 0], [35, 41994, 446, 32, 4, 506, 7, 365, 101, 4, 290, 1005, 7, 4, 6293, 1480, 3, 213, 115, 713, 4, 41994, 446, 12, 47, 10445, 1433, 2, 1700, 47, 10445, 1433, 57, 15721, 2, 57, 55, 115, 13808, 61, 1165, 9200, 3, 0], [30136, 190, 1459, 222, 4237, 6870, 26, 1459, 222, 37, 301, 2216, 0], [1625, 2711, 0], [19636, 0], [35, 11892, 8307, 24, 166, 5908, 6338, 1455, 4327, 28, 32, 73, 26735, 26, 4, 1679, 55, 6427, 12, 256, 67, 6137, 26, 3, 0], [9673, 67, 34052, 24717, 0], [359, 13415, 39147, 10642, 0], [49, 47635, 47906, 48940, 0], [249, 6110, 15, 635, 75, 9, 111, 928, 0], [7204, 10571, 101, 5096, 0], [19335, 24, 550, 6470, 0], [402, 25950, 0], [38007, 21, 142, 14710, 6338, 37313, 0], [5859, 263, 0], [5974, 37, 301, 548, 0], [11381, 124, 0], [5696, 309, 6658, 13843, 0], [375, 514, 12, 907, 3889, 19994, 51, 0], [26088, 4029, 3453, 4516, 1164, 18, 301, 548, 0], [5846, 12522, 37, 0], [402, 2635, 511, 50, 18466, 6, 9, 13336, 0], [646, 6442, 10642, 86, 45, 31796, 3, 3138, 55, 2210, 54, 0], [6340, 5967, 10387, 5967, 817, 222, 6966, 1802, 5397, 21, 511, 3310, 3, 5378, 0], [26835, 141, 0], [4788, 10, 15100, 9, 0], [18787, 9, 0], [5258, 48583, 37, 0], [10605, 37, 10605, 9, 25103, 3, 0], [5258, 37313, 0], [526, 381, 5169, 26584, 687, 0], [3786, 37, 0], [160, 3385, 98, 928, 28174, 2329, 3, 0], [402, 13331, 19360, 0], [560, 52, 170, 899, 12, 5407, 37, 4, 1018, 1317, 32, 11920, 3, 0], [34176, 117, 32419, 0], [213, 52, 4168, 12, 3583, 4, 7829, 12, 147, 232, 301, 548, 15404, 3, 8429, 2025, 15669, 54, 0], [17404, 0], [402, 9913, 0], [932, 67, 9319, 55, 14821, 4, 3819, 37875, 3, 0], [7834, 0], [13662, 13722, 37, 0], [12411, 9, 649, 12, 4, 4561, 7, 77, 87, 381, 3784, 11634, 0], [6031, 10933, 7260, 1829, 0], [443, 1437, 29418, 32, 11415, 26, 15049, 25218, 4, 1437, 86, 45, 5917, 14100, 4, 22635, 44656, 32, 874, 3844, 101, 314, 4, 1437, 1129, 57, 16494, 3, 0], [249, 442, 0], [47265, 37, 301, 548, 0], [402, 660, 9, 7761, 0], [8399, 836, 18164, 34305, 931, 3, 452, 3, 526, 14527, 34228, 0], [301, 548, 3826, 9, 96, 19925, 0], [238, 133, 5045, 12543, 39777, 0], [13675, 21, 532, 3595, 9, 18787, 37, 0], [1436, 4354, 4004, 52, 2259, 46, 4, 5701, 6780, 1038, 9232, 162, 3, 5892, 34955, 86, 4580, 2, 235, 55, 3826, 67, 542, 2, 9075, 26, 638, 155, 732, 12, 4, 9232, 162, 2454, 3, 0], [16114, 0], [488, 0], [6917, 1202, 0], [6760, 33978, 41, 24834, 48867, 0], [46898, 37, 0], [14022, 11660, 5537, 0], [19341, 133, 1167, 0], [7792, 0], [16654, 900, 21, 1430, 7742, 108, 12982, 1274, 584, 22, 11973, 584, 1802, 720, 511, 3, 57, 309, 0], [41812, 0], [26234, 101, 5629, 0], [17006, 0], [443, 67, 2674, 32, 22597, 402, 2635, 1506, 511, 50, 86, 1680, 4, 3457, 2025, 18, 77, 3294, 6240, 26, 7499, 487, 6540, 61, 18, 4, 14802, 3, 0], [3135, 6032, 3581, 37, 0], [5846, 29544, 0], [7821, 17706, 9, 0], [5846, 37, 301, 548, 0], [89, 75, 13259, 50, 11108, 2120, 5800, 2190, 0], [11540, 42, 43413, 0], [1620, 4353, 3753, 0], [213, 79, 4700, 601, 2619, 1097, 15, 681, 421, 85, 165, 1018, 18, 77, 1342, 8574, 601, 7, 301, 4494, 10407, 67, 1223, 45, 403, 12, 6661, 4, 8574, 5983, 54, 0], [11157, 67, 235, 55, 1453, 197, 81, 6, 75, 639, 12, 45, 3751, 205, 15, 191, 844, 349, 453, 3, 35, 2025, 5311, 86, 631, 1733, 2, 10, 55, 86, 45, 1684, 42, 4, 21702, 108, 7081, 48, 487, 3, 0], [3493, 0], [405, 453, 37, 6291, 5231, 110, 0], [13127, 1277, 1502, 9658, 0], [19497, 0], [5118, 39911, 9, 7, 4, 3819, 6610, 4004, 18, 4, 1798, 3758, 0], [213, 79, 12, 3826, 15, 17314, 3, 0], [16184, 1410, 2118, 12, 13645, 37, 0], [4484, 67, 9319, 12, 3005, 4, 1017, 2695, 3, 0], [6606, 222, 18756, 11712, 1072, 9, 110, 0], [12799, 38007, 0], [35, 402, 2635, 8873, 139, 50, 28402, 0], [26925, 41, 40497, 660, 9, 1244, 259, 24, 9021, 28, 0], [44224, 2061, 133, 1624, 0], [41, 0], [6211, 364, 10466, 0], [156, 0], [16627, 28079, 0], [741, 0], [188, 3413, 4186, 6926, 401, 41738, 2263, 3282, 50, 23155, 2069, 1323, 50, 29964, 23177, 50, 23155, 50, 31987, 28, 2494, 9, 18119, 602, 3419, 3605, 0], [39779, 582, 2451, 133, 124, 0], [1989, 5310, 9176, 8428, 1912, 7, 542, 25, 3878, 548, 25, 3, 0], [488, 15952, 9, 3889, 162, 2470, 0], [13453, 364, 10492, 23661, 0], [411, 7, 30792, 402, 1392, 190, 4900, 2614, 0], [41529, 4518, 359, 6439, 158, 1435, 108, 28265, 13966, 108, 278, 20537, 1678, 26377, 0], [9086, 67, 7534, 12, 4409, 33, 117, 1174, 17314, 32, 21141, 48, 2103, 21, 20763, 3, 0], [596, 7907, 928, 3, 301, 548, 6369, 12102, 12, 39296, 61, 453, 3, 0], [2564, 10892, 0], [14, 139, 1146, 623, 139, 1146, 623, 139, 1146, 623, 109, 11892, 11892, 458, 458, 20906, 135, 1629, 45150, 41, 309, 75, 50, 3, 3, 583, 18, 567, 3, 20, 74, 2104, 14, 139, 1146, 623, 139, 1146, 623, 139, 1146, 623, 109, 11892, 11892, 456, 458, 20906, 135, 2002, 36773, 5719, 41, 309, 75, 50, 3, 3, 583, 18, 567, 3, 20, 74, 62, 5849, 5719, 14, 139, 1146, 623, 139, 1146, 623, 139, 1146, 623, 109, 11892, 11892, 441, 458, 37, 2678, 135, 1841, 222, 3439, 41, 309, 75, 50, 3, 3, 583, 18, 567, 3, 20, 74, 137, 3439, 14, 139, 1146, 623, 139, 1146, 623, 139, 1146, 623, 109, 11892, 11892, 441, 458, 20906, 135, 2041, 1054, 75, 41, 309, 75, 50, 3, 0], [3688, 67, 5311, 235, 55, 197, 73, 639, 12, 579, 488, 21, 2049, 9, 33, 79, 118, 3529, 152, 52, 73, 1743, 2788, 3, 0], [28657, 108, 0], [15479, 13662, 30, 15479, 16143, 24, 12001, 37, 15479, 16143, 32, 9480, 64, 15479, 13662, 10, 1566, 45, 12809, 40406, 71, 67, 195, 28, 0], [20293, 2468, 8617, 13070, 0], [402, 89, 75, 13259, 50, 47, 0], [10702, 63, 0], [35, 1427, 337, 12894, 19333, 0], [3012, 8825, 1392, 0], [31103, 34046, 33677, 0], [9086, 13662, 18787, 0], [213, 115, 6523, 77, 417, 24, 25583, 2601, 3164, 33, 4, 417, 86, 1440, 3073, 42, 67, 402, 12073, 6319, 50, 542, 46, 21104, 2015, 30, 4, 1129, 7, 4, 417, 2, 10, 21104, 4, 13331, 9319, 3, 0], [38489, 45250, 0], [37392, 188, 30564, 0], [935, 5310, 2252, 0], [402, 4486, 597, 50, 0], [24849, 4, 17153, 26, 4, 8488, 20034, 186, 3, 443, 55, 639, 5110, 17153, 9, 2, 3788, 254, 46, 12469, 3, 0], [17714, 14183, 0], [1951, 5634, 75, 4, 402, 2635, 529, 6966, 50, 4118, 12, 3307, 15, 17153, 2, 852, 4, 3278, 17153, 48, 15, 28972, 3, 35, 4118, 86, 579, 270, 32, 542, 111, 3, 443, 4, 3278, 17153, 2119, 4, 5313, 3086, 12362, 2, 4, 5313, 86, 45, 5125, 42, 4, 1017, 1451, 7, 4, 2246, 23727, 28768, 2, 48, 5405, 11316, 42, 4, 23727, 6467, 3, 0], [32757, 529, 8455, 24, 166, 75, 13259, 2846, 142, 102, 0], [35, 440, 5483, 1680, 55, 4, 11949, 47009, 9, 7, 402, 2635, 6659, 18114, 3974, 50, 3, 0], [1963, 37, 55, 86, 73, 45, 1154, 12, 15455, 67, 844, 1394, 2, 568, 4, 4295, 462, 58, 3878, 548, 149, 32, 18, 4, 842, 3, 1789, 35620, 67, 34955, 288, 4, 195, 94, 886, 3, 0], [304, 12815, 124, 12, 6871, 1437, 3, 0], [35, 10642, 26, 402, 4976, 13632, 50, 52, 12119, 18, 15, 1437, 18, 4, 4118, 6, 9, 1174, 15675, 2, 6450, 987, 751, 3261, 585, 17955, 583, 1787, 74, 33275, 309, 74, 1860, 8147, 7332, 3, 9132, 33, 1437, 2, 10642, 52, 1172, 18, 1005, 2, 85, 4580, 42, 40242, 124, 5277, 2, 198, 48, 278, 764, 15335, 4732, 488, 3255, 15, 3751, 12, 4, 436, 15335, 800, 2, 907, 4, 1410, 18, 4, 10642, 1437, 42, 33, 800, 1129, 3, 443, 61, 664, 73, 4580, 2, 591, 2097, 61, 4513, 46, 11333, 15, 1410, 4332, 278, 764, 15335, 4732, 3036, 2, 4, 3751, 115, 45, 2192, 39600, 4, 800, 1129, 3, 0], [386, 1828, 2674, 2, 55, 115, 5139, 4, 6569, 1344, 2429, 18, 783, 46, 1097, 4, 205, 74, 761, 14861, 913, 24, 259, 424, 17743, 101, 28, 1156, 12, 4, 2674, 7293, 3, 0], [35, 411, 330, 1786, 12, 399, 288, 4933, 15, 2796, 52, 12, 3826, 4, 1139, 55, 52, 1124, 12, 1812, 24, 16360, 12254, 253, 57, 4486, 3525, 46589, 50, 2, 579, 31228, 7, 5489, 28, 10, 12, 3826, 15, 1237, 109, 3835, 5073, 1437, 1129, 1509, 16999, 26, 117, 2796, 10, 1168, 3, 213, 121, 354, 15, 1129, 10, 2153, 26, 117, 2796, 2, 152, 289, 115, 5191, 45, 4971, 2027, 3, 0], [4412, 111, 26304, 0], [1717, 3689, 0], [267, 22048, 717, 1756, 26, 9592, 13169, 0], [8113, 11260, 37, 0], [11016, 3317, 6581, 108, 0], [84, 1317, 7, 4, 25146, 9473, 9, 1139, 4378, 7918, 30, 67, 3794, 3, 0], [1536, 1437, 0], [5372, 23963, 0], [402, 89, 75, 13259, 50, 41, 0], [5658, 746, 6536, 1129, 37, 0], [24849, 11050, 6218, 0]], 'attention_mask': [[1, 1, 1], [1, 1, 1, 1], [1, 1], [1, 1, 1, 1, 1, 1, 1, 1], [1, 1, 1, 1, 1, 1], [1, 1, 1, 1, 1, 1, 1, 1, 1, 1, 1, 1, 1, 1, 1, 1, 1], [1, 1, 1, 1, 1, 1, 1, 1, 1, 1, 1, 1, 1], [1, 1], [1, 1, 1, 1, 1, 1, 1], [1, 1, 1, 1], [1, 1, 1, 1, 1, 1, 1, 1, 1, 1, 1, 1], [1, 1, 1, 1, 1], [1, 1, 1], [1, 1, 1, 1], [1, 1, 1, 1, 1, 1, 1, 1], [1, 1, 1, 1], [1, 1, 1, 1, 1, 1, 1, 1, 1, 1, 1, 1, 1, 1, 1, 1, 1, 1, 1, 1, 1, 1, 1, 1, 1, 1, 1, 1, 1, 1, 1, 1, 1, 1, 1, 1, 1, 1, 1, 1, 1, 1, 1, 1, 1, 1, 1, 1, 1, 1, 1, 1, 1, 1, 1, 1, 1, 1, 1, 1, 1, 1, 1, 1, 1, 1, 1, 1, 1, 1, 1, 1, 1, 1, 1, 1, 1, 1, 1, 1, 1, 1, 1, 1, 1, 1, 1, 1, 1, 1, 1, 1, 1, 1, 1, 1, 1, 1, 1, 1, 1, 1, 1, 1, 1, 1, 1, 1, 1, 1, 1, 1, 1, 1, 1, 1, 1, 1, 1, 1, 1, 1, 1, 1, 1, 1, 1, 1], [1, 1, 1, 1, 1, 1, 1, 1, 1, 1, 1, 1, 1, 1, 1, 1, 1, 1, 1, 1, 1, 1, 1, 1, 1, 1, 1, 1], [1, 1], [1, 1, 1], [1, 1], [1, 1], [1, 1, 1, 1], [1, 1], [1, 1, 1, 1, 1, 1, 1, 1, 1, 1, 1, 1, 1, 1, 1, 1, 1, 1, 1, 1, 1, 1, 1, 1, 1, 1, 1, 1, 1, 1, 1, 1, 1, 1, 1, 1, 1, 1, 1, 1, 1], [1, 1, 1, 1, 1, 1, 1, 1, 1, 1, 1, 1, 1, 1, 1, 1, 1, 1, 1, 1, 1, 1, 1, 1, 1, 1, 1, 1, 1, 1, 1, 1, 1, 1, 1, 1, 1, 1], [1, 1, 1, 1, 1, 1, 1, 1], [1, 1, 1, 1, 1, 1, 1, 1, 1, 1], [1, 1, 1, 1, 1], [1, 1, 1, 1, 1, 1, 1, 1, 1], [1, 1, 1, 1, 1], [1, 1, 1, 1], [1, 1, 1, 1, 1], [1, 1, 1, 1, 1, 1, 1, 1, 1, 1, 1, 1, 1, 1, 1, 1, 1, 1, 1, 1, 1, 1, 1, 1, 1, 1, 1, 1, 1, 1, 1, 1, 1, 1, 1, 1, 1, 1], [1, 1, 1, 1, 1, 1], [1, 1, 1, 1, 1], [1, 1, 1, 1, 1, 1, 1, 1, 1, 1, 1], [1, 1, 1, 1, 1, 1, 1, 1, 1, 1, 1, 1, 1, 1, 1, 1, 1, 1, 1, 1, 1, 1, 1, 1, 1, 1, 1, 1, 1, 1, 1, 1, 1, 1, 1, 1, 1, 1, 1, 1], [1, 1], [1, 1, 1, 1, 1, 1, 1, 1, 1, 1, 1, 1, 1, 1, 1, 1, 1, 1, 1, 1, 1, 1, 1, 1, 1, 1, 1, 1, 1, 1, 1, 1, 1, 1, 1, 1, 1, 1, 1, 1, 1, 1, 1, 1, 1, 1, 1], [1, 1, 1, 1], [1, 1, 1], [1, 1, 1, 1, 1, 1, 1, 1], [1, 1, 1, 1, 1, 1, 1, 1, 1, 1, 1, 1, 1], [1, 1, 1, 1, 1, 1, 1, 1, 1, 1, 1, 1, 1, 1, 1, 1, 1, 1, 1], [1, 1, 1, 1, 1, 1, 1, 1, 1, 1, 1, 1, 1, 1, 1], [1, 1, 1, 1, 1], [1, 1, 1, 1, 1, 1, 1, 1, 1, 1], [1, 1, 1, 1], [1, 1, 1, 1, 1, 1], [1, 1, 1, 1, 1, 1, 1, 1, 1, 1, 1, 1, 1, 1, 1], [1, 1, 1, 1, 1, 1, 1], [1, 1, 1], [1, 1, 1, 1], [1, 1, 1, 1, 1], [1, 1, 1], [1, 1, 1, 1, 1], [1, 1, 1, 1, 1, 1, 1, 1, 1, 1], [1, 1, 1, 1, 1, 1, 1, 1, 1], [1, 1, 1, 1, 1, 1, 1, 1, 1, 1, 1, 1, 1, 1], [1, 1, 1, 1, 1, 1, 1, 1, 1, 1, 1, 1, 1, 1, 1, 1, 1, 1, 1, 1, 1, 1, 1, 1, 1, 1, 1, 1, 1, 1, 1, 1, 1, 1, 1, 1, 1, 1, 1, 1, 1, 1, 1, 1, 1, 1, 1, 1, 1, 1, 1, 1, 1, 1, 1, 1, 1, 1, 1, 1, 1, 1, 1, 1, 1, 1, 1, 1, 1, 1, 1, 1, 1, 1, 1, 1], [1, 1, 1, 1, 1, 1, 1, 1, 1, 1, 1, 1, 1], [1, 1], [1, 1, 1], [1, 1, 1, 1, 1, 1, 1, 1, 1, 1, 1, 1, 1, 1, 1, 1, 1, 1, 1, 1, 1, 1, 1, 1, 1, 1, 1, 1, 1, 1, 1, 1, 1, 1, 1, 1, 1, 1, 1], [1, 1, 1, 1, 1, 1, 1], [1, 1, 1, 1], [1, 1, 1, 1, 1, 1], [1, 1], [1, 1, 1, 1, 1, 1], [1, 1, 1, 1, 1, 1], [1, 1, 1, 1, 1, 1, 1, 1, 1, 1, 1], [1, 1, 1, 1, 1, 1, 1], [1, 1, 1], [1, 1], [1, 1, 1], [1, 1, 1, 1, 1, 1, 1, 1, 1, 1, 1, 1, 1, 1, 1, 1, 1, 1, 1, 1, 1, 1, 1, 1, 1, 1, 1, 1, 1, 1, 1, 1, 1, 1, 1, 1, 1, 1, 1, 1, 1, 1, 1, 1, 1, 1, 1, 1, 1, 1, 1, 1, 1, 1, 1, 1, 1, 1, 1, 1, 1, 1], [1, 1], [1, 1, 1, 1, 1, 1, 1, 1, 1, 1, 1, 1], [1, 1, 1], [1, 1, 1, 1, 1, 1, 1, 1, 1, 1, 1, 1, 1, 1, 1], [1, 1, 1, 1], [1, 1, 1, 1, 1, 1, 1, 1], [1, 1, 1, 1, 1, 1, 1, 1, 1, 1, 1, 1, 1, 1, 1, 1, 1, 1, 1, 1, 1, 1, 1, 1, 1, 1, 1, 1, 1, 1, 1, 1], [1, 1, 1, 1, 1, 1, 1, 1, 1, 1, 1, 1, 1, 1, 1, 1, 1, 1, 1, 1, 1, 1, 1, 1, 1, 1, 1, 1, 1, 1, 1, 1, 1, 1, 1, 1, 1, 1, 1, 1, 1, 1, 1, 1, 1, 1, 1, 1, 1, 1, 1, 1, 1, 1, 1, 1, 1, 1, 1, 1, 1, 1, 1, 1, 1, 1, 1, 1, 1], [1, 1, 1, 1, 1, 1, 1, 1, 1], [1, 1, 1], [1, 1], [1, 1, 1, 1, 1, 1, 1, 1, 1, 1, 1, 1, 1, 1, 1, 1], [1, 1], [1, 1, 1, 1], [1, 1, 1], [1, 1, 1, 1, 1, 1, 1, 1, 1, 1, 1, 1, 1, 1, 1, 1], [1, 1], [1, 1, 1, 1, 1, 1], [1, 1, 1], [1, 1, 1, 1], [1, 1, 1, 1, 1, 1, 1, 1], [1, 1], [1, 1, 1, 1, 1, 1], [1, 1, 1, 1, 1, 1, 1, 1, 1, 1, 1, 1, 1, 1, 1, 1, 1, 1, 1, 1, 1, 1, 1, 1, 1, 1, 1, 1, 1, 1, 1, 1, 1, 1, 1, 1, 1, 1, 1, 1, 1, 1, 1, 1, 1, 1], [1, 1, 1, 1, 1, 1, 1, 1], [1, 1, 1, 1, 1], [1, 1, 1, 1, 1], [1, 1, 1, 1, 1, 1, 1, 1, 1, 1, 1, 1, 1, 1], [1, 1, 1, 1, 1, 1, 1], [1, 1], [1, 1, 1, 1, 1, 1, 1, 1, 1, 1, 1, 1, 1, 1, 1, 1, 1, 1, 1, 1, 1, 1, 1, 1, 1, 1, 1, 1, 1, 1, 1, 1, 1, 1, 1, 1, 1, 1, 1, 1, 1, 1, 1, 1, 1, 1, 1, 1, 1, 1, 1, 1, 1, 1, 1, 1, 1, 1, 1, 1, 1, 1, 1, 1, 1, 1, 1, 1, 1, 1, 1, 1, 1, 1, 1, 1, 1, 1, 1, 1, 1, 1, 1, 1, 1, 1, 1, 1, 1, 1, 1, 1, 1, 1, 1, 1, 1, 1, 1, 1], [1, 1, 1, 1, 1, 1, 1, 1, 1, 1, 1, 1, 1, 1, 1, 1, 1, 1, 1, 1, 1], [1, 1, 1], [1, 1, 1, 1, 1, 1], [1, 1, 1, 1, 1, 1, 1, 1, 1, 1, 1, 1, 1, 1, 1, 1, 1, 1, 1, 1, 1, 1, 1, 1, 1, 1, 1, 1, 1, 1, 1, 1, 1, 1, 1, 1, 1, 1, 1, 1, 1, 1, 1, 1], [1, 1, 1, 1, 1, 1, 1, 1, 1, 1, 1, 1, 1], [1, 1, 1], [1, 1], [1, 1, 1, 1, 1, 1, 1, 1, 1, 1, 1, 1, 1, 1, 1, 1, 1, 1, 1, 1, 1, 1, 1, 1, 1], [1, 1, 1, 1, 1], [1, 1, 1, 1, 1], [1, 1, 1, 1, 1], [1, 1, 1, 1, 1, 1, 1, 1, 1], [1, 1, 1, 1, 1], [1, 1, 1, 1, 1], [1, 1, 1], [1, 1, 1, 1, 1, 1, 1], [1, 1, 1], [1, 1, 1, 1, 1], [1, 1, 1], [1, 1, 1, 1, 1], [1, 1, 1, 1, 1, 1, 1, 1], [1, 1, 1, 1, 1, 1, 1, 1, 1], [1, 1, 1, 1], [1, 1, 1, 1, 1, 1, 1, 1, 1], [1, 1, 1, 1, 1, 1, 1, 1, 1, 1, 1, 1], [1, 1, 1, 1, 1, 1, 1, 1, 1, 1, 1, 1, 1, 1, 1], [1, 1, 1], [1, 1, 1, 1, 1], [1, 1, 1], [1, 1, 1, 1], [1, 1, 1, 1, 1, 1, 1], [1, 1, 1], [1, 1, 1, 1, 1, 1], [1, 1, 1], [1, 1, 1, 1, 1, 1, 1, 1], [1, 1, 1, 1], [1, 1, 1, 1, 1, 1, 1, 1, 1, 1, 1, 1, 1, 1], [1, 1, 1, 1], [1, 1, 1, 1, 1, 1, 1, 1, 1, 1, 1, 1, 1, 1, 1, 1, 1, 1, 1], [1, 1], [1, 1, 1], [1, 1, 1, 1, 1, 1, 1, 1, 1, 1], [1, 1], [1, 1, 1, 1], [1, 1, 1, 1, 1, 1, 1, 1, 1, 1, 1, 1, 1], [1, 1, 1, 1, 1], [1, 1, 1, 1, 1, 1, 1, 1, 1, 1, 1, 1, 1, 1, 1, 1, 1, 1, 1, 1, 1, 1, 1, 1, 1, 1, 1, 1, 1], [1, 1, 1], [1, 1, 1, 1, 1], [1, 1, 1, 1, 1], [1, 1, 1, 1, 1, 1, 1, 1, 1, 1, 1, 1], [1, 1, 1, 1, 1, 1, 1], [1, 1, 1, 1, 1, 1], [1, 1, 1, 1, 1, 1, 1, 1], [1, 1, 1, 1, 1, 1, 1, 1, 1, 1, 1, 1, 1, 1, 1, 1, 1, 1, 1, 1, 1, 1, 1, 1, 1, 1, 1, 1, 1, 1, 1, 1, 1, 1, 1, 1], [1, 1], [1, 1], [1, 1, 1], [1, 1, 1, 1, 1, 1], [1, 1, 1], [1, 1, 1, 1], [1, 1, 1, 1], [1, 1], [1, 1, 1, 1, 1, 1, 1, 1, 1, 1, 1, 1, 1, 1, 1, 1, 1, 1, 1], [1, 1], [1, 1, 1, 1], [1, 1], [1, 1, 1, 1, 1, 1, 1, 1, 1, 1, 1, 1, 1, 1, 1, 1, 1, 1, 1, 1, 1, 1, 1, 1, 1, 1, 1, 1, 1], [1, 1, 1, 1, 1], [1, 1, 1], [1, 1, 1, 1], [1, 1, 1, 1, 1], [1, 1, 1, 1, 1, 1, 1, 1, 1], [1, 1, 1, 1], [1, 1, 1, 1], [1, 1, 1, 1, 1, 1, 1, 1, 1, 1, 1, 1, 1, 1, 1, 1, 1, 1, 1, 1, 1, 1, 1, 1, 1, 1, 1, 1, 1, 1, 1, 1], [1, 1, 1, 1, 1, 1, 1, 1, 1, 1, 1, 1, 1, 1, 1, 1, 1, 1, 1, 1, 1, 1, 1, 1, 1, 1, 1, 1, 1, 1, 1, 1, 1, 1, 1, 1, 1, 1, 1, 1, 1], [1, 1], [1, 1, 1, 1, 1, 1, 1], [1, 1, 1, 1, 1], [1, 1], [1, 1, 1, 1, 1, 1, 1, 1, 1, 1, 1, 1, 1], [1, 1, 1, 1, 1, 1, 1, 1], [1, 1, 1, 1, 1, 1, 1], [1, 1, 1, 1, 1, 1, 1, 1, 1, 1], [1, 1, 1, 1, 1, 1, 1, 1], [1, 1, 1], [1, 1, 1, 1, 1, 1, 1, 1], [1, 1, 1, 1, 1, 1, 1, 1, 1, 1, 1], [1, 1, 1, 1, 1], [1, 1], [1, 1, 1, 1], [1, 1], [1, 1, 1], [1, 1], [1, 1, 1, 1, 1, 1, 1, 1, 1, 1, 1, 1, 1, 1, 1, 1, 1, 1, 1, 1, 1, 1, 1, 1, 1, 1, 1], [1, 1, 1, 1, 1, 1], [1, 1, 1, 1, 1, 1, 1, 1, 1, 1, 1, 1, 1], [1, 1, 1, 1, 1, 1, 1], [1, 1, 1, 1, 1], [1, 1, 1, 1, 1, 1, 1, 1, 1], [1, 1, 1, 1, 1, 1, 1, 1, 1, 1, 1, 1, 1, 1, 1], [1, 1, 1, 1, 1, 1, 1, 1, 1, 1, 1, 1, 1, 1, 1, 1, 1], [1, 1, 1, 1, 1, 1, 1, 1, 1, 1, 1, 1, 1, 1], [1, 1, 1], [1, 1, 1, 1, 1, 1, 1, 1, 1, 1, 1, 1, 1, 1, 1, 1, 1, 1, 1, 1, 1, 1, 1, 1, 1, 1, 1, 1, 1, 1, 1, 1, 1, 1, 1, 1, 1, 1, 1, 1, 1, 1, 1, 1, 1, 1, 1, 1, 1, 1, 1, 1, 1, 1, 1, 1, 1, 1, 1, 1, 1, 1, 1, 1, 1, 1, 1, 1, 1, 1, 1, 1, 1, 1, 1, 1, 1, 1, 1, 1, 1, 1, 1, 1, 1, 1, 1, 1, 1, 1, 1, 1, 1, 1, 1, 1, 1, 1, 1, 1, 1, 1, 1, 1, 1, 1, 1, 1, 1, 1, 1, 1, 1, 1, 1, 1, 1, 1, 1, 1, 1, 1, 1, 1, 1, 1, 1, 1], [1, 1, 1, 1, 1, 1, 1, 1, 1, 1, 1, 1, 1, 1, 1, 1, 1, 1, 1, 1, 1, 1, 1, 1, 1], [1, 1, 1], [1, 1, 1, 1, 1, 1, 1, 1, 1, 1, 1, 1, 1, 1, 1, 1, 1, 1, 1, 1, 1, 1, 1, 1, 1], [1, 1, 1, 1, 1], [1, 1, 1, 1, 1, 1, 1], [1, 1, 1], [1, 1, 1, 1, 1, 1], [1, 1, 1, 1], [1, 1, 1, 1], [1, 1, 1, 1], [1, 1, 1, 1, 1, 1, 1, 1, 1, 1, 1, 1, 1, 1, 1, 1, 1, 1, 1, 1, 1, 1, 1, 1, 1, 1, 1, 1, 1, 1, 1, 1, 1, 1, 1, 1, 1, 1, 1], [1, 1, 1], [1, 1, 1, 1], [1, 1, 1, 1], [1, 1, 1, 1, 1], [1, 1, 1, 1, 1, 1, 1, 1, 1, 1, 1, 1, 1, 1, 1, 1, 1, 1, 1, 1, 1, 1], [1, 1, 1], [1, 1, 1, 1, 1, 1, 1, 1, 1, 1, 1, 1, 1, 1, 1, 1, 1, 1, 1, 1, 1, 1, 1, 1, 1, 1, 1, 1, 1, 1, 1, 1, 1, 1, 1, 1, 1, 1, 1, 1, 1, 1, 1, 1, 1, 1, 1, 1, 1, 1, 1, 1, 1, 1, 1, 1, 1, 1, 1, 1, 1, 1, 1, 1, 1, 1], [1, 1, 1, 1, 1, 1, 1, 1, 1, 1, 1], [1, 1, 1, 1, 1, 1, 1, 1, 1, 1, 1, 1, 1, 1, 1, 1, 1, 1], [1, 1, 1, 1, 1, 1, 1, 1, 1, 1, 1, 1, 1, 1, 1, 1, 1, 1, 1, 1, 1, 1, 1, 1, 1, 1, 1, 1, 1, 1, 1, 1, 1, 1, 1, 1, 1], [1, 1, 1, 1, 1, 1, 1, 1], [1, 1, 1, 1, 1, 1, 1, 1, 1, 1, 1, 1, 1, 1, 1, 1, 1, 1, 1, 1, 1, 1, 1, 1, 1, 1, 1, 1, 1, 1, 1, 1, 1, 1, 1, 1, 1, 1, 1, 1, 1, 1, 1, 1, 1, 1, 1, 1, 1, 1, 1, 1, 1, 1, 1, 1, 1, 1, 1, 1, 1, 1, 1, 1, 1, 1, 1, 1, 1, 1, 1, 1, 1, 1, 1, 1, 1, 1, 1, 1, 1, 1, 1, 1, 1, 1, 1, 1, 1, 1, 1, 1, 1, 1, 1, 1, 1, 1, 1, 1, 1, 1, 1, 1, 1, 1, 1, 1, 1, 1, 1, 1, 1], [1, 1, 1, 1, 1, 1, 1, 1, 1, 1, 1, 1, 1, 1, 1, 1, 1, 1, 1, 1, 1, 1, 1, 1, 1, 1, 1, 1, 1, 1, 1, 1, 1, 1], [1, 1, 1, 1, 1, 1, 1, 1, 1, 1, 1, 1, 1, 1, 1, 1, 1, 1, 1, 1, 1, 1, 1, 1, 1, 1, 1, 1, 1, 1, 1, 1, 1, 1, 1, 1, 1, 1, 1, 1, 1, 1, 1, 1, 1, 1, 1, 1, 1, 1, 1, 1, 1, 1, 1, 1, 1, 1, 1, 1, 1, 1, 1, 1, 1, 1, 1, 1, 1, 1, 1, 1, 1], [1, 1, 1, 1], [1, 1, 1], [1, 1, 1, 1, 1, 1, 1, 1], [1, 1, 1, 1], [1, 1, 1, 1, 1], [1, 1, 1, 1, 1, 1, 1, 1, 1, 1, 1, 1, 1, 1, 1], [1, 1, 1], [1, 1, 1], [1, 1, 1, 1, 1, 1, 1], [1, 1, 1, 1, 1, 1], [1, 1, 1, 1]]}\n",
            "{'input_ids': [[3982, 994, 150, 15402, 0], [402, 22181, 10691, 412, 25580, 402, 38492, 0], [402, 3383, 0], [20783, 108, 13, 305, 49, 32851, 3417, 0], [84, 30258, 1248, 14, 6, 2758, 0], [3453, 6867, 1547, 402, 38492, 7735, 20556, 17, 153, 402, 29033, 4322, 402, 29033, 416, 402, 38492, 301, 548, 81, 6, 82, 53, 34, 7608, 12319, 18458, 20, 6, 12039, 12679, 0], [24, 222, 28, 1895, 19930, 2, 6509, 526, 10721, 483, 4334, 108, 0], [2871, 18042, 1705, 0], [47580, 1163, 5, 402, 24483, 402, 38492, 0], [36536, 51, 5018, 685, 63, 3, 4486, 122, 0], [20340, 2709, 432, 5, 4259, 17, 14268, 3226, 19, 11430, 3, 0], [135, 15933, 101, 38695, 0], [49, 30145, 402, 38492, 0], [7997, 28050, 23, 2508, 0], [4322, 5, 29201, 24239, 40, 10929, 0], [18685, 5, 10822, 0], [402, 2635, 539, 5625, 50, 43, 8, 1233, 5474, 5, 466, 20, 6, 3311, 8000, 3, 508, 11469, 13, 1664, 402, 2635, 511, 50, 27, 19, 6975, 2, 8, 2620, 2, 19, 19769, 20, 6, 4620, 9, 2, 16, 2058, 11, 16, 828, 24, 720, 1874, 50, 2, 402, 2635, 1937, 500, 14464, 50, 2, 402, 2635, 20566, 9687, 8881, 50, 2, 402, 2635, 15120, 9, 50, 11, 402, 2635, 1506, 511, 50, 28, 31, 38, 1237, 7907, 3, 7705, 7249, 36, 38, 10745, 7759, 5, 7947, 2, 402, 2635, 539, 5625, 50, 4357, 7559, 16, 3063, 13859, 29, 16, 1664, 15469, 2, 11, 23, 11536, 20, 6, 362, 2, 23, 28598, 9227, 5, 14, 6, 3821, 13, 1664, 127, 7947, 3, 83, 3397, 91, 721, 19, 0], [20874, 19, 9678, 3416, 36, 19, 1327, 9758, 470, 29, 88, 8675, 4706, 14, 6, 4963, 5, 66, 3909, 23, 526, 559, 133, 559, 27583, 3, 0], [5687, 0], [4832, 9, 334, 3525, 1068, 13672, 2805, 986, 25770, 0], [1915, 0], [6809, 0], [8713, 5, 357, 101, 0], [7048, 0], [87, 6, 12039, 452, 1494, 9594, 34, 654, 5, 432, 2042, 41, 10770, 19325, 4586, 4392, 19, 4387, 535, 3124, 817, 699, 108, 535, 3124, 817, 49, 8825, 535, 3124, 817, 17659, 8215, 133, 328, 24, 23889, 9983, 28, 41, 33102, 6468, 0], [469, 495, 949, 6238, 29, 402, 2635, 186, 8577, 259, 50, 168, 76, 53, 14268, 19, 2428, 59, 19, 3254, 29, 88, 15193, 1150, 88, 1408, 15109, 493, 7102, 19, 5893, 11430, 8140, 34, 15973, 27, 81, 6, 32783, 29, 693, 1184, 5, 4027, 3, 0], [45013, 16, 4821, 23, 21, 3188, 5, 301, 548, 0], [1561, 5625, 3069, 1282, 110, 0], [30349, 8140, 8, 11831, 20, 6, 3850, 0], [11371, 14846, 1656, 5, 8, 421, 5, 372, 20, 6, 150, 3284, 7494, 110, 0], [1538, 5, 402, 1612, 402, 38492, 0], [25365, 36783, 19, 14776, 4107, 5748, 93, 2, 81, 6587, 7, 4, 49, 15185, 442, 0], [45026, 108, 19, 43995, 4006, 17, 929, 0], [4366, 88, 1245, 5, 4094, 14, 6, 112, 13, 13231, 21, 22617, 2040, 3018, 174, 286, 43, 17385, 17, 8, 26494, 3, 60, 252, 4567, 2, 193, 6442, 1593, 1242, 20, 6, 501, 14833, 51, 3, 385, 23691, 1510, 10749, 323, 3644, 18467, 0], [20490, 5, 14, 6, 10444, 13, 14755, 4666, 110, 0], [22551, 34, 2428, 5, 402, 3276, 0], [89, 12868, 34, 4599, 2992, 22, 542, 153, 402, 29033, 301, 548, 402, 29033, 416, 0], [31364, 1027, 19, 37582, 11648, 1278, 31, 19, 17075, 3, 15383, 6, 93, 76, 40558, 53, 371, 11831, 20, 6, 14847, 960, 5811, 29, 19, 9376, 402, 2635, 186, 8577, 259, 50, 43, 14, 6, 45264, 22, 9376, 21395, 3, 0], [21324, 0], [80, 14647, 40, 652, 3397, 23, 223, 398, 20, 6, 112, 223, 11303, 5, 372, 13257, 2650, 17, 25461, 3, 4132, 174, 137, 6, 82, 30679, 322, 31, 16, 1480, 2807, 16, 65, 11538, 2, 823, 6099, 23890, 5, 7028, 11, 5, 2591, 5, 8, 225, 13, 3397, 2, 66, 68, 6, 186, 76, 168, 1161, 2367, 3, 0], [13656, 23, 320, 5, 978, 110, 0], [2136, 4343, 900, 756, 1044, 3, 4486, 122, 0], [14641, 47660, 51, 0], [8480, 17, 183, 27, 19, 3254, 153, 402, 29033, 188, 7072, 25542, 402, 29033, 1958, 0], [24, 166, 28, 1100, 375, 211, 359, 28651, 24, 166, 28, 945, 11748, 24311, 526, 2090, 6400, 14629, 0], [31066, 108, 19, 113, 72, 34, 9020, 39, 111, 3621, 24, 15120, 14214, 28, 0], [33355, 5, 11964, 402, 38492, 0], [87, 6, 15514, 76, 2716, 29, 109, 402, 29033, 7735, 2, 140, 301, 4494, 0], [4193, 20, 6, 17346, 402, 38492, 0], [80, 1283, 43, 1585, 768, 3, 0], [153, 402, 29033, 14455, 1044, 402, 29033, 416, 295, 19, 689, 20, 6, 93, 12116, 13, 12876, 0], [33015, 21, 682, 5465, 74, 267, 14668, 9, 0], [156, 6185, 26694, 350, 226, 431, 3864, 32996, 1510, 10749, 323, 3644, 18467, 0], [1538, 5, 1612, 22, 10095, 21, 682, 0], [23235, 30514, 0], [9964, 685, 367, 41885, 529, 1686, 2085, 2921, 177, 41, 6221, 381, 4773, 657, 6587, 0], [89, 23772, 16, 26582, 2593, 14956, 0], [40853, 769, 14, 6, 4620, 22, 11603, 5, 6442, 22, 10929, 19953, 24, 8918, 8137, 102, 0], [2635, 6553, 817, 720, 111, 3573, 9, 111, 0], [1955, 2812, 41, 1909, 13, 925, 72, 589, 8198, 402, 304, 6978, 50, 402, 29033, 54, 0], [1533, 2305, 2, 19, 2467, 5, 4589, 168, 100, 15130, 56, 23217, 59, 12876, 3, 9914, 8, 1155, 5, 8, 2407, 2, 88, 19617, 88, 11527, 29, 2, 8, 1565, 22, 398, 2, 8, 8039, 59, 8, 8892, 439, 1585, 2615, 27, 493, 146, 1737, 1283, 5, 3117, 3, 277, 497, 722, 2, 8, 8039, 2060, 871, 8, 1283, 39581, 11, 8, 4330, 402, 14, 75, 50, 308, 2, 3486, 2, 3116, 309, 75, 50, 127, 30161, 3, 0], [35339, 5, 1746, 2613, 1108, 11091, 13, 4036, 24, 162, 2508, 17, 5177, 40, 5891, 28, 0], [44808, 0], [24263, 133, 10378, 139, 8468, 265, 12634, 3, 4486, 122, 0], [350, 193, 29719, 43, 3947, 5, 4491, 38, 5607, 22, 15237, 2, 23, 4068, 345, 38, 2290, 38, 2099, 2, 345, 203, 2099, 9, 2, 88, 1069, 100, 3947, 20, 6, 162, 1697, 34, 2, 38, 9617, 59, 16, 19476, 47611, 3, 0], [6606, 1352, 51, 7, 4, 492, 15901, 1184, 7, 30314, 9, 494, 0], [3332, 8103, 139, 34, 432, 110, 0], [13137, 8810, 27, 486, 5, 3521, 17, 370, 0], [8399, 0], [4322, 20, 6, 19781, 19649, 402, 38492, 0], [8140, 8, 863, 5, 6231, 22, 1499, 12559, 0], [402, 12317, 111, 3, 24896, 114, 3, 28692, 9139, 12945, 50, 0], [402, 25365, 9915, 1432, 182, 16, 46423, 9, 0], [8136, 3679, 0], [1561, 1605, 0], [1392, 402, 38492, 0], [530, 8856, 5, 1199, 62, 6, 32851, 51, 540, 19, 3254, 583, 492, 5634, 2, 66, 44, 168, 35647, 68, 6, 431, 15, 90, 15276, 17, 929, 20, 6, 112, 5151, 23840, 526, 6010, 107, 59, 20, 6, 112, 647, 2207, 3, 1570, 11603, 2023, 31, 120, 8856, 5, 1199, 2172, 34, 1400, 23, 28013, 36, 8, 9379, 5, 193, 3254, 563, 24, 14453, 102, 3453, 10698, 1405, 5, 1472, 11603, 9, 168, 62, 6, 19829, 7465, 402, 38492, 3586, 41, 682, 1836, 2491, 402, 29033, 54, 0], [20289, 0], [586, 139, 14, 6, 27740, 27, 68, 6, 431, 95, 43036, 51, 38, 447, 8, 1719, 10554, 19275, 24, 358, 929, 5, 1119, 102, 8941, 7492, 37, 17502, 6602, 24670, 9, 0], [5950, 16500, 657, 6587, 0], [12739, 19, 1309, 13, 1234, 783, 5, 3007, 5, 8, 16698, 17702, 110, 0], [5258, 17, 7112, 0], [14351, 7621, 540, 34, 43896, 110, 1511, 0], [134, 7950, 402, 38492, 1803, 589, 1107, 5, 23986, 8868, 2, 92, 167, 15, 34, 874, 6210, 22, 2207, 253, 14464, 27, 68, 6, 107, 14, 2156, 11, 2169, 19, 2428, 647, 817, 5719, 11, 23, 15812, 38, 5607, 10084, 3, 15383, 6, 93, 402, 29033, 54, 0], [530, 22257, 3209, 5, 5144, 62, 6, 10211, 38, 1039, 3, 104, 167, 15, 13, 3027, 5, 4330, 11, 13, 3027, 1768, 4758, 1838, 3, 83, 3027, 5, 4330, 70, 363, 31, 38, 1845, 4330, 41, 39, 1388, 13, 4921, 5, 5144, 41, 24, 529, 1312, 50, 16, 137, 11700, 49, 2807, 28, 849, 29, 2, 31, 16, 3027, 1768, 4758, 1838, 2, 8, 4330, 41, 39, 1388, 6417, 41, 13, 5144, 13773, 17, 521, 2407, 164, 38, 2407, 13882, 24, 7101, 4529, 483, 352, 11, 25808, 28, 11, 38, 2407, 5853, 24, 222, 11700, 13530, 11, 527, 139, 704, 102, 0], [89, 23772, 19, 68, 21483, 12465, 13, 11004, 614, 16, 11847, 402, 29033, 54, 0], [3722, 0], [26751, 0], [350, 88, 1482, 265, 120, 2674, 2, 8, 21670, 13, 2603, 439, 30866, 3, 0], [640, 7844, 0], [5711, 23, 14508, 402, 38492, 0], [3268, 9, 7778, 166, 1026, 18, 596, 4708, 5817, 0], [45013, 34, 23596, 3, 28834, 8, 669, 12556, 108, 3498, 20, 6, 93, 23596, 27, 65, 5, 3884, 3, 0], [22847, 0], [6979, 17390, 5, 376, 1782, 43914, 2049, 11258, 3462, 817, 158, 15125, 3, 4486, 122, 0], [32888, 37, 0], [3262, 9, 16341, 0], [89, 15725, 41, 12763, 617, 72, 43254, 2220, 142, 3954, 222, 489, 0], [236, 5147, 0], [19383, 8386, 59, 21, 32141, 17741, 142, 3954, 222, 489, 0], [6025, 88, 434, 34, 3254, 17, 7112, 2, 1692, 9117, 2497, 38, 1107, 5, 4767, 17, 929, 5, 8, 3636, 23000, 31, 66, 3254, 11, 163, 266, 21, 47164, 9, 3, 60, 689, 5, 8, 1107, 5, 4767, 43, 19, 223, 29, 19, 689, 22, 3254, 6063, 3, 0], [34688, 5, 21395, 14, 6, 1015, 153, 402, 29033, 301, 548, 402, 29033, 1958, 0], [38875, 35564, 0], [22279, 5, 14, 6, 5824, 402, 38492, 8941, 774, 8291, 0], [24, 222, 28, 1269, 19855, 2, 16, 31136, 526, 11276, 166, 253, 222, 0], [3383, 2118, 5, 8, 863, 5, 3745, 402, 38492, 0], [23016, 0], [530, 23350, 439, 15526, 40, 19, 2387, 5, 3571, 20, 6, 93, 8079, 2184, 21, 8575, 3, 26536, 2, 16, 8950, 9, 95, 22471, 5, 652, 3571, 3, 530, 23350, 6365, 203, 8668, 402, 38492, 14, 9068, 337, 9594, 6908, 5, 5069, 19, 2387, 4720, 39, 391, 2517, 24, 1356, 5891, 402, 38492, 14067, 3842, 376, 9128, 9594, 19, 2447, 1028, 27, 5288, 16, 11408, 10072, 9226, 1251, 19, 384, 2, 62, 6, 107, 15, 391, 5, 5069, 29, 14, 9068, 337, 3, 24, 10187, 5891, 402, 38492, 747, 102, 16468, 402, 38492, 120, 23350, 76, 439, 15526, 29, 174, 19, 23926, 2184, 21, 8575, 43, 40912, 27, 19, 3571, 3, 0], [83, 27014, 5, 6584, 9, 13, 27838, 9, 25580, 15409, 31, 66, 2689, 70, 1307, 40, 5891, 3, 344, 1069, 14590, 16, 3031, 3, 0], [333, 402, 38492, 8941, 7492, 37, 17502, 6602, 24670, 9, 0], [4257, 1597, 446, 13, 11788, 9, 110, 0], [80, 42189, 43, 8, 686, 5, 2387, 1405, 16, 290, 922, 22, 2438, 8048, 3, 344, 1069, 4569, 8, 34109, 446, 23, 47, 10445, 1433, 2, 7484, 47, 10445, 1433, 59, 15721, 59, 481, 8, 38892, 6516, 3, 0], [34688, 20, 6, 18366, 19, 5893, 9151, 22, 1459, 222, 402, 38492, 301, 2216, 0], [577, 14, 6, 1722, 5, 1155, 0], [19636, 0], [87, 6, 4347, 5, 4218, 28189, 24, 4653, 28, 81, 6, 82, 53, 8902, 27, 14, 6, 6392, 29, 88, 8675, 27, 66, 5789, 3, 0], [25720, 120, 137, 2949, 1754, 0], [36561, 22, 6657, 243, 359, 13415, 0], [32438, 0], [526, 602, 226, 81, 6, 63, 53, 3416, 14, 6, 1015, 153, 402, 29033, 15, 635, 5819, 111, 402, 29033, 416, 23, 6844, 0], [37401, 20, 6, 28474, 0], [28155, 24, 550, 6470, 0], [402, 25950, 0], [36561, 2526, 17, 8, 7552, 0], [15353, 0], [14390, 402, 38492, 301, 548, 0], [26901, 186, 3455, 2636, 16913, 7288, 2783, 0], [2168, 9, 14, 5560, 1361, 1794, 0], [34688, 5, 1512, 3889, 2783, 1167, 0], [34023, 733, 5, 14, 6, 2606, 22, 8333, 31, 301, 548, 0], [11490, 9, 704, 17986, 402, 38492, 0], [60, 10288, 5, 402, 2635, 511, 50, 0], [2155, 16, 7337, 5, 6442, 4085, 100, 906, 30603, 21719, 9, 3, 24730, 41, 682, 1836, 2491, 402, 29033, 54, 0], [6340, 5967, 10387, 5967, 817, 222, 6966, 1802, 5397, 21, 511, 3310, 3, 5378, 0], [21182, 5550, 0], [4788, 11, 8549, 9, 0], [4832, 9, 0], [134, 1071, 111, 738, 22, 478, 402, 38492, 0], [14145, 139, 402, 38492, 11425, 8, 8036, 3, 0], [10604, 5, 402, 11688, 0], [526, 381, 5169, 16362, 133, 687, 17370, 108, 792, 657, 6587, 0], [3786, 402, 38492, 0], [6025, 16795, 182, 16, 20, 22582, 4232, 9, 15454, 31, 363, 16, 9597, 3, 0], [402, 24251, 16, 19476, 0], [104, 81, 6, 133, 15, 1488, 3220, 17, 13988, 3, 80, 1107, 5, 3220, 43, 8287, 3, 0], [30349, 5, 193, 8843, 0], [344, 11162, 265, 20, 6, 17261, 66, 2025, 17, 65, 5, 301, 548, 24761, 3, 24730, 41, 682, 178, 5, 223, 7978, 66, 10763, 2755, 402, 29033, 54, 0], [17404, 0], [41558, 294, 689, 0], [335, 9376, 88, 1328, 5, 7324, 19, 33295, 18524, 3, 0], [1183, 21, 864, 142, 3954, 222, 489, 0], [39139, 22, 1470, 402, 38492, 8941, 2296, 122, 37, 18, 11370, 7259, 49, 18109, 4527, 1597, 337, 0], [43572, 9, 14, 6, 1549, 56, 1982, 2, 4288, 11, 4561, 20, 6, 93, 10929, 5, 49, 10624, 6501, 3818, 21, 1430, 14427, 657, 6587, 0], [6031, 139, 36, 8, 1480, 20858, 0], [350, 14, 6, 41914, 13, 4027, 43, 23053, 27, 16, 33355, 113, 2, 19, 2428, 439, 6549, 521, 447, 29, 19, 42296, 5, 8, 15527, 28764, 51, 19, 689, 22, 2428, 59, 5, 14, 6, 29180, 3, 0], [2136, 20, 6, 442, 0], [17243, 15143, 11433, 7605, 402, 38492, 301, 548, 1802, 8742, 3792, 74, 49, 8208, 0], [402, 660, 29253, 0], [8399, 836, 18164, 34305, 931, 3, 452, 3, 3889, 5510, 226, 584, 0], [301, 548, 24084, 163, 2653, 9, 0], [84, 13806, 38200, 6020, 1754, 657, 6587, 0], [4832, 5, 14, 6, 7492, 21, 7986, 352, 402, 38492, 0], [83, 4027, 1436, 4354, 70, 390, 40, 19, 8326, 201, 5, 10997, 9232, 162, 3, 350, 88, 18036, 66, 542, 2, 38, 8856, 5, 1199, 62, 6, 9126, 63, 27, 88, 29941, 13, 641, 6997, 36, 19, 2454, 9232, 162, 3, 0], [29863, 0], [410, 0], [6917, 1202, 166, 1026, 18, 14003, 5817, 0], [17308, 33169, 41, 23386, 16164, 709, 8, 4789, 142, 3954, 222, 489, 0], [180, 12129, 402, 38492, 0], [31398, 8, 1107, 5, 1370, 1802, 1078, 37, 152, 1160, 0], [267, 11065, 25874, 597, 3878, 548, 32, 15, 16035, 313, 7, 20, 35106, 49, 16343, 2, 301, 331, 4, 34, 567, 2, 15103, 133, 3585, 2, 11629, 133, 3585, 2, 18413, 133, 3585, 2, 267, 334, 133, 3585, 2, 1025, 3, 0], [7363, 166, 1026, 18, 496, 7750, 1098, 0], [16654, 900, 21, 1430, 63, 24165, 1992, 11973, 584, 22, 11973, 584, 1802, 720, 511, 3, 49, 1937, 0], [44126, 529, 1547, 0], [26651, 5, 8, 421, 5, 372, 0], [5790, 364, 1802, 2296, 122, 49, 18109, 10163, 10054, 139, 95, 75, 0], [350, 120, 2674, 43, 38475, 2, 402, 2635, 1506, 511, 50, 14268, 63, 19, 2025, 5563, 31, 38, 7552, 4084, 27, 7499, 470, 5, 19, 3031, 31, 14, 6, 21975, 3, 0], [31967, 4060, 5, 14508, 402, 38492, 0], [11490, 9, 7692, 16777, 0], [19338, 5, 4027, 0], [19767, 402, 38492, 301, 548, 0], [89, 7101, 376, 50, 6965, 8919, 12624, 647, 0], [27213, 158, 14, 6, 17651, 0], [3383, 2747, 9, 22, 2438, 5, 3313, 0], [344, 867, 9796, 13, 2218, 5, 601, 23, 4068, 38, 495, 421, 5, 44, 4619, 3438, 17, 34, 601, 13165, 18687, 5, 301, 4494, 530, 1032, 283, 41, 431, 100, 4263, 27, 4092, 16, 5983, 28963, 54, 0], [12739, 823, 174, 88, 76, 3586, 8909, 53, 4092, 34, 666, 356, 1119, 3, 80, 8856, 20, 6, 18117, 62, 6, 7651, 10710, 756, 2, 11, 88, 88, 8416, 590, 72, 14, 6, 9407, 5, 42189, 127, 470, 3, 0], [4322, 166, 617, 36618, 133, 542, 26, 6951, 1072, 364, 0], [419, 1119, 2, 15, 6732, 590, 41, 682, 110, 0], [13127, 1277, 2903, 431, 0], [238, 32070, 0], [8140, 34, 7023, 22, 1470, 18524, 31, 8, 11831, 7371, 3, 0], [344, 3287, 4094, 34, 3254, 3, 0], [15335, 23, 863, 5, 3745, 0], [18093, 66, 9376, 27, 9980, 8, 486, 23, 320, 3, 8941, 1078, 37, 152, 1160, 18700, 19036, 4, 95, 5939, 124, 986, 25770, 64, 15, 14, 1244, 0], [23023, 13, 1190, 5, 767, 23, 320, 110, 0], [304, 162, 501, 5, 2824, 0], [9834, 5, 402, 2635, 8873, 139, 50, 0], [26925, 41, 40794, 19744, 24, 1443, 28, 142, 3954, 222, 489, 0], [359, 9199, 2061, 133, 1624, 657, 6587, 0], [41, 0], [49, 41072, 0], [156, 0], [17308, 33250, 0], [683, 0], [188, 3413, 4186, 6926, 401, 41352, 2263, 3282, 50, 20795, 2069, 1323, 50, 28063, 23177, 50, 20795, 50, 29156, 28, 9390, 13382, 2891, 402, 29033, 268, 3605, 0], [8795, 7092, 1096, 28787, 0], [17923, 7175, 0], [33941, 17100, 3889, 162, 2470, 0], [258, 101, 23661, 1610, 1064, 4386, 0], [80, 65, 768, 332, 22, 30792, 11, 1392, 190, 4900, 2614, 0], [3332, 226, 17047, 617, 5, 359, 142, 3890, 63, 2240, 27, 6340, 186, 186, 278, 20537, 1678, 26377, 0], [21404, 364, 16783, 120, 7534, 27, 5827, 29, 193, 3254, 563, 43, 20001, 23, 4767, 1845, 3, 0], [469, 784, 7907, 15, 90, 20187, 3, 301, 548, 9538, 36, 153, 402, 29033, 18585, 402, 29033, 416, 27, 8, 33614, 1119, 3, 0], [24683, 500, 166, 1026, 18, 2245, 180, 2102, 18972, 5817, 0], [14, 139, 1146, 623, 139, 1146, 623, 139, 1146, 623, 109, 8106, 2986, 8106, 2986, 458, 458, 20906, 135, 1629, 2787, 6962, 41, 309, 75, 50, 3, 3, 583, 18, 567, 3, 20, 74, 2638, 6962, 14, 139, 1146, 623, 139, 1146, 623, 139, 1146, 623, 109, 8106, 2986, 8106, 2986, 456, 458, 20906, 135, 2002, 9, 5849, 5719, 41, 309, 75, 50, 3, 3, 583, 18, 567, 3, 20, 74, 62, 5849, 5719, 14, 139, 1146, 623, 139, 1146, 623, 139, 1146, 623, 109, 8106, 2986, 8106, 2986, 441, 458, 37, 2678, 135, 1841, 222, 3439, 41, 309, 75, 50, 3, 3, 583, 18, 567, 3, 20, 74, 137, 3439, 14, 139, 1146, 623, 139, 1146, 623, 139, 1146, 623, 109, 8106, 2986, 8106, 2986, 441, 0], [89, 39449, 120, 528, 174, 88, 76, 3586, 53, 893, 16, 4288, 44, 91, 90, 3545, 114, 175, 44, 76, 70, 53, 12475, 9, 3, 0], [4224, 3954, 1547, 0], [14743, 7175, 36, 7631, 21, 8637, 7175, 24, 2957, 34095, 402, 38492, 7631, 21, 8637, 7175, 43, 26924, 5, 14743, 7175, 11, 76, 168, 53, 100, 36694, 13427, 27, 19, 726, 28, 0], [4705, 7210, 17, 8617, 14112, 0], [402, 89, 7101, 376, 50, 47, 0], [10702, 63, 24521, 1162, 0], [83, 5726, 37490, 6218, 4447, 0], [18727, 16571, 51, 1392, 0], [42084, 5, 1826, 20, 21391, 0], [3332, 9208, 274, 14994, 0], [344, 1069, 231, 7324, 38, 417, 24, 682, 12318, 5, 120, 737, 68, 6, 431, 76, 439, 1161, 4263, 27, 66, 542, 402, 156, 33593, 50, 28, 23, 22043, 7382, 2, 1692, 36, 19, 9376, 24251, 3, 0], [8443, 108, 12231, 162, 166, 1026, 18, 3107, 133, 0], [660, 22677, 9, 14994, 9, 0], [14016, 2986, 2252, 0], [402, 4486, 597, 50, 0], [40276, 8, 6138, 5, 12137, 9627, 17, 14, 6, 12186, 75, 29180, 3, 350, 88, 8675, 23, 21468, 652, 2, 62, 39639, 41, 352, 40, 13, 11408, 3, 0], [17714, 14183, 0], [6026, 17, 14, 6, 8543, 5, 402, 2635, 529, 6966, 50, 5, 9315, 38, 6138, 5, 12137, 2, 8, 6138, 32016, 1260, 30866, 127, 1278, 3, 87, 6, 8543, 17861, 66, 68, 6, 107, 9315, 63, 3, 350, 8, 6138, 5, 12137, 11344, 16, 6047, 3086, 12362, 2, 16, 6047, 814, 15526, 9, 40, 19, 2023, 4006, 22, 24694, 2, 127, 10032, 6198, 72, 8, 3745, 62, 3462, 3, 0], [3118, 18888, 51, 16, 9990, 24, 166, 9772, 323, 2846, 142, 102, 0], [60, 2438, 1759, 88, 3392, 16, 27838, 9, 25580, 40, 5891, 5, 402, 2635, 6659, 18114, 3974, 50, 3, 0], [1963, 37, 88, 76, 7420, 53, 3031, 66, 356, 1416, 6, 1051, 2, 527, 8, 462, 20, 6, 4261, 58, 3878, 548, 149, 95, 1790, 31, 19, 7034, 3, 4457, 5, 8453, 120, 7552, 19, 726, 6176, 3, 0], [34688, 20, 6, 21558, 19, 2428, 3, 0], [83, 7337, 27, 402, 4976, 18039, 51, 50, 70, 8649, 31, 34, 2428, 31, 19, 3254, 563, 5, 14, 6, 8543, 4359, 987, 751, 3261, 585, 17955, 583, 1787, 74, 12050, 2470, 74, 1411, 3791, 259, 222, 3, 277, 66, 2428, 2, 16, 7337, 70, 7303, 1064, 40, 922, 2, 44, 16765, 72, 13, 6055, 164, 31079, 2, 1411, 29, 278, 17370, 108, 253, 15335, 4732, 315, 6002, 34, 23408, 39, 644, 436, 15335, 2, 15193, 8, 863, 31, 19, 2428, 5, 6442, 72, 66, 689, 5, 644, 3, 350, 92, 81, 6, 31447, 53, 9117, 265, 19, 88, 223, 23, 21633, 38, 863, 6735, 278, 17370, 108, 253, 15335, 4732, 60, 23408, 168, 2497, 100, 5007, 266, 19, 689, 5, 644, 3, 0], [315, 363, 16, 2118, 2, 88, 1069, 4094, 8, 2880, 5, 780, 16367, 23, 783, 23, 4068, 19, 32952, 43554, 24, 864, 3665, 23, 19, 44492, 28, 17, 2333, 22, 689, 5, 14, 6, 9313, 3, 0], [83, 1390, 16, 65, 3193, 17, 636, 733, 5, 8, 1155, 20, 6, 93, 2443, 70, 19, 1886, 13, 1369, 17, 2700, 24, 16360, 12254, 15666, 59, 4486, 3525, 139, 93, 1432, 50, 2, 95, 21413, 17, 35160, 13, 1369, 28, 11, 901, 20, 6, 93, 1746, 16999, 51, 5, 689, 5, 2428, 1237, 5, 109, 17, 177, 12137, 27, 193, 2443, 11, 716, 1741, 3, 344, 867, 231, 851, 20, 6, 93, 689, 11, 20, 6, 112, 2153, 27, 193, 2443, 2, 175, 665, 41, 412, 388, 100, 4726, 14978, 40, 8, 855, 3, 0], [385, 1597, 26304, 9, 1146, 7590, 108, 1611, 3, 4486, 122, 0], [2935, 38, 498, 0], [33712, 20, 6, 839, 13030, 6698, 27, 16, 4027, 267, 22048, 657, 6587, 0], [21302, 22, 2327, 402, 38492, 0], [22551, 13, 5943, 27, 14, 6, 23, 21, 19794, 0], [469, 1107, 20, 6, 1420, 5, 1369, 5, 526, 5360, 9473, 9, 33004, 36, 193, 6607, 3, 0], [17502, 133, 2428, 0], [30401, 186, 0], [402, 89, 7101, 376, 50, 41, 0], [6178, 22, 6104, 5, 11964, 402, 38492, 0], [9538, 36, 34, 2992, 18524, 27, 13145, 19, 1470, 19, 409, 5, 146, 26284, 3, 0]], 'attention_mask': [[1, 1, 1, 1, 1], [1, 1, 1, 1, 1, 1, 1, 1], [1, 1, 1], [1, 1, 1, 1, 1, 1, 1, 1], [1, 1, 1, 1, 1, 1, 1], [1, 1, 1, 1, 1, 1, 1, 1, 1, 1, 1, 1, 1, 1, 1, 1, 1, 1, 1, 1, 1, 1, 1, 1, 1, 1, 1, 1, 1, 1, 1, 1], [1, 1, 1, 1, 1, 1, 1, 1, 1, 1, 1, 1, 1], [1, 1, 1, 1], [1, 1, 1, 1, 1, 1, 1, 1], [1, 1, 1, 1, 1, 1, 1, 1, 1], [1, 1, 1, 1, 1, 1, 1, 1, 1, 1, 1, 1], [1, 1, 1, 1, 1], [1, 1, 1, 1, 1], [1, 1, 1, 1, 1], [1, 1, 1, 1, 1, 1, 1], [1, 1, 1, 1], [1, 1, 1, 1, 1, 1, 1, 1, 1, 1, 1, 1, 1, 1, 1, 1, 1, 1, 1, 1, 1, 1, 1, 1, 1, 1, 1, 1, 1, 1, 1, 1, 1, 1, 1, 1, 1, 1, 1, 1, 1, 1, 1, 1, 1, 1, 1, 1, 1, 1, 1, 1, 1, 1, 1, 1, 1, 1, 1, 1, 1, 1, 1, 1, 1, 1, 1, 1, 1, 1, 1, 1, 1, 1, 1, 1, 1, 1, 1, 1, 1, 1, 1, 1, 1, 1, 1, 1, 1, 1, 1, 1, 1, 1, 1, 1, 1, 1, 1, 1, 1, 1, 1, 1, 1, 1, 1, 1, 1, 1, 1, 1, 1, 1, 1, 1, 1, 1, 1, 1, 1, 1, 1, 1, 1, 1, 1, 1], [1, 1, 1, 1, 1, 1, 1, 1, 1, 1, 1, 1, 1, 1, 1, 1, 1, 1, 1, 1, 1, 1, 1, 1, 1, 1, 1], [1, 1], [1, 1, 1, 1, 1, 1, 1, 1, 1, 1], [1, 1], [1, 1], [1, 1, 1, 1, 1], [1, 1], [1, 1, 1, 1, 1, 1, 1, 1, 1, 1, 1, 1, 1, 1, 1, 1, 1, 1, 1, 1, 1, 1, 1, 1, 1, 1, 1, 1, 1, 1, 1, 1, 1, 1, 1, 1, 1, 1, 1, 1, 1, 1, 1], [1, 1, 1, 1, 1, 1, 1, 1, 1, 1, 1, 1, 1, 1, 1, 1, 1, 1, 1, 1, 1, 1, 1, 1, 1, 1, 1, 1, 1, 1, 1, 1, 1, 1, 1, 1, 1, 1, 1, 1, 1, 1, 1, 1, 1, 1], [1, 1, 1, 1, 1, 1, 1, 1, 1, 1], [1, 1, 1, 1, 1, 1], [1, 1, 1, 1, 1, 1, 1, 1], [1, 1, 1, 1, 1, 1, 1, 1, 1, 1, 1, 1, 1, 1, 1], [1, 1, 1, 1, 1, 1, 1], [1, 1, 1, 1, 1, 1, 1, 1, 1, 1, 1, 1, 1, 1, 1, 1], [1, 1, 1, 1, 1, 1, 1, 1], [1, 1, 1, 1, 1, 1, 1, 1, 1, 1, 1, 1, 1, 1, 1, 1, 1, 1, 1, 1, 1, 1, 1, 1, 1, 1, 1, 1, 1, 1, 1, 1, 1, 1, 1, 1, 1, 1, 1, 1, 1, 1, 1, 1], [1, 1, 1, 1, 1, 1, 1, 1, 1, 1], [1, 1, 1, 1, 1, 1, 1], [1, 1, 1, 1, 1, 1, 1, 1, 1, 1, 1, 1, 1, 1, 1, 1], [1, 1, 1, 1, 1, 1, 1, 1, 1, 1, 1, 1, 1, 1, 1, 1, 1, 1, 1, 1, 1, 1, 1, 1, 1, 1, 1, 1, 1, 1, 1, 1, 1, 1, 1, 1, 1, 1, 1, 1, 1], [1, 1], [1, 1, 1, 1, 1, 1, 1, 1, 1, 1, 1, 1, 1, 1, 1, 1, 1, 1, 1, 1, 1, 1, 1, 1, 1, 1, 1, 1, 1, 1, 1, 1, 1, 1, 1, 1, 1, 1, 1, 1, 1, 1, 1, 1, 1, 1, 1, 1, 1, 1, 1, 1, 1, 1, 1, 1, 1, 1, 1], [1, 1, 1, 1, 1, 1, 1], [1, 1, 1, 1, 1, 1, 1, 1, 1], [1, 1, 1, 1], [1, 1, 1, 1, 1, 1, 1, 1, 1, 1, 1, 1, 1, 1, 1, 1], [1, 1, 1, 1, 1, 1, 1, 1, 1, 1, 1, 1, 1, 1, 1, 1, 1, 1, 1], [1, 1, 1, 1, 1, 1, 1, 1, 1, 1, 1, 1, 1, 1, 1], [1, 1, 1, 1, 1, 1], [1, 1, 1, 1, 1, 1, 1, 1, 1, 1, 1, 1, 1, 1, 1], [1, 1, 1, 1, 1, 1, 1], [1, 1, 1, 1, 1, 1, 1], [1, 1, 1, 1, 1, 1, 1, 1, 1, 1, 1, 1, 1, 1, 1, 1, 1, 1], [1, 1, 1, 1, 1, 1, 1, 1, 1], [1, 1, 1, 1, 1, 1, 1, 1, 1, 1, 1, 1, 1, 1], [1, 1, 1, 1, 1, 1, 1, 1], [1, 1, 1], [1, 1, 1, 1, 1, 1, 1, 1, 1, 1, 1, 1, 1, 1, 1, 1], [1, 1, 1, 1, 1, 1, 1], [1, 1, 1, 1, 1, 1, 1, 1, 1, 1, 1, 1, 1, 1, 1, 1, 1], [1, 1, 1, 1, 1, 1, 1, 1, 1], [1, 1, 1, 1, 1, 1, 1, 1, 1, 1, 1, 1, 1, 1, 1, 1, 1], [1, 1, 1, 1, 1, 1, 1, 1, 1, 1, 1, 1, 1, 1, 1, 1, 1, 1, 1, 1, 1, 1, 1, 1, 1, 1, 1, 1, 1, 1, 1, 1, 1, 1, 1, 1, 1, 1, 1, 1, 1, 1, 1, 1, 1, 1, 1, 1, 1, 1, 1, 1, 1, 1, 1, 1, 1, 1, 1, 1, 1, 1, 1, 1, 1, 1, 1, 1, 1, 1, 1, 1, 1, 1, 1, 1, 1, 1, 1], [1, 1, 1, 1, 1, 1, 1, 1, 1, 1, 1, 1, 1, 1, 1, 1, 1], [1, 1], [1, 1, 1, 1, 1, 1, 1, 1, 1, 1, 1], [1, 1, 1, 1, 1, 1, 1, 1, 1, 1, 1, 1, 1, 1, 1, 1, 1, 1, 1, 1, 1, 1, 1, 1, 1, 1, 1, 1, 1, 1, 1, 1, 1, 1, 1, 1, 1, 1, 1, 1, 1, 1, 1], [1, 1, 1, 1, 1, 1, 1, 1, 1, 1, 1, 1, 1], [1, 1, 1, 1, 1, 1, 1], [1, 1, 1, 1, 1, 1, 1, 1, 1], [1, 1], [1, 1, 1, 1, 1, 1, 1, 1], [1, 1, 1, 1, 1, 1, 1, 1, 1], [1, 1, 1, 1, 1, 1, 1, 1, 1, 1, 1, 1], [1, 1, 1, 1, 1, 1, 1, 1, 1], [1, 1, 1], [1, 1, 1], [1, 1, 1, 1], [1, 1, 1, 1, 1, 1, 1, 1, 1, 1, 1, 1, 1, 1, 1, 1, 1, 1, 1, 1, 1, 1, 1, 1, 1, 1, 1, 1, 1, 1, 1, 1, 1, 1, 1, 1, 1, 1, 1, 1, 1, 1, 1, 1, 1, 1, 1, 1, 1, 1, 1, 1, 1, 1, 1, 1, 1, 1, 1, 1, 1, 1, 1, 1, 1, 1, 1, 1, 1, 1, 1, 1, 1, 1, 1, 1, 1, 1, 1, 1, 1, 1, 1, 1, 1, 1, 1, 1], [1, 1], [1, 1, 1, 1, 1, 1, 1, 1, 1, 1, 1, 1, 1, 1, 1, 1, 1, 1, 1, 1, 1, 1, 1, 1, 1, 1, 1, 1, 1, 1, 1, 1], [1, 1, 1, 1, 1], [1, 1, 1, 1, 1, 1, 1, 1, 1, 1, 1, 1, 1, 1], [1, 1, 1, 1], [1, 1, 1, 1, 1, 1, 1, 1], [1, 1, 1, 1, 1, 1, 1, 1, 1, 1, 1, 1, 1, 1, 1, 1, 1, 1, 1, 1, 1, 1, 1, 1, 1, 1, 1, 1, 1, 1, 1, 1, 1, 1, 1, 1, 1, 1, 1, 1, 1, 1, 1, 1, 1, 1, 1, 1], [1, 1, 1, 1, 1, 1, 1, 1, 1, 1, 1, 1, 1, 1, 1, 1, 1, 1, 1, 1, 1, 1, 1, 1, 1, 1, 1, 1, 1, 1, 1, 1, 1, 1, 1, 1, 1, 1, 1, 1, 1, 1, 1, 1, 1, 1, 1, 1, 1, 1, 1, 1, 1, 1, 1, 1, 1, 1, 1, 1, 1, 1, 1, 1, 1, 1, 1, 1, 1, 1, 1, 1, 1, 1, 1, 1, 1, 1, 1, 1, 1, 1, 1, 1, 1, 1, 1, 1, 1, 1, 1, 1, 1, 1, 1, 1, 1, 1, 1, 1, 1, 1], [1, 1, 1, 1, 1, 1, 1, 1, 1, 1, 1, 1, 1, 1, 1], [1, 1], [1, 1], [1, 1, 1, 1, 1, 1, 1, 1, 1, 1, 1, 1, 1, 1, 1], [1, 1, 1], [1, 1, 1, 1, 1, 1], [1, 1, 1, 1, 1, 1, 1, 1, 1, 1], [1, 1, 1, 1, 1, 1, 1, 1, 1, 1, 1, 1, 1, 1, 1, 1, 1, 1, 1, 1], [1, 1], [1, 1, 1, 1, 1, 1, 1, 1, 1, 1, 1, 1, 1, 1, 1, 1], [1, 1, 1], [1, 1, 1, 1], [1, 1, 1, 1, 1, 1, 1, 1, 1, 1, 1, 1, 1], [1, 1, 1], [1, 1, 1, 1, 1, 1, 1, 1, 1, 1, 1], [1, 1, 1, 1, 1, 1, 1, 1, 1, 1, 1, 1, 1, 1, 1, 1, 1, 1, 1, 1, 1, 1, 1, 1, 1, 1, 1, 1, 1, 1, 1, 1, 1, 1, 1, 1, 1, 1, 1, 1, 1, 1, 1, 1, 1, 1, 1, 1, 1], [1, 1, 1, 1, 1, 1, 1, 1, 1, 1, 1, 1, 1, 1, 1], [1, 1, 1], [1, 1, 1, 1, 1, 1, 1, 1, 1, 1, 1], [1, 1, 1, 1, 1, 1, 1, 1, 1, 1, 1, 1, 1, 1], [1, 1, 1, 1, 1, 1, 1, 1, 1, 1], [1, 1], [1, 1, 1, 1, 1, 1, 1, 1, 1, 1, 1, 1, 1, 1, 1, 1, 1, 1, 1, 1, 1, 1, 1, 1, 1, 1, 1, 1, 1, 1, 1, 1, 1, 1, 1, 1, 1, 1, 1, 1, 1, 1, 1, 1, 1, 1, 1, 1, 1, 1, 1, 1, 1, 1, 1, 1, 1, 1, 1, 1, 1, 1, 1, 1, 1, 1, 1, 1, 1, 1, 1, 1, 1, 1, 1, 1, 1, 1, 1, 1, 1, 1, 1, 1, 1, 1, 1, 1, 1, 1, 1, 1, 1, 1, 1, 1, 1, 1, 1, 1, 1, 1, 1, 1, 1, 1, 1, 1, 1, 1, 1, 1], [1, 1, 1, 1, 1, 1, 1, 1, 1, 1, 1, 1, 1, 1, 1, 1, 1, 1, 1, 1, 1, 1, 1, 1, 1], [1, 1, 1, 1, 1, 1, 1, 1, 1, 1, 1], [1, 1, 1, 1, 1, 1, 1, 1], [1, 1, 1, 1, 1, 1, 1, 1, 1, 1, 1, 1, 1, 1, 1, 1, 1, 1, 1, 1, 1, 1, 1, 1, 1, 1, 1, 1, 1, 1, 1, 1, 1, 1, 1, 1, 1, 1, 1], [1, 1, 1, 1, 1, 1, 1, 1, 1, 1, 1, 1, 1, 1, 1], [1, 1, 1, 1, 1, 1, 1], [1, 1], [1, 1, 1, 1, 1, 1, 1, 1, 1, 1, 1, 1, 1, 1, 1, 1, 1, 1, 1, 1, 1, 1, 1, 1, 1, 1], [1, 1, 1, 1, 1, 1], [1, 1, 1, 1, 1, 1, 1], [1, 1], [1, 1, 1, 1, 1, 1, 1, 1, 1, 1, 1, 1, 1, 1, 1, 1, 1, 1, 1, 1, 1, 1, 1, 1], [1, 1, 1, 1, 1], [1, 1, 1, 1, 1], [1, 1, 1], [1, 1, 1, 1, 1, 1], [1, 1], [1, 1, 1, 1, 1, 1], [1, 1, 1, 1, 1, 1, 1, 1], [1, 1, 1, 1, 1, 1, 1], [1, 1, 1, 1, 1, 1, 1], [1, 1, 1, 1, 1, 1, 1, 1, 1, 1, 1, 1], [1, 1, 1, 1, 1, 1, 1], [1, 1, 1, 1, 1, 1, 1, 1], [1, 1, 1, 1, 1, 1, 1, 1, 1, 1, 1, 1, 1, 1, 1, 1, 1, 1, 1, 1, 1], [1, 1, 1, 1, 1, 1, 1, 1, 1, 1, 1, 1, 1, 1, 1], [1, 1, 1], [1, 1, 1, 1, 1], [1, 1, 1], [1, 1, 1, 1, 1, 1, 1, 1, 1], [1, 1, 1, 1, 1, 1, 1, 1, 1], [1, 1, 1, 1, 1], [1, 1, 1, 1, 1, 1, 1, 1, 1, 1, 1, 1], [1, 1, 1, 1], [1, 1, 1, 1, 1, 1, 1, 1, 1, 1, 1, 1, 1, 1, 1], [1, 1, 1, 1, 1], [1, 1, 1, 1, 1, 1, 1, 1, 1, 1, 1, 1, 1, 1, 1, 1, 1, 1], [1, 1, 1, 1, 1], [1, 1, 1, 1, 1, 1, 1, 1, 1, 1, 1, 1, 1, 1, 1, 1, 1, 1, 1, 1, 1, 1, 1, 1, 1, 1, 1, 1, 1], [1, 1], [1, 1, 1, 1], [1, 1, 1, 1, 1, 1, 1, 1, 1, 1, 1], [1, 1, 1, 1, 1, 1, 1, 1], [1, 1, 1, 1, 1, 1, 1, 1, 1, 1, 1, 1, 1, 1, 1, 1, 1, 1], [1, 1, 1, 1, 1, 1, 1, 1, 1, 1, 1, 1, 1, 1, 1, 1, 1, 1, 1, 1, 1, 1, 1, 1, 1, 1], [1, 1, 1, 1, 1, 1, 1], [1, 1, 1, 1, 1, 1, 1, 1, 1, 1, 1, 1, 1, 1, 1, 1, 1, 1, 1, 1, 1, 1, 1, 1, 1, 1, 1, 1, 1, 1, 1, 1, 1, 1, 1, 1, 1, 1], [1, 1, 1, 1, 1], [1, 1, 1, 1, 1, 1, 1, 1, 1, 1, 1, 1, 1, 1, 1], [1, 1, 1, 1], [1, 1, 1, 1, 1, 1, 1, 1, 1, 1, 1, 1, 1], [1, 1, 1, 1, 1, 1, 1], [1, 1, 1, 1, 1, 1, 1, 1], [1, 1, 1, 1, 1, 1, 1, 1, 1, 1, 1], [1, 1, 1, 1, 1, 1, 1, 1, 1, 1, 1, 1, 1, 1, 1, 1, 1, 1, 1, 1, 1, 1, 1, 1, 1, 1, 1, 1, 1, 1, 1, 1, 1, 1, 1, 1, 1, 1, 1, 1, 1, 1], [1, 1], [1, 1], [1, 1, 1, 1, 1, 1, 1, 1], [1, 1, 1, 1, 1, 1, 1, 1, 1, 1, 1, 1, 1], [1, 1, 1, 1, 1], [1, 1, 1, 1, 1, 1, 1, 1, 1, 1, 1], [1, 1, 1, 1, 1, 1, 1, 1, 1, 1, 1, 1, 1, 1, 1, 1, 1, 1, 1, 1, 1, 1, 1, 1, 1, 1, 1, 1, 1, 1, 1, 1, 1, 1, 1, 1, 1, 1, 1, 1, 1, 1], [1, 1, 1, 1, 1, 1, 1, 1], [1, 1, 1, 1, 1, 1, 1, 1, 1, 1, 1, 1, 1, 1, 1, 1, 1, 1, 1], [1, 1, 1, 1], [1, 1, 1, 1, 1, 1, 1], [1, 1, 1, 1, 1, 1, 1, 1, 1, 1, 1, 1, 1], [1, 1, 1, 1, 1, 1, 1, 1, 1, 1, 1, 1, 1, 1, 1, 1, 1, 1, 1, 1, 1, 1, 1, 1, 1, 1, 1, 1, 1, 1, 1, 1], [1, 1, 1, 1, 1, 1, 1], [1, 1, 1, 1, 1], [1, 1, 1, 1], [1, 1, 1, 1, 1, 1], [1, 1, 1, 1, 1, 1, 1, 1, 1], [1, 1, 1, 1, 1, 1], [1, 1, 1, 1, 1, 1, 1, 1], [1, 1, 1, 1, 1, 1, 1, 1, 1, 1, 1, 1, 1, 1, 1, 1, 1, 1, 1, 1, 1, 1, 1, 1, 1, 1, 1, 1, 1, 1, 1, 1, 1, 1, 1, 1, 1, 1], [1, 1, 1, 1, 1, 1, 1, 1, 1, 1, 1, 1, 1, 1, 1, 1, 1, 1, 1, 1, 1, 1, 1, 1, 1, 1, 1, 1, 1, 1, 1, 1, 1, 1, 1, 1, 1, 1, 1, 1], [1, 1, 1, 1, 1, 1, 1, 1, 1, 1, 1], [1, 1, 1, 1, 1, 1, 1, 1, 1, 1], [1, 1, 1, 1, 1], [1, 1, 1], [1, 1, 1, 1, 1, 1, 1, 1, 1, 1, 1, 1], [1, 1, 1, 1, 1, 1, 1], [1, 1, 1, 1, 1, 1], [1, 1, 1, 1, 1, 1, 1, 1, 1, 1, 1, 1, 1, 1, 1, 1, 1, 1, 1, 1, 1, 1, 1, 1, 1, 1, 1, 1], [1, 1, 1, 1, 1, 1, 1, 1, 1], [1, 1, 1, 1, 1, 1], [1, 1, 1, 1, 1, 1, 1, 1], [1, 1, 1, 1, 1, 1, 1, 1, 1, 1, 1, 1], [1, 1, 1, 1, 1, 1, 1, 1], [1, 1], [1, 1, 1], [1, 1], [1, 1, 1], [1, 1], [1, 1, 1, 1, 1, 1, 1, 1, 1, 1, 1, 1, 1, 1, 1, 1, 1, 1, 1, 1, 1, 1, 1, 1, 1, 1, 1, 1], [1, 1, 1, 1, 1], [1, 1, 1], [1, 1, 1, 1, 1, 1], [1, 1, 1, 1, 1, 1, 1], [1, 1, 1, 1, 1, 1, 1, 1, 1, 1, 1, 1], [1, 1, 1, 1, 1, 1, 1, 1, 1, 1, 1, 1, 1, 1, 1, 1, 1, 1, 1], [1, 1, 1, 1, 1, 1, 1, 1, 1, 1, 1, 1, 1, 1, 1, 1, 1, 1], [1, 1, 1, 1, 1, 1, 1, 1, 1, 1, 1, 1, 1, 1, 1, 1, 1, 1, 1, 1, 1, 1, 1, 1], [1, 1, 1, 1, 1, 1, 1, 1, 1, 1, 1], [1, 1, 1, 1, 1, 1, 1, 1, 1, 1, 1, 1, 1, 1, 1, 1, 1, 1, 1, 1, 1, 1, 1, 1, 1, 1, 1, 1, 1, 1, 1, 1, 1, 1, 1, 1, 1, 1, 1, 1, 1, 1, 1, 1, 1, 1, 1, 1, 1, 1, 1, 1, 1, 1, 1, 1, 1, 1, 1, 1, 1, 1, 1, 1, 1, 1, 1, 1, 1, 1, 1, 1, 1, 1, 1, 1, 1, 1, 1, 1, 1, 1, 1, 1, 1, 1, 1, 1, 1, 1, 1, 1, 1, 1, 1, 1, 1, 1, 1, 1, 1, 1, 1, 1, 1, 1, 1, 1, 1, 1, 1, 1, 1, 1, 1, 1, 1, 1, 1, 1, 1, 1, 1, 1, 1, 1, 1, 1], [1, 1, 1, 1, 1, 1, 1, 1, 1, 1, 1, 1, 1, 1, 1, 1, 1, 1, 1, 1, 1, 1, 1, 1, 1, 1], [1, 1, 1, 1], [1, 1, 1, 1, 1, 1, 1, 1, 1, 1, 1, 1, 1, 1, 1, 1, 1, 1, 1, 1, 1, 1, 1, 1, 1, 1, 1, 1, 1, 1, 1, 1, 1], [1, 1, 1, 1, 1, 1], [1, 1, 1, 1, 1, 1, 1], [1, 1, 1, 1, 1], [1, 1, 1, 1, 1, 1], [1, 1, 1, 1, 1], [1, 1, 1, 1, 1, 1], [1, 1, 1, 1, 1], [1, 1, 1, 1, 1, 1, 1, 1, 1, 1, 1, 1, 1, 1, 1, 1, 1, 1, 1, 1, 1, 1, 1, 1, 1, 1, 1, 1, 1, 1, 1, 1, 1, 1, 1, 1, 1, 1], [1, 1, 1, 1, 1, 1, 1, 1, 1, 1], [1, 1, 1, 1, 1, 1], [1, 1, 1, 1], [1, 1, 1, 1, 1], [1, 1, 1, 1, 1, 1, 1, 1, 1, 1, 1, 1, 1, 1, 1, 1, 1, 1, 1, 1, 1, 1, 1, 1, 1, 1, 1, 1, 1], [1, 1, 1], [1, 1, 1, 1, 1, 1, 1, 1, 1, 1, 1, 1, 1, 1, 1, 1, 1, 1, 1, 1, 1, 1, 1, 1, 1, 1, 1, 1, 1, 1, 1, 1, 1, 1, 1, 1, 1, 1, 1, 1, 1, 1, 1, 1, 1, 1, 1, 1, 1, 1, 1, 1, 1, 1, 1, 1, 1, 1, 1, 1, 1, 1, 1, 1, 1, 1, 1, 1, 1, 1], [1, 1, 1, 1, 1, 1, 1, 1, 1, 1, 1, 1, 1], [1, 1, 1, 1, 1, 1, 1, 1, 1, 1, 1, 1, 1, 1, 1, 1, 1, 1, 1, 1], [1, 1, 1, 1, 1, 1, 1, 1, 1, 1, 1, 1, 1, 1, 1, 1, 1, 1, 1, 1, 1, 1, 1, 1, 1, 1, 1, 1, 1, 1, 1, 1, 1, 1, 1, 1, 1, 1, 1], [1, 1, 1, 1, 1, 1, 1, 1], [1, 1, 1, 1, 1, 1, 1, 1, 1, 1, 1, 1, 1, 1, 1, 1, 1, 1, 1, 1, 1, 1, 1, 1, 1, 1, 1, 1, 1, 1, 1, 1, 1, 1, 1, 1, 1, 1, 1, 1, 1, 1, 1, 1, 1, 1, 1, 1, 1, 1, 1, 1, 1, 1, 1, 1, 1, 1, 1, 1, 1, 1, 1, 1, 1, 1, 1, 1, 1, 1, 1, 1, 1, 1, 1, 1, 1, 1, 1, 1, 1, 1, 1, 1, 1, 1, 1, 1, 1, 1, 1, 1, 1, 1, 1, 1, 1, 1, 1, 1, 1, 1, 1, 1, 1, 1, 1, 1, 1, 1, 1, 1, 1, 1, 1, 1, 1, 1, 1, 1, 1, 1, 1, 1], [1, 1, 1, 1, 1, 1, 1, 1, 1, 1, 1, 1, 1, 1, 1, 1, 1, 1, 1, 1, 1, 1, 1, 1, 1, 1, 1, 1, 1, 1, 1, 1, 1, 1, 1, 1, 1], [1, 1, 1, 1, 1, 1, 1, 1, 1, 1, 1, 1, 1, 1, 1, 1, 1, 1, 1, 1, 1, 1, 1, 1, 1, 1, 1, 1, 1, 1, 1, 1, 1, 1, 1, 1, 1, 1, 1, 1, 1, 1, 1, 1, 1, 1, 1, 1, 1, 1, 1, 1, 1, 1, 1, 1, 1, 1, 1, 1, 1, 1, 1, 1, 1, 1, 1, 1, 1, 1, 1, 1, 1, 1, 1, 1, 1, 1, 1, 1, 1, 1, 1, 1, 1, 1, 1, 1, 1, 1, 1, 1, 1, 1, 1, 1], [1, 1, 1, 1, 1, 1, 1, 1, 1, 1, 1, 1], [1, 1, 1, 1], [1, 1, 1, 1, 1, 1, 1, 1, 1, 1, 1, 1, 1, 1], [1, 1, 1, 1, 1, 1], [1, 1, 1, 1, 1, 1, 1, 1, 1, 1], [1, 1, 1, 1, 1, 1, 1, 1, 1, 1, 1, 1, 1, 1, 1, 1, 1, 1], [1, 1, 1, 1], [1, 1, 1], [1, 1, 1, 1, 1, 1, 1], [1, 1, 1, 1, 1, 1, 1, 1], [1, 1, 1, 1, 1, 1, 1, 1, 1, 1, 1, 1, 1, 1, 1, 1]]}\n"
          ]
        }
      ]
    },
    {
      "cell_type": "markdown",
      "source": [
        "# Load the pretrained model:"
      ],
      "metadata": {
        "id": "uMXiyhrViTVf"
      }
    },
    {
      "cell_type": "code",
      "source": [
        "from transformers import AutoModelForSeq2SeqLM # a class for loading pre-trained sequence-to-sequence language model\n",
        "\n",
        "model = AutoModelForSeq2SeqLM.from_pretrained(checkpoint) # load a pre-trained model specified by the `checkpoint`"
      ],
      "metadata": {
        "id": "YMTVM2-wtHmg"
      },
      "execution_count": 33,
      "outputs": []
    },
    {
      "cell_type": "markdown",
      "source": [
        "# Data collator:\n",
        "\n",
        "A component that processes and organizes input data before feeding it into a model for training or evaluation.\n",
        "*   Batch creation\n",
        "*   Padding (per batch)\n",
        "*   Handling special tokens\n",
        "*   Converting data to torch tensors"
      ],
      "metadata": {
        "id": "M-_60FGoiZ0t"
      }
    },
    {
      "cell_type": "code",
      "source": [
        "from transformers import DataCollatorForSeq2Seq # a class for combining a batch of examples into a format suitable for training\n",
        "\n",
        "data_collator = DataCollatorForSeq2Seq(tokenizer, model=model) # create an instance of the class for sequence-to-sequence tasks\n",
        "# the tokenizer used to process the input and output data\n",
        "# the model that will be used"
      ],
      "metadata": {
        "id": "nci6R0kMvBPf"
      },
      "execution_count": 34,
      "outputs": []
    },
    {
      "cell_type": "code",
      "source": [
        "# check some tokenized training data:\n",
        "[tokenized_datasets[\"train\"][i] for i in range(1, 3)]"
      ],
      "metadata": {
        "colab": {
          "base_uri": "https://localhost:8080/"
        },
        "id": "XVhHwGKZxrII",
        "outputId": "2dbf604f-99c5-4e2c-e004-355247e4ecd4"
      },
      "execution_count": 35,
      "outputs": [
        {
          "output_type": "execute_result",
          "data": {
            "text/plain": [
              "[{'input_ids': [526, 3261, 0],\n",
              "  'attention_mask': [1, 1, 1],\n",
              "  'labels': [526, 3261, 0]},\n",
              " {'input_ids': [3492,\n",
              "   3070,\n",
              "   6443,\n",
              "   37,\n",
              "   443,\n",
              "   61,\n",
              "   32,\n",
              "   317,\n",
              "   2203,\n",
              "   4824,\n",
              "   514,\n",
              "   1807,\n",
              "   971,\n",
              "   4,\n",
              "   4124,\n",
              "   3,\n",
              "   0],\n",
              "  'attention_mask': [1, 1, 1, 1, 1, 1, 1, 1, 1, 1, 1, 1, 1, 1, 1, 1, 1],\n",
              "  'labels': [34023,\n",
              "   5,\n",
              "   3948,\n",
              "   5,\n",
              "   372,\n",
              "   402,\n",
              "   38492,\n",
              "   350,\n",
              "   823,\n",
              "   95,\n",
              "   13439,\n",
              "   2,\n",
              "   25985,\n",
              "   14,\n",
              "   6,\n",
              "   3996,\n",
              "   3,\n",
              "   0]}]"
            ]
          },
          "metadata": {},
          "execution_count": 35
        }
      ]
    },
    {
      "cell_type": "markdown",
      "source": [
        "👆 It's a list of dictionaries.\n",
        "\n",
        "Each dict corresponds to a sample.\n",
        "\n",
        "And each sample consists 3 fields (input_ids, attention_mask, labels)."
      ],
      "metadata": {
        "id": "Zs2Q8YuoyCOG"
      }
    },
    {
      "cell_type": "code",
      "source": [
        "# test the data collator on the above inputs:\n",
        "batch = data_collator([tokenized_datasets[\"train\"][i] for i in range(1, 3)])\n",
        "batch.keys()"
      ],
      "metadata": {
        "colab": {
          "base_uri": "https://localhost:8080/"
        },
        "id": "96Nj3m6RyFly",
        "outputId": "baf0240f-d939-487c-ce8c-ccee60f8eccc"
      },
      "execution_count": 44,
      "outputs": [
        {
          "output_type": "execute_result",
          "data": {
            "text/plain": [
              "dict_keys(['input_ids', 'attention_mask', 'labels', 'decoder_input_ids'])"
            ]
          },
          "metadata": {},
          "execution_count": 44
        }
      ]
    },
    {
      "cell_type": "markdown",
      "source": [
        "👆 4 fields now (field 'decoder_input_ids' was added)\n",
        "\n",
        "'decoder_input_ids' is the input for the decoder"
      ],
      "metadata": {
        "id": "CsyYySwKOc-H"
      }
    },
    {
      "cell_type": "markdown",
      "source": [
        "👆 Great, they are tensors!"
      ],
      "metadata": {
        "id": "zr1dgaq_Uw9Y"
      }
    },
    {
      "cell_type": "code",
      "source": [
        "# check the 'decoder_input_ids' field of the collated batch:\n",
        "batch[\"decoder_input_ids\"]"
      ],
      "metadata": {
        "colab": {
          "base_uri": "https://localhost:8080/"
        },
        "id": "sL0GmLrTUrll",
        "outputId": "4ae9e573-ac70-43cf-8e01-a6fe5ea2b236"
      },
      "execution_count": 46,
      "outputs": [
        {
          "output_type": "execute_result",
          "data": {
            "text/plain": [
              "tensor([[59513,   526,  3261,     0, 59513, 59513, 59513, 59513, 59513, 59513,\n",
              "         59513, 59513, 59513, 59513, 59513, 59513, 59513, 59513],\n",
              "        [59513, 34023,     5,  3948,     5,   372,   402, 38492,   350,   823,\n",
              "            95, 13439,     2, 25985,    14,     6,  3996,     3]])"
            ]
          },
          "metadata": {},
          "execution_count": 46
        }
      ]
    },
    {
      "cell_type": "markdown",
      "source": [
        "👆 59513 is a special token. It's both the ***start token*** and the ***padding token*** for each sentence"
      ],
      "metadata": {
        "id": "WcVeab1bY59V"
      }
    },
    {
      "cell_type": "code",
      "source": [
        "# decoder input IDs -> human-readable tokens:\n",
        "tokenizer.convert_ids_to_tokens(batch[\"decoder_input_ids\"][0])"
      ],
      "metadata": {
        "colab": {
          "base_uri": "https://localhost:8080/"
        },
        "id": "ktEMgg12XjCw",
        "outputId": "898581e3-e8cf-4ef3-a864-139f0d3cd1eb"
      },
      "execution_count": 53,
      "outputs": [
        {
          "output_type": "execute_result",
          "data": {
            "text/plain": [
              "['<pad>',\n",
              " '▁K',\n",
              " 'DE',\n",
              " '</s>',\n",
              " '<pad>',\n",
              " '<pad>',\n",
              " '<pad>',\n",
              " '<pad>',\n",
              " '<pad>',\n",
              " '<pad>',\n",
              " '<pad>',\n",
              " '<pad>',\n",
              " '<pad>',\n",
              " '<pad>',\n",
              " '<pad>',\n",
              " '<pad>',\n",
              " '<pad>',\n",
              " '<pad>']"
            ]
          },
          "metadata": {},
          "execution_count": 53
        }
      ]
    },
    {
      "cell_type": "code",
      "source": [
        "# check the 'labels' field of the collated batch:\n",
        "batch[\"labels\"]"
      ],
      "metadata": {
        "colab": {
          "base_uri": "https://localhost:8080/"
        },
        "id": "BKCKCeaM0pJV",
        "outputId": "bd7bdf81-870c-415d-f814-b03fb6a5ffd3"
      },
      "execution_count": 45,
      "outputs": [
        {
          "output_type": "execute_result",
          "data": {
            "text/plain": [
              "tensor([[  526,  3261,     0,  -100,  -100,  -100,  -100,  -100,  -100,  -100,\n",
              "          -100,  -100,  -100,  -100,  -100,  -100,  -100,  -100],\n",
              "        [34023,     5,  3948,     5,   372,   402, 38492,   350,   823,    95,\n",
              "         13439,     2, 25985,    14,     6,  3996,     3,     0]])"
            ]
          },
          "metadata": {},
          "execution_count": 45
        }
      ]
    },
    {
      "cell_type": "markdown",
      "source": [
        "👆 Again, each sentence had 59513 padding tokens ***added to both the beginning and the end***."
      ],
      "metadata": {
        "id": "-mDmXgmRc8Py"
      }
    },
    {
      "cell_type": "code",
      "source": [
        "# token IDs -> human-readable tokens:\n",
        "tokenizer.convert_ids_to_tokens(batch[\"labels\"][0])"
      ],
      "metadata": {
        "colab": {
          "base_uri": "https://localhost:8080/"
        },
        "id": "pFwKAo1UdnBr",
        "outputId": "f978385f-0597-4a74-e1a5-1a2c67f87828"
      },
      "execution_count": 51,
      "outputs": [
        {
          "output_type": "execute_result",
          "data": {
            "text/plain": [
              "['▁K',\n",
              " 'DE',\n",
              " '</s>',\n",
              " '<unk>',\n",
              " '<unk>',\n",
              " '<unk>',\n",
              " '<unk>',\n",
              " '<unk>',\n",
              " '<unk>',\n",
              " '<unk>',\n",
              " '<unk>',\n",
              " '<unk>',\n",
              " '<unk>',\n",
              " '<unk>',\n",
              " '<unk>',\n",
              " '<unk>',\n",
              " '<unk>',\n",
              " '<unk>']"
            ]
          },
          "metadata": {},
          "execution_count": 51
        }
      ]
    },
    {
      "cell_type": "markdown",
      "source": [
        "👆 The targets are just a shifted version of the decoder inputs.\n",
        "\n",
        "`'<unk>'` for unknown"
      ],
      "metadata": {
        "id": "KCDpGPzge2yc"
      }
    },
    {
      "cell_type": "code",
      "source": [
        "split['train'][1]"
      ],
      "metadata": {
        "colab": {
          "base_uri": "https://localhost:8080/"
        },
        "id": "6PkqXHrEenuM",
        "outputId": "5ccf1eaf-3487-4f3c-ab32-cddee0b9d215"
      },
      "execution_count": 54,
      "outputs": [
        {
          "output_type": "execute_result",
          "data": {
            "text/plain": [
              "{'id': '47571', 'translation': {'en': 'KDE', 'fr': 'KDE'}}"
            ]
          },
          "metadata": {},
          "execution_count": 54
        }
      ]
    },
    {
      "cell_type": "markdown",
      "source": [
        "# Translation metrics:"
      ],
      "metadata": {
        "id": "J8Z4hyh9hVKi"
      }
    },
    {
      "cell_type": "code",
      "source": [
        "# install packages:\n",
        "!pip install sacrebleu bert-score\n",
        "# sacrebleu is focused on the BLEU metric for translation evaluation\n",
        "# bert-score provides evaluation metrics using contextual embeddings, particularly BERT embeddings"
      ],
      "metadata": {
        "colab": {
          "base_uri": "https://localhost:8080/"
        },
        "id": "ApgQhbkUg3D_",
        "outputId": "852e5ba7-616a-47f4-d439-8ebbd823a8af"
      },
      "execution_count": 55,
      "outputs": [
        {
          "output_type": "stream",
          "name": "stdout",
          "text": [
            "Collecting sacrebleu\n",
            "  Downloading sacrebleu-2.3.3-py3-none-any.whl (106 kB)\n",
            "\u001b[2K     \u001b[90m━━━━━━━━━━━━━━━━━━━━━━━━━━━━━━━━━━━━━━━━\u001b[0m \u001b[32m106.4/106.4 kB\u001b[0m \u001b[31m2.4 MB/s\u001b[0m eta \u001b[36m0:00:00\u001b[0m\n",
            "\u001b[?25hCollecting bert-score\n",
            "  Downloading bert_score-0.3.13-py3-none-any.whl (61 kB)\n",
            "\u001b[2K     \u001b[90m━━━━━━━━━━━━━━━━━━━━━━━━━━━━━━━━━━━━━━━━\u001b[0m \u001b[32m61.1/61.1 kB\u001b[0m \u001b[31m7.4 MB/s\u001b[0m eta \u001b[36m0:00:00\u001b[0m\n",
            "\u001b[?25hCollecting portalocker (from sacrebleu)\n",
            "  Downloading portalocker-2.8.2-py3-none-any.whl (17 kB)\n",
            "Requirement already satisfied: regex in /usr/local/lib/python3.10/dist-packages (from sacrebleu) (2023.6.3)\n",
            "Requirement already satisfied: tabulate>=0.8.9 in /usr/local/lib/python3.10/dist-packages (from sacrebleu) (0.9.0)\n",
            "Requirement already satisfied: numpy>=1.17 in /usr/local/lib/python3.10/dist-packages (from sacrebleu) (1.23.5)\n",
            "Collecting colorama (from sacrebleu)\n",
            "  Downloading colorama-0.4.6-py2.py3-none-any.whl (25 kB)\n",
            "Requirement already satisfied: lxml in /usr/local/lib/python3.10/dist-packages (from sacrebleu) (4.9.3)\n",
            "Requirement already satisfied: torch>=1.0.0 in /usr/local/lib/python3.10/dist-packages (from bert-score) (2.1.0+cu118)\n",
            "Requirement already satisfied: pandas>=1.0.1 in /usr/local/lib/python3.10/dist-packages (from bert-score) (1.5.3)\n",
            "Requirement already satisfied: transformers>=3.0.0 in /usr/local/lib/python3.10/dist-packages (from bert-score) (4.35.2)\n",
            "Requirement already satisfied: requests in /usr/local/lib/python3.10/dist-packages (from bert-score) (2.31.0)\n",
            "Requirement already satisfied: tqdm>=4.31.1 in /usr/local/lib/python3.10/dist-packages (from bert-score) (4.66.1)\n",
            "Requirement already satisfied: matplotlib in /usr/local/lib/python3.10/dist-packages (from bert-score) (3.7.1)\n",
            "Requirement already satisfied: packaging>=20.9 in /usr/local/lib/python3.10/dist-packages (from bert-score) (23.2)\n",
            "Requirement already satisfied: python-dateutil>=2.8.1 in /usr/local/lib/python3.10/dist-packages (from pandas>=1.0.1->bert-score) (2.8.2)\n",
            "Requirement already satisfied: pytz>=2020.1 in /usr/local/lib/python3.10/dist-packages (from pandas>=1.0.1->bert-score) (2023.3.post1)\n",
            "Requirement already satisfied: filelock in /usr/local/lib/python3.10/dist-packages (from torch>=1.0.0->bert-score) (3.13.1)\n",
            "Requirement already satisfied: typing-extensions in /usr/local/lib/python3.10/dist-packages (from torch>=1.0.0->bert-score) (4.5.0)\n",
            "Requirement already satisfied: sympy in /usr/local/lib/python3.10/dist-packages (from torch>=1.0.0->bert-score) (1.12)\n",
            "Requirement already satisfied: networkx in /usr/local/lib/python3.10/dist-packages (from torch>=1.0.0->bert-score) (3.2.1)\n",
            "Requirement already satisfied: jinja2 in /usr/local/lib/python3.10/dist-packages (from torch>=1.0.0->bert-score) (3.1.2)\n",
            "Requirement already satisfied: fsspec in /usr/local/lib/python3.10/dist-packages (from torch>=1.0.0->bert-score) (2023.6.0)\n",
            "Requirement already satisfied: triton==2.1.0 in /usr/local/lib/python3.10/dist-packages (from torch>=1.0.0->bert-score) (2.1.0)\n",
            "Requirement already satisfied: huggingface-hub<1.0,>=0.16.4 in /usr/local/lib/python3.10/dist-packages (from transformers>=3.0.0->bert-score) (0.19.4)\n",
            "Requirement already satisfied: pyyaml>=5.1 in /usr/local/lib/python3.10/dist-packages (from transformers>=3.0.0->bert-score) (6.0.1)\n",
            "Requirement already satisfied: tokenizers<0.19,>=0.14 in /usr/local/lib/python3.10/dist-packages (from transformers>=3.0.0->bert-score) (0.15.0)\n",
            "Requirement already satisfied: safetensors>=0.3.1 in /usr/local/lib/python3.10/dist-packages (from transformers>=3.0.0->bert-score) (0.4.0)\n",
            "Requirement already satisfied: contourpy>=1.0.1 in /usr/local/lib/python3.10/dist-packages (from matplotlib->bert-score) (1.2.0)\n",
            "Requirement already satisfied: cycler>=0.10 in /usr/local/lib/python3.10/dist-packages (from matplotlib->bert-score) (0.12.1)\n",
            "Requirement already satisfied: fonttools>=4.22.0 in /usr/local/lib/python3.10/dist-packages (from matplotlib->bert-score) (4.44.3)\n",
            "Requirement already satisfied: kiwisolver>=1.0.1 in /usr/local/lib/python3.10/dist-packages (from matplotlib->bert-score) (1.4.5)\n",
            "Requirement already satisfied: pillow>=6.2.0 in /usr/local/lib/python3.10/dist-packages (from matplotlib->bert-score) (9.4.0)\n",
            "Requirement already satisfied: pyparsing>=2.3.1 in /usr/local/lib/python3.10/dist-packages (from matplotlib->bert-score) (3.1.1)\n",
            "Requirement already satisfied: charset-normalizer<4,>=2 in /usr/local/lib/python3.10/dist-packages (from requests->bert-score) (3.3.2)\n",
            "Requirement already satisfied: idna<4,>=2.5 in /usr/local/lib/python3.10/dist-packages (from requests->bert-score) (3.4)\n",
            "Requirement already satisfied: urllib3<3,>=1.21.1 in /usr/local/lib/python3.10/dist-packages (from requests->bert-score) (2.0.7)\n",
            "Requirement already satisfied: certifi>=2017.4.17 in /usr/local/lib/python3.10/dist-packages (from requests->bert-score) (2023.7.22)\n",
            "Requirement already satisfied: six>=1.5 in /usr/local/lib/python3.10/dist-packages (from python-dateutil>=2.8.1->pandas>=1.0.1->bert-score) (1.16.0)\n",
            "Requirement already satisfied: MarkupSafe>=2.0 in /usr/local/lib/python3.10/dist-packages (from jinja2->torch>=1.0.0->bert-score) (2.1.3)\n",
            "Requirement already satisfied: mpmath>=0.19 in /usr/local/lib/python3.10/dist-packages (from sympy->torch>=1.0.0->bert-score) (1.3.0)\n",
            "Installing collected packages: portalocker, colorama, sacrebleu, bert-score\n",
            "Successfully installed bert-score-0.3.13 colorama-0.4.6 portalocker-2.8.2 sacrebleu-2.3.3\n"
          ]
        }
      ]
    },
    {
      "cell_type": "code",
      "source": [
        "from datasets import load_metric # a library to load evaluation metrics\n",
        "\n",
        "bleu_metric = load_metric(\"sacrebleu\") # load metrics for evaluating translation outputs based on the BLEU metric\n",
        "bert_metric = load_metric(\"bertscore\") # load metrics for evaluating text generation outputs using BERT embeddings"
      ],
      "metadata": {
        "colab": {
          "base_uri": "https://localhost:8080/",
          "height": 136,
          "referenced_widgets": [
            "030f2260721143be8be59235effdad29",
            "19891a122ba0455fb5a890d05b795175",
            "aaee0d866a0141da9979e540b83bebfa",
            "7006e56b946b47c1addabb188fadb85c",
            "4a573551ebaa4f5796488084d98fe079",
            "debb88ef17834cff88b5ec07e9555ee5",
            "323cbe6285ea4294a3f0145b416bf76e",
            "6298fe1c04914af28f9f2b079c74f91c",
            "349dd8b43e6d4423ae1c9457ddabba11",
            "fba0269ccc2748aa8f7f23d13b036912",
            "a91cfa46685b499d84b6a70b776f3d2d",
            "ac20e41cc126418c90ea867d986cae85",
            "6762b4f715434196a78c4dcf544d870d",
            "8887e20e5321446c8caeba83e8ec6ea8",
            "54d99202c43247d1bd045fec02352629",
            "90d29099187b4546bd5f8d9a8aa41664",
            "7ab1e8d2a4d44587b3b0e07cf75df230",
            "1e8cfcac15d947ca88b8bbc2c1c4cf4b",
            "ff9c8cf09ff14a0aaf345debd825f043",
            "c536dcd26ee942579b2dfe778ccad08e",
            "232ba42b0a894dce8a2bad64d2c9bf88",
            "848fd7d8d71541958ec2cd013ad611ec"
          ]
        },
        "id": "wap5HtNbhal7",
        "outputId": "27e52cc9-d8a0-498b-bba3-d997f28f4a8e"
      },
      "execution_count": 56,
      "outputs": [
        {
          "output_type": "stream",
          "name": "stderr",
          "text": [
            "<ipython-input-56-ea55910897b9>:3: FutureWarning: load_metric is deprecated and will be removed in the next major version of datasets. Use 'evaluate.load' instead, from the new library 🤗 Evaluate: https://huggingface.co/docs/evaluate\n",
            "  bleu_metric = load_metric(\"sacrebleu\") # load metrics for evaluating translation outputs based on the BLEU metric\n"
          ]
        },
        {
          "output_type": "display_data",
          "data": {
            "text/plain": [
              "Downloading builder script:   0%|          | 0.00/2.85k [00:00<?, ?B/s]"
            ],
            "application/vnd.jupyter.widget-view+json": {
              "version_major": 2,
              "version_minor": 0,
              "model_id": "030f2260721143be8be59235effdad29"
            }
          },
          "metadata": {}
        },
        {
          "output_type": "display_data",
          "data": {
            "text/plain": [
              "Downloading builder script:   0%|          | 0.00/2.92k [00:00<?, ?B/s]"
            ],
            "application/vnd.jupyter.widget-view+json": {
              "version_major": 2,
              "version_minor": 0,
              "model_id": "ac20e41cc126418c90ea867d986cae85"
            }
          },
          "metadata": {}
        }
      ]
    },
    {
      "cell_type": "code",
      "source": [
        "# dummy test for a short sentence:\n",
        "bleu_metric.compute(predictions=[\"I love cats\"], references=[[\"I love cats\"]])\n",
        "# Note: references/targets must be in a list. Because for BLEU, there can be multiple acceptable reference translations."
      ],
      "metadata": {
        "colab": {
          "base_uri": "https://localhost:8080/"
        },
        "id": "a7r4DQ5NoXdQ",
        "outputId": "e022f004-055b-430a-be9c-ee51f62b30df"
      },
      "execution_count": 64,
      "outputs": [
        {
          "output_type": "execute_result",
          "data": {
            "text/plain": [
              "{'score': 0.0,\n",
              " 'counts': [3, 2, 1, 0],\n",
              " 'totals': [3, 2, 1, 0],\n",
              " 'precisions': [100.0, 100.0, 100.0, 0.0],\n",
              " 'bp': 1.0,\n",
              " 'sys_len': 3,\n",
              " 'ref_len': 3}"
            ]
          },
          "metadata": {},
          "execution_count": 64
        }
      ]
    },
    {
      "cell_type": "code",
      "source": [
        "# dummy test for a longer sentence:\n",
        "s = \"Marian is an efficient NMT framework written in pure C++\"\n",
        "bleu_metric.compute(predictions=[s], references=[[s]])"
      ],
      "metadata": {
        "colab": {
          "base_uri": "https://localhost:8080/"
        },
        "id": "xm8MIJELpE_N",
        "outputId": "679ea72f-c547-483d-d15b-f979319b3461"
      },
      "execution_count": 65,
      "outputs": [
        {
          "output_type": "execute_result",
          "data": {
            "text/plain": [
              "{'score': 100.00000000000004,\n",
              " 'counts': [12, 11, 10, 9],\n",
              " 'totals': [12, 11, 10, 9],\n",
              " 'precisions': [100.0, 100.0, 100.0, 100.0],\n",
              " 'bp': 1.0,\n",
              " 'sys_len': 12,\n",
              " 'ref_len': 12}"
            ]
          },
          "metadata": {},
          "execution_count": 65
        }
      ]
    },
    {
      "cell_type": "code",
      "source": [
        "# compute BERTScore for a set of predictions and their corresponding references:\n",
        "bert_metric.compute(\n",
        "    predictions=[\"I love cats\"], references=[[\"I like cats\"]], lang='en') # 'like' vs 'love'"
      ],
      "metadata": {
        "colab": {
          "base_uri": "https://localhost:8080/",
          "height": 301,
          "referenced_widgets": [
            "58a13a23cb5d4a789ed6164ba0e10151",
            "524dee0e998d4533bdd7c9a01ec310b8",
            "796d7c05093249b6b8132a918050d01b",
            "688b1ad84a2e431ca921e59cff90f171",
            "ab2bca43f83e4b469702eb5617e71f34",
            "a684a55ed97e469986c3710cbb57c53f",
            "1210b64b476f4e4bb76a2d2440bfd2cb",
            "fff9ed219fb943038216ad36ad13752c",
            "ebc34ed317d44737b1ecfd564eede209",
            "11c4d2c65001410fbf52170c28c3fba9",
            "7a5120328dfc4cc4bef3230695212c01",
            "321f5476417246ae89ba3667d53853be",
            "816ceed41398475e99cf90c1fc4da4b7",
            "85224f2453d54cc7b9b47bd1de4faebb",
            "1e1ea86706504295b5687ac8eef3fde5",
            "6496488dbb7b426b9611ef18691b6644",
            "626582c0406446739ac5ea56dcd08240",
            "1fe89ab8902343f39a2736351646c767",
            "c61316ca5bb3499683bba02def2ddbfd",
            "42a3e0f900924e16a3149e1b2e4605bf",
            "c149f6f5ae114477b4af308540371891",
            "093c4f18e93943f18ad7a1477d32ed49",
            "0141d65c45fe45ff94cf8ee5b0478716",
            "11bc1e4b5bd245d9ad0fbfd154c16331",
            "31648fdd7de24c448967c5f77b65b9d9",
            "624802a1b1c6416898e3327d71d8e17b",
            "3989df2179f94472babc1969742868c5",
            "4354166d119246ecb504b6c40149c5cc",
            "3eaf9a081fca4bf99bcf3a04cdcbc15e",
            "f953cf08c777410b9e867daa486f3433",
            "a117e1bf3a8b4764ba49232fb5ab0384",
            "35b23a7ac029486788f555fb13da5485",
            "d816dbe9beea4f2d8ed0830a31d3b79e",
            "b99ca48ec6e74cb5838183b75913bb1f",
            "aab1f43e4c394412ba72c6569c34c6ac",
            "f04ac89359254761a48daa76c7a3cdcf",
            "79f09f384b2f4feab4f89a707d4e1dce",
            "2249bdb1e39344a2b0d012d4d6d8b22d",
            "92d299b6a69442dc82f62077290e4ac3",
            "472ae6881bfd4c38828ea3cbd5fb58bc",
            "f101303353404a43b19383a599a3adc2",
            "69841d87de2c49eba31becc8b0f43b97",
            "724368eb49c541ce850f5c642eb23b60",
            "94ba23ad89fb4b779549f96dbd5dbd7c",
            "2e083321e85a41608eb386e162d377aa",
            "ca2b4dbf97ab4ca893ca202419e9c50c",
            "88f8e5a3a06b433a86a838d8d8a07953",
            "27836fb13a3445d4a67cadf389b71451",
            "f1b3d4dfabc34f3cb78b808f4029184d",
            "3985fddfafc74d799a19806676e62e11",
            "3e8a24e2fd904ed292383f0b3a3b3948",
            "27542afdb6c64c028c62cfce0ae0c7af",
            "d4dac725b59044648fac9ab8219a7e31",
            "4ffc778fabd94eee9dad371d36a22556",
            "fd1518ff2cdc422aa69712cc9db2fd09"
          ]
        },
        "id": "CgpoA1BYp-MC",
        "outputId": "bde449fe-4163-4085-e025-0ee43360c4f1"
      },
      "execution_count": 66,
      "outputs": [
        {
          "output_type": "display_data",
          "data": {
            "text/plain": [
              "config.json:   0%|          | 0.00/482 [00:00<?, ?B/s]"
            ],
            "application/vnd.jupyter.widget-view+json": {
              "version_major": 2,
              "version_minor": 0,
              "model_id": "58a13a23cb5d4a789ed6164ba0e10151"
            }
          },
          "metadata": {}
        },
        {
          "output_type": "display_data",
          "data": {
            "text/plain": [
              "vocab.json:   0%|          | 0.00/899k [00:00<?, ?B/s]"
            ],
            "application/vnd.jupyter.widget-view+json": {
              "version_major": 2,
              "version_minor": 0,
              "model_id": "321f5476417246ae89ba3667d53853be"
            }
          },
          "metadata": {}
        },
        {
          "output_type": "display_data",
          "data": {
            "text/plain": [
              "merges.txt:   0%|          | 0.00/456k [00:00<?, ?B/s]"
            ],
            "application/vnd.jupyter.widget-view+json": {
              "version_major": 2,
              "version_minor": 0,
              "model_id": "0141d65c45fe45ff94cf8ee5b0478716"
            }
          },
          "metadata": {}
        },
        {
          "output_type": "display_data",
          "data": {
            "text/plain": [
              "tokenizer.json:   0%|          | 0.00/1.36M [00:00<?, ?B/s]"
            ],
            "application/vnd.jupyter.widget-view+json": {
              "version_major": 2,
              "version_minor": 0,
              "model_id": "b99ca48ec6e74cb5838183b75913bb1f"
            }
          },
          "metadata": {}
        },
        {
          "output_type": "display_data",
          "data": {
            "text/plain": [
              "model.safetensors:   0%|          | 0.00/1.42G [00:00<?, ?B/s]"
            ],
            "application/vnd.jupyter.widget-view+json": {
              "version_major": 2,
              "version_minor": 0,
              "model_id": "2e083321e85a41608eb386e162d377aa"
            }
          },
          "metadata": {}
        },
        {
          "output_type": "stream",
          "name": "stderr",
          "text": [
            "Some weights of RobertaModel were not initialized from the model checkpoint at roberta-large and are newly initialized: ['roberta.pooler.dense.weight', 'roberta.pooler.dense.bias']\n",
            "You should probably TRAIN this model on a down-stream task to be able to use it for predictions and inference.\n"
          ]
        },
        {
          "output_type": "execute_result",
          "data": {
            "text/plain": [
              "{'precision': [0.9803367853164673],\n",
              " 'recall': [0.9803367853164673],\n",
              " 'f1': [0.9803367853164673],\n",
              " 'hashcode': 'roberta-large_L17_no-idf_version=0.3.12(hug_trans=4.35.2)'}"
            ]
          },
          "metadata": {},
          "execution_count": 66
        }
      ]
    },
    {
      "cell_type": "code",
      "source": [
        "import numpy as np # import NumPy library for numerical computations in Python\n",
        "\n",
        "# define my own compute_metrics function:\n",
        "def compute_metrics(preds_and_labels):\n",
        "  # preds are not logits, but token ids\n",
        "  preds, labels = preds_and_labels\n",
        "\n",
        "  # convert predictions into words\n",
        "  decoded_preds = tokenizer.batch_decode(preds, skip_special_tokens=True)\n",
        "\n",
        "  # tokenizer doesn't recognize -100 values\n",
        "  # therefore replace any -100 in labels with the padding token id from a tokenizer\n",
        "  labels = np.where(labels != -100, labels, tokenizer.pad_token_id)\n",
        "\n",
        "  # decode labels into words (human-readable text)\n",
        "  decoded_labels = tokenizer.batch_decode(labels, skip_special_tokens=True)\n",
        "\n",
        "  # get rid of extraneous whitespace\n",
        "  # and also, put targets into lists\n",
        "  decoded_preds = [pred.strip() for pred in decoded_preds]\n",
        "  decoded_labels = [[label.strip()] for label in decoded_labels]\n",
        "\n",
        "  bleu = bleu_metric.compute(\n",
        "      predictions=decoded_preds, references=decoded_labels)\n",
        "  bert_score = bert_metric.compute(\n",
        "      predictions=decoded_preds, references=decoded_labels, lang='fr')\n",
        "\n",
        "  return {\"bleu\": bleu[\"score\"], 'bert_score': np.mean(bert_score['f1'])}"
      ],
      "metadata": {
        "id": "T3WpZioArSZE"
      },
      "execution_count": 67,
      "outputs": []
    },
    {
      "cell_type": "markdown",
      "source": [
        "👆 Recall that the bert_score is returned per sample, so we calculate the mean."
      ],
      "metadata": {
        "id": "zFLgl833veJZ"
      }
    },
    {
      "cell_type": "code",
      "source": [],
      "metadata": {
        "id": "ggX3Pt2Uvz60"
      },
      "execution_count": null,
      "outputs": []
    }
  ]
}