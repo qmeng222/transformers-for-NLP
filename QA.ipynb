{
  "nbformat": 4,
  "nbformat_minor": 0,
  "metadata": {
    "colab": {
      "provenance": [],
      "authorship_tag": "ABX9TyNMmjsOhHqdoKzPXYRK0HP+",
      "include_colab_link": true
    },
    "kernelspec": {
      "name": "python3",
      "display_name": "Python 3"
    },
    "language_info": {
      "name": "python"
    },
    "widgets": {
      "application/vnd.jupyter.widget-state+json": {
        "d02661f85ba6482f8eefc94b057bcc41": {
          "model_module": "@jupyter-widgets/controls",
          "model_name": "HBoxModel",
          "model_module_version": "1.5.0",
          "state": {
            "_dom_classes": [],
            "_model_module": "@jupyter-widgets/controls",
            "_model_module_version": "1.5.0",
            "_model_name": "HBoxModel",
            "_view_count": null,
            "_view_module": "@jupyter-widgets/controls",
            "_view_module_version": "1.5.0",
            "_view_name": "HBoxView",
            "box_style": "",
            "children": [
              "IPY_MODEL_6a636d4c6f3f4853a938a1c5faf7609f",
              "IPY_MODEL_22b733dce857423e80d454ca4fc23887",
              "IPY_MODEL_c6dda96055b54b3a9425299bf753f270"
            ],
            "layout": "IPY_MODEL_50ba31ef90734de5a8f6b7f182552e75"
          }
        },
        "6a636d4c6f3f4853a938a1c5faf7609f": {
          "model_module": "@jupyter-widgets/controls",
          "model_name": "HTMLModel",
          "model_module_version": "1.5.0",
          "state": {
            "_dom_classes": [],
            "_model_module": "@jupyter-widgets/controls",
            "_model_module_version": "1.5.0",
            "_model_name": "HTMLModel",
            "_view_count": null,
            "_view_module": "@jupyter-widgets/controls",
            "_view_module_version": "1.5.0",
            "_view_name": "HTMLView",
            "description": "",
            "description_tooltip": null,
            "layout": "IPY_MODEL_849e17eadd92497eae93605abd178e81",
            "placeholder": "​",
            "style": "IPY_MODEL_0b330c59ab7e46d78b4a145c225db7f3",
            "value": "Map: 100%"
          }
        },
        "22b733dce857423e80d454ca4fc23887": {
          "model_module": "@jupyter-widgets/controls",
          "model_name": "FloatProgressModel",
          "model_module_version": "1.5.0",
          "state": {
            "_dom_classes": [],
            "_model_module": "@jupyter-widgets/controls",
            "_model_module_version": "1.5.0",
            "_model_name": "FloatProgressModel",
            "_view_count": null,
            "_view_module": "@jupyter-widgets/controls",
            "_view_module_version": "1.5.0",
            "_view_name": "ProgressView",
            "bar_style": "success",
            "description": "",
            "description_tooltip": null,
            "layout": "IPY_MODEL_8becdfd876c146939dd8e5661dbd3891",
            "max": 87599,
            "min": 0,
            "orientation": "horizontal",
            "style": "IPY_MODEL_88815c0f5bc847e282324daa73eeb7b3",
            "value": 87599
          }
        },
        "c6dda96055b54b3a9425299bf753f270": {
          "model_module": "@jupyter-widgets/controls",
          "model_name": "HTMLModel",
          "model_module_version": "1.5.0",
          "state": {
            "_dom_classes": [],
            "_model_module": "@jupyter-widgets/controls",
            "_model_module_version": "1.5.0",
            "_model_name": "HTMLModel",
            "_view_count": null,
            "_view_module": "@jupyter-widgets/controls",
            "_view_module_version": "1.5.0",
            "_view_name": "HTMLView",
            "description": "",
            "description_tooltip": null,
            "layout": "IPY_MODEL_d70a08d8ee084ecd9e622cf41797ea8d",
            "placeholder": "​",
            "style": "IPY_MODEL_09f585a629614335a9cab56eb1dee707",
            "value": " 87599/87599 [01:21&lt;00:00, 995.73 examples/s]"
          }
        },
        "50ba31ef90734de5a8f6b7f182552e75": {
          "model_module": "@jupyter-widgets/base",
          "model_name": "LayoutModel",
          "model_module_version": "1.2.0",
          "state": {
            "_model_module": "@jupyter-widgets/base",
            "_model_module_version": "1.2.0",
            "_model_name": "LayoutModel",
            "_view_count": null,
            "_view_module": "@jupyter-widgets/base",
            "_view_module_version": "1.2.0",
            "_view_name": "LayoutView",
            "align_content": null,
            "align_items": null,
            "align_self": null,
            "border": null,
            "bottom": null,
            "display": null,
            "flex": null,
            "flex_flow": null,
            "grid_area": null,
            "grid_auto_columns": null,
            "grid_auto_flow": null,
            "grid_auto_rows": null,
            "grid_column": null,
            "grid_gap": null,
            "grid_row": null,
            "grid_template_areas": null,
            "grid_template_columns": null,
            "grid_template_rows": null,
            "height": null,
            "justify_content": null,
            "justify_items": null,
            "left": null,
            "margin": null,
            "max_height": null,
            "max_width": null,
            "min_height": null,
            "min_width": null,
            "object_fit": null,
            "object_position": null,
            "order": null,
            "overflow": null,
            "overflow_x": null,
            "overflow_y": null,
            "padding": null,
            "right": null,
            "top": null,
            "visibility": null,
            "width": null
          }
        },
        "849e17eadd92497eae93605abd178e81": {
          "model_module": "@jupyter-widgets/base",
          "model_name": "LayoutModel",
          "model_module_version": "1.2.0",
          "state": {
            "_model_module": "@jupyter-widgets/base",
            "_model_module_version": "1.2.0",
            "_model_name": "LayoutModel",
            "_view_count": null,
            "_view_module": "@jupyter-widgets/base",
            "_view_module_version": "1.2.0",
            "_view_name": "LayoutView",
            "align_content": null,
            "align_items": null,
            "align_self": null,
            "border": null,
            "bottom": null,
            "display": null,
            "flex": null,
            "flex_flow": null,
            "grid_area": null,
            "grid_auto_columns": null,
            "grid_auto_flow": null,
            "grid_auto_rows": null,
            "grid_column": null,
            "grid_gap": null,
            "grid_row": null,
            "grid_template_areas": null,
            "grid_template_columns": null,
            "grid_template_rows": null,
            "height": null,
            "justify_content": null,
            "justify_items": null,
            "left": null,
            "margin": null,
            "max_height": null,
            "max_width": null,
            "min_height": null,
            "min_width": null,
            "object_fit": null,
            "object_position": null,
            "order": null,
            "overflow": null,
            "overflow_x": null,
            "overflow_y": null,
            "padding": null,
            "right": null,
            "top": null,
            "visibility": null,
            "width": null
          }
        },
        "0b330c59ab7e46d78b4a145c225db7f3": {
          "model_module": "@jupyter-widgets/controls",
          "model_name": "DescriptionStyleModel",
          "model_module_version": "1.5.0",
          "state": {
            "_model_module": "@jupyter-widgets/controls",
            "_model_module_version": "1.5.0",
            "_model_name": "DescriptionStyleModel",
            "_view_count": null,
            "_view_module": "@jupyter-widgets/base",
            "_view_module_version": "1.2.0",
            "_view_name": "StyleView",
            "description_width": ""
          }
        },
        "8becdfd876c146939dd8e5661dbd3891": {
          "model_module": "@jupyter-widgets/base",
          "model_name": "LayoutModel",
          "model_module_version": "1.2.0",
          "state": {
            "_model_module": "@jupyter-widgets/base",
            "_model_module_version": "1.2.0",
            "_model_name": "LayoutModel",
            "_view_count": null,
            "_view_module": "@jupyter-widgets/base",
            "_view_module_version": "1.2.0",
            "_view_name": "LayoutView",
            "align_content": null,
            "align_items": null,
            "align_self": null,
            "border": null,
            "bottom": null,
            "display": null,
            "flex": null,
            "flex_flow": null,
            "grid_area": null,
            "grid_auto_columns": null,
            "grid_auto_flow": null,
            "grid_auto_rows": null,
            "grid_column": null,
            "grid_gap": null,
            "grid_row": null,
            "grid_template_areas": null,
            "grid_template_columns": null,
            "grid_template_rows": null,
            "height": null,
            "justify_content": null,
            "justify_items": null,
            "left": null,
            "margin": null,
            "max_height": null,
            "max_width": null,
            "min_height": null,
            "min_width": null,
            "object_fit": null,
            "object_position": null,
            "order": null,
            "overflow": null,
            "overflow_x": null,
            "overflow_y": null,
            "padding": null,
            "right": null,
            "top": null,
            "visibility": null,
            "width": null
          }
        },
        "88815c0f5bc847e282324daa73eeb7b3": {
          "model_module": "@jupyter-widgets/controls",
          "model_name": "ProgressStyleModel",
          "model_module_version": "1.5.0",
          "state": {
            "_model_module": "@jupyter-widgets/controls",
            "_model_module_version": "1.5.0",
            "_model_name": "ProgressStyleModel",
            "_view_count": null,
            "_view_module": "@jupyter-widgets/base",
            "_view_module_version": "1.2.0",
            "_view_name": "StyleView",
            "bar_color": null,
            "description_width": ""
          }
        },
        "d70a08d8ee084ecd9e622cf41797ea8d": {
          "model_module": "@jupyter-widgets/base",
          "model_name": "LayoutModel",
          "model_module_version": "1.2.0",
          "state": {
            "_model_module": "@jupyter-widgets/base",
            "_model_module_version": "1.2.0",
            "_model_name": "LayoutModel",
            "_view_count": null,
            "_view_module": "@jupyter-widgets/base",
            "_view_module_version": "1.2.0",
            "_view_name": "LayoutView",
            "align_content": null,
            "align_items": null,
            "align_self": null,
            "border": null,
            "bottom": null,
            "display": null,
            "flex": null,
            "flex_flow": null,
            "grid_area": null,
            "grid_auto_columns": null,
            "grid_auto_flow": null,
            "grid_auto_rows": null,
            "grid_column": null,
            "grid_gap": null,
            "grid_row": null,
            "grid_template_areas": null,
            "grid_template_columns": null,
            "grid_template_rows": null,
            "height": null,
            "justify_content": null,
            "justify_items": null,
            "left": null,
            "margin": null,
            "max_height": null,
            "max_width": null,
            "min_height": null,
            "min_width": null,
            "object_fit": null,
            "object_position": null,
            "order": null,
            "overflow": null,
            "overflow_x": null,
            "overflow_y": null,
            "padding": null,
            "right": null,
            "top": null,
            "visibility": null,
            "width": null
          }
        },
        "09f585a629614335a9cab56eb1dee707": {
          "model_module": "@jupyter-widgets/controls",
          "model_name": "DescriptionStyleModel",
          "model_module_version": "1.5.0",
          "state": {
            "_model_module": "@jupyter-widgets/controls",
            "_model_module_version": "1.5.0",
            "_model_name": "DescriptionStyleModel",
            "_view_count": null,
            "_view_module": "@jupyter-widgets/base",
            "_view_module_version": "1.2.0",
            "_view_name": "StyleView",
            "description_width": ""
          }
        },
        "45479fef44a345cdbaa2d2bae63df759": {
          "model_module": "@jupyter-widgets/controls",
          "model_name": "HBoxModel",
          "model_module_version": "1.5.0",
          "state": {
            "_dom_classes": [],
            "_model_module": "@jupyter-widgets/controls",
            "_model_module_version": "1.5.0",
            "_model_name": "HBoxModel",
            "_view_count": null,
            "_view_module": "@jupyter-widgets/controls",
            "_view_module_version": "1.5.0",
            "_view_name": "HBoxView",
            "box_style": "",
            "children": [
              "IPY_MODEL_5780b5e36886489eb54aba14af003b77",
              "IPY_MODEL_48cd27cd345440fab79495e28ae254fa",
              "IPY_MODEL_1979249d57c244f4a0e973c4fb0a39ab"
            ],
            "layout": "IPY_MODEL_488dfc4e11ba46f3aac8c91288a0e389"
          }
        },
        "5780b5e36886489eb54aba14af003b77": {
          "model_module": "@jupyter-widgets/controls",
          "model_name": "HTMLModel",
          "model_module_version": "1.5.0",
          "state": {
            "_dom_classes": [],
            "_model_module": "@jupyter-widgets/controls",
            "_model_module_version": "1.5.0",
            "_model_name": "HTMLModel",
            "_view_count": null,
            "_view_module": "@jupyter-widgets/controls",
            "_view_module_version": "1.5.0",
            "_view_name": "HTMLView",
            "description": "",
            "description_tooltip": null,
            "layout": "IPY_MODEL_8f619013ea48468f8434d3e0fce5a6f7",
            "placeholder": "​",
            "style": "IPY_MODEL_8f303fdd7f9447d0ae65c1a91d342ae6",
            "value": "Map: 100%"
          }
        },
        "48cd27cd345440fab79495e28ae254fa": {
          "model_module": "@jupyter-widgets/controls",
          "model_name": "FloatProgressModel",
          "model_module_version": "1.5.0",
          "state": {
            "_dom_classes": [],
            "_model_module": "@jupyter-widgets/controls",
            "_model_module_version": "1.5.0",
            "_model_name": "FloatProgressModel",
            "_view_count": null,
            "_view_module": "@jupyter-widgets/controls",
            "_view_module_version": "1.5.0",
            "_view_name": "ProgressView",
            "bar_style": "success",
            "description": "",
            "description_tooltip": null,
            "layout": "IPY_MODEL_e24e78751a064fd889c3992a35c30ca5",
            "max": 10570,
            "min": 0,
            "orientation": "horizontal",
            "style": "IPY_MODEL_d613464d62ab4051b987e61e347f2c1e",
            "value": 10570
          }
        },
        "1979249d57c244f4a0e973c4fb0a39ab": {
          "model_module": "@jupyter-widgets/controls",
          "model_name": "HTMLModel",
          "model_module_version": "1.5.0",
          "state": {
            "_dom_classes": [],
            "_model_module": "@jupyter-widgets/controls",
            "_model_module_version": "1.5.0",
            "_model_name": "HTMLModel",
            "_view_count": null,
            "_view_module": "@jupyter-widgets/controls",
            "_view_module_version": "1.5.0",
            "_view_name": "HTMLView",
            "description": "",
            "description_tooltip": null,
            "layout": "IPY_MODEL_0c2f17b1bddd419481a0c707b63d54d0",
            "placeholder": "​",
            "style": "IPY_MODEL_3d4f9d6a45b64a71a683b162b062d749",
            "value": " 10570/10570 [00:15&lt;00:00, 907.11 examples/s]"
          }
        },
        "488dfc4e11ba46f3aac8c91288a0e389": {
          "model_module": "@jupyter-widgets/base",
          "model_name": "LayoutModel",
          "model_module_version": "1.2.0",
          "state": {
            "_model_module": "@jupyter-widgets/base",
            "_model_module_version": "1.2.0",
            "_model_name": "LayoutModel",
            "_view_count": null,
            "_view_module": "@jupyter-widgets/base",
            "_view_module_version": "1.2.0",
            "_view_name": "LayoutView",
            "align_content": null,
            "align_items": null,
            "align_self": null,
            "border": null,
            "bottom": null,
            "display": null,
            "flex": null,
            "flex_flow": null,
            "grid_area": null,
            "grid_auto_columns": null,
            "grid_auto_flow": null,
            "grid_auto_rows": null,
            "grid_column": null,
            "grid_gap": null,
            "grid_row": null,
            "grid_template_areas": null,
            "grid_template_columns": null,
            "grid_template_rows": null,
            "height": null,
            "justify_content": null,
            "justify_items": null,
            "left": null,
            "margin": null,
            "max_height": null,
            "max_width": null,
            "min_height": null,
            "min_width": null,
            "object_fit": null,
            "object_position": null,
            "order": null,
            "overflow": null,
            "overflow_x": null,
            "overflow_y": null,
            "padding": null,
            "right": null,
            "top": null,
            "visibility": null,
            "width": null
          }
        },
        "8f619013ea48468f8434d3e0fce5a6f7": {
          "model_module": "@jupyter-widgets/base",
          "model_name": "LayoutModel",
          "model_module_version": "1.2.0",
          "state": {
            "_model_module": "@jupyter-widgets/base",
            "_model_module_version": "1.2.0",
            "_model_name": "LayoutModel",
            "_view_count": null,
            "_view_module": "@jupyter-widgets/base",
            "_view_module_version": "1.2.0",
            "_view_name": "LayoutView",
            "align_content": null,
            "align_items": null,
            "align_self": null,
            "border": null,
            "bottom": null,
            "display": null,
            "flex": null,
            "flex_flow": null,
            "grid_area": null,
            "grid_auto_columns": null,
            "grid_auto_flow": null,
            "grid_auto_rows": null,
            "grid_column": null,
            "grid_gap": null,
            "grid_row": null,
            "grid_template_areas": null,
            "grid_template_columns": null,
            "grid_template_rows": null,
            "height": null,
            "justify_content": null,
            "justify_items": null,
            "left": null,
            "margin": null,
            "max_height": null,
            "max_width": null,
            "min_height": null,
            "min_width": null,
            "object_fit": null,
            "object_position": null,
            "order": null,
            "overflow": null,
            "overflow_x": null,
            "overflow_y": null,
            "padding": null,
            "right": null,
            "top": null,
            "visibility": null,
            "width": null
          }
        },
        "8f303fdd7f9447d0ae65c1a91d342ae6": {
          "model_module": "@jupyter-widgets/controls",
          "model_name": "DescriptionStyleModel",
          "model_module_version": "1.5.0",
          "state": {
            "_model_module": "@jupyter-widgets/controls",
            "_model_module_version": "1.5.0",
            "_model_name": "DescriptionStyleModel",
            "_view_count": null,
            "_view_module": "@jupyter-widgets/base",
            "_view_module_version": "1.2.0",
            "_view_name": "StyleView",
            "description_width": ""
          }
        },
        "e24e78751a064fd889c3992a35c30ca5": {
          "model_module": "@jupyter-widgets/base",
          "model_name": "LayoutModel",
          "model_module_version": "1.2.0",
          "state": {
            "_model_module": "@jupyter-widgets/base",
            "_model_module_version": "1.2.0",
            "_model_name": "LayoutModel",
            "_view_count": null,
            "_view_module": "@jupyter-widgets/base",
            "_view_module_version": "1.2.0",
            "_view_name": "LayoutView",
            "align_content": null,
            "align_items": null,
            "align_self": null,
            "border": null,
            "bottom": null,
            "display": null,
            "flex": null,
            "flex_flow": null,
            "grid_area": null,
            "grid_auto_columns": null,
            "grid_auto_flow": null,
            "grid_auto_rows": null,
            "grid_column": null,
            "grid_gap": null,
            "grid_row": null,
            "grid_template_areas": null,
            "grid_template_columns": null,
            "grid_template_rows": null,
            "height": null,
            "justify_content": null,
            "justify_items": null,
            "left": null,
            "margin": null,
            "max_height": null,
            "max_width": null,
            "min_height": null,
            "min_width": null,
            "object_fit": null,
            "object_position": null,
            "order": null,
            "overflow": null,
            "overflow_x": null,
            "overflow_y": null,
            "padding": null,
            "right": null,
            "top": null,
            "visibility": null,
            "width": null
          }
        },
        "d613464d62ab4051b987e61e347f2c1e": {
          "model_module": "@jupyter-widgets/controls",
          "model_name": "ProgressStyleModel",
          "model_module_version": "1.5.0",
          "state": {
            "_model_module": "@jupyter-widgets/controls",
            "_model_module_version": "1.5.0",
            "_model_name": "ProgressStyleModel",
            "_view_count": null,
            "_view_module": "@jupyter-widgets/base",
            "_view_module_version": "1.2.0",
            "_view_name": "StyleView",
            "bar_color": null,
            "description_width": ""
          }
        },
        "0c2f17b1bddd419481a0c707b63d54d0": {
          "model_module": "@jupyter-widgets/base",
          "model_name": "LayoutModel",
          "model_module_version": "1.2.0",
          "state": {
            "_model_module": "@jupyter-widgets/base",
            "_model_module_version": "1.2.0",
            "_model_name": "LayoutModel",
            "_view_count": null,
            "_view_module": "@jupyter-widgets/base",
            "_view_module_version": "1.2.0",
            "_view_name": "LayoutView",
            "align_content": null,
            "align_items": null,
            "align_self": null,
            "border": null,
            "bottom": null,
            "display": null,
            "flex": null,
            "flex_flow": null,
            "grid_area": null,
            "grid_auto_columns": null,
            "grid_auto_flow": null,
            "grid_auto_rows": null,
            "grid_column": null,
            "grid_gap": null,
            "grid_row": null,
            "grid_template_areas": null,
            "grid_template_columns": null,
            "grid_template_rows": null,
            "height": null,
            "justify_content": null,
            "justify_items": null,
            "left": null,
            "margin": null,
            "max_height": null,
            "max_width": null,
            "min_height": null,
            "min_width": null,
            "object_fit": null,
            "object_position": null,
            "order": null,
            "overflow": null,
            "overflow_x": null,
            "overflow_y": null,
            "padding": null,
            "right": null,
            "top": null,
            "visibility": null,
            "width": null
          }
        },
        "3d4f9d6a45b64a71a683b162b062d749": {
          "model_module": "@jupyter-widgets/controls",
          "model_name": "DescriptionStyleModel",
          "model_module_version": "1.5.0",
          "state": {
            "_model_module": "@jupyter-widgets/controls",
            "_model_module_version": "1.5.0",
            "_model_name": "DescriptionStyleModel",
            "_view_count": null,
            "_view_module": "@jupyter-widgets/base",
            "_view_module_version": "1.2.0",
            "_view_name": "StyleView",
            "description_width": ""
          }
        }
      }
    }
  },
  "cells": [
    {
      "cell_type": "markdown",
      "metadata": {
        "id": "view-in-github",
        "colab_type": "text"
      },
      "source": [
        "<a href=\"https://colab.research.google.com/github/qmeng222/transformers-for-NLP/blob/main/QA.ipynb\" target=\"_parent\"><img src=\"https://colab.research.google.com/assets/colab-badge.svg\" alt=\"Open In Colab\"/></a>"
      ]
    },
    {
      "cell_type": "markdown",
      "source": [
        "# Question Answering with SQuAD (Stanford Question Answering Dataset) ![Screen Shot 2023-12-04 at 9.19.06 PM.png](data:image/png;base64,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)"
      ],
      "metadata": {
        "id": "mDxNLrBwG4_9"
      }
    },
    {
      "cell_type": "code",
      "execution_count": 107,
      "metadata": {
        "colab": {
          "base_uri": "https://localhost:8080/"
        },
        "id": "9MEmHYObG0YZ",
        "outputId": "5717cff2-d970-424b-ce9e-b706ef2a8436"
      },
      "outputs": [
        {
          "output_type": "stream",
          "name": "stdout",
          "text": [
            "Requirement already satisfied: transformers in /usr/local/lib/python3.10/dist-packages (4.35.2)\n",
            "Requirement already satisfied: datasets in /usr/local/lib/python3.10/dist-packages (2.15.0)\n",
            "Requirement already satisfied: filelock in /usr/local/lib/python3.10/dist-packages (from transformers) (3.13.1)\n",
            "Requirement already satisfied: huggingface-hub<1.0,>=0.16.4 in /usr/local/lib/python3.10/dist-packages (from transformers) (0.19.4)\n",
            "Requirement already satisfied: numpy>=1.17 in /usr/local/lib/python3.10/dist-packages (from transformers) (1.23.5)\n",
            "Requirement already satisfied: packaging>=20.0 in /usr/local/lib/python3.10/dist-packages (from transformers) (23.2)\n",
            "Requirement already satisfied: pyyaml>=5.1 in /usr/local/lib/python3.10/dist-packages (from transformers) (6.0.1)\n",
            "Requirement already satisfied: regex!=2019.12.17 in /usr/local/lib/python3.10/dist-packages (from transformers) (2023.6.3)\n",
            "Requirement already satisfied: requests in /usr/local/lib/python3.10/dist-packages (from transformers) (2.31.0)\n",
            "Requirement already satisfied: tokenizers<0.19,>=0.14 in /usr/local/lib/python3.10/dist-packages (from transformers) (0.15.0)\n",
            "Requirement already satisfied: safetensors>=0.3.1 in /usr/local/lib/python3.10/dist-packages (from transformers) (0.4.1)\n",
            "Requirement already satisfied: tqdm>=4.27 in /usr/local/lib/python3.10/dist-packages (from transformers) (4.66.1)\n",
            "Requirement already satisfied: pyarrow>=8.0.0 in /usr/local/lib/python3.10/dist-packages (from datasets) (9.0.0)\n",
            "Requirement already satisfied: pyarrow-hotfix in /usr/local/lib/python3.10/dist-packages (from datasets) (0.6)\n",
            "Requirement already satisfied: dill<0.3.8,>=0.3.0 in /usr/local/lib/python3.10/dist-packages (from datasets) (0.3.7)\n",
            "Requirement already satisfied: pandas in /usr/local/lib/python3.10/dist-packages (from datasets) (1.5.3)\n",
            "Requirement already satisfied: xxhash in /usr/local/lib/python3.10/dist-packages (from datasets) (3.4.1)\n",
            "Requirement already satisfied: multiprocess in /usr/local/lib/python3.10/dist-packages (from datasets) (0.70.15)\n",
            "Requirement already satisfied: fsspec[http]<=2023.10.0,>=2023.1.0 in /usr/local/lib/python3.10/dist-packages (from datasets) (2023.6.0)\n",
            "Requirement already satisfied: aiohttp in /usr/local/lib/python3.10/dist-packages (from datasets) (3.9.1)\n",
            "Requirement already satisfied: attrs>=17.3.0 in /usr/local/lib/python3.10/dist-packages (from aiohttp->datasets) (23.1.0)\n",
            "Requirement already satisfied: multidict<7.0,>=4.5 in /usr/local/lib/python3.10/dist-packages (from aiohttp->datasets) (6.0.4)\n",
            "Requirement already satisfied: yarl<2.0,>=1.0 in /usr/local/lib/python3.10/dist-packages (from aiohttp->datasets) (1.9.3)\n",
            "Requirement already satisfied: frozenlist>=1.1.1 in /usr/local/lib/python3.10/dist-packages (from aiohttp->datasets) (1.4.0)\n",
            "Requirement already satisfied: aiosignal>=1.1.2 in /usr/local/lib/python3.10/dist-packages (from aiohttp->datasets) (1.3.1)\n",
            "Requirement already satisfied: async-timeout<5.0,>=4.0 in /usr/local/lib/python3.10/dist-packages (from aiohttp->datasets) (4.0.3)\n",
            "Requirement already satisfied: typing-extensions>=3.7.4.3 in /usr/local/lib/python3.10/dist-packages (from huggingface-hub<1.0,>=0.16.4->transformers) (4.5.0)\n",
            "Requirement already satisfied: charset-normalizer<4,>=2 in /usr/local/lib/python3.10/dist-packages (from requests->transformers) (3.3.2)\n",
            "Requirement already satisfied: idna<4,>=2.5 in /usr/local/lib/python3.10/dist-packages (from requests->transformers) (3.6)\n",
            "Requirement already satisfied: urllib3<3,>=1.21.1 in /usr/local/lib/python3.10/dist-packages (from requests->transformers) (2.0.7)\n",
            "Requirement already satisfied: certifi>=2017.4.17 in /usr/local/lib/python3.10/dist-packages (from requests->transformers) (2023.11.17)\n",
            "Requirement already satisfied: python-dateutil>=2.8.1 in /usr/local/lib/python3.10/dist-packages (from pandas->datasets) (2.8.2)\n",
            "Requirement already satisfied: pytz>=2020.1 in /usr/local/lib/python3.10/dist-packages (from pandas->datasets) (2023.3.post1)\n",
            "Requirement already satisfied: six>=1.5 in /usr/local/lib/python3.10/dist-packages (from python-dateutil>=2.8.1->pandas->datasets) (1.16.0)\n"
          ]
        }
      ],
      "source": [
        "# install libraries:\n",
        "!pip install transformers datasets\n",
        "# `transformers` library: for using pre-trained models\n",
        "# `datasets` library: to access a collection of high-quality datasets for NLP tasks"
      ]
    },
    {
      "cell_type": "markdown",
      "source": [
        "# Load & explore the SQuAD dataset:"
      ],
      "metadata": {
        "id": "BKQA-fjQNBWM"
      }
    },
    {
      "cell_type": "code",
      "source": [
        "from datasets import load_dataset # import the function\n",
        "\n",
        "# load the dataset:\n",
        "raw_datasets = load_dataset(\"squad\")\n",
        "raw_datasets"
      ],
      "metadata": {
        "colab": {
          "base_uri": "https://localhost:8080/"
        },
        "id": "EqYdn46dMvhV",
        "outputId": "86b2c04e-b619-4cc0-fd9d-4f81bd1f0598"
      },
      "execution_count": 108,
      "outputs": [
        {
          "output_type": "execute_result",
          "data": {
            "text/plain": [
              "DatasetDict({\n",
              "    train: Dataset({\n",
              "        features: ['id', 'title', 'context', 'question', 'answers'],\n",
              "        num_rows: 87599\n",
              "    })\n",
              "    validation: Dataset({\n",
              "        features: ['id', 'title', 'context', 'question', 'answers'],\n",
              "        num_rows: 10570\n",
              "    })\n",
              "})"
            ]
          },
          "metadata": {},
          "execution_count": 108
        }
      ]
    },
    {
      "cell_type": "markdown",
      "source": [
        "👆 **train** and **validation** subsets"
      ],
      "metadata": {
        "id": "iOJOCeYkNUSM"
      }
    },
    {
      "cell_type": "code",
      "source": [
        "# explore the train subset:\n",
        "raw_datasets[\"train\"][1]"
      ],
      "metadata": {
        "colab": {
          "base_uri": "https://localhost:8080/"
        },
        "id": "Ku2WrUZBNOHE",
        "outputId": "b5f6c42c-d616-48ee-8db1-375a22006988"
      },
      "execution_count": 109,
      "outputs": [
        {
          "output_type": "execute_result",
          "data": {
            "text/plain": [
              "{'id': '5733be284776f4190066117f',\n",
              " 'title': 'University_of_Notre_Dame',\n",
              " 'context': 'Architecturally, the school has a Catholic character. Atop the Main Building\\'s gold dome is a golden statue of the Virgin Mary. Immediately in front of the Main Building and facing it, is a copper statue of Christ with arms upraised with the legend \"Venite Ad Me Omnes\". Next to the Main Building is the Basilica of the Sacred Heart. Immediately behind the basilica is the Grotto, a Marian place of prayer and reflection. It is a replica of the grotto at Lourdes, France where the Virgin Mary reputedly appeared to Saint Bernadette Soubirous in 1858. At the end of the main drive (and in a direct line that connects through 3 statues and the Gold Dome), is a simple, modern stone statue of Mary.',\n",
              " 'question': 'What is in front of the Notre Dame Main Building?',\n",
              " 'answers': {'text': ['a copper statue of Christ'], 'answer_start': [188]}}"
            ]
          },
          "metadata": {},
          "execution_count": 109
        }
      ]
    },
    {
      "cell_type": "markdown",
      "source": [
        "👆 5 fields: 'id', 'title', 'context', 'question', 'answers'\n",
        "\n",
        "'answers' has 'text' and  'answer_start' idx"
      ],
      "metadata": {
        "id": "N2vzVSgeNiEd"
      }
    },
    {
      "cell_type": "code",
      "source": [
        "# just to make sure each sample in the training has only 1 answer (no multi answers, or no anwers):\n",
        "raw_datasets[\"train\"].filter(lambda x: len(x[\"answers\"][\"text\"]) != 1)"
      ],
      "metadata": {
        "colab": {
          "base_uri": "https://localhost:8080/"
        },
        "id": "6u72fmMcNtTY",
        "outputId": "b12ba779-003c-486d-bffd-b3d824995c51"
      },
      "execution_count": 110,
      "outputs": [
        {
          "output_type": "execute_result",
          "data": {
            "text/plain": [
              "Dataset({\n",
              "    features: ['id', 'title', 'context', 'question', 'answers'],\n",
              "    num_rows: 0\n",
              "})"
            ]
          },
          "metadata": {},
          "execution_count": 110
        }
      ]
    },
    {
      "cell_type": "markdown",
      "source": [
        "👆 Great, num_rows:0\n",
        "\n",
        "(training set) for each question, there's only 1 answer"
      ],
      "metadata": {
        "id": "9jcSGiCcOaX9"
      }
    },
    {
      "cell_type": "code",
      "source": [
        "# explore the devset (validation subset):\n",
        "# for validation set, there might be multiple answers\n",
        "raw_datasets[\"validation\"][2]"
      ],
      "metadata": {
        "colab": {
          "base_uri": "https://localhost:8080/"
        },
        "id": "YUf-xsjmOfZo",
        "outputId": "17284fd5-d4c0-4bb0-a89e-7447b9697be4"
      },
      "execution_count": 111,
      "outputs": [
        {
          "output_type": "execute_result",
          "data": {
            "text/plain": [
              "{'id': '56be4db0acb8001400a502ee',\n",
              " 'title': 'Super_Bowl_50',\n",
              " 'context': 'Super Bowl 50 was an American football game to determine the champion of the National Football League (NFL) for the 2015 season. The American Football Conference (AFC) champion Denver Broncos defeated the National Football Conference (NFC) champion Carolina Panthers 24–10 to earn their third Super Bowl title. The game was played on February 7, 2016, at Levi\\'s Stadium in the San Francisco Bay Area at Santa Clara, California. As this was the 50th Super Bowl, the league emphasized the \"golden anniversary\" with various gold-themed initiatives, as well as temporarily suspending the tradition of naming each Super Bowl game with Roman numerals (under which the game would have been known as \"Super Bowl L\"), so that the logo could prominently feature the Arabic numerals 50.',\n",
              " 'question': 'Where did Super Bowl 50 take place?',\n",
              " 'answers': {'text': ['Santa Clara, California',\n",
              "   \"Levi's Stadium\",\n",
              "   \"Levi's Stadium in the San Francisco Bay Area at Santa Clara, California.\"],\n",
              "  'answer_start': [403, 355, 355]}}"
            ]
          },
          "metadata": {},
          "execution_count": 111
        }
      ]
    },
    {
      "cell_type": "markdown",
      "source": [
        "👆 (devset) for a single question, there might be multiple right answers  "
      ],
      "metadata": {
        "id": "S9RARjMGO5t7"
      }
    },
    {
      "cell_type": "code",
      "source": [
        "# in devset, the answers for a single question might even be the same:\n",
        "raw_datasets[\"validation\"][0]"
      ],
      "metadata": {
        "colab": {
          "base_uri": "https://localhost:8080/"
        },
        "id": "1f5e-ohRPNgW",
        "outputId": "c3250778-0400-46b3-e0c3-813acbf38f1a"
      },
      "execution_count": 112,
      "outputs": [
        {
          "output_type": "execute_result",
          "data": {
            "text/plain": [
              "{'id': '56be4db0acb8001400a502ec',\n",
              " 'title': 'Super_Bowl_50',\n",
              " 'context': 'Super Bowl 50 was an American football game to determine the champion of the National Football League (NFL) for the 2015 season. The American Football Conference (AFC) champion Denver Broncos defeated the National Football Conference (NFC) champion Carolina Panthers 24–10 to earn their third Super Bowl title. The game was played on February 7, 2016, at Levi\\'s Stadium in the San Francisco Bay Area at Santa Clara, California. As this was the 50th Super Bowl, the league emphasized the \"golden anniversary\" with various gold-themed initiatives, as well as temporarily suspending the tradition of naming each Super Bowl game with Roman numerals (under which the game would have been known as \"Super Bowl L\"), so that the logo could prominently feature the Arabic numerals 50.',\n",
              " 'question': 'Which NFL team represented the AFC at Super Bowl 50?',\n",
              " 'answers': {'text': ['Denver Broncos', 'Denver Broncos', 'Denver Broncos'],\n",
              "  'answer_start': [177, 177, 177]}}"
            ]
          },
          "metadata": {},
          "execution_count": 112
        }
      ]
    },
    {
      "cell_type": "markdown",
      "source": [
        "👆 'answers': {\n",
        "                'text': ['Denver Broncos', 'Denver Broncos', 'Denver Broncos'],\n",
        "                'answer_start': [177, 177, 177]\n",
        "              }"
      ],
      "metadata": {
        "id": "nUSFFgD-P4HG"
      }
    },
    {
      "cell_type": "markdown",
      "source": [
        "# Load tokenizer:"
      ],
      "metadata": {
        "id": "kW2ECLu9QlON"
      }
    },
    {
      "cell_type": "code",
      "source": [
        "from transformers import AutoTokenizer # import the class, enabling dynamic loading of tokenizer for a specific pre-trained model\n",
        "\n",
        "checkpoint = \"distilbert-base-cased\" # model identifier (specify the name of a pre-trained model)\n",
        "tokenizer = AutoTokenizer.from_pretrained(checkpoint) # automatically load the appropriate tokenizer"
      ],
      "metadata": {
        "id": "ZaAy6vHCQQ9w"
      },
      "execution_count": 113,
      "outputs": []
    },
    {
      "cell_type": "markdown",
      "source": [
        "# Test the tokenizer:"
      ],
      "metadata": {
        "id": "VPDYtVsK2aY4"
      }
    },
    {
      "cell_type": "code",
      "source": [
        "# examine a sample from the training data:\n",
        "raw_datasets[\"train\"][1]"
      ],
      "metadata": {
        "colab": {
          "base_uri": "https://localhost:8080/"
        },
        "id": "M_ZT_GV12RUg",
        "outputId": "1062198f-5420-44bd-fc8e-54fa8ac2f4b3"
      },
      "execution_count": 114,
      "outputs": [
        {
          "output_type": "execute_result",
          "data": {
            "text/plain": [
              "{'id': '5733be284776f4190066117f',\n",
              " 'title': 'University_of_Notre_Dame',\n",
              " 'context': 'Architecturally, the school has a Catholic character. Atop the Main Building\\'s gold dome is a golden statue of the Virgin Mary. Immediately in front of the Main Building and facing it, is a copper statue of Christ with arms upraised with the legend \"Venite Ad Me Omnes\". Next to the Main Building is the Basilica of the Sacred Heart. Immediately behind the basilica is the Grotto, a Marian place of prayer and reflection. It is a replica of the grotto at Lourdes, France where the Virgin Mary reputedly appeared to Saint Bernadette Soubirous in 1858. At the end of the main drive (and in a direct line that connects through 3 statues and the Gold Dome), is a simple, modern stone statue of Mary.',\n",
              " 'question': 'What is in front of the Notre Dame Main Building?',\n",
              " 'answers': {'text': ['a copper statue of Christ'], 'answer_start': [188]}}"
            ]
          },
          "metadata": {},
          "execution_count": 114
        }
      ]
    },
    {
      "cell_type": "code",
      "source": [
        "# params:\n",
        "question = raw_datasets[\"train\"][1][\"question\"]\n",
        "context = raw_datasets[\"train\"][1][\"context\"]\n",
        "\n",
        "# tokenize both the question and the context:\n",
        "inputs = tokenizer(question, context)\n",
        "inputs"
      ],
      "metadata": {
        "colab": {
          "base_uri": "https://localhost:8080/"
        },
        "id": "t7fy8mXn2KMZ",
        "outputId": "e5b735cd-8750-4538-dbef-4f5f6ac91602"
      },
      "execution_count": 115,
      "outputs": [
        {
          "output_type": "execute_result",
          "data": {
            "text/plain": [
              "{'input_ids': [101, 1327, 1110, 1107, 1524, 1104, 1103, 10360, 8022, 4304, 4334, 136, 102, 22182, 1193, 117, 1103, 1278, 1144, 170, 2336, 1959, 119, 1335, 4184, 1103, 4304, 4334, 112, 188, 2284, 10945, 1110, 170, 5404, 5921, 1104, 1103, 6567, 2090, 119, 13301, 1107, 1524, 1104, 1103, 4304, 4334, 1105, 4749, 1122, 117, 1110, 170, 7335, 5921, 1104, 4028, 1114, 1739, 1146, 14089, 5591, 1114, 1103, 7051, 107, 159, 21462, 1566, 24930, 2508, 152, 1306, 3965, 107, 119, 5893, 1106, 1103, 4304, 4334, 1110, 1103, 19349, 1104, 1103, 11373, 4641, 119, 13301, 1481, 1103, 171, 17506, 9538, 1110, 1103, 144, 10595, 2430, 117, 170, 14789, 1282, 1104, 8070, 1105, 9284, 119, 1135, 1110, 170, 16498, 1104, 1103, 176, 10595, 2430, 1120, 10111, 20500, 117, 1699, 1187, 1103, 6567, 2090, 25153, 1193, 1691, 1106, 2216, 17666, 6397, 3786, 1573, 25422, 13149, 1107, 8109, 119, 1335, 1103, 1322, 1104, 1103, 1514, 2797, 113, 1105, 1107, 170, 2904, 1413, 1115, 8200, 1194, 124, 11739, 1105, 1103, 3487, 17917, 114, 117, 1110, 170, 3014, 117, 2030, 2576, 5921, 1104, 2090, 119, 102], 'attention_mask': [1, 1, 1, 1, 1, 1, 1, 1, 1, 1, 1, 1, 1, 1, 1, 1, 1, 1, 1, 1, 1, 1, 1, 1, 1, 1, 1, 1, 1, 1, 1, 1, 1, 1, 1, 1, 1, 1, 1, 1, 1, 1, 1, 1, 1, 1, 1, 1, 1, 1, 1, 1, 1, 1, 1, 1, 1, 1, 1, 1, 1, 1, 1, 1, 1, 1, 1, 1, 1, 1, 1, 1, 1, 1, 1, 1, 1, 1, 1, 1, 1, 1, 1, 1, 1, 1, 1, 1, 1, 1, 1, 1, 1, 1, 1, 1, 1, 1, 1, 1, 1, 1, 1, 1, 1, 1, 1, 1, 1, 1, 1, 1, 1, 1, 1, 1, 1, 1, 1, 1, 1, 1, 1, 1, 1, 1, 1, 1, 1, 1, 1, 1, 1, 1, 1, 1, 1, 1, 1, 1, 1, 1, 1, 1, 1, 1, 1, 1, 1, 1, 1, 1, 1, 1, 1, 1, 1, 1, 1, 1, 1, 1, 1, 1, 1, 1, 1, 1, 1, 1, 1, 1, 1, 1, 1, 1, 1]}"
            ]
          },
          "metadata": {},
          "execution_count": 115
        }
      ]
    },
    {
      "cell_type": "code",
      "source": [
        "inputs.keys()"
      ],
      "metadata": {
        "colab": {
          "base_uri": "https://localhost:8080/"
        },
        "id": "Mq7x9lOw3pEY",
        "outputId": "447b0819-84dd-41da-9f3d-ab6f2d3f21be"
      },
      "execution_count": 116,
      "outputs": [
        {
          "output_type": "execute_result",
          "data": {
            "text/plain": [
              "dict_keys(['input_ids', 'attention_mask'])"
            ]
          },
          "metadata": {},
          "execution_count": 116
        }
      ]
    },
    {
      "cell_type": "code",
      "source": [
        "print(inputs[\"input_ids\"])"
      ],
      "metadata": {
        "colab": {
          "base_uri": "https://localhost:8080/"
        },
        "id": "5dRjIiozr1z5",
        "outputId": "a70c38ed-4995-4745-f0ca-adc1b25665f2"
      },
      "execution_count": 117,
      "outputs": [
        {
          "output_type": "stream",
          "name": "stdout",
          "text": [
            "[101, 1327, 1110, 1107, 1524, 1104, 1103, 10360, 8022, 4304, 4334, 136, 102, 22182, 1193, 117, 1103, 1278, 1144, 170, 2336, 1959, 119, 1335, 4184, 1103, 4304, 4334, 112, 188, 2284, 10945, 1110, 170, 5404, 5921, 1104, 1103, 6567, 2090, 119, 13301, 1107, 1524, 1104, 1103, 4304, 4334, 1105, 4749, 1122, 117, 1110, 170, 7335, 5921, 1104, 4028, 1114, 1739, 1146, 14089, 5591, 1114, 1103, 7051, 107, 159, 21462, 1566, 24930, 2508, 152, 1306, 3965, 107, 119, 5893, 1106, 1103, 4304, 4334, 1110, 1103, 19349, 1104, 1103, 11373, 4641, 119, 13301, 1481, 1103, 171, 17506, 9538, 1110, 1103, 144, 10595, 2430, 117, 170, 14789, 1282, 1104, 8070, 1105, 9284, 119, 1135, 1110, 170, 16498, 1104, 1103, 176, 10595, 2430, 1120, 10111, 20500, 117, 1699, 1187, 1103, 6567, 2090, 25153, 1193, 1691, 1106, 2216, 17666, 6397, 3786, 1573, 25422, 13149, 1107, 8109, 119, 1335, 1103, 1322, 1104, 1103, 1514, 2797, 113, 1105, 1107, 170, 2904, 1413, 1115, 8200, 1194, 124, 11739, 1105, 1103, 3487, 17917, 114, 117, 1110, 170, 3014, 117, 2030, 2576, 5921, 1104, 2090, 119, 102]\n"
          ]
        }
      ]
    },
    {
      "cell_type": "code",
      "source": [
        "len(inputs[\"input_ids\"])"
      ],
      "metadata": {
        "colab": {
          "base_uri": "https://localhost:8080/"
        },
        "id": "FHBdpxjqsBAK",
        "outputId": "f78d2f95-e6f7-4382-825e-735fbb4c8434"
      },
      "execution_count": 118,
      "outputs": [
        {
          "output_type": "execute_result",
          "data": {
            "text/plain": [
              "177"
            ]
          },
          "metadata": {},
          "execution_count": 118
        }
      ]
    },
    {
      "cell_type": "code",
      "source": [
        "# use the tokenizer to convert a sequence of token IDs back into human-readable text:\n",
        "tokenizer.decode(inputs[\"input_ids\"])"
      ],
      "metadata": {
        "colab": {
          "base_uri": "https://localhost:8080/",
          "height": 122
        },
        "id": "EDodQ40xkMoX",
        "outputId": "35a5f902-a6d9-456f-ec93-7c8c03323f25"
      },
      "execution_count": 119,
      "outputs": [
        {
          "output_type": "execute_result",
          "data": {
            "text/plain": [
              "'[CLS] What is in front of the Notre Dame Main Building? [SEP] Architecturally, the school has a Catholic character. Atop the Main Building\\'s gold dome is a golden statue of the Virgin Mary. Immediately in front of the Main Building and facing it, is a copper statue of Christ with arms upraised with the legend \" Venite Ad Me Omnes \". Next to the Main Building is the Basilica of the Sacred Heart. Immediately behind the basilica is the Grotto, a Marian place of prayer and reflection. It is a replica of the grotto at Lourdes, France where the Virgin Mary reputedly appeared to Saint Bernadette Soubirous in 1858. At the end of the main drive ( and in a direct line that connects through 3 statues and the Gold Dome ), is a simple, modern stone statue of Mary. [SEP]'"
            ],
            "application/vnd.google.colaboratory.intrinsic+json": {
              "type": "string"
            }
          },
          "metadata": {},
          "execution_count": 119
        }
      ]
    },
    {
      "cell_type": "markdown",
      "source": [
        "👆 The **question** and **context** are concatenated into one string."
      ],
      "metadata": {
        "id": "5kjjV2SI5-ro"
      }
    },
    {
      "cell_type": "markdown",
      "source": [
        "# Split long context into multiple (overlapping) windows:"
      ],
      "metadata": {
        "id": "03b6TzuklIOA"
      }
    },
    {
      "cell_type": "code",
      "source": [
        "inputs = tokenizer(\n",
        "  question,\n",
        "  context,\n",
        "  max_length=100, # the max length of the resulting tokenized sequence (truncate or pad the sequence accordingly)\n",
        "  truncation=\"only_second\", # only 'context' will be truncated if the tokenized seq length exceeds max_length; 'question' will be left untouched\n",
        "  stride=50, # if the combined length of the tokenized question and context exceeds max_length, the tokenizer will create overlapping chunks with a stride of 50 tokens (overlapping prev chunk by 50 tokens)\n",
        "  return_overflowing_tokens=True, # tokenizer returns the remaining tokens that couldn't fit within the specified length\n",
        ")\n",
        "\n",
        "inputs"
      ],
      "metadata": {
        "colab": {
          "base_uri": "https://localhost:8080/"
        },
        "id": "sqtDEDq17XiG",
        "outputId": "3dfab304-b8c7-45c1-a666-aa56bf085f7e"
      },
      "execution_count": 120,
      "outputs": [
        {
          "output_type": "execute_result",
          "data": {
            "text/plain": [
              "{'input_ids': [[101, 1327, 1110, 1107, 1524, 1104, 1103, 10360, 8022, 4304, 4334, 136, 102, 22182, 1193, 117, 1103, 1278, 1144, 170, 2336, 1959, 119, 1335, 4184, 1103, 4304, 4334, 112, 188, 2284, 10945, 1110, 170, 5404, 5921, 1104, 1103, 6567, 2090, 119, 13301, 1107, 1524, 1104, 1103, 4304, 4334, 1105, 4749, 1122, 117, 1110, 170, 7335, 5921, 1104, 4028, 1114, 1739, 1146, 14089, 5591, 1114, 1103, 7051, 107, 159, 21462, 1566, 24930, 2508, 152, 1306, 3965, 107, 119, 5893, 1106, 1103, 4304, 4334, 1110, 1103, 19349, 1104, 1103, 11373, 4641, 119, 13301, 1481, 1103, 171, 17506, 9538, 1110, 1103, 144, 102], [101, 1327, 1110, 1107, 1524, 1104, 1103, 10360, 8022, 4304, 4334, 136, 102, 4749, 1122, 117, 1110, 170, 7335, 5921, 1104, 4028, 1114, 1739, 1146, 14089, 5591, 1114, 1103, 7051, 107, 159, 21462, 1566, 24930, 2508, 152, 1306, 3965, 107, 119, 5893, 1106, 1103, 4304, 4334, 1110, 1103, 19349, 1104, 1103, 11373, 4641, 119, 13301, 1481, 1103, 171, 17506, 9538, 1110, 1103, 144, 10595, 2430, 117, 170, 14789, 1282, 1104, 8070, 1105, 9284, 119, 1135, 1110, 170, 16498, 1104, 1103, 176, 10595, 2430, 1120, 10111, 20500, 117, 1699, 1187, 1103, 6567, 2090, 25153, 1193, 1691, 1106, 2216, 17666, 6397, 102], [101, 1327, 1110, 1107, 1524, 1104, 1103, 10360, 8022, 4304, 4334, 136, 102, 1104, 1103, 11373, 4641, 119, 13301, 1481, 1103, 171, 17506, 9538, 1110, 1103, 144, 10595, 2430, 117, 170, 14789, 1282, 1104, 8070, 1105, 9284, 119, 1135, 1110, 170, 16498, 1104, 1103, 176, 10595, 2430, 1120, 10111, 20500, 117, 1699, 1187, 1103, 6567, 2090, 25153, 1193, 1691, 1106, 2216, 17666, 6397, 3786, 1573, 25422, 13149, 1107, 8109, 119, 1335, 1103, 1322, 1104, 1103, 1514, 2797, 113, 1105, 1107, 170, 2904, 1413, 1115, 8200, 1194, 124, 11739, 1105, 1103, 3487, 17917, 114, 117, 1110, 170, 3014, 117, 2030, 102], [101, 1327, 1110, 1107, 1524, 1104, 1103, 10360, 8022, 4304, 4334, 136, 102, 20500, 117, 1699, 1187, 1103, 6567, 2090, 25153, 1193, 1691, 1106, 2216, 17666, 6397, 3786, 1573, 25422, 13149, 1107, 8109, 119, 1335, 1103, 1322, 1104, 1103, 1514, 2797, 113, 1105, 1107, 170, 2904, 1413, 1115, 8200, 1194, 124, 11739, 1105, 1103, 3487, 17917, 114, 117, 1110, 170, 3014, 117, 2030, 2576, 5921, 1104, 2090, 119, 102]], 'attention_mask': [[1, 1, 1, 1, 1, 1, 1, 1, 1, 1, 1, 1, 1, 1, 1, 1, 1, 1, 1, 1, 1, 1, 1, 1, 1, 1, 1, 1, 1, 1, 1, 1, 1, 1, 1, 1, 1, 1, 1, 1, 1, 1, 1, 1, 1, 1, 1, 1, 1, 1, 1, 1, 1, 1, 1, 1, 1, 1, 1, 1, 1, 1, 1, 1, 1, 1, 1, 1, 1, 1, 1, 1, 1, 1, 1, 1, 1, 1, 1, 1, 1, 1, 1, 1, 1, 1, 1, 1, 1, 1, 1, 1, 1, 1, 1, 1, 1, 1, 1, 1], [1, 1, 1, 1, 1, 1, 1, 1, 1, 1, 1, 1, 1, 1, 1, 1, 1, 1, 1, 1, 1, 1, 1, 1, 1, 1, 1, 1, 1, 1, 1, 1, 1, 1, 1, 1, 1, 1, 1, 1, 1, 1, 1, 1, 1, 1, 1, 1, 1, 1, 1, 1, 1, 1, 1, 1, 1, 1, 1, 1, 1, 1, 1, 1, 1, 1, 1, 1, 1, 1, 1, 1, 1, 1, 1, 1, 1, 1, 1, 1, 1, 1, 1, 1, 1, 1, 1, 1, 1, 1, 1, 1, 1, 1, 1, 1, 1, 1, 1, 1], [1, 1, 1, 1, 1, 1, 1, 1, 1, 1, 1, 1, 1, 1, 1, 1, 1, 1, 1, 1, 1, 1, 1, 1, 1, 1, 1, 1, 1, 1, 1, 1, 1, 1, 1, 1, 1, 1, 1, 1, 1, 1, 1, 1, 1, 1, 1, 1, 1, 1, 1, 1, 1, 1, 1, 1, 1, 1, 1, 1, 1, 1, 1, 1, 1, 1, 1, 1, 1, 1, 1, 1, 1, 1, 1, 1, 1, 1, 1, 1, 1, 1, 1, 1, 1, 1, 1, 1, 1, 1, 1, 1, 1, 1, 1, 1, 1, 1, 1, 1], [1, 1, 1, 1, 1, 1, 1, 1, 1, 1, 1, 1, 1, 1, 1, 1, 1, 1, 1, 1, 1, 1, 1, 1, 1, 1, 1, 1, 1, 1, 1, 1, 1, 1, 1, 1, 1, 1, 1, 1, 1, 1, 1, 1, 1, 1, 1, 1, 1, 1, 1, 1, 1, 1, 1, 1, 1, 1, 1, 1, 1, 1, 1, 1, 1, 1, 1, 1, 1]], 'overflow_to_sample_mapping': [0, 0, 0, 0]}"
            ]
          },
          "metadata": {},
          "execution_count": 120
        }
      ]
    },
    {
      "cell_type": "code",
      "source": [
        "inputs.keys()"
      ],
      "metadata": {
        "colab": {
          "base_uri": "https://localhost:8080/"
        },
        "id": "-yFVD4CfA-MH",
        "outputId": "1b5ffed1-27fe-4dfb-974d-b6981918a844"
      },
      "execution_count": 121,
      "outputs": [
        {
          "output_type": "execute_result",
          "data": {
            "text/plain": [
              "dict_keys(['input_ids', 'attention_mask', 'overflow_to_sample_mapping'])"
            ]
          },
          "metadata": {},
          "execution_count": 121
        }
      ]
    },
    {
      "cell_type": "markdown",
      "source": [
        "👆 This time, 'overflow_to_sample_mapping' was introduced due to the `return_overflowing_tokens=True` setting.\n",
        "\n",
        "NOTE: 101 and 102 are special tokens denoting the beginning and end of a sequence."
      ],
      "metadata": {
        "id": "YU-qPEe1BB3s"
      }
    },
    {
      "cell_type": "code",
      "source": [
        "# what's the new key?\n",
        "inputs['overflow_to_sample_mapping']"
      ],
      "metadata": {
        "colab": {
          "base_uri": "https://localhost:8080/"
        },
        "id": "mll9FTm8Q015",
        "outputId": "032974e5-2668-43e0-bfcc-28d4388dea40"
      },
      "execution_count": 122,
      "outputs": [
        {
          "output_type": "execute_result",
          "data": {
            "text/plain": [
              "[0, 0, 0, 0]"
            ]
          },
          "metadata": {},
          "execution_count": 122
        }
      ]
    },
    {
      "cell_type": "code",
      "source": [
        "inputs[\"input_ids\"]"
      ],
      "metadata": {
        "colab": {
          "base_uri": "https://localhost:8080/"
        },
        "id": "HsgZ4W9OP8Eq",
        "outputId": "fb09a6d4-c5d2-4c18-f7bf-71c8d3e87f99"
      },
      "execution_count": 123,
      "outputs": [
        {
          "output_type": "execute_result",
          "data": {
            "text/plain": [
              "[[101,\n",
              "  1327,\n",
              "  1110,\n",
              "  1107,\n",
              "  1524,\n",
              "  1104,\n",
              "  1103,\n",
              "  10360,\n",
              "  8022,\n",
              "  4304,\n",
              "  4334,\n",
              "  136,\n",
              "  102,\n",
              "  22182,\n",
              "  1193,\n",
              "  117,\n",
              "  1103,\n",
              "  1278,\n",
              "  1144,\n",
              "  170,\n",
              "  2336,\n",
              "  1959,\n",
              "  119,\n",
              "  1335,\n",
              "  4184,\n",
              "  1103,\n",
              "  4304,\n",
              "  4334,\n",
              "  112,\n",
              "  188,\n",
              "  2284,\n",
              "  10945,\n",
              "  1110,\n",
              "  170,\n",
              "  5404,\n",
              "  5921,\n",
              "  1104,\n",
              "  1103,\n",
              "  6567,\n",
              "  2090,\n",
              "  119,\n",
              "  13301,\n",
              "  1107,\n",
              "  1524,\n",
              "  1104,\n",
              "  1103,\n",
              "  4304,\n",
              "  4334,\n",
              "  1105,\n",
              "  4749,\n",
              "  1122,\n",
              "  117,\n",
              "  1110,\n",
              "  170,\n",
              "  7335,\n",
              "  5921,\n",
              "  1104,\n",
              "  4028,\n",
              "  1114,\n",
              "  1739,\n",
              "  1146,\n",
              "  14089,\n",
              "  5591,\n",
              "  1114,\n",
              "  1103,\n",
              "  7051,\n",
              "  107,\n",
              "  159,\n",
              "  21462,\n",
              "  1566,\n",
              "  24930,\n",
              "  2508,\n",
              "  152,\n",
              "  1306,\n",
              "  3965,\n",
              "  107,\n",
              "  119,\n",
              "  5893,\n",
              "  1106,\n",
              "  1103,\n",
              "  4304,\n",
              "  4334,\n",
              "  1110,\n",
              "  1103,\n",
              "  19349,\n",
              "  1104,\n",
              "  1103,\n",
              "  11373,\n",
              "  4641,\n",
              "  119,\n",
              "  13301,\n",
              "  1481,\n",
              "  1103,\n",
              "  171,\n",
              "  17506,\n",
              "  9538,\n",
              "  1110,\n",
              "  1103,\n",
              "  144,\n",
              "  102],\n",
              " [101,\n",
              "  1327,\n",
              "  1110,\n",
              "  1107,\n",
              "  1524,\n",
              "  1104,\n",
              "  1103,\n",
              "  10360,\n",
              "  8022,\n",
              "  4304,\n",
              "  4334,\n",
              "  136,\n",
              "  102,\n",
              "  4749,\n",
              "  1122,\n",
              "  117,\n",
              "  1110,\n",
              "  170,\n",
              "  7335,\n",
              "  5921,\n",
              "  1104,\n",
              "  4028,\n",
              "  1114,\n",
              "  1739,\n",
              "  1146,\n",
              "  14089,\n",
              "  5591,\n",
              "  1114,\n",
              "  1103,\n",
              "  7051,\n",
              "  107,\n",
              "  159,\n",
              "  21462,\n",
              "  1566,\n",
              "  24930,\n",
              "  2508,\n",
              "  152,\n",
              "  1306,\n",
              "  3965,\n",
              "  107,\n",
              "  119,\n",
              "  5893,\n",
              "  1106,\n",
              "  1103,\n",
              "  4304,\n",
              "  4334,\n",
              "  1110,\n",
              "  1103,\n",
              "  19349,\n",
              "  1104,\n",
              "  1103,\n",
              "  11373,\n",
              "  4641,\n",
              "  119,\n",
              "  13301,\n",
              "  1481,\n",
              "  1103,\n",
              "  171,\n",
              "  17506,\n",
              "  9538,\n",
              "  1110,\n",
              "  1103,\n",
              "  144,\n",
              "  10595,\n",
              "  2430,\n",
              "  117,\n",
              "  170,\n",
              "  14789,\n",
              "  1282,\n",
              "  1104,\n",
              "  8070,\n",
              "  1105,\n",
              "  9284,\n",
              "  119,\n",
              "  1135,\n",
              "  1110,\n",
              "  170,\n",
              "  16498,\n",
              "  1104,\n",
              "  1103,\n",
              "  176,\n",
              "  10595,\n",
              "  2430,\n",
              "  1120,\n",
              "  10111,\n",
              "  20500,\n",
              "  117,\n",
              "  1699,\n",
              "  1187,\n",
              "  1103,\n",
              "  6567,\n",
              "  2090,\n",
              "  25153,\n",
              "  1193,\n",
              "  1691,\n",
              "  1106,\n",
              "  2216,\n",
              "  17666,\n",
              "  6397,\n",
              "  102],\n",
              " [101,\n",
              "  1327,\n",
              "  1110,\n",
              "  1107,\n",
              "  1524,\n",
              "  1104,\n",
              "  1103,\n",
              "  10360,\n",
              "  8022,\n",
              "  4304,\n",
              "  4334,\n",
              "  136,\n",
              "  102,\n",
              "  1104,\n",
              "  1103,\n",
              "  11373,\n",
              "  4641,\n",
              "  119,\n",
              "  13301,\n",
              "  1481,\n",
              "  1103,\n",
              "  171,\n",
              "  17506,\n",
              "  9538,\n",
              "  1110,\n",
              "  1103,\n",
              "  144,\n",
              "  10595,\n",
              "  2430,\n",
              "  117,\n",
              "  170,\n",
              "  14789,\n",
              "  1282,\n",
              "  1104,\n",
              "  8070,\n",
              "  1105,\n",
              "  9284,\n",
              "  119,\n",
              "  1135,\n",
              "  1110,\n",
              "  170,\n",
              "  16498,\n",
              "  1104,\n",
              "  1103,\n",
              "  176,\n",
              "  10595,\n",
              "  2430,\n",
              "  1120,\n",
              "  10111,\n",
              "  20500,\n",
              "  117,\n",
              "  1699,\n",
              "  1187,\n",
              "  1103,\n",
              "  6567,\n",
              "  2090,\n",
              "  25153,\n",
              "  1193,\n",
              "  1691,\n",
              "  1106,\n",
              "  2216,\n",
              "  17666,\n",
              "  6397,\n",
              "  3786,\n",
              "  1573,\n",
              "  25422,\n",
              "  13149,\n",
              "  1107,\n",
              "  8109,\n",
              "  119,\n",
              "  1335,\n",
              "  1103,\n",
              "  1322,\n",
              "  1104,\n",
              "  1103,\n",
              "  1514,\n",
              "  2797,\n",
              "  113,\n",
              "  1105,\n",
              "  1107,\n",
              "  170,\n",
              "  2904,\n",
              "  1413,\n",
              "  1115,\n",
              "  8200,\n",
              "  1194,\n",
              "  124,\n",
              "  11739,\n",
              "  1105,\n",
              "  1103,\n",
              "  3487,\n",
              "  17917,\n",
              "  114,\n",
              "  117,\n",
              "  1110,\n",
              "  170,\n",
              "  3014,\n",
              "  117,\n",
              "  2030,\n",
              "  102],\n",
              " [101,\n",
              "  1327,\n",
              "  1110,\n",
              "  1107,\n",
              "  1524,\n",
              "  1104,\n",
              "  1103,\n",
              "  10360,\n",
              "  8022,\n",
              "  4304,\n",
              "  4334,\n",
              "  136,\n",
              "  102,\n",
              "  20500,\n",
              "  117,\n",
              "  1699,\n",
              "  1187,\n",
              "  1103,\n",
              "  6567,\n",
              "  2090,\n",
              "  25153,\n",
              "  1193,\n",
              "  1691,\n",
              "  1106,\n",
              "  2216,\n",
              "  17666,\n",
              "  6397,\n",
              "  3786,\n",
              "  1573,\n",
              "  25422,\n",
              "  13149,\n",
              "  1107,\n",
              "  8109,\n",
              "  119,\n",
              "  1335,\n",
              "  1103,\n",
              "  1322,\n",
              "  1104,\n",
              "  1103,\n",
              "  1514,\n",
              "  2797,\n",
              "  113,\n",
              "  1105,\n",
              "  1107,\n",
              "  170,\n",
              "  2904,\n",
              "  1413,\n",
              "  1115,\n",
              "  8200,\n",
              "  1194,\n",
              "  124,\n",
              "  11739,\n",
              "  1105,\n",
              "  1103,\n",
              "  3487,\n",
              "  17917,\n",
              "  114,\n",
              "  117,\n",
              "  1110,\n",
              "  170,\n",
              "  3014,\n",
              "  117,\n",
              "  2030,\n",
              "  2576,\n",
              "  5921,\n",
              "  1104,\n",
              "  2090,\n",
              "  119,\n",
              "  102]]"
            ]
          },
          "metadata": {},
          "execution_count": 123
        }
      ]
    },
    {
      "cell_type": "markdown",
      "source": [
        "👆 List of lists. Each sublist begins with the token 101 and ends with the token 102."
      ],
      "metadata": {
        "id": "oHMipea9QD1Z"
      }
    },
    {
      "cell_type": "code",
      "source": [
        "for ids in inputs[\"input_ids\"]:\n",
        "  print(tokenizer.decode(ids)) # use the tokenizer to convert a sequence of token IDs back into human-readable text"
      ],
      "metadata": {
        "colab": {
          "base_uri": "https://localhost:8080/"
        },
        "id": "K_jV8d-KAqy0",
        "outputId": "46c30581-e447-4cc4-9274-44a6f68787ce"
      },
      "execution_count": 124,
      "outputs": [
        {
          "output_type": "stream",
          "name": "stdout",
          "text": [
            "[CLS] What is in front of the Notre Dame Main Building? [SEP] Architecturally, the school has a Catholic character. Atop the Main Building's gold dome is a golden statue of the Virgin Mary. Immediately in front of the Main Building and facing it, is a copper statue of Christ with arms upraised with the legend \" Venite Ad Me Omnes \". Next to the Main Building is the Basilica of the Sacred Heart. Immediately behind the basilica is the G [SEP]\n",
            "[CLS] What is in front of the Notre Dame Main Building? [SEP] facing it, is a copper statue of Christ with arms upraised with the legend \" Venite Ad Me Omnes \". Next to the Main Building is the Basilica of the Sacred Heart. Immediately behind the basilica is the Grotto, a Marian place of prayer and reflection. It is a replica of the grotto at Lourdes, France where the Virgin Mary reputedly appeared to Saint Bernade [SEP]\n",
            "[CLS] What is in front of the Notre Dame Main Building? [SEP] of the Sacred Heart. Immediately behind the basilica is the Grotto, a Marian place of prayer and reflection. It is a replica of the grotto at Lourdes, France where the Virgin Mary reputedly appeared to Saint Bernadette Soubirous in 1858. At the end of the main drive ( and in a direct line that connects through 3 statues and the Gold Dome ), is a simple, modern [SEP]\n",
            "[CLS] What is in front of the Notre Dame Main Building? [SEP]rdes, France where the Virgin Mary reputedly appeared to Saint Bernadette Soubirous in 1858. At the end of the main drive ( and in a direct line that connects through 3 statues and the Gold Dome ), is a simple, modern stone statue of Mary. [SEP]\n"
          ]
        }
      ]
    },
    {
      "cell_type": "markdown",
      "source": [
        "# Actual tokenizer call:"
      ],
      "metadata": {
        "id": "v68qVNVDmihE"
      }
    },
    {
      "cell_type": "code",
      "source": [
        "inputs = tokenizer(\n",
        "    raw_datasets[\"train\"][:3][\"question\"], # extract questions from the first 3 training samples\n",
        "    raw_datasets[\"train\"][:3][\"context\"], # extract contexts from the first 3 training samples\n",
        "    max_length=100, # the max length of the resulting tokenized sequence (truncate or pad the sequence accordingly)\n",
        "    truncation=\"only_second\", # only 'context' will be truncated if the tokenized seq length exceeds max_length; 'question' will be left untouched\n",
        "    stride=50, # if the combined length of the tokenized question and context exceeds max_length, the tokenizer will create overlapping chunks with a stride of 50 tokens (overlapping prev chunk by 50 tokens)\n",
        "    return_overflowing_tokens=True, # tokenizer returns remaining tokens that couldn't fit within max_length\n",
        "    return_offsets_mapping=True, # tokenizer returns character offsets mapping for each token\n",
        ")\n",
        "\n",
        "inputs"
      ],
      "metadata": {
        "colab": {
          "base_uri": "https://localhost:8080/"
        },
        "id": "o9Fbe1Aymtuq",
        "outputId": "003e0c3e-ad9e-44d4-8775-2f4f2fe547c2"
      },
      "execution_count": 125,
      "outputs": [
        {
          "output_type": "execute_result",
          "data": {
            "text/plain": [
              "{'input_ids': [[101, 1706, 2292, 1225, 1103, 6567, 2090, 9273, 2845, 1107, 8109, 1107, 10111, 20500, 1699, 136, 102, 22182, 1193, 117, 1103, 1278, 1144, 170, 2336, 1959, 119, 1335, 4184, 1103, 4304, 4334, 112, 188, 2284, 10945, 1110, 170, 5404, 5921, 1104, 1103, 6567, 2090, 119, 13301, 1107, 1524, 1104, 1103, 4304, 4334, 1105, 4749, 1122, 117, 1110, 170, 7335, 5921, 1104, 4028, 1114, 1739, 1146, 14089, 5591, 1114, 1103, 7051, 107, 159, 21462, 1566, 24930, 2508, 152, 1306, 3965, 107, 119, 5893, 1106, 1103, 4304, 4334, 1110, 1103, 19349, 1104, 1103, 11373, 4641, 119, 13301, 1481, 1103, 171, 17506, 102], [101, 1706, 2292, 1225, 1103, 6567, 2090, 9273, 2845, 1107, 8109, 1107, 10111, 20500, 1699, 136, 102, 1103, 4304, 4334, 1105, 4749, 1122, 117, 1110, 170, 7335, 5921, 1104, 4028, 1114, 1739, 1146, 14089, 5591, 1114, 1103, 7051, 107, 159, 21462, 1566, 24930, 2508, 152, 1306, 3965, 107, 119, 5893, 1106, 1103, 4304, 4334, 1110, 1103, 19349, 1104, 1103, 11373, 4641, 119, 13301, 1481, 1103, 171, 17506, 9538, 1110, 1103, 144, 10595, 2430, 117, 170, 14789, 1282, 1104, 8070, 1105, 9284, 119, 1135, 1110, 170, 16498, 1104, 1103, 176, 10595, 2430, 1120, 10111, 20500, 117, 1699, 1187, 1103, 6567, 102], [101, 1706, 2292, 1225, 1103, 6567, 2090, 9273, 2845, 1107, 8109, 1107, 10111, 20500, 1699, 136, 102, 5893, 1106, 1103, 4304, 4334, 1110, 1103, 19349, 1104, 1103, 11373, 4641, 119, 13301, 1481, 1103, 171, 17506, 9538, 1110, 1103, 144, 10595, 2430, 117, 170, 14789, 1282, 1104, 8070, 1105, 9284, 119, 1135, 1110, 170, 16498, 1104, 1103, 176, 10595, 2430, 1120, 10111, 20500, 117, 1699, 1187, 1103, 6567, 2090, 25153, 1193, 1691, 1106, 2216, 17666, 6397, 3786, 1573, 25422, 13149, 1107, 8109, 119, 1335, 1103, 1322, 1104, 1103, 1514, 2797, 113, 1105, 1107, 170, 2904, 1413, 1115, 8200, 1194, 124, 102], [101, 1706, 2292, 1225, 1103, 6567, 2090, 9273, 2845, 1107, 8109, 1107, 10111, 20500, 1699, 136, 102, 119, 1135, 1110, 170, 16498, 1104, 1103, 176, 10595, 2430, 1120, 10111, 20500, 117, 1699, 1187, 1103, 6567, 2090, 25153, 1193, 1691, 1106, 2216, 17666, 6397, 3786, 1573, 25422, 13149, 1107, 8109, 119, 1335, 1103, 1322, 1104, 1103, 1514, 2797, 113, 1105, 1107, 170, 2904, 1413, 1115, 8200, 1194, 124, 11739, 1105, 1103, 3487, 17917, 114, 117, 1110, 170, 3014, 117, 2030, 2576, 5921, 1104, 2090, 119, 102], [101, 1327, 1110, 1107, 1524, 1104, 1103, 10360, 8022, 4304, 4334, 136, 102, 22182, 1193, 117, 1103, 1278, 1144, 170, 2336, 1959, 119, 1335, 4184, 1103, 4304, 4334, 112, 188, 2284, 10945, 1110, 170, 5404, 5921, 1104, 1103, 6567, 2090, 119, 13301, 1107, 1524, 1104, 1103, 4304, 4334, 1105, 4749, 1122, 117, 1110, 170, 7335, 5921, 1104, 4028, 1114, 1739, 1146, 14089, 5591, 1114, 1103, 7051, 107, 159, 21462, 1566, 24930, 2508, 152, 1306, 3965, 107, 119, 5893, 1106, 1103, 4304, 4334, 1110, 1103, 19349, 1104, 1103, 11373, 4641, 119, 13301, 1481, 1103, 171, 17506, 9538, 1110, 1103, 144, 102], [101, 1327, 1110, 1107, 1524, 1104, 1103, 10360, 8022, 4304, 4334, 136, 102, 4749, 1122, 117, 1110, 170, 7335, 5921, 1104, 4028, 1114, 1739, 1146, 14089, 5591, 1114, 1103, 7051, 107, 159, 21462, 1566, 24930, 2508, 152, 1306, 3965, 107, 119, 5893, 1106, 1103, 4304, 4334, 1110, 1103, 19349, 1104, 1103, 11373, 4641, 119, 13301, 1481, 1103, 171, 17506, 9538, 1110, 1103, 144, 10595, 2430, 117, 170, 14789, 1282, 1104, 8070, 1105, 9284, 119, 1135, 1110, 170, 16498, 1104, 1103, 176, 10595, 2430, 1120, 10111, 20500, 117, 1699, 1187, 1103, 6567, 2090, 25153, 1193, 1691, 1106, 2216, 17666, 6397, 102], [101, 1327, 1110, 1107, 1524, 1104, 1103, 10360, 8022, 4304, 4334, 136, 102, 1104, 1103, 11373, 4641, 119, 13301, 1481, 1103, 171, 17506, 9538, 1110, 1103, 144, 10595, 2430, 117, 170, 14789, 1282, 1104, 8070, 1105, 9284, 119, 1135, 1110, 170, 16498, 1104, 1103, 176, 10595, 2430, 1120, 10111, 20500, 117, 1699, 1187, 1103, 6567, 2090, 25153, 1193, 1691, 1106, 2216, 17666, 6397, 3786, 1573, 25422, 13149, 1107, 8109, 119, 1335, 1103, 1322, 1104, 1103, 1514, 2797, 113, 1105, 1107, 170, 2904, 1413, 1115, 8200, 1194, 124, 11739, 1105, 1103, 3487, 17917, 114, 117, 1110, 170, 3014, 117, 2030, 102], [101, 1327, 1110, 1107, 1524, 1104, 1103, 10360, 8022, 4304, 4334, 136, 102, 20500, 117, 1699, 1187, 1103, 6567, 2090, 25153, 1193, 1691, 1106, 2216, 17666, 6397, 3786, 1573, 25422, 13149, 1107, 8109, 119, 1335, 1103, 1322, 1104, 1103, 1514, 2797, 113, 1105, 1107, 170, 2904, 1413, 1115, 8200, 1194, 124, 11739, 1105, 1103, 3487, 17917, 114, 117, 1110, 170, 3014, 117, 2030, 2576, 5921, 1104, 2090, 119, 102], [101, 1109, 19349, 1104, 1103, 11373, 1762, 1120, 10360, 8022, 1110, 3148, 1106, 1134, 2401, 136, 102, 22182, 1193, 117, 1103, 1278, 1144, 170, 2336, 1959, 119, 1335, 4184, 1103, 4304, 4334, 112, 188, 2284, 10945, 1110, 170, 5404, 5921, 1104, 1103, 6567, 2090, 119, 13301, 1107, 1524, 1104, 1103, 4304, 4334, 1105, 4749, 1122, 117, 1110, 170, 7335, 5921, 1104, 4028, 1114, 1739, 1146, 14089, 5591, 1114, 1103, 7051, 107, 159, 21462, 1566, 24930, 2508, 152, 1306, 3965, 107, 119, 5893, 1106, 1103, 4304, 4334, 1110, 1103, 19349, 1104, 1103, 11373, 4641, 119, 13301, 1481, 1103, 171, 17506, 102], [101, 1109, 19349, 1104, 1103, 11373, 1762, 1120, 10360, 8022, 1110, 3148, 1106, 1134, 2401, 136, 102, 1103, 4304, 4334, 1105, 4749, 1122, 117, 1110, 170, 7335, 5921, 1104, 4028, 1114, 1739, 1146, 14089, 5591, 1114, 1103, 7051, 107, 159, 21462, 1566, 24930, 2508, 152, 1306, 3965, 107, 119, 5893, 1106, 1103, 4304, 4334, 1110, 1103, 19349, 1104, 1103, 11373, 4641, 119, 13301, 1481, 1103, 171, 17506, 9538, 1110, 1103, 144, 10595, 2430, 117, 170, 14789, 1282, 1104, 8070, 1105, 9284, 119, 1135, 1110, 170, 16498, 1104, 1103, 176, 10595, 2430, 1120, 10111, 20500, 117, 1699, 1187, 1103, 6567, 102], [101, 1109, 19349, 1104, 1103, 11373, 1762, 1120, 10360, 8022, 1110, 3148, 1106, 1134, 2401, 136, 102, 5893, 1106, 1103, 4304, 4334, 1110, 1103, 19349, 1104, 1103, 11373, 4641, 119, 13301, 1481, 1103, 171, 17506, 9538, 1110, 1103, 144, 10595, 2430, 117, 170, 14789, 1282, 1104, 8070, 1105, 9284, 119, 1135, 1110, 170, 16498, 1104, 1103, 176, 10595, 2430, 1120, 10111, 20500, 117, 1699, 1187, 1103, 6567, 2090, 25153, 1193, 1691, 1106, 2216, 17666, 6397, 3786, 1573, 25422, 13149, 1107, 8109, 119, 1335, 1103, 1322, 1104, 1103, 1514, 2797, 113, 1105, 1107, 170, 2904, 1413, 1115, 8200, 1194, 124, 102], [101, 1109, 19349, 1104, 1103, 11373, 1762, 1120, 10360, 8022, 1110, 3148, 1106, 1134, 2401, 136, 102, 119, 1135, 1110, 170, 16498, 1104, 1103, 176, 10595, 2430, 1120, 10111, 20500, 117, 1699, 1187, 1103, 6567, 2090, 25153, 1193, 1691, 1106, 2216, 17666, 6397, 3786, 1573, 25422, 13149, 1107, 8109, 119, 1335, 1103, 1322, 1104, 1103, 1514, 2797, 113, 1105, 1107, 170, 2904, 1413, 1115, 8200, 1194, 124, 11739, 1105, 1103, 3487, 17917, 114, 117, 1110, 170, 3014, 117, 2030, 2576, 5921, 1104, 2090, 119, 102]], 'attention_mask': [[1, 1, 1, 1, 1, 1, 1, 1, 1, 1, 1, 1, 1, 1, 1, 1, 1, 1, 1, 1, 1, 1, 1, 1, 1, 1, 1, 1, 1, 1, 1, 1, 1, 1, 1, 1, 1, 1, 1, 1, 1, 1, 1, 1, 1, 1, 1, 1, 1, 1, 1, 1, 1, 1, 1, 1, 1, 1, 1, 1, 1, 1, 1, 1, 1, 1, 1, 1, 1, 1, 1, 1, 1, 1, 1, 1, 1, 1, 1, 1, 1, 1, 1, 1, 1, 1, 1, 1, 1, 1, 1, 1, 1, 1, 1, 1, 1, 1, 1, 1], [1, 1, 1, 1, 1, 1, 1, 1, 1, 1, 1, 1, 1, 1, 1, 1, 1, 1, 1, 1, 1, 1, 1, 1, 1, 1, 1, 1, 1, 1, 1, 1, 1, 1, 1, 1, 1, 1, 1, 1, 1, 1, 1, 1, 1, 1, 1, 1, 1, 1, 1, 1, 1, 1, 1, 1, 1, 1, 1, 1, 1, 1, 1, 1, 1, 1, 1, 1, 1, 1, 1, 1, 1, 1, 1, 1, 1, 1, 1, 1, 1, 1, 1, 1, 1, 1, 1, 1, 1, 1, 1, 1, 1, 1, 1, 1, 1, 1, 1, 1], [1, 1, 1, 1, 1, 1, 1, 1, 1, 1, 1, 1, 1, 1, 1, 1, 1, 1, 1, 1, 1, 1, 1, 1, 1, 1, 1, 1, 1, 1, 1, 1, 1, 1, 1, 1, 1, 1, 1, 1, 1, 1, 1, 1, 1, 1, 1, 1, 1, 1, 1, 1, 1, 1, 1, 1, 1, 1, 1, 1, 1, 1, 1, 1, 1, 1, 1, 1, 1, 1, 1, 1, 1, 1, 1, 1, 1, 1, 1, 1, 1, 1, 1, 1, 1, 1, 1, 1, 1, 1, 1, 1, 1, 1, 1, 1, 1, 1, 1, 1], [1, 1, 1, 1, 1, 1, 1, 1, 1, 1, 1, 1, 1, 1, 1, 1, 1, 1, 1, 1, 1, 1, 1, 1, 1, 1, 1, 1, 1, 1, 1, 1, 1, 1, 1, 1, 1, 1, 1, 1, 1, 1, 1, 1, 1, 1, 1, 1, 1, 1, 1, 1, 1, 1, 1, 1, 1, 1, 1, 1, 1, 1, 1, 1, 1, 1, 1, 1, 1, 1, 1, 1, 1, 1, 1, 1, 1, 1, 1, 1, 1, 1, 1, 1, 1], [1, 1, 1, 1, 1, 1, 1, 1, 1, 1, 1, 1, 1, 1, 1, 1, 1, 1, 1, 1, 1, 1, 1, 1, 1, 1, 1, 1, 1, 1, 1, 1, 1, 1, 1, 1, 1, 1, 1, 1, 1, 1, 1, 1, 1, 1, 1, 1, 1, 1, 1, 1, 1, 1, 1, 1, 1, 1, 1, 1, 1, 1, 1, 1, 1, 1, 1, 1, 1, 1, 1, 1, 1, 1, 1, 1, 1, 1, 1, 1, 1, 1, 1, 1, 1, 1, 1, 1, 1, 1, 1, 1, 1, 1, 1, 1, 1, 1, 1, 1], [1, 1, 1, 1, 1, 1, 1, 1, 1, 1, 1, 1, 1, 1, 1, 1, 1, 1, 1, 1, 1, 1, 1, 1, 1, 1, 1, 1, 1, 1, 1, 1, 1, 1, 1, 1, 1, 1, 1, 1, 1, 1, 1, 1, 1, 1, 1, 1, 1, 1, 1, 1, 1, 1, 1, 1, 1, 1, 1, 1, 1, 1, 1, 1, 1, 1, 1, 1, 1, 1, 1, 1, 1, 1, 1, 1, 1, 1, 1, 1, 1, 1, 1, 1, 1, 1, 1, 1, 1, 1, 1, 1, 1, 1, 1, 1, 1, 1, 1, 1], [1, 1, 1, 1, 1, 1, 1, 1, 1, 1, 1, 1, 1, 1, 1, 1, 1, 1, 1, 1, 1, 1, 1, 1, 1, 1, 1, 1, 1, 1, 1, 1, 1, 1, 1, 1, 1, 1, 1, 1, 1, 1, 1, 1, 1, 1, 1, 1, 1, 1, 1, 1, 1, 1, 1, 1, 1, 1, 1, 1, 1, 1, 1, 1, 1, 1, 1, 1, 1, 1, 1, 1, 1, 1, 1, 1, 1, 1, 1, 1, 1, 1, 1, 1, 1, 1, 1, 1, 1, 1, 1, 1, 1, 1, 1, 1, 1, 1, 1, 1], [1, 1, 1, 1, 1, 1, 1, 1, 1, 1, 1, 1, 1, 1, 1, 1, 1, 1, 1, 1, 1, 1, 1, 1, 1, 1, 1, 1, 1, 1, 1, 1, 1, 1, 1, 1, 1, 1, 1, 1, 1, 1, 1, 1, 1, 1, 1, 1, 1, 1, 1, 1, 1, 1, 1, 1, 1, 1, 1, 1, 1, 1, 1, 1, 1, 1, 1, 1, 1], [1, 1, 1, 1, 1, 1, 1, 1, 1, 1, 1, 1, 1, 1, 1, 1, 1, 1, 1, 1, 1, 1, 1, 1, 1, 1, 1, 1, 1, 1, 1, 1, 1, 1, 1, 1, 1, 1, 1, 1, 1, 1, 1, 1, 1, 1, 1, 1, 1, 1, 1, 1, 1, 1, 1, 1, 1, 1, 1, 1, 1, 1, 1, 1, 1, 1, 1, 1, 1, 1, 1, 1, 1, 1, 1, 1, 1, 1, 1, 1, 1, 1, 1, 1, 1, 1, 1, 1, 1, 1, 1, 1, 1, 1, 1, 1, 1, 1, 1, 1], [1, 1, 1, 1, 1, 1, 1, 1, 1, 1, 1, 1, 1, 1, 1, 1, 1, 1, 1, 1, 1, 1, 1, 1, 1, 1, 1, 1, 1, 1, 1, 1, 1, 1, 1, 1, 1, 1, 1, 1, 1, 1, 1, 1, 1, 1, 1, 1, 1, 1, 1, 1, 1, 1, 1, 1, 1, 1, 1, 1, 1, 1, 1, 1, 1, 1, 1, 1, 1, 1, 1, 1, 1, 1, 1, 1, 1, 1, 1, 1, 1, 1, 1, 1, 1, 1, 1, 1, 1, 1, 1, 1, 1, 1, 1, 1, 1, 1, 1, 1], [1, 1, 1, 1, 1, 1, 1, 1, 1, 1, 1, 1, 1, 1, 1, 1, 1, 1, 1, 1, 1, 1, 1, 1, 1, 1, 1, 1, 1, 1, 1, 1, 1, 1, 1, 1, 1, 1, 1, 1, 1, 1, 1, 1, 1, 1, 1, 1, 1, 1, 1, 1, 1, 1, 1, 1, 1, 1, 1, 1, 1, 1, 1, 1, 1, 1, 1, 1, 1, 1, 1, 1, 1, 1, 1, 1, 1, 1, 1, 1, 1, 1, 1, 1, 1, 1, 1, 1, 1, 1, 1, 1, 1, 1, 1, 1, 1, 1, 1, 1], [1, 1, 1, 1, 1, 1, 1, 1, 1, 1, 1, 1, 1, 1, 1, 1, 1, 1, 1, 1, 1, 1, 1, 1, 1, 1, 1, 1, 1, 1, 1, 1, 1, 1, 1, 1, 1, 1, 1, 1, 1, 1, 1, 1, 1, 1, 1, 1, 1, 1, 1, 1, 1, 1, 1, 1, 1, 1, 1, 1, 1, 1, 1, 1, 1, 1, 1, 1, 1, 1, 1, 1, 1, 1, 1, 1, 1, 1, 1, 1, 1, 1, 1, 1, 1]], 'offset_mapping': [[(0, 0), (0, 2), (3, 7), (8, 11), (12, 15), (16, 22), (23, 27), (28, 37), (38, 44), (45, 47), (48, 52), (53, 55), (56, 59), (59, 63), (64, 70), (70, 71), (0, 0), (0, 13), (13, 15), (15, 16), (17, 20), (21, 27), (28, 31), (32, 33), (34, 42), (43, 52), (52, 53), (54, 56), (56, 58), (59, 62), (63, 67), (68, 76), (76, 77), (77, 78), (79, 83), (84, 88), (89, 91), (92, 93), (94, 100), (101, 107), (108, 110), (111, 114), (115, 121), (122, 126), (126, 127), (128, 139), (140, 142), (143, 148), (149, 151), (152, 155), (156, 160), (161, 169), (170, 173), (174, 180), (181, 183), (183, 184), (185, 187), (188, 189), (190, 196), (197, 203), (204, 206), (207, 213), (214, 218), (219, 223), (224, 226), (226, 229), (229, 232), (233, 237), (238, 241), (242, 248), (249, 250), (250, 251), (251, 254), (254, 256), (257, 259), (260, 262), (263, 264), (264, 265), (265, 268), (268, 269), (269, 270), (271, 275), (276, 278), (279, 282), (283, 287), (288, 296), (297, 299), (300, 303), (304, 312), (313, 315), (316, 319), (320, 326), (327, 332), (332, 333), (334, 345), (346, 352), (353, 356), (357, 358), (358, 361), (0, 0)], [(0, 0), (0, 2), (3, 7), (8, 11), (12, 15), (16, 22), (23, 27), (28, 37), (38, 44), (45, 47), (48, 52), (53, 55), (56, 59), (59, 63), (64, 70), (70, 71), (0, 0), (152, 155), (156, 160), (161, 169), (170, 173), (174, 180), (181, 183), (183, 184), (185, 187), (188, 189), (190, 196), (197, 203), (204, 206), (207, 213), (214, 218), (219, 223), (224, 226), (226, 229), (229, 232), (233, 237), (238, 241), (242, 248), (249, 250), (250, 251), (251, 254), (254, 256), (257, 259), (260, 262), (263, 264), (264, 265), (265, 268), (268, 269), (269, 270), (271, 275), (276, 278), (279, 282), (283, 287), (288, 296), (297, 299), (300, 303), (304, 312), (313, 315), (316, 319), (320, 326), (327, 332), (332, 333), (334, 345), (346, 352), (353, 356), (357, 358), (358, 361), (361, 365), (366, 368), (369, 372), (373, 374), (374, 377), (377, 379), (379, 380), (381, 382), (383, 389), (390, 395), (396, 398), (399, 405), (406, 409), (410, 420), (420, 421), (422, 424), (425, 427), (428, 429), (430, 437), (438, 440), (441, 444), (445, 446), (446, 449), (449, 451), (452, 454), (455, 458), (458, 462), (462, 463), (464, 470), (471, 476), (477, 480), (481, 487), (0, 0)], [(0, 0), (0, 2), (3, 7), (8, 11), (12, 15), (16, 22), (23, 27), (28, 37), (38, 44), (45, 47), (48, 52), (53, 55), (56, 59), (59, 63), (64, 70), (70, 71), (0, 0), (271, 275), (276, 278), (279, 282), (283, 287), (288, 296), (297, 299), (300, 303), (304, 312), (313, 315), (316, 319), (320, 326), (327, 332), (332, 333), (334, 345), (346, 352), (353, 356), (357, 358), (358, 361), (361, 365), (366, 368), (369, 372), (373, 374), (374, 377), (377, 379), (379, 380), (381, 382), (383, 389), (390, 395), (396, 398), (399, 405), (406, 409), (410, 420), (420, 421), (422, 424), (425, 427), (428, 429), (430, 437), (438, 440), (441, 444), (445, 446), (446, 449), (449, 451), (452, 454), (455, 458), (458, 462), (462, 463), (464, 470), (471, 476), (477, 480), (481, 487), (488, 492), (493, 500), (500, 502), (503, 511), (512, 514), (515, 520), (521, 525), (525, 528), (528, 531), (532, 534), (534, 537), (537, 541), (542, 544), (545, 549), (549, 550), (551, 553), (554, 557), (558, 561), (562, 564), (565, 568), (569, 573), (574, 579), (580, 581), (581, 584), (585, 587), (588, 589), (590, 596), (597, 601), (602, 606), (607, 615), (616, 623), (624, 625), (0, 0)], [(0, 0), (0, 2), (3, 7), (8, 11), (12, 15), (16, 22), (23, 27), (28, 37), (38, 44), (45, 47), (48, 52), (53, 55), (56, 59), (59, 63), (64, 70), (70, 71), (0, 0), (420, 421), (422, 424), (425, 427), (428, 429), (430, 437), (438, 440), (441, 444), (445, 446), (446, 449), (449, 451), (452, 454), (455, 458), (458, 462), (462, 463), (464, 470), (471, 476), (477, 480), (481, 487), (488, 492), (493, 500), (500, 502), (503, 511), (512, 514), (515, 520), (521, 525), (525, 528), (528, 531), (532, 534), (534, 537), (537, 541), (542, 544), (545, 549), (549, 550), (551, 553), (554, 557), (558, 561), (562, 564), (565, 568), (569, 573), (574, 579), (580, 581), (581, 584), (585, 587), (588, 589), (590, 596), (597, 601), (602, 606), (607, 615), (616, 623), (624, 625), (626, 633), (634, 637), (638, 641), (642, 646), (647, 651), (651, 652), (652, 653), (654, 656), (657, 658), (659, 665), (665, 666), (667, 673), (674, 679), (680, 686), (687, 689), (690, 694), (694, 695), (0, 0)], [(0, 0), (0, 4), (5, 7), (8, 10), (11, 16), (17, 19), (20, 23), (24, 29), (30, 34), (35, 39), (40, 48), (48, 49), (0, 0), (0, 13), (13, 15), (15, 16), (17, 20), (21, 27), (28, 31), (32, 33), (34, 42), (43, 52), (52, 53), (54, 56), (56, 58), (59, 62), (63, 67), (68, 76), (76, 77), (77, 78), (79, 83), (84, 88), (89, 91), (92, 93), (94, 100), (101, 107), (108, 110), (111, 114), (115, 121), (122, 126), (126, 127), (128, 139), (140, 142), (143, 148), (149, 151), (152, 155), (156, 160), (161, 169), (170, 173), (174, 180), (181, 183), (183, 184), (185, 187), (188, 189), (190, 196), (197, 203), (204, 206), (207, 213), (214, 218), (219, 223), (224, 226), (226, 229), (229, 232), (233, 237), (238, 241), (242, 248), (249, 250), (250, 251), (251, 254), (254, 256), (257, 259), (260, 262), (263, 264), (264, 265), (265, 268), (268, 269), (269, 270), (271, 275), (276, 278), (279, 282), (283, 287), (288, 296), (297, 299), (300, 303), (304, 312), (313, 315), (316, 319), (320, 326), (327, 332), (332, 333), (334, 345), (346, 352), (353, 356), (357, 358), (358, 361), (361, 365), (366, 368), (369, 372), (373, 374), (0, 0)], [(0, 0), (0, 4), (5, 7), (8, 10), (11, 16), (17, 19), (20, 23), (24, 29), (30, 34), (35, 39), (40, 48), (48, 49), (0, 0), (174, 180), (181, 183), (183, 184), (185, 187), (188, 189), (190, 196), (197, 203), (204, 206), (207, 213), (214, 218), (219, 223), (224, 226), (226, 229), (229, 232), (233, 237), (238, 241), (242, 248), (249, 250), (250, 251), (251, 254), (254, 256), (257, 259), (260, 262), (263, 264), (264, 265), (265, 268), (268, 269), (269, 270), (271, 275), (276, 278), (279, 282), (283, 287), (288, 296), (297, 299), (300, 303), (304, 312), (313, 315), (316, 319), (320, 326), (327, 332), (332, 333), (334, 345), (346, 352), (353, 356), (357, 358), (358, 361), (361, 365), (366, 368), (369, 372), (373, 374), (374, 377), (377, 379), (379, 380), (381, 382), (383, 389), (390, 395), (396, 398), (399, 405), (406, 409), (410, 420), (420, 421), (422, 424), (425, 427), (428, 429), (430, 437), (438, 440), (441, 444), (445, 446), (446, 449), (449, 451), (452, 454), (455, 458), (458, 462), (462, 463), (464, 470), (471, 476), (477, 480), (481, 487), (488, 492), (493, 500), (500, 502), (503, 511), (512, 514), (515, 520), (521, 525), (525, 528), (0, 0)], [(0, 0), (0, 4), (5, 7), (8, 10), (11, 16), (17, 19), (20, 23), (24, 29), (30, 34), (35, 39), (40, 48), (48, 49), (0, 0), (313, 315), (316, 319), (320, 326), (327, 332), (332, 333), (334, 345), (346, 352), (353, 356), (357, 358), (358, 361), (361, 365), (366, 368), (369, 372), (373, 374), (374, 377), (377, 379), (379, 380), (381, 382), (383, 389), (390, 395), (396, 398), (399, 405), (406, 409), (410, 420), (420, 421), (422, 424), (425, 427), (428, 429), (430, 437), (438, 440), (441, 444), (445, 446), (446, 449), (449, 451), (452, 454), (455, 458), (458, 462), (462, 463), (464, 470), (471, 476), (477, 480), (481, 487), (488, 492), (493, 500), (500, 502), (503, 511), (512, 514), (515, 520), (521, 525), (525, 528), (528, 531), (532, 534), (534, 537), (537, 541), (542, 544), (545, 549), (549, 550), (551, 553), (554, 557), (558, 561), (562, 564), (565, 568), (569, 573), (574, 579), (580, 581), (581, 584), (585, 587), (588, 589), (590, 596), (597, 601), (602, 606), (607, 615), (616, 623), (624, 625), (626, 633), (634, 637), (638, 641), (642, 646), (647, 651), (651, 652), (652, 653), (654, 656), (657, 658), (659, 665), (665, 666), (667, 673), (0, 0)], [(0, 0), (0, 4), (5, 7), (8, 10), (11, 16), (17, 19), (20, 23), (24, 29), (30, 34), (35, 39), (40, 48), (48, 49), (0, 0), (458, 462), (462, 463), (464, 470), (471, 476), (477, 480), (481, 487), (488, 492), (493, 500), (500, 502), (503, 511), (512, 514), (515, 520), (521, 525), (525, 528), (528, 531), (532, 534), (534, 537), (537, 541), (542, 544), (545, 549), (549, 550), (551, 553), (554, 557), (558, 561), (562, 564), (565, 568), (569, 573), (574, 579), (580, 581), (581, 584), (585, 587), (588, 589), (590, 596), (597, 601), (602, 606), (607, 615), (616, 623), (624, 625), (626, 633), (634, 637), (638, 641), (642, 646), (647, 651), (651, 652), (652, 653), (654, 656), (657, 658), (659, 665), (665, 666), (667, 673), (674, 679), (680, 686), (687, 689), (690, 694), (694, 695), (0, 0)], [(0, 0), (0, 3), (4, 12), (13, 15), (16, 19), (20, 26), (27, 32), (33, 35), (36, 41), (42, 46), (47, 49), (50, 56), (57, 59), (60, 65), (66, 75), (75, 76), (0, 0), (0, 13), (13, 15), (15, 16), (17, 20), (21, 27), (28, 31), (32, 33), (34, 42), (43, 52), (52, 53), (54, 56), (56, 58), (59, 62), (63, 67), (68, 76), (76, 77), (77, 78), (79, 83), (84, 88), (89, 91), (92, 93), (94, 100), (101, 107), (108, 110), (111, 114), (115, 121), (122, 126), (126, 127), (128, 139), (140, 142), (143, 148), (149, 151), (152, 155), (156, 160), (161, 169), (170, 173), (174, 180), (181, 183), (183, 184), (185, 187), (188, 189), (190, 196), (197, 203), (204, 206), (207, 213), (214, 218), (219, 223), (224, 226), (226, 229), (229, 232), (233, 237), (238, 241), (242, 248), (249, 250), (250, 251), (251, 254), (254, 256), (257, 259), (260, 262), (263, 264), (264, 265), (265, 268), (268, 269), (269, 270), (271, 275), (276, 278), (279, 282), (283, 287), (288, 296), (297, 299), (300, 303), (304, 312), (313, 315), (316, 319), (320, 326), (327, 332), (332, 333), (334, 345), (346, 352), (353, 356), (357, 358), (358, 361), (0, 0)], [(0, 0), (0, 3), (4, 12), (13, 15), (16, 19), (20, 26), (27, 32), (33, 35), (36, 41), (42, 46), (47, 49), (50, 56), (57, 59), (60, 65), (66, 75), (75, 76), (0, 0), (152, 155), (156, 160), (161, 169), (170, 173), (174, 180), (181, 183), (183, 184), (185, 187), (188, 189), (190, 196), (197, 203), (204, 206), (207, 213), (214, 218), (219, 223), (224, 226), (226, 229), (229, 232), (233, 237), (238, 241), (242, 248), (249, 250), (250, 251), (251, 254), (254, 256), (257, 259), (260, 262), (263, 264), (264, 265), (265, 268), (268, 269), (269, 270), (271, 275), (276, 278), (279, 282), (283, 287), (288, 296), (297, 299), (300, 303), (304, 312), (313, 315), (316, 319), (320, 326), (327, 332), (332, 333), (334, 345), (346, 352), (353, 356), (357, 358), (358, 361), (361, 365), (366, 368), (369, 372), (373, 374), (374, 377), (377, 379), (379, 380), (381, 382), (383, 389), (390, 395), (396, 398), (399, 405), (406, 409), (410, 420), (420, 421), (422, 424), (425, 427), (428, 429), (430, 437), (438, 440), (441, 444), (445, 446), (446, 449), (449, 451), (452, 454), (455, 458), (458, 462), (462, 463), (464, 470), (471, 476), (477, 480), (481, 487), (0, 0)], [(0, 0), (0, 3), (4, 12), (13, 15), (16, 19), (20, 26), (27, 32), (33, 35), (36, 41), (42, 46), (47, 49), (50, 56), (57, 59), (60, 65), (66, 75), (75, 76), (0, 0), (271, 275), (276, 278), (279, 282), (283, 287), (288, 296), (297, 299), (300, 303), (304, 312), (313, 315), (316, 319), (320, 326), (327, 332), (332, 333), (334, 345), (346, 352), (353, 356), (357, 358), (358, 361), (361, 365), (366, 368), (369, 372), (373, 374), (374, 377), (377, 379), (379, 380), (381, 382), (383, 389), (390, 395), (396, 398), (399, 405), (406, 409), (410, 420), (420, 421), (422, 424), (425, 427), (428, 429), (430, 437), (438, 440), (441, 444), (445, 446), (446, 449), (449, 451), (452, 454), (455, 458), (458, 462), (462, 463), (464, 470), (471, 476), (477, 480), (481, 487), (488, 492), (493, 500), (500, 502), (503, 511), (512, 514), (515, 520), (521, 525), (525, 528), (528, 531), (532, 534), (534, 537), (537, 541), (542, 544), (545, 549), (549, 550), (551, 553), (554, 557), (558, 561), (562, 564), (565, 568), (569, 573), (574, 579), (580, 581), (581, 584), (585, 587), (588, 589), (590, 596), (597, 601), (602, 606), (607, 615), (616, 623), (624, 625), (0, 0)], [(0, 0), (0, 3), (4, 12), (13, 15), (16, 19), (20, 26), (27, 32), (33, 35), (36, 41), (42, 46), (47, 49), (50, 56), (57, 59), (60, 65), (66, 75), (75, 76), (0, 0), (420, 421), (422, 424), (425, 427), (428, 429), (430, 437), (438, 440), (441, 444), (445, 446), (446, 449), (449, 451), (452, 454), (455, 458), (458, 462), (462, 463), (464, 470), (471, 476), (477, 480), (481, 487), (488, 492), (493, 500), (500, 502), (503, 511), (512, 514), (515, 520), (521, 525), (525, 528), (528, 531), (532, 534), (534, 537), (537, 541), (542, 544), (545, 549), (549, 550), (551, 553), (554, 557), (558, 561), (562, 564), (565, 568), (569, 573), (574, 579), (580, 581), (581, 584), (585, 587), (588, 589), (590, 596), (597, 601), (602, 606), (607, 615), (616, 623), (624, 625), (626, 633), (634, 637), (638, 641), (642, 646), (647, 651), (651, 652), (652, 653), (654, 656), (657, 658), (659, 665), (665, 666), (667, 673), (674, 679), (680, 686), (687, 689), (690, 694), (694, 695), (0, 0)]], 'overflow_to_sample_mapping': [0, 0, 0, 0, 1, 1, 1, 1, 2, 2, 2, 2]}"
            ]
          },
          "metadata": {},
          "execution_count": 125
        }
      ]
    },
    {
      "cell_type": "code",
      "source": [
        "inputs.keys()"
      ],
      "metadata": {
        "colab": {
          "base_uri": "https://localhost:8080/"
        },
        "id": "WDGjVEFRWkIy",
        "outputId": "6607e715-ee8f-4964-cd75-184067890c63"
      },
      "execution_count": 126,
      "outputs": [
        {
          "output_type": "execute_result",
          "data": {
            "text/plain": [
              "dict_keys(['input_ids', 'attention_mask', 'offset_mapping', 'overflow_to_sample_mapping'])"
            ]
          },
          "metadata": {},
          "execution_count": 126
        }
      ]
    },
    {
      "cell_type": "markdown",
      "source": [
        "👆 2 new keys"
      ],
      "metadata": {
        "id": "jp-yznAIWnvD"
      }
    },
    {
      "cell_type": "markdown",
      "source": [
        "\n",
        "# Check these two new keys:\n",
        "\n",
        "***Example:***\n",
        "\n",
        "Original Text: \"The quick brown fox.\"\n",
        "\n",
        "Tokenized Tokens: [\"The\", \"quick\", \"brown\", \"fox\", \".\"]\n",
        "\n",
        "***Offset mapping associates each token with its start and end character offsets in the original text:***\n",
        "\n",
        "Offset Mapping: [(0, 3), (4, 9), (10, 15), (16, 19), (20, 21)]"
      ],
      "metadata": {
        "id": "g_t-hqgNUi9i"
      }
    },
    {
      "cell_type": "code",
      "source": [
        "# 1. inspect the value associated with the 'offset_mapping' key:\n",
        "inputs['offset_mapping']"
      ],
      "metadata": {
        "colab": {
          "base_uri": "https://localhost:8080/"
        },
        "id": "fDUHdwnzW1zm",
        "outputId": "a9899c92-1671-4e43-c556-d00a66a7359b"
      },
      "execution_count": 127,
      "outputs": [
        {
          "output_type": "execute_result",
          "data": {
            "text/plain": [
              "[[(0, 0),\n",
              "  (0, 2),\n",
              "  (3, 7),\n",
              "  (8, 11),\n",
              "  (12, 15),\n",
              "  (16, 22),\n",
              "  (23, 27),\n",
              "  (28, 37),\n",
              "  (38, 44),\n",
              "  (45, 47),\n",
              "  (48, 52),\n",
              "  (53, 55),\n",
              "  (56, 59),\n",
              "  (59, 63),\n",
              "  (64, 70),\n",
              "  (70, 71),\n",
              "  (0, 0),\n",
              "  (0, 13),\n",
              "  (13, 15),\n",
              "  (15, 16),\n",
              "  (17, 20),\n",
              "  (21, 27),\n",
              "  (28, 31),\n",
              "  (32, 33),\n",
              "  (34, 42),\n",
              "  (43, 52),\n",
              "  (52, 53),\n",
              "  (54, 56),\n",
              "  (56, 58),\n",
              "  (59, 62),\n",
              "  (63, 67),\n",
              "  (68, 76),\n",
              "  (76, 77),\n",
              "  (77, 78),\n",
              "  (79, 83),\n",
              "  (84, 88),\n",
              "  (89, 91),\n",
              "  (92, 93),\n",
              "  (94, 100),\n",
              "  (101, 107),\n",
              "  (108, 110),\n",
              "  (111, 114),\n",
              "  (115, 121),\n",
              "  (122, 126),\n",
              "  (126, 127),\n",
              "  (128, 139),\n",
              "  (140, 142),\n",
              "  (143, 148),\n",
              "  (149, 151),\n",
              "  (152, 155),\n",
              "  (156, 160),\n",
              "  (161, 169),\n",
              "  (170, 173),\n",
              "  (174, 180),\n",
              "  (181, 183),\n",
              "  (183, 184),\n",
              "  (185, 187),\n",
              "  (188, 189),\n",
              "  (190, 196),\n",
              "  (197, 203),\n",
              "  (204, 206),\n",
              "  (207, 213),\n",
              "  (214, 218),\n",
              "  (219, 223),\n",
              "  (224, 226),\n",
              "  (226, 229),\n",
              "  (229, 232),\n",
              "  (233, 237),\n",
              "  (238, 241),\n",
              "  (242, 248),\n",
              "  (249, 250),\n",
              "  (250, 251),\n",
              "  (251, 254),\n",
              "  (254, 256),\n",
              "  (257, 259),\n",
              "  (260, 262),\n",
              "  (263, 264),\n",
              "  (264, 265),\n",
              "  (265, 268),\n",
              "  (268, 269),\n",
              "  (269, 270),\n",
              "  (271, 275),\n",
              "  (276, 278),\n",
              "  (279, 282),\n",
              "  (283, 287),\n",
              "  (288, 296),\n",
              "  (297, 299),\n",
              "  (300, 303),\n",
              "  (304, 312),\n",
              "  (313, 315),\n",
              "  (316, 319),\n",
              "  (320, 326),\n",
              "  (327, 332),\n",
              "  (332, 333),\n",
              "  (334, 345),\n",
              "  (346, 352),\n",
              "  (353, 356),\n",
              "  (357, 358),\n",
              "  (358, 361),\n",
              "  (0, 0)],\n",
              " [(0, 0),\n",
              "  (0, 2),\n",
              "  (3, 7),\n",
              "  (8, 11),\n",
              "  (12, 15),\n",
              "  (16, 22),\n",
              "  (23, 27),\n",
              "  (28, 37),\n",
              "  (38, 44),\n",
              "  (45, 47),\n",
              "  (48, 52),\n",
              "  (53, 55),\n",
              "  (56, 59),\n",
              "  (59, 63),\n",
              "  (64, 70),\n",
              "  (70, 71),\n",
              "  (0, 0),\n",
              "  (152, 155),\n",
              "  (156, 160),\n",
              "  (161, 169),\n",
              "  (170, 173),\n",
              "  (174, 180),\n",
              "  (181, 183),\n",
              "  (183, 184),\n",
              "  (185, 187),\n",
              "  (188, 189),\n",
              "  (190, 196),\n",
              "  (197, 203),\n",
              "  (204, 206),\n",
              "  (207, 213),\n",
              "  (214, 218),\n",
              "  (219, 223),\n",
              "  (224, 226),\n",
              "  (226, 229),\n",
              "  (229, 232),\n",
              "  (233, 237),\n",
              "  (238, 241),\n",
              "  (242, 248),\n",
              "  (249, 250),\n",
              "  (250, 251),\n",
              "  (251, 254),\n",
              "  (254, 256),\n",
              "  (257, 259),\n",
              "  (260, 262),\n",
              "  (263, 264),\n",
              "  (264, 265),\n",
              "  (265, 268),\n",
              "  (268, 269),\n",
              "  (269, 270),\n",
              "  (271, 275),\n",
              "  (276, 278),\n",
              "  (279, 282),\n",
              "  (283, 287),\n",
              "  (288, 296),\n",
              "  (297, 299),\n",
              "  (300, 303),\n",
              "  (304, 312),\n",
              "  (313, 315),\n",
              "  (316, 319),\n",
              "  (320, 326),\n",
              "  (327, 332),\n",
              "  (332, 333),\n",
              "  (334, 345),\n",
              "  (346, 352),\n",
              "  (353, 356),\n",
              "  (357, 358),\n",
              "  (358, 361),\n",
              "  (361, 365),\n",
              "  (366, 368),\n",
              "  (369, 372),\n",
              "  (373, 374),\n",
              "  (374, 377),\n",
              "  (377, 379),\n",
              "  (379, 380),\n",
              "  (381, 382),\n",
              "  (383, 389),\n",
              "  (390, 395),\n",
              "  (396, 398),\n",
              "  (399, 405),\n",
              "  (406, 409),\n",
              "  (410, 420),\n",
              "  (420, 421),\n",
              "  (422, 424),\n",
              "  (425, 427),\n",
              "  (428, 429),\n",
              "  (430, 437),\n",
              "  (438, 440),\n",
              "  (441, 444),\n",
              "  (445, 446),\n",
              "  (446, 449),\n",
              "  (449, 451),\n",
              "  (452, 454),\n",
              "  (455, 458),\n",
              "  (458, 462),\n",
              "  (462, 463),\n",
              "  (464, 470),\n",
              "  (471, 476),\n",
              "  (477, 480),\n",
              "  (481, 487),\n",
              "  (0, 0)],\n",
              " [(0, 0),\n",
              "  (0, 2),\n",
              "  (3, 7),\n",
              "  (8, 11),\n",
              "  (12, 15),\n",
              "  (16, 22),\n",
              "  (23, 27),\n",
              "  (28, 37),\n",
              "  (38, 44),\n",
              "  (45, 47),\n",
              "  (48, 52),\n",
              "  (53, 55),\n",
              "  (56, 59),\n",
              "  (59, 63),\n",
              "  (64, 70),\n",
              "  (70, 71),\n",
              "  (0, 0),\n",
              "  (271, 275),\n",
              "  (276, 278),\n",
              "  (279, 282),\n",
              "  (283, 287),\n",
              "  (288, 296),\n",
              "  (297, 299),\n",
              "  (300, 303),\n",
              "  (304, 312),\n",
              "  (313, 315),\n",
              "  (316, 319),\n",
              "  (320, 326),\n",
              "  (327, 332),\n",
              "  (332, 333),\n",
              "  (334, 345),\n",
              "  (346, 352),\n",
              "  (353, 356),\n",
              "  (357, 358),\n",
              "  (358, 361),\n",
              "  (361, 365),\n",
              "  (366, 368),\n",
              "  (369, 372),\n",
              "  (373, 374),\n",
              "  (374, 377),\n",
              "  (377, 379),\n",
              "  (379, 380),\n",
              "  (381, 382),\n",
              "  (383, 389),\n",
              "  (390, 395),\n",
              "  (396, 398),\n",
              "  (399, 405),\n",
              "  (406, 409),\n",
              "  (410, 420),\n",
              "  (420, 421),\n",
              "  (422, 424),\n",
              "  (425, 427),\n",
              "  (428, 429),\n",
              "  (430, 437),\n",
              "  (438, 440),\n",
              "  (441, 444),\n",
              "  (445, 446),\n",
              "  (446, 449),\n",
              "  (449, 451),\n",
              "  (452, 454),\n",
              "  (455, 458),\n",
              "  (458, 462),\n",
              "  (462, 463),\n",
              "  (464, 470),\n",
              "  (471, 476),\n",
              "  (477, 480),\n",
              "  (481, 487),\n",
              "  (488, 492),\n",
              "  (493, 500),\n",
              "  (500, 502),\n",
              "  (503, 511),\n",
              "  (512, 514),\n",
              "  (515, 520),\n",
              "  (521, 525),\n",
              "  (525, 528),\n",
              "  (528, 531),\n",
              "  (532, 534),\n",
              "  (534, 537),\n",
              "  (537, 541),\n",
              "  (542, 544),\n",
              "  (545, 549),\n",
              "  (549, 550),\n",
              "  (551, 553),\n",
              "  (554, 557),\n",
              "  (558, 561),\n",
              "  (562, 564),\n",
              "  (565, 568),\n",
              "  (569, 573),\n",
              "  (574, 579),\n",
              "  (580, 581),\n",
              "  (581, 584),\n",
              "  (585, 587),\n",
              "  (588, 589),\n",
              "  (590, 596),\n",
              "  (597, 601),\n",
              "  (602, 606),\n",
              "  (607, 615),\n",
              "  (616, 623),\n",
              "  (624, 625),\n",
              "  (0, 0)],\n",
              " [(0, 0),\n",
              "  (0, 2),\n",
              "  (3, 7),\n",
              "  (8, 11),\n",
              "  (12, 15),\n",
              "  (16, 22),\n",
              "  (23, 27),\n",
              "  (28, 37),\n",
              "  (38, 44),\n",
              "  (45, 47),\n",
              "  (48, 52),\n",
              "  (53, 55),\n",
              "  (56, 59),\n",
              "  (59, 63),\n",
              "  (64, 70),\n",
              "  (70, 71),\n",
              "  (0, 0),\n",
              "  (420, 421),\n",
              "  (422, 424),\n",
              "  (425, 427),\n",
              "  (428, 429),\n",
              "  (430, 437),\n",
              "  (438, 440),\n",
              "  (441, 444),\n",
              "  (445, 446),\n",
              "  (446, 449),\n",
              "  (449, 451),\n",
              "  (452, 454),\n",
              "  (455, 458),\n",
              "  (458, 462),\n",
              "  (462, 463),\n",
              "  (464, 470),\n",
              "  (471, 476),\n",
              "  (477, 480),\n",
              "  (481, 487),\n",
              "  (488, 492),\n",
              "  (493, 500),\n",
              "  (500, 502),\n",
              "  (503, 511),\n",
              "  (512, 514),\n",
              "  (515, 520),\n",
              "  (521, 525),\n",
              "  (525, 528),\n",
              "  (528, 531),\n",
              "  (532, 534),\n",
              "  (534, 537),\n",
              "  (537, 541),\n",
              "  (542, 544),\n",
              "  (545, 549),\n",
              "  (549, 550),\n",
              "  (551, 553),\n",
              "  (554, 557),\n",
              "  (558, 561),\n",
              "  (562, 564),\n",
              "  (565, 568),\n",
              "  (569, 573),\n",
              "  (574, 579),\n",
              "  (580, 581),\n",
              "  (581, 584),\n",
              "  (585, 587),\n",
              "  (588, 589),\n",
              "  (590, 596),\n",
              "  (597, 601),\n",
              "  (602, 606),\n",
              "  (607, 615),\n",
              "  (616, 623),\n",
              "  (624, 625),\n",
              "  (626, 633),\n",
              "  (634, 637),\n",
              "  (638, 641),\n",
              "  (642, 646),\n",
              "  (647, 651),\n",
              "  (651, 652),\n",
              "  (652, 653),\n",
              "  (654, 656),\n",
              "  (657, 658),\n",
              "  (659, 665),\n",
              "  (665, 666),\n",
              "  (667, 673),\n",
              "  (674, 679),\n",
              "  (680, 686),\n",
              "  (687, 689),\n",
              "  (690, 694),\n",
              "  (694, 695),\n",
              "  (0, 0)],\n",
              " [(0, 0),\n",
              "  (0, 4),\n",
              "  (5, 7),\n",
              "  (8, 10),\n",
              "  (11, 16),\n",
              "  (17, 19),\n",
              "  (20, 23),\n",
              "  (24, 29),\n",
              "  (30, 34),\n",
              "  (35, 39),\n",
              "  (40, 48),\n",
              "  (48, 49),\n",
              "  (0, 0),\n",
              "  (0, 13),\n",
              "  (13, 15),\n",
              "  (15, 16),\n",
              "  (17, 20),\n",
              "  (21, 27),\n",
              "  (28, 31),\n",
              "  (32, 33),\n",
              "  (34, 42),\n",
              "  (43, 52),\n",
              "  (52, 53),\n",
              "  (54, 56),\n",
              "  (56, 58),\n",
              "  (59, 62),\n",
              "  (63, 67),\n",
              "  (68, 76),\n",
              "  (76, 77),\n",
              "  (77, 78),\n",
              "  (79, 83),\n",
              "  (84, 88),\n",
              "  (89, 91),\n",
              "  (92, 93),\n",
              "  (94, 100),\n",
              "  (101, 107),\n",
              "  (108, 110),\n",
              "  (111, 114),\n",
              "  (115, 121),\n",
              "  (122, 126),\n",
              "  (126, 127),\n",
              "  (128, 139),\n",
              "  (140, 142),\n",
              "  (143, 148),\n",
              "  (149, 151),\n",
              "  (152, 155),\n",
              "  (156, 160),\n",
              "  (161, 169),\n",
              "  (170, 173),\n",
              "  (174, 180),\n",
              "  (181, 183),\n",
              "  (183, 184),\n",
              "  (185, 187),\n",
              "  (188, 189),\n",
              "  (190, 196),\n",
              "  (197, 203),\n",
              "  (204, 206),\n",
              "  (207, 213),\n",
              "  (214, 218),\n",
              "  (219, 223),\n",
              "  (224, 226),\n",
              "  (226, 229),\n",
              "  (229, 232),\n",
              "  (233, 237),\n",
              "  (238, 241),\n",
              "  (242, 248),\n",
              "  (249, 250),\n",
              "  (250, 251),\n",
              "  (251, 254),\n",
              "  (254, 256),\n",
              "  (257, 259),\n",
              "  (260, 262),\n",
              "  (263, 264),\n",
              "  (264, 265),\n",
              "  (265, 268),\n",
              "  (268, 269),\n",
              "  (269, 270),\n",
              "  (271, 275),\n",
              "  (276, 278),\n",
              "  (279, 282),\n",
              "  (283, 287),\n",
              "  (288, 296),\n",
              "  (297, 299),\n",
              "  (300, 303),\n",
              "  (304, 312),\n",
              "  (313, 315),\n",
              "  (316, 319),\n",
              "  (320, 326),\n",
              "  (327, 332),\n",
              "  (332, 333),\n",
              "  (334, 345),\n",
              "  (346, 352),\n",
              "  (353, 356),\n",
              "  (357, 358),\n",
              "  (358, 361),\n",
              "  (361, 365),\n",
              "  (366, 368),\n",
              "  (369, 372),\n",
              "  (373, 374),\n",
              "  (0, 0)],\n",
              " [(0, 0),\n",
              "  (0, 4),\n",
              "  (5, 7),\n",
              "  (8, 10),\n",
              "  (11, 16),\n",
              "  (17, 19),\n",
              "  (20, 23),\n",
              "  (24, 29),\n",
              "  (30, 34),\n",
              "  (35, 39),\n",
              "  (40, 48),\n",
              "  (48, 49),\n",
              "  (0, 0),\n",
              "  (174, 180),\n",
              "  (181, 183),\n",
              "  (183, 184),\n",
              "  (185, 187),\n",
              "  (188, 189),\n",
              "  (190, 196),\n",
              "  (197, 203),\n",
              "  (204, 206),\n",
              "  (207, 213),\n",
              "  (214, 218),\n",
              "  (219, 223),\n",
              "  (224, 226),\n",
              "  (226, 229),\n",
              "  (229, 232),\n",
              "  (233, 237),\n",
              "  (238, 241),\n",
              "  (242, 248),\n",
              "  (249, 250),\n",
              "  (250, 251),\n",
              "  (251, 254),\n",
              "  (254, 256),\n",
              "  (257, 259),\n",
              "  (260, 262),\n",
              "  (263, 264),\n",
              "  (264, 265),\n",
              "  (265, 268),\n",
              "  (268, 269),\n",
              "  (269, 270),\n",
              "  (271, 275),\n",
              "  (276, 278),\n",
              "  (279, 282),\n",
              "  (283, 287),\n",
              "  (288, 296),\n",
              "  (297, 299),\n",
              "  (300, 303),\n",
              "  (304, 312),\n",
              "  (313, 315),\n",
              "  (316, 319),\n",
              "  (320, 326),\n",
              "  (327, 332),\n",
              "  (332, 333),\n",
              "  (334, 345),\n",
              "  (346, 352),\n",
              "  (353, 356),\n",
              "  (357, 358),\n",
              "  (358, 361),\n",
              "  (361, 365),\n",
              "  (366, 368),\n",
              "  (369, 372),\n",
              "  (373, 374),\n",
              "  (374, 377),\n",
              "  (377, 379),\n",
              "  (379, 380),\n",
              "  (381, 382),\n",
              "  (383, 389),\n",
              "  (390, 395),\n",
              "  (396, 398),\n",
              "  (399, 405),\n",
              "  (406, 409),\n",
              "  (410, 420),\n",
              "  (420, 421),\n",
              "  (422, 424),\n",
              "  (425, 427),\n",
              "  (428, 429),\n",
              "  (430, 437),\n",
              "  (438, 440),\n",
              "  (441, 444),\n",
              "  (445, 446),\n",
              "  (446, 449),\n",
              "  (449, 451),\n",
              "  (452, 454),\n",
              "  (455, 458),\n",
              "  (458, 462),\n",
              "  (462, 463),\n",
              "  (464, 470),\n",
              "  (471, 476),\n",
              "  (477, 480),\n",
              "  (481, 487),\n",
              "  (488, 492),\n",
              "  (493, 500),\n",
              "  (500, 502),\n",
              "  (503, 511),\n",
              "  (512, 514),\n",
              "  (515, 520),\n",
              "  (521, 525),\n",
              "  (525, 528),\n",
              "  (0, 0)],\n",
              " [(0, 0),\n",
              "  (0, 4),\n",
              "  (5, 7),\n",
              "  (8, 10),\n",
              "  (11, 16),\n",
              "  (17, 19),\n",
              "  (20, 23),\n",
              "  (24, 29),\n",
              "  (30, 34),\n",
              "  (35, 39),\n",
              "  (40, 48),\n",
              "  (48, 49),\n",
              "  (0, 0),\n",
              "  (313, 315),\n",
              "  (316, 319),\n",
              "  (320, 326),\n",
              "  (327, 332),\n",
              "  (332, 333),\n",
              "  (334, 345),\n",
              "  (346, 352),\n",
              "  (353, 356),\n",
              "  (357, 358),\n",
              "  (358, 361),\n",
              "  (361, 365),\n",
              "  (366, 368),\n",
              "  (369, 372),\n",
              "  (373, 374),\n",
              "  (374, 377),\n",
              "  (377, 379),\n",
              "  (379, 380),\n",
              "  (381, 382),\n",
              "  (383, 389),\n",
              "  (390, 395),\n",
              "  (396, 398),\n",
              "  (399, 405),\n",
              "  (406, 409),\n",
              "  (410, 420),\n",
              "  (420, 421),\n",
              "  (422, 424),\n",
              "  (425, 427),\n",
              "  (428, 429),\n",
              "  (430, 437),\n",
              "  (438, 440),\n",
              "  (441, 444),\n",
              "  (445, 446),\n",
              "  (446, 449),\n",
              "  (449, 451),\n",
              "  (452, 454),\n",
              "  (455, 458),\n",
              "  (458, 462),\n",
              "  (462, 463),\n",
              "  (464, 470),\n",
              "  (471, 476),\n",
              "  (477, 480),\n",
              "  (481, 487),\n",
              "  (488, 492),\n",
              "  (493, 500),\n",
              "  (500, 502),\n",
              "  (503, 511),\n",
              "  (512, 514),\n",
              "  (515, 520),\n",
              "  (521, 525),\n",
              "  (525, 528),\n",
              "  (528, 531),\n",
              "  (532, 534),\n",
              "  (534, 537),\n",
              "  (537, 541),\n",
              "  (542, 544),\n",
              "  (545, 549),\n",
              "  (549, 550),\n",
              "  (551, 553),\n",
              "  (554, 557),\n",
              "  (558, 561),\n",
              "  (562, 564),\n",
              "  (565, 568),\n",
              "  (569, 573),\n",
              "  (574, 579),\n",
              "  (580, 581),\n",
              "  (581, 584),\n",
              "  (585, 587),\n",
              "  (588, 589),\n",
              "  (590, 596),\n",
              "  (597, 601),\n",
              "  (602, 606),\n",
              "  (607, 615),\n",
              "  (616, 623),\n",
              "  (624, 625),\n",
              "  (626, 633),\n",
              "  (634, 637),\n",
              "  (638, 641),\n",
              "  (642, 646),\n",
              "  (647, 651),\n",
              "  (651, 652),\n",
              "  (652, 653),\n",
              "  (654, 656),\n",
              "  (657, 658),\n",
              "  (659, 665),\n",
              "  (665, 666),\n",
              "  (667, 673),\n",
              "  (0, 0)],\n",
              " [(0, 0),\n",
              "  (0, 4),\n",
              "  (5, 7),\n",
              "  (8, 10),\n",
              "  (11, 16),\n",
              "  (17, 19),\n",
              "  (20, 23),\n",
              "  (24, 29),\n",
              "  (30, 34),\n",
              "  (35, 39),\n",
              "  (40, 48),\n",
              "  (48, 49),\n",
              "  (0, 0),\n",
              "  (458, 462),\n",
              "  (462, 463),\n",
              "  (464, 470),\n",
              "  (471, 476),\n",
              "  (477, 480),\n",
              "  (481, 487),\n",
              "  (488, 492),\n",
              "  (493, 500),\n",
              "  (500, 502),\n",
              "  (503, 511),\n",
              "  (512, 514),\n",
              "  (515, 520),\n",
              "  (521, 525),\n",
              "  (525, 528),\n",
              "  (528, 531),\n",
              "  (532, 534),\n",
              "  (534, 537),\n",
              "  (537, 541),\n",
              "  (542, 544),\n",
              "  (545, 549),\n",
              "  (549, 550),\n",
              "  (551, 553),\n",
              "  (554, 557),\n",
              "  (558, 561),\n",
              "  (562, 564),\n",
              "  (565, 568),\n",
              "  (569, 573),\n",
              "  (574, 579),\n",
              "  (580, 581),\n",
              "  (581, 584),\n",
              "  (585, 587),\n",
              "  (588, 589),\n",
              "  (590, 596),\n",
              "  (597, 601),\n",
              "  (602, 606),\n",
              "  (607, 615),\n",
              "  (616, 623),\n",
              "  (624, 625),\n",
              "  (626, 633),\n",
              "  (634, 637),\n",
              "  (638, 641),\n",
              "  (642, 646),\n",
              "  (647, 651),\n",
              "  (651, 652),\n",
              "  (652, 653),\n",
              "  (654, 656),\n",
              "  (657, 658),\n",
              "  (659, 665),\n",
              "  (665, 666),\n",
              "  (667, 673),\n",
              "  (674, 679),\n",
              "  (680, 686),\n",
              "  (687, 689),\n",
              "  (690, 694),\n",
              "  (694, 695),\n",
              "  (0, 0)],\n",
              " [(0, 0),\n",
              "  (0, 3),\n",
              "  (4, 12),\n",
              "  (13, 15),\n",
              "  (16, 19),\n",
              "  (20, 26),\n",
              "  (27, 32),\n",
              "  (33, 35),\n",
              "  (36, 41),\n",
              "  (42, 46),\n",
              "  (47, 49),\n",
              "  (50, 56),\n",
              "  (57, 59),\n",
              "  (60, 65),\n",
              "  (66, 75),\n",
              "  (75, 76),\n",
              "  (0, 0),\n",
              "  (0, 13),\n",
              "  (13, 15),\n",
              "  (15, 16),\n",
              "  (17, 20),\n",
              "  (21, 27),\n",
              "  (28, 31),\n",
              "  (32, 33),\n",
              "  (34, 42),\n",
              "  (43, 52),\n",
              "  (52, 53),\n",
              "  (54, 56),\n",
              "  (56, 58),\n",
              "  (59, 62),\n",
              "  (63, 67),\n",
              "  (68, 76),\n",
              "  (76, 77),\n",
              "  (77, 78),\n",
              "  (79, 83),\n",
              "  (84, 88),\n",
              "  (89, 91),\n",
              "  (92, 93),\n",
              "  (94, 100),\n",
              "  (101, 107),\n",
              "  (108, 110),\n",
              "  (111, 114),\n",
              "  (115, 121),\n",
              "  (122, 126),\n",
              "  (126, 127),\n",
              "  (128, 139),\n",
              "  (140, 142),\n",
              "  (143, 148),\n",
              "  (149, 151),\n",
              "  (152, 155),\n",
              "  (156, 160),\n",
              "  (161, 169),\n",
              "  (170, 173),\n",
              "  (174, 180),\n",
              "  (181, 183),\n",
              "  (183, 184),\n",
              "  (185, 187),\n",
              "  (188, 189),\n",
              "  (190, 196),\n",
              "  (197, 203),\n",
              "  (204, 206),\n",
              "  (207, 213),\n",
              "  (214, 218),\n",
              "  (219, 223),\n",
              "  (224, 226),\n",
              "  (226, 229),\n",
              "  (229, 232),\n",
              "  (233, 237),\n",
              "  (238, 241),\n",
              "  (242, 248),\n",
              "  (249, 250),\n",
              "  (250, 251),\n",
              "  (251, 254),\n",
              "  (254, 256),\n",
              "  (257, 259),\n",
              "  (260, 262),\n",
              "  (263, 264),\n",
              "  (264, 265),\n",
              "  (265, 268),\n",
              "  (268, 269),\n",
              "  (269, 270),\n",
              "  (271, 275),\n",
              "  (276, 278),\n",
              "  (279, 282),\n",
              "  (283, 287),\n",
              "  (288, 296),\n",
              "  (297, 299),\n",
              "  (300, 303),\n",
              "  (304, 312),\n",
              "  (313, 315),\n",
              "  (316, 319),\n",
              "  (320, 326),\n",
              "  (327, 332),\n",
              "  (332, 333),\n",
              "  (334, 345),\n",
              "  (346, 352),\n",
              "  (353, 356),\n",
              "  (357, 358),\n",
              "  (358, 361),\n",
              "  (0, 0)],\n",
              " [(0, 0),\n",
              "  (0, 3),\n",
              "  (4, 12),\n",
              "  (13, 15),\n",
              "  (16, 19),\n",
              "  (20, 26),\n",
              "  (27, 32),\n",
              "  (33, 35),\n",
              "  (36, 41),\n",
              "  (42, 46),\n",
              "  (47, 49),\n",
              "  (50, 56),\n",
              "  (57, 59),\n",
              "  (60, 65),\n",
              "  (66, 75),\n",
              "  (75, 76),\n",
              "  (0, 0),\n",
              "  (152, 155),\n",
              "  (156, 160),\n",
              "  (161, 169),\n",
              "  (170, 173),\n",
              "  (174, 180),\n",
              "  (181, 183),\n",
              "  (183, 184),\n",
              "  (185, 187),\n",
              "  (188, 189),\n",
              "  (190, 196),\n",
              "  (197, 203),\n",
              "  (204, 206),\n",
              "  (207, 213),\n",
              "  (214, 218),\n",
              "  (219, 223),\n",
              "  (224, 226),\n",
              "  (226, 229),\n",
              "  (229, 232),\n",
              "  (233, 237),\n",
              "  (238, 241),\n",
              "  (242, 248),\n",
              "  (249, 250),\n",
              "  (250, 251),\n",
              "  (251, 254),\n",
              "  (254, 256),\n",
              "  (257, 259),\n",
              "  (260, 262),\n",
              "  (263, 264),\n",
              "  (264, 265),\n",
              "  (265, 268),\n",
              "  (268, 269),\n",
              "  (269, 270),\n",
              "  (271, 275),\n",
              "  (276, 278),\n",
              "  (279, 282),\n",
              "  (283, 287),\n",
              "  (288, 296),\n",
              "  (297, 299),\n",
              "  (300, 303),\n",
              "  (304, 312),\n",
              "  (313, 315),\n",
              "  (316, 319),\n",
              "  (320, 326),\n",
              "  (327, 332),\n",
              "  (332, 333),\n",
              "  (334, 345),\n",
              "  (346, 352),\n",
              "  (353, 356),\n",
              "  (357, 358),\n",
              "  (358, 361),\n",
              "  (361, 365),\n",
              "  (366, 368),\n",
              "  (369, 372),\n",
              "  (373, 374),\n",
              "  (374, 377),\n",
              "  (377, 379),\n",
              "  (379, 380),\n",
              "  (381, 382),\n",
              "  (383, 389),\n",
              "  (390, 395),\n",
              "  (396, 398),\n",
              "  (399, 405),\n",
              "  (406, 409),\n",
              "  (410, 420),\n",
              "  (420, 421),\n",
              "  (422, 424),\n",
              "  (425, 427),\n",
              "  (428, 429),\n",
              "  (430, 437),\n",
              "  (438, 440),\n",
              "  (441, 444),\n",
              "  (445, 446),\n",
              "  (446, 449),\n",
              "  (449, 451),\n",
              "  (452, 454),\n",
              "  (455, 458),\n",
              "  (458, 462),\n",
              "  (462, 463),\n",
              "  (464, 470),\n",
              "  (471, 476),\n",
              "  (477, 480),\n",
              "  (481, 487),\n",
              "  (0, 0)],\n",
              " [(0, 0),\n",
              "  (0, 3),\n",
              "  (4, 12),\n",
              "  (13, 15),\n",
              "  (16, 19),\n",
              "  (20, 26),\n",
              "  (27, 32),\n",
              "  (33, 35),\n",
              "  (36, 41),\n",
              "  (42, 46),\n",
              "  (47, 49),\n",
              "  (50, 56),\n",
              "  (57, 59),\n",
              "  (60, 65),\n",
              "  (66, 75),\n",
              "  (75, 76),\n",
              "  (0, 0),\n",
              "  (271, 275),\n",
              "  (276, 278),\n",
              "  (279, 282),\n",
              "  (283, 287),\n",
              "  (288, 296),\n",
              "  (297, 299),\n",
              "  (300, 303),\n",
              "  (304, 312),\n",
              "  (313, 315),\n",
              "  (316, 319),\n",
              "  (320, 326),\n",
              "  (327, 332),\n",
              "  (332, 333),\n",
              "  (334, 345),\n",
              "  (346, 352),\n",
              "  (353, 356),\n",
              "  (357, 358),\n",
              "  (358, 361),\n",
              "  (361, 365),\n",
              "  (366, 368),\n",
              "  (369, 372),\n",
              "  (373, 374),\n",
              "  (374, 377),\n",
              "  (377, 379),\n",
              "  (379, 380),\n",
              "  (381, 382),\n",
              "  (383, 389),\n",
              "  (390, 395),\n",
              "  (396, 398),\n",
              "  (399, 405),\n",
              "  (406, 409),\n",
              "  (410, 420),\n",
              "  (420, 421),\n",
              "  (422, 424),\n",
              "  (425, 427),\n",
              "  (428, 429),\n",
              "  (430, 437),\n",
              "  (438, 440),\n",
              "  (441, 444),\n",
              "  (445, 446),\n",
              "  (446, 449),\n",
              "  (449, 451),\n",
              "  (452, 454),\n",
              "  (455, 458),\n",
              "  (458, 462),\n",
              "  (462, 463),\n",
              "  (464, 470),\n",
              "  (471, 476),\n",
              "  (477, 480),\n",
              "  (481, 487),\n",
              "  (488, 492),\n",
              "  (493, 500),\n",
              "  (500, 502),\n",
              "  (503, 511),\n",
              "  (512, 514),\n",
              "  (515, 520),\n",
              "  (521, 525),\n",
              "  (525, 528),\n",
              "  (528, 531),\n",
              "  (532, 534),\n",
              "  (534, 537),\n",
              "  (537, 541),\n",
              "  (542, 544),\n",
              "  (545, 549),\n",
              "  (549, 550),\n",
              "  (551, 553),\n",
              "  (554, 557),\n",
              "  (558, 561),\n",
              "  (562, 564),\n",
              "  (565, 568),\n",
              "  (569, 573),\n",
              "  (574, 579),\n",
              "  (580, 581),\n",
              "  (581, 584),\n",
              "  (585, 587),\n",
              "  (588, 589),\n",
              "  (590, 596),\n",
              "  (597, 601),\n",
              "  (602, 606),\n",
              "  (607, 615),\n",
              "  (616, 623),\n",
              "  (624, 625),\n",
              "  (0, 0)],\n",
              " [(0, 0),\n",
              "  (0, 3),\n",
              "  (4, 12),\n",
              "  (13, 15),\n",
              "  (16, 19),\n",
              "  (20, 26),\n",
              "  (27, 32),\n",
              "  (33, 35),\n",
              "  (36, 41),\n",
              "  (42, 46),\n",
              "  (47, 49),\n",
              "  (50, 56),\n",
              "  (57, 59),\n",
              "  (60, 65),\n",
              "  (66, 75),\n",
              "  (75, 76),\n",
              "  (0, 0),\n",
              "  (420, 421),\n",
              "  (422, 424),\n",
              "  (425, 427),\n",
              "  (428, 429),\n",
              "  (430, 437),\n",
              "  (438, 440),\n",
              "  (441, 444),\n",
              "  (445, 446),\n",
              "  (446, 449),\n",
              "  (449, 451),\n",
              "  (452, 454),\n",
              "  (455, 458),\n",
              "  (458, 462),\n",
              "  (462, 463),\n",
              "  (464, 470),\n",
              "  (471, 476),\n",
              "  (477, 480),\n",
              "  (481, 487),\n",
              "  (488, 492),\n",
              "  (493, 500),\n",
              "  (500, 502),\n",
              "  (503, 511),\n",
              "  (512, 514),\n",
              "  (515, 520),\n",
              "  (521, 525),\n",
              "  (525, 528),\n",
              "  (528, 531),\n",
              "  (532, 534),\n",
              "  (534, 537),\n",
              "  (537, 541),\n",
              "  (542, 544),\n",
              "  (545, 549),\n",
              "  (549, 550),\n",
              "  (551, 553),\n",
              "  (554, 557),\n",
              "  (558, 561),\n",
              "  (562, 564),\n",
              "  (565, 568),\n",
              "  (569, 573),\n",
              "  (574, 579),\n",
              "  (580, 581),\n",
              "  (581, 584),\n",
              "  (585, 587),\n",
              "  (588, 589),\n",
              "  (590, 596),\n",
              "  (597, 601),\n",
              "  (602, 606),\n",
              "  (607, 615),\n",
              "  (616, 623),\n",
              "  (624, 625),\n",
              "  (626, 633),\n",
              "  (634, 637),\n",
              "  (638, 641),\n",
              "  (642, 646),\n",
              "  (647, 651),\n",
              "  (651, 652),\n",
              "  (652, 653),\n",
              "  (654, 656),\n",
              "  (657, 658),\n",
              "  (659, 665),\n",
              "  (665, 666),\n",
              "  (667, 673),\n",
              "  (674, 679),\n",
              "  (680, 686),\n",
              "  (687, 689),\n",
              "  (690, 694),\n",
              "  (694, 695),\n",
              "  (0, 0)]]"
            ]
          },
          "metadata": {},
          "execution_count": 127
        }
      ]
    },
    {
      "cell_type": "markdown",
      "source": [
        "👆 List of lists of tuples.\n",
        "\n",
        "(0, 0) -> [CLS] and [SEP]\n",
        "\n",
        "![image.png](data:image/png;base64,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)"
      ],
      "metadata": {
        "id": "ixjRNIaCXRYC"
      }
    },
    {
      "cell_type": "code",
      "source": [
        "len(inputs['offset_mapping']) # 12 sub-lists"
      ],
      "metadata": {
        "colab": {
          "base_uri": "https://localhost:8080/"
        },
        "id": "KDzo677Bb6-m",
        "outputId": "76ff9bd4-409f-4223-94c5-726360469bee"
      },
      "execution_count": 128,
      "outputs": [
        {
          "output_type": "execute_result",
          "data": {
            "text/plain": [
              "12"
            ]
          },
          "metadata": {},
          "execution_count": 128
        }
      ]
    },
    {
      "cell_type": "code",
      "source": [
        "len(inputs['offset_mapping'][0]) # the first sub-list consists 100 tuples"
      ],
      "metadata": {
        "colab": {
          "base_uri": "https://localhost:8080/"
        },
        "id": "q5BA-28qcRSN",
        "outputId": "eb7cffc8-8c1b-457b-9dcc-652a9cd6909e"
      },
      "execution_count": 129,
      "outputs": [
        {
          "output_type": "execute_result",
          "data": {
            "text/plain": [
              "100"
            ]
          },
          "metadata": {},
          "execution_count": 129
        }
      ]
    },
    {
      "cell_type": "markdown",
      "source": [
        "👆 max_length=100"
      ],
      "metadata": {
        "id": "A2kqJq1Lf6Bl"
      }
    },
    {
      "cell_type": "code",
      "source": [
        "len(inputs['offset_mapping'][11]) # the last sub-list only consists 85 tuples"
      ],
      "metadata": {
        "colab": {
          "base_uri": "https://localhost:8080/"
        },
        "id": "FuJ10D9bf8YB",
        "outputId": "c3ab00f4-3eb6-4f3c-e737-23668b99f6ab"
      },
      "execution_count": 130,
      "outputs": [
        {
          "output_type": "execute_result",
          "data": {
            "text/plain": [
              "85"
            ]
          },
          "metadata": {},
          "execution_count": 130
        }
      ]
    },
    {
      "cell_type": "markdown",
      "source": [
        "👆 Some inputs may not be of size 100, as 'return_overflowing_tokens=True' includes additional tokens that couldn't fit within the specified length."
      ],
      "metadata": {
        "id": "hcG4lFXpgXom"
      }
    },
    {
      "cell_type": "code",
      "source": [
        "# 2. inspect the value associated with the 'overflow_to_sample_mapping' key:\n",
        "inputs['overflow_to_sample_mapping']"
      ],
      "metadata": {
        "colab": {
          "base_uri": "https://localhost:8080/"
        },
        "id": "Bu5L03iiVALw",
        "outputId": "0b3f52dd-cde3-4a0b-ab5e-20bc13d7fa3f"
      },
      "execution_count": 131,
      "outputs": [
        {
          "output_type": "execute_result",
          "data": {
            "text/plain": [
              "[0, 0, 0, 0, 1, 1, 1, 1, 2, 2, 2, 2]"
            ]
          },
          "metadata": {},
          "execution_count": 131
        }
      ]
    },
    {
      "cell_type": "markdown",
      "source": [
        "![image.png](data:image/png;base64,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)\n",
        "\n",
        "👆 0 corresponds to the tokenized question sequence, and 1 corresponds to the tokenized context sequence."
      ],
      "metadata": {
        "id": "B93nNcqNtnyM"
      }
    },
    {
      "cell_type": "code",
      "source": [
        "# recreate inputs for just a single context-question pair:\n",
        "inputs = tokenizer(\n",
        "    question,\n",
        "    context,\n",
        "    max_length=100,\n",
        "    truncation=\"only_second\",\n",
        "    stride=50,\n",
        "    return_overflowing_tokens=True,\n",
        "    return_offsets_mapping=True,\n",
        ")\n",
        "\n",
        "inputs.keys()"
      ],
      "metadata": {
        "colab": {
          "base_uri": "https://localhost:8080/"
        },
        "id": "hvINZV2Sttq6",
        "outputId": "6aaa4b7b-a3d1-4bc2-8694-91e08f16305d"
      },
      "execution_count": 132,
      "outputs": [
        {
          "output_type": "execute_result",
          "data": {
            "text/plain": [
              "dict_keys(['input_ids', 'attention_mask', 'offset_mapping', 'overflow_to_sample_mapping'])"
            ]
          },
          "metadata": {},
          "execution_count": 132
        }
      ]
    },
    {
      "cell_type": "code",
      "source": [
        "len(inputs['offset_mapping'])"
      ],
      "metadata": {
        "colab": {
          "base_uri": "https://localhost:8080/"
        },
        "id": "cQcFiBTKcqHt",
        "outputId": "5f86ceab-031d-401f-8b23-e6c0338d39e2"
      },
      "execution_count": 133,
      "outputs": [
        {
          "output_type": "execute_result",
          "data": {
            "text/plain": [
              "4"
            ]
          },
          "metadata": {},
          "execution_count": 133
        }
      ]
    },
    {
      "cell_type": "code",
      "source": [
        "inputs['offset_mapping']"
      ],
      "metadata": {
        "colab": {
          "base_uri": "https://localhost:8080/"
        },
        "id": "Ho577xRZRwii",
        "outputId": "d06599fc-d924-4d5b-ee82-9a062e7b9b96"
      },
      "execution_count": 134,
      "outputs": [
        {
          "output_type": "execute_result",
          "data": {
            "text/plain": [
              "[[(0, 0),\n",
              "  (0, 4),\n",
              "  (5, 7),\n",
              "  (8, 10),\n",
              "  (11, 16),\n",
              "  (17, 19),\n",
              "  (20, 23),\n",
              "  (24, 29),\n",
              "  (30, 34),\n",
              "  (35, 39),\n",
              "  (40, 48),\n",
              "  (48, 49),\n",
              "  (0, 0),\n",
              "  (0, 13),\n",
              "  (13, 15),\n",
              "  (15, 16),\n",
              "  (17, 20),\n",
              "  (21, 27),\n",
              "  (28, 31),\n",
              "  (32, 33),\n",
              "  (34, 42),\n",
              "  (43, 52),\n",
              "  (52, 53),\n",
              "  (54, 56),\n",
              "  (56, 58),\n",
              "  (59, 62),\n",
              "  (63, 67),\n",
              "  (68, 76),\n",
              "  (76, 77),\n",
              "  (77, 78),\n",
              "  (79, 83),\n",
              "  (84, 88),\n",
              "  (89, 91),\n",
              "  (92, 93),\n",
              "  (94, 100),\n",
              "  (101, 107),\n",
              "  (108, 110),\n",
              "  (111, 114),\n",
              "  (115, 121),\n",
              "  (122, 126),\n",
              "  (126, 127),\n",
              "  (128, 139),\n",
              "  (140, 142),\n",
              "  (143, 148),\n",
              "  (149, 151),\n",
              "  (152, 155),\n",
              "  (156, 160),\n",
              "  (161, 169),\n",
              "  (170, 173),\n",
              "  (174, 180),\n",
              "  (181, 183),\n",
              "  (183, 184),\n",
              "  (185, 187),\n",
              "  (188, 189),\n",
              "  (190, 196),\n",
              "  (197, 203),\n",
              "  (204, 206),\n",
              "  (207, 213),\n",
              "  (214, 218),\n",
              "  (219, 223),\n",
              "  (224, 226),\n",
              "  (226, 229),\n",
              "  (229, 232),\n",
              "  (233, 237),\n",
              "  (238, 241),\n",
              "  (242, 248),\n",
              "  (249, 250),\n",
              "  (250, 251),\n",
              "  (251, 254),\n",
              "  (254, 256),\n",
              "  (257, 259),\n",
              "  (260, 262),\n",
              "  (263, 264),\n",
              "  (264, 265),\n",
              "  (265, 268),\n",
              "  (268, 269),\n",
              "  (269, 270),\n",
              "  (271, 275),\n",
              "  (276, 278),\n",
              "  (279, 282),\n",
              "  (283, 287),\n",
              "  (288, 296),\n",
              "  (297, 299),\n",
              "  (300, 303),\n",
              "  (304, 312),\n",
              "  (313, 315),\n",
              "  (316, 319),\n",
              "  (320, 326),\n",
              "  (327, 332),\n",
              "  (332, 333),\n",
              "  (334, 345),\n",
              "  (346, 352),\n",
              "  (353, 356),\n",
              "  (357, 358),\n",
              "  (358, 361),\n",
              "  (361, 365),\n",
              "  (366, 368),\n",
              "  (369, 372),\n",
              "  (373, 374),\n",
              "  (0, 0)],\n",
              " [(0, 0),\n",
              "  (0, 4),\n",
              "  (5, 7),\n",
              "  (8, 10),\n",
              "  (11, 16),\n",
              "  (17, 19),\n",
              "  (20, 23),\n",
              "  (24, 29),\n",
              "  (30, 34),\n",
              "  (35, 39),\n",
              "  (40, 48),\n",
              "  (48, 49),\n",
              "  (0, 0),\n",
              "  (174, 180),\n",
              "  (181, 183),\n",
              "  (183, 184),\n",
              "  (185, 187),\n",
              "  (188, 189),\n",
              "  (190, 196),\n",
              "  (197, 203),\n",
              "  (204, 206),\n",
              "  (207, 213),\n",
              "  (214, 218),\n",
              "  (219, 223),\n",
              "  (224, 226),\n",
              "  (226, 229),\n",
              "  (229, 232),\n",
              "  (233, 237),\n",
              "  (238, 241),\n",
              "  (242, 248),\n",
              "  (249, 250),\n",
              "  (250, 251),\n",
              "  (251, 254),\n",
              "  (254, 256),\n",
              "  (257, 259),\n",
              "  (260, 262),\n",
              "  (263, 264),\n",
              "  (264, 265),\n",
              "  (265, 268),\n",
              "  (268, 269),\n",
              "  (269, 270),\n",
              "  (271, 275),\n",
              "  (276, 278),\n",
              "  (279, 282),\n",
              "  (283, 287),\n",
              "  (288, 296),\n",
              "  (297, 299),\n",
              "  (300, 303),\n",
              "  (304, 312),\n",
              "  (313, 315),\n",
              "  (316, 319),\n",
              "  (320, 326),\n",
              "  (327, 332),\n",
              "  (332, 333),\n",
              "  (334, 345),\n",
              "  (346, 352),\n",
              "  (353, 356),\n",
              "  (357, 358),\n",
              "  (358, 361),\n",
              "  (361, 365),\n",
              "  (366, 368),\n",
              "  (369, 372),\n",
              "  (373, 374),\n",
              "  (374, 377),\n",
              "  (377, 379),\n",
              "  (379, 380),\n",
              "  (381, 382),\n",
              "  (383, 389),\n",
              "  (390, 395),\n",
              "  (396, 398),\n",
              "  (399, 405),\n",
              "  (406, 409),\n",
              "  (410, 420),\n",
              "  (420, 421),\n",
              "  (422, 424),\n",
              "  (425, 427),\n",
              "  (428, 429),\n",
              "  (430, 437),\n",
              "  (438, 440),\n",
              "  (441, 444),\n",
              "  (445, 446),\n",
              "  (446, 449),\n",
              "  (449, 451),\n",
              "  (452, 454),\n",
              "  (455, 458),\n",
              "  (458, 462),\n",
              "  (462, 463),\n",
              "  (464, 470),\n",
              "  (471, 476),\n",
              "  (477, 480),\n",
              "  (481, 487),\n",
              "  (488, 492),\n",
              "  (493, 500),\n",
              "  (500, 502),\n",
              "  (503, 511),\n",
              "  (512, 514),\n",
              "  (515, 520),\n",
              "  (521, 525),\n",
              "  (525, 528),\n",
              "  (0, 0)],\n",
              " [(0, 0),\n",
              "  (0, 4),\n",
              "  (5, 7),\n",
              "  (8, 10),\n",
              "  (11, 16),\n",
              "  (17, 19),\n",
              "  (20, 23),\n",
              "  (24, 29),\n",
              "  (30, 34),\n",
              "  (35, 39),\n",
              "  (40, 48),\n",
              "  (48, 49),\n",
              "  (0, 0),\n",
              "  (313, 315),\n",
              "  (316, 319),\n",
              "  (320, 326),\n",
              "  (327, 332),\n",
              "  (332, 333),\n",
              "  (334, 345),\n",
              "  (346, 352),\n",
              "  (353, 356),\n",
              "  (357, 358),\n",
              "  (358, 361),\n",
              "  (361, 365),\n",
              "  (366, 368),\n",
              "  (369, 372),\n",
              "  (373, 374),\n",
              "  (374, 377),\n",
              "  (377, 379),\n",
              "  (379, 380),\n",
              "  (381, 382),\n",
              "  (383, 389),\n",
              "  (390, 395),\n",
              "  (396, 398),\n",
              "  (399, 405),\n",
              "  (406, 409),\n",
              "  (410, 420),\n",
              "  (420, 421),\n",
              "  (422, 424),\n",
              "  (425, 427),\n",
              "  (428, 429),\n",
              "  (430, 437),\n",
              "  (438, 440),\n",
              "  (441, 444),\n",
              "  (445, 446),\n",
              "  (446, 449),\n",
              "  (449, 451),\n",
              "  (452, 454),\n",
              "  (455, 458),\n",
              "  (458, 462),\n",
              "  (462, 463),\n",
              "  (464, 470),\n",
              "  (471, 476),\n",
              "  (477, 480),\n",
              "  (481, 487),\n",
              "  (488, 492),\n",
              "  (493, 500),\n",
              "  (500, 502),\n",
              "  (503, 511),\n",
              "  (512, 514),\n",
              "  (515, 520),\n",
              "  (521, 525),\n",
              "  (525, 528),\n",
              "  (528, 531),\n",
              "  (532, 534),\n",
              "  (534, 537),\n",
              "  (537, 541),\n",
              "  (542, 544),\n",
              "  (545, 549),\n",
              "  (549, 550),\n",
              "  (551, 553),\n",
              "  (554, 557),\n",
              "  (558, 561),\n",
              "  (562, 564),\n",
              "  (565, 568),\n",
              "  (569, 573),\n",
              "  (574, 579),\n",
              "  (580, 581),\n",
              "  (581, 584),\n",
              "  (585, 587),\n",
              "  (588, 589),\n",
              "  (590, 596),\n",
              "  (597, 601),\n",
              "  (602, 606),\n",
              "  (607, 615),\n",
              "  (616, 623),\n",
              "  (624, 625),\n",
              "  (626, 633),\n",
              "  (634, 637),\n",
              "  (638, 641),\n",
              "  (642, 646),\n",
              "  (647, 651),\n",
              "  (651, 652),\n",
              "  (652, 653),\n",
              "  (654, 656),\n",
              "  (657, 658),\n",
              "  (659, 665),\n",
              "  (665, 666),\n",
              "  (667, 673),\n",
              "  (0, 0)],\n",
              " [(0, 0),\n",
              "  (0, 4),\n",
              "  (5, 7),\n",
              "  (8, 10),\n",
              "  (11, 16),\n",
              "  (17, 19),\n",
              "  (20, 23),\n",
              "  (24, 29),\n",
              "  (30, 34),\n",
              "  (35, 39),\n",
              "  (40, 48),\n",
              "  (48, 49),\n",
              "  (0, 0),\n",
              "  (458, 462),\n",
              "  (462, 463),\n",
              "  (464, 470),\n",
              "  (471, 476),\n",
              "  (477, 480),\n",
              "  (481, 487),\n",
              "  (488, 492),\n",
              "  (493, 500),\n",
              "  (500, 502),\n",
              "  (503, 511),\n",
              "  (512, 514),\n",
              "  (515, 520),\n",
              "  (521, 525),\n",
              "  (525, 528),\n",
              "  (528, 531),\n",
              "  (532, 534),\n",
              "  (534, 537),\n",
              "  (537, 541),\n",
              "  (542, 544),\n",
              "  (545, 549),\n",
              "  (549, 550),\n",
              "  (551, 553),\n",
              "  (554, 557),\n",
              "  (558, 561),\n",
              "  (562, 564),\n",
              "  (565, 568),\n",
              "  (569, 573),\n",
              "  (574, 579),\n",
              "  (580, 581),\n",
              "  (581, 584),\n",
              "  (585, 587),\n",
              "  (588, 589),\n",
              "  (590, 596),\n",
              "  (597, 601),\n",
              "  (602, 606),\n",
              "  (607, 615),\n",
              "  (616, 623),\n",
              "  (624, 625),\n",
              "  (626, 633),\n",
              "  (634, 637),\n",
              "  (638, 641),\n",
              "  (642, 646),\n",
              "  (647, 651),\n",
              "  (651, 652),\n",
              "  (652, 653),\n",
              "  (654, 656),\n",
              "  (657, 658),\n",
              "  (659, 665),\n",
              "  (665, 666),\n",
              "  (667, 673),\n",
              "  (674, 679),\n",
              "  (680, 686),\n",
              "  (687, 689),\n",
              "  (690, 694),\n",
              "  (694, 695),\n",
              "  (0, 0)]]"
            ]
          },
          "metadata": {},
          "execution_count": 134
        }
      ]
    },
    {
      "cell_type": "code",
      "source": [
        "len(inputs['offset_mapping'][0])"
      ],
      "metadata": {
        "colab": {
          "base_uri": "https://localhost:8080/"
        },
        "id": "prULa0jccvgI",
        "outputId": "271c7d75-4ef3-482f-cda2-f2365c9ae7e2"
      },
      "execution_count": 135,
      "outputs": [
        {
          "output_type": "execute_result",
          "data": {
            "text/plain": [
              "100"
            ]
          },
          "metadata": {},
          "execution_count": 135
        }
      ]
    },
    {
      "cell_type": "code",
      "source": [
        "inputs"
      ],
      "metadata": {
        "colab": {
          "base_uri": "https://localhost:8080/"
        },
        "id": "1QRPDsCJc4ax",
        "outputId": "7339a88f-e4c7-436c-d8ab-dc458c67e065"
      },
      "execution_count": 136,
      "outputs": [
        {
          "output_type": "execute_result",
          "data": {
            "text/plain": [
              "{'input_ids': [[101, 1327, 1110, 1107, 1524, 1104, 1103, 10360, 8022, 4304, 4334, 136, 102, 22182, 1193, 117, 1103, 1278, 1144, 170, 2336, 1959, 119, 1335, 4184, 1103, 4304, 4334, 112, 188, 2284, 10945, 1110, 170, 5404, 5921, 1104, 1103, 6567, 2090, 119, 13301, 1107, 1524, 1104, 1103, 4304, 4334, 1105, 4749, 1122, 117, 1110, 170, 7335, 5921, 1104, 4028, 1114, 1739, 1146, 14089, 5591, 1114, 1103, 7051, 107, 159, 21462, 1566, 24930, 2508, 152, 1306, 3965, 107, 119, 5893, 1106, 1103, 4304, 4334, 1110, 1103, 19349, 1104, 1103, 11373, 4641, 119, 13301, 1481, 1103, 171, 17506, 9538, 1110, 1103, 144, 102], [101, 1327, 1110, 1107, 1524, 1104, 1103, 10360, 8022, 4304, 4334, 136, 102, 4749, 1122, 117, 1110, 170, 7335, 5921, 1104, 4028, 1114, 1739, 1146, 14089, 5591, 1114, 1103, 7051, 107, 159, 21462, 1566, 24930, 2508, 152, 1306, 3965, 107, 119, 5893, 1106, 1103, 4304, 4334, 1110, 1103, 19349, 1104, 1103, 11373, 4641, 119, 13301, 1481, 1103, 171, 17506, 9538, 1110, 1103, 144, 10595, 2430, 117, 170, 14789, 1282, 1104, 8070, 1105, 9284, 119, 1135, 1110, 170, 16498, 1104, 1103, 176, 10595, 2430, 1120, 10111, 20500, 117, 1699, 1187, 1103, 6567, 2090, 25153, 1193, 1691, 1106, 2216, 17666, 6397, 102], [101, 1327, 1110, 1107, 1524, 1104, 1103, 10360, 8022, 4304, 4334, 136, 102, 1104, 1103, 11373, 4641, 119, 13301, 1481, 1103, 171, 17506, 9538, 1110, 1103, 144, 10595, 2430, 117, 170, 14789, 1282, 1104, 8070, 1105, 9284, 119, 1135, 1110, 170, 16498, 1104, 1103, 176, 10595, 2430, 1120, 10111, 20500, 117, 1699, 1187, 1103, 6567, 2090, 25153, 1193, 1691, 1106, 2216, 17666, 6397, 3786, 1573, 25422, 13149, 1107, 8109, 119, 1335, 1103, 1322, 1104, 1103, 1514, 2797, 113, 1105, 1107, 170, 2904, 1413, 1115, 8200, 1194, 124, 11739, 1105, 1103, 3487, 17917, 114, 117, 1110, 170, 3014, 117, 2030, 102], [101, 1327, 1110, 1107, 1524, 1104, 1103, 10360, 8022, 4304, 4334, 136, 102, 20500, 117, 1699, 1187, 1103, 6567, 2090, 25153, 1193, 1691, 1106, 2216, 17666, 6397, 3786, 1573, 25422, 13149, 1107, 8109, 119, 1335, 1103, 1322, 1104, 1103, 1514, 2797, 113, 1105, 1107, 170, 2904, 1413, 1115, 8200, 1194, 124, 11739, 1105, 1103, 3487, 17917, 114, 117, 1110, 170, 3014, 117, 2030, 2576, 5921, 1104, 2090, 119, 102]], 'attention_mask': [[1, 1, 1, 1, 1, 1, 1, 1, 1, 1, 1, 1, 1, 1, 1, 1, 1, 1, 1, 1, 1, 1, 1, 1, 1, 1, 1, 1, 1, 1, 1, 1, 1, 1, 1, 1, 1, 1, 1, 1, 1, 1, 1, 1, 1, 1, 1, 1, 1, 1, 1, 1, 1, 1, 1, 1, 1, 1, 1, 1, 1, 1, 1, 1, 1, 1, 1, 1, 1, 1, 1, 1, 1, 1, 1, 1, 1, 1, 1, 1, 1, 1, 1, 1, 1, 1, 1, 1, 1, 1, 1, 1, 1, 1, 1, 1, 1, 1, 1, 1], [1, 1, 1, 1, 1, 1, 1, 1, 1, 1, 1, 1, 1, 1, 1, 1, 1, 1, 1, 1, 1, 1, 1, 1, 1, 1, 1, 1, 1, 1, 1, 1, 1, 1, 1, 1, 1, 1, 1, 1, 1, 1, 1, 1, 1, 1, 1, 1, 1, 1, 1, 1, 1, 1, 1, 1, 1, 1, 1, 1, 1, 1, 1, 1, 1, 1, 1, 1, 1, 1, 1, 1, 1, 1, 1, 1, 1, 1, 1, 1, 1, 1, 1, 1, 1, 1, 1, 1, 1, 1, 1, 1, 1, 1, 1, 1, 1, 1, 1, 1], [1, 1, 1, 1, 1, 1, 1, 1, 1, 1, 1, 1, 1, 1, 1, 1, 1, 1, 1, 1, 1, 1, 1, 1, 1, 1, 1, 1, 1, 1, 1, 1, 1, 1, 1, 1, 1, 1, 1, 1, 1, 1, 1, 1, 1, 1, 1, 1, 1, 1, 1, 1, 1, 1, 1, 1, 1, 1, 1, 1, 1, 1, 1, 1, 1, 1, 1, 1, 1, 1, 1, 1, 1, 1, 1, 1, 1, 1, 1, 1, 1, 1, 1, 1, 1, 1, 1, 1, 1, 1, 1, 1, 1, 1, 1, 1, 1, 1, 1, 1], [1, 1, 1, 1, 1, 1, 1, 1, 1, 1, 1, 1, 1, 1, 1, 1, 1, 1, 1, 1, 1, 1, 1, 1, 1, 1, 1, 1, 1, 1, 1, 1, 1, 1, 1, 1, 1, 1, 1, 1, 1, 1, 1, 1, 1, 1, 1, 1, 1, 1, 1, 1, 1, 1, 1, 1, 1, 1, 1, 1, 1, 1, 1, 1, 1, 1, 1, 1, 1]], 'offset_mapping': [[(0, 0), (0, 4), (5, 7), (8, 10), (11, 16), (17, 19), (20, 23), (24, 29), (30, 34), (35, 39), (40, 48), (48, 49), (0, 0), (0, 13), (13, 15), (15, 16), (17, 20), (21, 27), (28, 31), (32, 33), (34, 42), (43, 52), (52, 53), (54, 56), (56, 58), (59, 62), (63, 67), (68, 76), (76, 77), (77, 78), (79, 83), (84, 88), (89, 91), (92, 93), (94, 100), (101, 107), (108, 110), (111, 114), (115, 121), (122, 126), (126, 127), (128, 139), (140, 142), (143, 148), (149, 151), (152, 155), (156, 160), (161, 169), (170, 173), (174, 180), (181, 183), (183, 184), (185, 187), (188, 189), (190, 196), (197, 203), (204, 206), (207, 213), (214, 218), (219, 223), (224, 226), (226, 229), (229, 232), (233, 237), (238, 241), (242, 248), (249, 250), (250, 251), (251, 254), (254, 256), (257, 259), (260, 262), (263, 264), (264, 265), (265, 268), (268, 269), (269, 270), (271, 275), (276, 278), (279, 282), (283, 287), (288, 296), (297, 299), (300, 303), (304, 312), (313, 315), (316, 319), (320, 326), (327, 332), (332, 333), (334, 345), (346, 352), (353, 356), (357, 358), (358, 361), (361, 365), (366, 368), (369, 372), (373, 374), (0, 0)], [(0, 0), (0, 4), (5, 7), (8, 10), (11, 16), (17, 19), (20, 23), (24, 29), (30, 34), (35, 39), (40, 48), (48, 49), (0, 0), (174, 180), (181, 183), (183, 184), (185, 187), (188, 189), (190, 196), (197, 203), (204, 206), (207, 213), (214, 218), (219, 223), (224, 226), (226, 229), (229, 232), (233, 237), (238, 241), (242, 248), (249, 250), (250, 251), (251, 254), (254, 256), (257, 259), (260, 262), (263, 264), (264, 265), (265, 268), (268, 269), (269, 270), (271, 275), (276, 278), (279, 282), (283, 287), (288, 296), (297, 299), (300, 303), (304, 312), (313, 315), (316, 319), (320, 326), (327, 332), (332, 333), (334, 345), (346, 352), (353, 356), (357, 358), (358, 361), (361, 365), (366, 368), (369, 372), (373, 374), (374, 377), (377, 379), (379, 380), (381, 382), (383, 389), (390, 395), (396, 398), (399, 405), (406, 409), (410, 420), (420, 421), (422, 424), (425, 427), (428, 429), (430, 437), (438, 440), (441, 444), (445, 446), (446, 449), (449, 451), (452, 454), (455, 458), (458, 462), (462, 463), (464, 470), (471, 476), (477, 480), (481, 487), (488, 492), (493, 500), (500, 502), (503, 511), (512, 514), (515, 520), (521, 525), (525, 528), (0, 0)], [(0, 0), (0, 4), (5, 7), (8, 10), (11, 16), (17, 19), (20, 23), (24, 29), (30, 34), (35, 39), (40, 48), (48, 49), (0, 0), (313, 315), (316, 319), (320, 326), (327, 332), (332, 333), (334, 345), (346, 352), (353, 356), (357, 358), (358, 361), (361, 365), (366, 368), (369, 372), (373, 374), (374, 377), (377, 379), (379, 380), (381, 382), (383, 389), (390, 395), (396, 398), (399, 405), (406, 409), (410, 420), (420, 421), (422, 424), (425, 427), (428, 429), (430, 437), (438, 440), (441, 444), (445, 446), (446, 449), (449, 451), (452, 454), (455, 458), (458, 462), (462, 463), (464, 470), (471, 476), (477, 480), (481, 487), (488, 492), (493, 500), (500, 502), (503, 511), (512, 514), (515, 520), (521, 525), (525, 528), (528, 531), (532, 534), (534, 537), (537, 541), (542, 544), (545, 549), (549, 550), (551, 553), (554, 557), (558, 561), (562, 564), (565, 568), (569, 573), (574, 579), (580, 581), (581, 584), (585, 587), (588, 589), (590, 596), (597, 601), (602, 606), (607, 615), (616, 623), (624, 625), (626, 633), (634, 637), (638, 641), (642, 646), (647, 651), (651, 652), (652, 653), (654, 656), (657, 658), (659, 665), (665, 666), (667, 673), (0, 0)], [(0, 0), (0, 4), (5, 7), (8, 10), (11, 16), (17, 19), (20, 23), (24, 29), (30, 34), (35, 39), (40, 48), (48, 49), (0, 0), (458, 462), (462, 463), (464, 470), (471, 476), (477, 480), (481, 487), (488, 492), (493, 500), (500, 502), (503, 511), (512, 514), (515, 520), (521, 525), (525, 528), (528, 531), (532, 534), (534, 537), (537, 541), (542, 544), (545, 549), (549, 550), (551, 553), (554, 557), (558, 561), (562, 564), (565, 568), (569, 573), (574, 579), (580, 581), (581, 584), (585, 587), (588, 589), (590, 596), (597, 601), (602, 606), (607, 615), (616, 623), (624, 625), (626, 633), (634, 637), (638, 641), (642, 646), (647, 651), (651, 652), (652, 653), (654, 656), (657, 658), (659, 665), (665, 666), (667, 673), (674, 679), (680, 686), (687, 689), (690, 694), (694, 695), (0, 0)]], 'overflow_to_sample_mapping': [0, 0, 0, 0]}"
            ]
          },
          "metadata": {},
          "execution_count": 136
        }
      ]
    },
    {
      "cell_type": "code",
      "source": [
        "inputs.keys()"
      ],
      "metadata": {
        "colab": {
          "base_uri": "https://localhost:8080/"
        },
        "id": "aSQK_QXNc_rx",
        "outputId": "70c6b83d-1aea-494f-d63d-7ed808358a31"
      },
      "execution_count": 137,
      "outputs": [
        {
          "output_type": "execute_result",
          "data": {
            "text/plain": [
              "dict_keys(['input_ids', 'attention_mask', 'offset_mapping', 'overflow_to_sample_mapping'])"
            ]
          },
          "metadata": {},
          "execution_count": 137
        }
      ]
    },
    {
      "cell_type": "code",
      "source": [
        "print(inputs.sequence_ids)"
      ],
      "metadata": {
        "colab": {
          "base_uri": "https://localhost:8080/"
        },
        "id": "mVUPA5AdcgZ6",
        "outputId": "9e07eeb3-b623-4b07-bcf0-0a9c170a31e3"
      },
      "execution_count": 138,
      "outputs": [
        {
          "output_type": "stream",
          "name": "stdout",
          "text": [
            "<bound method BatchEncoding.sequence_ids of {'input_ids': [[101, 1327, 1110, 1107, 1524, 1104, 1103, 10360, 8022, 4304, 4334, 136, 102, 22182, 1193, 117, 1103, 1278, 1144, 170, 2336, 1959, 119, 1335, 4184, 1103, 4304, 4334, 112, 188, 2284, 10945, 1110, 170, 5404, 5921, 1104, 1103, 6567, 2090, 119, 13301, 1107, 1524, 1104, 1103, 4304, 4334, 1105, 4749, 1122, 117, 1110, 170, 7335, 5921, 1104, 4028, 1114, 1739, 1146, 14089, 5591, 1114, 1103, 7051, 107, 159, 21462, 1566, 24930, 2508, 152, 1306, 3965, 107, 119, 5893, 1106, 1103, 4304, 4334, 1110, 1103, 19349, 1104, 1103, 11373, 4641, 119, 13301, 1481, 1103, 171, 17506, 9538, 1110, 1103, 144, 102], [101, 1327, 1110, 1107, 1524, 1104, 1103, 10360, 8022, 4304, 4334, 136, 102, 4749, 1122, 117, 1110, 170, 7335, 5921, 1104, 4028, 1114, 1739, 1146, 14089, 5591, 1114, 1103, 7051, 107, 159, 21462, 1566, 24930, 2508, 152, 1306, 3965, 107, 119, 5893, 1106, 1103, 4304, 4334, 1110, 1103, 19349, 1104, 1103, 11373, 4641, 119, 13301, 1481, 1103, 171, 17506, 9538, 1110, 1103, 144, 10595, 2430, 117, 170, 14789, 1282, 1104, 8070, 1105, 9284, 119, 1135, 1110, 170, 16498, 1104, 1103, 176, 10595, 2430, 1120, 10111, 20500, 117, 1699, 1187, 1103, 6567, 2090, 25153, 1193, 1691, 1106, 2216, 17666, 6397, 102], [101, 1327, 1110, 1107, 1524, 1104, 1103, 10360, 8022, 4304, 4334, 136, 102, 1104, 1103, 11373, 4641, 119, 13301, 1481, 1103, 171, 17506, 9538, 1110, 1103, 144, 10595, 2430, 117, 170, 14789, 1282, 1104, 8070, 1105, 9284, 119, 1135, 1110, 170, 16498, 1104, 1103, 176, 10595, 2430, 1120, 10111, 20500, 117, 1699, 1187, 1103, 6567, 2090, 25153, 1193, 1691, 1106, 2216, 17666, 6397, 3786, 1573, 25422, 13149, 1107, 8109, 119, 1335, 1103, 1322, 1104, 1103, 1514, 2797, 113, 1105, 1107, 170, 2904, 1413, 1115, 8200, 1194, 124, 11739, 1105, 1103, 3487, 17917, 114, 117, 1110, 170, 3014, 117, 2030, 102], [101, 1327, 1110, 1107, 1524, 1104, 1103, 10360, 8022, 4304, 4334, 136, 102, 20500, 117, 1699, 1187, 1103, 6567, 2090, 25153, 1193, 1691, 1106, 2216, 17666, 6397, 3786, 1573, 25422, 13149, 1107, 8109, 119, 1335, 1103, 1322, 1104, 1103, 1514, 2797, 113, 1105, 1107, 170, 2904, 1413, 1115, 8200, 1194, 124, 11739, 1105, 1103, 3487, 17917, 114, 117, 1110, 170, 3014, 117, 2030, 2576, 5921, 1104, 2090, 119, 102]], 'attention_mask': [[1, 1, 1, 1, 1, 1, 1, 1, 1, 1, 1, 1, 1, 1, 1, 1, 1, 1, 1, 1, 1, 1, 1, 1, 1, 1, 1, 1, 1, 1, 1, 1, 1, 1, 1, 1, 1, 1, 1, 1, 1, 1, 1, 1, 1, 1, 1, 1, 1, 1, 1, 1, 1, 1, 1, 1, 1, 1, 1, 1, 1, 1, 1, 1, 1, 1, 1, 1, 1, 1, 1, 1, 1, 1, 1, 1, 1, 1, 1, 1, 1, 1, 1, 1, 1, 1, 1, 1, 1, 1, 1, 1, 1, 1, 1, 1, 1, 1, 1, 1], [1, 1, 1, 1, 1, 1, 1, 1, 1, 1, 1, 1, 1, 1, 1, 1, 1, 1, 1, 1, 1, 1, 1, 1, 1, 1, 1, 1, 1, 1, 1, 1, 1, 1, 1, 1, 1, 1, 1, 1, 1, 1, 1, 1, 1, 1, 1, 1, 1, 1, 1, 1, 1, 1, 1, 1, 1, 1, 1, 1, 1, 1, 1, 1, 1, 1, 1, 1, 1, 1, 1, 1, 1, 1, 1, 1, 1, 1, 1, 1, 1, 1, 1, 1, 1, 1, 1, 1, 1, 1, 1, 1, 1, 1, 1, 1, 1, 1, 1, 1], [1, 1, 1, 1, 1, 1, 1, 1, 1, 1, 1, 1, 1, 1, 1, 1, 1, 1, 1, 1, 1, 1, 1, 1, 1, 1, 1, 1, 1, 1, 1, 1, 1, 1, 1, 1, 1, 1, 1, 1, 1, 1, 1, 1, 1, 1, 1, 1, 1, 1, 1, 1, 1, 1, 1, 1, 1, 1, 1, 1, 1, 1, 1, 1, 1, 1, 1, 1, 1, 1, 1, 1, 1, 1, 1, 1, 1, 1, 1, 1, 1, 1, 1, 1, 1, 1, 1, 1, 1, 1, 1, 1, 1, 1, 1, 1, 1, 1, 1, 1], [1, 1, 1, 1, 1, 1, 1, 1, 1, 1, 1, 1, 1, 1, 1, 1, 1, 1, 1, 1, 1, 1, 1, 1, 1, 1, 1, 1, 1, 1, 1, 1, 1, 1, 1, 1, 1, 1, 1, 1, 1, 1, 1, 1, 1, 1, 1, 1, 1, 1, 1, 1, 1, 1, 1, 1, 1, 1, 1, 1, 1, 1, 1, 1, 1, 1, 1, 1, 1]], 'offset_mapping': [[(0, 0), (0, 4), (5, 7), (8, 10), (11, 16), (17, 19), (20, 23), (24, 29), (30, 34), (35, 39), (40, 48), (48, 49), (0, 0), (0, 13), (13, 15), (15, 16), (17, 20), (21, 27), (28, 31), (32, 33), (34, 42), (43, 52), (52, 53), (54, 56), (56, 58), (59, 62), (63, 67), (68, 76), (76, 77), (77, 78), (79, 83), (84, 88), (89, 91), (92, 93), (94, 100), (101, 107), (108, 110), (111, 114), (115, 121), (122, 126), (126, 127), (128, 139), (140, 142), (143, 148), (149, 151), (152, 155), (156, 160), (161, 169), (170, 173), (174, 180), (181, 183), (183, 184), (185, 187), (188, 189), (190, 196), (197, 203), (204, 206), (207, 213), (214, 218), (219, 223), (224, 226), (226, 229), (229, 232), (233, 237), (238, 241), (242, 248), (249, 250), (250, 251), (251, 254), (254, 256), (257, 259), (260, 262), (263, 264), (264, 265), (265, 268), (268, 269), (269, 270), (271, 275), (276, 278), (279, 282), (283, 287), (288, 296), (297, 299), (300, 303), (304, 312), (313, 315), (316, 319), (320, 326), (327, 332), (332, 333), (334, 345), (346, 352), (353, 356), (357, 358), (358, 361), (361, 365), (366, 368), (369, 372), (373, 374), (0, 0)], [(0, 0), (0, 4), (5, 7), (8, 10), (11, 16), (17, 19), (20, 23), (24, 29), (30, 34), (35, 39), (40, 48), (48, 49), (0, 0), (174, 180), (181, 183), (183, 184), (185, 187), (188, 189), (190, 196), (197, 203), (204, 206), (207, 213), (214, 218), (219, 223), (224, 226), (226, 229), (229, 232), (233, 237), (238, 241), (242, 248), (249, 250), (250, 251), (251, 254), (254, 256), (257, 259), (260, 262), (263, 264), (264, 265), (265, 268), (268, 269), (269, 270), (271, 275), (276, 278), (279, 282), (283, 287), (288, 296), (297, 299), (300, 303), (304, 312), (313, 315), (316, 319), (320, 326), (327, 332), (332, 333), (334, 345), (346, 352), (353, 356), (357, 358), (358, 361), (361, 365), (366, 368), (369, 372), (373, 374), (374, 377), (377, 379), (379, 380), (381, 382), (383, 389), (390, 395), (396, 398), (399, 405), (406, 409), (410, 420), (420, 421), (422, 424), (425, 427), (428, 429), (430, 437), (438, 440), (441, 444), (445, 446), (446, 449), (449, 451), (452, 454), (455, 458), (458, 462), (462, 463), (464, 470), (471, 476), (477, 480), (481, 487), (488, 492), (493, 500), (500, 502), (503, 511), (512, 514), (515, 520), (521, 525), (525, 528), (0, 0)], [(0, 0), (0, 4), (5, 7), (8, 10), (11, 16), (17, 19), (20, 23), (24, 29), (30, 34), (35, 39), (40, 48), (48, 49), (0, 0), (313, 315), (316, 319), (320, 326), (327, 332), (332, 333), (334, 345), (346, 352), (353, 356), (357, 358), (358, 361), (361, 365), (366, 368), (369, 372), (373, 374), (374, 377), (377, 379), (379, 380), (381, 382), (383, 389), (390, 395), (396, 398), (399, 405), (406, 409), (410, 420), (420, 421), (422, 424), (425, 427), (428, 429), (430, 437), (438, 440), (441, 444), (445, 446), (446, 449), (449, 451), (452, 454), (455, 458), (458, 462), (462, 463), (464, 470), (471, 476), (477, 480), (481, 487), (488, 492), (493, 500), (500, 502), (503, 511), (512, 514), (515, 520), (521, 525), (525, 528), (528, 531), (532, 534), (534, 537), (537, 541), (542, 544), (545, 549), (549, 550), (551, 553), (554, 557), (558, 561), (562, 564), (565, 568), (569, 573), (574, 579), (580, 581), (581, 584), (585, 587), (588, 589), (590, 596), (597, 601), (602, 606), (607, 615), (616, 623), (624, 625), (626, 633), (634, 637), (638, 641), (642, 646), (647, 651), (651, 652), (652, 653), (654, 656), (657, 658), (659, 665), (665, 666), (667, 673), (0, 0)], [(0, 0), (0, 4), (5, 7), (8, 10), (11, 16), (17, 19), (20, 23), (24, 29), (30, 34), (35, 39), (40, 48), (48, 49), (0, 0), (458, 462), (462, 463), (464, 470), (471, 476), (477, 480), (481, 487), (488, 492), (493, 500), (500, 502), (503, 511), (512, 514), (515, 520), (521, 525), (525, 528), (528, 531), (532, 534), (534, 537), (537, 541), (542, 544), (545, 549), (549, 550), (551, 553), (554, 557), (558, 561), (562, 564), (565, 568), (569, 573), (574, 579), (580, 581), (581, 584), (585, 587), (588, 589), (590, 596), (597, 601), (602, 606), (607, 615), (616, 623), (624, 625), (626, 633), (634, 637), (638, 641), (642, 646), (647, 651), (651, 652), (652, 653), (654, 656), (657, 658), (659, 665), (665, 666), (667, 673), (674, 679), (680, 686), (687, 689), (690, 694), (694, 695), (0, 0)]], 'overflow_to_sample_mapping': [0, 0, 0, 0]}>\n"
          ]
        }
      ]
    },
    {
      "cell_type": "code",
      "source": [
        "print(inputs.sequence_ids(0))"
      ],
      "metadata": {
        "colab": {
          "base_uri": "https://localhost:8080/"
        },
        "id": "KzYXeT5SR112",
        "outputId": "f623e0bb-2dfd-4301-e222-bf11496cce58"
      },
      "execution_count": 139,
      "outputs": [
        {
          "output_type": "stream",
          "name": "stdout",
          "text": [
            "[None, 0, 0, 0, 0, 0, 0, 0, 0, 0, 0, 0, None, 1, 1, 1, 1, 1, 1, 1, 1, 1, 1, 1, 1, 1, 1, 1, 1, 1, 1, 1, 1, 1, 1, 1, 1, 1, 1, 1, 1, 1, 1, 1, 1, 1, 1, 1, 1, 1, 1, 1, 1, 1, 1, 1, 1, 1, 1, 1, 1, 1, 1, 1, 1, 1, 1, 1, 1, 1, 1, 1, 1, 1, 1, 1, 1, 1, 1, 1, 1, 1, 1, 1, 1, 1, 1, 1, 1, 1, 1, 1, 1, 1, 1, 1, 1, 1, 1, None]\n"
          ]
        }
      ]
    },
    {
      "cell_type": "markdown",
      "source": [
        "👆 Sequence IDs indicate to which sequence each input token belongs.\n",
        "\n",
        "This can be particularly useful in cases where there are multiple sequences in the input, such as in question-answering tasks where you have a question and a context.\n",
        "\n",
        "0 corresponds to the tokenized question sequence, and 1 corresponds to the tokenized context sequence. Eg:\n",
        "\n",
        "```\n",
        "Tokenized Question: [101, 2054, 2003, 102]\n",
        "Tokenized Context: [1996, 2605, 1997, 102]\n",
        "\n",
        "{\n",
        "    \"input_ids\": [101, 2054, 2003, 102, 1996, 2605, 1997, 102],\n",
        "    \"attention_mask\": [1, 1, 1, 1, 1, 1, 1, 1],\n",
        "    \"sequence_ids\": [0, 0, 0, 0, 1, 1, 1, 1]\n",
        "}\n",
        "```"
      ],
      "metadata": {
        "id": "IFkjvBsIeFah"
      }
    },
    {
      "cell_type": "code",
      "source": [
        "raw_datasets[\"train\"][1]"
      ],
      "metadata": {
        "colab": {
          "base_uri": "https://localhost:8080/"
        },
        "id": "sdkwf5f_qTml",
        "outputId": "c4bc0416-6e46-4df2-ebda-604a2a40120b"
      },
      "execution_count": 140,
      "outputs": [
        {
          "output_type": "execute_result",
          "data": {
            "text/plain": [
              "{'id': '5733be284776f4190066117f',\n",
              " 'title': 'University_of_Notre_Dame',\n",
              " 'context': 'Architecturally, the school has a Catholic character. Atop the Main Building\\'s gold dome is a golden statue of the Virgin Mary. Immediately in front of the Main Building and facing it, is a copper statue of Christ with arms upraised with the legend \"Venite Ad Me Omnes\". Next to the Main Building is the Basilica of the Sacred Heart. Immediately behind the basilica is the Grotto, a Marian place of prayer and reflection. It is a replica of the grotto at Lourdes, France where the Virgin Mary reputedly appeared to Saint Bernadette Soubirous in 1858. At the end of the main drive (and in a direct line that connects through 3 statues and the Gold Dome), is a simple, modern stone statue of Mary.',\n",
              " 'question': 'What is in front of the Notre Dame Main Building?',\n",
              " 'answers': {'text': ['a copper statue of Christ'], 'answer_start': [188]}}"
            ]
          },
          "metadata": {},
          "execution_count": 140
        }
      ]
    },
    {
      "cell_type": "code",
      "source": [
        "# the position of the answer will change in each window of the context\n",
        "# the answer is the target for the neural network\n",
        "# how to recompute the targets for each context window?\n",
        "\n",
        "answer = raw_datasets[\"train\"][1][\"answers\"]\n",
        "answer"
      ],
      "metadata": {
        "id": "cZgwgTMqerw1",
        "colab": {
          "base_uri": "https://localhost:8080/"
        },
        "outputId": "44e17770-1baa-45d5-ffc9-a9b25ed47530"
      },
      "execution_count": 141,
      "outputs": [
        {
          "output_type": "execute_result",
          "data": {
            "text/plain": [
              "{'text': ['a copper statue of Christ'], 'answer_start': [188]}"
            ]
          },
          "metadata": {},
          "execution_count": 141
        }
      ]
    },
    {
      "cell_type": "markdown",
      "source": [
        "👆 Problem: this start index (188) is relative to the original full context"
      ],
      "metadata": {
        "id": "QcH32xXbtnkT"
      }
    },
    {
      "cell_type": "markdown",
      "source": [
        "# Find the context (the first and last 1):"
      ],
      "metadata": {
        "id": "LwtUq9bbrs8s"
      }
    },
    {
      "cell_type": "code",
      "source": [
        "print(inputs.sequence_ids)"
      ],
      "metadata": {
        "colab": {
          "base_uri": "https://localhost:8080/"
        },
        "id": "hHwmrg3ivuKf",
        "outputId": "6606540a-f52a-455b-a15c-2346b481dcc1"
      },
      "execution_count": 142,
      "outputs": [
        {
          "output_type": "stream",
          "name": "stdout",
          "text": [
            "<bound method BatchEncoding.sequence_ids of {'input_ids': [[101, 1327, 1110, 1107, 1524, 1104, 1103, 10360, 8022, 4304, 4334, 136, 102, 22182, 1193, 117, 1103, 1278, 1144, 170, 2336, 1959, 119, 1335, 4184, 1103, 4304, 4334, 112, 188, 2284, 10945, 1110, 170, 5404, 5921, 1104, 1103, 6567, 2090, 119, 13301, 1107, 1524, 1104, 1103, 4304, 4334, 1105, 4749, 1122, 117, 1110, 170, 7335, 5921, 1104, 4028, 1114, 1739, 1146, 14089, 5591, 1114, 1103, 7051, 107, 159, 21462, 1566, 24930, 2508, 152, 1306, 3965, 107, 119, 5893, 1106, 1103, 4304, 4334, 1110, 1103, 19349, 1104, 1103, 11373, 4641, 119, 13301, 1481, 1103, 171, 17506, 9538, 1110, 1103, 144, 102], [101, 1327, 1110, 1107, 1524, 1104, 1103, 10360, 8022, 4304, 4334, 136, 102, 4749, 1122, 117, 1110, 170, 7335, 5921, 1104, 4028, 1114, 1739, 1146, 14089, 5591, 1114, 1103, 7051, 107, 159, 21462, 1566, 24930, 2508, 152, 1306, 3965, 107, 119, 5893, 1106, 1103, 4304, 4334, 1110, 1103, 19349, 1104, 1103, 11373, 4641, 119, 13301, 1481, 1103, 171, 17506, 9538, 1110, 1103, 144, 10595, 2430, 117, 170, 14789, 1282, 1104, 8070, 1105, 9284, 119, 1135, 1110, 170, 16498, 1104, 1103, 176, 10595, 2430, 1120, 10111, 20500, 117, 1699, 1187, 1103, 6567, 2090, 25153, 1193, 1691, 1106, 2216, 17666, 6397, 102], [101, 1327, 1110, 1107, 1524, 1104, 1103, 10360, 8022, 4304, 4334, 136, 102, 1104, 1103, 11373, 4641, 119, 13301, 1481, 1103, 171, 17506, 9538, 1110, 1103, 144, 10595, 2430, 117, 170, 14789, 1282, 1104, 8070, 1105, 9284, 119, 1135, 1110, 170, 16498, 1104, 1103, 176, 10595, 2430, 1120, 10111, 20500, 117, 1699, 1187, 1103, 6567, 2090, 25153, 1193, 1691, 1106, 2216, 17666, 6397, 3786, 1573, 25422, 13149, 1107, 8109, 119, 1335, 1103, 1322, 1104, 1103, 1514, 2797, 113, 1105, 1107, 170, 2904, 1413, 1115, 8200, 1194, 124, 11739, 1105, 1103, 3487, 17917, 114, 117, 1110, 170, 3014, 117, 2030, 102], [101, 1327, 1110, 1107, 1524, 1104, 1103, 10360, 8022, 4304, 4334, 136, 102, 20500, 117, 1699, 1187, 1103, 6567, 2090, 25153, 1193, 1691, 1106, 2216, 17666, 6397, 3786, 1573, 25422, 13149, 1107, 8109, 119, 1335, 1103, 1322, 1104, 1103, 1514, 2797, 113, 1105, 1107, 170, 2904, 1413, 1115, 8200, 1194, 124, 11739, 1105, 1103, 3487, 17917, 114, 117, 1110, 170, 3014, 117, 2030, 2576, 5921, 1104, 2090, 119, 102]], 'attention_mask': [[1, 1, 1, 1, 1, 1, 1, 1, 1, 1, 1, 1, 1, 1, 1, 1, 1, 1, 1, 1, 1, 1, 1, 1, 1, 1, 1, 1, 1, 1, 1, 1, 1, 1, 1, 1, 1, 1, 1, 1, 1, 1, 1, 1, 1, 1, 1, 1, 1, 1, 1, 1, 1, 1, 1, 1, 1, 1, 1, 1, 1, 1, 1, 1, 1, 1, 1, 1, 1, 1, 1, 1, 1, 1, 1, 1, 1, 1, 1, 1, 1, 1, 1, 1, 1, 1, 1, 1, 1, 1, 1, 1, 1, 1, 1, 1, 1, 1, 1, 1], [1, 1, 1, 1, 1, 1, 1, 1, 1, 1, 1, 1, 1, 1, 1, 1, 1, 1, 1, 1, 1, 1, 1, 1, 1, 1, 1, 1, 1, 1, 1, 1, 1, 1, 1, 1, 1, 1, 1, 1, 1, 1, 1, 1, 1, 1, 1, 1, 1, 1, 1, 1, 1, 1, 1, 1, 1, 1, 1, 1, 1, 1, 1, 1, 1, 1, 1, 1, 1, 1, 1, 1, 1, 1, 1, 1, 1, 1, 1, 1, 1, 1, 1, 1, 1, 1, 1, 1, 1, 1, 1, 1, 1, 1, 1, 1, 1, 1, 1, 1], [1, 1, 1, 1, 1, 1, 1, 1, 1, 1, 1, 1, 1, 1, 1, 1, 1, 1, 1, 1, 1, 1, 1, 1, 1, 1, 1, 1, 1, 1, 1, 1, 1, 1, 1, 1, 1, 1, 1, 1, 1, 1, 1, 1, 1, 1, 1, 1, 1, 1, 1, 1, 1, 1, 1, 1, 1, 1, 1, 1, 1, 1, 1, 1, 1, 1, 1, 1, 1, 1, 1, 1, 1, 1, 1, 1, 1, 1, 1, 1, 1, 1, 1, 1, 1, 1, 1, 1, 1, 1, 1, 1, 1, 1, 1, 1, 1, 1, 1, 1], [1, 1, 1, 1, 1, 1, 1, 1, 1, 1, 1, 1, 1, 1, 1, 1, 1, 1, 1, 1, 1, 1, 1, 1, 1, 1, 1, 1, 1, 1, 1, 1, 1, 1, 1, 1, 1, 1, 1, 1, 1, 1, 1, 1, 1, 1, 1, 1, 1, 1, 1, 1, 1, 1, 1, 1, 1, 1, 1, 1, 1, 1, 1, 1, 1, 1, 1, 1, 1]], 'offset_mapping': [[(0, 0), (0, 4), (5, 7), (8, 10), (11, 16), (17, 19), (20, 23), (24, 29), (30, 34), (35, 39), (40, 48), (48, 49), (0, 0), (0, 13), (13, 15), (15, 16), (17, 20), (21, 27), (28, 31), (32, 33), (34, 42), (43, 52), (52, 53), (54, 56), (56, 58), (59, 62), (63, 67), (68, 76), (76, 77), (77, 78), (79, 83), (84, 88), (89, 91), (92, 93), (94, 100), (101, 107), (108, 110), (111, 114), (115, 121), (122, 126), (126, 127), (128, 139), (140, 142), (143, 148), (149, 151), (152, 155), (156, 160), (161, 169), (170, 173), (174, 180), (181, 183), (183, 184), (185, 187), (188, 189), (190, 196), (197, 203), (204, 206), (207, 213), (214, 218), (219, 223), (224, 226), (226, 229), (229, 232), (233, 237), (238, 241), (242, 248), (249, 250), (250, 251), (251, 254), (254, 256), (257, 259), (260, 262), (263, 264), (264, 265), (265, 268), (268, 269), (269, 270), (271, 275), (276, 278), (279, 282), (283, 287), (288, 296), (297, 299), (300, 303), (304, 312), (313, 315), (316, 319), (320, 326), (327, 332), (332, 333), (334, 345), (346, 352), (353, 356), (357, 358), (358, 361), (361, 365), (366, 368), (369, 372), (373, 374), (0, 0)], [(0, 0), (0, 4), (5, 7), (8, 10), (11, 16), (17, 19), (20, 23), (24, 29), (30, 34), (35, 39), (40, 48), (48, 49), (0, 0), (174, 180), (181, 183), (183, 184), (185, 187), (188, 189), (190, 196), (197, 203), (204, 206), (207, 213), (214, 218), (219, 223), (224, 226), (226, 229), (229, 232), (233, 237), (238, 241), (242, 248), (249, 250), (250, 251), (251, 254), (254, 256), (257, 259), (260, 262), (263, 264), (264, 265), (265, 268), (268, 269), (269, 270), (271, 275), (276, 278), (279, 282), (283, 287), (288, 296), (297, 299), (300, 303), (304, 312), (313, 315), (316, 319), (320, 326), (327, 332), (332, 333), (334, 345), (346, 352), (353, 356), (357, 358), (358, 361), (361, 365), (366, 368), (369, 372), (373, 374), (374, 377), (377, 379), (379, 380), (381, 382), (383, 389), (390, 395), (396, 398), (399, 405), (406, 409), (410, 420), (420, 421), (422, 424), (425, 427), (428, 429), (430, 437), (438, 440), (441, 444), (445, 446), (446, 449), (449, 451), (452, 454), (455, 458), (458, 462), (462, 463), (464, 470), (471, 476), (477, 480), (481, 487), (488, 492), (493, 500), (500, 502), (503, 511), (512, 514), (515, 520), (521, 525), (525, 528), (0, 0)], [(0, 0), (0, 4), (5, 7), (8, 10), (11, 16), (17, 19), (20, 23), (24, 29), (30, 34), (35, 39), (40, 48), (48, 49), (0, 0), (313, 315), (316, 319), (320, 326), (327, 332), (332, 333), (334, 345), (346, 352), (353, 356), (357, 358), (358, 361), (361, 365), (366, 368), (369, 372), (373, 374), (374, 377), (377, 379), (379, 380), (381, 382), (383, 389), (390, 395), (396, 398), (399, 405), (406, 409), (410, 420), (420, 421), (422, 424), (425, 427), (428, 429), (430, 437), (438, 440), (441, 444), (445, 446), (446, 449), (449, 451), (452, 454), (455, 458), (458, 462), (462, 463), (464, 470), (471, 476), (477, 480), (481, 487), (488, 492), (493, 500), (500, 502), (503, 511), (512, 514), (515, 520), (521, 525), (525, 528), (528, 531), (532, 534), (534, 537), (537, 541), (542, 544), (545, 549), (549, 550), (551, 553), (554, 557), (558, 561), (562, 564), (565, 568), (569, 573), (574, 579), (580, 581), (581, 584), (585, 587), (588, 589), (590, 596), (597, 601), (602, 606), (607, 615), (616, 623), (624, 625), (626, 633), (634, 637), (638, 641), (642, 646), (647, 651), (651, 652), (652, 653), (654, 656), (657, 658), (659, 665), (665, 666), (667, 673), (0, 0)], [(0, 0), (0, 4), (5, 7), (8, 10), (11, 16), (17, 19), (20, 23), (24, 29), (30, 34), (35, 39), (40, 48), (48, 49), (0, 0), (458, 462), (462, 463), (464, 470), (471, 476), (477, 480), (481, 487), (488, 492), (493, 500), (500, 502), (503, 511), (512, 514), (515, 520), (521, 525), (525, 528), (528, 531), (532, 534), (534, 537), (537, 541), (542, 544), (545, 549), (549, 550), (551, 553), (554, 557), (558, 561), (562, 564), (565, 568), (569, 573), (574, 579), (580, 581), (581, 584), (585, 587), (588, 589), (590, 596), (597, 601), (602, 606), (607, 615), (616, 623), (624, 625), (626, 633), (634, 637), (638, 641), (642, 646), (647, 651), (651, 652), (652, 653), (654, 656), (657, 658), (659, 665), (665, 666), (667, 673), (674, 679), (680, 686), (687, 689), (690, 694), (694, 695), (0, 0)]], 'overflow_to_sample_mapping': [0, 0, 0, 0]}>\n"
          ]
        }
      ]
    },
    {
      "cell_type": "code",
      "source": [
        "print(inputs.sequence_ids(0))"
      ],
      "metadata": {
        "colab": {
          "base_uri": "https://localhost:8080/"
        },
        "id": "UYCUw80orY4Q",
        "outputId": "0c3dbf8d-6d4b-47b3-9082-e7b46dfdae1a"
      },
      "execution_count": 143,
      "outputs": [
        {
          "output_type": "stream",
          "name": "stdout",
          "text": [
            "[None, 0, 0, 0, 0, 0, 0, 0, 0, 0, 0, 0, None, 1, 1, 1, 1, 1, 1, 1, 1, 1, 1, 1, 1, 1, 1, 1, 1, 1, 1, 1, 1, 1, 1, 1, 1, 1, 1, 1, 1, 1, 1, 1, 1, 1, 1, 1, 1, 1, 1, 1, 1, 1, 1, 1, 1, 1, 1, 1, 1, 1, 1, 1, 1, 1, 1, 1, 1, 1, 1, 1, 1, 1, 1, 1, 1, 1, 1, 1, 1, 1, 1, 1, 1, 1, 1, 1, 1, 1, 1, 1, 1, 1, 1, 1, 1, 1, 1, None]\n"
          ]
        }
      ]
    },
    {
      "cell_type": "markdown",
      "source": [
        "👆 None is a special token.\n",
        "\n",
        "0 corresponds to the tokenized question sequence,\n",
        "\n",
        "and 1 corresponds to the tokenized context sequence."
      ],
      "metadata": {
        "id": "kexhc-kQv3sz"
      }
    },
    {
      "cell_type": "code",
      "source": [
        "sequence_ids = inputs.sequence_ids(0)\n",
        "\n",
        "# find the start and end of the context (the first and last '1')\n",
        "ctx_start = sequence_ids.index(1) # first occurrence\n",
        "ctx_end = len(sequence_ids) - sequence_ids[::-1].index(1) - 1 # last occurrence\n",
        "\n",
        "ctx_start, ctx_end"
      ],
      "metadata": {
        "id": "Rui9n0HfrgQg",
        "colab": {
          "base_uri": "https://localhost:8080/"
        },
        "outputId": "5267a1b4-52d2-4577-fe3e-bfce49487b4f"
      },
      "execution_count": 144,
      "outputs": [
        {
          "output_type": "execute_result",
          "data": {
            "text/plain": [
              "(13, 98)"
            ]
          },
          "metadata": {},
          "execution_count": 144
        }
      ]
    },
    {
      "cell_type": "markdown",
      "source": [
        "👆 context starts from idx 13 (counting from the None token) in the sequence IDs\n",
        "\n",
        "sequence IDs:\n",
        "[ None, 0, 0, 0, 0, 0, 0, 0, 0, 0, 0, 0, None, 1, 1, 1, 1, 1, 1, 1, 1, 1, 1, 1, 1, 1, 1, 1, 1, 1, 1, ... ]"
      ],
      "metadata": {
        "id": "TkDaHMHfM3fh"
      }
    },
    {
      "cell_type": "markdown",
      "source": [
        "# Find the answer (within the full context):"
      ],
      "metadata": {
        "id": "cFoJWRF7smiV"
      }
    },
    {
      "cell_type": "code",
      "source": [
        "# answer = raw_datasets[\"train\"][1][\"answers\"]\n",
        "answer"
      ],
      "metadata": {
        "colab": {
          "base_uri": "https://localhost:8080/"
        },
        "id": "fZl62MLOzsbj",
        "outputId": "764f6772-b190-4069-c82e-1f58cf5f4309"
      },
      "execution_count": 145,
      "outputs": [
        {
          "output_type": "execute_result",
          "data": {
            "text/plain": [
              "{'text': ['a copper statue of Christ'], 'answer_start': [188]}"
            ]
          },
          "metadata": {},
          "execution_count": 145
        }
      ]
    },
    {
      "cell_type": "code",
      "source": [
        "inputs.keys()"
      ],
      "metadata": {
        "colab": {
          "base_uri": "https://localhost:8080/"
        },
        "id": "CRMyoeAL9pnb",
        "outputId": "88fe6fdf-799d-475d-95d9-f4a872a85bd6"
      },
      "execution_count": 146,
      "outputs": [
        {
          "output_type": "execute_result",
          "data": {
            "text/plain": [
              "dict_keys(['input_ids', 'attention_mask', 'offset_mapping', 'overflow_to_sample_mapping'])"
            ]
          },
          "metadata": {},
          "execution_count": 146
        }
      ]
    },
    {
      "cell_type": "code",
      "source": [
        "# offset mapping associates each token with its start and end character offsets in the original text:\n",
        "print(inputs['offset_mapping'])"
      ],
      "metadata": {
        "colab": {
          "base_uri": "https://localhost:8080/"
        },
        "id": "AOD1aCXT9uUA",
        "outputId": "0696162e-1667-4a2b-b1e4-c20819933974"
      },
      "execution_count": 147,
      "outputs": [
        {
          "output_type": "stream",
          "name": "stdout",
          "text": [
            "[[(0, 0), (0, 4), (5, 7), (8, 10), (11, 16), (17, 19), (20, 23), (24, 29), (30, 34), (35, 39), (40, 48), (48, 49), (0, 0), (0, 13), (13, 15), (15, 16), (17, 20), (21, 27), (28, 31), (32, 33), (34, 42), (43, 52), (52, 53), (54, 56), (56, 58), (59, 62), (63, 67), (68, 76), (76, 77), (77, 78), (79, 83), (84, 88), (89, 91), (92, 93), (94, 100), (101, 107), (108, 110), (111, 114), (115, 121), (122, 126), (126, 127), (128, 139), (140, 142), (143, 148), (149, 151), (152, 155), (156, 160), (161, 169), (170, 173), (174, 180), (181, 183), (183, 184), (185, 187), (188, 189), (190, 196), (197, 203), (204, 206), (207, 213), (214, 218), (219, 223), (224, 226), (226, 229), (229, 232), (233, 237), (238, 241), (242, 248), (249, 250), (250, 251), (251, 254), (254, 256), (257, 259), (260, 262), (263, 264), (264, 265), (265, 268), (268, 269), (269, 270), (271, 275), (276, 278), (279, 282), (283, 287), (288, 296), (297, 299), (300, 303), (304, 312), (313, 315), (316, 319), (320, 326), (327, 332), (332, 333), (334, 345), (346, 352), (353, 356), (357, 358), (358, 361), (361, 365), (366, 368), (369, 372), (373, 374), (0, 0)], [(0, 0), (0, 4), (5, 7), (8, 10), (11, 16), (17, 19), (20, 23), (24, 29), (30, 34), (35, 39), (40, 48), (48, 49), (0, 0), (174, 180), (181, 183), (183, 184), (185, 187), (188, 189), (190, 196), (197, 203), (204, 206), (207, 213), (214, 218), (219, 223), (224, 226), (226, 229), (229, 232), (233, 237), (238, 241), (242, 248), (249, 250), (250, 251), (251, 254), (254, 256), (257, 259), (260, 262), (263, 264), (264, 265), (265, 268), (268, 269), (269, 270), (271, 275), (276, 278), (279, 282), (283, 287), (288, 296), (297, 299), (300, 303), (304, 312), (313, 315), (316, 319), (320, 326), (327, 332), (332, 333), (334, 345), (346, 352), (353, 356), (357, 358), (358, 361), (361, 365), (366, 368), (369, 372), (373, 374), (374, 377), (377, 379), (379, 380), (381, 382), (383, 389), (390, 395), (396, 398), (399, 405), (406, 409), (410, 420), (420, 421), (422, 424), (425, 427), (428, 429), (430, 437), (438, 440), (441, 444), (445, 446), (446, 449), (449, 451), (452, 454), (455, 458), (458, 462), (462, 463), (464, 470), (471, 476), (477, 480), (481, 487), (488, 492), (493, 500), (500, 502), (503, 511), (512, 514), (515, 520), (521, 525), (525, 528), (0, 0)], [(0, 0), (0, 4), (5, 7), (8, 10), (11, 16), (17, 19), (20, 23), (24, 29), (30, 34), (35, 39), (40, 48), (48, 49), (0, 0), (313, 315), (316, 319), (320, 326), (327, 332), (332, 333), (334, 345), (346, 352), (353, 356), (357, 358), (358, 361), (361, 365), (366, 368), (369, 372), (373, 374), (374, 377), (377, 379), (379, 380), (381, 382), (383, 389), (390, 395), (396, 398), (399, 405), (406, 409), (410, 420), (420, 421), (422, 424), (425, 427), (428, 429), (430, 437), (438, 440), (441, 444), (445, 446), (446, 449), (449, 451), (452, 454), (455, 458), (458, 462), (462, 463), (464, 470), (471, 476), (477, 480), (481, 487), (488, 492), (493, 500), (500, 502), (503, 511), (512, 514), (515, 520), (521, 525), (525, 528), (528, 531), (532, 534), (534, 537), (537, 541), (542, 544), (545, 549), (549, 550), (551, 553), (554, 557), (558, 561), (562, 564), (565, 568), (569, 573), (574, 579), (580, 581), (581, 584), (585, 587), (588, 589), (590, 596), (597, 601), (602, 606), (607, 615), (616, 623), (624, 625), (626, 633), (634, 637), (638, 641), (642, 646), (647, 651), (651, 652), (652, 653), (654, 656), (657, 658), (659, 665), (665, 666), (667, 673), (0, 0)], [(0, 0), (0, 4), (5, 7), (8, 10), (11, 16), (17, 19), (20, 23), (24, 29), (30, 34), (35, 39), (40, 48), (48, 49), (0, 0), (458, 462), (462, 463), (464, 470), (471, 476), (477, 480), (481, 487), (488, 492), (493, 500), (500, 502), (503, 511), (512, 514), (515, 520), (521, 525), (525, 528), (528, 531), (532, 534), (534, 537), (537, 541), (542, 544), (545, 549), (549, 550), (551, 553), (554, 557), (558, 561), (562, 564), (565, 568), (569, 573), (574, 579), (580, 581), (581, 584), (585, 587), (588, 589), (590, 596), (597, 601), (602, 606), (607, 615), (616, 623), (624, 625), (626, 633), (634, 637), (638, 641), (642, 646), (647, 651), (651, 652), (652, 653), (654, 656), (657, 658), (659, 665), (665, 666), (667, 673), (674, 679), (680, 686), (687, 689), (690, 694), (694, 695), (0, 0)]]\n"
          ]
        }
      ]
    },
    {
      "cell_type": "code",
      "source": [
        "# indices marking the beginning and end of the answer within the FULL CONTEXT:\n",
        "ans_start_char = answer['answer_start'][0] # 188\n",
        "ans_end_char = ans_start_char + len(answer['text'][0])\n",
        "\n",
        "# indices marking the beginning and end of the answer within the window:\n",
        "start_idx = 0\n",
        "end_idx = 0\n",
        "\n",
        "offset = inputs['offset_mapping'][0] # offset = [ (0, 0), (0, 4), (5, 7), ... ]\n",
        "# if the answer is not within the context, target is (start, end) = (0, 0)\n",
        "if offset[ctx_start][0] > ans_start_char or offset[ctx_end][1] < ans_end_char:\n",
        "  print(\"target is (0, 0)\")\n",
        "else: # the answer is within the context\n",
        "  # find the start and end TOKEN positions (-> human-readable text)\n",
        "  i = ctx_start\n",
        "  for start_end_char in offset[ctx_start:]:\n",
        "    start, end = start_end_char\n",
        "    if start == ans_start_char:\n",
        "      start_idx = i\n",
        "      # don't break yet, still need to find the end_idx as well\n",
        "\n",
        "    if end == ans_end_char:\n",
        "      end_idx = i\n",
        "      break\n",
        "\n",
        "    i += 1\n",
        "\n",
        "start_idx, end_idx"
      ],
      "metadata": {
        "colab": {
          "base_uri": "https://localhost:8080/"
        },
        "id": "A6w5g0dbzIDE",
        "outputId": "044d5c65-ca16-4a61-e1bd-93d720fca8e0"
      },
      "execution_count": 148,
      "outputs": [
        {
          "output_type": "execute_result",
          "data": {
            "text/plain": [
              "(53, 57)"
            ]
          },
          "metadata": {},
          "execution_count": 148
        }
      ]
    },
    {
      "cell_type": "code",
      "source": [
        "inputs.keys()"
      ],
      "metadata": {
        "colab": {
          "base_uri": "https://localhost:8080/"
        },
        "id": "wPizvPs-fdwy",
        "outputId": "c257321b-14de-4867-9079-680d1d397906"
      },
      "execution_count": 149,
      "outputs": [
        {
          "output_type": "execute_result",
          "data": {
            "text/plain": [
              "dict_keys(['input_ids', 'attention_mask', 'offset_mapping', 'overflow_to_sample_mapping'])"
            ]
          },
          "metadata": {},
          "execution_count": 149
        }
      ]
    },
    {
      "cell_type": "code",
      "source": [
        "print(inputs['input_ids'])"
      ],
      "metadata": {
        "colab": {
          "base_uri": "https://localhost:8080/"
        },
        "id": "tZ_6zsDBfQxX",
        "outputId": "54ea3aab-72b9-4bc9-b52f-08a85ab90c66"
      },
      "execution_count": 150,
      "outputs": [
        {
          "output_type": "stream",
          "name": "stdout",
          "text": [
            "[[101, 1327, 1110, 1107, 1524, 1104, 1103, 10360, 8022, 4304, 4334, 136, 102, 22182, 1193, 117, 1103, 1278, 1144, 170, 2336, 1959, 119, 1335, 4184, 1103, 4304, 4334, 112, 188, 2284, 10945, 1110, 170, 5404, 5921, 1104, 1103, 6567, 2090, 119, 13301, 1107, 1524, 1104, 1103, 4304, 4334, 1105, 4749, 1122, 117, 1110, 170, 7335, 5921, 1104, 4028, 1114, 1739, 1146, 14089, 5591, 1114, 1103, 7051, 107, 159, 21462, 1566, 24930, 2508, 152, 1306, 3965, 107, 119, 5893, 1106, 1103, 4304, 4334, 1110, 1103, 19349, 1104, 1103, 11373, 4641, 119, 13301, 1481, 1103, 171, 17506, 9538, 1110, 1103, 144, 102], [101, 1327, 1110, 1107, 1524, 1104, 1103, 10360, 8022, 4304, 4334, 136, 102, 4749, 1122, 117, 1110, 170, 7335, 5921, 1104, 4028, 1114, 1739, 1146, 14089, 5591, 1114, 1103, 7051, 107, 159, 21462, 1566, 24930, 2508, 152, 1306, 3965, 107, 119, 5893, 1106, 1103, 4304, 4334, 1110, 1103, 19349, 1104, 1103, 11373, 4641, 119, 13301, 1481, 1103, 171, 17506, 9538, 1110, 1103, 144, 10595, 2430, 117, 170, 14789, 1282, 1104, 8070, 1105, 9284, 119, 1135, 1110, 170, 16498, 1104, 1103, 176, 10595, 2430, 1120, 10111, 20500, 117, 1699, 1187, 1103, 6567, 2090, 25153, 1193, 1691, 1106, 2216, 17666, 6397, 102], [101, 1327, 1110, 1107, 1524, 1104, 1103, 10360, 8022, 4304, 4334, 136, 102, 1104, 1103, 11373, 4641, 119, 13301, 1481, 1103, 171, 17506, 9538, 1110, 1103, 144, 10595, 2430, 117, 170, 14789, 1282, 1104, 8070, 1105, 9284, 119, 1135, 1110, 170, 16498, 1104, 1103, 176, 10595, 2430, 1120, 10111, 20500, 117, 1699, 1187, 1103, 6567, 2090, 25153, 1193, 1691, 1106, 2216, 17666, 6397, 3786, 1573, 25422, 13149, 1107, 8109, 119, 1335, 1103, 1322, 1104, 1103, 1514, 2797, 113, 1105, 1107, 170, 2904, 1413, 1115, 8200, 1194, 124, 11739, 1105, 1103, 3487, 17917, 114, 117, 1110, 170, 3014, 117, 2030, 102], [101, 1327, 1110, 1107, 1524, 1104, 1103, 10360, 8022, 4304, 4334, 136, 102, 20500, 117, 1699, 1187, 1103, 6567, 2090, 25153, 1193, 1691, 1106, 2216, 17666, 6397, 3786, 1573, 25422, 13149, 1107, 8109, 119, 1335, 1103, 1322, 1104, 1103, 1514, 2797, 113, 1105, 1107, 170, 2904, 1413, 1115, 8200, 1194, 124, 11739, 1105, 1103, 3487, 17917, 114, 117, 1110, 170, 3014, 117, 2030, 2576, 5921, 1104, 2090, 119, 102]]\n"
          ]
        }
      ]
    },
    {
      "cell_type": "markdown",
      "source": [
        "# Verify the accuracy of the result:"
      ],
      "metadata": {
        "id": "XTlJKSAPgGKF"
      }
    },
    {
      "cell_type": "code",
      "source": [
        "input_ids = inputs['input_ids'][0]\n",
        "input_ids[start_idx : end_idx + 1]"
      ],
      "metadata": {
        "colab": {
          "base_uri": "https://localhost:8080/"
        },
        "id": "P725ZkMZfIa4",
        "outputId": "c1f5dce5-4425-421c-c8d7-c5a7a39f2948"
      },
      "execution_count": 151,
      "outputs": [
        {
          "output_type": "execute_result",
          "data": {
            "text/plain": [
              "[170, 7335, 5921, 1104, 4028]"
            ]
          },
          "metadata": {},
          "execution_count": 151
        }
      ]
    },
    {
      "cell_type": "code",
      "source": [
        "# use the tokenizer to convert a sequence of token IDs back into human-readable text:\n",
        "tokenizer.decode(input_ids[start_idx : end_idx + 1])"
      ],
      "metadata": {
        "colab": {
          "base_uri": "https://localhost:8080/",
          "height": 35
        },
        "id": "CZ2a0TPsfqWw",
        "outputId": "b0cccfd3-b7a5-4349-9921-371e59d1f4e7"
      },
      "execution_count": 152,
      "outputs": [
        {
          "output_type": "execute_result",
          "data": {
            "text/plain": [
              "'a copper statue of Christ'"
            ],
            "application/vnd.google.colaboratory.intrinsic+json": {
              "type": "string"
            }
          },
          "metadata": {},
          "execution_count": 152
        }
      ]
    },
    {
      "cell_type": "markdown",
      "source": [
        "👆 That is the correct answer."
      ],
      "metadata": {
        "id": "fdwxFEBBi-b3"
      }
    },
    {
      "cell_type": "markdown",
      "source": [
        "# Rewrite into a function format:"
      ],
      "metadata": {
        "id": "JOPIMeT2jY73"
      }
    },
    {
      "cell_type": "code",
      "source": [
        "def find_answer_token_idx(\n",
        "    ctx_start,\n",
        "    ctx_end,\n",
        "    ans_start_char,\n",
        "    ans_end_char,\n",
        "    offset):\n",
        "\n",
        "  start_idx = 0\n",
        "  end_idx = 0\n",
        "\n",
        "  if offset[ctx_start][0] > ans_start_char or offset[ctx_end][1] < ans_end_char:\n",
        "    pass\n",
        "    # print(\"target is (0, 0)\")\n",
        "  else:\n",
        "    # find the start and end TOKEN positions\n",
        "    # recall: the offset_mapping contains the character positions of each token\n",
        "    i = ctx_start\n",
        "    for start_end_char in offset[ctx_start:]:\n",
        "      start, end = start_end_char\n",
        "      if start == ans_start_char:\n",
        "        start_idx = i\n",
        "        # don't break yet\n",
        "\n",
        "      if end == ans_end_char:\n",
        "        end_idx = i\n",
        "        break\n",
        "\n",
        "      i += 1\n",
        "  return start_idx, end_idx"
      ],
      "metadata": {
        "id": "Ie_DCVe6hz4I"
      },
      "execution_count": 153,
      "outputs": []
    },
    {
      "cell_type": "code",
      "source": [
        "# try it on all context windows\n",
        "# sometimes, the answer won't appear!\n",
        "\n",
        "start_idxs = []\n",
        "end_idxs = []\n",
        "\n",
        "for i, offset in enumerate(inputs['offset_mapping']):\n",
        "  # the final window may not be full size - can't assume 100\n",
        "  sequence_ids = inputs.sequence_ids(i)\n",
        "\n",
        "  # find start + end of context (first 1 and last 1)\n",
        "  ctx_start = sequence_ids.index(1)\n",
        "  ctx_end = len(sequence_ids) - sequence_ids[::-1].index(1) - 1\n",
        "\n",
        "  start_idx, end_idx = find_answer_token_idx(\n",
        "    ctx_start,\n",
        "    ctx_end,\n",
        "    ans_start_char,\n",
        "    ans_end_char,\n",
        "    offset)\n",
        "\n",
        "  start_idxs.append(start_idx)\n",
        "  end_idxs.append(end_idx)\n",
        "\n",
        "start_idxs, end_idxs"
      ],
      "metadata": {
        "colab": {
          "base_uri": "https://localhost:8080/"
        },
        "id": "cvZdQvLJkwbW",
        "outputId": "f1eb4007-c4b4-48bc-92d3-d222271b5501"
      },
      "execution_count": 154,
      "outputs": [
        {
          "output_type": "execute_result",
          "data": {
            "text/plain": [
              "([53, 17, 0, 0], [57, 21, 0, 0])"
            ]
          },
          "metadata": {},
          "execution_count": 154
        }
      ]
    },
    {
      "cell_type": "markdown",
      "source": [
        "👆 The answer is found between indices 53 and 57 in the first window and between indices 17 and 21 in the second window. It is not present in the remaining windows."
      ],
      "metadata": {
        "id": "EJ9o15vuldau"
      }
    },
    {
      "cell_type": "code",
      "source": [
        "raw_datasets[\"train\"]"
      ],
      "metadata": {
        "colab": {
          "base_uri": "https://localhost:8080/"
        },
        "id": "CQgK6dBR84TG",
        "outputId": "47fc0365-0455-4ab5-8d64-d61a927098fc"
      },
      "execution_count": 155,
      "outputs": [
        {
          "output_type": "execute_result",
          "data": {
            "text/plain": [
              "Dataset({\n",
              "    features: ['id', 'title', 'context', 'question', 'answers'],\n",
              "    num_rows: 87599\n",
              "})"
            ]
          },
          "metadata": {},
          "execution_count": 155
        }
      ]
    },
    {
      "cell_type": "markdown",
      "source": [
        "# Implement tokenize function (for training data):"
      ],
      "metadata": {
        "id": "DchmszwQmrLS"
      }
    },
    {
      "cell_type": "code",
      "source": [
        "# scratch: some questions have leading and/or trailing whitespace\n",
        "for q in raw_datasets[\"train\"][\"question\"][:1000]:\n",
        "  if q.strip() != q: # strip: remove spaces at the beginning and at the end of the string\n",
        "    print(q)"
      ],
      "metadata": {
        "colab": {
          "base_uri": "https://localhost:8080/"
        },
        "id": "iRq_mCgg8zQ5",
        "outputId": "44180a3a-4b0e-4e81-8995-f0fb41087253"
      },
      "execution_count": 158,
      "outputs": [
        {
          "output_type": "stream",
          "name": "stdout",
          "text": [
            "In what city and state did Beyonce  grow up? \n",
            " The album, Dangerously in Love  achieved what spot on the Billboard Top 100 chart?\n",
            "Which song did Beyonce sing at the first couple's inaugural ball? \n",
            "What event did Beyoncé perform at one month after Obama's inauguration? \n",
            "Where was the album released? \n",
            "What movie influenced Beyonce towards empowerment themes? \n"
          ]
        }
      ]
    },
    {
      "cell_type": "markdown",
      "source": [
        "👆 There are 6 questions with leading and/or trailing whitespaces."
      ],
      "metadata": {
        "id": "nWmfGeclDc8l"
      }
    },
    {
      "cell_type": "code",
      "source": [
        "# global variables:\n",
        "max_length = 384 # Google used 384 for SQuAD\n",
        "stride = 128\n",
        "\n",
        "# tokenize the training data (i.e. expand question+context pairs into question+smaller context windows)\n",
        "def tokenize_fn_train(batch):\n",
        "  # create a new list where each question from the original batch is stripped of leading and trailing whitespaces\n",
        "  questions = [q.strip() for q in batch[\"question\"]]\n",
        "\n",
        "  # tokenize the data (with padding)\n",
        "  inputs = tokenizer(\n",
        "    questions,\n",
        "    batch[\"context\"],\n",
        "    max_length=max_length,\n",
        "    truncation=\"only_second\",\n",
        "    stride=stride,\n",
        "    return_overflowing_tokens=True,\n",
        "    return_offsets_mapping=True,\n",
        "    padding=\"max_length\",\n",
        "  )\n",
        "\n",
        "  offset_mapping = inputs.pop(\"offset_mapping\")\n",
        "  orig_sample_idxs = inputs.pop(\"overflow_to_sample_mapping\")\n",
        "  answers = batch['answers']\n",
        "  start_idxs, end_idxs = [], []\n",
        "\n",
        "  for i, offset in enumerate(offset_mapping):\n",
        "    sample_idx = orig_sample_idxs[i]\n",
        "    answer = answers[sample_idx]\n",
        "\n",
        "    ans_start_char = answer['answer_start'][0]\n",
        "    ans_end_char = ans_start_char + len(answer['text'][0])\n",
        "\n",
        "    sequence_ids = inputs.sequence_ids(i)\n",
        "\n",
        "    # find start + end of context (first 1 and last 1)\n",
        "    ctx_start = sequence_ids.index(1)\n",
        "    ctx_end = len(sequence_ids) - sequence_ids[::-1].index(1) - 1\n",
        "\n",
        "    start_idx, end_idx = find_answer_token_idx(\n",
        "      ctx_start,\n",
        "      ctx_end,\n",
        "      ans_start_char,\n",
        "      ans_end_char,\n",
        "      offset)\n",
        "\n",
        "    start_idxs.append(start_idx)\n",
        "    end_idxs.append(end_idx)\n",
        "\n",
        "  inputs[\"start_positions\"] = start_idxs\n",
        "  inputs[\"end_positions\"] = end_idxs\n",
        "  return inputs"
      ],
      "metadata": {
        "id": "JHXKSAVKEhkL"
      },
      "execution_count": 159,
      "outputs": []
    },
    {
      "cell_type": "markdown",
      "source": [
        "# Mapping the tokenize function (for training data):"
      ],
      "metadata": {
        "id": "3llW6Vowqwo3"
      }
    },
    {
      "cell_type": "code",
      "source": [
        "train_dataset = raw_datasets[\"train\"].map(\n",
        "  tokenize_fn_train,\n",
        "  batched=True,\n",
        "  remove_columns=raw_datasets[\"train\"].column_names,\n",
        ")\n",
        "\n",
        "len(raw_datasets[\"train\"]), len(train_dataset)"
      ],
      "metadata": {
        "colab": {
          "base_uri": "https://localhost:8080/",
          "height": 66,
          "referenced_widgets": [
            "d02661f85ba6482f8eefc94b057bcc41",
            "6a636d4c6f3f4853a938a1c5faf7609f",
            "22b733dce857423e80d454ca4fc23887",
            "c6dda96055b54b3a9425299bf753f270",
            "50ba31ef90734de5a8f6b7f182552e75",
            "849e17eadd92497eae93605abd178e81",
            "0b330c59ab7e46d78b4a145c225db7f3",
            "8becdfd876c146939dd8e5661dbd3891",
            "88815c0f5bc847e282324daa73eeb7b3",
            "d70a08d8ee084ecd9e622cf41797ea8d",
            "09f585a629614335a9cab56eb1dee707"
          ]
        },
        "id": "slTcjvjwmDQM",
        "outputId": "2b5088e5-7890-47c0-edb3-09bd644399a8"
      },
      "execution_count": 160,
      "outputs": [
        {
          "output_type": "display_data",
          "data": {
            "text/plain": [
              "Map:   0%|          | 0/87599 [00:00<?, ? examples/s]"
            ],
            "application/vnd.jupyter.widget-view+json": {
              "version_major": 2,
              "version_minor": 0,
              "model_id": "d02661f85ba6482f8eefc94b057bcc41"
            }
          },
          "metadata": {}
        },
        {
          "output_type": "execute_result",
          "data": {
            "text/plain": [
              "(87599, 88729)"
            ]
          },
          "metadata": {},
          "execution_count": 160
        }
      ]
    },
    {
      "cell_type": "markdown",
      "source": [
        "👆 The output dataset is larger than the raw dataset."
      ],
      "metadata": {
        "id": "nCwE7fItOziD"
      }
    },
    {
      "cell_type": "markdown",
      "source": [
        "# Implement tokenize function (for validation set):\n",
        "\n",
        "We create two separate functions for training and validation because during evaluation, we will use the string version of answers, which is already included in the devset (no need to build targets)."
      ],
      "metadata": {
        "id": "sJeyVEirrIFe"
      }
    },
    {
      "cell_type": "code",
      "source": [
        "raw_datasets[\"validation\"]"
      ],
      "metadata": {
        "colab": {
          "base_uri": "https://localhost:8080/"
        },
        "id": "iQRIoNDfS-7G",
        "outputId": "7d64ec28-bc09-4f02-94d6-f0ef8ac0e8c3"
      },
      "execution_count": 162,
      "outputs": [
        {
          "output_type": "execute_result",
          "data": {
            "text/plain": [
              "Dataset({\n",
              "    features: ['id', 'title', 'context', 'question', 'answers'],\n",
              "    num_rows: 10570\n",
              "})"
            ]
          },
          "metadata": {},
          "execution_count": 162
        }
      ]
    },
    {
      "cell_type": "code",
      "source": [
        "len(raw_datasets[\"validation\"])"
      ],
      "metadata": {
        "colab": {
          "base_uri": "https://localhost:8080/"
        },
        "id": "4v0BjZMoTI9M",
        "outputId": "2d2badbe-27f3-4790-d400-e0e0092991bb"
      },
      "execution_count": 163,
      "outputs": [
        {
          "output_type": "execute_result",
          "data": {
            "text/plain": [
              "10570"
            ]
          },
          "metadata": {},
          "execution_count": 163
        }
      ]
    },
    {
      "cell_type": "code",
      "source": [
        "raw_datasets[\"validation\"][0]"
      ],
      "metadata": {
        "colab": {
          "base_uri": "https://localhost:8080/"
        },
        "id": "CuawAHOsS2bw",
        "outputId": "bd509f7a-2a28-427f-deaf-3280f3389e3c"
      },
      "execution_count": 166,
      "outputs": [
        {
          "output_type": "execute_result",
          "data": {
            "text/plain": [
              "{'id': '56be4db0acb8001400a502ec',\n",
              " 'title': 'Super_Bowl_50',\n",
              " 'context': 'Super Bowl 50 was an American football game to determine the champion of the National Football League (NFL) for the 2015 season. The American Football Conference (AFC) champion Denver Broncos defeated the National Football Conference (NFC) champion Carolina Panthers 24–10 to earn their third Super Bowl title. The game was played on February 7, 2016, at Levi\\'s Stadium in the San Francisco Bay Area at Santa Clara, California. As this was the 50th Super Bowl, the league emphasized the \"golden anniversary\" with various gold-themed initiatives, as well as temporarily suspending the tradition of naming each Super Bowl game with Roman numerals (under which the game would have been known as \"Super Bowl L\"), so that the logo could prominently feature the Arabic numerals 50.',\n",
              " 'question': 'Which NFL team represented the AFC at Super Bowl 50?',\n",
              " 'answers': {'text': ['Denver Broncos', 'Denver Broncos', 'Denver Broncos'],\n",
              "  'answer_start': [177, 177, 177]}}"
            ]
          },
          "metadata": {},
          "execution_count": 166
        }
      ]
    },
    {
      "cell_type": "markdown",
      "source": [
        "👆 The id is a string."
      ],
      "metadata": {
        "id": "6JuMyNc4TxA1"
      }
    },
    {
      "cell_type": "code",
      "source": [
        "# tokenize the validation set differently\n",
        "# we won't need the targets since we will just compare with the original answer\n",
        "# also: overwrite offset_mapping with Nones in place of question\n",
        "def tokenize_fn_validation(batch):\n",
        "  # some questions have leading and/or trailing whitespace\n",
        "  questions = [q.strip() for q in batch[\"question\"]]\n",
        "\n",
        "  # tokenize the data (with padding this time)\n",
        "  # since most contexts are long, we won't bother to pad per-minibatch\n",
        "  inputs = tokenizer(\n",
        "    questions,\n",
        "    batch[\"context\"],\n",
        "    max_length=max_length,\n",
        "    truncation=\"only_second\",\n",
        "    stride=stride,\n",
        "    return_overflowing_tokens=True,\n",
        "    return_offsets_mapping=True,\n",
        "    padding=\"max_length\",\n",
        "  )\n",
        "\n",
        "  # we don't need these later so remove them\n",
        "  orig_sample_idxs = inputs.pop(\"overflow_to_sample_mapping\")\n",
        "  sample_ids = []\n",
        "\n",
        "  # rewrite offset mapping by replacing question tuples with None\n",
        "  # this will be helpful later on when we compute metrics\n",
        "  for i in range(len(inputs[\"input_ids\"])):\n",
        "    sample_idx = orig_sample_idxs[i]\n",
        "    sample_ids.append(batch['id'][sample_idx])\n",
        "\n",
        "    sequence_ids = inputs.sequence_ids(i)\n",
        "    offset = inputs[\"offset_mapping\"][i]\n",
        "    inputs[\"offset_mapping\"][i] = [\n",
        "      x if sequence_ids[j] == 1 else None for j, x in enumerate(offset)]\n",
        "\n",
        "  inputs['sample_id'] = sample_ids\n",
        "  return inputs"
      ],
      "metadata": {
        "id": "X3JL7iUuTWQ9"
      },
      "execution_count": 167,
      "outputs": []
    },
    {
      "cell_type": "markdown",
      "source": [
        "![image.png](data:image/png;base64,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)"
      ],
      "metadata": {
        "id": "k_oFk0BSVPHe"
      }
    },
    {
      "cell_type": "markdown",
      "source": [
        "# Mapping the tokenize function (for validation set):"
      ],
      "metadata": {
        "id": "14FqQvUJrK5y"
      }
    },
    {
      "cell_type": "code",
      "source": [
        "validation_dataset = raw_datasets[\"validation\"].map(\n",
        "  tokenize_fn_validation,\n",
        "  batched=True,\n",
        "  remove_columns=raw_datasets[\"validation\"].column_names,\n",
        ")\n",
        "\n",
        "len(raw_datasets[\"validation\"]), len(validation_dataset)"
      ],
      "metadata": {
        "colab": {
          "base_uri": "https://localhost:8080/",
          "height": 66,
          "referenced_widgets": [
            "45479fef44a345cdbaa2d2bae63df759",
            "5780b5e36886489eb54aba14af003b77",
            "48cd27cd345440fab79495e28ae254fa",
            "1979249d57c244f4a0e973c4fb0a39ab",
            "488dfc4e11ba46f3aac8c91288a0e389",
            "8f619013ea48468f8434d3e0fce5a6f7",
            "8f303fdd7f9447d0ae65c1a91d342ae6",
            "e24e78751a064fd889c3992a35c30ca5",
            "d613464d62ab4051b987e61e347f2c1e",
            "0c2f17b1bddd419481a0c707b63d54d0",
            "3d4f9d6a45b64a71a683b162b062d749"
          ]
        },
        "id": "Azr8q7W3sfD2",
        "outputId": "9afbaf29-99f1-4d4a-bd2d-062e8a0158d8"
      },
      "execution_count": 168,
      "outputs": [
        {
          "output_type": "display_data",
          "data": {
            "text/plain": [
              "Map:   0%|          | 0/10570 [00:00<?, ? examples/s]"
            ],
            "application/vnd.jupyter.widget-view+json": {
              "version_major": 2,
              "version_minor": 0,
              "model_id": "45479fef44a345cdbaa2d2bae63df759"
            }
          },
          "metadata": {}
        },
        {
          "output_type": "execute_result",
          "data": {
            "text/plain": [
              "(10570, 10822)"
            ]
          },
          "metadata": {},
          "execution_count": 168
        }
      ]
    }
  ]
}