{
  "nbformat": 4,
  "nbformat_minor": 0,
  "metadata": {
    "colab": {
      "provenance": [],
      "authorship_tag": "ABX9TyPv4GYTzp/RYGRGd55WKsBb",
      "include_colab_link": true
    },
    "kernelspec": {
      "name": "python3",
      "display_name": "Python 3"
    },
    "language_info": {
      "name": "python"
    },
    "widgets": {
      "application/vnd.jupyter.widget-state+json": {
        "aff3274db4d14c2e987b2f693a9657d9": {
          "model_module": "@jupyter-widgets/controls",
          "model_name": "HBoxModel",
          "model_module_version": "1.5.0",
          "state": {
            "_dom_classes": [],
            "_model_module": "@jupyter-widgets/controls",
            "_model_module_version": "1.5.0",
            "_model_name": "HBoxModel",
            "_view_count": null,
            "_view_module": "@jupyter-widgets/controls",
            "_view_module_version": "1.5.0",
            "_view_name": "HBoxView",
            "box_style": "",
            "children": [
              "IPY_MODEL_16def556c4f648f68f2949897309d662",
              "IPY_MODEL_46a229c96c2d4d7a98173cbb8f11d7d3",
              "IPY_MODEL_d16757995ac54ebea90a9ac78df5bf9a"
            ],
            "layout": "IPY_MODEL_9e91b3902bb147938b2da392955283b4"
          }
        },
        "16def556c4f648f68f2949897309d662": {
          "model_module": "@jupyter-widgets/controls",
          "model_name": "HTMLModel",
          "model_module_version": "1.5.0",
          "state": {
            "_dom_classes": [],
            "_model_module": "@jupyter-widgets/controls",
            "_model_module_version": "1.5.0",
            "_model_name": "HTMLModel",
            "_view_count": null,
            "_view_module": "@jupyter-widgets/controls",
            "_view_module_version": "1.5.0",
            "_view_name": "HTMLView",
            "description": "",
            "description_tooltip": null,
            "layout": "IPY_MODEL_977f2214a1b4423ebe83a1e5726eac60",
            "placeholder": "​",
            "style": "IPY_MODEL_fdd644d8d92842cdb42029982268fabd",
            "value": "Downloading data files: 100%"
          }
        },
        "46a229c96c2d4d7a98173cbb8f11d7d3": {
          "model_module": "@jupyter-widgets/controls",
          "model_name": "FloatProgressModel",
          "model_module_version": "1.5.0",
          "state": {
            "_dom_classes": [],
            "_model_module": "@jupyter-widgets/controls",
            "_model_module_version": "1.5.0",
            "_model_name": "FloatProgressModel",
            "_view_count": null,
            "_view_module": "@jupyter-widgets/controls",
            "_view_module_version": "1.5.0",
            "_view_name": "ProgressView",
            "bar_style": "success",
            "description": "",
            "description_tooltip": null,
            "layout": "IPY_MODEL_f4ade9701c9f4199b805231d059096e8",
            "max": 1,
            "min": 0,
            "orientation": "horizontal",
            "style": "IPY_MODEL_e680a6377c5941a2a3d5cff6c8989d26",
            "value": 1
          }
        },
        "d16757995ac54ebea90a9ac78df5bf9a": {
          "model_module": "@jupyter-widgets/controls",
          "model_name": "HTMLModel",
          "model_module_version": "1.5.0",
          "state": {
            "_dom_classes": [],
            "_model_module": "@jupyter-widgets/controls",
            "_model_module_version": "1.5.0",
            "_model_name": "HTMLModel",
            "_view_count": null,
            "_view_module": "@jupyter-widgets/controls",
            "_view_module_version": "1.5.0",
            "_view_name": "HTMLView",
            "description": "",
            "description_tooltip": null,
            "layout": "IPY_MODEL_0cd8e1f4114a4fc8bf70c8ecef92e86e",
            "placeholder": "​",
            "style": "IPY_MODEL_288c92f05b0548838502f88e79430706",
            "value": " 1/1 [00:00&lt;00:00, 52.97it/s]"
          }
        },
        "9e91b3902bb147938b2da392955283b4": {
          "model_module": "@jupyter-widgets/base",
          "model_name": "LayoutModel",
          "model_module_version": "1.2.0",
          "state": {
            "_model_module": "@jupyter-widgets/base",
            "_model_module_version": "1.2.0",
            "_model_name": "LayoutModel",
            "_view_count": null,
            "_view_module": "@jupyter-widgets/base",
            "_view_module_version": "1.2.0",
            "_view_name": "LayoutView",
            "align_content": null,
            "align_items": null,
            "align_self": null,
            "border": null,
            "bottom": null,
            "display": null,
            "flex": null,
            "flex_flow": null,
            "grid_area": null,
            "grid_auto_columns": null,
            "grid_auto_flow": null,
            "grid_auto_rows": null,
            "grid_column": null,
            "grid_gap": null,
            "grid_row": null,
            "grid_template_areas": null,
            "grid_template_columns": null,
            "grid_template_rows": null,
            "height": null,
            "justify_content": null,
            "justify_items": null,
            "left": null,
            "margin": null,
            "max_height": null,
            "max_width": null,
            "min_height": null,
            "min_width": null,
            "object_fit": null,
            "object_position": null,
            "order": null,
            "overflow": null,
            "overflow_x": null,
            "overflow_y": null,
            "padding": null,
            "right": null,
            "top": null,
            "visibility": null,
            "width": null
          }
        },
        "977f2214a1b4423ebe83a1e5726eac60": {
          "model_module": "@jupyter-widgets/base",
          "model_name": "LayoutModel",
          "model_module_version": "1.2.0",
          "state": {
            "_model_module": "@jupyter-widgets/base",
            "_model_module_version": "1.2.0",
            "_model_name": "LayoutModel",
            "_view_count": null,
            "_view_module": "@jupyter-widgets/base",
            "_view_module_version": "1.2.0",
            "_view_name": "LayoutView",
            "align_content": null,
            "align_items": null,
            "align_self": null,
            "border": null,
            "bottom": null,
            "display": null,
            "flex": null,
            "flex_flow": null,
            "grid_area": null,
            "grid_auto_columns": null,
            "grid_auto_flow": null,
            "grid_auto_rows": null,
            "grid_column": null,
            "grid_gap": null,
            "grid_row": null,
            "grid_template_areas": null,
            "grid_template_columns": null,
            "grid_template_rows": null,
            "height": null,
            "justify_content": null,
            "justify_items": null,
            "left": null,
            "margin": null,
            "max_height": null,
            "max_width": null,
            "min_height": null,
            "min_width": null,
            "object_fit": null,
            "object_position": null,
            "order": null,
            "overflow": null,
            "overflow_x": null,
            "overflow_y": null,
            "padding": null,
            "right": null,
            "top": null,
            "visibility": null,
            "width": null
          }
        },
        "fdd644d8d92842cdb42029982268fabd": {
          "model_module": "@jupyter-widgets/controls",
          "model_name": "DescriptionStyleModel",
          "model_module_version": "1.5.0",
          "state": {
            "_model_module": "@jupyter-widgets/controls",
            "_model_module_version": "1.5.0",
            "_model_name": "DescriptionStyleModel",
            "_view_count": null,
            "_view_module": "@jupyter-widgets/base",
            "_view_module_version": "1.2.0",
            "_view_name": "StyleView",
            "description_width": ""
          }
        },
        "f4ade9701c9f4199b805231d059096e8": {
          "model_module": "@jupyter-widgets/base",
          "model_name": "LayoutModel",
          "model_module_version": "1.2.0",
          "state": {
            "_model_module": "@jupyter-widgets/base",
            "_model_module_version": "1.2.0",
            "_model_name": "LayoutModel",
            "_view_count": null,
            "_view_module": "@jupyter-widgets/base",
            "_view_module_version": "1.2.0",
            "_view_name": "LayoutView",
            "align_content": null,
            "align_items": null,
            "align_self": null,
            "border": null,
            "bottom": null,
            "display": null,
            "flex": null,
            "flex_flow": null,
            "grid_area": null,
            "grid_auto_columns": null,
            "grid_auto_flow": null,
            "grid_auto_rows": null,
            "grid_column": null,
            "grid_gap": null,
            "grid_row": null,
            "grid_template_areas": null,
            "grid_template_columns": null,
            "grid_template_rows": null,
            "height": null,
            "justify_content": null,
            "justify_items": null,
            "left": null,
            "margin": null,
            "max_height": null,
            "max_width": null,
            "min_height": null,
            "min_width": null,
            "object_fit": null,
            "object_position": null,
            "order": null,
            "overflow": null,
            "overflow_x": null,
            "overflow_y": null,
            "padding": null,
            "right": null,
            "top": null,
            "visibility": null,
            "width": null
          }
        },
        "e680a6377c5941a2a3d5cff6c8989d26": {
          "model_module": "@jupyter-widgets/controls",
          "model_name": "ProgressStyleModel",
          "model_module_version": "1.5.0",
          "state": {
            "_model_module": "@jupyter-widgets/controls",
            "_model_module_version": "1.5.0",
            "_model_name": "ProgressStyleModel",
            "_view_count": null,
            "_view_module": "@jupyter-widgets/base",
            "_view_module_version": "1.2.0",
            "_view_name": "StyleView",
            "bar_color": null,
            "description_width": ""
          }
        },
        "0cd8e1f4114a4fc8bf70c8ecef92e86e": {
          "model_module": "@jupyter-widgets/base",
          "model_name": "LayoutModel",
          "model_module_version": "1.2.0",
          "state": {
            "_model_module": "@jupyter-widgets/base",
            "_model_module_version": "1.2.0",
            "_model_name": "LayoutModel",
            "_view_count": null,
            "_view_module": "@jupyter-widgets/base",
            "_view_module_version": "1.2.0",
            "_view_name": "LayoutView",
            "align_content": null,
            "align_items": null,
            "align_self": null,
            "border": null,
            "bottom": null,
            "display": null,
            "flex": null,
            "flex_flow": null,
            "grid_area": null,
            "grid_auto_columns": null,
            "grid_auto_flow": null,
            "grid_auto_rows": null,
            "grid_column": null,
            "grid_gap": null,
            "grid_row": null,
            "grid_template_areas": null,
            "grid_template_columns": null,
            "grid_template_rows": null,
            "height": null,
            "justify_content": null,
            "justify_items": null,
            "left": null,
            "margin": null,
            "max_height": null,
            "max_width": null,
            "min_height": null,
            "min_width": null,
            "object_fit": null,
            "object_position": null,
            "order": null,
            "overflow": null,
            "overflow_x": null,
            "overflow_y": null,
            "padding": null,
            "right": null,
            "top": null,
            "visibility": null,
            "width": null
          }
        },
        "288c92f05b0548838502f88e79430706": {
          "model_module": "@jupyter-widgets/controls",
          "model_name": "DescriptionStyleModel",
          "model_module_version": "1.5.0",
          "state": {
            "_model_module": "@jupyter-widgets/controls",
            "_model_module_version": "1.5.0",
            "_model_name": "DescriptionStyleModel",
            "_view_count": null,
            "_view_module": "@jupyter-widgets/base",
            "_view_module_version": "1.2.0",
            "_view_name": "StyleView",
            "description_width": ""
          }
        },
        "5c0d64fbaa25406c8b2aba3d407d0baf": {
          "model_module": "@jupyter-widgets/controls",
          "model_name": "HBoxModel",
          "model_module_version": "1.5.0",
          "state": {
            "_dom_classes": [],
            "_model_module": "@jupyter-widgets/controls",
            "_model_module_version": "1.5.0",
            "_model_name": "HBoxModel",
            "_view_count": null,
            "_view_module": "@jupyter-widgets/controls",
            "_view_module_version": "1.5.0",
            "_view_name": "HBoxView",
            "box_style": "",
            "children": [
              "IPY_MODEL_5d3d1ed39e77403fa67cac86e46c252f",
              "IPY_MODEL_9f7586a14c594cba97bf6cbb1c98a92d",
              "IPY_MODEL_fb5c25ffba984cbfb7656f28e62d5616"
            ],
            "layout": "IPY_MODEL_dd24d7b28df947edb3c12b8a32faa774"
          }
        },
        "5d3d1ed39e77403fa67cac86e46c252f": {
          "model_module": "@jupyter-widgets/controls",
          "model_name": "HTMLModel",
          "model_module_version": "1.5.0",
          "state": {
            "_dom_classes": [],
            "_model_module": "@jupyter-widgets/controls",
            "_model_module_version": "1.5.0",
            "_model_name": "HTMLModel",
            "_view_count": null,
            "_view_module": "@jupyter-widgets/controls",
            "_view_module_version": "1.5.0",
            "_view_name": "HTMLView",
            "description": "",
            "description_tooltip": null,
            "layout": "IPY_MODEL_c35668232320400697f905af74927797",
            "placeholder": "​",
            "style": "IPY_MODEL_ef7455b1e17f4e19920a775e73095dc4",
            "value": "Extracting data files: 100%"
          }
        },
        "9f7586a14c594cba97bf6cbb1c98a92d": {
          "model_module": "@jupyter-widgets/controls",
          "model_name": "FloatProgressModel",
          "model_module_version": "1.5.0",
          "state": {
            "_dom_classes": [],
            "_model_module": "@jupyter-widgets/controls",
            "_model_module_version": "1.5.0",
            "_model_name": "FloatProgressModel",
            "_view_count": null,
            "_view_module": "@jupyter-widgets/controls",
            "_view_module_version": "1.5.0",
            "_view_name": "ProgressView",
            "bar_style": "success",
            "description": "",
            "description_tooltip": null,
            "layout": "IPY_MODEL_ff1ec833557b4be29c1686ea6b407a14",
            "max": 1,
            "min": 0,
            "orientation": "horizontal",
            "style": "IPY_MODEL_574a6fe5e8bb4096af12bdc3275d10b2",
            "value": 1
          }
        },
        "fb5c25ffba984cbfb7656f28e62d5616": {
          "model_module": "@jupyter-widgets/controls",
          "model_name": "HTMLModel",
          "model_module_version": "1.5.0",
          "state": {
            "_dom_classes": [],
            "_model_module": "@jupyter-widgets/controls",
            "_model_module_version": "1.5.0",
            "_model_name": "HTMLModel",
            "_view_count": null,
            "_view_module": "@jupyter-widgets/controls",
            "_view_module_version": "1.5.0",
            "_view_name": "HTMLView",
            "description": "",
            "description_tooltip": null,
            "layout": "IPY_MODEL_701ccca346124f1591345dfa15701c6f",
            "placeholder": "​",
            "style": "IPY_MODEL_d59a9d4ac8674f9e8034c1573542b050",
            "value": " 1/1 [00:00&lt;00:00, 35.30it/s]"
          }
        },
        "dd24d7b28df947edb3c12b8a32faa774": {
          "model_module": "@jupyter-widgets/base",
          "model_name": "LayoutModel",
          "model_module_version": "1.2.0",
          "state": {
            "_model_module": "@jupyter-widgets/base",
            "_model_module_version": "1.2.0",
            "_model_name": "LayoutModel",
            "_view_count": null,
            "_view_module": "@jupyter-widgets/base",
            "_view_module_version": "1.2.0",
            "_view_name": "LayoutView",
            "align_content": null,
            "align_items": null,
            "align_self": null,
            "border": null,
            "bottom": null,
            "display": null,
            "flex": null,
            "flex_flow": null,
            "grid_area": null,
            "grid_auto_columns": null,
            "grid_auto_flow": null,
            "grid_auto_rows": null,
            "grid_column": null,
            "grid_gap": null,
            "grid_row": null,
            "grid_template_areas": null,
            "grid_template_columns": null,
            "grid_template_rows": null,
            "height": null,
            "justify_content": null,
            "justify_items": null,
            "left": null,
            "margin": null,
            "max_height": null,
            "max_width": null,
            "min_height": null,
            "min_width": null,
            "object_fit": null,
            "object_position": null,
            "order": null,
            "overflow": null,
            "overflow_x": null,
            "overflow_y": null,
            "padding": null,
            "right": null,
            "top": null,
            "visibility": null,
            "width": null
          }
        },
        "c35668232320400697f905af74927797": {
          "model_module": "@jupyter-widgets/base",
          "model_name": "LayoutModel",
          "model_module_version": "1.2.0",
          "state": {
            "_model_module": "@jupyter-widgets/base",
            "_model_module_version": "1.2.0",
            "_model_name": "LayoutModel",
            "_view_count": null,
            "_view_module": "@jupyter-widgets/base",
            "_view_module_version": "1.2.0",
            "_view_name": "LayoutView",
            "align_content": null,
            "align_items": null,
            "align_self": null,
            "border": null,
            "bottom": null,
            "display": null,
            "flex": null,
            "flex_flow": null,
            "grid_area": null,
            "grid_auto_columns": null,
            "grid_auto_flow": null,
            "grid_auto_rows": null,
            "grid_column": null,
            "grid_gap": null,
            "grid_row": null,
            "grid_template_areas": null,
            "grid_template_columns": null,
            "grid_template_rows": null,
            "height": null,
            "justify_content": null,
            "justify_items": null,
            "left": null,
            "margin": null,
            "max_height": null,
            "max_width": null,
            "min_height": null,
            "min_width": null,
            "object_fit": null,
            "object_position": null,
            "order": null,
            "overflow": null,
            "overflow_x": null,
            "overflow_y": null,
            "padding": null,
            "right": null,
            "top": null,
            "visibility": null,
            "width": null
          }
        },
        "ef7455b1e17f4e19920a775e73095dc4": {
          "model_module": "@jupyter-widgets/controls",
          "model_name": "DescriptionStyleModel",
          "model_module_version": "1.5.0",
          "state": {
            "_model_module": "@jupyter-widgets/controls",
            "_model_module_version": "1.5.0",
            "_model_name": "DescriptionStyleModel",
            "_view_count": null,
            "_view_module": "@jupyter-widgets/base",
            "_view_module_version": "1.2.0",
            "_view_name": "StyleView",
            "description_width": ""
          }
        },
        "ff1ec833557b4be29c1686ea6b407a14": {
          "model_module": "@jupyter-widgets/base",
          "model_name": "LayoutModel",
          "model_module_version": "1.2.0",
          "state": {
            "_model_module": "@jupyter-widgets/base",
            "_model_module_version": "1.2.0",
            "_model_name": "LayoutModel",
            "_view_count": null,
            "_view_module": "@jupyter-widgets/base",
            "_view_module_version": "1.2.0",
            "_view_name": "LayoutView",
            "align_content": null,
            "align_items": null,
            "align_self": null,
            "border": null,
            "bottom": null,
            "display": null,
            "flex": null,
            "flex_flow": null,
            "grid_area": null,
            "grid_auto_columns": null,
            "grid_auto_flow": null,
            "grid_auto_rows": null,
            "grid_column": null,
            "grid_gap": null,
            "grid_row": null,
            "grid_template_areas": null,
            "grid_template_columns": null,
            "grid_template_rows": null,
            "height": null,
            "justify_content": null,
            "justify_items": null,
            "left": null,
            "margin": null,
            "max_height": null,
            "max_width": null,
            "min_height": null,
            "min_width": null,
            "object_fit": null,
            "object_position": null,
            "order": null,
            "overflow": null,
            "overflow_x": null,
            "overflow_y": null,
            "padding": null,
            "right": null,
            "top": null,
            "visibility": null,
            "width": null
          }
        },
        "574a6fe5e8bb4096af12bdc3275d10b2": {
          "model_module": "@jupyter-widgets/controls",
          "model_name": "ProgressStyleModel",
          "model_module_version": "1.5.0",
          "state": {
            "_model_module": "@jupyter-widgets/controls",
            "_model_module_version": "1.5.0",
            "_model_name": "ProgressStyleModel",
            "_view_count": null,
            "_view_module": "@jupyter-widgets/base",
            "_view_module_version": "1.2.0",
            "_view_name": "StyleView",
            "bar_color": null,
            "description_width": ""
          }
        },
        "701ccca346124f1591345dfa15701c6f": {
          "model_module": "@jupyter-widgets/base",
          "model_name": "LayoutModel",
          "model_module_version": "1.2.0",
          "state": {
            "_model_module": "@jupyter-widgets/base",
            "_model_module_version": "1.2.0",
            "_model_name": "LayoutModel",
            "_view_count": null,
            "_view_module": "@jupyter-widgets/base",
            "_view_module_version": "1.2.0",
            "_view_name": "LayoutView",
            "align_content": null,
            "align_items": null,
            "align_self": null,
            "border": null,
            "bottom": null,
            "display": null,
            "flex": null,
            "flex_flow": null,
            "grid_area": null,
            "grid_auto_columns": null,
            "grid_auto_flow": null,
            "grid_auto_rows": null,
            "grid_column": null,
            "grid_gap": null,
            "grid_row": null,
            "grid_template_areas": null,
            "grid_template_columns": null,
            "grid_template_rows": null,
            "height": null,
            "justify_content": null,
            "justify_items": null,
            "left": null,
            "margin": null,
            "max_height": null,
            "max_width": null,
            "min_height": null,
            "min_width": null,
            "object_fit": null,
            "object_position": null,
            "order": null,
            "overflow": null,
            "overflow_x": null,
            "overflow_y": null,
            "padding": null,
            "right": null,
            "top": null,
            "visibility": null,
            "width": null
          }
        },
        "d59a9d4ac8674f9e8034c1573542b050": {
          "model_module": "@jupyter-widgets/controls",
          "model_name": "DescriptionStyleModel",
          "model_module_version": "1.5.0",
          "state": {
            "_model_module": "@jupyter-widgets/controls",
            "_model_module_version": "1.5.0",
            "_model_name": "DescriptionStyleModel",
            "_view_count": null,
            "_view_module": "@jupyter-widgets/base",
            "_view_module_version": "1.2.0",
            "_view_name": "StyleView",
            "description_width": ""
          }
        },
        "be917d3da4db4a4ba2b0f507b7aea305": {
          "model_module": "@jupyter-widgets/controls",
          "model_name": "HBoxModel",
          "model_module_version": "1.5.0",
          "state": {
            "_dom_classes": [],
            "_model_module": "@jupyter-widgets/controls",
            "_model_module_version": "1.5.0",
            "_model_name": "HBoxModel",
            "_view_count": null,
            "_view_module": "@jupyter-widgets/controls",
            "_view_module_version": "1.5.0",
            "_view_name": "HBoxView",
            "box_style": "",
            "children": [
              "IPY_MODEL_20aa6f8590494c96a331bcf23f7cdead",
              "IPY_MODEL_fbe207e667054108947ab1da814ed0e6",
              "IPY_MODEL_adc70ef7f4774abbb6a8dca4cbe4b860"
            ],
            "layout": "IPY_MODEL_e46098db173a4219ac9d00ca2cc86865"
          }
        },
        "20aa6f8590494c96a331bcf23f7cdead": {
          "model_module": "@jupyter-widgets/controls",
          "model_name": "HTMLModel",
          "model_module_version": "1.5.0",
          "state": {
            "_dom_classes": [],
            "_model_module": "@jupyter-widgets/controls",
            "_model_module_version": "1.5.0",
            "_model_name": "HTMLModel",
            "_view_count": null,
            "_view_module": "@jupyter-widgets/controls",
            "_view_module_version": "1.5.0",
            "_view_name": "HTMLView",
            "description": "",
            "description_tooltip": null,
            "layout": "IPY_MODEL_d6601240ae26414c9e6c4002afdf1345",
            "placeholder": "​",
            "style": "IPY_MODEL_821f278242d243c0b12a00ed41d771f1",
            "value": "Generating train split: "
          }
        },
        "fbe207e667054108947ab1da814ed0e6": {
          "model_module": "@jupyter-widgets/controls",
          "model_name": "FloatProgressModel",
          "model_module_version": "1.5.0",
          "state": {
            "_dom_classes": [],
            "_model_module": "@jupyter-widgets/controls",
            "_model_module_version": "1.5.0",
            "_model_name": "FloatProgressModel",
            "_view_count": null,
            "_view_module": "@jupyter-widgets/controls",
            "_view_module_version": "1.5.0",
            "_view_name": "ProgressView",
            "bar_style": "success",
            "description": "",
            "description_tooltip": null,
            "layout": "IPY_MODEL_0bc23416c7184c8896975085a0e84e4b",
            "max": 1,
            "min": 0,
            "orientation": "horizontal",
            "style": "IPY_MODEL_93ae5275c84a44738444354b11e5a591",
            "value": 1
          }
        },
        "adc70ef7f4774abbb6a8dca4cbe4b860": {
          "model_module": "@jupyter-widgets/controls",
          "model_name": "HTMLModel",
          "model_module_version": "1.5.0",
          "state": {
            "_dom_classes": [],
            "_model_module": "@jupyter-widgets/controls",
            "_model_module_version": "1.5.0",
            "_model_name": "HTMLModel",
            "_view_count": null,
            "_view_module": "@jupyter-widgets/controls",
            "_view_module_version": "1.5.0",
            "_view_name": "HTMLView",
            "description": "",
            "description_tooltip": null,
            "layout": "IPY_MODEL_44fd85850c5943b1beb272355bd768b7",
            "placeholder": "​",
            "style": "IPY_MODEL_640c6d759f0d4bd087456a8eb206520e",
            "value": " 30000/0 [00:00&lt;00:00, 99553.16 examples/s]"
          }
        },
        "e46098db173a4219ac9d00ca2cc86865": {
          "model_module": "@jupyter-widgets/base",
          "model_name": "LayoutModel",
          "model_module_version": "1.2.0",
          "state": {
            "_model_module": "@jupyter-widgets/base",
            "_model_module_version": "1.2.0",
            "_model_name": "LayoutModel",
            "_view_count": null,
            "_view_module": "@jupyter-widgets/base",
            "_view_module_version": "1.2.0",
            "_view_name": "LayoutView",
            "align_content": null,
            "align_items": null,
            "align_self": null,
            "border": null,
            "bottom": null,
            "display": null,
            "flex": null,
            "flex_flow": null,
            "grid_area": null,
            "grid_auto_columns": null,
            "grid_auto_flow": null,
            "grid_auto_rows": null,
            "grid_column": null,
            "grid_gap": null,
            "grid_row": null,
            "grid_template_areas": null,
            "grid_template_columns": null,
            "grid_template_rows": null,
            "height": null,
            "justify_content": null,
            "justify_items": null,
            "left": null,
            "margin": null,
            "max_height": null,
            "max_width": null,
            "min_height": null,
            "min_width": null,
            "object_fit": null,
            "object_position": null,
            "order": null,
            "overflow": null,
            "overflow_x": null,
            "overflow_y": null,
            "padding": null,
            "right": null,
            "top": null,
            "visibility": null,
            "width": null
          }
        },
        "d6601240ae26414c9e6c4002afdf1345": {
          "model_module": "@jupyter-widgets/base",
          "model_name": "LayoutModel",
          "model_module_version": "1.2.0",
          "state": {
            "_model_module": "@jupyter-widgets/base",
            "_model_module_version": "1.2.0",
            "_model_name": "LayoutModel",
            "_view_count": null,
            "_view_module": "@jupyter-widgets/base",
            "_view_module_version": "1.2.0",
            "_view_name": "LayoutView",
            "align_content": null,
            "align_items": null,
            "align_self": null,
            "border": null,
            "bottom": null,
            "display": null,
            "flex": null,
            "flex_flow": null,
            "grid_area": null,
            "grid_auto_columns": null,
            "grid_auto_flow": null,
            "grid_auto_rows": null,
            "grid_column": null,
            "grid_gap": null,
            "grid_row": null,
            "grid_template_areas": null,
            "grid_template_columns": null,
            "grid_template_rows": null,
            "height": null,
            "justify_content": null,
            "justify_items": null,
            "left": null,
            "margin": null,
            "max_height": null,
            "max_width": null,
            "min_height": null,
            "min_width": null,
            "object_fit": null,
            "object_position": null,
            "order": null,
            "overflow": null,
            "overflow_x": null,
            "overflow_y": null,
            "padding": null,
            "right": null,
            "top": null,
            "visibility": null,
            "width": null
          }
        },
        "821f278242d243c0b12a00ed41d771f1": {
          "model_module": "@jupyter-widgets/controls",
          "model_name": "DescriptionStyleModel",
          "model_module_version": "1.5.0",
          "state": {
            "_model_module": "@jupyter-widgets/controls",
            "_model_module_version": "1.5.0",
            "_model_name": "DescriptionStyleModel",
            "_view_count": null,
            "_view_module": "@jupyter-widgets/base",
            "_view_module_version": "1.2.0",
            "_view_name": "StyleView",
            "description_width": ""
          }
        },
        "0bc23416c7184c8896975085a0e84e4b": {
          "model_module": "@jupyter-widgets/base",
          "model_name": "LayoutModel",
          "model_module_version": "1.2.0",
          "state": {
            "_model_module": "@jupyter-widgets/base",
            "_model_module_version": "1.2.0",
            "_model_name": "LayoutModel",
            "_view_count": null,
            "_view_module": "@jupyter-widgets/base",
            "_view_module_version": "1.2.0",
            "_view_name": "LayoutView",
            "align_content": null,
            "align_items": null,
            "align_self": null,
            "border": null,
            "bottom": null,
            "display": null,
            "flex": null,
            "flex_flow": null,
            "grid_area": null,
            "grid_auto_columns": null,
            "grid_auto_flow": null,
            "grid_auto_rows": null,
            "grid_column": null,
            "grid_gap": null,
            "grid_row": null,
            "grid_template_areas": null,
            "grid_template_columns": null,
            "grid_template_rows": null,
            "height": null,
            "justify_content": null,
            "justify_items": null,
            "left": null,
            "margin": null,
            "max_height": null,
            "max_width": null,
            "min_height": null,
            "min_width": null,
            "object_fit": null,
            "object_position": null,
            "order": null,
            "overflow": null,
            "overflow_x": null,
            "overflow_y": null,
            "padding": null,
            "right": null,
            "top": null,
            "visibility": null,
            "width": "20px"
          }
        },
        "93ae5275c84a44738444354b11e5a591": {
          "model_module": "@jupyter-widgets/controls",
          "model_name": "ProgressStyleModel",
          "model_module_version": "1.5.0",
          "state": {
            "_model_module": "@jupyter-widgets/controls",
            "_model_module_version": "1.5.0",
            "_model_name": "ProgressStyleModel",
            "_view_count": null,
            "_view_module": "@jupyter-widgets/base",
            "_view_module_version": "1.2.0",
            "_view_name": "StyleView",
            "bar_color": null,
            "description_width": ""
          }
        },
        "44fd85850c5943b1beb272355bd768b7": {
          "model_module": "@jupyter-widgets/base",
          "model_name": "LayoutModel",
          "model_module_version": "1.2.0",
          "state": {
            "_model_module": "@jupyter-widgets/base",
            "_model_module_version": "1.2.0",
            "_model_name": "LayoutModel",
            "_view_count": null,
            "_view_module": "@jupyter-widgets/base",
            "_view_module_version": "1.2.0",
            "_view_name": "LayoutView",
            "align_content": null,
            "align_items": null,
            "align_self": null,
            "border": null,
            "bottom": null,
            "display": null,
            "flex": null,
            "flex_flow": null,
            "grid_area": null,
            "grid_auto_columns": null,
            "grid_auto_flow": null,
            "grid_auto_rows": null,
            "grid_column": null,
            "grid_gap": null,
            "grid_row": null,
            "grid_template_areas": null,
            "grid_template_columns": null,
            "grid_template_rows": null,
            "height": null,
            "justify_content": null,
            "justify_items": null,
            "left": null,
            "margin": null,
            "max_height": null,
            "max_width": null,
            "min_height": null,
            "min_width": null,
            "object_fit": null,
            "object_position": null,
            "order": null,
            "overflow": null,
            "overflow_x": null,
            "overflow_y": null,
            "padding": null,
            "right": null,
            "top": null,
            "visibility": null,
            "width": null
          }
        },
        "640c6d759f0d4bd087456a8eb206520e": {
          "model_module": "@jupyter-widgets/controls",
          "model_name": "DescriptionStyleModel",
          "model_module_version": "1.5.0",
          "state": {
            "_model_module": "@jupyter-widgets/controls",
            "_model_module_version": "1.5.0",
            "_model_name": "DescriptionStyleModel",
            "_view_count": null,
            "_view_module": "@jupyter-widgets/base",
            "_view_module_version": "1.2.0",
            "_view_name": "StyleView",
            "description_width": ""
          }
        },
        "e05dfa93670e4eeeb5d0fe4a0c12fe23": {
          "model_module": "@jupyter-widgets/controls",
          "model_name": "HBoxModel",
          "model_module_version": "1.5.0",
          "state": {
            "_dom_classes": [],
            "_model_module": "@jupyter-widgets/controls",
            "_model_module_version": "1.5.0",
            "_model_name": "HBoxModel",
            "_view_count": null,
            "_view_module": "@jupyter-widgets/controls",
            "_view_module_version": "1.5.0",
            "_view_name": "HBoxView",
            "box_style": "",
            "children": [
              "IPY_MODEL_ba6095dec2b44d3a991d1b1e71b49a82",
              "IPY_MODEL_f9154becafe240b29bb5d52f7c430e22",
              "IPY_MODEL_22d31fc041a144e1b8968e1135de5f51"
            ],
            "layout": "IPY_MODEL_c1d9fdb625944ddeb3e1f7915f413a00"
          }
        },
        "ba6095dec2b44d3a991d1b1e71b49a82": {
          "model_module": "@jupyter-widgets/controls",
          "model_name": "HTMLModel",
          "model_module_version": "1.5.0",
          "state": {
            "_dom_classes": [],
            "_model_module": "@jupyter-widgets/controls",
            "_model_module_version": "1.5.0",
            "_model_name": "HTMLModel",
            "_view_count": null,
            "_view_module": "@jupyter-widgets/controls",
            "_view_module_version": "1.5.0",
            "_view_name": "HTMLView",
            "description": "",
            "description_tooltip": null,
            "layout": "IPY_MODEL_089fc63b2a6a430ea9e9586f1303088c",
            "placeholder": "​",
            "style": "IPY_MODEL_91bdb0b6815d471484a0198b243cb88f",
            "value": "tokenizer_config.json: 100%"
          }
        },
        "f9154becafe240b29bb5d52f7c430e22": {
          "model_module": "@jupyter-widgets/controls",
          "model_name": "FloatProgressModel",
          "model_module_version": "1.5.0",
          "state": {
            "_dom_classes": [],
            "_model_module": "@jupyter-widgets/controls",
            "_model_module_version": "1.5.0",
            "_model_name": "FloatProgressModel",
            "_view_count": null,
            "_view_module": "@jupyter-widgets/controls",
            "_view_module_version": "1.5.0",
            "_view_name": "ProgressView",
            "bar_style": "success",
            "description": "",
            "description_tooltip": null,
            "layout": "IPY_MODEL_6e7d1067cc494f05aec88f7cc6f7b253",
            "max": 44,
            "min": 0,
            "orientation": "horizontal",
            "style": "IPY_MODEL_61eb33b0df5f4f8793cc01a90780bc07",
            "value": 44
          }
        },
        "22d31fc041a144e1b8968e1135de5f51": {
          "model_module": "@jupyter-widgets/controls",
          "model_name": "HTMLModel",
          "model_module_version": "1.5.0",
          "state": {
            "_dom_classes": [],
            "_model_module": "@jupyter-widgets/controls",
            "_model_module_version": "1.5.0",
            "_model_name": "HTMLModel",
            "_view_count": null,
            "_view_module": "@jupyter-widgets/controls",
            "_view_module_version": "1.5.0",
            "_view_name": "HTMLView",
            "description": "",
            "description_tooltip": null,
            "layout": "IPY_MODEL_f883a45badb64178ad6b90182369e7ab",
            "placeholder": "​",
            "style": "IPY_MODEL_4d76ebc4ef7a4aa39ad21667cd51282f",
            "value": " 44.0/44.0 [00:00&lt;00:00, 2.41kB/s]"
          }
        },
        "c1d9fdb625944ddeb3e1f7915f413a00": {
          "model_module": "@jupyter-widgets/base",
          "model_name": "LayoutModel",
          "model_module_version": "1.2.0",
          "state": {
            "_model_module": "@jupyter-widgets/base",
            "_model_module_version": "1.2.0",
            "_model_name": "LayoutModel",
            "_view_count": null,
            "_view_module": "@jupyter-widgets/base",
            "_view_module_version": "1.2.0",
            "_view_name": "LayoutView",
            "align_content": null,
            "align_items": null,
            "align_self": null,
            "border": null,
            "bottom": null,
            "display": null,
            "flex": null,
            "flex_flow": null,
            "grid_area": null,
            "grid_auto_columns": null,
            "grid_auto_flow": null,
            "grid_auto_rows": null,
            "grid_column": null,
            "grid_gap": null,
            "grid_row": null,
            "grid_template_areas": null,
            "grid_template_columns": null,
            "grid_template_rows": null,
            "height": null,
            "justify_content": null,
            "justify_items": null,
            "left": null,
            "margin": null,
            "max_height": null,
            "max_width": null,
            "min_height": null,
            "min_width": null,
            "object_fit": null,
            "object_position": null,
            "order": null,
            "overflow": null,
            "overflow_x": null,
            "overflow_y": null,
            "padding": null,
            "right": null,
            "top": null,
            "visibility": null,
            "width": null
          }
        },
        "089fc63b2a6a430ea9e9586f1303088c": {
          "model_module": "@jupyter-widgets/base",
          "model_name": "LayoutModel",
          "model_module_version": "1.2.0",
          "state": {
            "_model_module": "@jupyter-widgets/base",
            "_model_module_version": "1.2.0",
            "_model_name": "LayoutModel",
            "_view_count": null,
            "_view_module": "@jupyter-widgets/base",
            "_view_module_version": "1.2.0",
            "_view_name": "LayoutView",
            "align_content": null,
            "align_items": null,
            "align_self": null,
            "border": null,
            "bottom": null,
            "display": null,
            "flex": null,
            "flex_flow": null,
            "grid_area": null,
            "grid_auto_columns": null,
            "grid_auto_flow": null,
            "grid_auto_rows": null,
            "grid_column": null,
            "grid_gap": null,
            "grid_row": null,
            "grid_template_areas": null,
            "grid_template_columns": null,
            "grid_template_rows": null,
            "height": null,
            "justify_content": null,
            "justify_items": null,
            "left": null,
            "margin": null,
            "max_height": null,
            "max_width": null,
            "min_height": null,
            "min_width": null,
            "object_fit": null,
            "object_position": null,
            "order": null,
            "overflow": null,
            "overflow_x": null,
            "overflow_y": null,
            "padding": null,
            "right": null,
            "top": null,
            "visibility": null,
            "width": null
          }
        },
        "91bdb0b6815d471484a0198b243cb88f": {
          "model_module": "@jupyter-widgets/controls",
          "model_name": "DescriptionStyleModel",
          "model_module_version": "1.5.0",
          "state": {
            "_model_module": "@jupyter-widgets/controls",
            "_model_module_version": "1.5.0",
            "_model_name": "DescriptionStyleModel",
            "_view_count": null,
            "_view_module": "@jupyter-widgets/base",
            "_view_module_version": "1.2.0",
            "_view_name": "StyleView",
            "description_width": ""
          }
        },
        "6e7d1067cc494f05aec88f7cc6f7b253": {
          "model_module": "@jupyter-widgets/base",
          "model_name": "LayoutModel",
          "model_module_version": "1.2.0",
          "state": {
            "_model_module": "@jupyter-widgets/base",
            "_model_module_version": "1.2.0",
            "_model_name": "LayoutModel",
            "_view_count": null,
            "_view_module": "@jupyter-widgets/base",
            "_view_module_version": "1.2.0",
            "_view_name": "LayoutView",
            "align_content": null,
            "align_items": null,
            "align_self": null,
            "border": null,
            "bottom": null,
            "display": null,
            "flex": null,
            "flex_flow": null,
            "grid_area": null,
            "grid_auto_columns": null,
            "grid_auto_flow": null,
            "grid_auto_rows": null,
            "grid_column": null,
            "grid_gap": null,
            "grid_row": null,
            "grid_template_areas": null,
            "grid_template_columns": null,
            "grid_template_rows": null,
            "height": null,
            "justify_content": null,
            "justify_items": null,
            "left": null,
            "margin": null,
            "max_height": null,
            "max_width": null,
            "min_height": null,
            "min_width": null,
            "object_fit": null,
            "object_position": null,
            "order": null,
            "overflow": null,
            "overflow_x": null,
            "overflow_y": null,
            "padding": null,
            "right": null,
            "top": null,
            "visibility": null,
            "width": null
          }
        },
        "61eb33b0df5f4f8793cc01a90780bc07": {
          "model_module": "@jupyter-widgets/controls",
          "model_name": "ProgressStyleModel",
          "model_module_version": "1.5.0",
          "state": {
            "_model_module": "@jupyter-widgets/controls",
            "_model_module_version": "1.5.0",
            "_model_name": "ProgressStyleModel",
            "_view_count": null,
            "_view_module": "@jupyter-widgets/base",
            "_view_module_version": "1.2.0",
            "_view_name": "StyleView",
            "bar_color": null,
            "description_width": ""
          }
        },
        "f883a45badb64178ad6b90182369e7ab": {
          "model_module": "@jupyter-widgets/base",
          "model_name": "LayoutModel",
          "model_module_version": "1.2.0",
          "state": {
            "_model_module": "@jupyter-widgets/base",
            "_model_module_version": "1.2.0",
            "_model_name": "LayoutModel",
            "_view_count": null,
            "_view_module": "@jupyter-widgets/base",
            "_view_module_version": "1.2.0",
            "_view_name": "LayoutView",
            "align_content": null,
            "align_items": null,
            "align_self": null,
            "border": null,
            "bottom": null,
            "display": null,
            "flex": null,
            "flex_flow": null,
            "grid_area": null,
            "grid_auto_columns": null,
            "grid_auto_flow": null,
            "grid_auto_rows": null,
            "grid_column": null,
            "grid_gap": null,
            "grid_row": null,
            "grid_template_areas": null,
            "grid_template_columns": null,
            "grid_template_rows": null,
            "height": null,
            "justify_content": null,
            "justify_items": null,
            "left": null,
            "margin": null,
            "max_height": null,
            "max_width": null,
            "min_height": null,
            "min_width": null,
            "object_fit": null,
            "object_position": null,
            "order": null,
            "overflow": null,
            "overflow_x": null,
            "overflow_y": null,
            "padding": null,
            "right": null,
            "top": null,
            "visibility": null,
            "width": null
          }
        },
        "4d76ebc4ef7a4aa39ad21667cd51282f": {
          "model_module": "@jupyter-widgets/controls",
          "model_name": "DescriptionStyleModel",
          "model_module_version": "1.5.0",
          "state": {
            "_model_module": "@jupyter-widgets/controls",
            "_model_module_version": "1.5.0",
            "_model_name": "DescriptionStyleModel",
            "_view_count": null,
            "_view_module": "@jupyter-widgets/base",
            "_view_module_version": "1.2.0",
            "_view_name": "StyleView",
            "description_width": ""
          }
        },
        "f6f853db2f3646c1a0621b5141617d64": {
          "model_module": "@jupyter-widgets/controls",
          "model_name": "HBoxModel",
          "model_module_version": "1.5.0",
          "state": {
            "_dom_classes": [],
            "_model_module": "@jupyter-widgets/controls",
            "_model_module_version": "1.5.0",
            "_model_name": "HBoxModel",
            "_view_count": null,
            "_view_module": "@jupyter-widgets/controls",
            "_view_module_version": "1.5.0",
            "_view_name": "HBoxView",
            "box_style": "",
            "children": [
              "IPY_MODEL_5792e8d0b9d44c66ac5f9dacb79f59a3",
              "IPY_MODEL_bf6c8966b6244e31ba99d59a2d523096",
              "IPY_MODEL_f469d68c66a045629874ed1dad585404"
            ],
            "layout": "IPY_MODEL_e412ca069c3449deb0927376932f5c41"
          }
        },
        "5792e8d0b9d44c66ac5f9dacb79f59a3": {
          "model_module": "@jupyter-widgets/controls",
          "model_name": "HTMLModel",
          "model_module_version": "1.5.0",
          "state": {
            "_dom_classes": [],
            "_model_module": "@jupyter-widgets/controls",
            "_model_module_version": "1.5.0",
            "_model_name": "HTMLModel",
            "_view_count": null,
            "_view_module": "@jupyter-widgets/controls",
            "_view_module_version": "1.5.0",
            "_view_name": "HTMLView",
            "description": "",
            "description_tooltip": null,
            "layout": "IPY_MODEL_818119f176b74e219f4efee8e19e9161",
            "placeholder": "​",
            "style": "IPY_MODEL_95425cede3bd491f804ef462fa7272e8",
            "value": "config.json: 100%"
          }
        },
        "bf6c8966b6244e31ba99d59a2d523096": {
          "model_module": "@jupyter-widgets/controls",
          "model_name": "FloatProgressModel",
          "model_module_version": "1.5.0",
          "state": {
            "_dom_classes": [],
            "_model_module": "@jupyter-widgets/controls",
            "_model_module_version": "1.5.0",
            "_model_name": "FloatProgressModel",
            "_view_count": null,
            "_view_module": "@jupyter-widgets/controls",
            "_view_module_version": "1.5.0",
            "_view_name": "ProgressView",
            "bar_style": "success",
            "description": "",
            "description_tooltip": null,
            "layout": "IPY_MODEL_946cce92a3734f80b7fed5aa5dd1d26c",
            "max": 1473,
            "min": 0,
            "orientation": "horizontal",
            "style": "IPY_MODEL_700b304d683b416ca3fdb5b90d0d2586",
            "value": 1473
          }
        },
        "f469d68c66a045629874ed1dad585404": {
          "model_module": "@jupyter-widgets/controls",
          "model_name": "HTMLModel",
          "model_module_version": "1.5.0",
          "state": {
            "_dom_classes": [],
            "_model_module": "@jupyter-widgets/controls",
            "_model_module_version": "1.5.0",
            "_model_name": "HTMLModel",
            "_view_count": null,
            "_view_module": "@jupyter-widgets/controls",
            "_view_module_version": "1.5.0",
            "_view_name": "HTMLView",
            "description": "",
            "description_tooltip": null,
            "layout": "IPY_MODEL_af2ccac839964cffa45e24aa15ffadfe",
            "placeholder": "​",
            "style": "IPY_MODEL_4c93941482614f199c51562b0c55e3a6",
            "value": " 1.47k/1.47k [00:00&lt;00:00, 61.1kB/s]"
          }
        },
        "e412ca069c3449deb0927376932f5c41": {
          "model_module": "@jupyter-widgets/base",
          "model_name": "LayoutModel",
          "model_module_version": "1.2.0",
          "state": {
            "_model_module": "@jupyter-widgets/base",
            "_model_module_version": "1.2.0",
            "_model_name": "LayoutModel",
            "_view_count": null,
            "_view_module": "@jupyter-widgets/base",
            "_view_module_version": "1.2.0",
            "_view_name": "LayoutView",
            "align_content": null,
            "align_items": null,
            "align_self": null,
            "border": null,
            "bottom": null,
            "display": null,
            "flex": null,
            "flex_flow": null,
            "grid_area": null,
            "grid_auto_columns": null,
            "grid_auto_flow": null,
            "grid_auto_rows": null,
            "grid_column": null,
            "grid_gap": null,
            "grid_row": null,
            "grid_template_areas": null,
            "grid_template_columns": null,
            "grid_template_rows": null,
            "height": null,
            "justify_content": null,
            "justify_items": null,
            "left": null,
            "margin": null,
            "max_height": null,
            "max_width": null,
            "min_height": null,
            "min_width": null,
            "object_fit": null,
            "object_position": null,
            "order": null,
            "overflow": null,
            "overflow_x": null,
            "overflow_y": null,
            "padding": null,
            "right": null,
            "top": null,
            "visibility": null,
            "width": null
          }
        },
        "818119f176b74e219f4efee8e19e9161": {
          "model_module": "@jupyter-widgets/base",
          "model_name": "LayoutModel",
          "model_module_version": "1.2.0",
          "state": {
            "_model_module": "@jupyter-widgets/base",
            "_model_module_version": "1.2.0",
            "_model_name": "LayoutModel",
            "_view_count": null,
            "_view_module": "@jupyter-widgets/base",
            "_view_module_version": "1.2.0",
            "_view_name": "LayoutView",
            "align_content": null,
            "align_items": null,
            "align_self": null,
            "border": null,
            "bottom": null,
            "display": null,
            "flex": null,
            "flex_flow": null,
            "grid_area": null,
            "grid_auto_columns": null,
            "grid_auto_flow": null,
            "grid_auto_rows": null,
            "grid_column": null,
            "grid_gap": null,
            "grid_row": null,
            "grid_template_areas": null,
            "grid_template_columns": null,
            "grid_template_rows": null,
            "height": null,
            "justify_content": null,
            "justify_items": null,
            "left": null,
            "margin": null,
            "max_height": null,
            "max_width": null,
            "min_height": null,
            "min_width": null,
            "object_fit": null,
            "object_position": null,
            "order": null,
            "overflow": null,
            "overflow_x": null,
            "overflow_y": null,
            "padding": null,
            "right": null,
            "top": null,
            "visibility": null,
            "width": null
          }
        },
        "95425cede3bd491f804ef462fa7272e8": {
          "model_module": "@jupyter-widgets/controls",
          "model_name": "DescriptionStyleModel",
          "model_module_version": "1.5.0",
          "state": {
            "_model_module": "@jupyter-widgets/controls",
            "_model_module_version": "1.5.0",
            "_model_name": "DescriptionStyleModel",
            "_view_count": null,
            "_view_module": "@jupyter-widgets/base",
            "_view_module_version": "1.2.0",
            "_view_name": "StyleView",
            "description_width": ""
          }
        },
        "946cce92a3734f80b7fed5aa5dd1d26c": {
          "model_module": "@jupyter-widgets/base",
          "model_name": "LayoutModel",
          "model_module_version": "1.2.0",
          "state": {
            "_model_module": "@jupyter-widgets/base",
            "_model_module_version": "1.2.0",
            "_model_name": "LayoutModel",
            "_view_count": null,
            "_view_module": "@jupyter-widgets/base",
            "_view_module_version": "1.2.0",
            "_view_name": "LayoutView",
            "align_content": null,
            "align_items": null,
            "align_self": null,
            "border": null,
            "bottom": null,
            "display": null,
            "flex": null,
            "flex_flow": null,
            "grid_area": null,
            "grid_auto_columns": null,
            "grid_auto_flow": null,
            "grid_auto_rows": null,
            "grid_column": null,
            "grid_gap": null,
            "grid_row": null,
            "grid_template_areas": null,
            "grid_template_columns": null,
            "grid_template_rows": null,
            "height": null,
            "justify_content": null,
            "justify_items": null,
            "left": null,
            "margin": null,
            "max_height": null,
            "max_width": null,
            "min_height": null,
            "min_width": null,
            "object_fit": null,
            "object_position": null,
            "order": null,
            "overflow": null,
            "overflow_x": null,
            "overflow_y": null,
            "padding": null,
            "right": null,
            "top": null,
            "visibility": null,
            "width": null
          }
        },
        "700b304d683b416ca3fdb5b90d0d2586": {
          "model_module": "@jupyter-widgets/controls",
          "model_name": "ProgressStyleModel",
          "model_module_version": "1.5.0",
          "state": {
            "_model_module": "@jupyter-widgets/controls",
            "_model_module_version": "1.5.0",
            "_model_name": "ProgressStyleModel",
            "_view_count": null,
            "_view_module": "@jupyter-widgets/base",
            "_view_module_version": "1.2.0",
            "_view_name": "StyleView",
            "bar_color": null,
            "description_width": ""
          }
        },
        "af2ccac839964cffa45e24aa15ffadfe": {
          "model_module": "@jupyter-widgets/base",
          "model_name": "LayoutModel",
          "model_module_version": "1.2.0",
          "state": {
            "_model_module": "@jupyter-widgets/base",
            "_model_module_version": "1.2.0",
            "_model_name": "LayoutModel",
            "_view_count": null,
            "_view_module": "@jupyter-widgets/base",
            "_view_module_version": "1.2.0",
            "_view_name": "LayoutView",
            "align_content": null,
            "align_items": null,
            "align_self": null,
            "border": null,
            "bottom": null,
            "display": null,
            "flex": null,
            "flex_flow": null,
            "grid_area": null,
            "grid_auto_columns": null,
            "grid_auto_flow": null,
            "grid_auto_rows": null,
            "grid_column": null,
            "grid_gap": null,
            "grid_row": null,
            "grid_template_areas": null,
            "grid_template_columns": null,
            "grid_template_rows": null,
            "height": null,
            "justify_content": null,
            "justify_items": null,
            "left": null,
            "margin": null,
            "max_height": null,
            "max_width": null,
            "min_height": null,
            "min_width": null,
            "object_fit": null,
            "object_position": null,
            "order": null,
            "overflow": null,
            "overflow_x": null,
            "overflow_y": null,
            "padding": null,
            "right": null,
            "top": null,
            "visibility": null,
            "width": null
          }
        },
        "4c93941482614f199c51562b0c55e3a6": {
          "model_module": "@jupyter-widgets/controls",
          "model_name": "DescriptionStyleModel",
          "model_module_version": "1.5.0",
          "state": {
            "_model_module": "@jupyter-widgets/controls",
            "_model_module_version": "1.5.0",
            "_model_name": "DescriptionStyleModel",
            "_view_count": null,
            "_view_module": "@jupyter-widgets/base",
            "_view_module_version": "1.2.0",
            "_view_name": "StyleView",
            "description_width": ""
          }
        },
        "ca7cf103c76442b1921c7ade838079f8": {
          "model_module": "@jupyter-widgets/controls",
          "model_name": "HBoxModel",
          "model_module_version": "1.5.0",
          "state": {
            "_dom_classes": [],
            "_model_module": "@jupyter-widgets/controls",
            "_model_module_version": "1.5.0",
            "_model_name": "HBoxModel",
            "_view_count": null,
            "_view_module": "@jupyter-widgets/controls",
            "_view_module_version": "1.5.0",
            "_view_name": "HBoxView",
            "box_style": "",
            "children": [
              "IPY_MODEL_67551767f0604873838a08dc76405ce4",
              "IPY_MODEL_43a7f4b8db894e209ae2c3457e7dba4e",
              "IPY_MODEL_a9cd0baf555d47a3a1165a953ade14ba"
            ],
            "layout": "IPY_MODEL_e1bc4d7376e34d509a3779bfbabe6a4b"
          }
        },
        "67551767f0604873838a08dc76405ce4": {
          "model_module": "@jupyter-widgets/controls",
          "model_name": "HTMLModel",
          "model_module_version": "1.5.0",
          "state": {
            "_dom_classes": [],
            "_model_module": "@jupyter-widgets/controls",
            "_model_module_version": "1.5.0",
            "_model_name": "HTMLModel",
            "_view_count": null,
            "_view_module": "@jupyter-widgets/controls",
            "_view_module_version": "1.5.0",
            "_view_name": "HTMLView",
            "description": "",
            "description_tooltip": null,
            "layout": "IPY_MODEL_6ef259b8e92f408a800614e9b09fa966",
            "placeholder": "​",
            "style": "IPY_MODEL_6ccd65e6f99146dcb25aa15c242ece7f",
            "value": "source.spm: 100%"
          }
        },
        "43a7f4b8db894e209ae2c3457e7dba4e": {
          "model_module": "@jupyter-widgets/controls",
          "model_name": "FloatProgressModel",
          "model_module_version": "1.5.0",
          "state": {
            "_dom_classes": [],
            "_model_module": "@jupyter-widgets/controls",
            "_model_module_version": "1.5.0",
            "_model_name": "FloatProgressModel",
            "_view_count": null,
            "_view_module": "@jupyter-widgets/controls",
            "_view_module_version": "1.5.0",
            "_view_name": "ProgressView",
            "bar_style": "success",
            "description": "",
            "description_tooltip": null,
            "layout": "IPY_MODEL_aa0e34b9a6684159b76c58d498c2805e",
            "max": 801636,
            "min": 0,
            "orientation": "horizontal",
            "style": "IPY_MODEL_0613a18655b54af98e7efb51d51cb304",
            "value": 801636
          }
        },
        "a9cd0baf555d47a3a1165a953ade14ba": {
          "model_module": "@jupyter-widgets/controls",
          "model_name": "HTMLModel",
          "model_module_version": "1.5.0",
          "state": {
            "_dom_classes": [],
            "_model_module": "@jupyter-widgets/controls",
            "_model_module_version": "1.5.0",
            "_model_name": "HTMLModel",
            "_view_count": null,
            "_view_module": "@jupyter-widgets/controls",
            "_view_module_version": "1.5.0",
            "_view_name": "HTMLView",
            "description": "",
            "description_tooltip": null,
            "layout": "IPY_MODEL_900f5a9ed2db4c40b0e639f85f3ac7bb",
            "placeholder": "​",
            "style": "IPY_MODEL_bd9361c78d7248ffa7274929bc82aa7e",
            "value": " 802k/802k [00:00&lt;00:00, 11.7MB/s]"
          }
        },
        "e1bc4d7376e34d509a3779bfbabe6a4b": {
          "model_module": "@jupyter-widgets/base",
          "model_name": "LayoutModel",
          "model_module_version": "1.2.0",
          "state": {
            "_model_module": "@jupyter-widgets/base",
            "_model_module_version": "1.2.0",
            "_model_name": "LayoutModel",
            "_view_count": null,
            "_view_module": "@jupyter-widgets/base",
            "_view_module_version": "1.2.0",
            "_view_name": "LayoutView",
            "align_content": null,
            "align_items": null,
            "align_self": null,
            "border": null,
            "bottom": null,
            "display": null,
            "flex": null,
            "flex_flow": null,
            "grid_area": null,
            "grid_auto_columns": null,
            "grid_auto_flow": null,
            "grid_auto_rows": null,
            "grid_column": null,
            "grid_gap": null,
            "grid_row": null,
            "grid_template_areas": null,
            "grid_template_columns": null,
            "grid_template_rows": null,
            "height": null,
            "justify_content": null,
            "justify_items": null,
            "left": null,
            "margin": null,
            "max_height": null,
            "max_width": null,
            "min_height": null,
            "min_width": null,
            "object_fit": null,
            "object_position": null,
            "order": null,
            "overflow": null,
            "overflow_x": null,
            "overflow_y": null,
            "padding": null,
            "right": null,
            "top": null,
            "visibility": null,
            "width": null
          }
        },
        "6ef259b8e92f408a800614e9b09fa966": {
          "model_module": "@jupyter-widgets/base",
          "model_name": "LayoutModel",
          "model_module_version": "1.2.0",
          "state": {
            "_model_module": "@jupyter-widgets/base",
            "_model_module_version": "1.2.0",
            "_model_name": "LayoutModel",
            "_view_count": null,
            "_view_module": "@jupyter-widgets/base",
            "_view_module_version": "1.2.0",
            "_view_name": "LayoutView",
            "align_content": null,
            "align_items": null,
            "align_self": null,
            "border": null,
            "bottom": null,
            "display": null,
            "flex": null,
            "flex_flow": null,
            "grid_area": null,
            "grid_auto_columns": null,
            "grid_auto_flow": null,
            "grid_auto_rows": null,
            "grid_column": null,
            "grid_gap": null,
            "grid_row": null,
            "grid_template_areas": null,
            "grid_template_columns": null,
            "grid_template_rows": null,
            "height": null,
            "justify_content": null,
            "justify_items": null,
            "left": null,
            "margin": null,
            "max_height": null,
            "max_width": null,
            "min_height": null,
            "min_width": null,
            "object_fit": null,
            "object_position": null,
            "order": null,
            "overflow": null,
            "overflow_x": null,
            "overflow_y": null,
            "padding": null,
            "right": null,
            "top": null,
            "visibility": null,
            "width": null
          }
        },
        "6ccd65e6f99146dcb25aa15c242ece7f": {
          "model_module": "@jupyter-widgets/controls",
          "model_name": "DescriptionStyleModel",
          "model_module_version": "1.5.0",
          "state": {
            "_model_module": "@jupyter-widgets/controls",
            "_model_module_version": "1.5.0",
            "_model_name": "DescriptionStyleModel",
            "_view_count": null,
            "_view_module": "@jupyter-widgets/base",
            "_view_module_version": "1.2.0",
            "_view_name": "StyleView",
            "description_width": ""
          }
        },
        "aa0e34b9a6684159b76c58d498c2805e": {
          "model_module": "@jupyter-widgets/base",
          "model_name": "LayoutModel",
          "model_module_version": "1.2.0",
          "state": {
            "_model_module": "@jupyter-widgets/base",
            "_model_module_version": "1.2.0",
            "_model_name": "LayoutModel",
            "_view_count": null,
            "_view_module": "@jupyter-widgets/base",
            "_view_module_version": "1.2.0",
            "_view_name": "LayoutView",
            "align_content": null,
            "align_items": null,
            "align_self": null,
            "border": null,
            "bottom": null,
            "display": null,
            "flex": null,
            "flex_flow": null,
            "grid_area": null,
            "grid_auto_columns": null,
            "grid_auto_flow": null,
            "grid_auto_rows": null,
            "grid_column": null,
            "grid_gap": null,
            "grid_row": null,
            "grid_template_areas": null,
            "grid_template_columns": null,
            "grid_template_rows": null,
            "height": null,
            "justify_content": null,
            "justify_items": null,
            "left": null,
            "margin": null,
            "max_height": null,
            "max_width": null,
            "min_height": null,
            "min_width": null,
            "object_fit": null,
            "object_position": null,
            "order": null,
            "overflow": null,
            "overflow_x": null,
            "overflow_y": null,
            "padding": null,
            "right": null,
            "top": null,
            "visibility": null,
            "width": null
          }
        },
        "0613a18655b54af98e7efb51d51cb304": {
          "model_module": "@jupyter-widgets/controls",
          "model_name": "ProgressStyleModel",
          "model_module_version": "1.5.0",
          "state": {
            "_model_module": "@jupyter-widgets/controls",
            "_model_module_version": "1.5.0",
            "_model_name": "ProgressStyleModel",
            "_view_count": null,
            "_view_module": "@jupyter-widgets/base",
            "_view_module_version": "1.2.0",
            "_view_name": "StyleView",
            "bar_color": null,
            "description_width": ""
          }
        },
        "900f5a9ed2db4c40b0e639f85f3ac7bb": {
          "model_module": "@jupyter-widgets/base",
          "model_name": "LayoutModel",
          "model_module_version": "1.2.0",
          "state": {
            "_model_module": "@jupyter-widgets/base",
            "_model_module_version": "1.2.0",
            "_model_name": "LayoutModel",
            "_view_count": null,
            "_view_module": "@jupyter-widgets/base",
            "_view_module_version": "1.2.0",
            "_view_name": "LayoutView",
            "align_content": null,
            "align_items": null,
            "align_self": null,
            "border": null,
            "bottom": null,
            "display": null,
            "flex": null,
            "flex_flow": null,
            "grid_area": null,
            "grid_auto_columns": null,
            "grid_auto_flow": null,
            "grid_auto_rows": null,
            "grid_column": null,
            "grid_gap": null,
            "grid_row": null,
            "grid_template_areas": null,
            "grid_template_columns": null,
            "grid_template_rows": null,
            "height": null,
            "justify_content": null,
            "justify_items": null,
            "left": null,
            "margin": null,
            "max_height": null,
            "max_width": null,
            "min_height": null,
            "min_width": null,
            "object_fit": null,
            "object_position": null,
            "order": null,
            "overflow": null,
            "overflow_x": null,
            "overflow_y": null,
            "padding": null,
            "right": null,
            "top": null,
            "visibility": null,
            "width": null
          }
        },
        "bd9361c78d7248ffa7274929bc82aa7e": {
          "model_module": "@jupyter-widgets/controls",
          "model_name": "DescriptionStyleModel",
          "model_module_version": "1.5.0",
          "state": {
            "_model_module": "@jupyter-widgets/controls",
            "_model_module_version": "1.5.0",
            "_model_name": "DescriptionStyleModel",
            "_view_count": null,
            "_view_module": "@jupyter-widgets/base",
            "_view_module_version": "1.2.0",
            "_view_name": "StyleView",
            "description_width": ""
          }
        },
        "9e5bb0341b004cc5b0b33d06e063a777": {
          "model_module": "@jupyter-widgets/controls",
          "model_name": "HBoxModel",
          "model_module_version": "1.5.0",
          "state": {
            "_dom_classes": [],
            "_model_module": "@jupyter-widgets/controls",
            "_model_module_version": "1.5.0",
            "_model_name": "HBoxModel",
            "_view_count": null,
            "_view_module": "@jupyter-widgets/controls",
            "_view_module_version": "1.5.0",
            "_view_name": "HBoxView",
            "box_style": "",
            "children": [
              "IPY_MODEL_19fa44c121d04a3f85493311205710de",
              "IPY_MODEL_b2af863df97c40be8a38be085c20a8c9",
              "IPY_MODEL_b96fd1af7c9041769489c22a5c55a163"
            ],
            "layout": "IPY_MODEL_6bc5256c59ea43d8afaa3ba2a2d541cf"
          }
        },
        "19fa44c121d04a3f85493311205710de": {
          "model_module": "@jupyter-widgets/controls",
          "model_name": "HTMLModel",
          "model_module_version": "1.5.0",
          "state": {
            "_dom_classes": [],
            "_model_module": "@jupyter-widgets/controls",
            "_model_module_version": "1.5.0",
            "_model_name": "HTMLModel",
            "_view_count": null,
            "_view_module": "@jupyter-widgets/controls",
            "_view_module_version": "1.5.0",
            "_view_name": "HTMLView",
            "description": "",
            "description_tooltip": null,
            "layout": "IPY_MODEL_7da005225de249b4b80d4bcc9c0d44f9",
            "placeholder": "​",
            "style": "IPY_MODEL_9d8d430ed9654c3a8b4da128d6cd78d1",
            "value": "target.spm: 100%"
          }
        },
        "b2af863df97c40be8a38be085c20a8c9": {
          "model_module": "@jupyter-widgets/controls",
          "model_name": "FloatProgressModel",
          "model_module_version": "1.5.0",
          "state": {
            "_dom_classes": [],
            "_model_module": "@jupyter-widgets/controls",
            "_model_module_version": "1.5.0",
            "_model_name": "FloatProgressModel",
            "_view_count": null,
            "_view_module": "@jupyter-widgets/controls",
            "_view_module_version": "1.5.0",
            "_view_name": "ProgressView",
            "bar_style": "success",
            "description": "",
            "description_tooltip": null,
            "layout": "IPY_MODEL_bdbb3441acfb4ee59ca4c0eddcb25646",
            "max": 825924,
            "min": 0,
            "orientation": "horizontal",
            "style": "IPY_MODEL_10b1a6589e84492ab77748f0616be998",
            "value": 825924
          }
        },
        "b96fd1af7c9041769489c22a5c55a163": {
          "model_module": "@jupyter-widgets/controls",
          "model_name": "HTMLModel",
          "model_module_version": "1.5.0",
          "state": {
            "_dom_classes": [],
            "_model_module": "@jupyter-widgets/controls",
            "_model_module_version": "1.5.0",
            "_model_name": "HTMLModel",
            "_view_count": null,
            "_view_module": "@jupyter-widgets/controls",
            "_view_module_version": "1.5.0",
            "_view_name": "HTMLView",
            "description": "",
            "description_tooltip": null,
            "layout": "IPY_MODEL_f9bf605851954beead3a927f57302383",
            "placeholder": "​",
            "style": "IPY_MODEL_98dc41c2320044c289928849c98b9398",
            "value": " 826k/826k [00:00&lt;00:00, 25.4MB/s]"
          }
        },
        "6bc5256c59ea43d8afaa3ba2a2d541cf": {
          "model_module": "@jupyter-widgets/base",
          "model_name": "LayoutModel",
          "model_module_version": "1.2.0",
          "state": {
            "_model_module": "@jupyter-widgets/base",
            "_model_module_version": "1.2.0",
            "_model_name": "LayoutModel",
            "_view_count": null,
            "_view_module": "@jupyter-widgets/base",
            "_view_module_version": "1.2.0",
            "_view_name": "LayoutView",
            "align_content": null,
            "align_items": null,
            "align_self": null,
            "border": null,
            "bottom": null,
            "display": null,
            "flex": null,
            "flex_flow": null,
            "grid_area": null,
            "grid_auto_columns": null,
            "grid_auto_flow": null,
            "grid_auto_rows": null,
            "grid_column": null,
            "grid_gap": null,
            "grid_row": null,
            "grid_template_areas": null,
            "grid_template_columns": null,
            "grid_template_rows": null,
            "height": null,
            "justify_content": null,
            "justify_items": null,
            "left": null,
            "margin": null,
            "max_height": null,
            "max_width": null,
            "min_height": null,
            "min_width": null,
            "object_fit": null,
            "object_position": null,
            "order": null,
            "overflow": null,
            "overflow_x": null,
            "overflow_y": null,
            "padding": null,
            "right": null,
            "top": null,
            "visibility": null,
            "width": null
          }
        },
        "7da005225de249b4b80d4bcc9c0d44f9": {
          "model_module": "@jupyter-widgets/base",
          "model_name": "LayoutModel",
          "model_module_version": "1.2.0",
          "state": {
            "_model_module": "@jupyter-widgets/base",
            "_model_module_version": "1.2.0",
            "_model_name": "LayoutModel",
            "_view_count": null,
            "_view_module": "@jupyter-widgets/base",
            "_view_module_version": "1.2.0",
            "_view_name": "LayoutView",
            "align_content": null,
            "align_items": null,
            "align_self": null,
            "border": null,
            "bottom": null,
            "display": null,
            "flex": null,
            "flex_flow": null,
            "grid_area": null,
            "grid_auto_columns": null,
            "grid_auto_flow": null,
            "grid_auto_rows": null,
            "grid_column": null,
            "grid_gap": null,
            "grid_row": null,
            "grid_template_areas": null,
            "grid_template_columns": null,
            "grid_template_rows": null,
            "height": null,
            "justify_content": null,
            "justify_items": null,
            "left": null,
            "margin": null,
            "max_height": null,
            "max_width": null,
            "min_height": null,
            "min_width": null,
            "object_fit": null,
            "object_position": null,
            "order": null,
            "overflow": null,
            "overflow_x": null,
            "overflow_y": null,
            "padding": null,
            "right": null,
            "top": null,
            "visibility": null,
            "width": null
          }
        },
        "9d8d430ed9654c3a8b4da128d6cd78d1": {
          "model_module": "@jupyter-widgets/controls",
          "model_name": "DescriptionStyleModel",
          "model_module_version": "1.5.0",
          "state": {
            "_model_module": "@jupyter-widgets/controls",
            "_model_module_version": "1.5.0",
            "_model_name": "DescriptionStyleModel",
            "_view_count": null,
            "_view_module": "@jupyter-widgets/base",
            "_view_module_version": "1.2.0",
            "_view_name": "StyleView",
            "description_width": ""
          }
        },
        "bdbb3441acfb4ee59ca4c0eddcb25646": {
          "model_module": "@jupyter-widgets/base",
          "model_name": "LayoutModel",
          "model_module_version": "1.2.0",
          "state": {
            "_model_module": "@jupyter-widgets/base",
            "_model_module_version": "1.2.0",
            "_model_name": "LayoutModel",
            "_view_count": null,
            "_view_module": "@jupyter-widgets/base",
            "_view_module_version": "1.2.0",
            "_view_name": "LayoutView",
            "align_content": null,
            "align_items": null,
            "align_self": null,
            "border": null,
            "bottom": null,
            "display": null,
            "flex": null,
            "flex_flow": null,
            "grid_area": null,
            "grid_auto_columns": null,
            "grid_auto_flow": null,
            "grid_auto_rows": null,
            "grid_column": null,
            "grid_gap": null,
            "grid_row": null,
            "grid_template_areas": null,
            "grid_template_columns": null,
            "grid_template_rows": null,
            "height": null,
            "justify_content": null,
            "justify_items": null,
            "left": null,
            "margin": null,
            "max_height": null,
            "max_width": null,
            "min_height": null,
            "min_width": null,
            "object_fit": null,
            "object_position": null,
            "order": null,
            "overflow": null,
            "overflow_x": null,
            "overflow_y": null,
            "padding": null,
            "right": null,
            "top": null,
            "visibility": null,
            "width": null
          }
        },
        "10b1a6589e84492ab77748f0616be998": {
          "model_module": "@jupyter-widgets/controls",
          "model_name": "ProgressStyleModel",
          "model_module_version": "1.5.0",
          "state": {
            "_model_module": "@jupyter-widgets/controls",
            "_model_module_version": "1.5.0",
            "_model_name": "ProgressStyleModel",
            "_view_count": null,
            "_view_module": "@jupyter-widgets/base",
            "_view_module_version": "1.2.0",
            "_view_name": "StyleView",
            "bar_color": null,
            "description_width": ""
          }
        },
        "f9bf605851954beead3a927f57302383": {
          "model_module": "@jupyter-widgets/base",
          "model_name": "LayoutModel",
          "model_module_version": "1.2.0",
          "state": {
            "_model_module": "@jupyter-widgets/base",
            "_model_module_version": "1.2.0",
            "_model_name": "LayoutModel",
            "_view_count": null,
            "_view_module": "@jupyter-widgets/base",
            "_view_module_version": "1.2.0",
            "_view_name": "LayoutView",
            "align_content": null,
            "align_items": null,
            "align_self": null,
            "border": null,
            "bottom": null,
            "display": null,
            "flex": null,
            "flex_flow": null,
            "grid_area": null,
            "grid_auto_columns": null,
            "grid_auto_flow": null,
            "grid_auto_rows": null,
            "grid_column": null,
            "grid_gap": null,
            "grid_row": null,
            "grid_template_areas": null,
            "grid_template_columns": null,
            "grid_template_rows": null,
            "height": null,
            "justify_content": null,
            "justify_items": null,
            "left": null,
            "margin": null,
            "max_height": null,
            "max_width": null,
            "min_height": null,
            "min_width": null,
            "object_fit": null,
            "object_position": null,
            "order": null,
            "overflow": null,
            "overflow_x": null,
            "overflow_y": null,
            "padding": null,
            "right": null,
            "top": null,
            "visibility": null,
            "width": null
          }
        },
        "98dc41c2320044c289928849c98b9398": {
          "model_module": "@jupyter-widgets/controls",
          "model_name": "DescriptionStyleModel",
          "model_module_version": "1.5.0",
          "state": {
            "_model_module": "@jupyter-widgets/controls",
            "_model_module_version": "1.5.0",
            "_model_name": "DescriptionStyleModel",
            "_view_count": null,
            "_view_module": "@jupyter-widgets/base",
            "_view_module_version": "1.2.0",
            "_view_name": "StyleView",
            "description_width": ""
          }
        },
        "371294162706483c96f73db5290e6746": {
          "model_module": "@jupyter-widgets/controls",
          "model_name": "HBoxModel",
          "model_module_version": "1.5.0",
          "state": {
            "_dom_classes": [],
            "_model_module": "@jupyter-widgets/controls",
            "_model_module_version": "1.5.0",
            "_model_name": "HBoxModel",
            "_view_count": null,
            "_view_module": "@jupyter-widgets/controls",
            "_view_module_version": "1.5.0",
            "_view_name": "HBoxView",
            "box_style": "",
            "children": [
              "IPY_MODEL_100e1035bab244bead025ed9f5cd7747",
              "IPY_MODEL_6a4a28f820af42efab903b4f57801480",
              "IPY_MODEL_126d7e27256042b8811f467d9a51f042"
            ],
            "layout": "IPY_MODEL_06c031fa63914a7b9d9449dfac491fcb"
          }
        },
        "100e1035bab244bead025ed9f5cd7747": {
          "model_module": "@jupyter-widgets/controls",
          "model_name": "HTMLModel",
          "model_module_version": "1.5.0",
          "state": {
            "_dom_classes": [],
            "_model_module": "@jupyter-widgets/controls",
            "_model_module_version": "1.5.0",
            "_model_name": "HTMLModel",
            "_view_count": null,
            "_view_module": "@jupyter-widgets/controls",
            "_view_module_version": "1.5.0",
            "_view_name": "HTMLView",
            "description": "",
            "description_tooltip": null,
            "layout": "IPY_MODEL_95f2500c1c70439b91591b49fcb7ccb1",
            "placeholder": "​",
            "style": "IPY_MODEL_10d6a5deaf6d48b7a773135435e65f03",
            "value": "vocab.json: 100%"
          }
        },
        "6a4a28f820af42efab903b4f57801480": {
          "model_module": "@jupyter-widgets/controls",
          "model_name": "FloatProgressModel",
          "model_module_version": "1.5.0",
          "state": {
            "_dom_classes": [],
            "_model_module": "@jupyter-widgets/controls",
            "_model_module_version": "1.5.0",
            "_model_name": "FloatProgressModel",
            "_view_count": null,
            "_view_module": "@jupyter-widgets/controls",
            "_view_module_version": "1.5.0",
            "_view_name": "ProgressView",
            "bar_style": "success",
            "description": "",
            "description_tooltip": null,
            "layout": "IPY_MODEL_e7e2b28d259645de9a138bef89fa4a3d",
            "max": 1590040,
            "min": 0,
            "orientation": "horizontal",
            "style": "IPY_MODEL_1d7139cd5070476db5e71521ea2751d4",
            "value": 1590040
          }
        },
        "126d7e27256042b8811f467d9a51f042": {
          "model_module": "@jupyter-widgets/controls",
          "model_name": "HTMLModel",
          "model_module_version": "1.5.0",
          "state": {
            "_dom_classes": [],
            "_model_module": "@jupyter-widgets/controls",
            "_model_module_version": "1.5.0",
            "_model_name": "HTMLModel",
            "_view_count": null,
            "_view_module": "@jupyter-widgets/controls",
            "_view_module_version": "1.5.0",
            "_view_name": "HTMLView",
            "description": "",
            "description_tooltip": null,
            "layout": "IPY_MODEL_7226d371072c41aa86d678707b72a391",
            "placeholder": "​",
            "style": "IPY_MODEL_a2ad9401d8bb439597d6fcca5a806a8f",
            "value": " 1.59M/1.59M [00:00&lt;00:00, 49.2MB/s]"
          }
        },
        "06c031fa63914a7b9d9449dfac491fcb": {
          "model_module": "@jupyter-widgets/base",
          "model_name": "LayoutModel",
          "model_module_version": "1.2.0",
          "state": {
            "_model_module": "@jupyter-widgets/base",
            "_model_module_version": "1.2.0",
            "_model_name": "LayoutModel",
            "_view_count": null,
            "_view_module": "@jupyter-widgets/base",
            "_view_module_version": "1.2.0",
            "_view_name": "LayoutView",
            "align_content": null,
            "align_items": null,
            "align_self": null,
            "border": null,
            "bottom": null,
            "display": null,
            "flex": null,
            "flex_flow": null,
            "grid_area": null,
            "grid_auto_columns": null,
            "grid_auto_flow": null,
            "grid_auto_rows": null,
            "grid_column": null,
            "grid_gap": null,
            "grid_row": null,
            "grid_template_areas": null,
            "grid_template_columns": null,
            "grid_template_rows": null,
            "height": null,
            "justify_content": null,
            "justify_items": null,
            "left": null,
            "margin": null,
            "max_height": null,
            "max_width": null,
            "min_height": null,
            "min_width": null,
            "object_fit": null,
            "object_position": null,
            "order": null,
            "overflow": null,
            "overflow_x": null,
            "overflow_y": null,
            "padding": null,
            "right": null,
            "top": null,
            "visibility": null,
            "width": null
          }
        },
        "95f2500c1c70439b91591b49fcb7ccb1": {
          "model_module": "@jupyter-widgets/base",
          "model_name": "LayoutModel",
          "model_module_version": "1.2.0",
          "state": {
            "_model_module": "@jupyter-widgets/base",
            "_model_module_version": "1.2.0",
            "_model_name": "LayoutModel",
            "_view_count": null,
            "_view_module": "@jupyter-widgets/base",
            "_view_module_version": "1.2.0",
            "_view_name": "LayoutView",
            "align_content": null,
            "align_items": null,
            "align_self": null,
            "border": null,
            "bottom": null,
            "display": null,
            "flex": null,
            "flex_flow": null,
            "grid_area": null,
            "grid_auto_columns": null,
            "grid_auto_flow": null,
            "grid_auto_rows": null,
            "grid_column": null,
            "grid_gap": null,
            "grid_row": null,
            "grid_template_areas": null,
            "grid_template_columns": null,
            "grid_template_rows": null,
            "height": null,
            "justify_content": null,
            "justify_items": null,
            "left": null,
            "margin": null,
            "max_height": null,
            "max_width": null,
            "min_height": null,
            "min_width": null,
            "object_fit": null,
            "object_position": null,
            "order": null,
            "overflow": null,
            "overflow_x": null,
            "overflow_y": null,
            "padding": null,
            "right": null,
            "top": null,
            "visibility": null,
            "width": null
          }
        },
        "10d6a5deaf6d48b7a773135435e65f03": {
          "model_module": "@jupyter-widgets/controls",
          "model_name": "DescriptionStyleModel",
          "model_module_version": "1.5.0",
          "state": {
            "_model_module": "@jupyter-widgets/controls",
            "_model_module_version": "1.5.0",
            "_model_name": "DescriptionStyleModel",
            "_view_count": null,
            "_view_module": "@jupyter-widgets/base",
            "_view_module_version": "1.2.0",
            "_view_name": "StyleView",
            "description_width": ""
          }
        },
        "e7e2b28d259645de9a138bef89fa4a3d": {
          "model_module": "@jupyter-widgets/base",
          "model_name": "LayoutModel",
          "model_module_version": "1.2.0",
          "state": {
            "_model_module": "@jupyter-widgets/base",
            "_model_module_version": "1.2.0",
            "_model_name": "LayoutModel",
            "_view_count": null,
            "_view_module": "@jupyter-widgets/base",
            "_view_module_version": "1.2.0",
            "_view_name": "LayoutView",
            "align_content": null,
            "align_items": null,
            "align_self": null,
            "border": null,
            "bottom": null,
            "display": null,
            "flex": null,
            "flex_flow": null,
            "grid_area": null,
            "grid_auto_columns": null,
            "grid_auto_flow": null,
            "grid_auto_rows": null,
            "grid_column": null,
            "grid_gap": null,
            "grid_row": null,
            "grid_template_areas": null,
            "grid_template_columns": null,
            "grid_template_rows": null,
            "height": null,
            "justify_content": null,
            "justify_items": null,
            "left": null,
            "margin": null,
            "max_height": null,
            "max_width": null,
            "min_height": null,
            "min_width": null,
            "object_fit": null,
            "object_position": null,
            "order": null,
            "overflow": null,
            "overflow_x": null,
            "overflow_y": null,
            "padding": null,
            "right": null,
            "top": null,
            "visibility": null,
            "width": null
          }
        },
        "1d7139cd5070476db5e71521ea2751d4": {
          "model_module": "@jupyter-widgets/controls",
          "model_name": "ProgressStyleModel",
          "model_module_version": "1.5.0",
          "state": {
            "_model_module": "@jupyter-widgets/controls",
            "_model_module_version": "1.5.0",
            "_model_name": "ProgressStyleModel",
            "_view_count": null,
            "_view_module": "@jupyter-widgets/base",
            "_view_module_version": "1.2.0",
            "_view_name": "StyleView",
            "bar_color": null,
            "description_width": ""
          }
        },
        "7226d371072c41aa86d678707b72a391": {
          "model_module": "@jupyter-widgets/base",
          "model_name": "LayoutModel",
          "model_module_version": "1.2.0",
          "state": {
            "_model_module": "@jupyter-widgets/base",
            "_model_module_version": "1.2.0",
            "_model_name": "LayoutModel",
            "_view_count": null,
            "_view_module": "@jupyter-widgets/base",
            "_view_module_version": "1.2.0",
            "_view_name": "LayoutView",
            "align_content": null,
            "align_items": null,
            "align_self": null,
            "border": null,
            "bottom": null,
            "display": null,
            "flex": null,
            "flex_flow": null,
            "grid_area": null,
            "grid_auto_columns": null,
            "grid_auto_flow": null,
            "grid_auto_rows": null,
            "grid_column": null,
            "grid_gap": null,
            "grid_row": null,
            "grid_template_areas": null,
            "grid_template_columns": null,
            "grid_template_rows": null,
            "height": null,
            "justify_content": null,
            "justify_items": null,
            "left": null,
            "margin": null,
            "max_height": null,
            "max_width": null,
            "min_height": null,
            "min_width": null,
            "object_fit": null,
            "object_position": null,
            "order": null,
            "overflow": null,
            "overflow_x": null,
            "overflow_y": null,
            "padding": null,
            "right": null,
            "top": null,
            "visibility": null,
            "width": null
          }
        },
        "a2ad9401d8bb439597d6fcca5a806a8f": {
          "model_module": "@jupyter-widgets/controls",
          "model_name": "DescriptionStyleModel",
          "model_module_version": "1.5.0",
          "state": {
            "_model_module": "@jupyter-widgets/controls",
            "_model_module_version": "1.5.0",
            "_model_name": "DescriptionStyleModel",
            "_view_count": null,
            "_view_module": "@jupyter-widgets/base",
            "_view_module_version": "1.2.0",
            "_view_name": "StyleView",
            "description_width": ""
          }
        },
        "613e8bb36c544d67b785284b1bb6fb16": {
          "model_module": "@jupyter-widgets/controls",
          "model_name": "HBoxModel",
          "model_module_version": "1.5.0",
          "state": {
            "_dom_classes": [],
            "_model_module": "@jupyter-widgets/controls",
            "_model_module_version": "1.5.0",
            "_model_name": "HBoxModel",
            "_view_count": null,
            "_view_module": "@jupyter-widgets/controls",
            "_view_module_version": "1.5.0",
            "_view_name": "HBoxView",
            "box_style": "",
            "children": [
              "IPY_MODEL_87acf0bffdc34b36a66d62d397dc2e62",
              "IPY_MODEL_45c3fbd3076d4e54bd548aed34a1f8cd",
              "IPY_MODEL_b55ad258ea0c48589a062cd5c7f998d3"
            ],
            "layout": "IPY_MODEL_8be61809de194655870547d27933768c"
          }
        },
        "87acf0bffdc34b36a66d62d397dc2e62": {
          "model_module": "@jupyter-widgets/controls",
          "model_name": "HTMLModel",
          "model_module_version": "1.5.0",
          "state": {
            "_dom_classes": [],
            "_model_module": "@jupyter-widgets/controls",
            "_model_module_version": "1.5.0",
            "_model_name": "HTMLModel",
            "_view_count": null,
            "_view_module": "@jupyter-widgets/controls",
            "_view_module_version": "1.5.0",
            "_view_name": "HTMLView",
            "description": "",
            "description_tooltip": null,
            "layout": "IPY_MODEL_5d0436a2a986459b9f554c16df6abc1b",
            "placeholder": "​",
            "style": "IPY_MODEL_c39fe5f789bc466891157d644afaf1a0",
            "value": "Map: 100%"
          }
        },
        "45c3fbd3076d4e54bd548aed34a1f8cd": {
          "model_module": "@jupyter-widgets/controls",
          "model_name": "FloatProgressModel",
          "model_module_version": "1.5.0",
          "state": {
            "_dom_classes": [],
            "_model_module": "@jupyter-widgets/controls",
            "_model_module_version": "1.5.0",
            "_model_name": "FloatProgressModel",
            "_view_count": null,
            "_view_module": "@jupyter-widgets/controls",
            "_view_module_version": "1.5.0",
            "_view_name": "ProgressView",
            "bar_style": "success",
            "description": "",
            "description_tooltip": null,
            "layout": "IPY_MODEL_16e75107119d4c95a73346213d918d7b",
            "max": 21000,
            "min": 0,
            "orientation": "horizontal",
            "style": "IPY_MODEL_f0f9cfd8ce964128bdfe98b9c3f155a1",
            "value": 21000
          }
        },
        "b55ad258ea0c48589a062cd5c7f998d3": {
          "model_module": "@jupyter-widgets/controls",
          "model_name": "HTMLModel",
          "model_module_version": "1.5.0",
          "state": {
            "_dom_classes": [],
            "_model_module": "@jupyter-widgets/controls",
            "_model_module_version": "1.5.0",
            "_model_name": "HTMLModel",
            "_view_count": null,
            "_view_module": "@jupyter-widgets/controls",
            "_view_module_version": "1.5.0",
            "_view_name": "HTMLView",
            "description": "",
            "description_tooltip": null,
            "layout": "IPY_MODEL_ce45ac18b1c94e5ea2cccc8213b95d53",
            "placeholder": "​",
            "style": "IPY_MODEL_1f038dd0ece64a73b481d4b348ffc935",
            "value": " 21000/21000 [00:04&lt;00:00, 3257.22 examples/s]"
          }
        },
        "8be61809de194655870547d27933768c": {
          "model_module": "@jupyter-widgets/base",
          "model_name": "LayoutModel",
          "model_module_version": "1.2.0",
          "state": {
            "_model_module": "@jupyter-widgets/base",
            "_model_module_version": "1.2.0",
            "_model_name": "LayoutModel",
            "_view_count": null,
            "_view_module": "@jupyter-widgets/base",
            "_view_module_version": "1.2.0",
            "_view_name": "LayoutView",
            "align_content": null,
            "align_items": null,
            "align_self": null,
            "border": null,
            "bottom": null,
            "display": null,
            "flex": null,
            "flex_flow": null,
            "grid_area": null,
            "grid_auto_columns": null,
            "grid_auto_flow": null,
            "grid_auto_rows": null,
            "grid_column": null,
            "grid_gap": null,
            "grid_row": null,
            "grid_template_areas": null,
            "grid_template_columns": null,
            "grid_template_rows": null,
            "height": null,
            "justify_content": null,
            "justify_items": null,
            "left": null,
            "margin": null,
            "max_height": null,
            "max_width": null,
            "min_height": null,
            "min_width": null,
            "object_fit": null,
            "object_position": null,
            "order": null,
            "overflow": null,
            "overflow_x": null,
            "overflow_y": null,
            "padding": null,
            "right": null,
            "top": null,
            "visibility": null,
            "width": null
          }
        },
        "5d0436a2a986459b9f554c16df6abc1b": {
          "model_module": "@jupyter-widgets/base",
          "model_name": "LayoutModel",
          "model_module_version": "1.2.0",
          "state": {
            "_model_module": "@jupyter-widgets/base",
            "_model_module_version": "1.2.0",
            "_model_name": "LayoutModel",
            "_view_count": null,
            "_view_module": "@jupyter-widgets/base",
            "_view_module_version": "1.2.0",
            "_view_name": "LayoutView",
            "align_content": null,
            "align_items": null,
            "align_self": null,
            "border": null,
            "bottom": null,
            "display": null,
            "flex": null,
            "flex_flow": null,
            "grid_area": null,
            "grid_auto_columns": null,
            "grid_auto_flow": null,
            "grid_auto_rows": null,
            "grid_column": null,
            "grid_gap": null,
            "grid_row": null,
            "grid_template_areas": null,
            "grid_template_columns": null,
            "grid_template_rows": null,
            "height": null,
            "justify_content": null,
            "justify_items": null,
            "left": null,
            "margin": null,
            "max_height": null,
            "max_width": null,
            "min_height": null,
            "min_width": null,
            "object_fit": null,
            "object_position": null,
            "order": null,
            "overflow": null,
            "overflow_x": null,
            "overflow_y": null,
            "padding": null,
            "right": null,
            "top": null,
            "visibility": null,
            "width": null
          }
        },
        "c39fe5f789bc466891157d644afaf1a0": {
          "model_module": "@jupyter-widgets/controls",
          "model_name": "DescriptionStyleModel",
          "model_module_version": "1.5.0",
          "state": {
            "_model_module": "@jupyter-widgets/controls",
            "_model_module_version": "1.5.0",
            "_model_name": "DescriptionStyleModel",
            "_view_count": null,
            "_view_module": "@jupyter-widgets/base",
            "_view_module_version": "1.2.0",
            "_view_name": "StyleView",
            "description_width": ""
          }
        },
        "16e75107119d4c95a73346213d918d7b": {
          "model_module": "@jupyter-widgets/base",
          "model_name": "LayoutModel",
          "model_module_version": "1.2.0",
          "state": {
            "_model_module": "@jupyter-widgets/base",
            "_model_module_version": "1.2.0",
            "_model_name": "LayoutModel",
            "_view_count": null,
            "_view_module": "@jupyter-widgets/base",
            "_view_module_version": "1.2.0",
            "_view_name": "LayoutView",
            "align_content": null,
            "align_items": null,
            "align_self": null,
            "border": null,
            "bottom": null,
            "display": null,
            "flex": null,
            "flex_flow": null,
            "grid_area": null,
            "grid_auto_columns": null,
            "grid_auto_flow": null,
            "grid_auto_rows": null,
            "grid_column": null,
            "grid_gap": null,
            "grid_row": null,
            "grid_template_areas": null,
            "grid_template_columns": null,
            "grid_template_rows": null,
            "height": null,
            "justify_content": null,
            "justify_items": null,
            "left": null,
            "margin": null,
            "max_height": null,
            "max_width": null,
            "min_height": null,
            "min_width": null,
            "object_fit": null,
            "object_position": null,
            "order": null,
            "overflow": null,
            "overflow_x": null,
            "overflow_y": null,
            "padding": null,
            "right": null,
            "top": null,
            "visibility": null,
            "width": null
          }
        },
        "f0f9cfd8ce964128bdfe98b9c3f155a1": {
          "model_module": "@jupyter-widgets/controls",
          "model_name": "ProgressStyleModel",
          "model_module_version": "1.5.0",
          "state": {
            "_model_module": "@jupyter-widgets/controls",
            "_model_module_version": "1.5.0",
            "_model_name": "ProgressStyleModel",
            "_view_count": null,
            "_view_module": "@jupyter-widgets/base",
            "_view_module_version": "1.2.0",
            "_view_name": "StyleView",
            "bar_color": null,
            "description_width": ""
          }
        },
        "ce45ac18b1c94e5ea2cccc8213b95d53": {
          "model_module": "@jupyter-widgets/base",
          "model_name": "LayoutModel",
          "model_module_version": "1.2.0",
          "state": {
            "_model_module": "@jupyter-widgets/base",
            "_model_module_version": "1.2.0",
            "_model_name": "LayoutModel",
            "_view_count": null,
            "_view_module": "@jupyter-widgets/base",
            "_view_module_version": "1.2.0",
            "_view_name": "LayoutView",
            "align_content": null,
            "align_items": null,
            "align_self": null,
            "border": null,
            "bottom": null,
            "display": null,
            "flex": null,
            "flex_flow": null,
            "grid_area": null,
            "grid_auto_columns": null,
            "grid_auto_flow": null,
            "grid_auto_rows": null,
            "grid_column": null,
            "grid_gap": null,
            "grid_row": null,
            "grid_template_areas": null,
            "grid_template_columns": null,
            "grid_template_rows": null,
            "height": null,
            "justify_content": null,
            "justify_items": null,
            "left": null,
            "margin": null,
            "max_height": null,
            "max_width": null,
            "min_height": null,
            "min_width": null,
            "object_fit": null,
            "object_position": null,
            "order": null,
            "overflow": null,
            "overflow_x": null,
            "overflow_y": null,
            "padding": null,
            "right": null,
            "top": null,
            "visibility": null,
            "width": null
          }
        },
        "1f038dd0ece64a73b481d4b348ffc935": {
          "model_module": "@jupyter-widgets/controls",
          "model_name": "DescriptionStyleModel",
          "model_module_version": "1.5.0",
          "state": {
            "_model_module": "@jupyter-widgets/controls",
            "_model_module_version": "1.5.0",
            "_model_name": "DescriptionStyleModel",
            "_view_count": null,
            "_view_module": "@jupyter-widgets/base",
            "_view_module_version": "1.2.0",
            "_view_name": "StyleView",
            "description_width": ""
          }
        },
        "2d3c7ddc3f54490ab073542aa320cf9c": {
          "model_module": "@jupyter-widgets/controls",
          "model_name": "HBoxModel",
          "model_module_version": "1.5.0",
          "state": {
            "_dom_classes": [],
            "_model_module": "@jupyter-widgets/controls",
            "_model_module_version": "1.5.0",
            "_model_name": "HBoxModel",
            "_view_count": null,
            "_view_module": "@jupyter-widgets/controls",
            "_view_module_version": "1.5.0",
            "_view_name": "HBoxView",
            "box_style": "",
            "children": [
              "IPY_MODEL_b2209a03c2894b488f2b5ed3dc6e3e61",
              "IPY_MODEL_05588bbcf3874442aa36f62b9ab93659",
              "IPY_MODEL_31bbf6aeeeee4e0fbd633d85431e0c13"
            ],
            "layout": "IPY_MODEL_4e1643335fbd4d6ab32827098546b803"
          }
        },
        "b2209a03c2894b488f2b5ed3dc6e3e61": {
          "model_module": "@jupyter-widgets/controls",
          "model_name": "HTMLModel",
          "model_module_version": "1.5.0",
          "state": {
            "_dom_classes": [],
            "_model_module": "@jupyter-widgets/controls",
            "_model_module_version": "1.5.0",
            "_model_name": "HTMLModel",
            "_view_count": null,
            "_view_module": "@jupyter-widgets/controls",
            "_view_module_version": "1.5.0",
            "_view_name": "HTMLView",
            "description": "",
            "description_tooltip": null,
            "layout": "IPY_MODEL_af05333ee1c44a6fb97540077e7ba103",
            "placeholder": "​",
            "style": "IPY_MODEL_84bdb609e9fd48a0993993f703e42e20",
            "value": "Map: 100%"
          }
        },
        "05588bbcf3874442aa36f62b9ab93659": {
          "model_module": "@jupyter-widgets/controls",
          "model_name": "FloatProgressModel",
          "model_module_version": "1.5.0",
          "state": {
            "_dom_classes": [],
            "_model_module": "@jupyter-widgets/controls",
            "_model_module_version": "1.5.0",
            "_model_name": "FloatProgressModel",
            "_view_count": null,
            "_view_module": "@jupyter-widgets/controls",
            "_view_module_version": "1.5.0",
            "_view_name": "ProgressView",
            "bar_style": "success",
            "description": "",
            "description_tooltip": null,
            "layout": "IPY_MODEL_b415f8b1357846b78a9b8a81e42ea22d",
            "max": 9000,
            "min": 0,
            "orientation": "horizontal",
            "style": "IPY_MODEL_16455b805e8d4b1699e72c34cb5d0817",
            "value": 9000
          }
        },
        "31bbf6aeeeee4e0fbd633d85431e0c13": {
          "model_module": "@jupyter-widgets/controls",
          "model_name": "HTMLModel",
          "model_module_version": "1.5.0",
          "state": {
            "_dom_classes": [],
            "_model_module": "@jupyter-widgets/controls",
            "_model_module_version": "1.5.0",
            "_model_name": "HTMLModel",
            "_view_count": null,
            "_view_module": "@jupyter-widgets/controls",
            "_view_module_version": "1.5.0",
            "_view_name": "HTMLView",
            "description": "",
            "description_tooltip": null,
            "layout": "IPY_MODEL_e6e893b679d44ebba0ecfd7ee02ac767",
            "placeholder": "​",
            "style": "IPY_MODEL_a20dd85b0d9742b9bcc21c088214e380",
            "value": " 9000/9000 [00:02&lt;00:00, 4856.36 examples/s]"
          }
        },
        "4e1643335fbd4d6ab32827098546b803": {
          "model_module": "@jupyter-widgets/base",
          "model_name": "LayoutModel",
          "model_module_version": "1.2.0",
          "state": {
            "_model_module": "@jupyter-widgets/base",
            "_model_module_version": "1.2.0",
            "_model_name": "LayoutModel",
            "_view_count": null,
            "_view_module": "@jupyter-widgets/base",
            "_view_module_version": "1.2.0",
            "_view_name": "LayoutView",
            "align_content": null,
            "align_items": null,
            "align_self": null,
            "border": null,
            "bottom": null,
            "display": null,
            "flex": null,
            "flex_flow": null,
            "grid_area": null,
            "grid_auto_columns": null,
            "grid_auto_flow": null,
            "grid_auto_rows": null,
            "grid_column": null,
            "grid_gap": null,
            "grid_row": null,
            "grid_template_areas": null,
            "grid_template_columns": null,
            "grid_template_rows": null,
            "height": null,
            "justify_content": null,
            "justify_items": null,
            "left": null,
            "margin": null,
            "max_height": null,
            "max_width": null,
            "min_height": null,
            "min_width": null,
            "object_fit": null,
            "object_position": null,
            "order": null,
            "overflow": null,
            "overflow_x": null,
            "overflow_y": null,
            "padding": null,
            "right": null,
            "top": null,
            "visibility": null,
            "width": null
          }
        },
        "af05333ee1c44a6fb97540077e7ba103": {
          "model_module": "@jupyter-widgets/base",
          "model_name": "LayoutModel",
          "model_module_version": "1.2.0",
          "state": {
            "_model_module": "@jupyter-widgets/base",
            "_model_module_version": "1.2.0",
            "_model_name": "LayoutModel",
            "_view_count": null,
            "_view_module": "@jupyter-widgets/base",
            "_view_module_version": "1.2.0",
            "_view_name": "LayoutView",
            "align_content": null,
            "align_items": null,
            "align_self": null,
            "border": null,
            "bottom": null,
            "display": null,
            "flex": null,
            "flex_flow": null,
            "grid_area": null,
            "grid_auto_columns": null,
            "grid_auto_flow": null,
            "grid_auto_rows": null,
            "grid_column": null,
            "grid_gap": null,
            "grid_row": null,
            "grid_template_areas": null,
            "grid_template_columns": null,
            "grid_template_rows": null,
            "height": null,
            "justify_content": null,
            "justify_items": null,
            "left": null,
            "margin": null,
            "max_height": null,
            "max_width": null,
            "min_height": null,
            "min_width": null,
            "object_fit": null,
            "object_position": null,
            "order": null,
            "overflow": null,
            "overflow_x": null,
            "overflow_y": null,
            "padding": null,
            "right": null,
            "top": null,
            "visibility": null,
            "width": null
          }
        },
        "84bdb609e9fd48a0993993f703e42e20": {
          "model_module": "@jupyter-widgets/controls",
          "model_name": "DescriptionStyleModel",
          "model_module_version": "1.5.0",
          "state": {
            "_model_module": "@jupyter-widgets/controls",
            "_model_module_version": "1.5.0",
            "_model_name": "DescriptionStyleModel",
            "_view_count": null,
            "_view_module": "@jupyter-widgets/base",
            "_view_module_version": "1.2.0",
            "_view_name": "StyleView",
            "description_width": ""
          }
        },
        "b415f8b1357846b78a9b8a81e42ea22d": {
          "model_module": "@jupyter-widgets/base",
          "model_name": "LayoutModel",
          "model_module_version": "1.2.0",
          "state": {
            "_model_module": "@jupyter-widgets/base",
            "_model_module_version": "1.2.0",
            "_model_name": "LayoutModel",
            "_view_count": null,
            "_view_module": "@jupyter-widgets/base",
            "_view_module_version": "1.2.0",
            "_view_name": "LayoutView",
            "align_content": null,
            "align_items": null,
            "align_self": null,
            "border": null,
            "bottom": null,
            "display": null,
            "flex": null,
            "flex_flow": null,
            "grid_area": null,
            "grid_auto_columns": null,
            "grid_auto_flow": null,
            "grid_auto_rows": null,
            "grid_column": null,
            "grid_gap": null,
            "grid_row": null,
            "grid_template_areas": null,
            "grid_template_columns": null,
            "grid_template_rows": null,
            "height": null,
            "justify_content": null,
            "justify_items": null,
            "left": null,
            "margin": null,
            "max_height": null,
            "max_width": null,
            "min_height": null,
            "min_width": null,
            "object_fit": null,
            "object_position": null,
            "order": null,
            "overflow": null,
            "overflow_x": null,
            "overflow_y": null,
            "padding": null,
            "right": null,
            "top": null,
            "visibility": null,
            "width": null
          }
        },
        "16455b805e8d4b1699e72c34cb5d0817": {
          "model_module": "@jupyter-widgets/controls",
          "model_name": "ProgressStyleModel",
          "model_module_version": "1.5.0",
          "state": {
            "_model_module": "@jupyter-widgets/controls",
            "_model_module_version": "1.5.0",
            "_model_name": "ProgressStyleModel",
            "_view_count": null,
            "_view_module": "@jupyter-widgets/base",
            "_view_module_version": "1.2.0",
            "_view_name": "StyleView",
            "bar_color": null,
            "description_width": ""
          }
        },
        "e6e893b679d44ebba0ecfd7ee02ac767": {
          "model_module": "@jupyter-widgets/base",
          "model_name": "LayoutModel",
          "model_module_version": "1.2.0",
          "state": {
            "_model_module": "@jupyter-widgets/base",
            "_model_module_version": "1.2.0",
            "_model_name": "LayoutModel",
            "_view_count": null,
            "_view_module": "@jupyter-widgets/base",
            "_view_module_version": "1.2.0",
            "_view_name": "LayoutView",
            "align_content": null,
            "align_items": null,
            "align_self": null,
            "border": null,
            "bottom": null,
            "display": null,
            "flex": null,
            "flex_flow": null,
            "grid_area": null,
            "grid_auto_columns": null,
            "grid_auto_flow": null,
            "grid_auto_rows": null,
            "grid_column": null,
            "grid_gap": null,
            "grid_row": null,
            "grid_template_areas": null,
            "grid_template_columns": null,
            "grid_template_rows": null,
            "height": null,
            "justify_content": null,
            "justify_items": null,
            "left": null,
            "margin": null,
            "max_height": null,
            "max_width": null,
            "min_height": null,
            "min_width": null,
            "object_fit": null,
            "object_position": null,
            "order": null,
            "overflow": null,
            "overflow_x": null,
            "overflow_y": null,
            "padding": null,
            "right": null,
            "top": null,
            "visibility": null,
            "width": null
          }
        },
        "a20dd85b0d9742b9bcc21c088214e380": {
          "model_module": "@jupyter-widgets/controls",
          "model_name": "DescriptionStyleModel",
          "model_module_version": "1.5.0",
          "state": {
            "_model_module": "@jupyter-widgets/controls",
            "_model_module_version": "1.5.0",
            "_model_name": "DescriptionStyleModel",
            "_view_count": null,
            "_view_module": "@jupyter-widgets/base",
            "_view_module_version": "1.2.0",
            "_view_name": "StyleView",
            "description_width": ""
          }
        }
      }
    }
  },
  "cells": [
    {
      "cell_type": "markdown",
      "metadata": {
        "id": "view-in-github",
        "colab_type": "text"
      },
      "source": [
        "<a href=\"https://colab.research.google.com/github/qmeng222/transformers-for-NLP/blob/main/implement-transformers-from-scratch/encoder_decoder.ipynb\" target=\"_parent\"><img src=\"https://colab.research.google.com/assets/colab-badge.svg\" alt=\"Open In Colab\"/></a>"
      ]
    },
    {
      "cell_type": "code",
      "execution_count": 6,
      "metadata": {
        "id": "VBR0UudOfPjp"
      },
      "outputs": [],
      "source": [
        "import math # Python math module provides mathematical functions\n",
        "\n",
        "import torch # PyTorch library (a popular DL framework)\n",
        "import torch.nn as nn # (from PyTorch library) neural network module for building and training neural networks\n",
        "import torch.nn.functional as F # (within nn module) functional submodule provides functions (such as activation functions, loss functions, and other operations) that are applied element-wise to tensors\n",
        "from torch.utils.data import Dataset # Dataset class to customize datasets for training\n",
        "\n",
        "import numpy as np # NumPy library for numerical operations in Python\n",
        "import matplotlib.pyplot as plt # (from Matplotlib library) pyplot module for data visualization"
      ]
    },
    {
      "cell_type": "markdown",
      "source": [
        "# Implement the multi head attention (MHA):\n",
        "\n",
        "![image.png](data:image/png;base64,iVBORw0KGgoAAAANSUhEUgAAAqwAAAFeCAYAAABAcE2/AAABQGlDQ1BJQ0MgUHJvZmlsZQAAKJFjYGASSCwoyGFhYGDIzSspCnJ3UoiIjFJgf87AA4TcDPIMZonJxQWOAQE+QCUMMBoVfLvGwAiiL+uCzJrzQevhy40J/71n39DqvXLMH1M9CuBKSS1OBtJ/gDgpuaCohIGBMQHIVi4vKQCxW4BskSKgo4DsGSB2OoS9BsROgrAPgNWEBDkD2VeAbIHkjMQUIPsJkK2ThCSejsSG2gsCHM7GRm7GloYEnEo6KEmtKAHRzvkFlUWZ6RklCo7AEEpV8MxL1tNRMDIwMmZgAIU3RPXnG+BwZBTjQIjln2RgsGRnYGBuQIglmTAwbHdgYJBoR4ip3GRg4N8JFFcrSCxKhDuA8RtLcZqxEYTNvZ2BgXXa//+fwxkY2DUZGP5e////9/b///8uA5p/i4HhwDcAfzVgE4TwVQYAAABWZVhJZk1NACoAAAAIAAGHaQAEAAAAAQAAABoAAAAAAAOShgAHAAAAEgAAAESgAgAEAAAAAQAAAqygAwAEAAAAAQAAAV4AAAAAQVNDSUkAAABTY3JlZW5zaG90L5WkIAAAAdZpVFh0WE1MOmNvbS5hZG9iZS54bXAAAAAAADx4OnhtcG1ldGEgeG1sbnM6eD0iYWRvYmU6bnM6bWV0YS8iIHg6eG1wdGs9IlhNUCBDb3JlIDYuMC4wIj4KICAgPHJkZjpSREYgeG1sbnM6cmRmPSJodHRwOi8vd3d3LnczLm9yZy8xOTk5LzAyLzIyLXJkZi1zeW50YXgtbnMjIj4KICAgICAgPHJkZjpEZXNjcmlwdGlvbiByZGY6YWJvdXQ9IiIKICAgICAgICAgICAgeG1sbnM6ZXhpZj0iaHR0cDovL25zLmFkb2JlLmNvbS9leGlmLzEuMC8iPgogICAgICAgICA8ZXhpZjpQaXhlbFlEaW1lbnNpb24+MzUwPC9leGlmOlBpeGVsWURpbWVuc2lvbj4KICAgICAgICAgPGV4aWY6UGl4ZWxYRGltZW5zaW9uPjY4NDwvZXhpZjpQaXhlbFhEaW1lbnNpb24+CiAgICAgICAgIDxleGlmOlVzZXJDb21tZW50PlNjcmVlbnNob3Q8L2V4aWY6VXNlckNvbW1lbnQ+CiAgICAgIDwvcmRmOkRlc2NyaXB0aW9uPgogICA8L3JkZjpSREY+CjwveDp4bXBtZXRhPgo6BSkeAABAAElEQVR4Aezd57dlVZU28E1VkaoIVYCAxCKjBAUkClpNRqIExYA5dND3Q/cY/aW/vH9Aj9HZ11ZH0y0NrSIIShYUE0FsA1GJBSgSBCQjBcV7fquc5WZz4j3n3Hvurblq7Nrn7rDWXM8K81lzzbX2Wq+2QpUhEUgEEoFEIBFIBBKBRCARmFAE5k2oXClWIpAIJAKJQCKQCCQCiUAiUBBIwpoVIRFIBBKBRCARSAQSgURgohFIwjrRxZPCJQKJQCKQCCQCiUAikAgkYc06kAgkAolAIpAIJAKJQCIw0QgkYZ3o4knhEoFEIBFIBBKBRCARSASSsGYdSAQSgUQgEUgEEoFEIBGYaAQWTLR0KVwikAgkAms4Ai+99FL18ssvV/PmzavWXXfdaq211pqziNhlUV6FBQsWzOm8ztlCzIwlAmNCIAnrmIDNaBOBRCARGAaBV155pXrggQeqm2++uXr22Wervfbeq9prz72GiXLi3125cmX129/+trrpppuq559/vjrkkEOq7bbbrlp77bUnXvYUMBFIBMaLQBLW8eKbsScCiUAiMDACf/jDH6p77723uvLKK6sf//jH1eabb17tuOOO025xRJpfePGFijwrXlpRIZQO1l7H/Pnzq3XWWacc66+//sD5bL7AevzCCy9Ut956a3XddddVd911V/Xud7+72mXXXapFCxetzn9872YuW5ub2OTficCajkAS1jW9BmT+E4FEYGIQQMSQw9tvv7269NJLqx/96EfFDWD33Xevdthhh7HLKX2E8ZlnnilW3SeffLL6zW9+Uz3yyCPV008/XXFPQGIRVVbPhQsXVosXL67e+MY3Vttvv32FtC5ZsqRab731VpPLQYRGQJHzt7zlLdVPf/rT6pJLLimynHzyyeXaxhtvXIiyOMmahHUQdPPZRGB2I5CEdXaXX0qfCCQCcwgB/pu/+tWvqvPOO6/63ve+V22yySbVcccdV5100knVlltuObacIn9I6u9///vq7rvvru64447q/vvvrx577LHVByKNsNYtrPxMN9hggyLb0qVLq6233rp629veVu28885FdtbXQUklUrps2bLy3v/7f/+vEPennnqqOvPMM6sDDzywcl+cg8Y7NvAy4kQgEZgWBJKwTgvMmUgikAgkAt0RWLFiRfXrX/+6Ovfcc6vLLr+sWrJ4SSGqyOpWW23V/eUp3kVUkVBE9YYbbii+oyybSOtzzz1XbbTRRsWHdK+99qo23HDDYkFFFL3DEovQIrbcFr773e8W8rrffvsVwvnOd76zuDEsWrSoWEX7sYgGEWW1Pfroo8sCrH/4h38ocbsnLoTY4rMMiUAisGYhkIR1zSrvzG0ikAhMIAKm2ZG/L3/5y9VFF11UVsgjqscee2y12WabjUVillKLufiLmnq/+uqrC1E13W+h08EHH1ztu+++FQK62267FTnCqol8ItjcBX7+858Xsouwsg6T/3//93/Ltfe///3V29/+9kJ8pTfIyn9uBccff3z1+OOPV5///Oera6+9thBibgh77LFH8ZsdCzAZaSKQCEwkAvP/bytMpGQpVCKQCCQCawgCT/7+yeqCr19QnX322cXayQ3gjDPOqHbZZZexEDMWUlbU//zP/6y++MUvVldccUX16KOPVktb0/qnnHJK9eEPf7ikb2oeeTXtH2RVkfiN2JqeN/2P2JKVSwN/19/97nfF8nrPPfeUZ7fZZpvi61qPo1fRRhrbbrtt8Z+97bbbiqsC1wRpbrrppq+RqVd8eT8RSARmNwJJWGd3+aX0iUAiMMsRsJjpuh9dV33uc5+rfvnLX1YHHXRQ9ZGPfKQsMrKIaRCS1wsKVk7E9Dvf+U5Jz8IupFI6yOnHP/7x6rTTTqv23HPPQghNvSOmnWQIUul9C68sDuNK8OCDD1b8Tp944olCYPmyIp6I7yBB/CyqiLE4yfrwww+XRV27v2n3auH6CweJLp9NBBKBWYxAEtZZXHgpeiKQCMxuBFgLTcmfc8451fXXX1+94Q1vqD74wQ9Wf/Znf1ZImq2jOpHFQXOOrN577z3Vt771reInKz27ACCarLlnnXVWcQOwuMt0PKLabyAjUmqRmDzwxeXigIxbzOXMImqng0H3VBU3n1ZYIaziZiG2wItVN0MikAisGQgkYV0zyjlzmQgkAhOGAD9Q5Iv/6MUXX1wWMR122GHVBz7wgddslj9Vwlpf5ITs/eIXv6jOP//r1Te+8Y3qlltuKRvz24rK9P973/veYlW1yApJnkogJx9VxBTZtdMAQoywsroimfaSRTQHDUjuokULi5XV3qwst9Liy8r6miERSATmPgJT65nmPi6Zw0QgEUgExorAc88/V6yrtq9ijWTZPPLII4sVMraDGgVZlQn+n+eff34hxvZ45WvKOnnqqacWsur3qNwPTOEfeuihZbEWyyjibOEUwvyDH/yg+OhOBdhtt92uQuh33XXXQoJ9WMBCL1/EypAIJAJzH4EkrHO/jDOHiUAiMIEIPNz6BKlpeZbIsBbyI20ucBpWdNPorKqXX355mVK3IwHLqi9IWcXvt/RHGbbYYouyZyp3A+TbjgJ8Z30IYfny5VNKij+tLa0OOOCAQq59ttaXwGyrxd0BMc6QCCQCcxeBJKxzt2wzZ4lAIjChCCCNd955V9n+ybQ5SyQixsdzEN/RTtljmUXgrNhnWeW3et9995VpeWSSjyw3gDe96U0lvam6AXRK3xS+vVtN//OHJYt8Iue333F7p9d6Xhefr2A5czP42c9+Vv3kJz8phLjny/lAIpAIzGoEZiVh7TSSdj0OCsFh5F0/4v6sLrUUPhFIBGYtAvqgmCK3tRRyaQW9afRwAfDMMMH7fEf5x1544YXFqvniiy8Wf0+Ez/6mO+200+r0hkmr07s+doAcI6wCKyvf05/99GfFX3cqeWSt5RJgFwNWYTsGcKkQ71Ti6yT7dF4ndxyhq0J3uR7XZmv+phPLTGtuIzDaeaBpwEqj5X/FChFWgSCnL614qXrxhRfLfX5NntOpUQIOz+vwTC3F4VooiWkQP5NIBCYWgVCIcSbosG2j2/sUsfYnvUiz+bzrzWtNAOPduO75Xu/Es3HuJkM808+5W7qRX8+wNPo6FN9VX29CwnbeZefVcneLpx85kNMbb7yx7LMqLR8I0BfaU/WYY44pW2cNulq/n3TrzyhbHz3g0yrIk4VXfGjvvffekuepyMC6yjLsy1vcDHyhC5ZHHHlEtcGiwbbNqss7rt9R7uKv11X6yaGs4EKPWRzneb9h46DrHHyM6S3lCNsMicCahsCsI6w6vXonZ9T+9DNPV7996LeV1aM6wzvvvLN0ZDppHYCgsZt2s4J1aWtzbFaGffbZp9p8881LJzCsgljTKk7md24hQJFSmiteXlHazKsrW0RxXmtz+HmrBobz5r9eQa58ZZXfYF0JByrRTlnXOinXuO4TnwaYlHK0Q2fxvrLylWreWvNWDVBbMkgzgvuU+8pXW3K05BXIbG9Oij3ij+e7nfUTFkGJP6awxV2Xx2/xC2SqB/ekGc/X78XvkAcZ4VfK9xJZQSL1RaMkW/q+Cy64oCy2MnUu6Ovs8XrwIQeXL0+FXKM+B0Gbv2B+wRLBEpSX/NpP1XmqQfkgrQ5f2uL2YGuwQw87dKQYTlW++nvyHOXuuvqh/JXJo48+0qoH91Y333xzqQ8PPfRQ2f5L2XnOQMY2YQ7W6tBZ/kbWtZcMicCahMCsI6wKB0m1HYxO38jat6854PseNqVr1Kqj0KB1noJOw2/3/LawwXSVkfohhxzSmo57e2tabruidLwrdFM+5YH8LxGYAwhQoNrTf7a+enRt6/OXlCnyZTbC4NBZWwrFq304vKc9xdk1bczf2ujhhx9effazny37fLaDybOU9D/+4z8WP8QgrdKLNOMcbTLiibYsnWjzzuT1DfuPfvSjZRV8P23Y50RtK3XNNdeUqfog2XGuk1/xSVu6iDbiBRefH33f+95X+hPPdwv33beKpPgalPwhknvvvXf53e29fu+J1yKra1tlifzAjpXT51WXLVtW7bbrbv1GNaXnop4g9bBYsPaf1AzcfFAg5FJXPN9POYUw+m558ZECVmSuD3xZGS022nCj1xg04p2ZOke+1E3lwphCVp+u9ZvOCn0FB3ioX84R/O2Qb4vYLJJT3ww+fPHLVmQZEoE1AYE/9SSzILeUw5133Vn95KaflM6YojElpDPQMZp+Yq1w+BSgkSjLqs5Rp0Y58hmz+EDnYasXX5axPcpVV11VHXHEEWXj7KUtC2xMY80CWFLERGAoBChMPpUUqEFgEEBKMxSuBOI3AuS3c/1wLaxpiJg4xd0ueE/8rGPLW6vGTREjgHHdWQjy04wj0nXdb2kjmIi1OOUhrjffrf9NBtPy8q4v4AsZISxY7WRAIATp6mP4oJK/Wwh5WNVM09tMnxVNX4WIiGuYIH6EEJ6XXXZZGcQH8dEXvvWtby0krxehHkaG+ruRdv1akC99eeBRv9/Pb+WxZMmSammrn7YHq/5dv64/j0/A9hPPdDwjv8qDjrFDgq29ftvaHSJ0llk/dSd0lo8urLf+esW1DbHXhrRJ9ZOus3+u3wgvnbWsNQDh+4y4iitDIjCXEZgVhFXDNd3PmsoKcscv76ieeHyVYrF3If8v0yVvfvObS4e1ZMni1mh0w0JiKR3TnCteWlGmHY1odSDi0omYSqIsKS2/XfMdb52AuDMkAnMdASTT9OrRRx9dvlLE0ol8UZAGdwhgWMSaWCBryBAroQEjIhHX3vGOd3Td1B3x8B5LLKJhUFlPl2JvN3WM6BhQcu/RRqVpitTfCIwZE7Mn/RBAMsi7/T2RbNP00pVnC3oQDvE4pCuwaJHbIW0Wr/3337/koe6u1MQq5IlpbHkTB7Ky4UYbNh8f6O+Qjdw+u2rWCZYhO3z33XffIuNAEQ/xMOy4Wrzy8iprIVmC/Ie8Id+gySD6yk3dox9gql+X50kgbspW2wmdhUyrTwZw5PPBg/3226/spKCuyoe6u/7C9asF8xdUL7/yctFZ4rG7ghlE+knZMtTIL6OL34gwv2QH8pshEZirCEw0YdXZafQapA2njU41XIpth9b2L0iqEabtU3T6ZXTaxWcuCtFUEnLLb4wlQtw6AB0DCwtF7UyBi1cnq4MNhRPx5DkRmAsIqN+UqKl0+1yy0iGt2oGN2bURbS5IRuQZaTA1a4sk7yFfrJyIX7jcOLcLQV6QXCvWtWPKWZun2KVrhbv23wzIKosSorv/AftXSxYvKSSSPEiSNkv599NePcO6edRRRxULZJADFizpc5UIK7G8kVd/g4xbqY4oI/zR/wQha8ocfwe54nYBzyDe66+3fjwypbN8IGuscRYhKTtBGsrWoN7HAcg77hB9pbKQX3LVA1mD2PdTRvV34zcrsf7eIIXBQf1Ub6QV6cez03lWf83k3XTTTWUW0JZbdBa5kFKDhoMPPriQVXV4iy23qNZZe52uC6kMiLQz7mus5PbTZbjhC8yyTFchrzA48cQTWm0jP1c7nWWeaU0fAhNLWHW4CKoR5Q9/+MPSMFl5WDc0XGSSHw/lwcoRHWA/0FESOnCO7BSNTs8+hUhrTNeEG8HJJ59UOoCpdqz9yJPPJAIziUAQiNjk3d+mLIt1rDVl/vOf/7y0v6aMFDA3Gr6bBoEIHZIixHR6853639JBPChkAdHwfiwSMv3ZjrAiYPEJUwNPJBFJdka0ydGLONbl8Ly+wCF9bR8ZNRujX0AEyGkbKERVnhF0eMnns889WyGc/eQZsUCCw18XyWYlHqT/qste/41sKyuuDcoPBvIDL/0ki2Q/MtbjnMrv6CvJYEo7CKvylb5BjD44nptKGkFYDZLEY5CFKJopk0/3pzPI2xNPPlHdduttRWfZasusoPI2SKCz1B0Hf2VWVXW2Hww8Y9aCrnLIH5136aWXrp4dpCvVKXXV/rrI8HSU9XRinGklAhNJWCkpFhZfMTG1FVNzOnZT9SwyNtnWcMNnbtCi1Jkjv+JZtMGiYt0xco1OT8dPYVMkZ565cbEeDZpGPp8IzBYEtAdKnuIVKFMHxWpAF+Snnp8gQpQjhSqEkkSUKNpeClm8ETwbhAYZREYiXfdCNumaHTGtGulGHIhQPBfXBjlLLwbFiMXVV19diMB2229XnXDCCdVpp51WyLl0BGkNsrofoTIwRuKkhbzJ5ygIq0E+ssotQBA/+eDFumqAMZ0BeUKiEVdBGRocqE/DElb9vnypJ36zgss3gii96SSsfHXpDV8to0O4lRmUINGswAceeGDRWXQXwgmDXu2iWU6BneusrPBTvvbYRYzhzO1AvfLsWWedVfTjKOpVU5b8OxGYKQQmhrDqWBFEnbkvsxg9xiIII1QuAKYezzzzzDKdQpkKOgsNd9AgPQ2bgtx7r71LvDp805LOrCvS/+Y3v1ksIJQV5ThoRzOoXPl8IjBJCFB4FKyz9lkP2l2n9qB9TaVdit97CxctLGRO+wzyK05B22eZJFe70Emmds92umY7rcgvQnnkEUeWT5myVA5DAlgckVbWMKRKn8J9YdiApBnYI0ph0UTiyBrkfxi5pyJfuFkhboJyUWYs2fI81foRssAOIURYpWFqvBDkFasIcjw3zjPcl7d8Z6+44oriOmOLKsRZPvkNL2u5unzwgx8sFvm6O0bon6nKZobwlFNOKWlxu1DuZia4CCCx6uxJJ51UBpzD4jxVGfO9RGDUCEwEYaWQnn/h+eqXd/yyOu+886orrryieuD+B0qnztrBOuC71+95zxmv888Ji86gwDSVmkUTGrjORoevE3DogL761a8WwmxkO92d/qD5yucTgWEQaLYL5BAxQK6CwEX8CBHi5XpdGbs/lXZZV+IWnkg7/EcjTWfkxFF/vn5/2N8GwRZ1xtS6gfLJJ59c7f6m3V/X/pt49Uqb1ZHLAaLDShZHr/d63ddXIU4sfWFlI5ty4TbBqjmVMumVbqf7+nR7YrN4RhmWgUgrz+RBoochUt5VL1lZpSUwMiCtFthOR1CGVuzb7/aiiy4q7itII7ksfjIT+KEPf6ja4817lLwOWld65QGOxx57bCl35W/XCQYXPr1f+9rXCmHmOkOHZkgE5gICM05YdTY6cZ3bF77whTJSjU7OdBlncz5y/HJ0cuMKOhmKCUHlzE4mwYjdXn8WYOy4047VJks26WhVGpdsGW8iMFMIGKAhq+3IDiJCQQYhGUbGsJ5GHAiJNKWPGAgUvuf0Ga4hreOY+kUoTetq9yxV73rXu8oCz0Gm/iMfzTO5yS8f8oeUD0PcIn4ys7AibXAKrBBW/sV8HkeRTqTX64xAxVS1+kEe+Y0+fRTlJk7W1ag7iLoBVNRH1z0z6iBedQ8x/NKXvlT28GVNds0AhE821xF7AZsZFGImcJTywJBLm4EVNzo6i2ww4NJmYZayVwdGme6o8cz4EoF+ERh8Lr3fmPt8zojUSsp/+qd/KqNUFk6NS0dk2oMvzrjJaohqVLzvfvsWPyMdD8Wi80Na7Xl3+223v87KFO/mORGYiwggVBSeczMgX5Rk0/LafG4qfyNX0ox06+RDugjaONJFOlgp+SIigCxYFsqMwv9T3OQOQoWMGyiPYtYGSSE3C6MQ5JTrhH7NeTrDg79+sBC6WEAnbfVIn25B2ygDXSGoF0grciiMg6TRCcqQgeXv//7vi/takFVy8FGlr/7yL/+yWtraJzYCsj4OefiY23mAYScsqeqXesD/2m4XLK8ZEoG5gMCMEladrH3q/uM//qO6tvVVFqNyikmDs5DDKPXYY48pfjjjBlsnJ+193rrP6u1qIk2Khm+QHQuQV89lSATWBAQoYaSRwm0G7RRJCILQvD/M3/Nan0CVdqQbbY7SX21hfXn0U78UvXZuKz0ru03rWuwZBHCYPJEbyXYWxImsjiJu8UV5BDlyNvBGikeVhnR6Bf36D3/wwzJThUBG2Zm+t7vC0h2W9oqir/vyJG/8RdUL/bT6iCQ7jyOIl+WYzrLOgj+ydKVvYGAvVK5lLPOujSsEpjBY2iLGBgHKOoK0baf1/e9/v5RD1Lm4n+dEYDYiMO2EVUNzmEpkWeWziqxSFDFS5pRv835bV22zzbals40GOi6QNXyNnNuBaZz6ogCKwCjVzgU+qxfuAuOSJeNNBCYFAWRVW2hnoaMEWZuQklGEUPD6hodan9lc3vLJrFvognRF//HC88OnKw/Rt8iHL1CxTCEmFlq224lgqnn1ARN9SaSnvzOtG/maarzeC7JaJ8TiZhl2DmyHSaOfd+WNW4IV8+HaJW11aMcddyzWwEULR2PthV9YqKVh4KTcEOaXxrDwSvym3r/yla+UT9/KH7IqIKj2MbYQaudddh5JmXbDO8rTmc5qun24Tk8pB3qWMShDIjDbEZhWwhqjPI3JFzqswLdfnVX50ZEbhZuCs8jKIgedrRANdFyAR/zSY1GxSCE6ep2wjokyc+gQMyQCawICQQpiar6eZ+0ZuRyFNSvan7amP7D5vb0l9QsREIbYGQC5HGW60uCOZM9n2wMhqgbNfD9DtpBjlOdRxa2cWGsdMIzD9VEQ4n7yLE11wqwZv0qDjZDDBxds72Sh0KjyTCZW5Gb+1BGb8Y8yyJevoNFZPqTBXUTdlBdT8Rbkhq/zqAh5v/IbTPKbjS2zvBe4L28N+tTnxx//Xb/R5XOJwMQiMK2ENToqjch0CksGv6sgqzoeHdrpp59eNrq2yCHemS4EKWYN36jVbw1fcDZK5WgfrgvTJVOmkwjMFAJBWGPgWJcDYRz19Ks4+QeyDJlu1QajD9AG9RWeMeNhw/5hg7gd4kKQLbZasPaCMrW72+67jcS/NGScP28VuYr8IEHy4zxsWHfdVZZwi5oEcRpki386grKRpjLj78+v02DGdVZe/boPvbBEjiqsfHUVfgYy0oErArveeuuOtNzIS0/Jlw9J0F/SjLrDfe3EE0+sDjrooLJrQZTvqPLZKx56k4EFaY12Cg+HdsI14JFHHh2L604v2fJ+IjBKBKadsNqH8Nvf/nZZ1KDhx3Qiy0C4Avh0XTiQjzKz/cSlw9Op2t+vOXLXIfNljc64n/jymURgNiOAsK63/nqrFWE9L8iQ9jtKUuRLc0ij7YL45LFw1gMShrCa7nz+udHMdFDsttHjt6pt25fZp1p9vWqU5EN/4og4pQs75GfYsM4665ZFTQiLeAXxin8UhLiXfPLEHYFl3O4KBvXSVoa+EGYHllFvC/jqylUzX/X8qa/zW1ui1THuJXuv+1wc1ElkleW4PsNmNm7ZsmXFHYD+inR7xTnq+wYqjCzyXw/qALKtXo9jkWI9rfydCIwbgWklrNGhmVbR8GP1ok6cj5MtOqzKNSJvksVxA1GP3xSLoymDDhjJNjVk39gMicBcR4C1ceH6C1+nCOWbBY3yHpUiFJdvsPMTN4C1kMRUchAwaSIElLC0w3/Q9WGCfki6VlRr96Z27f086oBMIHDRryBa8jAKwsqXE1b6URgFZoh9WDqnkh/x1AlhpzgMIvh3InUsetKUTySKb+eRRx65evGsOEO+TvH1c51c0o16AF8WeUaHUQV12xZR8qVeIuJBSmHua2gGN6ybo0x3UPnJwsoahDVkhDPCSm/Vifag8efzicAkIDCthNV0ug2WfW6VpVXQsPgc+cwqRWF7Dp3OTAZWCkc0+pBF4+dob4HYdG1OHWnnORGYbgTUd76AtiMK39G6DJR5EKL69an+1j/wadfGbNXDKte0sIobQUGIkJVhgzzec8891Q9+8IPiw8oKaKX3qIkPOREaPvrIuL7FAFg+nIcNZqRMTetHxS1fDn2VnU1gFtc6pQVPhOzxJx4vh7KN9zq94zrCzTLua0/Kj0USmTRLZbbMTgu2sxLIFke5MMR/8gM/RMxvpM0RpC3SGyKJYpmULxZWeYzBhTyYiTviiCOK5Vgbmc4gv/WgvtYHQ/X7BmT8wpOw1hHL37MRgdfOH4wpBxqPqUN+qxp+naxK0nSGkaqpFb91BjMdOnWq8kJRj0LJzHQeM/1EoBsC2gBFqE062gXEpB8LXLt369cQD33DrbfeWixF+gIWo2tbO4g0A2KlPxmFZdcuB9LlN8saaGcSe1uOKxgIBxlGBotLxSvDE1bxIqs7tHY4QZ6QTX0VrPiVSof1uF3fqvyQGhZSB9LKOgp/0/ni7GQ9lIb+/EfX/aj6+te/Xt4XHwLt64G2JjQIkOdRB+nIX1isETbpkpVc7fI6iAwwM5DhKoLwiU+8grToLH65rNqTHOCkrahvGRKB2YzAtBBWDcV0ClcA0xMaTzR+o2Edo0/IWew0bCczysJoJ4vGb6FJNv5RIp1xTRoCdYWPbLSzsJKZxQlp0C6COAyaF2lZyWxRC+JkCll/wO+uSXQ8q+0hZI5hAplvueWWYhVEXO1OwiI4zsBi7EB49IPyO4rtuciMcO+zzz6FYNnNBFYw4uqAPLLuNvGEAYu2KW8fS0BYWeLWau2Du2Txkmq//fYrXxrkrtWOtIrfrgDnnXteWbQmPhZkFvJPfvKTxQgxrvUIBjnIsnwK/EkNNtRDBgVyTDWI0+DJjgD8qevbq4XOUl/s1cuqO8lBG1W/HRkSgdmMwNgJqw7MiF1nqOGHkolOhr+qzaQpqXYEcVLADYJNbgqa0vR7kmWeFOxSjtmHQL1ea8MxFdrMSdxzf6qEFfG48sory4JGU8fIKvJhOhuxawbtTvvTDgV/D0pQvMtqJl0uAdLlPz/KVexNuf3NyslajfwhrOR2HkVAhBFFx/I/+izqexkL5BW5glUEZQfjf//3fy+fFyUbgmrxkPKEiz08Edq/+Zu/KWS4Wcbi/q//+q+y0EqZIG9I82c+85lSjuMiq/IBN/mTrvoq/9JDyptyRp77PT/3/HNlICN/XByQVGnCTB65rtn2DGYzEerts1f6ylJ9z1nBXkjl/UlHYOyEVafCimEEz5qgwUcwjUUx6SRZByYl6JgolLpFQQcRHZaRqukifw/ScUxK/lKORGAQBChrFlYkoN5+xaEdUOisclOdGrWq3M4h+oNDDjmk7IEqPWSgk2WXHCGLNkjGQQKZTfX6EhBL3KGHHlq95S1vGXt7RohNsVvIAzMD+AcffLAQxHp/M0he4ln5sGn9ce86rlgHbdOlj4q1A3xKTWNLx3WuAhdccEFZV2Da3t7Xe+21V7XBhqvcPx584MEyK8bybbqfe0As6uIX64tg55xzTsFR326mjIX6gx/8YDFATLU+RH66nekVJJwVXl6EbbbZpugRg5xhCeudv7qzEFYWXEQPZlHP5NMWVtttv93A9a5bnoa5Z4uvwKFdPAjrqAZG7eLPa4nAdCAwWC8/oEQUik5Rx9ZuWw0dy9LWZ+VsKD1TI9V2WWLxoYhDITaf0RmaMsuQCKwJCARhRSi1i3pgvXGNlavfQLE6EAAWMtOuVpYva/mtIjxWu7unnUnb76Yylq40tdHSHlvPDBKQRf6JCInpcn3QOAlWyCZvfE1Z6eRB/uWdPMMu3IHT4o0XVwcfdHDxHRU3Moyc+yCClezcAhBmBMb0v3UFLL72vj7gwAOKG0Bgvc5O65QBBP9ellZnxNam+Zdcckk5br755lL+yKLy+9jHPlb2XIXlsKQxMGt3Jr8PPcifAE+fRmVhjTrT7r1e1+RdfbZ4zMdtGCdcC+skPcXtQF5Hve1ZL9m63bcImKztdJZymEob6ZZe3ksEZgKBsRJWIzqje4SVJaHemErn2uo8bSitAx1n5zYIsJSIKTBHdFJNhcnqY/W06xkSgbmOAMsdUqPeNwkr4oBsOfcTKH+HtuMdHwhg5WT94wrAQhi+h/Nag0Lkw9/N+JHV+GhBJytsJ3m0cX6XjkjXNlbj7oPkm6x89U1fs9oFqYTrsIRVfsVpSp+1FIFhGf31r39dSLEdWuDuW/fSR/ZYKRF2/TCyK3jGgZzpm+0+wCJ8bWsB3F133VV2eUGAxWv6Hdm3o4Mpcl8IG7Q8SqID/qc+6KPJr9xYrmMgQPZBgnIRvEdHGUBwFRG/ela/jxCzUnOvGHd9GSQP2gIsQmdFfqKtaUNN/+VB4s9nE4FJQGCshFVnrKNb3vKnalpgjIiNyjV+neekBA2eRYLsFFu7oOE7Bu0Y28WV1xKBSUeAsjMbEkSyLq92bUai2b7rz9R/R5uhSM2+WIjJj9KWdnzZgzR5Z621VllYtbUmYdVOI91BCJI2bR9llkVft+I7v+9++05bH4TkxMp7PqKIKoulKfZR+c+yhCPgpubhbVsmfTCLIRcAeCOoiBmCZorbO56N8nF2j7z6apZohNdztnciNzcuZXb4EYdXB7RI7w477FgIc728x/FbGeqfyWGwZFADU8S6nc9zLxnkVX10IH725PWBmFhoFZio/7CyAM05rveKfzruawvKta6z6vLByJEhEZjNCIytBmv8pmw0/mj4AZSGxGKjk7HYYZJGfjppysPRzueHBaOT8o785Xn8COiYo3NW1yLUf8e16TjXlcMg6XmPIpkka01T/m51XhloJytW9GdhFbc8x+pyfqQsjocffng5SyuC36x8SJI+pF62CCuyMshUuvdZHb/73e8WK+H2221fpryd6+lG+qM+Rx0xNc9CZ5rdrikIK/KKcI1KDn0qUvqhD32oTJVzu0BYWUW/8Y1vlC9SkQfJ8REXi4uWLl1asDb4QEjdY1HlC6u8vM8KzIIrbj6/1h/4HRbjwCywfqlVL3x4AukdVVD2yKpFvGQVNzzrnyYdNC1YqMuIOXcAhFg69SAday5YkSdNZ/EhNgCMPpHcysChb9GOFi16/QLGev7ydyIw6QiMjbDq8PhI2a7G72bg47TjjjuWDqB5byb/1kmZCtJxGbWGkgmZWHN0zpRohplBwGCCTzQlqryiYyaN3xEMPsYVmgSzWU96pRvvhzJhXePfOEmKMPIQFtZ2ssF/laXztco93m13DlchfpAU7Xve856ysrw5JS49/US7tiZd5NPRbd/UqA/Kh5UWMUTeEB17aCJdzXTbyTzKa6xzBuvKO6blEUYuEaOURd1C5LbdbtvS15rGt8WVfhkOyE1YFOGDiMIaNgYCZpr0hdpaWFstyuJSYHHcNttuUy1auKjU2ajPgZM4pCUOhDY+HBD3hzkrR1ZyBFrQH5ups+PMMISfzPKqLOpGliB9jCx0FteDSQhRt7UFg4uwfDdli3a0aFH7vZSbz+fficCkIjA2wqqjQ1b51egI6gpdp2I6aaeddyqW1kkAR+MnI+VLdoqwHtzzDGVDibabHq0/n7/Hg4Ay8KU005ysReoWxVuvX5FydOjx96jP7dLsNw0KPuqchTD8CE2LWzgyaYEFmIUmphSjLZCTskRu2s1GtMuHPFOuLKs33HhDITLLWgtYYqFVlJk0YMSqReHW0xSvMtdWe6UbgxZxSZd1lZsS4mUfTRazJtlqJ/cor0mPNdXBgsmaZ89Pg+RREtaQeYMWUfH5UOTcIin5R1iRM9Zd5IwV1SHon/VvCBqfTfVT2SOzMDvllFO67uqibMyucSEQt7ozSsJqwGrKXhoMCNwfWHoHcQ0JbOpnhhVWW/Gq1/Ug//ydYaiuTkKI/oMVm3XV0ZRbuzEjqF4NQ+YnIb8pQyIwNsJqtKdzjJGqxqIxaUA6FtOAu+26W+kQJ6EYyCUgq4gQwhodQpw9g1Cwhq29ztQ3pZ6E/M5WGRBUbiYXX3xxsbL4e7YG9UndQggM7FiiJpGwIoyISxCCkBvuCCMrKfLYTwgr57WtBTx/ePEPZXEQEhBTxtEOxYUkULSRbj1+fYk22m72Jp6DbZBR8iGHV199demDfNEK3lPxeYz4p3qWx913370sVkIe+ZIikPpL09p1DKaaRvO9MBIwFPDbVd9YKR/89YPVU79/qpQhTJFN5Y2sImbw4brA+MBa6j2YR5/YTMd1hNJCOhZW1shRDu7FDy8En24hH5/S3XYf/pPeZmwMhtUV6dSDuggP7gBRV+v3Z+J31O0nHn+iWt7yUVY+MUALecitDCyeW5guAQFLnmcpAmMhrBq7kTsFQZlpWDHy04CM1DV+inrSAiuHDjfIdV05kz0sI6wWGaYfAeXB0mHQoG7VCWtTyTT/HrW0wxIL8jm0A0QCSZjEMH/B/EIag3hoB3AnuzMSWi+HbnkwkEVWESALdliVO5FGW8chT+0sQxSzdB29gmf5ikrXNLLpYz6zZkpmKkiblZd1ENlg7TRlb6V94Dwu2cJgYHDUqw4//sTjhaTqww1OfEGLdVMbbFqDoz4g3v/93/9dLH5wXtryjR1VUN7K0BZbAiLGPWHYLabUkfDTjQW3dWyQVDqL28EkBZjTWfStwUYEsms37nOZscCZ+8awQXywkpbf0tEfBHkeNv58PxHohsBYCCsioQPW8AUVXMVWwSm2zbfYvFgSJklBR+Nj6WBhbVpu3NdZIayTJHe3wp2L9yjz448/vvgA6qRjSlj5OGZLCHnlR31CHtStSQy2cOMnaGpX0J4DawM7LgH9WFi1fUTDVlbis/enfHdSdvPnzS/WLGTBM9KNQGGysMUMTlxvd2aJZTnjDoAcS5fViaKdycDKaoodJuqymQOH6e12frujlrVOyHrFHc/y77zmmmsKAfK1pyBF2iGXi+uuu6764he/WKyr3ABYz7v5GPdKt3n/V3f+qmxHxtKrLH3Vi4VV/VAnQ87me73+Vn/pLO4AdeIX7yHn6qqZhkkIkVcEnh80vdV0Y9M2DYyQVQOMqWJTzy9Sr45qSwaBypiLiLqcYc1DIPSY9qfd1PvyUdS3JqJj6bERVf40OjFCh0VG4v72jWq+Y4s2GH7E18zQVP8ml21uTJORPRRwdAzuG2Ej26w+GWYOAZ2vjliHrHzqofl3/d4k/lav5s1vbd80f9XMwyTKqP3WLZ114qgMEFHnTiHKxIwLssPK6stS9u6sd3DN991jDWxncdQ59rKwwlbaFDqfWe4+0mT1Q3bcn8mgP7Hwi0WSi4vV+r74xerq3kzLB5tXV66yqJHFYfbJlmDKnGsBMspAYb9tAxGWcxZjuPsIBLeLdi4dU8Fdn/zjG39cyLDy33PPPasTTzyxGBKGxeqFF18o9bLuClaX0SyIBVczaZWvyxP5XfHyimIBp7OUST1oP/rKpS0L9yhmM7U3exd/6UtfKgMTRh0DP/3BZz/72ddZ3Ouy5O+5iUD0C3KnvkW9HFdux0JYf//UKl8nFVzHpXMJpeO3hUsIq+1OJin4FKGO1ygylCz5FAIrj1HkLjvvMjE+TJOE3XTKwqozKX5ko8i3uuYYd2Ofqqw6IoQ1Bmr1tkFZaeeUl7bdbvpevpAa1jf+kJTnEUcc0XN6FVFm2WpX1sgL62pzJqSZR5Y4U+0sg0gg6zySFZbBmcScDKzq/GlNtSOuCL0p7oMPObiaBLcjZeBTrcosXHAQUvu5Kk+zA8oi/FtZ29UJ7h6sx3YeGBXG/Fa5dbCEKkN1yEcL1M9hw7PPPFuslPr+dkE+6axJm117uDX4MxBk3a63S3mgc5FsRye3m3Z5bV6LvonrgYGfxXkGnaHX6UzGKdiMqqybMuTfk4mAuvHc889V6uHTTz9TZs70s2bjRtEum7keC2F9+qmni18NRSbIVDQmHSDCqgMcR4aaGRzkb9YBjT86LY2P3BQLZW16y/RKKO5B4s5nE4E6ApS6+hUdfJzrz0zSb36sQUajLYd8FJe2zsoaz8Q9Z88jGz6FimAiGqa9e+VZXKxzpscDq0ibNYmSbFqV6umSi9USsWI5s1LeFHI7GevvTedvU8xkgglLMOJqBwyLr2x9NdOy6us223Sz0mcjivpspFQ5IjD68yh/ZaGckHDTxPvss8/ICB4LomlopF6aiOqxxx47Esuh8ka6WeCd2wWEb9hts9rFO+y1e++9r9Rxg4lme0IgbWu2dIelQxHWkDEwMlDU1g0k6XF+xKETtc+mHPF+nuceAvr9H/7gh2WGiHGAi4hZj3G5NY2FsOrMkL7owFRgnZqggiOs7awmM1mc5KVU+ZLVrTYaYIxUTXFNItGeSdwy7eERmA0dPH9S5BFhQbbrQTunzKKN1+/5/cSTq7axMhg04DvyyCPLVGXzuebfiIkp2HZTytolpYm0dgqsQMiqdE1dsmTqeyLMNO7yAM+ttt6qkC+r302327ge0ZD3Ufp/Rr4HOSuDLd+4ZSGhyGIMtMSBuAZBQaw9awqawoI12UdhlFC3uBv4xDeXBG4GJ5xwQjkPkpduz6rDSF89f/LmUA7IavhwR567xTcd9+DPd5UbGxKpPofM0tfWDIa2euNWQw18op3Iv3ppEKhNwoVONNiiz+O56ch7pjHzCGgz6t6FF15YBtmMAvZ4NtDmrjMOP/yxENaYIgwLa0CrMan0KnqMyOLeTJ8pNYRVpxWBvDpc05IHHXRQWdU7jkKI9PK85iAwCkU+nWghJKxMzk3CGsRRB9YMSOwvfv6L4vvmXQrOTIVBYC8FF2l26ivI0S5NMiCyCJYFIp6T7qRZVwMrq7d18O973/vKdLe+CHE1Be1jAvrLmQrKaYvNtyj9H9eKWJRULzu/9eumAvkmv/e97y3T0J3KbdC82BXgW9/6ViFnFj7ZWYLv7zDT3E0Z6KqwHEbe9P+CvE2ikYVFHnlk6W4OFslsNwzbcI1qoZh6iJyK2+BKeWtT0jFYybBmIcCwd8sttxSjgNkJfxvYdZqlGAU6Y6lllIiDIhOiA/DbyMxUhY5wUoLGbhWx0WrTuqpTtOUQwprW1UkpsZRjuhFY0HIJ0BaQEO06lDk5/M3a0xygumclsalcO28gZRY96dT6Jeye60R8pCtN7Re5rQfp2gtUuhYxLWt9nED7naQQ/SIskQp9zAc+8IHq7LPPLouXvvnNb5br/EFHSc4GwYCMiAp/VPuq8mFk5VTeMNefIzD6SOT6jDPOWD2wj/wNkl79WeXKSu5TsjfeeGMpP5ZVW3+N2vKsDNQlB7lDdme6qu5LHffqsk73b/qVCxsXknBhUx4w02YMdrhN8CEeha6FD2ONKV9x0pPKflRkeLrxy/SGRwAxVQe1UfVRvdO32wFmFHWunYRjIawEd2jYdcVGAJ2bDKnskxDIZ4SKsNY3xSabPOiojCCN6MdVCJOAQ8qQCHRDYMGCVUobeURW6kFnxTrVbmRtVTGygXBRoMijdtVvCFIUJKHepyCspqGs8LZASVt2H+lgWb3hhhsK2UW2WJomMZA55Eao3/3ud5fO/5xzzilWaf0PosAqPRN9Jtn0e/aM/eQnP1nIio8d8ClVNqxsyhSpPqS1UGz77ZeOpJ8Msvq1r32tfDFLneGzyjfWlOMgdajfchenQ57rwXQ30j5Tg4a6LPHbIis6a3lrAZy2pywcZhPIqbwMgBCIaDvx7lTOEYezOunIsOYioI3oe+3JHB+sUO/43nNFURfHEcZCWHWwOlfKzdRcdMjR+cnYpJA/ylbDp1htxxXTnRomS7ApKNMgvsw1jk5yHIWacSYCo0ZA3demow1oH6HYkQvtHIGsB8SWD6mBIMuq1e+DTm9LRz+iA6xbv6StrUp3xUutjxgsXOXTamrSVCmrro7UQNM09aRaguTPEaHsT3vG6QXb//mf/ym7BrgHAxbq6e43yRZkCI577LlHdd+99xXcyYXMsbixeNbz4d5Ug3JVZy655JJibWbN4y7B+owcSyd0ylTTaL6n3siLIwhg6AKY02lR95vvTvff5GLZsvOFqVgBJnSZfLCuqvejWiAsvch7tPlRlfV0Y5fpjQYB/a5ZLDNYEbQdO1Js3fLJ11+NI4yFsFJsSGm9kkcF1/jj+jgyNEicGt8zzz5TXXnllQV4hUDOGB1QcnzfLBKJa4PEn8+OH4HsQMePsRS02TphdU1bgT9CEVseuR6KXruyTRMyY8/Opa39IAcN2h0rEaJLISPHUeYIsrSj3epbpM0VgFUXkbL4h0XOO9EHDSrDdD+/6SabVu9///vLAiZfjIKhvP/VX/1VZbP+mQrqANkc4wyst8jq5z//+ZLvj3/844WsImDj0h0ULAt3O19MdXC6Bwrd8GVYseMGdwDuGRHUb0YWH1Lg52vwM4o638R8FHGGzP2cm223+Xc/ceQzo0WAGwrfcqQ1+mNWdztGLGn11+MKYyGsKrhG3q5is5JQMKHUxpWxfuI1hXnLzbeUVbkKIGSiCClJ03B8poxYM0weAtFQ2tWzyZN2dksUFqhQ6HWlod1o12FhRSqtFrVXp3umJvdsWeaMwAcNytZ7CIPfUebiCcuutAX37r33nrJgiSwGm29961uLdWy21RGdP7Jt4I+8sVbDdCYJawF5zP8h5o88+kjJq+2xTj755IID14MmcRqlKOJWx6J+qVtR3/xWx0I/jDLdqcTFumrXBDMI9aDOBGYsXcNYueCgDbUj6u5NZ3tqptX8u45B/n4tAuMqK9yJddUizGgzBpSMBD6TPK4wFsLKMulb7zrbpr+bjPJ9CCUzroz1ilcnZAsrq3H5AbHUBPCmf4wUOPfHZ/96xZf3pxcB5adDpUSi3Fa++trtlqZXosFSW/nKytXKwOBuGOUyWMpTe3rtddYuK6XJGYpcTH4jGdq0tq0s/DYlz80GYTRDsc02vb9b304y2LCuRrqRprPyZ9mVXqR76aWXFRcfPquIssHmbFRwZGYtO+wdh5UPluhHrVSXz9mYn3Zl2+4a4rj9dttXH/7wh0vbpgARsXHn2doKCtfgSJ2q46yeqdszrbPIZJP2a1sfT2DdUu/h5bp2wshikHPMMceUQVo7fPu9Bu8YnNbfGXc51NPK38MjMI7yonMZ+Cy20lakgesZTHOhxJ/GFcZCWE2tIKymEJuBctP4EY6ZDL7GZcXrpZddWsDXOHVMAtkpO9OY4ftW78BmUu5Muyp7v1n4EXvmakDjaJjjwFo9EkLJUDjai9W3SBblPInBp2MRqHZKrK7QtW1b7Vx22WWlE0NW+R0O0okFRsoUPkhEnbAGPvqQcAlAJihx6UprWWtXAHtGTvpAIPISZ3mHJ5zl32KyhdsvXL36e7bU88jPoGflrQ1QgEI7C9+gcfbz/PoL1y979SKuzaA86K2ZtrCS4Ybrbyif7+UKoK7Ai1zIqs3aGVkG9RNv5tff4kSI7ZzDn9jfysUAwo4QU5ktEQeCY9s2bh8CWQ0UDCy79REI0iOPPNwiSQ+XOGChjZDD+1tvs3Vle7hh2wertYVE8gxbg0Txd9tTmB+xj2rIE/9ncjXzNahc+jXT7cv/aEzTDsjAkKYcyDZIgL2Zbf0kTjOoPPW0xEM2Mz7qoEPZse6PeyZkLISV78zSlr+aczjlypSgEai0gItrncBrd9+1Ts/XQe32m7XitltvK9bV+5ffX5SBEaqArJpK1PBNqwybVjc58t7gCKg3Nla3IEXdikHG4DHN/BulbrXW2yzeeHFZkKTR+zrQJAYdJBJRJxA6ZqTRERYoHT4L0F1331UddOBB1UEHD75Sud7mIt12HbR0tWXHs889W9qzTtTiIIdN7OtxTSKuTZnIG31R3JP3dvmP+3PpLP8O+Y3+fzryZ2CwtKWzEBSfGiWD9B1ICFLiLExFB03lnXq+ETTk5bzzzisDM7KEjMiqfsMOE6PYDUNbuvuuu4sfOF9whgH9LKJEJ2pbZh67kbi67H7rtx944P4W2b667OABT3li1DJYt0jMThMIcT0g5nfeeWf5HOztt99eiJK+xrtRRyyINpODsIurH8KuPAQYCuK7//7lrfUsV1WMIQirdMTlQxU4ARfBunug8vCZWgN0/Y48yad+Sd8IK/vUHtzqA7fddruuhFz63vE+veYT1mao1EXXEE54k8OuJ4hrO4NgyUzjv8jbDTfcWKyi6rk4kEsBjoGDv2GDlDIAyNfzLzxfzVurNTD64wzmiy+0XClb+6+6R+bom+zN6yt9izb406Bv7QVrFwz3e9t+1SZLht+xYiyENaZXfF1GpgEejQthtY2UEYRrCgJAkWmARQgQVQAW0Qfuf6CsAPauTp3FB/jbbLvNQKMrq4gBq0JQdtKRhsqpgp18ysnV/vvv/5pRZMgSsuV5ZhBQDrZ0UYY6DI2xW9lEx0Ta+u92f09njkJm9U7HYTsQHeSkBh0Ta0Z0UNFuYUpuHZyBqPZu5oIfk+lJ07vDWDm1c4oy0o1ygx/spI0k33rLrdXVV19drAcWnFBcw6Q7k+XQri+cSXlmKu1oI9ORvrqCjGiHfETVq+gv6BtkhJWv36B9IJWUOALiXfEVK2VrFfW2LRcZBp1eIWTQ511++eXla19+q/vwYS0zk2C7r8MPP3z1jGCveJv3pSO+x594vLrpxzeVtoSIaXeIkrbtb0SF1VV+uB4YFHYKMIjAInfBBReubqPeg6n+wgd7kFLk9IQTTyiL+uQPbhYc2p4OgSQLbmFGSoAvmSw+s0cw2U466aQyO9oPaQ3Z6BAW0q997fyymE0ZGbi45uMjDnXi9NNPL1ur4R2IqvKwUwN+4xq5DOhhhWjKF9lZlG3JZpePmLGNtOOszZMDKRcvwqoOyod44UMGeeU3euqpp5Yp+LoBIeJqng04EHFbxMGcxRiOdm1hhFDu9bam3JTFVVddVWSJwVHEq2z0uSzK5FZ3YBBuYDHgdp0RRpui45YsHn4R4FgIq0wYKWlIgAeSa4BQCAAHiIzH9QCjfva8wtdAbD0VrF5jAYoGTzEZ7Rlhmqpop6SiMYqPLLba0RD4YESgjKPhv+OwVaOPeiHGc3meWQR0WvYY1FmqF+pTt3JS9kKc69K3u1a/P67fdXnVSfWYhcEAb1KDdqqTq0/bab8wlAdK3QBCJ6aj51LDGqAjHyZIV6fNmgA3R5SbdHWm6gHl5rBIkqVl2HSHkTnfnX0IqFfqGT1iwEUBh37SxyCJVuere/X228yp+/xMGVfoLId2wVDjHjLEOsbidEDLKNLN8hb1nL6jRy+66KLStlg7yaAtLm0ZbJCho446aih/7dKGW/sZ/+9P/rekgwgiGscce0y1+267Fyvrv/zLvxQjD/0ZU/H6rW6kSR7oesYhA0r9N3K9++67Fwudj2Sw4sJcnuhwrnjatPUldkMwGOYfyQLLaqkf0i8oDzuRmG0jr75Heggeg5NnOoUoQ88jX2btEEXkHOk1vY0gnnvuuUU+aXlHHUHylAVC6jfrrkP/rZ/yrPx+9atfLQRT3VGG5FG/6n1oyIfP3HffvcWlyQyVZ2wFiNvgNBdffHFlb2YyBU5mgx3dgnJlCUUmkXpYkk+dhKf6GFjU41HHyKSctQPP+Ft88JIf3Ex5wlC5sfT7ux7kQxzteFn9uX5/vzb2ft/q8ZzMIawUhwolgzF1q/FTLCxkiAfAOlUsllgFLw5kVRwqq0oCOIApXJUVCdZwTQ+0KwAiqzi2vPGZPyOgIDsqmYZgSoVVSMXrFEePrOftMSOgXA486MBSXhqeBqjBzMYgL2RfuGhh+fxlTNFMYl4oJdaBII5krLcRbVFbZUnxXOyuoZObaoCNvmHDjTZcnW49TaTisd89VhQKvzP4+Y59TFV6v/78VOXI99YMBOgiH7fwZS312eyb+sfyxcJHZ1DUnaxkUHLflDJfakSMjvE8xa0uGmD5qAWr24MPPFiddtqpLXK0S1uAPU8GFr6vf/3r5RwPao8sZXzEjz/++EKCh6nrdCs3AIYcVj5+52eddVaxwiEb2jW96DejD7KGAJkm72Qphp02ihz5rC/S/qEPfajs/ABr8dHHrJX0N9xilgR5JIu2zDjBekxHwzHaNSIFW3LgGDiF3RO4RTBkdZIrMHSmP5SF8oI1V8Dj3nVcsfJ6XxmSCxeJD5HIE2OXNMiGVCJsZBPIA7gtCgAAQABJREFUhfAKn/vc50r+r7zqymKNZsVf2hpkNIP6dvXV1xQ89LFIs0P+GQNYomFGjuUtPFl2kfJehFV9U2+947fycyCX0mnXPys3fSk+xHVAualbrpNF/VUflZl6owzsVY9/GSzIvyBu9XSDDTcoWHl/2DAWwkooghtNYPEquwolqGwsMEzbClohACMqYZw1dJXF6ElhKWif/mO5UUjui1fFVqG+/e1vl0Iw1YDQNgO/HBWOWVylRl4BqpJpOKeddlppSElWm8hN3t/8zTbYYTjL3eTlarIl0kZ1dPURtEFjBJ0XwmpASYlq9zqrYYI0tVGLKcQVnaZ09ROIxGOPPlY6UOn4LKg+R0c8is5xGNnz3dmHAF1gz146ho5CZgT1jfWOnqGDOvmJ0knI5Ve+8pViGaT0uaeYeqW/Xln5SvXIw48U8obAIWSesYOGOtsMyAEyx1Ln2dChLFYIEoJAb7FWDlvfyc5yigjRobYTk9eIlyyICzKCpLCaMjwhWt2IIZJEf5vSRrART32EtiwfdLU2HgYouhnWDFQwQ5qXtRZQ4hOCdh8cgWxIo/x7Hj76Ib8f/PWDXeUKrL1TZm9vvaXa/237lzxvtOFG5Tb5yKrP09eI+zvf+U7pBxFVH7PgQtgcwMgPoimvrMS4xj1331Nd2zKuqTuMefrSeiAzN0V4xSBEHIL8Kh/Y+60scB/ktVMIjB5pLVRDyMkgkI28CHUQ7GYcUTZLW8TabEA9MBLdf//9q9uGZ2Ogh9x2qwv1eKb6e2yElUAaFYslRq5iA9GhQmqImD+LKBBlXFBx/Wb6Pv/880tFZ25XOVjW+MZ5XqCcTON/+ctfLiRUJ8BButmhKOAbb7ixmPeN6IyWxaGxWF340Y98tCg7ZHVYJVsEy/8SgTmGgHYr6MSjrUYWKTBtiuXBqJ+yi842npnqWVqURihOf/sdilOnLX19wQc/+MEyaI1np5pmvrdmIkAnIBNIIGMJaykCoe4jaxQ/Sz6d06xjnnHPVDHiZ3ufT3/609Whhx1afPdWP79XVaa3TS2b6WNw2f+A/au999q7pBNtC0GiI304AunhhygN5Enc/Cnf8573FLLWiXgMUoqm4E3Lyy/3AuSDzPQxXGDBqhgkXtzuhTWtU1r6BbocwWWgqn8xUh613ehbPGNQYAqbDv/rv/7rMnioG6DgExhJ0/uwRADJiVAhc8883dvfWLqsxYxngoEKUh0cQP5CNvfJywprAPLRj360WJf1h+0CGfnBItNmgPEfGONC+Ax3iwgwRYTd50aFsCLrwYXCSq2v89vghlx12SKuOHtX+T3yyKNlwIBsk0ne9M2LF2/8ujoc78a5jnNcC3ydBfWRAXHc21lF+sPbaCOmNmdM/sADDyijFixcpQJCNH6mfEAKUQAqnUajMavofFeMsjQgljX368E0gQok/uhQ6vf9Nur9r//6r2JuR5YFjUDc/+ez/6f61Kc+VSpQVNTyQP6XCCQCqxHQbrU97SY6sjh7yD0d17KWNWS33Xdb/d6wP6ShU9R36IApSJ2xEDKxCFmEgEg0+4dh08/31ywE6ACubKxj6lXoBETFtCpfR4SoGZAZxhBGE2TDV8lYQH0VbDVZ/eNLSJt2wjrISnn7bbeXO9Ge1PGw1CK0prqjHdB3n/zkJwsZ5lI3CrIqcT6y8sfIxGpInwbpcZ9xCfmEg2CaF7n3XKdAp4uThZVPOVzrA15kE25BzMQj755FxhHIOlltl453kbjoE7zv7zqxbveea3gI2RDKLbfYspBkfU0E1lfETJzwN3BWZvgC0gn7TqTR8+4jrcF7EHKWZjhG8D4XDPUGEbUwC66uBz4GCvCHlaA+mdLvZs3UD5JBmoguC6345WFpy3K6sDVrNZW+kqWWhRUu4lc+yDd5phJf4NDveayEVQa23nqb4rei8mn8UcAaqmkOUwAagcw7BNMSzPQKhAO20VZ0HO0yxjJq1KACqhAqmnSMCvmm/P3f/31JS0VxXUfEWfwzn/lMsdwi1pF2u/jzWiKQCKwipTqmUDrRlmGjY+YGwDpgNeiognap46fE/KaYIl1nfQQFK90MicCwCKhj6tqZZ55ZSKUpewQBeUAcrm1N6zqQonpgXEEyEQJ18Z3L3lmISv2Z+m/1llVKHWZJRQD8RjD4cX7pS18quoueVOeRDRbKv/iLvygzCXRekwjX4x/kN73IXQ6pQYLp23rcrIMW7TjTw9r/GzZ7Q5lWZt3sFOQJGWM5hOnee+/9mkddR8alK+/4gkGvRVn8cuW5V0DiDCDMoiojfQX5nHsF79jFQbki6kho8Azxwt49ZU2+KFuuEuKHUTfe4BlHPCOfytcRQbysyqzzyhRG6oa4yYIbMezdetutq+scjPgOqz/dgvKSB3xIHYIPTHEx/Xi9jLvFE/cCa3jX+2F1hiyI+bjDn4YTI05JQTiMWGSICR07Z35HLJFJv013KCjO7lGwHLo1IopIJdIoxBX3m6JSluLQYbCy8j8yquBSYGsGjUbaKo/n7CPHoRhpRVa7xd1MK/9OBNZUBLRlI2pnbVG7EVzj+0dRhz+dDm3QDrETrmvNW6t0tHUFIW3pLm1ZC/iTNX2tOsWV1xOBXgio2+ox1xbKmbUOyaCw6ZZvfvObZQEQxR91HPlyj+GEW8zC9VctDO5kdVJ3EQ8Egs5C3Og5C4wZWRhtYvaRzjJVzFWB5TdIdK989HvfjKYgnV123aUMPmEgb0gOMkW3eg4GDD7aO0txELx2aUUcrLB8JpGkeljesr7KY5B/+afv4S6NwLb+Tv23PkA/Q7eTU9A3IZbwFbrpdpZT75PP7IwzmQXxKXs8BNHEHXAF+a6T0PJw47/oF132rjQE6cHQLC8cYedZXAg28o74BabeQzbxl4d+81B5ByYs+Pq7boMF7+JArKHiEAIbeehUL8uDHf4jv3oKF79DHyD7vTDpEOXAl8dGWKPgZcroSkPjh2PjY1ZQo6/YYgrh1HCNGrynQJFaDVrhRAEqXEe9IisY4EtDYOLnRyQt0ykKTSVRIYwcrWazXQRf124FPjCS+UIiMMcR0Ja11Wh/0ca1U0qaH2m0w7g3CkhsWk1ZxNRaKACyIA3chXSYGRKBUSFAHyGJdBGdwwpGX9Fbps+/+MUvlnbAIkY/ec49ytuhjXgvgt/1NqEuW0jkjBBaNIy8cSsw/YtkIFCmoJe13AfoLfoLkavHE2m41kwj0u51JodBH2K+z1v3Wa1vvfeHl/5Q8svSiHwhKmHhMxVcl6WZjjZp1gWWdh2IvsFz4pJPmLJ0wjDas2nxToRKHh2Br0FCnfRKA+kTl9BNPsSWocxZ31UPNstf3iLU+APyigCvWiC3Tdc4Iw4ysnAivMipv8XjgKG/Bb9hpB7ItzSiLFlXcSUWVnF5Rz+Iu+yw4w4dLZqeE0cQVu/6Wzmom/x0O+Eb8rc742RhDJQnlmz8zMCFbpiOMNZUorI4KwgjJyH2MAOohmBECQwjSH4uClEAqkMBOEJRlpt//E/cwFMRNDjxsawadfmtMRo9qRRIMwVnJKnwhIg7ZP1jtHlKBBKBGgLax7z5q4ijNqktaqc6csrIbAX/ugijbE/i0o4jXYQ1rB3813XAGRKBUSNAZ1mApK7TF3bBQI4cFskIZuoM1mIQ5dkwsNTbQP2397Qdegtxo6diU3fEVxwsaEiU9A9rLdzaaqtVOqsZj7gi1O8FaYl73c7a0rIWKRb8jiBPTzz+RPGvDAszHBBCOtXUdbcQJEy/gBRqvxEQcvlmTJIOcs5302ys392CfMofzhAugLAUGKYQqH6MUWQy4GD95ZNbD797bNXnVsNnV17I109fE/J5l+EsXApchwEMg+A5I6Aw0pcigYJnvW8wwwgnv541YDFw2WLzLcozdZmbv5WZAQGMBQMI1lXlJv5Bg7xwMTDAIA9McCmyR34GjXPQ58dKWOvCAEhF0sBVpksuuWT1qNVIhlkcIBqoRuszYMBh0gZwEExxIqYAA5yKb7rCthBGM0iwEUVUBFZbDZ//z+5v2v21KzbrAv7xt45EAwrl2OaRvJQIrJEI+Mwe4qhtac/aoBE70mhA2EvRTBU0aelsI11/s/KwgHEbSuvqVJHN97ohgDgiZxZPqdvIEF9PegrZ4m5G54Q7AGKCIPhbuwidFWSWUYXOYolFQlhqkV86zMIfRHerrbeq9njzHqVe01kIFeKsrZGnXXBP3O7TW/4eJHiPK0PzPXoWIaRb6Wf5iJnKpS1XnF4kRTtFgNuRR3o9rI9khRV+wBWjWxCnQE8jYiGb/JOHZRWJCpeAbnHBinx1ku55+cRJgmxKE5FEzMQdMnSLG5YxixwuD8oXSZZelKWzv/WrQpQBGdQLhBUfEshLBqSz/vnTcrP2H/nUM9P3DHfS9y7rM7JLhn7yUIuyYKLMuAOIz/vw1j7U9V51oR7XML+njbASUuGolJyqjVYsurJ9iKkBJNMKzPg+7e+f/H0xhVNMGs4223Ayn1++GW7LCg0IgJ7X2Dm9awDSMApBVE0VUqbS1NBi5FsHDPBReCqLAlHRVHwFkSERSARWIcDCavBoZK3N6GgpVD7h/VgehsERKa2na/psWcsqZFpS5x4KYJg08t1EoImAekUP2J5RHWeNo6foHBY+W0FZuKN+Mpa4xhjjPc8jYq6xltFxnkWGrN+ItRrqL0Js0GeKms6SThhqgsQ0ZfO3dxEaRBkhoevqOq3dO81rof/q16VJXqQaOUcQ5QlhYxE0FdzuvXoc3X4jU+RmGRUvgon89NuPyDf5GKtg62/EWFkh3+10fVMeeXRI3znyg/wqI/KxgCNjLLBLWyQ9iGUzrubf5IEbLhHW3yCsddeI5nshA84DI/VE/gR1Cfb6vHXX+dMHFOpxRD7wI9wI6RWkTXazYfrRQQOSSp4YZCDASDxZuuVn0HR6PT+thDWEAZyVdjLL+om0cjLXmI1qVBgVRUFdeOGFpXNQmVUcZm4jK5WVP4URhML1vPcQU24Ff/mXf1ni1hFEJYj06+coYNcUss4IgTbNgywrmAyJQCLQGuG3BowxtaddUI7Iqu3h+lEQU8VQ+2Vl0tE6KE2DUYsU/E05ZEgExoWA+ocMsXgiLQZLLK38WllTkUW6BzFBUCycosu0D8ocaXCdPgud5XccyK4pdvu2mjGgw+p6R/qddBg9GLLsutuuRWchf3W91i8u9TTkhS62Ww+9iLAaoHJVgEFYj7vFXY+v/pz2ivg8/sTjxRIo//BlxPK7n0A+Biu6mv4XGJkQfXq7nwCjOOqyik85KTdETb5tT4YI9xvIx4pusAI7QbmQsTkT5b706zJ4T91yRCAHwsogV68fcb9+fvrpp8oMtXjkUXl5r19s6nH5zWIbmMibvIgP3uRWpoh/PQ/NOKZSJ5txzAhhJQR2TtExcdu6ykjJhssausPoRmNEUH1PGCCRYcBssukm1eKNFxdLqsJb3hoRqcB+A9JIQgF7p1uI+4A2muFPy8paSPU7Dit7v3Z7P+8lAmsKAqXdtZQp8qjTshCEXzhFM84gXYqS9US6MXMSvli9Ou9xypZxrzkIqGfqoLUYPj3Mp5XOMm3LmmV6nzEFEWV5pbciGFghKvQKcoqYsVghNXQbIkMfNslqvN/pTOfxp2XwocteOOaFQia6EYdOcdWvP/PsM2XWkksAsiJuMjIwLW0RVvmJ4N4g6VnQBK+nn3q6EEKYwFUb7xVCX8PYgIFVO6y/CCUMw4VCXCFXOxn1K+2COPGJ8P2UV3EPYv1Fdlmn64RVHvnosk7XQwz2I29kljaCiAcJrhkA4UsGQZ1kj/w+3PqiGpdK6QsIJnz1mfVQT7N+vfnbAIPFmFzegQnDARcDabaTpxl3P6S2mW7z7xkjrJEZhaUgFaLV+wiqyuJAHAFulGPUo2LqNFh5lrYajXesojTC/Y//+I/SYbC06gh+9/jviiI18mWZjYJsAhBAU4Q6Hx2IylksuvNnDJ6mmPl3IjDjCGirOj3fA9deWFe1P20rOqNxCKn9UvK+dqd/sMBrjz33mDa/qXHkKeOc3QjQQ3yoHWX6dfl91R2331GUOoJHb9FF2olnEVFEit5CqjzjE65ICf2FwKnbBn+e7yfQh9wK7ONKzyE0vgQ5isAljxEJYaKrtXEEhQW4Tri0+/BpDOIVOrWdHOLyeVoEiMwC65+4+yGE5BAHi7WvRgVhRXq9T2+HBdNzDvI5GyR04gHk8Iz7thkz+PCewLhGPjyln+A9ll8DmYgDJniFfoxBrV2IPlS5Sh8HivfJxggHe/1htyAeAxn1Cm/yPJK7tFX35CHy6ayOCp6J8msXt/zgY+qzAEtxOTphKn5l7L74+63X7dKPa91zHk+N4dzMpL+xdiZrhyl5GY6gECIo/Hjf2WjQfQUNIJXYKr/6+/Fuu7NCsHWEkapC5kekYvUz7dEuvryWCMxFBLQ7I/RPfOITJXv1djjO/GrjlP1HPvKRaU13nHnKuOcGAnQMA8qee+xZjrrOaeosOVaXHffcc3fRT3QW/cMaZmbRFGvdetkNJRZGHxlgoOFLjkyypA0byMSaxh2AW4Bgyp51FUEJ4iGviKOZSYTbjEsnMhYyecd6E4YhpF1AppDtOhGO59udn3v+ufK+dGEsTgMCPsDcDCO4jgtw8/Oc2SBWYvi3C3GdbPIfrgZ4ADLcD6EWr3yxrsaiLdfgwhq58847tbVGeiZwxWGkD9M6oURY9YPdiKU8s4Lau9UMtTwpT3lA5usuF3D8yU0/KWWo3jnq98kUIQgry7b6qT543iw2bOmCeog6xEKPrKo7yjkwrj87yO8ZI6ydhIwMxTmei8KMvxVM/RmNXkGrLEZvGrHQqXDjfWCrHL7ZbFqFQlYxmqbzSDfPicCajoC2GO1nurDQ1pt9wHSlnekkAp0QUC/reqj+XLf6+sorKwsZYUGj3FlpWdSQDQS4SQDq8fpNv1188cXFf1U63Sx3zXd7/c2qyrqKRNOPAqLEiPTGrf5EWOlcPpZnn312sSZa4U9vdsu3fkP81p54X15ZRxE6hKafwBjF5QIZFZ+A7EofIY0AW9bSf/qnfypp8HlHbDuVl/eUhYGDKX1kkXVVnOLvVSbxPuuoT60ijDgJwmYmig/0Fq1PwPYK8sRCr04I5IUTWXrJ4FmDCHlQl+QHrjFrXE/bxwhspyafXFyahLb+LOs/sqo+kEM5x+CgnUyeZQQUv2eXtqy7/ZZvPd3m79fS4ubdCf67Xun+8OIfSuGooCqIymYDZiOcaHDNrHjf80Zpn//858sWJQpapbdoS8XOkAgkAu0RqLe/9k/k1UQgEeiEACLBgoe0ISgUPJ9XpJVe6hTcY6HkAueLW4wzLH+si72sm53ibF6nN+NLW9o5gsKIw6K2waI/kUrGIdPeiAm9i5C0Iy8Rv3y+8OILZbocGZN/8SPD8tDt3YgDuULGbGdFz4sTIWJhXtoiRfVZUfqcnzHrIMLXjUhH/Ka95Z9s4maxZlVmAe4nIKks36y0UbbcCbhP2bmIHL2C95SzOiIgvPKIk3QywNXjfOLJJ4qrifLBf5QL39cttnjtYjR1Df+BozLuJBs8uK4gwMo5/Fe5tnQKMLcLlLrKChtuGp2e7/f6xFlY+xW8/pyCdSgclczoxMrJK664onwu0ugiplk8B3hT//x/vvWtb5UpAwWiwRuFGTn0UzHqMuTvRCARSAQSgUSgHwToKfoqSAkiEFP8CIa9NpEvhM5zCBQChgCwrH73u98txA0ZsGsBQ0un6dx+5IlnEEKWVWRGetInD0LMvzb0qOfNTCKEnuNGx1LajRQiYo89+lixDiNk8kXPIoRlzUiLmPUKdDvZ6Osg9sgcDIKwB7ZhKUbEWDdhJT+dgvdMw8sXWQX58b53ewX5IZddImCobJFxfs7W5/RLyn2KmpwhqzPijPR1I/XkV37XX3d9yQPCKpCfhXjx4j8tuJI/ecWFDES4YXYqO3mCJbyloQ7gVJ0W27LGGsQgw0g27NWhUYTeNWQUqUxzHBo3kE1VcD62Mk+jALTGpcLz8UBYHQpDpVDpYzuraRY5k0sEEoFEIBFYQxFABFiykFGkjOGEZQ5R8TcXAHu/IgKsd6adESKWM2SxXwtgL3j5NYrblD0CxrqHbNCN/BbpySBG/BPDgubjCr0IIXmRJEeQTaQcmUI2u5GxkJslGk5hXXUdeVrasq7aTD9IXpAm8pmOP/KoI1fLH3E1z/IFY/GTlTzk5HrAkg2PpoyuBSass2Z2b/zxjYVnKDvcw8eSlGcnC2ZTjgXzFxRZ4Ql/chnQBGFsPh9/e4bfMSMcTuM9shnIwDdIt+sMdhbrkZHlt5t/LqzVQZhEfIi4+lAP4kWYLYbjN4wwx9dFR2UAnHOENSqskUOscuRPgukrfNdVSKMo5JUJX7D62d6wRqrM4xkSgUQgEUgEEoHpQoBuYpWil/ho8p1E6JAABAMhQib9jRyEK4DFVqOacl3Z8q1FTMQvIGiICWtaWHARo7vuvqu6/vrri6wIMytaWIQ74eU9xNvBqCTuxUsWF8KKOPUTyEW+CIgQwstCuM7aq7bagg+DFCu0dFg3d9t1t9XkLzhCxBFn8SLTyK44yIcgM3qxfvuse5OkeRdpVS4WbXPT4BuKHJoyP/3004s7AILXKd1IP86RJ4MQBjXuE+qEOhCW33g2zsgsf12fpUe6PUf+GHTgNEEaYaieGfgg+/Z27eYCydAX1ld5wKOUdd3aTg5Y41y2BuUSYKBwzDHHlPIJOYc9zwnCqiA0JgBi9QpKUNlUQD4vUVk0GhXTWXBd5eJjgrDGtEK5mf8lAolAIpAIJAIjRoCOoreCRET0SCu/UIuZkAT6yYF4CEFYECeWMTqrm3Us4u33HNY4epA+lTYy6brf0r///uXVVVdeVax5rMC+XNlt9b20kSQk0MwnAkb/in/rrbbuutinKTfihZzS2eQRB8ul64gU/Y+Mffvb3y4Ejm8r0gTnIOHeawb4sqQi0+JAAOVZ3P72cSNWUtP7dUul5wwkkOMLLrigWC2ROT6/H/jAB6rjjz++uAW0S7MpQ/ytbihTAxHWSkY1Vk7klauBwQnZBHIjs0jq5ZdfXizwXBrdZ5TzHqxxIYQSXqzF1157bTHe2SJQWs16GLI4K2MDFhgrO2mKS97FJ5Ah3FX4PxtEvOtd7yoW5vLAiP6bE4TVlIUGpmEBLhq3ChqVtB1eKpFCULk0OttO+DtDIpAIJAKJQCIwLgSQGlYtuotFT6CPQmc5hx4LshO6DEkwI2gaPnwzRyUngrZTa+slLgAIEtmQFIYfRMlv5MyBWCGDSFwQl05yIE1PPfX7QljDQkpfL21N5bMkBgHr9H5cRxZZ7rhCsOIh0HQ+KyjShaTZ6ssaFm6ALJz0exixAsOIL87iYXFEWMOYBQtpGRwgiuecc04ham9+85taaa1TfputtX87v1Xv4w+IJjeAE088sWAW5Rdp9Tp7HuFjRLO4TBnIo3Rghfi7Lzz9zNPVL+/4Zcmz8uKPansxFmYEFrFUZgit+/KEfCs/+LAaR1yd5EJoWdHFaUCFwC9vuVWKz0AFXuS0ZshZvPJOfumNMswJwsrZ2yhg48Ubl9EOgKLxtwPLPYfKZeRw2mmnFXBj5NTunbyWCCQCiUAikAiMAgHkb2mLrCELSJKAcCFOTVJFV7Eesmg501kIAWJiSneUgVV36fZLy2JlJBW5YXm86KKLygIrhNCMJZ173HHHle2Q2k2TN2VCvp977vmSP+SR7pV3hJDFNAhl873m34i+qXaWS7ixRJsKRyYZrciHRCJN73nPe4qM3ayHEf+Kl1eUeORVGcAcH/AVTgQUweM//G//9m8lffcQSdZVcrCCGkT4Cp+ysdMQEt4sy0iv19kAwFS9j6UgifZ1ZRn9xje+UYgjEqms+Koijyyp/GXtkc3yjsxLG2n1jB0oEF24s0AbNBx11FElb714D1mOPPLIgisCjLzD4nOf+1zhXcg0f2Z+z7ZXO+mkk4rlnxvEqMP8/9sKo450uuPTiGMUoZH1qiQqI+avgn3sYx+rzjrrrFLZ+200052/TC8RSAQSgURgbiBAP9E1LFWsclwAEAjXwqpaz6nn3Ue8kDIk5sz3nVmsaf2QsXpc/fxGtBBhU8vICpKCCMaXm2wCf+aZZ1bHHHtMtcXm/RFmeSMr8oXwIjNIp2ljepgO7zfQ3XZRiIVmyCLS6JAGNwlf4+O72sSH7m8XTJlfcsklZdGUBUbeY8VlQWbJNvtqkIGgmvqGBa4BGxZceXnve99bzp6N/HRKr50MzWvKATEVn10UWOORQ+kiiEgp3qOcTj311OrDH/5wsYwrM4MAcilH9QeZRO6ReQMF5Wfv1X4HCwYorLfkED+CLD5kWZxh+DvjjDOq/d62XxnQNPMzir/XamXmT5+TGkWMMxSHArT5/7nnnlsKspsYCl6FNwL71Kc+VaZmkqx2QyzvJQKJQCKQCIwSASTQIpl//dd/Lda9TnEjPSxjyAdi8slPfrKQPMRBCJI7Sh2GFrDoWkxETgRFYE1d2rIMI87SG4SQId0smKaSvYuoyhNiNkg85CAfS+gDD9zfOlZZOF1HwCLeQfCwoOlv//ZvS3kgrDjC0UcfXX36058uBJiMyDZSzA8XNkgttwbT4pu39jhdvPHi1Zgok0HSJ3unADf711rMpTzIgWArf1t6KQtEkvW5jiOMkHnlh2j77R3kMrZBqz/fKf24Lj5WWpZeVlbkmTsAC604t9p6q2rh+gtXyzBI3JFGr/OcIazPPvdsdcvNt1QXXnhhdelll1aPPvJoGVUAWTDiMTIzsrOn3Eknn1QdeMCBpXJ7JlbB9QIs7ycCiUAikAgkAsMigIiwNp533nnli0AsZshI6KwgREiJBT+mZVkkub+5Nw5CUM8TORAvpKROiqU9VTImHlZJAXkSzzD5QFrJ98rKP26yP3/B6njreen2m6XbFPff/d3fFRcI8sH8/e9/f/UXf/EXZZqbnPCQnnLzm9wO3MExVUy6yRb3pFfy2UobhitfbRHiteaVNKWN37TDMd4LjLzj2RjsRPz9nsUnfThEnZCuODvJ0G/c/TzXvx2+n9hm8BnMnv+ESubM94YDsJEIQJnz4ytWfDz4wSCw7Qp5BrORSScCiUAikAisAQggGsin1eQ77LhD9f3vfb9M9bJcIUUsV6a96TOruU3J8s303nQEulFao0wPqWMtHlVAnh3DBNbSBx58oEy1w10I7FlPg4jCY6pEbxj5vCvtqeR1qu91knccdaJTWu2uzxnCqlKpZBo3v4+37f+26rcP/XY1YWW6N/2gwZvWYOIXjBKiQrYDKK8lAolAIpAIJALjQAABQkrppLfs/ZYyfcvIQi8hdnwHTfnyOzTlm7pq9KVgmvv+5fcXd4UgrPBe2nJ92GDD0XyhafRSr5kxzhnCqvg0Zo3aoZHvuceexYxuVOCew+96aP5dv5e/E4FEIBFIBBKBcSJAL5mCRk7NAsZUq+tC6K9xyrCmxo2gWpDEHQNxNeUdgwh+meuus8qwtabiM2n5nlOEtQmuBt/LhJ+EtYla/p0IJAKJQCIwEwiMegp+JvIwm9K0mIkfsa2xkFWB+6AdAhi9+GVmmBwEsjQmpyxSkkQgEUgEEoE1FIE0nkxfwVs05Hi4tYLe50SXt7Zngj/SaoaWtZuxi9XVIKKX4Wv6JF+zU0rCumaXf+Y+EUgEEoFEIBGY0wggojEgsIUVgmqrJ64A3/ve94r/qkVNFmBxE2Bx/f73v1+2yfJFsrC4zmmQZkHm5sy2VrMA6xQxEUgEEoFEIBFIBKYZgTph9dUue7b7AIAFbg5E1fQ/ssqV0II3C7XtJORrXD7xat/2DDOLQFpYZxb/TD0RSAQSgUQgEUgExoiA6X8WVFZWi9oQWNP8/FWRUr99LMBHA+zLyhUAiY0tveI8RhEz6j4QSAtrHyDlI4lAIpAIJAKJQCIw+xFARp97/rlqxUsrSmaQ2DhcQGbj8Pfa66xdLVq4aEpf5PJ+htEhkIR1dFhmTIlAIpAIJAKJQCIw4QggpIOE8H8d5J18dvQIpEvA6DHNGBOBRCARSAQSgURgQhFIAjqhBdNDrFU7E/d4KG8nAolAIpAIJAKJQCKQCCQCM4VAEtaZQj7TTQQSgUQgEUgEEoFEIBHoC4EkrH3BlA8lAolAIpAIJAKJQCKQCMwUAklYZwr5TDcRSAQSgUQgEUgEEoFEoC8EkrD2BVM+lAgkAolAIpAIJAKJQCIwUwgkYZ0p5DPdRCARSAQSgUQgEUgEEoG+EEjC2hdM+VAikAgkAolAIpAIJAKJwEwhkIR1ppDPdBOBRCARSAQSgUQgEUgE+kIgCWtfMOVDiUAikAgkAolAIpAIJAIzhUAS1plCPtNNBBKBRCARSAQSgUQgEegLgSSsfcGUDyUCiUAikAgkAolAIpAIzBQCSVhnCvlMNxFIBBKBRCARSAQSgUSgLwSSsPYFUz6UCCQCiUAikAgkAolAIjBTCCRhnSnkM91EIBFIBBKBRCARSAQSgb4QSMLaF0z5UCKQCCQCiUAikAgkAonATCGQhHWmkM90E4FEIBFIBBKBRCARSAT6QiAJa18w5UOJQCKQCCQCiUAikAgkAjOFQBLWmUI+000EEoFEIBFIBBKBRCAR6AuBJKx9wZQPJQKJQCKQCCQCiUAikAjMFAJJWGcK+Uw3EUgEEoFEIBFIBBKBRKAvBJKw9gVTPpQIJAKJQCKQCCQCiUAiMFMIJGGdKeQz3UQgEUgEEoFEIBFIBBKBvhBIwtoXTPlQIpAIJAKJQCKQCCQCicBMIbBgphLOdBOBRCARWNMRePXVV6uXXnqpeuKJJ6pnnnmm2nSzTasli5dU8+YNZksQj7DWWmu9DlL32l1/3YPTeKGbTO698MIL1cMPP1wk2nLLLav1119/4vIwjXBlUolAItBCIAlrVoNEIBFIBGYIgRdffLG65557qu985zvVfffdV51wwgnV29/+9mq99dYbSKJuhHXlypWFAE8SaW0S1vrfK1asqB566DfVV77y1erpp58umOy1117VxhtvPDCRHwjEfDgRSAQmGoEkrBNdPClcIpAIzEUEEDSW1V/+8pfVBRdcUF199dXVFltsUSyJU8lv3SIr7jiQVEf83S1uzwjxzqAEN9Kox9MrPc8205k/f361YMHa1R/+8Ifqm9/8ZnXvvfdWZ511ViHym2666eoom++tvpE/EoFEYE4ikIR1ThZrZioRSAQmGQGW1euvv74677zzqp/85CfV0qVLq8985jPV/vvvX6299tpTFp01lWvBY4892iLEK1ZbVufPn9cihq91M3j11ZXVypWvto6VhdDGeb311q2WbLJJtXjjxRXy2E945ZVXSrq//e1vK78F7yLSiOW8eatcFaQnSIvFdLPNNntdfr33xje+sZBUOF144YXVk08+WT3++OPVcccdV3ERyJAIJAJrHgJJWNe8Ms8cJwKJwAwiwLL6ox/9qDrnnHOqn/3sZ9UOO+xQfeITnygWxGHIqiw9/8LzhQB/4QtfqH71q19V66yzTrXRRhtV66677mum01k2EUsHS6YzuRzbbLNNdeqpp1Ynn3Jytekmf7JotoMsrKmPPfZY9dWvfrU699xzy2NIqrQXLFhQ3Bvk6+WXX65M9zt77/DDDy+kdLvttnsdMfbu9ttvX3B57rnnqmuuuab68pe/XN4/8cQTq6222qqdOHktEUgE5jACSVjncOFm1hKBRGAyEEAIWQ4Rtuuuu66QL5ZVZO1973tfddhhh03ZHSByyGr58oqXi/USUbRQyTV+oM8++2z1+9//vmKxrAcyvWHzN1QbLNqgXPbOokWLCtmc17DI1t+L3/Vp+bDQ3n///YUEe8b9OJDWDTbYoBxveMMbqoULF76GREec8R6Sjcx/6EMfWo3b1772tRLfySefXFwogjDX5ajHk78TgURg7iCQhHXulGXmJBFIBCYMAYQKmTI17vfNN99cLJE33HBDtXjx4uqYY46pli1bVqbHhxE90kECLVD68z//8+p3v/tdsWYiqtdee231gx/8oJDWeNaU/I477lgWNbGqIqsWe23ScgfYdttt+yLQ4hIiL87//M//XN15553V888/X/K9ZMmSQi6ltfPOOxcLLiK6++67V4hr3f+2iQFL61ve8pbqtNNOKy4BP//5z4vPL9mPPfbYoXFrppd/JwKJwOQikIR1cssmJUsEEoFZjAAyF+QQabVN00UXXVR973vfK7k69NBDqyOOPKLafPPNh85lWBgRPIu3EEHWXOnz/Xz00UeL+wHLa1h7LWBCBM8444xCONdeZ+1q7dZiJ89EfL0E85w0EF2EFElmSXUdUTV1v+eeexbfXEQaMUZqN9p4o2r99dYvZLVXWoj0gQceWP36178uGN5+++3V+eefX+I/4ogjXudO0EvmvJ8IJAKzE4EkrLOz3FLqRCARmHAE6kQMSURUr7rqqmLlPPjgg6ujjjqq2mXnXbpaGKeaRVbL2BoLieUKwHc0ZEICt9566+JHytpZD0Gy69d6/eZ2cOuttxZCzp8VCUdUbdGFbO62225tF1j1ijfuI7/Llr2z+OXaVeGmm24qVmBWWvng2pAhEUgE5jYCSVjndvlm7hKBRGAGEUAQWTrvuuuuYhW01yorI8vgPvvss3rafSoksd9sWWFvayikMvxMEdalrZ0JyNIu9CuPvD3yyCNlodfll19ecXVg3T3kkEOKu4M8+nsUhHLbbberjjzyyOruu+8ui9Z++MMfVm9961urU045pSwsCzLeLj95LRFIBGY/AklYZ38ZZg4SgURgQhFAEE3JW0FvZwBE8IADDqhYWOuuAKMkW/W4pG+a/qGHHipfjworK19XU/h2EGiG+vvNe/G3fPgalQVWLMeXXXZZIcXitCCKXy4ybOHUqIK4YGfvWgfy/41vfKP4uO69996rrcejSi/jSQQSgclCIAnrZJVHSpMIJAJzCAHbTN1yyy3Vt771rbKX6B577FHInGn4bouNRgWBbap+85vfVE899dRrVu5brb/LrrsUf9VB0kJUkWC7DvziF7+oLr300rKYywKrgw46qProRz+62nLcD/EdJG3Pcg3Yb7/9Kjj62IJFWM477bRT2X1gHGkOKmM+nwgkAuNBIAnreHDNWBOBRCARqJ584slCqJYvX14IqoVH8ZnR6YAHYbVIyccEEGQHS6WdAPjPvrTipbKFVb+ysKoiv9///veL1VjcLKm+RGUBV91q3G+cgz6HnCLHP/3pT6snnniifNb2ne98Z8XKOkqL7qBy5fOJQCIwXgSSsI4X34w9EUgE1lAELHRCVO23amspi4Pe9ra3lcVH47YEsoJKw6b799xzTyGs5OFLyg3ATgLrtr5oNX/eYIuV7r7n7urCCy6svv3tb5e47XRw+umnV/sfsH+1yZJNpqWkWVkt6EJcH3zwwWLptWXXjjvtuMYT1n59j6eloDKRRGDECCRhHTGgGV0isCYhgBgJ0zG9PSyulDkfzmG/JtWvHBYj8e+04Eqwt6k9Re0hOu6gPOSXOwDSzDIqKC/uALvuumu1+Rs2X72TQMjTjvC45v3vfve71dlnn10WPfl06nvf+96y04EvUtmRYNwkPGSMr2AhrT/+8Y/LYMDHGFhZfQBhrllZ25VJYJHnRGBNQiAJ6x9Lu1en4L4wXZ3yH8XKUyIwVgTUayRukL036wJpD73ahC2dEKhez9XjHcdv6df3Ie03jWj7YbXsh5x71r6rpq0turL3KLJq+hzhmo5ABhZIuwPEnqwsrAjz0tYOARtsuMHryqRZRlwKxGEHAHvI2s+VS8PxJxxfvf2Qt5d9VqdrABCYwd/OAwirvWQt/PJBBp+5RZ4nibBG3WniGnnp5zzIu56VZvMddUHop+72I1M+kwjMBAJjI6waiI2ejcpZGkJh6TD9pjj8jr+jgUUDB4ZvXOtoI7jnb3HzV9p3331LhyWOQYJOlyKx0lR83tfJkSvkJJ/fgvQc5IlpNathpd9pW5hB5MlnE4HpQsAWRxQ7qx+/RkH9t82RNui3c7THkCvqf/ztzOrm+V122aW0hXbfd9dmtSOk7bbbbqvuuOOO4gPpGqKjnfVDeJBqxDfO3lvaIl0W4Pi8aa9ADvn91a9+VfbwDNmjncsHmaLN1+OTpkVF4pCWNJt7l9af95ufp7yajtfHIFa2ejKd3S6N5vvD/k1WMitr7gjyIOjn+K9yT7Bxf6fgfe9xZ7Cwylk5vfvd767e8Y53FNIqT3CbibDhhhsWK7EvZ7Eg2wXB17WQc/mbDozl296zrLzqd7SfwMPfdmNwble3YKxOK6d6UF+0R3vX2rZrs802q9/u+Vu8dByrc3wmVzkZKDXJfJSfd7Rx9YSOYzFnhd93v5aO3WTTnmnmA4nAdCAwNsIaq2PPOeec0mg02mi4cY5GHEpDoxGcHUb3r6x8pXVhFRSuaeCCfQy33HLLYi2IRrfqqd7/mya7+OKLq2tbnysUH3nI4CyuOJMv0nTWkWjQGj3lY5SfhLU33vnE5CDA6nfFFVeUuo+QCOp81H91PtpAXWrtRHushxjs8WNEXtoR1nje4NXWR9/5znfKavnV6cxrtb35fxocxvPNs7TqbVEb3H//lt9ki5z0S1iRdXm3FRKSoJ2v1UrfP3mOI9KWnqDNyzuZWReRiV6E1SDdgiSb6HuPnG9605tW77saaYzrTHbEA0HnxyoP5OAOoN/stjcq4vLAAw+s/tCBwQ3LpT1Qjzji8BbZ3WZaXQDaYYR8vfGNWxZM9ePyyAChb1cP46MJ7d4dxbXAFyn87//+72JNFy+MI6hf5Cz1rPXbPb8F78PZmSGkHrQ1hBzeymoqhNVetf/zP/9T6qD4pbtg7ZaRqOWzHDI4h0xkKYT1ldbA8OVXip8zFwvlnoS1Xjr5eyYRGBthfXXlqs4+RnUapkDxsG7oYGyNonFSFBpOPONsNE8pUQ4Of3vGs5SrDik6g6kCqIEakTt07tLViKURIRq1kbJ0dSSm9xzj7hRDhjwnAqNCINqjszal/SFv2gCrYLP+19NV/7UD9d6hnWib2kTTchPviS/atfYrzXXWXafSP0iX1TMsvdEHRDuMOMRN3kjbb2laPNQp3Xg3zuRwyK98SFub1xc51/uheEf+6vlEOhE+6XcL5EdUY7ETjCh+K+jlfzqC/FhBb4BSJ0QwIwvCGkE/CHtBHUD8rrnmmnKIw5eq7ADA2mdgEs/G+zNxVpYbbrhRGThwcWDhRM4RNQOD6eibo56qD+qhv2FJx8FcvdauXCNvXa+45m/1Sf3wPpnFoX4uWrSo1HH1JdLpF2dpRbsw0DJQI0t9wOkZgQx+S1P6ZHH4DdfpwLHffOVzicDYCCvlYtr+4x//eBn1aqAComoja/vnmTLT0Wjg9aCxGSWb7mHJ0LlqwBqvztJ9lg7TWlNRAN7zdRQdtz0Sr7/++iKjBq1zYI2ITkOHQtGw4oQ1x3vS5xaQIRGYTQio+yeddFJpWyysyBpypT3aV9O1enukzLSxIDqm/7UHU9vaodXmb37zmzu2hVC2ZiKOPfbY8lwMVFkh+R5yz0GU9BFxhBLV/ixWMj0qDm0QWXW2Stz1foL4Ntl0k+roo48u8iOT+iHWQxvQ64e0e+mTGQlh2ZKGBUZw0+7lle9kt6Afgan8wff/s3fnT7cV1f34j0zKZQYZVJAHAQURh4iiIHLFAUEFRMB5nlJJKqn8B/kpn2/VN1VJJamk/GgSxQkRUQaZiYggqKDigEzqVcEBVFCGy+znvPq6Ln03Zz77nOc8966uOs/ezx56eHev1e9evbo3kiceg9x5kT11iMDJh3PllzYSQqcqW9SNo2c8a3o79lb1v0+fcgNg7RPHIgVkSr3sutuuhZzLL39bg5FZB1ggdj4964jYazvakEGQ9sQdg0whrTB2L4J2rV0h19G3qBvPCSyr2tmgWYuIq3lUzwcceEBZFGdan3xxXfjVr35V8iDv0vEcWfIjx9Lyk7a2zvXFeYZEYFEQmBlhNXLT0RCAtfev7Wz2hD/7g/7p0c79a+/vnH766WXFqQ6yFmTAUKZHH3102S6FwMX2K6F0xa0TdZwkIMAU8OEvO7zzveu+V5QNBaOjQVSRbcqD0FooYSsaBFWH6Z60p0l/kjznO4lAGwggmXyvtWty54dA+grTP/3TP5UBXC2PZAxZ1Xm+4x3v6Kxevbr8v9nmXT/07lS++JC7fkRMJ+4embZ3prRNwwv33nNvSfcf//Efi1UP0SDj0aGSNYNWq9GPP/64LuHbqQxcdbaekW7ogLg2CKNtVm1T3AiedcA6knv3H+8u6X/6058uRA3pkNdCJp76lM7qI1d3Xve61xUfXTpDWekH6fYKkQfWLJZNuk0+vYdYeXdegYXPIIR1jbVVuRA8RB9RQrLkV0BWkXbuEhdeeGF5D/nzPPLFH1I9BtbzKsOwdOhggwFT1vJGf9PjjCJRF8PimPY+wmkAAMPAU51rS2effXb5+pf2EPlx1A7UgYHAW97ylnKurWsn6iqs/Z6btM3YLeH1r3998TdWr//93/9d8kS2YcUARK7lny7wMxiLtiEvfsqSIRFYFARmrkEJB+Gpg45DB0Zpuk8oamFHUgnbIS865HHv1vFQopME6Ul3qy23KsQ0OlsdEcvR0tJS54gjjiikliDnKHMSlPOdRUQg2n5p/38mXggaMmmAaToYSYmgg9O5sSS97W1vKzIb90Y5SidCdILxv0U/LHjS9a37IBpxX7r8Yz/4wQ8WK9CgznPQvYjPM0iO/UKdIzoG1Cyta362pnTo0mS1fde73lUIBWtyXYbQUxFnfYw8iE95kEXXlHupq1NCz9TvzOKcXkSSWFgRV//LN1KEkCCt8uWa5yyGO+OMMzoXXXRRWSjLIiiv6p5PKMIT/pRRxlnke9w41QvDgr5Evgx41vx5ARYSiXAr46zyHPHqx/zq8NDDDxW5cQ2WdT5YNJFDRpkXvOAF9Wutnmt36rrOW/Rx2vhRRx1VZhzMmsiTe1GmyIi2M692G2nmMRHoh8DMCWuvhI2ETU8YxYdVhVAQDh1KTLev2nrV4173TAiVY5w/7sEhFygQitkuBqZLKHZKzgpYZNm3vms/ryHR5e1EYMUgUHeeMk2GdFY6tlqe4lzHj7hFxzdOJxbyGnHVILkmXp1qkMKwKCFL8oRQsgQJg+Kq4x10XucdDtJBerbv+kMidMjze97zns6HPvShnh21PDfxa6ZHp4WlT7kQB+WIMjafb/t/+pU7AuIsLxGQErNET37yLqUM3DB8AMDeqlwk1AU9jKSGiwZCG58/NWCZVxkiz4OO2oc809NRLyybfvS5dtur3Q2Kc5x7dVvynv8FGD74wLo+Dn7+ZzXVbgSDIiSRdbPNEPGLM/DgIsHNw24B8rfUHTi9+tWv7s5YHF8Gg8MwkvcMicCiILAshJVCsQ0Ji4pA0PwIh84LcdSJ9BKW5jXvDVNKMSUWz/mfUvZ974997GNlKml1d6rzDW94Q8dR+tE5L0pFZT4SgbYQCDmI+PyvvQdx9H/d+ZnuNLhDfpC6pgxGPL2Og551L3xhI09k07mfc2mGjA+Kq1fava7VcUQ6LKHSQeZ05Aas9XPNeCKvzevxP/1mGp1+QwhYsPvps3inzaP6ol9/cesvCklBVOSZJRJJ2rX7wYDv/+D7nTM+f0bZucGOLnQf9wc7G9jZhW8/S7t3EV9+razd/C0XhbQqk3ZrMBD1pS7hj7TPOkSakY7/tVWYIapIYviveibamzavj1EfbQbxh6yI1zZfp556atlD18CMldzaDfW41CWuBofeyZAIrBQE5kZYa0EybWPblJh6JOgsqzoozt+UIkU/ShhF4MQfz1EmFlqcdtppxceI/54VsD4vSJlTJvISz4+Sh3wmEVjpCPBJJXPRiZHXCM5ZrBChtgPyE2lG3HXaOlo/MtlmkIaf6XCLY6RhNfyJJ55Yps2nSUtcsKLPQrfNk+Qh31wS7rl73S4syqJuLfqi/1hV+VeaWUKa3nfC+8o2gU/b82nFYmkhHMucBWMC4s1V5IorriiEPize5eYy/+EPXbcfeVV+5VyOoN9Alg1YENa6LTsPtwyDI22j7SB9Zf/Wt75VBh6+tIbUW/B4zDHHdJ73/OeV2YS25antcmR8iUAvBOZGWGsCiKzal5FiIbQEmYKneAgyPyvTaG2FSNsiiGuvvbZYC66++uoyNXPyySd3jj322M6+++3b4Vsbz7aVdsaTCKwUBExV6shCJskC2UTAEAEEhqWw7dDLd04aOl564YEHH2idsIpfmZAwliiLouwgYNA6DbmUZzgh+LCDIcKgjPMKysVSytooDwLCytrHUsr659xiUn6ULG7qlc5lLLA6HGkNqzrDAgKL6HLXglGb+nlaXLTZIK3K7mewsFwBXsgqzJpBW9DWZkFYtT3WZX2bRc0GY+pT/7a6O3O499Le2cc1KyT/X1EIzI2wBiqUObL6u9+v285K5xCWCMqdDxnC2raCpzxsWm4BAcIcHRSFbVEVpSd9Qu/olyER2JQQ0JmGHJBLsiCQT50wEjaLEGSjGXeQ5Yce7K7AXjXc9af5/qD/WcFMe9v4HSFH3g499MWFXA56b9g9cYk7CBPyj9zBc146RV3RcYhbkGb5oQNdo/tiwc1BBx1ULK/xHPcFWLA6ez6MCsgrq50Bv/cXxb/f7jOwDWulcsJfPSxXgD+XDK4UzUDG9HHcGAQyFnlvPjvO/8qsX9XHfeELXyg+1PbN1b9ZUKlPJdsZEoGVjMBcCSulSIgJVkxX1dYciwJsJbXd9tu1IsQqhiDbTBpRtRk2KysLgekROwFw2q/DvDqVOs08TwSWGwEdv6leA0UyqSNFJHX8SADiElPEbeWVPtC5c8uJgWIdd9xvO11psETp3E2ds0LZBWHPPfeqk5/oHF7yG4SJPglMJ4pwzJfuufeeskWVBa3wExzhazra6nRfCWRV5UcZltLQe+re/tJBWulrZREHEobg25os2or4413n8w7Srgda0o82O++8SI+s3PHbO0q7Ysmug7xyy0D4t91uw51z6uea57D3C7l033kE6dgR4pJLLimLiFnWfYmRX/LzX/D8zk7d7eDq5+O9PCYCKw2BuRJW4Bj5G7nrqChRP4FA2QDa6NN2U9MG8bImsKL4DCvrAKGnqC0u8FEDyqMZllP5NvOS/ycC80JAu2ddM3VcW1elT5bI6/0PrPNpJEdtyAliwTfSgNLAshlChqXdZkAq6IWvfe1rhZTzXTXVrezTBi4MfqHXxFdbAKeNv9/76kS46867CqZISwSWNRY2VlUfjUBGB1lItQPWOcR0TXe9AXKvrlhZYzN8U9r2QBXaaAuR13GP0lY+g6sgZbAPPMaNb9rntePbbr2trJPQzgR5lB95jF0N7GHs+rjYhexF+exGwerNXeOaa64pbc3CQX2c7SGR+XHTmBaDfD8RmBUCcyWsBAdZtaVV02pipL9X18Kx1F29OO3UhQ4jBNl3w23LYnEBHzWWVZuRT5vGrCok400ElgMBssmHNabndYg6XJ2/I3m1VU9bQbxmO8x8sA71IqXSLUS5m3Z01NOmL126gTXKTI/t6wxiLfZcySEIjEG6ctmWKoJ6tZ+0jeoPO/ywoXtbawN0JCsdgsqCh7AKDA6+DOhDErF3Z6SzHMe6napbAXEN8jrvPJET+MMpMIs8II+sq1zQDGJGDWQzSGe8hxjbuuxrV3ytc8H5F5RBnzZscRWyKp14Z9R08rlEYNERmCthpVB8AUaHYYqxDgSRO4D96abxXy0j3O6WVfZX/fznP9/52c9/1jn4OQcXZUkOXpYAAEAASURBVL2663ieHwGoUc/zRGAdAjp4O2SQPR1dWIfcdW7avhepnBQ//rA+zXz++ecXcoUkSSdIByLiHAHzaysgFEjY5ZdfXrbx4hZkE3UD5rZIcVt5HSce9QcvgwCEqbawcgVgMfWRhuZHXJppqANxWYRl8RVCb49Wda9diPcb3/hG2fDebNgiEH06P9qrOpyHRbuJW/yvrXKdsEtAM6gHAwG4TWMwUV6uLAZ7vkzGbcMAwgJi7dlAIkMisDEiMFfCatRv/1NklXKlAKOT0FEaFfKNmmR0LB6WVYLMqupHuRptEmTbeQxT1htjBWeZEoFRECCLOlQdacifjp+cshQhmDrKNgJZ1cn6slL4kJJV18iwIE3PSbOtxV5IDauUlfKOMT2OqCt/GwF2fnV8MAxC1UYa/eIwqKBfGQTqQKeaHlbOYaEmUqb9WVkvu+yyEqf2oBxWwCOtCC3Xgmgvw+KexX1tJPB1Dvcm/rNIt1ec0meN1rbCwi0v0ddxteAS4DhJCHngpmF/VbMEBnp2AdDHDdvhIvCZJO18JxFYBATmSlgJmm9Ws3IQtBBm1g2rJvmRjaP8KM9QTvfed2/nO9/+TtnOw2IKivfDH/7w+m81U7YZEoFEoDcC5GinnXbs6fOGNOqI+TAKNRnrHdvgq+Lx9R17gerAdbgsntKImRdp6Oj977rOdtogHouGzj333DKbI11b/bSpG1i3WB1NwwvKwOrmOKsQRARJ4g9sOroOPgjhFwus6nuDzhErvv6ruzNT9LZyqBfWVv6SsFzqunAN8ocdFH9b9/QD2igcGD5ilqCt+EeNx8BKH4fQy4M81fXOIGMQwDVgkmAwZ6Dwn//5nwV/iwVPOeWUsrgqdh0YFO+0cjso7ryXCMwDgbkSVhYU0yUUHgsKAaJkKEZKj/JDZEcN0dHYIuviiy7ufPazny3TjKZdfAucv6q447lR483nEoFNDQGyuKq7D7GFRzFojM6WjD78yDqL57S4FAtd103HIhGLed75zneWDfvt+xmDz0hDum1ZdnX2iASySvf4BLMV8/ZebjsYLIelUhkM0GcZgoiwsFojUE9Hs6ruu+++ZYHUuHpQfSDfrKymn7kGKBcspcG14sUvfnFZHxB5mGU5e8X96J/WWa8jffkLY0iv52d5DUG1PkMf57wOBjDqgUvaOH2cOMghq7mZgY985CNlJoKrxpvf/OYiOwYjGRKBTQGB0dlhC2gYpVN0ocApc4EAU4z7dLdZCcXTLznv+EWnesstN3d3ATi7+MLx32INKIsLukrWVNiw+Pqlk9cTgU0JAXLCOqjDdx6yCQMk85GHu7/ucdpgu6UrvnZFsbDyHeWys/0O2xeiHLIa6SNGrHpt+M4ixyyCSNZSd2BscYqFmJHmtOWq3+dawQcUSUGOw/+3xrR+vo3zIDUIE8wEZTMA4btqRf+4hFUc2oQFWz7raao7rN10rcWsFmAhYs3tAb07j/DoI+v8drVN5UXeGD+e+KQnziP5DdKAO/9hhplmYFVlER23HgzYfJnR3qp2uyEL+jdfZ+QCwCATfWEzzfw/EdjYEJgLYaWoTQOaLgmyGh2FDpJSNF0yyhYc8R4F9e1vf7vzuc99rnR+4tEJmeazGXZ8kcdzTcvNxlaJWZ5EYFoEyJVpzLrzqwmW87C4TpOWKevLuj6R5NIMiClnJDamcUO+peEZpJXOkPYkhEs8OnmfIbUPs8ExHcGns41trMTfDKbe6TT6DIlhbUP0pilDM43m/0gxsoRU1vWG0CCsoQ+b7w37H+asgq9+9auLnvX1JG4a6sUCWgOA2AKr1zaBw+Kf5r72AVfkObA1CEGet37SZNPu0+TH/qvNHXC0Z/UBGzgazAwLUX9cPGzHiKjGlxnf9773le3J7JU7q/Y7LH95PxFYLgTmQlgpE8rNSLEmrAQT0TRtxdrifFgQF/Kr0+MDR4GGQrUh9lLXelILMoVRd4LD4s/7icCmigA5ITs1aQ0sWAoRAyRhHOJIXkMGTVfb+9RCK4TRxuZmQR56+KHSkUuXTgh59S59Ma2FVbq+qW5K22pq6SJwkU6Usa0jKx9fRaQVoWIlM02MnM8qIDdmsBBWQdnUk5kr+tGAYNLAUmxP1iOPPLKQYuXRHuhh+hdp5V4h1PU3aXqjvicPFuuZtZOu8vLlZGEdpS8ZNZ1Rn/vVL39V8EHmtWXtN4J6CKNMXHOUb8/VMuWaxXN2ujnvvPOKvOjXtNuYGaifr+PL80RgY0Zgs3kUTidHkVoMENYS6RJMitSo2HZWvTpKz/gJFOVPfvLjzpe+9KXORz/60fIdcB3DSSed1DnhhBOKJaFppe0VZ4ks/yQCicDjEEBOdIZNMkeGkSIkYZKAdLIWmZZn5bSJPZkXttt2u0KUoxMOeZem9GKQO0m6CCP/WGkjMaa2pTtLQoOw2roIGUdGWFkN1pVnViF2COD6IKg/gw+WOOR8Gj2oXlgt1ZmtB8NKqE4RcQuwkOVIt5zM4Q88EVaW5SB98smaOa6faBvZZZTxqwdY2rK8cHdDWGtjSq80veujFrZk/OQnP1narjp8//vfX/o4xDfkpNf7eS0R2JgRmImFNUhmKEmKBVk19Yd0RocEWITVV1go+GYnGcB7Xsdjg3H7Ntp7zhdykFNO/694xSuKRSOez2MikAiMj4COkFVQB0sWazkN4mV6O6bvR0mBDhAPd6ArrriiEBw+kax1oR+kGwSyTlMepNvUGaOk6xlxseZeeeWVRfewEtIV01gbR0kboQviRPeZQqe7HJsD6lHiG/YMix4rI/JITwqwRY6Qc4S1JnBw6adrm2nFs+oHfnZygal03GNltZ8uy/m8fVm1xdvvuL1Mw2snBlsInTY8avma5Z30f3jElmLNBVfaA8LKMBPtPNKRzyCgZjCuu+66sjDQDKIZAX2jD1sYLMy63Uae8pgILCoCMyGsdWEpEhYSCptyo1wjEFbCbORJmHsF71shadqJC4DVxTo/lhfCTzk4D8XaK468lggkAsMRQHJYp3SMzsleBOc65Qcf2nD1c9wfdGQ1sh2PRTrIE9cd5CaCtKQZHXdcdyTX9IfjuIG+kS5fdyTm6KOPLhbHceMZ93llQZxMTyOo8h/bQnF/6lXOcdJAgtVHHFn1WJARyZosSSdWkLsO55ogjUrq6OwHHnygZFH7iPx73z1+m7YS3HOvPTuvWP2KshAIBn6jpjFO+eNZAxnT8Cz/2od+ZKk7dY64zjsgq3ahMCgRlDv6JG2PQUZb6BWij7O1mz7OwC58YbUj7YfbTHzcIuLvFVdeSwQ2ZgRmQlgJawgshWba5vrrry9KNq4DlUKjAK2eDCVYg03JciXw+bkzv3BmsZRQzgLlq0PyHeWXvOQlxU9r2HRLHXeer0wEJiEusyqptrwxBeXRqbLGka86IEc6zocfGt8l4JYf31Jkl7zaTsrXeOo9QaVLF0S6OvDA1jliQheMQ4Dkl38lEoDQsFAdcsgh6+OtyzaLcxZWq7i5QCAfv/zVL8s2XvxJe+m6UfKgTHf9ofslq1/cWohRLOji8uAjDKbGa9zoXnoXaZUf+NmRYY/d9xhptTrsuRqs+dmazi9+/otiKDDo0A4EsshYYFU8PSx/t91623pLK+suQ8Sk5R2EibypVyRR+5CGdRBLXcLajxgOim/ae7BXz/KiDkJPOee2hrA+aesnbZCMZ9QR6zhDjI8BaLP6S7gKsLVnMd9V/teuK2vU8wYR5j+JwEaOwEwIa40ZxWLRw49u+NH67VZ0TJQbxWJUbJqp7sC8T5BZDOw9Z5WkVb6mTEIZEHaWGwrZPXHoDDJsPAhEh6itOPdzvgjhCZt1v6jzhMdI3aAORL4FJNCsQFi6FqEczTyY8dhiy3UuAfU9chwEqb4+7JwcX/X1q4qc6ritNu8lpwaudIDOWFowC1nXgfPNlLdRyY/nuQKY2WHptDOA9OcVdt1t17IQCVFkfbvz93cW8vr0vZ/+OF03ap6Q1fPPO7/zf//v/y14hFzEtlnIDIzgFhiec845hcyqU+0ViXzrW99atkYahiXyxT/1P/7jP4pfJYKIrIbulu+oJ9eRVjNhfHcR1b/6q78q25bN4sMC9629r0yZs54bzGg/CJ3+BDGfZ4CBWT9ub/ooIdoujO0LzijzxK0e+/yvd2Cmj9O/nXHGGevdRmpdAnPub+rB7jdNl4J5ljPTSgSWG4GZElaCR4nqPO66c93WIwSVwiPIOigKnZJxXecWyoYvz6c+9aky1aWjpAAp0NqhHXgxumdlNX1SC/tyg5vpT46A9qBuEQ7TqdqMtuS3CEE7q9tafd7Mn7II2263belU99t3vzJYG/ROM455/W+WYqstN9zeStrKQPaCJPXLe5Q1ZJkcW+3sPRZO/qsh43WZpKszbsaLeOnY1bvzYSRL+uJgdeRX6fzwww8vuA97t87PtOertl7nt2g3BFazINAsZTvvtPPjyjlKen96dJ3uhIcAM4N/ZA2m/q/LCLPAju70v2eQWlgOC488um5bMe/BUTrej7To77DEq+/4IdDuSWdWBGvtfWs7a7ok0TZpyowQlg9BLIM7ALngP6zcdYAZDCyasv9qjYVnke3TTjutDGQYb/RxZhTVVQTYs8ByE7BnMfIfbTyeyWMisKkgMDPCSqgoxfA/NfIkfIJ7OjDCjGTyOSLcBNq0oa+qnH766WX0SQmZzhOPVZOsqRGHoxFoWFmNsPkLZVj5COhobUX0sY99rCzqiBJpO4sQtNcI9Xlcq4/y7Kez9/31v/3bvy17Vy7H1GWdr17nQUpq4uM5skuGw0ev17vknVyTYz9foLNI0qIcRNWCJ/LeK5Bb+CBgiA9MAzc6ASkYVvfue89Ax56rpmnpBOnOwsrXqxxxDZGzYMaiUG4ByBVLmQHY7nvs3tl2m/G/J8//l6XYvqcwUkdwVmbnW2yxeRf/dXUgH677CXyPbbIf1s9eg4byYPWHRfCQFx3S+ad9//+uLv9TsbBHeuop4o56ivohu+pyt913m4k+1s6QOHhqG8ryghe8oLtt2MHFf7YqwlxOuSUYVAdhDVzUiX1wLbhC4AXyweKufbKsmn20mM3HAOy16muN7qvfCAw2+j1tB6mN+ON+HhOBTQWBmRFWQkXoEE2rHWsBBC4loxOx+IJvj/tGqV/84hfLKkmKyOfnKGgCTeGbFgnCKg5pUF5GpaaidA46xgwrHwEEySIf7Ue7WPQwqBOJjlwnzs8N6Ytri1Yug0ekJCxnkT/1Id9NOY77jk1Xh+9+57vFMsS6hDQecOABG1gA63cNXmuLnbjINpwQIFanYZhFHfD50/kjC1ZY8yVtEvA67VmdW2BFd5kS1oYREVY17kuTEFb1AkuDisAiyhx4NcsS9QhLwf9+8V7z+fp/pHSnHXfq7LjDjuV5ZEuIOOtn63NpRRrDnq3fG/WcO8BNN91UFvF5h3WVb/STn7zrstQz0mltBdeECPDVx/Fd5ZKi7rThG2+6sXPO2eeUwbh2TS6QVW2Cr7F2ywWGISZCrOWwJ6v2ZKA7Sv3F+3lMBDYWBGZGWAFEcbHK2IMwFGYAp3NigTD6fOjBhzrf/973C1G1SIKifP3rX1/83XQ2rC8U9KGHHlo+BUhBRPAschvWC473iEGGlY2AOrTRus2yKX3tJzrMRSrZKB1HkAttnuvKUndhiHa7iAHJgn2zXLBHWHWyUZ5e+feeujKIvOSSS4olzBZWLGCIj3ebcYsHUYZPk1h6nuVqVAurAYF9mm2hZ2bmRS96UbEq9srrrK8pj+lgpMRAmy60mh8eXKHcHzcggP1IYBO7Ou5B9+rn6nP1VNdVv3Trd5xPklYzjkH///aO3xaXD1ZNGPLtJFfLsTuAfMqHdscSKoR8IKlknVuIgR6farsA2GdVn8af+zWveU3xKzZgM7BBSGPbsOgzxaeP4xbgnvhGsZCXzCzDH7pCW6nbzjJkI5NcEAT66fxJsjfTXtPIUMeh82oGioa1QMPma0aQ+Z1ZkGHbG4KMzAb51JHygUNgKQcWHwJBqHWkpv+sYPWMTiLDykaAsqeYKXabvavnUOCLVLJRlTKhRVJZW0yLK98iBp2+fDbLBXvyXFuR+uUfqTUNTq7NotgVgCwjMtGZN99lNYJJkxTp/FjahxFl8SK10mRhle5hhx1WdMGsCVSzLPE/DOktBNVAnIsL9wiLk8wsaQsZxkcAaTPbpl2QJQOCvZ6+17IMArU5/RFCiZSq8+ig9V0W+ml/XGP0cYwtBuDI6urVq8t97d47LOfa7FVXXVUGNwiw9u+n/evjkF5rPrzTlNHxkWzvDXnkGmFgxpK81CXqCLj2nyERgEDIxTRozJSwUiimbgiezNaBMOv8jBotSuA8T4n7YhWhRVxjFOldBJcQIKSsFKwVrke8/NYs8ODn42ssy9VJ1WXM8+kQQFb9ENcM80GAnPUjrAaJOuhBQaetA7e7x+/v/H0hE6yrfCeFfp0solxbdmNwEq4hvXRInQ/Prem6DSEFOnc6RLraj0BP9Eu7jqftc2XSfo8//vgy08TFBemIKWD3M4yOgKl3e+vS8wY58eEYi9yWo37lh7tHDKjkwY8c+enjzjzzzDLbYOGdWaNjjjmmWISb/tye559s3YYdB+o2T670eWYtuLmQl+gfR0dvNk/K28+6W599+tOfKQNGhFU59OXc+liPM2y6CLQplzMjrDoIytmIizA3gw6G0lnT7WQ8azHKKaecUo46mbC0uOcnGK0RAFu1mCYkKBEINyFnZRWXKbcMiUAiMB4CCFQv6w0ZJG8IKzLZa0DoGZ0q6yor4tLeS2W2xOBzmNIi89Im9yHvcu5cp1/S/dNj2101S2WWxeb10mXNZb1iyWrG13xv1v8rN71ldwBWwXPPPbcMrGFkJkheM4yGgH6E9ZGlmkWT+5eBAEvesPY1WgrjP8Wq6Ff3cQZ82p12qz9i8SdT2qQ1GUhrDKQixcg/Nzn9l7ZiZtJ1v5hpYJS57nvXLcv2XZHX5lHfe8kll3Y+97nPlf6cnkDO+RaroySsTcQ2jf+1WYMXXE/7b2OR8Wazgk6nptESZpluBk7lFiEIpkf+6q//qkyd9fruNYGlADR8q35ZWZ2HkIvDufR0WHxm607P/QyJQCIwHAFEtJ+FlQJCHGvZch7/k3MzJRaH+DIP1x7+haN0WJQZCxM5bwa6RCdoWych0ovnEAN+hKyrnuVCwkq1KNZLmJr1efOb31ysrfQU0kVX3XPvhlshRZnyuCEC6pUrgNX11itYoKSe+SmzNNZ9wYZvzvY/U/xmFAyYBHUtL9qra/o/bZsx5oMf/GBZh2ExYLMNRy49a+Gw2UbPiUuc5IL8mUn82uVfK77hMFmEwHhkAMb4FANaeYXBouRxEXDalPJgAGexPSMCA6NZEbquX7sfFZuZWVjX3r+2CFd8tYPghVIhgEaYpsVOOumkssCq12biChHvOPfek3d9cmd1d6RK4RMOnZWgs2TRjdWjsZqy3Mw/iUAiMBIC5A3RI2vNoBMiz3UnZPSsM/Xjr84Cxhf92Qc+uyyY45c3SqAPdNYh76HYpFXIapcYR4hn/O8507LIKv9QbgCmXE23xnNxjPeX4ygPFgZZEc46SE8h9vwRDcB7DRKWI5+LmKY6pttNh2tf/re3rgWZo7avWZRLu+QOoD6jH1LPfvKIcGqP73rXuwq5DgI6LC/IKiur7RrNWJA78ihOhh47TSADT33aUyfabWJY+uPeJ/vyFzMk5NhaE8alnXfZueRbnIsgh+OWLZ8fHQHtUx3T2QwItia1AJbs4nr/5//7P50DnnXAVK4sMyGsMv67364jj4Q5QhSGPxsfM4K8uks+WVUVUsMfFrZ+0tbFEksYdJ6hKLzn3P58fMRMwRH8DIlAIjA6AqxV5BOBagYyymqko2YNJc9BtAweEcbLLrusXIvdHUwFjRJ0eOJq6gBpIsVNy27Eee996/aoNJLXUZpyNa3ajCeeX84jUn7iiSeWmaDPf/7zxSpl4ZXB+lLXPz9DbwS0ATqdOwXrNIJ/8sknl05wuUiQPJmyZ1VkTYoBnrbq3ICJBfgDH/hAsaqSA3Lj3rC2yZ0NYbW+g5sbmUNaBemy6LJomm7fZp9tyvXlwkHi2rVdffS9yInZhOOOO67s0LHNqnV7rJdM5p+NHgHcD+f7zne/s36RqTarzfu8s4/mTON7/fheqQVICQ+hsn1H7dsj4wK/LV/tOOLlR5TOMXwcRkmawFPyRtj8Y2tfVmAZkVrEZdqIj9hyCvIo5clnEoFFQoBiMYDsRTTJr0Eimbbog2yFfN12263rO1hTmjqscabkKTG/ZmdOpukH6XIzaAZK0AIv8o6sGqgi3JGv5vPL/T+/Pp9GpbfkGwkzvf3e9743V1T3qRyLbE899dRileb/+c53vrNz2OGHrSeJfV6b6WUEElm1DoM8aKMRtHv+00i1NRf6rFHJasTBL5dVSh8a7gZkgwxypTPFancEuxBMQwAivWmOLMcGqIxI8urjBn5wWFQ5nKa8+W5vBIKY4mDX//D6Mgtg5ptxQ3+hnTT1e++Y+l8dbtLs/27fO4TZaItA2ymgbrTOEU6K28pOHVIva07fyLs3PI+wIqQxzSJeP4rBKI/LAH+fIMmD4st7iUAi8BgCYTV97Mq6qXeypEOKzpns+hlRf7NLKnSiYUVEemu5r+PqdU6R6dj7vYMU2K+5DhSjxSkWtSCpBsEsW9MqxTqNts+VDxkxu6STh6mpM4SMa0OGxxCgy30Q5p//+Z+LmwkCBzfbhLHcLWfQ7hFHP9Z/MmOQp+3poLl6yK82Lbg/TrtkdWdlXepa3qWlnTgKzvWtFnTp44S4V/6Z8x9tGmnWH/NZ17/XZFXeljN/c4Zjk01O+9YW8C++3cH9tAWz3dp0yMOkIM2EsOrUKF8ZJ1wKEQ1Wx2JU6POEscjC/XEDKy0/VYRVCKGQHuuFUbkFING5jht/Pp8IbKoIkFELpZqWG7JkGpTrDXkjt378la6+6uoyu8FPk1yO0zkHztKtO7q4TqaR4nvuuXu9PLtGvu27St5ZV00Vh6tCvLuIR7jy8WNp5SIAa1sfIa45yF5XY0igwci//Mu/lF0V+IK+/e1vL4YKfquT9BlttQVt3wBKu7dCnlww0ji6pw1yS+G/GWGc/IpLHPvvv3+xWrJWCuIWxMUgZMcAxCD62HJzGf8g7Np2c+Apv+OUfxmLkElPiQC50CbxP/2Eetcu4gNQk/QLdZZmQlgpXasjYyojOjcJs7wgrL56E4y8ztCw84jLRwdYWbH2ZicHNL4/LD6c1Al0hkQgERiOgM4m9nhsdjLkCDnUMYdMsXKSMwtEbNZv1fYkC2GkxQc1Orw6p2S+WFgfWkcI3DMYjnTN1vChW1Tf1boscU5nsUaZNrZfJdLKRcBAu/bLj+c3pSPCxqXMZ7q1K23qfe97X5kCR96a7XLe2Gj7BlAIqynP6JPkQ+es/S91LaNP3OqJE2VNv+gnDl9q019GiLKzXsHGAkd+vRkSgeVGQNvUP7D+M2yQDf2JWTfuItvvsP1Ehoy6XDPxYbVy0irGIKwSVBiCbcqOf8822042pRMCawTKV47SR051aBEoPD5v3AL4+SDJTWtRPJvHxUdAu9FJBEkaluNpR3HD4p/kvna7iPlqliUUjI63DlEHOkqKSHCNv7jFIeTPVK0Nw5GxcYN0kTZy7RwprkMt3wgd3z7p0jG2xXvBX7xgxck4gs6Kptz8WPnhhm9wXfZN7Zys0NeIGjLPL9nHF8L9a7nx0Da5AoT/auRHvrV9i6Zsq8YNYJIQfZwZhwMOOKD8zCYgA+6FLDIKGeCYWQgr7CTp5TuJQFsIGMixsOJf+mu6jSHDQjwL5qNtT5reZBI1JDUWVqRV5yYQMJ2QI4sowrrtNuum8odENfA28nvooYcWPyejTD5PAoVCuI0+TZsAKwnrQCgX6qZ2IiBG6vW3v/tt58EHHiz1qh0NC02h8H/z2rA42rwf5UHGCK/OZZRytJmHUePSyRoRI6xNgh1yFS4BtrEyKGRpImMIq856krJJq5eFVb3BjyKMnQJYV60aNyhe6lqhDEp32XmXUYu4UM/RS7BDWM0YsUI0BwsLleE5ZEZbICfIashMsy3OIRt9k7D4z5Snjjms4SHj5Ecfh2hOq3OUGWnnYsNPGwEwcIu0yIGdOVha+UWT2wyJwHIioL/G/bjKCAZwZsDI87TyIL7WCWuQDB1MbRELtm3aTqdGEU0TCK04WFmNvo14EeXo4HSu/Hwu626zY1qFMIfSawO4afKe7w5GQN2qv5tuvqlzycWXFKVsMKINjVJ3zWea/w9OfbS748SpPPKOkPHF429pYcIkxG603I3/lDwqExlhyWpah9wzc2HzZ3WhfuwHaV9MBAvZOug5B01VJviIK7CNo9IY/CKsOmyDUP6NnkWSrRxfyQHmZoH8oh5WcnnayDvdrqNbxGDxnynPcI+Rx6g3HTTCuutuu7aSdR09nYGQslrVs5Z0CtJMDpFafoLzCPp48hizHgZd+lfyO2kQZwxKyb04yYN2UOuBZvx0EnJEN4gDJuTJe2ZxexnG1JUwKN46Hc8bmHAvlIawaptVne22XTew7xWPd+TJfvRr71v3dUDPydc0WCkfnLQDZacD4U5nR38SbbEuQ30eGMU18bhG5/cqSzw37CgOAzk8TNvwP3kwi7Tb7rtNFXek3SphBRSGjTwGw46E3NMAl7oWkTZGggGs+Ai0qUlpC9ISKBRTJra/QpRNsQjxbvkn/ywcAhQOxXDtNdd2v0/96bIaljCpV0RJWO46lMc6D/V5ABrt0P/OKWEWEZ0PH2zTJYsS5D/yS07ktVmmQljvvqfUDeuqrw7puE1J2r5nWisnpUv5NtOVLx0kBci3UbpG8VZhv/zlLy8+g55pvrco2I6Tj42hDOOUd6U9qw0iDKz7dJR2F3KDPPgMrx0CttxiQ5eaScupw7f63qAMMa3bh3TJoZlEX3dkuAnSMml6g94zUEXazKjQY8iJ/NSuC2YK4DBKCOzINjyVg3y7Lh7yTVc243RfXtQD/eMjHPLCnx6x1Fd4B25cM/gU1+4k3hdqLPvlN+qbS4aBMiOYYJZY3AZVeE2U2fPIGi7iHe6KQeCkR+/bP1ddyRd9Jz/98lLnFU7wgRN3EGXFpVjhn9M1Fuy5515D3bHER4/rv+RVnLCDp/yY/dPm+gXP4VX4XeQtnpUfPEyb1E8rE1y0j/vuva9z7z3rrK6ed0868j8ovYg7jq0RVpkHAEDXdJ1uNZ46uG+0qBG1QVgjbkQ0NllWiUGUA0zgIa0EHnAqKsPKQIA/HwH3U59Rpysj9xvmMoRXhzbMarDhm/P7L5QmJYqw9pIVys7o3hSln/Igjfs/c/+pM0pxUXDNTpdeoSRNgeqYfdKULLOuUv5C5H3qTGQEicAABHTYCAh/Y+d1IDP6IxYlMt5WoP8MCC+44IIiAwhZDNyRhFtvvbWQGM/oYwW6sk2ZIPcMUQaL3ICQMYQxMFBmX5iz+NHsURC4YRggwNx7LDjkl443sEwqI9m2VZ0PMCCI8KUL7lt7X9mE3ntmWugE+gEW7jsKBg4vfvGLi37yoSK8Aya99FqvfMJQ/nykwRebGL4QPBxDXAi1Mh9xxBGFNIoDUVUO7yC4+JD8ILF+ysAFSH4sJhzk81/3d9IV58UXX1xcILXBsPaqc3VvAacZ50HYK3/cVzZ1aacVuCPg/MUd+7UdA4Srr766GJGiDQZ2cFFmBFh7EYe69Lz445rn3UPaYec4amiFsGokGoGOBpAECMDNoCHLXJuEVRqERePRUIAWYKtwANuvDonW6BfJqtXEJ/9/DAEjYkJNwI3mCYd2NmqINjDq85M+VyuV+ryOT17IByJo2s7gaZxRZR3XPM5hr8OtiaOywZ/S8U13ypOscQWgdO2p7F79zrh5ZakwSOnVoah/Vhjp6ih1ZKtXr055HhfkfH4qBJAE/dvNt9xcCEgt84iAPk5/1GYgj8997sFF1iz0CpJIr5A5fZxBHINNENa29Z80PvGJT5TPCZNPsyoIpTR9K/78888veho5s10bt4hhAZbIkni5NtAjyBILLoIoTroGCXzzm9/c2ae7leWdd93Z+eY3vll2kEBY6QukVN/OQkj/yNNlXVdARMlOIn5//dd/XYivge6owVf05O8zn/lMidOWffgLnuFT0L5WZ+DCKOaTy3TmRRdd1DnttNMKiWYdph/lje5nbRWf/DCi2WP4wx/+cOdlL3tZ6Q/qOqNrtS3lYSC48MILOx/96EdLXfOPfuUrX1n6RAtPuWWxbMLwH/7hH4pRMEjpoLLqV//rv/5rvU7lVqLe5LvXgEtbM1CxBZ/PJNP/QvQN8lyTWOXhxmKQAxch+gj5Q1aR97kT1uhgZAa71sA0XBkOgTZiIkwazDSdWil144/FVxq7BkyZSLOufGSVGR1ZWFS/qEaRNvl/1R/lz9/z6KOP3ijwUCayQljr9rlohZO/kOk6b65RSpQVawN5onTIVK/n63dHOUfiKcqIK3QHvaJTYGHiCmATap2HjkBoyvsoaeUzicAkCLAYIUQ+PR7tM+JBLFlYzToIZCXacjwzyVF/udtuuxdrni+jIY/iFhxZF5E8BMj2QW0OhpURsfzkJz9ZrKCmjFny7Mxh2l2/isSwciJk8le2MOr288OMQ7fe+ovOV77ylcIXWBvf/e53d/Z6+l6dNT9dU6b5Gb8QdHEiacqF/Hzuc58rPMM7+gbkOWZP6VXT9oiXgS1yyQr78Y9/vFzjPog8jhJu+NENhaCzkrI8vv/97y9lVk5Ys1CK/6yzzipELYilPLzjHe8o1uawtrvG/x+5/p//+Z9SDqSablMuZajzFe1GnAbp//qv/1qMgIjxKaec0lnqukLShdqGgbw8XX755YXY+hJctMFB5URY1Rvrp3i0pbDa9nrPM2bITzrppGLJjYFTPMswCOuwKlurhASbAdeneF+AhfIhqup1nNCKhTU6DAAaEQGgFmaZM60hc0ZEbQcVLW6CYsSjodfpI7FGNSx2SVjbRn928Wk3LKwZ5osA3HW+lEwESkYg26aRKERTdaagakUbz09yDMtu812KVLo6CR0RkkzW5VOIvDXfy/8TgbYQ0J9oh3ff/ccOAwgiEX2M9ueHwLEYacdCtM828kDGDBBt44gohXVL3KxaDEWsbYjkUpfMtBVMYxsospApH7KKJDISCQxRSBds/LgNILBmPJuEFV4hq86vvfbbpb/mg/ma17ymDETpHHEjxuKGM7xNhSOH/HiRKqTp+OOPLwTX7E6NNUMHYoosIrwIvXdZNQ12B+krZRAXsosA4hPqVJkNRtzbc6891xvekDa7NNx+x+1llkneWYPpRpxH/xVldo68IZfX/+j6zs033VyMbDgJ9wXpIHXwFBwRyjPOOKMY4t70pjcV/JVBXPIS2GsDyomEah9mq2pMSoR//gN7pF6+tSP/wzrab6336/ecw0Ab4wbmvQjy8ZGPfKRYeuMaizdL8Nve9rYSf+AQ9xknxh1ctUJYIyNAQFhVdh1UQhDWZiOun5v0XPo6Mp0nvzq+bjWYRsWEiNn8gAMPmHpxyKT5zPcSgZWAAHmiTGJELM/kKRQpJU3xsnKaNQn5n7ZslCZl2Ss+CllnoiMyzUbeMyQC80RAG7z99jsKCUKatNMgGOSDRQn56DWdOm0+yYY2jywgUdKXH0HaiAdyxsK11BJhJe/6dNPfrLpvectbiuwhZVHuWGAU5UMwuQM2rW+RT5jJr/hY5PTNLG3IeBgnNtt8sw36bwTMrI6BACKL3L7xjSd0se69XSWihrAhVwxkZnyVgxVa/gYF78o7IxecYcz1gUEs9KEPQiBaQQhNezvf63l7FdcAs4LIX9yntwT/40Hi22vPvTo//9nPy5S5mWHWYmULS7Hn5ZurB9cG+PAPVrdBKM1iI6kwFOQbVv5Xd5F+udn4I26cKAZeyiNv6nbQe9L2C7dOdSngfDCOuldX4mKRdax1en3eyNbQf1tZgRSZZgrmRyHTMhU/ABA2FTVodDM0tz0e0Bikz+LD/0Xjr/1UpC0frL9GWKYbMiQCiUB/BChmA8vaOuBpcuYea4ApsqV9HlOe/WMb/Y706IdQyPGmdMkwS4w9V1lOonOLZ/KYCMwSAe0v9l9lIUNkot+Trg6fZc+UdrP9tpEv6ZMNgzW+nOSzTh9x1MfxkUSg6nuTpo8EI0ym/cmePc+f+rTHtuNDlhA7M5oR5Etf3Iu0K0PIMjLIGohQIjUIpuD+A/c/UPyD9e3eQcCUDSGThze84Q1da+RSXx0gDv0+HRHkCzFjyBo05R1lkC6XJ2VDIpHFmBl2D9mDt3NBOvBhVUWmvRPpuq8MfkJYMrUV59oRCzLybhZJ8Kzr2ll8HMUCU/wm2hZCCne4yEu8hygP043wUTZczbvSU28GXDE7UCIc8Y96gS3+p67EDy8uW3CpQ+BQXxvnvBXCKkH+GXx7gFgDqINTMTIPTOdthgDAcceddiwj3JoUazjyYOShEVrFFg2jzXxkXInAxoIAeSFDZNV5BDJGEa3uLnZiXd1+u9EXMEQcg46UcdOy6/ki293pJZ31IS86pCyuGBRP3ksEZoHAXXfeVfwF9R86ZQFxiA7abMMO2++wnpzEM23lhSzqR00dB3GJuBEcVi5T5gwzSMQ0IYgZwqRP52NpoGj6PYLr+lQELgIMWJl7EZ/oq2GGoCFNYYULgivfPhSDdMsDHaQPR2jN6tSuA5Fm8ygdgwuEGi5CxNN8ttf/SBdCLQ8MbQi1PMi3H7cHbSDiNvUNH4S1SdDELz9Rdv/TrbUFVjrIaW39NVhA6E3bMxDQffX6H0ZBvqs4l/zKH92sjjzXj2dpkyyz0lMG54JBhrwHMS8XR/yjnsysx3ZWXlNGpBx+Uf4agxGjftxjrRHWW26+pfiYaby1oMok4TLqqDu/x+VkwgsBhoYUX0PqFRVBUEmcvE2bqOQIMVKK//OYCGzKCFB+Rtw6kZAveLAiLXWnpKzQ13E2O81pMZOWNMVbp+t/K1d1Vnt3pwHbTnfafOf7Kx+Bus/q1R8gE/b75EeNCEWI93TQZKaNPi7ijDTi6DoiE0QprsdRHk17W6RkupfhqF9c8U6/o/4UkWL9I/cWz9Qky32Ek/WVMYi8Ijv0A+LjnV7Bc6ycrHHyRo+Yug/c3PvpT37a+dWvf1XK6Rm48lmnd+ywMkz+pWHfT24H8BLoFURu2LuehaPpbXlCFmOaXLuAPdfCmrDChc+urf3ozmEhdJujIN6Yyo+2p43BSB1yg+LKKO/i9x6LJkLLSipPQRBZYQ0WIu5mXuApbr6xYW0WL+sqYh5T/c33+v0vHXlCrMOCjSyLB2HlZtAvL/3iHHR9ZHOnwrGiMtdrrAoOKD8jO47Z/Ec1cvdk0tFP4BRu1BKmcPf9gKWhDwK5VwFUrFGGn7xpQKYvNCZkNNKPBiAOjdCKO2m5TlikLY9GGK6P0uB65SevJQIbCwKbb7F5sWIGYVUuSohi5grAmtCvQ5oWA4pXujoLesZRR8N6wcJCRjMkAm0iEP2UfkR/grBE/6F/Y4VCDPhRIqz1Go14jkFE/8Lq5Z3oR8iNZ1jhtOu4Piz/8iQehGtdH3d/l9T8sSzS0Y/GLGYdT7FOdq2el1x6SZEZ/q7IVsjUttttu/7LT+KXr0HB1DJrqbwjQuKJAAME/pYf31LwUU5GKTLanBKPd+L46J8eLc8gwRaRhTuA+/puZOr239xeyu+a9G39ZFanfta9XoHeQAARKJgoJ32ljx9EWHEC9eMHNzsPyd9226/bv9W72gYrNtLneRiJlyVxm1WjLSi//wF1+Yei3yL/yi1udS7OwBMRZl2tP8qifNqjdsDKLagbdcT67t1+Qb2rO/7O2rUy0KnKi5uNq9fFJz+x24A4kVWWdgMXg402Q/+SVanIFEE0msL6CbZMAtiPWVrjNeIiSCHEjgDxDKLoHhYfxFBnpLL5iPBNGQcsllwr/zF7pmj5Mqo0wtQYIsi7X+TFc+edd14xYavcsBT5fCthIxCezZAIbKoI+EoPpaODFciP/ylvK1WNmkfteMfBkD6Qpo4hZJDCsyrWalNK0DMZEoE2EdDWEAZ9GDKC6ERnjiwyhujb9C+mg/Vp3om+RV68c1l3myJ9T70SPcgHH0QLd2rS168M4ta/Skt+5AsxCZKivw3LYTMO+bZO41Of+lQx3iANCCQLmkXJ+jjyNUx+kR59o4VW8mNlfE2EzFaa1r+juwjNfXKpP7V6XJ8+KFi0ZACKiIXRyPPwxBGUk+ELzvDCGVhWlWGUgEwykAUPkD+DXlgMwh/mcPEsP1lkl4V16yetI+ryg+xpB47uG8SHFVY6w4I47v7j3aU+pSd4z3XljwDD1V3XK2tytKc6KB/eox3gYuqF4U39DtOR0oSLtoWXSde7sFXucYM8s2TzpZUX/+NxCLBf22Ekwor129biC1/4QsmY/wVHlabyBI02GHUNvnMNCFEECoFxTeMgTDqjpaWl0uBLREP+eJcvqk1vCY0KABZhFSgJjSDy4FxaKsdPXvwAK7/yY7oBwCrP/xkSgU0VAbKy5VZbFkUYskMx29ql3k6qbXzIHfkjv2TX//TDcccdV6Ykg0C3nW7GlwjodK2Gt4UQQhB9HAKlYw9LHaRqS2n0M/oVfnwMIvoVbdc9IYieqe9BhKk8/Oc/iLIFVEE89W+uIRzireOv33PuGQSCxVde/RASJEwe/EYxDhmksmo2g/gZhvivIurR71tUjbyR30FB3k1zC1Ee5zAMf07ngnyyHCJto8q/vt1Ma1gf6TNlFo8y9QvyJagj5C/qL57HLxA9dSzfgvwh1MjwKMF7BkDi0aYiSFNcMSBX1n26i+v86EK/yI+2iv+oY+0Up2IdZbFmcFPefsHz3lNv0caR46Uu/6Jrxw3i0O61tYgPp2KZHxWTcdIcibASOOASGCO7aEwaJmspkz3Age0XwAJZBXleYYJU+t89DcB1lRNEd5TMexdJ1jDlR0PT0UnXT77qvMi/NJRBmo7eo4zkKd4TTzSYUfKRzyQCGysCrAqhwMm3WRDWE3JOhsjUIMU4CS7iI7viJpM6F9Ny9lscpognSS/fSQQCAX0KK6t+Rd8Q/Yf2ro/TLhGKaJvu68e0Wf1IkA9H/+vXon9DFr2vTY8axIM4I3AIs3ywnolDHqK/reN0rhwWHD304EOlb5MXfXAcR5XbOt5mnpETU8r6X+nBwKwLi6l8DQqBmfLJS93fKm+QH3GIV3wWEin7qAEZYxFXn4Ky0CV77LF7qYdh8fQqe7QP+7nKZxBWvIWV+Mm7Did74oh4cCnnUWfyh8PUeMinZ7Sl0MWuKRvrqnwIMKKfWWN75b089Oc/+A4jX1hXXY6FZZNYWNWnvJjxDhkgJ4x/u+42ep3VeRx0PhJhBYLPra3umqijEYhUg3LPL84d6xDk1DXncVThKgLYmLgGP2qQnn3LjGzqio/33RfiWOcpGk3kKxqNkaFRWLwTceUxEdjUEKAcEUSDPLJDodkDkHVV0PnOKtADFKeOgF6w0IrlppbhWaWd8W66CGhrPt/JCokI1MRO2/NDJnr1D9GnQC/O44ggGPAtdS1YZCr6m2FIkwPuN76MxCJHJiNtx355qfNQ93HyjzgHeR6W/qD7a7oLsbgHcsUT9OEsoKyxzgeFkOOagMXzSBRXAxZAZZR/Vj91s822/f1Da0zxCkRaPAYf6tHsED2yU/cY6Ueaox7lB+nnDiB+5ExcdCPewI1KfnvFL0+uiwPZjx0IDGgEeVRORK8ZvFNjpT0hzay88T6iy2KNOHu+DvIkSN85Ysk6Kx7/07PSNiCg75uhxrZ5z/8PP/Lwev9VmIiPtXep297rHSV6vTvJtZEIq0yrFIVy3is0ger1TPPdAEOF9KroXnG4Ji2dmlFFVEi/Z0e9TgFoOKOUY9Q487lEYKUi8PTufpL8uilDfm/2P+2l0NosHz1gCkwnjRRb3GXhSNPq0GaaGVciAAFtTx+n8272U+5P2i+IS98mfnGMEk+8Iy9Irj6u13u9rslrr/y7HvlwPmlAdKxn4RLAWCRORIusIsP60HFC9N/iQVj5ryJ1UQaEEOFECPuFwME7psuRSu4A4ob7zrvsXAbb4Ysa8UQa8X5c73dUdkSYBd67rKKIGYIWg3jXm/Epm2sItMVJ8EM24zm48f9F9iL0yxv3R+8jngx+2ofpd7uoSKcZ6muIs8GYAQespWEwxVjnGPmp4+h1Le7Dlz8uzBky5Uc8BhjqbdC7vXCKeAcdR2pdEtZpTNJxBPDNTAwqTPPZXv97PxpJr/t5LRFIBCZH4GlP27Pzrne9qyg4HcY8Zh/INML6nve8u+uX/sb1CxomL0W+mQiMhoC2N2kf10yh2eeJe5zg+ejQRxkkTpveOHljXWRdZQVFgJAshiyfSza4jXyPGmdgIy6WZJbDmMVFfi1UQwgRz2FBXKanw/rrf2R632fsWwhr04IZaQ+LFzELomc6Xl6FsCyzhntmGD/CV5QR2RdfpI8wWlRWT8nHvWbe+L7WpFmZvI+0DgtIqgV8BgSsoeqKbmcdH2eGO9JBupFf+Qlrr/bK0qvO+pXB+4PuRfy9jiMR1l4vjnqtzlhTsEaNI59LBBKB+SJAEfIdi1DLcVybxVEHuN9+j6U7izQyzkRglgi0ISvjxDHOs9OWm3XPlDQLpnT594b/JFKJuOnnWSORW+SOpZg1srb2RT4i72vvX1ssdd4J0ov8xLZavd6NOOKINP10zU8LIQx3AOmaLkfM6jgQR8QNKUb4hg0MkD2WW/6xERB0A2xkr4477scxyoikIuSwC5cC+eNqxcLaJNTxfhy9Ez6+YaENwrp71z93UIBpWHhZxiOwiDJGqEfBcwYM3D3kl9ulNKIM8Z6jPCCr9QIy8bCu1uS7fse59MWP8GsbowxGIo7H25DjzgyOCh2/GUSfUSYCiUCLCISs9lJWLSaTUSUCicAKQADRsFk9gmJaHNlDBO2RapFN6AtFQazOPPPMzjnnnFNI2rDi3XvPvcVaxyVAEDcyg7DWU+WD4kFAb7zhxkJETU8jocjYS1/60sdZP+1w8NnPfrZ8ZAGRGxTEZQp+TdeaiGwGoUZUkTMkbRQd6X3+o0F6lZEl0i5JcBwWB/KP8KoH5NXzq7ZZVcrY76uD8upnIHHnXXcWlwSE1DUWXxgrRxB2ZZWG3TJOO+20bl3fWqb6e+ET7iHIp/eQdtZ2mPQj30iu/fLtOGUXjMCiV/y9rs2VsPbKQF5LBBKBxUNgmPJcvBxnjhKBRGCWCHADMN0eJAORNP3L1z1IJb2BvPjAwoUXXli+Ksk6OcgCKc+eQYSRH3H4LXX9Q0exfgYhQ5LtT8p66n0WPBZCFsx6ut4HkJCmSy+9tFiL5XdQCHeF2B/Ws+JGpodZVyNeC7aQfdttIb/wYN087LDDijtFWDjj+X5HZBVRREBZJrfdZttCdodZKZXxD3f9oVhE5QVmrLvIpW2tAh/PIdYGGj4EdW/3i2GebQbXDFq4SMiT/CgDTGqf3uZ7BhVf/vKXOxdffHEhz/IyTkjCOg5a+WwikAgkAolAIrAJIoAQWuEeFkmEx96miKUQxIYVkiXR0dSwhUG9guf9kB0kkztAxO15C4lGmTJGThEf/pl8WC1MQsCkzR0AqfSMID0fVvAsKyXLcJDt8kDjT+QRoQ4XB48grNwBdtxxtA8NmTq3nRSCJ11543JlJwikMQhjI/kN/kVyvSsoD6uofPj1C57zY1U1IAiXC8/LA1cE9bi+nGvXLXyTT9dZTFmCm4GlFPEOf1j35WOp2xZg2qs88n7NNdeUDz55H7FlWR4nJGEdB618NhFIBBKBRCAR2MQQQDascL/jt3cUcogEIYLhHwoOpMd1VliElY+nfZStgu8VEFXhvi5JQjT9EB0/FkOW0abvaa94XEOeYncAVkLT3ciWrbYQUvkSEDfWVc/Kl/uDrJveQ1ZZV1mYI7gunUceWVeGuN7rKE3WSj8WZPmxkt4WarbbGnXxOHyRVM8jkfLg2ItQ1vlQd6ymV155ZSGYcS8+GIC4ilt9sMIamCDHPguLtPayjiOcdgfgPhABYeWC4R0hSHDEDT8fjzIo0S5eeMgLC2mO90c5JmEdBaV8JhFIBBKBRCAR2EQR+OPdfyxka+19a8tCKuSE9ZOVMfwfERuWToSQddV0vC9G9SOEQYTEicwgQEigwCrL+hdxD4PdtDTSarocQZK/5up511kOfdKdFdZiMfnrZQ2s0xM3wseaGAFh8/EEBDSId9yrj8iiz+uef/75hSR7lkXVPvKnnHJKSVu+RgmeQzIRXnkWt3zArF8c0uPCcfXVV3cuv/zy9e4c0hOPAQF/U3UhPjsYcKtAqH0IAjkWdzN+8cI68I74kNV4xzWk2rvw5iLy9a9/vbiR+Gri/hMsrk3CCtUMiUAikAgkAolAItATga223KpYwxBIZMkROUEM68A/8dxzzy2Ec/Xq1eWjH0hLr+C6H5JbT1ezrvKFROyG+WZGvEgXYux5cfqfBbXOH3Ll87ssjci2L/f1s/6KN4ja3ffcXabSa39LVkILt1hNayKLyMW2V+L40Q0/6px66qmdr371q4XEI4K+3PeXf/mXhex7ph8+7tVBmWx/xYqJFLL8GhjUVs54PgimhVbIsgVmBgXqrE6PdTYGDtwy+NhyX+Cu8JKXvqSk4/n6HWlsvsXmxYIuT3FPu4j46nfsNqBd/Pu//3u57yM0PiNb103ke9gxCeswhPJ+IpAIJAKJQCKwCSPAGofEIHrIapA5kDhH5i644IJCzlj9fGjkZS87fKQpX4QPYQ3rKtJpb9BxCKt8eSemt+WpJk3InZXvFvt49phjjikfREH8+gXvI7m/vO2XxV2h3jsVFtJAzv34hgrIn/dYZc8666zOv/3rvxXC6F1k893vfnfn/e9/f/HP7ZfuoOu++mfXA9tYwcmne1mMEedm4G/83//132W1v3uIso+yqMvII7ILGz8L5ZB5mKg/X6ryXK/gIwws6Mpk8ZhyW4SlnD4NLMCOr/CnPvWpzr/927+Vgc7b3/724gahDiYJj/emnSSWfCcRSAQSgUQgEUgENkoEWM/4qx555JFl6p4VzvQxAmia3f6sF110USFQvk537LHHdqeV91pvvesHimloU9aIF6KL+LC88Z8c1X9V3PxlWe18cUt8/EZZQFlUkSPT3JdddlkhYCx8r33ta8v1foQs8nvvffcWsso6yXoqf9wVTjzxxJKG6f7TTz+9+H0edNBB5R7SxkdWevxBWSERRST5yCNf3rUe7z2y5TjyEUdpyzvL6tkPnV2Ivml2JNMuBEg+HNUJ1wyEkS/vySefXPCBiel5C8CQVXWmDliFbTNl4MCvF2FV1n5Be2CdPuGEE0oZEWYkXZndg7k88meWD4McLhBwY2X2zCQhCeskqOU7iUAikAgkAonAJoSAqWgLhRCcK664oiyeYV1EUlwz3ez+6173uvKFKiRlWEBc+GWK2yIuxMk2WfwnEddhhDLiR67sWHDSSSeVaedvfetbhZB9/OMfL2RWvFal2zN2dddVwXZco5Amnx5F/pAv093yw6Ioj0vdFfH8bJE16TmyesKCtVH+kWhWSNtXWUSmjJ6ZNCgnKysCKh/IKuLJOookI+6eYa2WPgKvzPCEcxBaRB6Z9p6Bh7pCeg899NDOcccdV0jusDxKy8Kp97znPYWgsugizXyRpc0CLV6DDyQY7vyKpyl/EtZhtZL3E4FEIBFIBBKBTRwBhOY5Bz+nkBDWRIQn9hRFxGIRE/9TVsUc8By2AABAAElEQVRRAnKF9LE+IlQC0oTcjUtsuAOYLmeFRBLjE6jIEysjK6c8sgwqyyiBXyerY2y35b1nPvOZxcdWXCyJtt9iwY1tr+Tbz3PuIce77b5bZ5tV24xMwAflTXmUb5dddi5uDcrJ4o0kB1FFJrktqCdT98gtsm3LKRZmdcT6aWcGFlnYef6FL3xhOaqXYcEzO++0c/nwgfhYm+WDK4DBQCycEy8stJFR4h2U7hO6LHi0JWqDYsl7iUAikAgkAolAIrDRI4DgWIhkCySb8G/2hM0K4UE4w8I3Dgim2k1TI79IFRKIQE0aECZEU5x8M5FH1l9ElcVvVKuteC655JKyWMhHBpBBJOy9731v5+///u+LtRABg8Hvf/f7Qmo9I40tt9yis1N3Bf6OO+w4kiV3krLGSn0uCAg1Nwh1g1QjtQiicjctySif57hOwNy55+HODaP5/Ch5Y8G2YwLMH3jwgdImtAVEmc8sTNoIaWFtA8WMIxFIBBKBRCAR2AQQQIh22XmX8mujuEgfshsW1mnjRI5YEv0iIGmI6jj2OT6ZrJexoMr74jYlj4iFtdDXpvzmHaSPaPqxIEeIssb/vY7KwUXCr42A5HI38JtlGG73nWXqGXcikAgkAolAIpAIJAIzRGBUq2qdBdZZi61YIvmlstSyWi51fVedN8M4ZLj57jz/nwSLeeZvUFpJWAehk/cSgUQgEUgEEoFEYEUhUJPH+nwcK6udCywgQlwFU9t8MbkWhHV1EUFZyYR0GJ5JWIchlPcTgUQgEUgEEoFEYMUgUJO2+lwBmv/3KhSfzDXdr1vV+8NyhTjggAPKIqZeFtZe8eS1dhFIwtounhlbIpAIJAKJQCKQCKxgBCxE4r9qyyiLmWxp5UtaVtw3vxa1gou54rKei65WXJVlhhOBRCARSAQSgUSgbQTsDBAfHbCvqgVX/FdZV5FW51bC27aLWwBL6yK7B7SNz3LHl9taLXcNZPqJQCKQCCQCiUAisGwIIKpXXXVV+ea9T8UiqjfeeGOxsLK2IqV2BrD3Kj9WBNb+qj5UYNeADPNBIC2s88E5U0kEEoFEIBFIBBKBBUTgoYcfKj6rV155ZdkVwB6ntmqyIb6j/+2xahGWXQMQWMT1qKOOWsDSbLxZSsK68dZtliwRSAQSgUQgEUgEhiCw5RZblgVVxx9/fHEJiOl++5WypiKr999/f9lk34IsOw/Y3sqnRjPMD4F0CZgf1plSIpAIJAKJQCKQCCwYAggoQuqrUc5jJ4HNNt+ss/lmm5dr/FdjiywW1+22366zautV6cM6x7pMwjpHsDOpRCARSAQSgUQgEVhMBGqyupg53LRzldtabdr1n6VPBBKBRCARSAQSgS4CLKdhRU1AFg+BtLAuXp1kjhKBRCARSAQSgUQgEUgEKgTSwlqBkaeJQCKQCCQCiUAikAgkAouHQBLWxauTzFEikAgkAolAIpAIJAKJQIVAEtYKjDxNBBKBRCARSAQSgUQgEVg8BJKwLl6dZI4SgUQgEUgEEoFEIBFIBCoEkrBWYORpIpAIJAKJQCKQCCQCicDiIZCEdfHqJHOUCCQCiUAikAgkAolAIlAhkIS1AiNPE4FEIBFIBBKBRCARSAQWD4EkrItXJ5mjRCARSAQSgUQgEUgEEoEKgSSsFRh5mggkAolAIpAIJAKJQCKweAgkYV28OskcJQKJQCKQCCQCiUAikAhUCCRhrcDI00QgEUgEEoFEIBFIBBKBxUMgCevi1UnmKBFIBBKBRCARSAQSgUSgQiAJawVGniYCiUAikAgkAolAIpAILB4CSVgXr04yR4lAIpAIJAKJQCKQCCQCFQJJWCsw8jQRSAQSgUQgEUgEEoFEYPEQSMK6eHWSOUoEEoFEIBFIBBKBRCARqBBIwlqBkaeJQCKQCCQCiUAikAgkAouHQBLWxauTzFEikAgkAolAIpAIJAKJQIVAEtYKjDxNBBKBRCARSAQSgUQgEVg8BJKwLl6dZI4SgUQgEUgEEoFEIBFIBCoEkrBWYORpIpAIJAKJQCKQCCQCicDiIZCEdfHqJHOUCCQCiUAikAgkAolAIlAhsEV1nqeJQCKQCCQCKwSBP/3pT53bbrutc/XVV3e22mqrzgte8ILOXnvtNZPcS+sJT3jCTOIeN9IHHnig85Of/KTz/e9/v7PDDjt0jjjiiM6qVavGjSafTwQSgRWGQBLWFVZhmd1EIBFIBB555JHOzTff3PniF7/YueaaazoHH3xwZ//9958ZMItAVh999NH1pPkPf/hD56qrrur89Kc/7dx6662d17/+9Z0nP/nJnc0333xmGGTEiUAisLwIJGFdXvwz9UQgEUgExkIAWf32t7/dOfPMMztf//rXO7vuumtn33337ey8885942EhRfgeeuihzoMPPtgZxWLqGQFZ3WKLLTqbbbZZ54lPfOJ60tg3sR43xFXSfujBzqOPPNrjiQ0vSfNJT3pSSTfIchy33HLLzh577NHZb7/9Otddd13n4x//eOePf/xj57WvfW3nGc94RsnjhrHlf4lAIrAxIJCEdWOoxSxDIpAIbNQIBMFcu3Zt57vf/W7nk5/8ZLGsPvWpT+287nWv6xx55JHFwtgPBCT1lltuKe/8/Oc/L49xI0AKkVAhCK0jUuwdJDMI4mGHHVaIsf/HDffed2/n5ptu7nzjG9/o/OY3vynpsoYiwuJDRpXRdP/9999frj3nOc/pHHXUUcXdwf0grI5PecpTyr377ruvc9ZZZ3VOO+20zl133dU54YQTOgcccEBn6623HjeL+XwikAgsOAJJWBe8gjJ7iUAisGkjEJZOZPWHP/xh5xOf+ETn4osvLtZEBO2YY47p7L777gNBeujhhzo33XRT57zzzuv84Ac/KOQw4kVcBST14YcfLvf8H/eR2mc+85klvaWlpUIm3R8nrL1vbef666/vfOlLXyr58G5YbR2DsEoTYd5uu+06pv0PP/zwQlibaSHZrMonnnhiucXKevbZZxeXAASYe4RnxBdEtxlH/p8IJAIrC4EkrCurvjK3iUAisIkhgHCxOt58y83FDeCiiy4qFsrjjz++86pXvaq4BAyDZMsttuzstttunYMOOqi8i/xasMUP9re//e0GhHHbbbctcT7taU8r72y//fYdRHXnXXYubgHD0up1H4lEqllNkWLp3nHHHR0WUqTSoikLqEz1s56yHCPJyKzQi3gi2k9/+tMLaWW1RVgvuOCCzjbbbFNI7j777DMRue6V/7yWCCQCy49AEtblr4PMQSKQCCQCfRFg+TSNf+4553a+/OUvl2nzt73tbWWhEXLHt3RYYG180YteVBZnIb+mz7/1rW91Tj311GKtrd+3eOmVr3xlByF+9rOf3dlhxx06q7ZeVSyWo6RVxxXnO+64Y3FbeO5zn9u58cYbi5U4yoJgIsQvfvGLOy996UtLHpFl77DuDgqIMGL6rne/qyy+4tPLiot0s9LCJ0MikAhsHAgkYd046jFLkQgkAhspAnf94a6yddU555zT+eUvf9nhS/rGN76xkLFxVsWzSPqxmCKlrJpr1qzpfO1rXysW3ICPlZNPLP/RNreLQi5ZeVdts6q4B1x66aWFWNrhAAF/zWteU8qEXDen8VlYheZ115Do5xz0nM4pp5zS+dnPfta54YYbyu4JLLrHHntsT5cC72VIBBKBlYXA8KH5yipP5jYRSAQSgY0GAQufrvvudWW6m2XSVPk73vGODgtkTJdPUlgkjwVyn2fsUxYoIYJ+rltoxQrLsjuLcP/a+8vCMWU75JBDOh/4wAeKNZeVlUW1FymN/PXLj3wj8q94xSuKawFf3wsvvLAsNOv3Tl5PBBKBlYVAEtaVVV+Z20QgEdiEELDPqAVWtrFiHT300EPLRvm2shrHutoLMvE99SlPLcRVXBY7+f3+978v/q333ntvr9emumYhFcvqV7/61bIN10knndR52cteVs57EdVxEttpp52KT69dAvjo2qeVvy/3h7DQjhNfPpsIJAKLhUAS1sWqj8xNIpAIJAIFgXvuvafss3r55ZeXFfP2GI1FVtOSVQmwSnIP2GWXXTbwg7377rs7t99+e6dtwmqB1fe+973OGWec0ZGGzf6POuoVxVrMXWDagIBzL/DlK24N3Ce+8pWvFLI/LRmeNm/5fiKQCEyPQBLW6THMGBKBRCARaAWBehre50fja072FfXpVRbWNsiqzCKsFidxL6gJo6l6VlbW0LYCC6cvUlnFb1utv/iLv+i84Q1v6Ka9Z7Ect0EoxeHjCSy2FouxFvNnveKKK8pOCG2VJeNJBBKB5UFgRRBWyo7yWZQgLznFtCi1kfmYBwLaOzI1z3Zfp+W8/n8eZW4jDXkeR3cFcbOB/ne+/Z3O97///bL1k9XuVvnzYW0rIL7Fj7W7yr5e6MR/FWG13dU4eR+UL3FZwc9ajHyffPLJ67fYGvTeuPeUyf6sLK3Iq3Ig/Sy7ix5WYvtedEwzfxsXAiuCsM4C8lQOs0A140wEEoEagSCg9bVB56yeAmvkNddcU3xJWT+RMBbW2hI6KJ5R7smbXQBsC2U6PfKKpJqyt0+qBVjTBuTbIqj//d//LZ9QtfsA1wZkOdKcNo36fb6sLKx77713yb8vfH3zm98sac9C78egZFpDxjRYyMO8B5Q15nmeCMwDgRVBWAlyKPK2QBFnrbyc1//3S8cz8jKNcukXd15PBBYVAe2d9Wqe7b5Oy3n9/yCcQpaHHQfFMc69ZjrNdyfRXdddd12xCiKO9iM98MADO0vdVfTSaivAk2UVYXUMVwPE649//GPn17/+ddnzVXqTpOsdca3pbp2FrJqeVw4LrfiYToLLKGVXlv3226/8nN95552F/K/52ZqpLMZRz808NK9PglUzznH/D6zHfS+fTwRWEgIz2YfVYoHf/+73ZSoLGBRTfH6vCU4t3OsE/7Gp/4cffqQoGIrU5tL2Dhy2kXQz/l7/G/FbOepHoUZn6Fh3ynUHKW++0BLPW6xgJN9GfnrlMa8lAouEAL9G07qITMhLLSv98tqU6UcfXWcJohMs9vGr5ayOx7ump6VrwU4dNt98s65e2by+tMF5pCu9CK55b4cddhyYbjwfx5giv+eee4oVS97lebPN6IvHPisazzvSE7XFC+m0sn8UkiY9hNWeonDnDoDosUiKN4hlnd6k5/LDh9VXpiy0ik+zInk+ViAvdB3s+tVTv7TFRcdedtll5UdX2j+WpXhWIfKJEPtSlvbFF/j6H13fueFHN3Seuf8zJ8aPtdlCNL69cBFgEm1xFHweeeThbrtY51IWdRkL31i5Jw3RJsP/GO7yU+dJPrXXOsDr0UcfWZ8n8Whn3CmQ/QyJwCIhsGHrbSFnBIBi8BUT364mAKaxOPc3BUhyno9fKHiC7JqtSQigaSuf9Dv++OO6o+b9p84ly4E9+vg2SQOZ9pNXSkN+QwHUeWTtoLTcf+ELX1g2uqYUMyQCGzMCZPFXv/pVWd1te6WQF7IScuIYgZyHDDvGufuxxyeZtlE8X8Z+wcDyxz/+cdmD1Kc8xSNu+UF+dKjxfx2H+3QJwhQ6xTVBnl/+8pd3jj/h+M6222xbv9b33NZS9NmPfvSjQlQQRhjQA/LhGOlEfqKcjp61R+jb3/724r/ZN6E/35AeayRyJH6fH31Gd4cAGMOgzSC/dDOCFwQVVgYIXALoR/8HfuOkLf/XXntt0bV8SV/3utcV7OdBhJAumCHjsPz1r35dBgGvfNUr17ebccriWSSVT/H5559fsIp2oE1Fe6jlIOKv2y1ctWttU9sgB77wdcIJJ5RP1/Z6P+IZdhSfnRF86Ys7SXNACXfp1SHyoZ+N/Dz/+c/vvPa1ry341c/meSKw3Ai0TlgJ9Xe/+90iNDa6JqyEmUBQ7BRkv0BgCH+MXkN4jf5/97vfFZK4337TE1aKmVDHF16is5Ev+ZMHHUV0PvIuT/6XJ8pQfp71rGeVUXy/8uT1RGBjQEDb1+nbjug73/lO6Qh1dGQ75JvM6CARGzISREf5Q44cBfdZHMnRIMJ67333rtclfCDJaegScZFRcQWhci1kGSlw7ppn/OQPOXNEnkYN0j733HML4QkraxA48QdhgQUdB5vQYdJSTvkxFW7B0bBggRC/S+SGpWuvvfYqxMt70mszwMXsFWInr8ogqD8kE2nlC+reuMH7Ybg46KCDyscBEONZhsAHznvuuWcpl3N9C/KMuG637XalzsbNhzokB5///OeLjzFMom1F3YszMJQXP8Rdu5AHbcM7cc8snbZiEGUG0b1Jg7gN8L7whS8UuQkZiLYqD9qqtKM+9W2eE1yTH/XGBxjhz5AILBICrRNWwoDI6RD233//IqSml0w3UX6mUwhurxCCRHB9Vs8UWoz+fWPahtBthKc8ZY/O6tWri2JZ0/WvYj1iPY2OjwAT5AjyRanrPOTN5wV9USUFOhDK48aIQHR0OtGnPPUpxeqC2JBfU46/+c1vilyTHeQq5Ie8RAetEyTD4dJDhvzPanjMMccMhG3rJ21ddMnRRx9dSJMOmS657bbbyoBRmkgpgiBt6UaedcyIosEucixNsrtP11+TZXeLLbco73nHb1BAGBEKBNlg12BV+eGgnHWnj3wgSFFOq/p1/tL0/ihBGmHdlOelpaWCn3eH5XWU+OtnxOdTqabOg8S4D0dESx3DuL5Xv9/v3Dv8Vg1wYMCi7atWbee/X/rSUQdIq7an30HmGFG0Pe1j3LD1qq1LXdqOK/x7tQXn+rfYBixIZxBXR20k2mC4wmifCLxFaHt0+6RxMW7mX7rai76Nm0H0bdx45EF7jb436kGanvUevLR1fRs5yZAILBoCrRNWCvy5z31u6WAovIce7grJg+tGlr6Ffdppp3V+8YtfbEAIgeI9BFXH8MpXvrJYLgk45U/hEG6C1UbYc8+9Om9961s7r371q9c75J9++ukd0446X4HCNn1CoZj+R5hZCeTFj18ZAc+QCGysCESnpnPff7/9Ox/60IeKD6vyssCRl8997nNln0sddgSyo2NkDTW9aIN4R50ieY6pSQO/SCPerY+eJXPeo0sEnS9C98UvfrF8LQmhiqDzRWrFTwf5jrz9PskpskifOEpX3IPSjjgdn/e85xWS86Y3van403J1uuSSS8oWTQhLkGQ6jL6Q9pFHHlneo7PoNWkOmwoXD/2DaBg0w53Fyw+WswhIzk477vQ4EofgyIvBgbqErWtBxoblxezVmWeeWfQ8v9VXvfJVE5HEYekMuk9/h57mB62uwk930Hv97m2zapvSngwg7r9/bbdN3lewQVRZXe0xq21qg82ACCKmyKQFYfqQzbfors3oxqlt+H9UbJtxx//ay37779f5m7/5m87td9zeuf03t5etxNQDy3BYUrV72Bh82iqNuwrjEvnQXuXHIC9DIrBoCLSmBSkzgkDoNHqN37VQ5gpulMldgJXEtEMdCBBi+Hd/93dlCxcEVVzipCwd/doIOg6jfoIpjxY0sLLy/4lFJe7peFhGjDh1RDo+efLTgThmSAQ2dgTIHaJn1oNcCORmqdtxIwKmrxFHz4VMkHvWrVNOOWXdBvF7djen32KdS1A8R64HWe88h1iKR3z+97wtnsgrn9IgrHFP3sgqknziiSeWgTMi6X6QPunWesk7g4Kyi5NlTPr2+DRNjrQjrggdnWIGiDUYMWFVDauldKU5LMDUYJ4eCpJI58BdHmYV1JlBgXzCCTbKyYIdlkTpR90Oyod3Ee7PfOYz5Xj44YeXjfzFP++gTljY9UWCMsG2nj0bJ0+w0U9pk+pKfMrrHLnne8zyrg8Ror2py/BhNnCLvs0z2sUobcOzw4L6QYD9tJv99t2vWEzJCou9o7S0S/kwkEBYyReMvB/5iXbgmCERWBQEWiOsGnbduKPh1wU1ijONjrQ2g+eN+FhUCE8dV/PZaf8XN+GMaSGd0VK386WIXGcRYVGN71wbpVM+7mVIBDZFBHrJNysM2QlCAJeaCCJaFpQgd/0I1zCZki7CGcE5XcFihYz0CvJl8IvYkuk2gnyEvlAWg1wLQa+++upi/aW3+OMirGFBG1a2Zr5Y5lg0/ZAqZYUtA0DEBV95aTsglAYjLJCs2dLhr4vgIWSjBO8gbmeffXZZ0Eqfx2xZ5H+UeNp6BmFVLhZqAXE0uDLIQujqdjVOmvBv9m/c4LRJLhARPBfY6ff0f/Izi/qr03SurfqZ2id/2pE8S98spgWAvpoGGzjMMk+RtzwmAtMi0CphHZYZHYnRXS9FQdkRbsd5BUIqPYqMotVhEGi+Vqwz8d3u5VC288Ig00kEpkEAKSDPBnQsTgKZIjOus0jpKCO4V3eO9Xk8M+woLR1wTYLreKXLiiVv/cIk6UZc3lW+ICN8Ivk1+iGrg9KNOHodlYF1LvxjxYOswnDWgV5GWKUZ7hdIs5kwujFI36B8mHK2i8R5551X8KE/kaJ+A4tBcbVxTzuRth9s6XkfZICvttqrH5o0Xfj1ct0ImdBe/KZpd5PkTXtC0M0GIOn6NrMeZg3JSIZEYCUhMFeTIWWoo6FImoFCoUj4A0VH0Hymzf9DcUiLLx5Fa8GEbaqOO+64ItAsrZ4LpdNm+hlXIrAxIMCKw4oZ1kfy4keeDQCRn9qnL+RumrKLA9nw6xUfeUWe6nSnSa/5Lj1h6n5Nd+qbLmOxssiUFW1SsiqNIKym4uU9iHdbVuJmOer/6TozSfIPUz95oJORvGEB3qyXdpKwf+xLXvKSskaAlRVRW46gbpB9fY6gXSDg2mTbfYyBBYNMTYLhp04FOCKNbadbIu/zR1p2nLDLBbJuVoAhhntCktU+oOXlhUZgrpqEEiQoW271+I6GcCGrHOPnRRApE9NeF198cRFsis1iidWrVxf3hOVStAvdYjJziUCFADKFFARhJTNhUdVJNglr9epUp4iVNIOwBskSKf3BOjgrcsBi9a1vfausOud2wLJ64LMPXO9+QK8EURmnkI90N3AXN0LsfTgqY02CorzjxDvKswgrX8aacIeFdRhhhTNXgksvvbRz0UUXFZ9bg37W5mgXo+Sh7WdgJX2W+MCNxVGbbLuPkYb+I/BTf3X7Q5RjS7S2y9kvPn6rl19+eRlYmTm0HsNCY9bgDInASkRgroQVQKWD2/qxDi5Ao0AoEqS1bWUSadRHCoVCtuKXkqVMTJeYxuKLFArOMTrg+v08TwQSgXW+cjrpWkZCdoKwzkKepceCFrM1kaY6QRTI9sOPPH619iR1VpNPlkSLaxBWFjNbc/F3X9XVaRE8X78T14cdH+1+AYkeineR/3kNmtVh+DNGPlkI71t7XyHRca15lFck0Ib6trFS53ZnoEsXwYqnndTt02BgVoOZeqahiROM5klY1cM3vvGNste4Nqs++BMblCznIKKJS/6fCIyDwNwJq9Edn6La/0yGdTJ8paxkpChnGShZabAKnHXWWaXzsWsAS8nBzz14vaVklnnIuBOBjQEBnR8LaxBHchzyixzYEQRBaDuQYWSudguoLVplWv2hdvSIeKXnZxHSV7/61c71119fLIhcAVivamI5CdEUty0AYRZxhfW6Hgy0jWMdn2lt9Yn8R3nvX3t/cQnoN+hQt/Y39eVAuzYgRccff3whv/Ugok5nnuew00b0N8qkHAic87YD/PxCFur4Wc7NHs5CFup0nGuv2qkvcjHImAUwsLIwLEMisJIRmDth1bn5NZUwRaKTMQqtO55ZgEuRsuZeeeWVZV9YHYQpLO4AO++Ue6vOAvOMc+NEABmoLVhKGWSABZJMty3P4rOdlSlPBCAIViBMl7gexDmuT3qkq6QhTkSV5UoefL7SbgRNXTZpOiysyJT8w7C2IE8a5zjv8WG1s0NYRkMncwlgTIh6reOMaWdTz9wKbJWEIC2KFU/dIP7hVqEMrI/cL9oO+jVuAZFWHb/+ZhauCHUaca583Ny+8pWvlLzwseZTzMc2QyKwkhGYO2Gl1Px0cnXQuXBMpwDbmsqr46/PWTF0PD5hx6Kr07EdjXwJvRRz/X6eJwKJwDoEdNIIDoJCbkJ2HMmZqdC2rUoW9VxxxRVlkQ+9EemGZUt6yEFbhDXqOiyJP/7Jj8s+q6yJbQVlQIKRDecIsoG047wCS7FtymL2Sz5gGYthm/lAYpF3rgDyiazykexF2Jrvboz/9+vblJUPKwurAcmsgvoSv4VWPmSgfuyDu3r16vX7J88q7Yw3EZgHAnMnrDq48pWP7si3DpQ1a4yOhqVhlsFm2JTsNddcUxzQTzjhhM4zn/XM9VaBeXYSsyxnxp0IzBoBRBXBCbLYTE8HSrbbCnQEkvTNb36zDG7Fq6OuA8sgstwmYRWfNPlq7rLzLmUBC0tiWyEIKhxD/zz6p0cLds3ytZVmMx4WVqv6g7DKh7pDWH3BqZkPu6vQowb9/HhP6H5+dVEsq1G2aAsGAoIyIdSbb7Zh/xPPT3PcZtt1X2SsLe5RlzHb0GabbOZVXZl54OZmP9il7t7iDDFcAZoGoua7+X8isBIQmDthNS3R3P6jBopFRufQZifXjB9RpWgpMxaBo456RWf77dZtzh0Kpn4nzxOBRKA3AgiWKddehJV1TkdNztoKFjyZ6kSS+AvG/qBBrqQjTb6zbVqzbNnkc6PImxkZ7kNtkzNEClkMFwQDdwRnVrqwWSfWF/DlZ1QIPYjoKTOrdk1YuQlYrMqah+T6stjTn753M8pl/1/bU4Zog8oQPsJtZ447mb1Oa8IaaahDxpggznG9zSOL6lVXXdU599xzSx7sterDHeo16rPN9DKuRGDeCMydsPLx0dH0mjaiTBDWWfn66EC5Ath+hQI2An3zm9/c3RXg6T073HlXRqaXCKw0BJA21psgrDWpQRxrwupefX/cshrIIo0W95i+9qUpBKHZGSMFdAh5byMgbHwCpcsKiazaSaTNoAzhbxnlUQ6/aTAbJ490MjwR1rD0St+6ArNSQZxZuS//2uVl8Rny51O0Lz70xa0T+HHy3u9Z2CGr8g5X5Yqy9Xtn0usGG71mD8UnH9pkm4OoOp/kTN+GrBpM+Ky4erErQC8CXb+b54nASkFg7oSVUoz96pojXYqFDytfn1lMndgVgO+bqT0drRGoL7E4j05ipVRc5jMRWAQEWFfL3spduW4GhFEnHbI8jYzp8G+88cZCkpAPcsvSWROEIHb0SJuElRsAvaEcvr0u3batq7BDLGAZBAO5aYt0N+um3/9mvxgUlC/IHoKKBCm/a4jR/176v8WK7Zv0fHlZF4PQ9ot7Oa5HGaJtIJUGWM2+p4286du0x3CpqOPUJvVrrKBt4yQ+uwKYebDdmlkHu1f4XHCvvNT5yvNEYCUhMHfCChyEtTmNqDMj1Lb/YNEwsm8zsM6YvrKalQP8wQcfXPzQbLE1TUfaZh4zrkRgpSGA2OikexE4JIHlp15EOYmsicfMiyloLgFL3ZkRVk4+pDFT45kgJXQHwtqGDuFaYEbGgivpHnHEEcXKOot6gg2yWBPWNsowTl6RHTox6hOmSDMLKwLNR/KCCy7o3HDDDV0XgKcXshq+vIH/OOnN+ll9inwjdXDddrt1m/s/YbN1W3e1mT4STBb86qBepa9f045jAFc/M805C7i+zXZrBhcWWnF1U5ezIObT5DXfTQSmQWBZCCtBophj9EegoyMzAp3F1lZcAHQ8FK1vZhuBmlLMkAgkApMjQG5NsQbJasaELDzc3Q91GjKjg7/uuuuK/CKoFviw7PHN83+TACB5iPKkZC/yimTwd//6179e0kEEpBskuVnWaf+HJbIYg3nlMtCetByT5IdLAHcLVkg4+MGBXr7ttts6l112Wfmpc6vPWbrlV94XjRzJNwIn77CUv9123W2dFXsGi66Q4FhUXGMPG+n7KE7bfRtC/pOf/KTUCT/rvffeu3PSSSd19tlnn5m107pseZ4IzBOBuRNWChBZRVrrUbxCUzCEum0La/G56lpW7btKwHV43AHkI0MikAhMhwCyOoiwTrOIkk6gD84555zOmjVryjSnhSR8Sc3UIAjNgOAhBpNMpwdBky73JD6BrIrcAF72spcVMtdMr63/ESpk0fZIdCOSg2yxFs8rGMxbRFVbCeXDzBcL9xlnnFE+uEKH8pH0fATEbJGCwZK2A8MIiJw8w7ft/G6x+RalX+NWIW4/7UnQ73AJkJ96xiHyNenRDAB3FTOH2o89V/0MONou36R5zPcSgbYQ2KKtiEaNhxAZxddTX94NwY4RMQFvI4iXDxply4eVVdWG3/XnV9tIJ+NIBDZVBFgc/XSYiF4dkB3E0bEfqa2fb577NCgrp9kRlryXH/ny8oUp5/ViL+/V6dMfk+gQ+kk+WWgv61oTTbPSVau71sT99tuvmb1W/5c2qzHCCk+ECyHhwgRX5Zt1YOFt7uJiAMBH8rOf/Wwhf9ypfMJ6qesiscikCH5BEuXTjJ488xOeBZbiNIjy04a0+QjqzyDKz4xDG0H7tn2VdooIP+95zyufxZX+ItdLG2XPODZNBGavARu4EtymUiRcfshl2xZWo+svf/nLnWuvvbZYDVhWfVc5BbpRMflvIjAhAogjixwS2Qysq2R6HGsnPeBHV9z+m9s7X/rSl4qVk+we9tLDihVLOqxkvdJ0D8mahLB613usq/azNA3OonvIIS8sesv9WQXT7CyABxxwQCmXMljsxH92XlZWmCLNSF2tl+XDgh555E6FHIVL16zwmDZeup/PszpUFmVrbts1bRr1+wYZBhssuDUh1o4FZLXN7da4udm9Amk1yPBpcYsC67Tr/OV5IrDSEZg7YY1RqI6ml2AZmVLULByTdjhRKeK5rDv6tEjAaNeUnk6PQs6QCCQC7SCgo0YGHJuBDLJ0jSPLQZQQ3au/cXXxIeWbZ6/P5hR0PCv9OgTpra+Neo5Y2KfZVOuzn/3ssrBo9933KK9PE++w9JWFNZdbACylhXQhObW1blg8096nH2N7K3lQh/Lmmo3oLTxzvujBIInl0UInRFuetZ8ttpzNxCKMkPiwsPbCRz2OIwu94nBN/8j6z79aP6pvW92dBWjKQb/383oisBIRmDthBRKySjGzzDQDobcilWtAjEybz4zyP6XAGf3MM88sI2xWC9NYz3jGM9K6OgqA+czCIIA0LHIICytS0AzIahl8jvntdu9YIHnpJZcWXcB6ZJueIHLSkZ60XWsSOu8jegjfOHqERfimm27qnHfeeeU91kRT4OHTST/5zSqI25eJ+OgiP9wBYoX+rNJsxmsGDGmlp6Oszi2wOvbYYzu77b6hBbH5/iL8T/+rf25giKv825uUW8dWW244uGkzv3yq9W29Bm/yJD/yNa1M//CHPyyGmF/84helTPo21uMMicDGjMCyEFbCbBRqNBgKMUAmyEbFrByTjkTF4f3LutZVI1BpsQo873nPLeeRVh4TgZWAQFNGFi3P5Bi56uWj+tDDf7awPjyeTzodwI3HdCcrJ+sRIoWkBh70iHSlj5TWJACBNY2OMNfXB2EnDoSC5erb3/522RHAjIxp3l6zQYPimubes599YGep62uJZCHeSIlp7XmF3buEdI899lhvrUPWEb23v/3thfSt2vrxC93mlbdR01l7/9ryOVnT5izE2glXMAvKepHJUeMd9hwZQFql1wyIswHItBZz7ipmDe2cYfGyNsoVoFeazTzk/4nASkbg8SaROZSG8t9hxx1KB0TIKGVBZxSjUKtSCfgkQshKYqEV3zfTQVaz2rfxaU/bc64dzxygzCS6CAQhQWSc33vfvZ1f3vbL0q50VshLPLOSACMnZGKHHbbvkqZ12/HMkziNilVYWHtNRz74wINl8EiWRw30AQuSz0yqU9PQBx544OMGuNIzGKUjDFDrID3WVfU/KmYI7g9+8IPiF+gdizOfse8zes4E1Wm1fU5Pseoizayra7q7I9isn4VwlmQryrFTd+p89913L7jCGHllaS4fCOjeGxXPiG85jnfdeVf50ASyrwws1iz0tdV4FvlaJ687FCKJWAqhewyeEFaDsXGs/s188iW+5JJLSv/IFcCuAAZVMZBrPp//JwIbCwLLQlgJ1rbbrPtEq84uCCtFiFwYgRLqcTq5qBCKwDY0F154YSGtRtTHHHNMsdJQVhk2PgSCqCqZTuHyr15eLBAIizYUnUN0HCsFAeVisTHVZxshP+Rh0QISRbZ01s0Af/I9zmyJFelmRm6++eayq4fpTtOs/6+9e421rKjyAH4GRAWah+DQpqXby6AoPpqABhh6MtMKMYIPFBBaEg2JQ9SEGP1g/OAH56vfTJz5aIIYIk8FBAmiAmKiNIrGYBCHAaSZCKMIw/B+OedXzbpdvdnnnH3vPa/bd1Vy7j737NpVq/5Vtepfq1bVbhIl+bL+ISTNIF9uReF/2bzf/J98yI1Xv9qoc9xxxxWCdsC6A5pRJ/4/LG1qcpIJ0vOnP/2pvBb28f97vHfoIZPzv9c/tDlltvmLVZUsrHenn376KzYTTRyIZWagv8ONSxiCqI04Hcakp62NLjOb1sf0VxvW4mir0D0i+25cM77Vv7cm1PKjZ1jauas88MADpY7ed/L7yia9aUxkWkTKnxKBqSLwyhFmStlb3qtfQ0hR+giIBmtHdOogGnF/mIiPPvZo7xe/+EU5Bkc81tWTTjppVWwSGFauvDccAW1DO9F2kJ3vfe97pQ3FIOzpaEfDU5q/uzaK6Av8r+eRsJp0WgZtIwMIo778/PPdLKxIpqVOR1lJl1XvLW95yyvIqloKohyDdbQB90x8rbS4DgvRJqzEcD9gvWK1ZVFE2NrKNCy9cd1DrlhZHQZPNq+lvec/7+kdesLkCGvIbgKAMG/btq0QPpZdn+aEIeLP21W9ww1hVf/r37C++N+aALS5rYxTfu0FWbXBC14xhkUeTzz5RJlIxf9dr9qpVQSuAM5cfe2+ry2W1ROOP6Hk1zWdjJcIrGYEZkpYYxYaAMbgYYBr+rC6N4qwsq7d/fu7y2HfltH4vtmsYTlotSjbwCKv3RGIduNqgAgLhzqPe91Tm03MQXIqg/IghG2WxNlIu3uuluQLYd3nlepEn9SXn3tu9KuWYaDfesGHpXCWPb7ng0gGojoIF/kiv66sp4PSkKf7rKpcEKzOnHjiiYUMIB/uT1N3yI+eY1W3yYkfr9duOtoKiZ/kcVK1fj3qqKPKq29NOGAXk4Lda34+/+NO9pvf/KbUqT7z1qPeWvxXp9F/5GHDGpeKtnbz7DM72+WLS9yEqB1bcbjsssuKnzUXt619v+6VbrSK9hY1KR8TJH1HWfjILsctL9LLayIwTgReOcKMM/Uhaa1bt38ZiEMR6jgxGzWAsJSZKQsUaa1M25L1rOUSs0+WElYSZJVlIF0B2hDbs34LYkHB8nlknYult2hXo9rQrBAhu0+E+O5qsGBVRVRWOjhF+uO+GtiKS0D/TT/NgPAYBLu83Qex3b59e3HlsQLDN+/www9vJrn4P0KpnuOYosBNhHAJkKYNOFyQ2gJS4fis2267rZAcljHvYUc4tBdtR7rTajuRj3rnluBVsMi0JW4+rdwjnCIwjYCoDiL608h/OXnE5IPPr+V3vp02Wx155JHLSW7Jz2hP+gIXFu1TO6wDi29ZQXziyYFtso7vuzKZwHnbmzagTzitIXxym/GX8r/2TWZtnKwmRvqCNhcbuuieNvK9lHwybiIwDgReOcKMI9UOaRx00MFlJhqzXh0miIUOarcuS2vXwcKskDXC+YkUFVeAj33sY4UUxyDQQayMsgoRUL9Rx9qTQd5ntQf9wEARZZvX8iBXrMDIYx3IjTCy1rw44pQA/ZwF6eb+yR78DvVfPrsxoa3Tje/umZi+5tW75+u+wbeQ1b7/7N9e2jUZiGfjSucgN85cFd9ZrzZbhVVploSNK8TWvhXNBrRwV+DuwlVhlnIFdvN41XbU5V133VUw4rsaJz1MQ15tXpvkxhNtN/qvNm4C5+1bJtMmRV3CY//7WCnTlVdeWcZDbWLLlvG4uUU74meOpF566aW9K668ovffD/53IayMQMi+/h3l6CJzxtnzENB+hVm2g71mBeu+++1bnOHNQiMEIAYRgxwLa/wWcQZd+St5/arBh6/SWWedVa7RIQc9l78nAvOKgLY7S+XQFRdyIquDrDCId0xGB6XpZIebbrqpEA39l3XVIDksyNcEJYhBU1ewZrk/LB3Lx46xQpa9nIB1lXVsVqEug7rnnoC8W2ZmZfOKWpvD6nizknUe83U6jD0MSKEVCUvnm/vHGUYY1Q4j3kqu2pyNXm39QV8wtvl0DQ8/9HAZ29S7yQpDzIYNb2xNv2uazXgv/e2lYr11+gC3OgYghh9uKKyuiHaGtYsAAwAdbWIzy7YwM8K69157l4HBbDSsSMgrJU0ZmykbTCwnjgqP/PWRoqRYWFlGLJdQ9KthsB9VtryfCMw7Avpt2+AcclNyo/rxr+/4dSGO0tmyZUt5HSq3gGGB/6ol/KZl1zPyNOiGW1FbOvQMv1WEVXBE0Dvf9c62qFP7ramzvPWKGwBfXvLaFGbjzSwHjamB0TGjIKH8j6+//vpikTZJMflgLd9/v/0XUxrWThcjrfCLiZS22eaKpj1y70AGuwQnZjjxxjK9/vDpT3+6967N72pNu0t6g+I88/QzZZMa2eCpHepXC/3zgLkk1YalQWnk73smAjbBfu1rX+ud/6/n977yla8Uw0LT1WVaJd9l3pxWji/nQ3Ho1GaiOgMFHDt6KWZLJpboRjmnA+6Xt/+yWB4oAX5ffBgp+gyJQCIwHQT04bB0yrEmXvq2gdq1jhOS6bcsO95X/+53v7tYxVgUR5EL96VX5xVpGnTpExatCPRKHdfRQHzeuR/x02PVfd3Br4voc3FlrfOWPsSLpcsKkqVhv9mU1UaK5kLwKQoR7YSFnjuAyZGTYWCGcNV1PkmxgjjrC8a1sOxH/tqf9mgy1cXCytc1zlz1jAlVWQE44MCxl4m82tQR/ePM9EdklTvFRz7ykd4BB6Y7wCTbzbylrZ3SnXQrHuYYtcsvv7zsEXLihs3yeNYsONZMCSunbgMTpRyMnfIBmCUdHWeY75t4lkkMdnyW+A3p0E4HMMvNkAgkAtNBwMqGQS/6skFa/xSQVYPvs88920pYkQwfG2QMyg7r79J/EQMDq2tbQA5iEty87x6rlSVPliv52swU5KcZf5b/Iz7HH398j7WNX79l74suuqjITde1WZhnKe+081aX3AAMqtwmbEZCtPixa4/TCkFMtd042qrO233jHBJgfENwB7U3ZeKmwgXEK4q5NzhmzLnig9p7nddSv2tDJkD6rPz871g1K5XebBZlW2q6GX/1IaCuQ//iVfzm+TJb9WZkpMtDt0+7dO2afgpS6KjcAQwWOiCQoiPqrDELHba7WBwDnYHH8zZpWDqLme0UipFZJAKJQB8BxKAmrPq3fiyweOmrLzy/+5moBmzWTcu4BnCuPI6yOri/IbNLCMUaeqP5jPx9KFdxBf9TxsiAiS63AZZVO8ln6bvalL3+H5aO5rNyZNXp29/+dnFjYA0j80LfihgDTP3cWviOANq/YLMQIm8HvZccGAe4i8wiaI/GoLb8TaBYV8vqYb8tDiKsyIFxLca2rTZa/dOWiU1OyIEMcz9BXPUXxiQEZZCMs8A285wOAuo8Ji9WdkyUBe2BZXVWk+TZEtYD1pWZaAw4QDKIAcryYdsgF9Ulnpmgwc6bYCxfOGScEs+QCCQC00UAYWVlDeKkf0YIwtp070E2nLnKymmjFSvnUsmX/NrcDOQtfTqELqktbeS5uX8aAZ93livkxksZ5nlgNkCQ8aMf/WghO16MYakOMULQbBibZ/mjLYzzqh4Nppdcckk5HcZAyrKKdCFfs8JDW0P22l7yYWwjNytV7SKjv4S82i2/QSfe8CllMebe0HUit1yM9SMYItrkJI9rhrWHgHqnO//whz+UlW5tEk+ziu3UiDhFZdrIzIywmsEd2PfFsXQSHVWnZQFxD0BlGbHfudsCywgLiQOiWXYMdqwk6dPVhlb+lghMDgH9FaHS93yPEIMdxWeQfunFXSRWP7fE7WxJ9/Rfk86l9l9KlPKUb+QX+UuXJeu5/lu2grDSMSxyN954Y3FVYE3ij7UaVmVg7ED/T33qU8XVgc8m/BANhAbpj3IGBnvqVd16m9V3v/vd3tVXX10wQFZ9GC0GTWImiUe0fZMolu/w8dMu454roqpdsrSyWAl127X8qm4dZ2Z8ZFmf5jF9MR6TK+T2PcPaQYCe5F5DV3Lp0j7pWRNBE+dZ9C/oz+yUAJkbnAwU0UFi+c49nZqvT5u/hHisMgYd8RBVy3ptM1ppZUgEEoHJIWBQ2+fV++xmYa0HaX3U4Bz+pO45W/LWW28tvoeO6kFY+bAK9eA9SmqE1aDfpkDlS9mGK4J0vSSA5Ypvlk0mTiSw3L5aBmaElNznn39+74wzzij679prry26kHvFWgj0P1LnGENWZkT+nHPO6Z199tllMIXRUtrQuDGTN9JqfNM+/V/Lox8grMa2CLEyob3yGbTyIB43NyuHiGvEiWfymghMCgG604TQRlj9jX7kwrlp06bO5wdPQraZElaM3cYrFlKA1B0bYI4pcbRVDHQAwPz9dvHFF5dBB4BmoNN6+8skKiHTTARWOwKvfc3OlwcYoCMECQxLp6tg9eS+e+/rXXPNNaVvx9ubwkIbz0U6w67ICj/4Nsus/JACJEDw/913371olXSgvE1Lbc8Oy3PW90zw6TtHHH3yk58s+tPSHYvIWgjaj822ymyJ8oILLuidd955xS3CxMU4spQ2NAnM9APt0iBPlpCHbMY2Pqo+dXAPSbjuuuvKIf4sxaeeemqZoNTx8nsiMGkE7B1iXbUKRm9qv1xF8C3telZh1+gyIwnMhnVqioYiEnRcxJSjbzinhyLyP1cAs1CK28HQ87xhYkawrulstR+THFef1RxisGNdiZWIeSyPARp5rK1A5IW/AZrSixUUfnmsnDaU6L+nnHJyUYJRVzG4dymn/Ex8gyh7NtLRBuQbbcGpIzf3fVe9NYrVygfhWY1BGa0ofeLcTxSXBvqSS8BaCMYMbwFD1g2eJh11m6m/zwIP+Wv7xjUf45i2H8F3Kw6xkSV+5zpj1dDqISOOF0YY2yZVHm0m+oo84hPyLOcqvUjT813TrJ+L5+NZ13GFOp+u8sUzriFLyLYSueAvSDd0e6S/knTH8axVKSs2VqToUO1xob+5k/+qFa1ZyTlTwoqE8vXxUWkRfDfI2DlscENkDUqAYyH51re+VcB8//vfX46xsqSXYe0iEIoXedF2+DffeeedxUL/zLM7rWt7/d2uxYRZdbal1pB2TzlYKmdtQVD0mXkM+ify4CrAOOoldkUjrt6WYkOJSadlTsvab+j3X4RzOfUCDxgFYa2xYVllYYUjMmAXueVzvoU73xa0YTeCXT87798Dq3X7ryuEVbuP3+Zd9pXKp5/T+fqDMs9juZFq/dYKooEfIYn+oF1aJfSpAyMMn1xE1thmQtX19a11Ol2+k4VcJnHaDnm55+nDJp7DgvhCG+7GbEYlfU6aym98b8at26vvnmFxhk2kT5cgSmSS1kqDiQI3Q+ODPJRTmZvywSbaFc5Bh5CPHgtsWBs9V0/QyVeXa5i88FH/T/X14QsvvFisl9KTfhOrYenUeXbNu36mLW3lR1RZ+/EwgX5FWI1DzTK3pTGp32ZKWHVig41ZKBBUYgTgayA+0dGRVw72sbvXoPO2o9+22Iji2byuLQRidqqdUJiO/XHMjU4XbScQWaoyiOdmeTVo2VTjdcPz6vqCOFpaj7qo8VIH+rYB48EdDy4e1r+1f1SPQdk5j8sNFKl825QoZUt/GHT4YrFeaR/ydb7katho1QWXGFy7xN1T4sx7mffae6/SLo1tgj4gkNvEDTEziTLOuWfp9Yorrujdf//9hRRwk2FFHre+ktejjz3au3377eWEHS+iIIfJ49FHH136hjN/Y8NYW/7xm7TIr88jdFYunIXLVUO/Qzad5aqPeyGINPVJukIa9IETfsjgBQkmlPqn/ipN8WDAz9xxd5ajY0JcwBzyp0ne/O9MW+4WjF70kZMcyMd//thjjy3kOsqDpHqxiDLhG06jQHTJjFR6jn8xueqzcdv0HzFDHmMS/3kvLPGWPaRVeo5jI4e9OIhhV4IuXXLZoCddEzkb9EyW4DcowN+E5aGHH+o9+0x/Q+zL7VN8+EtLmsHJoo79HpOcSJv86sbkpE0PR7xxXGdKWBXOTMWA3FZQjcZHpQBJBRt0gMtv1e5eJw1EBxoHIJnG6kZAZ6P8KRhtZ08IBjeK3SAwr8FAggDafGWgqpc7yW1QVB9//OMfy+BkKZ51lVVhkJIfVlY6QaAsDbah4ON39+gJA4yJ7v19IrB9+/aia+RLoafegFKGSSCwz6v2KYQo2lm0S1eEFcFj7fNd3+Aig8RoxzvPQj1+7BMq5IPV7KqrrirjKPJIPn1Xv0RGnLrDEOT4NEe+tYUgN/qt8ujXjpe88MILS7/Xt5Gle++7t5BRLg6OXjv33HNLftKkE2wsM54jqjCgC1jNTUL9Tx7nJducifBK45//5Z97hx5yaJtYu/0WfZt80rI5jyGDLmWxDZKHjJKDMeDjH/94uWf8IJdNfTb3qROyIZWe5z/tdA4nOagrJ1N4U544gwJ56HArS2SBN32J7Mrv5peP2VNmL4hAOocRzsgHwSeHVWfEX31+9rOf7X34wx9enHRE3PqqzkyQHI9nr1DUqTgwU05px+/aK0xMLNSP35VJXPr3S1/6Us+egGEY1Pkv9/tMCauCm4EqcBth1aF0Mp1aw/EObRWt8X7wgx/sbXjjhtalwOWCkc+tbgR0IErAUUVmx5aYtKE6hCKrf5vn7+Sl1MzkKaN5DZSrgY/rRczKQ1ZKzUSCQjUgUn6WPFk1lkNWI13XvV+1dyHIbcqdHAYmg8Add9xRBlabWLQPg9Bqawt1ufP7fCOgXZu4GcDrNq7N6Q/apn5gYhckEkFwJjCL5OGHbyzPiSuMo63ed9995bW+SBPZjKGbN28u4ysy53cWRfLSNaeedmqPy0kz1LIoB/mtaDEqIbvGZ2XzGyLOBYgeZpxCClkZWTsRNxZGVkGEz+kXrHT6pjH/lltuKWfsmmzS5XQI/c63t8a0KV/9P+KFlCJ0nvdyEnoHSUPYyEc3KIcysxTecMMNhST7zRm4/Ij5blrJ8RsL7Xe+851CtBE+Ew8kk4V00AbOR/76SMHXCrGyiIvgKa+JyoXfurAQYSSZHIj7KJ90bcNGyzhtRbqwRfKR9EHBcybyOBfyDqNoZ56Bk7qUlrr2IRPDIvwFzwthdFTuul2UmxP4M1PCqoAK2uzUUU6gGHBUAGav4QHszDPPLA08XxkXSOUVAtqTCZBlFSSP0oyOVXem+vtqQI5SUR5KY14DTJFGk1CDTR0MLqycrAiW5g0KXqGsXKE46/hL+c6Spc4Ncs1ADhMXvoGuMCwHsPcnyKutDTTLlv/PNwJhjDG2aWsIgWu0OwQOwbB8jqSwQiJuVg6dtRtL3/HsSkobxAY582ZI/W7bJ7b1Tn7fyUWnIGFWL91j7TPeetUtorbuiMGEVbr6NcLlGZNQVlB+jiyoJorKhdC6jwha4mdR9V3/5JqDpNs4Z4meDgkyCg871eWBYCLT8oIPHSKw9EX8JkZ0C0LHL/i/7v2v3plnnFn6P/IpPfLRDSyf9jw4eYgM6kS9IcZke/Nb3tx73cGvK/koMzdEsiPbJgGINUzXv2F9b/O7NjfFKOTxtl/cVsqszk866aRCcJVDO0EMrRTveHFHMczhOdwNRhFWxFJ9wddkJ9qKFvyoqQAAGopJREFUyYh0o801BRIP77Lh1ZGCJk2w8rt2aXWSa4e0paFOTELoTjoUSQ3Lq3y0Ve4k0Wab+Y3z/5kSVgUx0CChgwYcA5yBTodSsWYmGpKZiTCoUsrN/LPmENCZzAR9MkwPAcqOYqMI+aWH+0IoUVYSClC/pYwteRloYkKxXEkpTHnKuw7yNRAbUAwSVnH4wnk5gXsZEoFJIqCNGcCNbUGo6rFK2zSJQiIRVv3FMvwJJ56wOLaFfCttr4gNK6KlY5Y3y8WnnXpa6RPyIJffkRVExETfuKvfIJ+DgnT1L0TX+G31ApH0nR4Oa6n0pWl15aKLLiqrpH5DzpFcB9G3kR1pIUKW7JFWH2SXLgnCOkg2vz/9zNOFKHueGwGC5jm6wiQXyfRdmVkUlYPMSDWMWLoRtFq3qItIC55WfhFe/ATpPmLhiEUrZMhGXnWsvvm+SlvcCLAI7LUDJLvLEXWW9aUZccnGRcpb7+jEYUE8Fm0fOjgIK2sriy3rcwRtmL7m/rDQ96+lc+W10nYZ6S/lumvr9FKeGmNchdd4zAqaQSUyv3MFcOVTo7LjNYTuq+wMiUAiMHsEDFIGnubkkzKkVClYAyALuMFC8MxyQihMz8cA2UyHFSSOZpHv1v5mK5aTDInANBDQNrVzfaImrfJG9ljy+H6yIrK2WaJfeNPCbgRpHHKyJjpCDglFxhh8TOAi6Jcmk7GMHH1rFCFhQLIxh/z6l+VzREgIEhTjs/Iidk7psIRuOZzvp02kbWQ1ZIOfNGGJ9CoL4hohcI3/4yrfxx59rBB1xNtEFcY1kRMn5CMvuVhYcYwg3zVZjbRdLdmzTuItcEMc+cjzb61DTBZ++9vfFt2DNL/jne9YJHvypxutJNNXAgIdctVpNb97xoQBJgKMuF2wTNOJo+ov0hPPs7gYTsVyHBi7Z7Mc/126UzyYd0078hjXdeaEVYM48KCdr2htgqAh6AxmVYIZjwrXgAPk5jPjAibTSQQSgaUhQOFRlDHwxdMUMEVI6RmoxnnSAeVpwKNImyF0hIkusspa0xav+Vz+nwiMAwFtDQFiodI3hCBJSOL9fcubZWntl+8n32pxxzmm6XtIpTFUPlY3mlZT+0JYClnXBH2Y+xHyMygE0eKfyipYZD9wl+yWmZUxSJj+H/9b6fjQhz60uLwsj8ClmR/CJw3Ps0rLy2dUEB8R5JKAL3A9QH4DW7LEpjdpqSubxZBVll8rdOIOIo6wpFf23W/nCSUstIxq6rQOyCQZkG16j88wv2Bp+ygLdwnkk8zS1WZ8RgUTBvWmHII2xlqt3pai5+jQiE8O5Bs+gt/pbe4JQVjLjRn9mTlhBdb+++1frKxNDMx6AKcizN6iIUUnAGY0wOaz+X8ikAhMFwGTz7CGRM4Uvj5qMDBQ8Qmj+AYNBPFc1ysdIM/aEhI6gW6h+J0m4qiesOp2TTvjJQIrQcDRViyZXGSCEER6iBiSo43yabQ0bqUx2m7EW+kVCeWfyYKKeCButZXRGMtdAPFBnuRPDkvnSNugfooII4SsxMom3dhT4hllY9lEMgXpIuMIs41XiBViHOm73yy7e9IwAZYfrDyD1I0KyB8rIfKFwPHHrcvN5xOZVA+CNC3XW/amq5RJ/iFfMz9yFF/RvXfumIedMku3foYFlCuEskufZTYCHmOy4H5sfCIH7Ef5r8IjLKHqEHZkssRvskEf1nJEnsOu6kqa2kLgAnNuEqys9Oysw8wJK5ANKhpJM6gUZFVH05A4/kbFNOPm/4lAIjA7BPRTChwZrckjifwfZzwu9H2ghObgVH5cxh8KFSGIJU5yRKBbWDVMdMdp1Y3085oIDEPAhkDkw2DfJKzav3aLmPBdZZBp9pthaXe9x48TidIX6s1K8bx7Nh4hdwgUmfhtIlfIkzG4LSBJiKRycNHziT7tiojZvBPH2yGL4ng7mV36QX7imbY8kDhuBGH5Db9T11FBWVgLkTCWUDjDQEDkuAoh8UHMYK/MrM8Rj27xaQvSlYe0Io7f4BkrTLBDiv0vfzow9JQ05W0jGSt14HTIoYcUt42a2Lbl7yxdq8/wQc7hCFN6Djkm0zBs29JUp+T9/e9/vygPfarelmq1bUt/HL/t0u7jSG0ZaQBWYzbYNQHWGBBZbgB2FdczpGVklY8kAonAhBDQjylMg1wo8MiKsrZZ0qAcg0HcG8dVfvKVP51hoHDly8V65cicSZCBccieaey5CBjP9tt/v9I22wirsY0/qZWHSbVPfcKReAiQlYaa7OkjrHuWpIMUsqYhViyg5G/KXdcWMm5p3yS1JmLisNLx52R1lI7xnR+pFRZlbY71dbrxXZwggEgZ3SEfhGxUkIcyOF+V1ZF+iCDdkA9RFFcZWCYRtC6yIatNCzK9E0RWXvQSP1fuHiYLtSsGcuh5G8Is7Sufutq0cVOJ5/uw8NSTTxWyKg35iq/uamLud6GpjwelS/Yg8uLAgTERjnW7GfT8NH6fOWEFKkDbjuzRiOym4/emsnWwLo1pGsBlHolAIrA7AjGg1KSUorPD1KCMQE4iGHBicwZfMXrCAImoxhFnk8g300wEhiGA/Kw/bH0hEk3SgFwgcFwB2sa+Yeku5R53OysMCFE9mdRHkFSEiTVUvyEvYqu/Lry8EjIoL32u7Irvj8vGZP08xucnnnyiEMLwyxRXebkNjCKbkYZ8uTKwICKHgj5NLha/CHX8+M1VWcNiisyRIYIzUW1AQxQ9775y8y+NeHiJcg3iG7Cz3A83IeLC0NnQEWD0poU39V69z6uL9drv8kQO4e74sLDyKh9ii+TWBDvSqq+IdmzW8rv4ONKRR/5DqUe/DcLGvbYADzK5RkCAbdTbf90rN8VHnGleZ05YY2bQ1pBjs4SZYT0IThOgzCsRSAS6IUDZN/31Nm7aWCacrBz6+iQCMkBhGzQoaR9uRKy6BowYhJaqwCcha6a5dhDQLhldEJGa+OgHrJM2ER973LFDrZgrRUu+bWMrQsYNwIYsS9ZkZb1c6BNChCn6zKD8pavP+USfC1/Kx//38bK0HMvc4WZgAqnsNRbN9N0L2SyX86kMwspazV2hdh8clFYtXzOPv/z5L4UIx9K9skoTWfQ9yuO5QemTiWzIpnILrNGwjldNSycwKhGqP0ihjXCIs8mEwGfYGbGW3wflK548uTMgrLEBjdzqbd26Axbbkzodlo60IgTmrOLIdDwX7hRRpog/q2u7g8YUpQGqpX4ztHoXn0qzfGDJZJQ/xxTFzawSgURgAAKsC/pyKDsD4D+e+I9lw5Olpfh9wOPL/tlAUZMC1hy7lll05BthUvlH+nlNBJoIBIlBKKL98Wm1CZCrmwPpZxGQktodAGFBtkzwwh1gmFxNUqds4T5gud1mp5oQImNIemAwLG1xEFsWVi4BrJlI72F/f1iZiA4yXoVMrs1Q/8a3lv8n+eQlPUSYpRsfEUaRPZZfy/HIprSVnYw4TKTRlCH+94xy8V1lhfY83Ylwcpuiv4YFct/fP40AYVWPwaH4r5ogReiCdcQlA5kQ1iDByqPOtItRZYp0Jn2dOWFVwFft86oysAAbMIDScSyXuA5qoJMGJ9NPBBKB7ggYlPVdgbJkLSgHgx+5c0dw95SWFpN+oORjwFzoW4m4EVnKSt2xNCwz9ngR0A+4wiBg2qdJHFcA1lVvUJoVEXjq6afKmyORHtZChIk1zXiLXI4KylUTovjfFZnzYWGVLp0Ag1FELPJEnhE5x0RJw//hDqBv1/nGM0FIQ474vXmVFjKt3OEGgZBJN1ZpIo22fKQnL6+ZZqFGGAXymRybjEQY9DzCKn9p+C4e7sPCawleWxkWEFbuCCy8ZBEftvGs3wKPYenU91htbbjiw6pM6k15kGhHd81LmLlLACD2fe2+xf/CDEHnYVF1iLJTATSmDIlAIjD/CFD4Bj0fg5TDt1k6Dz5osq9CZdVFjukNip/Pnny7DpDzj2xKuFoRQEiRQP6FSARSEe3TeZyzCMjJjgd2lPNBHRtpSds4a7MV0rSSSR5CiPTYbMUySidYLUV8YjI7qsw4gLNLH9jxQOEDCB2ijx+w+A0Kgwii+HEPEUYWlZusVnaRTJPbrpMHz3kRgPNPYSnATxk39V2gRgUk/P6+hdSyfgTWXTJ00VncCTyLcCsX/add0btRzki3y1W7VF/SlLb/EVaTjEJY+/xsXsLMCGvMAACsUesozmfTsfm7ORVgUps05gX8lCMR2JMQMCCxHp155plllu5NNvpwWD4nVVYK20YR+QqOCbIxY9L5Tqo8me6egwASZPPPGWecUZahkZKtW7eWyZUxcDkEY6Xo2BSFEPKhRA7JwZpmOZrvdx3cQ2L0MUR2mLzuIT4smJaVPesZ/qHG9K79kQXRUVt8TVkgpUGP4Ajh4iNt91yfe/65sqmpdruoy1B/567gg0wLiBmyyNrdJSCriKrzZ6OM6phcyrhhwxtHJoMsx4Yt8gtwRw7rJf22hOSPcDfPkOXGwa0h6scVmZY++ZRzECGPNNVb+B2rK5b2I45YGGjxlbY8PB8rCG0yj/O3uSCsgNSozz333GJZNesx+HVt4OMEJNNKBBKB5SFgYDGofO5znysJsDqEAl1eit2eki8L6xe/+MXiXmSDwCDl3C3FjJUIjAcB7Z/l67zzziuTOG3V4O53A/40+kddkkK4+r6Xt99+eyFu/kdm9FsW1npFE5m1tC/uMcds7lvxNi1aX5tyS0ef2/HgjnJMFjInDhKJENY7+2t5mt/liYzZDIY8WZ5mAWVdZcwKTgA7efBHtTRuoiwf+Q0LLJtBqMUTnwWYf2yXgCTz/eXrifSSA8lEOE1GRlmRxUfqY3OTPOHmeaR8lDsAPJBdVmzEXghCD6eoF1ZzfrrItd+lb9IR98uD1R8kWLowj3rb6de78yUKVdTyVTlYeLltkOPt73h7WUmL+mnGH9f/MyOszQHF/yp7VIWPq+CZTiKQCIwfAQprlJVg/Lnu3KFr2TBDIjBvCCBFo4jUtGRGsu69975CCJFMwUYhb6BCCkNOhAQRvPjii3s/+MEPep///Of7hPCwRcJayysuoolsPfSnhwohjOOeEGBkiY9nl+C52267rZAtaSJPlskRUsdD1QG5+sY3vlEI7pe//OVCPEP+Ol58JyeiiITHcjq+sdD3X+2iszyPJN94440lT+SRfCyRznu2yjMqILws1ghiEE5EksGOLIMIZaT75FNPlgmBupG/8jLwwRhxjcD14aqrriquCzavn7PtnIHcCrlFgE0UYCpNbYLFOPBU9lo2eZssfPOb3yyYfOELX+ite/u6xQlFyDHu61xsuhp3oTK9RCARSAQSgUQgEdgdAdY9FsJ77rln8QZLGj/b1//9rjdyIYuOXLrllluKbyMrLMISn8WH+1/8FpZBy+02IyFjyI5JJAtz3K+fa35HihBJrgrIE3In34U+oUSenKggDoJlKdobmVh/LbGToWkEa6aPrCN6SKe0ETxL+SzLXeSDifLJE+mUBqLreT7zSCf5RgXyS8uEgdxd3C0izWefebaQXWUQkFX1x4e1DghofWyW8gV2dTzfkVTtIvxx4RJW7bCYkrMOTkj4yU9+0rvuuusWrbL1/Ul9T8I6KWQz3UQgEUgEEoFEYE4QQJD+8shfCtFDKgVWPT62C31SaPNzBATGOagsgdwFLMcPI3WFbPZ9Y+ud/fJD6PhXdrGwIrl8QxEtJEqaLH0sl1wKEFLECYlCUn/2s58VK6P7Nlwit8OCJW9v9ZK2ID65uAQEMWt7PkgoksrabHd/EHJE2tu+YEi2JrFrS08cZQmCbQ8PS/QwGSId+LAQs3AK6oSFF1kWEGHyxsRBugv9uvUCCSGs6uWfl/+YHHCTgKlgoiE9RDwsrC9HLRdlV8+33nprwfCUU04Z2T7q51fyPQnrStDLZxOBRCARSAQSgVWAAAvaww89XCymQVwQHm94QvhqwsSChrCyeDrtwwtAELwgb83i+t3JA/f3fURrMhX+k23Ep5nG0888XcgY6yDrpcAdACkMQua3ILY///nPC+He2t/EhrQFARSnLSBxXAI8H4HV1fmjwwKs+IKyTF9//fXl/FW/IdFeu+qIsnoz2LC0yAjH+IiLwMKnxr8tDcTy+9//fplwBLlkDVV2OAvShb9NderbZCPO1ZWP+82gjpUv6k0c5Tnk0J0vMFC3Psrs6jSBH/3oR8WtxHnCji5k6Z1GSMI6DZQzj0QgEUgEEoFEYIYIICxIR5BB/7OwIie1/yML3s0331wsnQiPFxwc0H+DErLlmbaAyLDa8msMQohsOoaKlbRL+NtLO5f7Qz7PeJYFNKy7QZhuuOGG4rKAMB3T3xDWhTApFzIcy+kIHQuyJf6wOFuul0cdWGQd8n/FFVcUksaKaUf/OeecU44oq09CGYRPpAdD5BKuLKvy4m/KVSGW5NUROSKIg6DK36t0WXrFEZBcVuLwwZU/QnnHHXeUe05+qN0FBsnn97jnql2wuNdY+O7Vrddee22xbvObdbITl4RRZDvKstJrEtaVIpjPJwKJQCKQCCQCc44AUoEAIqhhjSzEpH8wfBCOR/76SCFFLGiI42mnndZb6C8pswAGoWkrJoKFKCGEiJf0+a8iNQcetOvtS23Pxm9IKUuq3f4REFGfkI+V8aabbirHXonH+rt+/e7W4Xi2vjrKK5a9lYt88mNV/NWvftW78Uc3FqJdEzcEjWuETWCXXHJJ2WylbEe//ehyohGyhngGma7zG/Rd+uQ+9thjF4/tREYt9cNP+uJE/SDHSOLll19eiKJ64BNsMiAe4uoZH0F5kFrPsLw6uaA++aFNLhMCpLMm/coOp8DDd2nayMUtQn04qs2GrqWUvy3/pfz2SvvwUp7OuIlAIpAIJAKJQCIw9whY6mUNRJYsp9tUZUnczn7L5QgTa+OPf/zjsuzNsooQIjKIy6CA3DgLNayryKu8kE/L0QcecODQ5yNdFke+slwULL+zJLJukouslq7JjUwjdMi00w1G+ceS78//8+fiv6q8/kfUN71pU2/j4RuL9fKySy/rvfTiS73NfWsteQWuAiyV8HBFCr3MCCb8Vkf59Ua5mlfW0OOOO663te/KwLLKusv94pprrikkMc6QZgnmYsHarV5MNryqHi5IO19a5eGbywLsOb6lV199dcHfq6kd9xfktylH/H/Y+sN673nPe8qJAsqMJHOdIBMiqz7VLZ9V+Puf3yoM6slFpDfJaxLWSaKbaScCiUAikAgkAnOAANKJYLCKITaIH3Ly05/+tBBU5CdIp6X2s88+uxCeLqK/8PwLhdCxAMbueycPWDr3W5cQ1kOkDBm78847C2nkN2qzFMLqbFHWPoSJhY8VcRiZli+Cyh3As2GJRFiP2XxMeUGRvFhRL7300kJMWYYLye0TSfkizEgmcowkI/LI+CgiOKjMLJJHvvnI3llnnVXcAfib8iH94Q9/WE5HWOhbtMVRXlZNpJVV/PTTTy919/j/PV5OFiAjIn/XXXeV48dYs1lq/bZly5YiJ9/kUcEb1xBx5eSeACenSDiyyoQDZtJEYk0OpO1NpOScdtj73/ph2plmfolAIpAIJAKJQCIwXQRYPlnqED0B2YvXlbL2IWsI7ekfPb3sfO9KypAnpCtIDQKE1BxzzDHFV7NrKZFWsiFoLHnIqXQRJsvz7iGr8Ta7UWRVvtLYvn172bDEgmgZXTqIsU1TSLUlbhvNuA3ER1xHTjkBgFXVm/tgE8vxXcvUFi/KyUqLDCOCJg+srZE/kg0DGG7btq333ve+t8htCR8RtdTvPp9hz8FIWVlLkXn+q6zWXYL8Ya5snkGW+ff6SBfOcFCn3kKKrHbBvkveS4nzd/2GtruH8VKezriJQCKQCCQCiUAisKoQQHQQIkvJ3AGQJWQVeeOXibgI6EEXYiIe/1VHTSHAfCcRpkhnOeCwArOyklNgHZbuUW89qscq2CWQy2H7//Hv/9H7+te/XiyYnkPqPvOZz5QD9W0uQopZU1k0+ckGsedCwcrIetnVUtxFrjqOJX6WbZZUJBlZhLn6sCTPRSImGPVzCDyZWVXJLKg/BJfc9Ua6+rlh31nZH3xwR9/S/OtCghFghBqx9mIJluXwJx6WzqTuJWGdFLKZbiKQCCQCiUAikAjMBAFkFRFH5r761a8W305WVMvtrIQXXHBBWTZvWiG7kvSZFGqNZ5qnBKzxBpDFTwQSgUQgEUgEagSQtpUEz8dnJems5Fn527jETcHLCFgPBQSVpZDVtG2HexeL8krkWu3PrrRtrKT8SVhXgl4+mwgkAolAIpAI7GEIjIu0LTWdcZIh/reWxbkocCtgbRX4avLBDF/UyDOu81CVK5XF8ytNYxAOS63TQeks5/c8JWA5qOUziUAikAgkAolAItCKwHJJzXKfaxPC5ipnnP7ud78rx2Pxx5R++KWOOp+0Lc1p/bZSHFb6/LTKudR80sK6VMQyfiKQCCQCiUAikAjMNQI2ltlM5dgq1lUWR+4A3r5lI5WjrSIgt3sqyYsy7gnXJKx7Qi1mGRKBRCARSAQSgURgEQHHPTlPlIU13AEQVrvekVUuA0FUk6wuwjbXX9IlYK6rJ4VLBBKBRCARSAQSgS4IsKg6Hsr5oY7Z8ppS/3MHEBBUm7Acv+U4L8R148aN5dimJK1dEJ5tnCSss8U/c08EEoFEIBFIBBKBMSDgNaVXXnllz9ujnGeKtDodwOtlkVVuAd4M5bxTh+U7LeADH/hAIaxjyD6TmDACSVgnDHAmnwgkAolAIpAIJAKTR4AbACurj8P/N2zYUCyovvNp5RoQV3G8DMAzaV2dfN2MI4d8ccA4UMw0EoFEIBFIBBKBRGCmCHhrlKV+LwjwRiZENd7MxLrKNYClNYJzWF//+teXjVjxW17nF4EkrPNbNylZIpAIJAKJQCKQCCQCiUAfgTwlIJtBIpAIJAKJQCKQCKxZBGqr65oFYRUUPC2sq6CSUsREIBFIBBKBRCARSATWMgJpYV3LtZ9lTwQSgUQgEUgEEoFEYBUgkIR1FVRSipgIJAKJQCKQCCQCicBaRuD/AfqINrizx1qgAAAAAElFTkSuQmCC)\n",
        "\n",
        "![image.png](data:image/png;base64,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)"
      ],
      "metadata": {
        "id": "BktnX5a1f2YV"
      }
    },
    {
      "cell_type": "code",
      "source": [
        "class MultiHeadAttention(nn.Module):\n",
        "  def __init__(self, d_k, d_model, n_heads, max_len, causal=False): # set causal mask as an option: False for encoder, True for decoder\n",
        "    super().__init__()\n",
        "\n",
        "    # Assume d_v = d_k\n",
        "    self.d_k = d_k\n",
        "    self.n_heads = n_heads\n",
        "\n",
        "    self.key = nn.Linear(d_model, d_k * n_heads)\n",
        "    self.query = nn.Linear(d_model, d_k * n_heads)\n",
        "    self.value = nn.Linear(d_model, d_k * n_heads)\n",
        "\n",
        "    # final linear layer\n",
        "    self.fc = nn.Linear(d_k * n_heads, d_model)\n",
        "\n",
        "    # causal mask\n",
        "    # make it so that diagonal is 0 too\n",
        "    # this way we don't have to shift the inputs to make targets\n",
        "    self.causal = causal\n",
        "    if causal:\n",
        "      cm = torch.tril(torch.ones(max_len, max_len))\n",
        "      self.register_buffer(\n",
        "          \"causal_mask\",\n",
        "          cm.view(1, 1, max_len, max_len)\n",
        "      )\n",
        "\n",
        "  def forward(self, q, k, v, pad_mask=None):\n",
        "    q = self.query(q) # N x T x (hd_k)\n",
        "    k = self.key(k)   # N x T x (hd_k)\n",
        "    v = self.value(v) # N x T x (hd_v)\n",
        "\n",
        "    N = q.shape[0]\n",
        "    T_output = q.shape[1]\n",
        "    T_input = k.shape[1]\n",
        "\n",
        "    # change the shape to:\n",
        "    # (N, T, h, d_k) -> (N, h, T, d_k)\n",
        "    # in order for matrix multiply to work properly\n",
        "    q = q.view(N, T_output, self.n_heads, self.d_k).transpose(1, 2)\n",
        "    k = k.view(N, T_input, self.n_heads, self.d_k).transpose(1, 2)\n",
        "    v = v.view(N, T_input, self.n_heads, self.d_k).transpose(1, 2)\n",
        "\n",
        "    # compute attention weights\n",
        "    # (N, h, T, d_k) x (N, h, d_k, T) --> (N, h, T, T)\n",
        "    attn_scores = q @ k.transpose(-2, -1) / math.sqrt(self.d_k)\n",
        "    if pad_mask is not None:\n",
        "      attn_scores = attn_scores.masked_fill(\n",
        "          pad_mask[:, None, None, :] == 0, float('-inf'))\n",
        "    if self.causal:\n",
        "      attn_scores = attn_scores.masked_fill(\n",
        "          self.causal_mask[:, :, :T_output, :T_input] == 0, float('-inf'))\n",
        "    attn_weights = F.softmax(attn_scores, dim=-1)\n",
        "\n",
        "    # compute attention-weighted values\n",
        "    # (N, h, T, T) x (N, h, T, d_k) --> (N, h, T, d_k)\n",
        "    A = attn_weights @ v\n",
        "\n",
        "    # reshape it back before final linear layer\n",
        "    A = A.transpose(1, 2) # (N, T, h, d_k)\n",
        "    A = A.contiguous().view(N, T_output, self.d_k * self.n_heads) # (N, T, h*d_k)\n",
        "\n",
        "    # projection\n",
        "    return self.fc(A)"
      ],
      "metadata": {
        "id": "51Jxva1Uf3HT"
      },
      "execution_count": 7,
      "outputs": []
    },
    {
      "cell_type": "code",
      "source": [
        "class EncoderBlock(nn.Module):\n",
        "  def __init__(self, d_k, d_model, n_heads, max_len, dropout_prob=0.1):\n",
        "    super().__init__()\n",
        "\n",
        "    self.ln1 = nn.LayerNorm(d_model)\n",
        "    self.ln2 = nn.LayerNorm(d_model)\n",
        "    self.mha = MultiHeadAttention(d_k, d_model, n_heads, max_len, causal=False)\n",
        "    self.ann = nn.Sequential(\n",
        "        nn.Linear(d_model, d_model * 4),\n",
        "        nn.GELU(),\n",
        "        nn.Linear(d_model * 4, d_model),\n",
        "        nn.Dropout(dropout_prob),\n",
        "    )\n",
        "    self.dropout = nn.Dropout(p=dropout_prob)\n",
        "\n",
        "  def forward(self, x, pad_mask=None):\n",
        "    x = self.ln1(x + self.mha(x, x, x, pad_mask))\n",
        "    x = self.ln2(x + self.ann(x))\n",
        "    x = self.dropout(x)\n",
        "    return x"
      ],
      "metadata": {
        "id": "viLskcs6hnVC"
      },
      "execution_count": 8,
      "outputs": []
    },
    {
      "cell_type": "code",
      "source": [
        "class DecoderBlock(nn.Module):\n",
        "  def __init__(self, d_k, d_model, n_heads, max_len, dropout_prob=0.1):\n",
        "    super().__init__()\n",
        "\n",
        "    self.ln1 = nn.LayerNorm(d_model)\n",
        "    self.ln2 = nn.LayerNorm(d_model)\n",
        "    self.ln3 = nn.LayerNorm(d_model)\n",
        "    self.mha1 = MultiHeadAttention(d_k, d_model, n_heads, max_len, causal=True)\n",
        "    self.mha2 = MultiHeadAttention(d_k, d_model, n_heads, max_len, causal=False)\n",
        "    self.ann = nn.Sequential(\n",
        "        nn.Linear(d_model, d_model * 4),\n",
        "        nn.GELU(),\n",
        "        nn.Linear(d_model * 4, d_model),\n",
        "        nn.Dropout(dropout_prob),\n",
        "    )\n",
        "    self.dropout = nn.Dropout(p=dropout_prob)\n",
        "\n",
        "  def forward(self, enc_output, dec_input, enc_mask=None, dec_mask=None):\n",
        "    # self-attention on decoder input\n",
        "    x = self.ln1(\n",
        "        dec_input + self.mha1(dec_input, dec_input, dec_input, dec_mask))\n",
        "\n",
        "    # multi-head attention including encoder output\n",
        "    x = self.ln2(x + self.mha2(x, enc_output, enc_output, enc_mask))\n",
        "\n",
        "    x = self.ln3(x + self.ann(x))\n",
        "    x = self.dropout(x)\n",
        "    return x"
      ],
      "metadata": {
        "id": "zsppZILOh1Yd"
      },
      "execution_count": 9,
      "outputs": []
    },
    {
      "cell_type": "code",
      "source": [
        "class PositionalEncoding(nn.Module):\n",
        "  def __init__(self, d_model, max_len=2048, dropout_prob=0.1):\n",
        "    super().__init__()\n",
        "    self.dropout = nn.Dropout(p=dropout_prob)\n",
        "\n",
        "    position = torch.arange(max_len).unsqueeze(1)\n",
        "    exp_term = torch.arange(0, d_model, 2)\n",
        "    div_term = torch.exp(exp_term * (-math.log(10000.0) / d_model))\n",
        "    pe = torch.zeros(1, max_len, d_model)\n",
        "    pe[0, :, 0::2] = torch.sin(position * div_term)\n",
        "    pe[0, :, 1::2] = torch.cos(position * div_term)\n",
        "    self.register_buffer('pe', pe)\n",
        "\n",
        "  def forward(self, x):\n",
        "    # x.shape: N x T x D\n",
        "    x = x + self.pe[:, :x.size(1), :]\n",
        "    return self.dropout(x)"
      ],
      "metadata": {
        "id": "jg3GYwkxiXRg"
      },
      "execution_count": 10,
      "outputs": []
    },
    {
      "cell_type": "code",
      "source": [
        "class Encoder(nn.Module):\n",
        "  def __init__(self,\n",
        "               vocab_size,\n",
        "               max_len,\n",
        "               d_k,\n",
        "               d_model,\n",
        "               n_heads,\n",
        "               n_layers,\n",
        "              #  n_classes,\n",
        "               dropout_prob):\n",
        "    super().__init__()\n",
        "\n",
        "    self.embedding = nn.Embedding(vocab_size, d_model)\n",
        "    self.pos_encoding = PositionalEncoding(d_model, max_len, dropout_prob)\n",
        "    transformer_blocks = [\n",
        "        EncoderBlock(\n",
        "            d_k,\n",
        "            d_model,\n",
        "            n_heads,\n",
        "            max_len,\n",
        "            dropout_prob) for _ in range(n_layers)]\n",
        "    self.transformer_blocks = nn.Sequential(*transformer_blocks)\n",
        "    self.ln = nn.LayerNorm(d_model)\n",
        "    # self.fc = nn.Linear(d_model, n_classes)\n",
        "\n",
        "  def forward(self, x, pad_mask=None):\n",
        "    x = self.embedding(x)\n",
        "    x = self.pos_encoding(x)\n",
        "    for block in self.transformer_blocks:\n",
        "      x = block(x, pad_mask)\n",
        "\n",
        "    # many-to-one (x has the shape N x T x D)\n",
        "    # x = x[:, 0, :]\n",
        "\n",
        "    x = self.ln(x)\n",
        "    # x = self.fc(x)\n",
        "    return x"
      ],
      "metadata": {
        "id": "CQZDMVsXidHT"
      },
      "execution_count": 11,
      "outputs": []
    },
    {
      "cell_type": "code",
      "source": [
        "class Decoder(nn.Module):\n",
        "  def __init__(self,\n",
        "               vocab_size,\n",
        "               max_len,\n",
        "               d_k,\n",
        "               d_model,\n",
        "               n_heads,\n",
        "               n_layers,\n",
        "               dropout_prob):\n",
        "    super().__init__()\n",
        "\n",
        "    self.embedding = nn.Embedding(vocab_size, d_model)\n",
        "    self.pos_encoding = PositionalEncoding(d_model, max_len, dropout_prob)\n",
        "    transformer_blocks = [\n",
        "        DecoderBlock(\n",
        "            d_k,\n",
        "            d_model,\n",
        "            n_heads,\n",
        "            max_len,\n",
        "            dropout_prob) for _ in range(n_layers)]\n",
        "    self.transformer_blocks = nn.Sequential(*transformer_blocks)\n",
        "    self.ln = nn.LayerNorm(d_model)\n",
        "    self.fc = nn.Linear(d_model, vocab_size)\n",
        "\n",
        "  def forward(self, enc_output, dec_input, enc_mask=None, dec_mask=None):\n",
        "    x = self.embedding(dec_input)\n",
        "    x = self.pos_encoding(x)\n",
        "    for block in self.transformer_blocks:\n",
        "      x = block(enc_output, x, enc_mask, dec_mask)\n",
        "    x = self.ln(x)\n",
        "    x = self.fc(x) # many-to-many\n",
        "    return x"
      ],
      "metadata": {
        "id": "7LYiJVxmixSQ"
      },
      "execution_count": 12,
      "outputs": []
    },
    {
      "cell_type": "code",
      "source": [
        "class Transformer(nn.Module):\n",
        "  def __init__(self, encoder, decoder):\n",
        "    super().__init__()\n",
        "    self.encoder = encoder\n",
        "    self.decoder = decoder\n",
        "\n",
        "  def forward(self, enc_input, dec_input, enc_mask, dec_mask):\n",
        "    enc_output = self.encoder(enc_input, enc_mask)\n",
        "    dec_output = self.decoder(enc_output, dec_input, enc_mask, dec_mask)\n",
        "    return dec_output"
      ],
      "metadata": {
        "id": "NpGqcSUfjGhP"
      },
      "execution_count": 13,
      "outputs": []
    },
    {
      "cell_type": "code",
      "source": [
        "# dummy test:\n",
        "encoder = Encoder(vocab_size=20_000,\n",
        "                  max_len=512,\n",
        "                  d_k=16,\n",
        "                  d_model=64,\n",
        "                  n_heads=4,\n",
        "                  n_layers=2,\n",
        "                  dropout_prob=0.1)\n",
        "decoder = Decoder(vocab_size=10_000,\n",
        "                  max_len=512,\n",
        "                  d_k=16,\n",
        "                  d_model=64,\n",
        "                  n_heads=4,\n",
        "                  n_layers=2,\n",
        "                  dropout_prob=0.1)\n",
        "transformer = Transformer(encoder, decoder)"
      ],
      "metadata": {
        "id": "BVLiihU9jJRz"
      },
      "execution_count": 14,
      "outputs": []
    },
    {
      "cell_type": "code",
      "source": [
        "device = torch.device(\"cuda:0\" if torch.cuda.is_available() else \"cpu\")\n",
        "print(device)\n",
        "encoder.to(device)\n",
        "decoder.to(device)"
      ],
      "metadata": {
        "colab": {
          "base_uri": "https://localhost:8080/"
        },
        "id": "GhpJfTOPjfwd",
        "outputId": "347b6a2d-8f1c-42ee-bf7f-14c12189d1c8"
      },
      "execution_count": 15,
      "outputs": [
        {
          "output_type": "stream",
          "name": "stdout",
          "text": [
            "cpu\n"
          ]
        },
        {
          "output_type": "execute_result",
          "data": {
            "text/plain": [
              "Decoder(\n",
              "  (embedding): Embedding(10000, 64)\n",
              "  (pos_encoding): PositionalEncoding(\n",
              "    (dropout): Dropout(p=0.1, inplace=False)\n",
              "  )\n",
              "  (transformer_blocks): Sequential(\n",
              "    (0): DecoderBlock(\n",
              "      (ln1): LayerNorm((64,), eps=1e-05, elementwise_affine=True)\n",
              "      (ln2): LayerNorm((64,), eps=1e-05, elementwise_affine=True)\n",
              "      (ln3): LayerNorm((64,), eps=1e-05, elementwise_affine=True)\n",
              "      (mha1): MultiHeadAttention(\n",
              "        (key): Linear(in_features=64, out_features=64, bias=True)\n",
              "        (query): Linear(in_features=64, out_features=64, bias=True)\n",
              "        (value): Linear(in_features=64, out_features=64, bias=True)\n",
              "        (fc): Linear(in_features=64, out_features=64, bias=True)\n",
              "      )\n",
              "      (mha2): MultiHeadAttention(\n",
              "        (key): Linear(in_features=64, out_features=64, bias=True)\n",
              "        (query): Linear(in_features=64, out_features=64, bias=True)\n",
              "        (value): Linear(in_features=64, out_features=64, bias=True)\n",
              "        (fc): Linear(in_features=64, out_features=64, bias=True)\n",
              "      )\n",
              "      (ann): Sequential(\n",
              "        (0): Linear(in_features=64, out_features=256, bias=True)\n",
              "        (1): GELU(approximate='none')\n",
              "        (2): Linear(in_features=256, out_features=64, bias=True)\n",
              "        (3): Dropout(p=0.1, inplace=False)\n",
              "      )\n",
              "      (dropout): Dropout(p=0.1, inplace=False)\n",
              "    )\n",
              "    (1): DecoderBlock(\n",
              "      (ln1): LayerNorm((64,), eps=1e-05, elementwise_affine=True)\n",
              "      (ln2): LayerNorm((64,), eps=1e-05, elementwise_affine=True)\n",
              "      (ln3): LayerNorm((64,), eps=1e-05, elementwise_affine=True)\n",
              "      (mha1): MultiHeadAttention(\n",
              "        (key): Linear(in_features=64, out_features=64, bias=True)\n",
              "        (query): Linear(in_features=64, out_features=64, bias=True)\n",
              "        (value): Linear(in_features=64, out_features=64, bias=True)\n",
              "        (fc): Linear(in_features=64, out_features=64, bias=True)\n",
              "      )\n",
              "      (mha2): MultiHeadAttention(\n",
              "        (key): Linear(in_features=64, out_features=64, bias=True)\n",
              "        (query): Linear(in_features=64, out_features=64, bias=True)\n",
              "        (value): Linear(in_features=64, out_features=64, bias=True)\n",
              "        (fc): Linear(in_features=64, out_features=64, bias=True)\n",
              "      )\n",
              "      (ann): Sequential(\n",
              "        (0): Linear(in_features=64, out_features=256, bias=True)\n",
              "        (1): GELU(approximate='none')\n",
              "        (2): Linear(in_features=256, out_features=64, bias=True)\n",
              "        (3): Dropout(p=0.1, inplace=False)\n",
              "      )\n",
              "      (dropout): Dropout(p=0.1, inplace=False)\n",
              "    )\n",
              "  )\n",
              "  (ln): LayerNorm((64,), eps=1e-05, elementwise_affine=True)\n",
              "  (fc): Linear(in_features=64, out_features=10000, bias=True)\n",
              ")"
            ]
          },
          "metadata": {},
          "execution_count": 15
        }
      ]
    },
    {
      "cell_type": "code",
      "source": [
        "xe = np.random.randint(0, 20_000, size=(8, 512))\n",
        "xe_t = torch.tensor(xe).to(device)\n",
        "\n",
        "xd = np.random.randint(0, 10_000, size=(8, 256))\n",
        "xd_t = torch.tensor(xd).to(device)\n",
        "\n",
        "maske = np.ones((8, 512))\n",
        "maske[:, 256:] = 0\n",
        "maske_t = torch.tensor(maske).to(device)\n",
        "\n",
        "maskd = np.ones((8, 256))\n",
        "maskd[:, 128:] = 0\n",
        "maskd_t = torch.tensor(maskd).to(device)\n",
        "\n",
        "out = transformer(xe_t, xd_t, maske_t, maskd_t)\n",
        "out.shape"
      ],
      "metadata": {
        "colab": {
          "base_uri": "https://localhost:8080/"
        },
        "id": "c8fFBgH3jl8p",
        "outputId": "838738dc-a8db-4ea8-e3b9-beefed13d615"
      },
      "execution_count": 16,
      "outputs": [
        {
          "output_type": "execute_result",
          "data": {
            "text/plain": [
              "torch.Size([8, 256, 10000])"
            ]
          },
          "metadata": {},
          "execution_count": 16
        }
      ]
    },
    {
      "cell_type": "code",
      "source": [
        "out"
      ],
      "metadata": {
        "colab": {
          "base_uri": "https://localhost:8080/"
        },
        "id": "psW5Q6_Lj9-y",
        "outputId": "0b06c9d7-7dd2-4067-f6d6-6fb51ee58840"
      },
      "execution_count": 17,
      "outputs": [
        {
          "output_type": "execute_result",
          "data": {
            "text/plain": [
              "tensor([[[ 1.0686e+00,  6.9686e-01, -1.4472e-01,  ...,  9.6200e-01,\n",
              "          -1.0530e+00,  9.7584e-01],\n",
              "         [-7.6904e-02,  6.8253e-03,  9.7897e-02,  ...,  4.0133e-01,\n",
              "          -1.2520e+00,  1.9627e-01],\n",
              "         [ 7.3303e-01,  3.3649e-01,  1.0839e+00,  ..., -6.0969e-01,\n",
              "          -8.0054e-01, -4.5156e-01],\n",
              "         ...,\n",
              "         [-4.7462e-01, -2.1596e-01, -3.8749e-01,  ..., -5.5131e-01,\n",
              "          -1.1369e+00, -8.4126e-01],\n",
              "         [-2.4864e-02, -2.3394e-01,  1.0329e-01,  ..., -2.5444e-01,\n",
              "          -2.0269e-01,  2.2774e-01],\n",
              "         [ 1.1774e-01,  4.7908e-02,  1.4301e+00,  ..., -3.2447e-01,\n",
              "           9.9567e-01,  8.9525e-01]],\n",
              "\n",
              "        [[ 5.0683e-01,  9.9281e-01,  3.2526e-01,  ...,  3.1996e-01,\n",
              "          -9.7758e-02,  6.2419e-01],\n",
              "         [ 5.7522e-01,  8.3624e-01, -5.6537e-02,  ...,  9.9155e-01,\n",
              "          -3.2346e-01,  1.1764e+00],\n",
              "         [ 1.2133e-01,  3.6545e-02, -1.6868e-02,  ...,  1.3371e-01,\n",
              "          -9.7560e-01, -1.9330e-01],\n",
              "         ...,\n",
              "         [-1.8377e-01, -5.1557e-01, -7.8222e-01,  ..., -3.5886e-01,\n",
              "          -1.7472e-01, -1.0742e+00],\n",
              "         [-1.9675e-01,  5.4417e-01,  5.2474e-01,  ..., -2.6230e-01,\n",
              "          -5.8589e-02,  4.8505e-01],\n",
              "         [-4.8772e-01, -9.1275e-01,  9.6837e-01,  ..., -1.7051e-01,\n",
              "           2.3661e-01, -1.8305e-01]],\n",
              "\n",
              "        [[ 3.2431e-01,  3.9918e-01, -8.4630e-02,  ...,  2.7746e-01,\n",
              "          -3.8742e-01,  3.2900e-01],\n",
              "         [ 9.5100e-03,  2.8949e-05,  4.2348e-02,  ...,  6.2943e-01,\n",
              "          -7.1815e-01, -4.6429e-02],\n",
              "         [-1.5737e-02, -2.8979e-01,  1.3330e-01,  ..., -5.7871e-01,\n",
              "          -1.0215e-02,  3.5041e-01],\n",
              "         ...,\n",
              "         [-5.7775e-01,  4.8830e-01,  4.4449e-01,  ..., -2.1055e-01,\n",
              "          -5.2805e-01, -6.4369e-01],\n",
              "         [-1.8118e-01, -2.5625e-01,  1.3286e+00,  ..., -2.2992e-01,\n",
              "           1.6349e-01,  1.2273e-01],\n",
              "         [-6.4149e-01,  8.8766e-02, -4.5052e-01,  ..., -2.7467e-01,\n",
              "           8.5108e-02,  3.4905e-01]],\n",
              "\n",
              "        ...,\n",
              "\n",
              "        [[ 1.6537e-01,  7.8651e-01,  2.9722e-01,  ..., -6.2515e-01,\n",
              "           3.3117e-01,  4.0015e-02],\n",
              "         [-6.8631e-01,  3.7971e-02,  4.5299e-01,  ...,  5.0769e-01,\n",
              "          -6.7137e-01,  5.2723e-01],\n",
              "         [-5.7322e-01,  1.8647e-01, -3.4901e-01,  ...,  4.2887e-01,\n",
              "          -7.6621e-01, -7.6384e-02],\n",
              "         ...,\n",
              "         [-4.2937e-01, -4.0968e-01,  4.2531e-01,  ..., -4.2215e-02,\n",
              "          -1.0958e-01, -3.5762e-01],\n",
              "         [-5.2563e-01, -2.0073e-01,  2.5483e-01,  ..., -5.5462e-01,\n",
              "           2.2907e-01, -2.0609e-01],\n",
              "         [ 4.6601e-01,  1.1671e+00, -1.1997e-01,  ..., -9.3283e-01,\n",
              "           6.0218e-01,  4.3963e-01]],\n",
              "\n",
              "        [[-3.1463e-01, -3.9676e-01,  5.9758e-01,  ...,  1.4926e+00,\n",
              "          -1.4076e+00,  4.9332e-01],\n",
              "         [-5.1377e-01, -1.5248e-01, -4.8391e-01,  ...,  4.2689e-01,\n",
              "          -3.3630e-01,  6.0156e-01],\n",
              "         [ 1.0718e-01,  4.1423e-01,  2.3861e-02,  ..., -1.2619e-01,\n",
              "          -1.3474e+00, -3.1677e-02],\n",
              "         ...,\n",
              "         [-6.5754e-01, -2.3812e-01,  1.3257e-01,  ..., -4.3822e-01,\n",
              "           1.9094e-01,  4.5920e-01],\n",
              "         [ 5.7391e-01,  2.4802e-01,  1.6217e-01,  ..., -1.5107e+00,\n",
              "           1.9882e-01,  4.2454e-01],\n",
              "         [ 2.0648e-01, -6.5667e-01,  2.9349e-03,  ..., -4.2562e-01,\n",
              "           2.7052e-01,  4.0150e-01]],\n",
              "\n",
              "        [[-6.8016e-02,  4.2870e-01, -1.9081e-01,  ...,  7.2966e-01,\n",
              "          -1.6951e-01,  5.8939e-01],\n",
              "         [-7.8753e-01,  6.7744e-02,  7.8090e-01,  ...,  7.6283e-01,\n",
              "          -9.9561e-01, -1.0025e+00],\n",
              "         [ 1.1934e-01, -2.2161e-01,  1.4467e-01,  ...,  3.4668e-01,\n",
              "          -2.6767e-01, -2.7499e-01],\n",
              "         ...,\n",
              "         [ 1.9857e-01, -1.4542e-01,  2.1860e-01,  ...,  1.4196e-02,\n",
              "          -9.6254e-01, -5.3356e-01],\n",
              "         [ 8.5296e-02, -5.4942e-01,  1.9441e-01,  ..., -1.9649e-01,\n",
              "           2.1348e-01,  5.5820e-01],\n",
              "         [ 3.3862e-01, -1.6162e-01, -6.5746e-01,  ..., -2.8113e-01,\n",
              "           3.0487e-01,  3.8448e-01]]], grad_fn=<ViewBackward0>)"
            ]
          },
          "metadata": {},
          "execution_count": 17
        }
      ]
    },
    {
      "cell_type": "markdown",
      "source": [
        "# Download actual data & train the model for translation:"
      ],
      "metadata": {
        "id": "rKwWbAe55SIA"
      }
    },
    {
      "cell_type": "code",
      "source": [
        "# download en-sp dataset:\n",
        "!wget -nc https://lazyprogrammer.me/course_files/nlp3/spa.txt"
      ],
      "metadata": {
        "colab": {
          "base_uri": "https://localhost:8080/"
        },
        "id": "cJGlsCGw5lem",
        "outputId": "526cd8e9-f01a-49e2-9cde-fadf676e4bce"
      },
      "execution_count": 18,
      "outputs": [
        {
          "output_type": "stream",
          "name": "stdout",
          "text": [
            "File ‘spa.txt’ already there; not retrieving.\n",
            "\n"
          ]
        }
      ]
    },
    {
      "cell_type": "code",
      "source": [
        "!head spa.txt"
      ],
      "metadata": {
        "colab": {
          "base_uri": "https://localhost:8080/"
        },
        "id": "dYqc5jz35t1X",
        "outputId": "fdceee83-49c8-424b-82e1-ad133d8ccfa8"
      },
      "execution_count": 19,
      "outputs": [
        {
          "output_type": "stream",
          "name": "stdout",
          "text": [
            "Go.\tVe.\n",
            "Go.\tVete.\n",
            "Go.\tVaya.\n",
            "Hi.\tHola.\n",
            "Run!\t¡Corre!\n",
            "Who?\t¿Quién?\n",
            "Wow!\t¡Órale!\n",
            "Fire!\t¡Fuego!\n",
            "Fire!\t¡Incendio!\n",
            "Fire!\t¡Disparad!\n"
          ]
        }
      ]
    },
    {
      "cell_type": "markdown",
      "source": [
        "👆 2 columns: english on the left, and spanish on the right"
      ],
      "metadata": {
        "id": "FrFJzYaVFzx5"
      }
    },
    {
      "cell_type": "code",
      "source": [
        "import pandas as pd # import the `pandas` library for data manipulation and analysis (in DataFrames)\n",
        "\n",
        "df = pd.read_csv('spa.txt', sep=\"\\t\", header=None) # read data from a Comma Separated Values file & store it in a DataFrame object\n",
        "df.head()"
      ],
      "metadata": {
        "colab": {
          "base_uri": "https://localhost:8080/",
          "height": 206
        },
        "id": "jmHE4QZy50iH",
        "outputId": "052027ad-75fe-4718-bca9-f846c057289f"
      },
      "execution_count": 20,
      "outputs": [
        {
          "output_type": "execute_result",
          "data": {
            "text/plain": [
              "      0        1\n",
              "0   Go.      Ve.\n",
              "1   Go.    Vete.\n",
              "2   Go.    Vaya.\n",
              "3   Hi.    Hola.\n",
              "4  Run!  ¡Corre!"
            ],
            "text/html": [
              "\n",
              "  <div id=\"df-22c3c0ba-d44f-45be-ab97-65fc2b4a9e51\" class=\"colab-df-container\">\n",
              "    <div>\n",
              "<style scoped>\n",
              "    .dataframe tbody tr th:only-of-type {\n",
              "        vertical-align: middle;\n",
              "    }\n",
              "\n",
              "    .dataframe tbody tr th {\n",
              "        vertical-align: top;\n",
              "    }\n",
              "\n",
              "    .dataframe thead th {\n",
              "        text-align: right;\n",
              "    }\n",
              "</style>\n",
              "<table border=\"1\" class=\"dataframe\">\n",
              "  <thead>\n",
              "    <tr style=\"text-align: right;\">\n",
              "      <th></th>\n",
              "      <th>0</th>\n",
              "      <th>1</th>\n",
              "    </tr>\n",
              "  </thead>\n",
              "  <tbody>\n",
              "    <tr>\n",
              "      <th>0</th>\n",
              "      <td>Go.</td>\n",
              "      <td>Ve.</td>\n",
              "    </tr>\n",
              "    <tr>\n",
              "      <th>1</th>\n",
              "      <td>Go.</td>\n",
              "      <td>Vete.</td>\n",
              "    </tr>\n",
              "    <tr>\n",
              "      <th>2</th>\n",
              "      <td>Go.</td>\n",
              "      <td>Vaya.</td>\n",
              "    </tr>\n",
              "    <tr>\n",
              "      <th>3</th>\n",
              "      <td>Hi.</td>\n",
              "      <td>Hola.</td>\n",
              "    </tr>\n",
              "    <tr>\n",
              "      <th>4</th>\n",
              "      <td>Run!</td>\n",
              "      <td>¡Corre!</td>\n",
              "    </tr>\n",
              "  </tbody>\n",
              "</table>\n",
              "</div>\n",
              "    <div class=\"colab-df-buttons\">\n",
              "\n",
              "  <div class=\"colab-df-container\">\n",
              "    <button class=\"colab-df-convert\" onclick=\"convertToInteractive('df-22c3c0ba-d44f-45be-ab97-65fc2b4a9e51')\"\n",
              "            title=\"Convert this dataframe to an interactive table.\"\n",
              "            style=\"display:none;\">\n",
              "\n",
              "  <svg xmlns=\"http://www.w3.org/2000/svg\" height=\"24px\" viewBox=\"0 -960 960 960\">\n",
              "    <path d=\"M120-120v-720h720v720H120Zm60-500h600v-160H180v160Zm220 220h160v-160H400v160Zm0 220h160v-160H400v160ZM180-400h160v-160H180v160Zm440 0h160v-160H620v160ZM180-180h160v-160H180v160Zm440 0h160v-160H620v160Z\"/>\n",
              "  </svg>\n",
              "    </button>\n",
              "\n",
              "  <style>\n",
              "    .colab-df-container {\n",
              "      display:flex;\n",
              "      gap: 12px;\n",
              "    }\n",
              "\n",
              "    .colab-df-convert {\n",
              "      background-color: #E8F0FE;\n",
              "      border: none;\n",
              "      border-radius: 50%;\n",
              "      cursor: pointer;\n",
              "      display: none;\n",
              "      fill: #1967D2;\n",
              "      height: 32px;\n",
              "      padding: 0 0 0 0;\n",
              "      width: 32px;\n",
              "    }\n",
              "\n",
              "    .colab-df-convert:hover {\n",
              "      background-color: #E2EBFA;\n",
              "      box-shadow: 0px 1px 2px rgba(60, 64, 67, 0.3), 0px 1px 3px 1px rgba(60, 64, 67, 0.15);\n",
              "      fill: #174EA6;\n",
              "    }\n",
              "\n",
              "    .colab-df-buttons div {\n",
              "      margin-bottom: 4px;\n",
              "    }\n",
              "\n",
              "    [theme=dark] .colab-df-convert {\n",
              "      background-color: #3B4455;\n",
              "      fill: #D2E3FC;\n",
              "    }\n",
              "\n",
              "    [theme=dark] .colab-df-convert:hover {\n",
              "      background-color: #434B5C;\n",
              "      box-shadow: 0px 1px 3px 1px rgba(0, 0, 0, 0.15);\n",
              "      filter: drop-shadow(0px 1px 2px rgba(0, 0, 0, 0.3));\n",
              "      fill: #FFFFFF;\n",
              "    }\n",
              "  </style>\n",
              "\n",
              "    <script>\n",
              "      const buttonEl =\n",
              "        document.querySelector('#df-22c3c0ba-d44f-45be-ab97-65fc2b4a9e51 button.colab-df-convert');\n",
              "      buttonEl.style.display =\n",
              "        google.colab.kernel.accessAllowed ? 'block' : 'none';\n",
              "\n",
              "      async function convertToInteractive(key) {\n",
              "        const element = document.querySelector('#df-22c3c0ba-d44f-45be-ab97-65fc2b4a9e51');\n",
              "        const dataTable =\n",
              "          await google.colab.kernel.invokeFunction('convertToInteractive',\n",
              "                                                    [key], {});\n",
              "        if (!dataTable) return;\n",
              "\n",
              "        const docLinkHtml = 'Like what you see? Visit the ' +\n",
              "          '<a target=\"_blank\" href=https://colab.research.google.com/notebooks/data_table.ipynb>data table notebook</a>'\n",
              "          + ' to learn more about interactive tables.';\n",
              "        element.innerHTML = '';\n",
              "        dataTable['output_type'] = 'display_data';\n",
              "        await google.colab.output.renderOutput(dataTable, element);\n",
              "        const docLink = document.createElement('div');\n",
              "        docLink.innerHTML = docLinkHtml;\n",
              "        element.appendChild(docLink);\n",
              "      }\n",
              "    </script>\n",
              "  </div>\n",
              "\n",
              "\n",
              "<div id=\"df-2518f5d5-db63-409d-9fce-7651bce669b4\">\n",
              "  <button class=\"colab-df-quickchart\" onclick=\"quickchart('df-2518f5d5-db63-409d-9fce-7651bce669b4')\"\n",
              "            title=\"Suggest charts\"\n",
              "            style=\"display:none;\">\n",
              "\n",
              "<svg xmlns=\"http://www.w3.org/2000/svg\" height=\"24px\"viewBox=\"0 0 24 24\"\n",
              "     width=\"24px\">\n",
              "    <g>\n",
              "        <path d=\"M19 3H5c-1.1 0-2 .9-2 2v14c0 1.1.9 2 2 2h14c1.1 0 2-.9 2-2V5c0-1.1-.9-2-2-2zM9 17H7v-7h2v7zm4 0h-2V7h2v10zm4 0h-2v-4h2v4z\"/>\n",
              "    </g>\n",
              "</svg>\n",
              "  </button>\n",
              "\n",
              "<style>\n",
              "  .colab-df-quickchart {\n",
              "      --bg-color: #E8F0FE;\n",
              "      --fill-color: #1967D2;\n",
              "      --hover-bg-color: #E2EBFA;\n",
              "      --hover-fill-color: #174EA6;\n",
              "      --disabled-fill-color: #AAA;\n",
              "      --disabled-bg-color: #DDD;\n",
              "  }\n",
              "\n",
              "  [theme=dark] .colab-df-quickchart {\n",
              "      --bg-color: #3B4455;\n",
              "      --fill-color: #D2E3FC;\n",
              "      --hover-bg-color: #434B5C;\n",
              "      --hover-fill-color: #FFFFFF;\n",
              "      --disabled-bg-color: #3B4455;\n",
              "      --disabled-fill-color: #666;\n",
              "  }\n",
              "\n",
              "  .colab-df-quickchart {\n",
              "    background-color: var(--bg-color);\n",
              "    border: none;\n",
              "    border-radius: 50%;\n",
              "    cursor: pointer;\n",
              "    display: none;\n",
              "    fill: var(--fill-color);\n",
              "    height: 32px;\n",
              "    padding: 0;\n",
              "    width: 32px;\n",
              "  }\n",
              "\n",
              "  .colab-df-quickchart:hover {\n",
              "    background-color: var(--hover-bg-color);\n",
              "    box-shadow: 0 1px 2px rgba(60, 64, 67, 0.3), 0 1px 3px 1px rgba(60, 64, 67, 0.15);\n",
              "    fill: var(--button-hover-fill-color);\n",
              "  }\n",
              "\n",
              "  .colab-df-quickchart-complete:disabled,\n",
              "  .colab-df-quickchart-complete:disabled:hover {\n",
              "    background-color: var(--disabled-bg-color);\n",
              "    fill: var(--disabled-fill-color);\n",
              "    box-shadow: none;\n",
              "  }\n",
              "\n",
              "  .colab-df-spinner {\n",
              "    border: 2px solid var(--fill-color);\n",
              "    border-color: transparent;\n",
              "    border-bottom-color: var(--fill-color);\n",
              "    animation:\n",
              "      spin 1s steps(1) infinite;\n",
              "  }\n",
              "\n",
              "  @keyframes spin {\n",
              "    0% {\n",
              "      border-color: transparent;\n",
              "      border-bottom-color: var(--fill-color);\n",
              "      border-left-color: var(--fill-color);\n",
              "    }\n",
              "    20% {\n",
              "      border-color: transparent;\n",
              "      border-left-color: var(--fill-color);\n",
              "      border-top-color: var(--fill-color);\n",
              "    }\n",
              "    30% {\n",
              "      border-color: transparent;\n",
              "      border-left-color: var(--fill-color);\n",
              "      border-top-color: var(--fill-color);\n",
              "      border-right-color: var(--fill-color);\n",
              "    }\n",
              "    40% {\n",
              "      border-color: transparent;\n",
              "      border-right-color: var(--fill-color);\n",
              "      border-top-color: var(--fill-color);\n",
              "    }\n",
              "    60% {\n",
              "      border-color: transparent;\n",
              "      border-right-color: var(--fill-color);\n",
              "    }\n",
              "    80% {\n",
              "      border-color: transparent;\n",
              "      border-right-color: var(--fill-color);\n",
              "      border-bottom-color: var(--fill-color);\n",
              "    }\n",
              "    90% {\n",
              "      border-color: transparent;\n",
              "      border-bottom-color: var(--fill-color);\n",
              "    }\n",
              "  }\n",
              "</style>\n",
              "\n",
              "  <script>\n",
              "    async function quickchart(key) {\n",
              "      const quickchartButtonEl =\n",
              "        document.querySelector('#' + key + ' button');\n",
              "      quickchartButtonEl.disabled = true;  // To prevent multiple clicks.\n",
              "      quickchartButtonEl.classList.add('colab-df-spinner');\n",
              "      try {\n",
              "        const charts = await google.colab.kernel.invokeFunction(\n",
              "            'suggestCharts', [key], {});\n",
              "      } catch (error) {\n",
              "        console.error('Error during call to suggestCharts:', error);\n",
              "      }\n",
              "      quickchartButtonEl.classList.remove('colab-df-spinner');\n",
              "      quickchartButtonEl.classList.add('colab-df-quickchart-complete');\n",
              "    }\n",
              "    (() => {\n",
              "      let quickchartButtonEl =\n",
              "        document.querySelector('#df-2518f5d5-db63-409d-9fce-7651bce669b4 button');\n",
              "      quickchartButtonEl.style.display =\n",
              "        google.colab.kernel.accessAllowed ? 'block' : 'none';\n",
              "    })();\n",
              "  </script>\n",
              "</div>\n",
              "\n",
              "    </div>\n",
              "  </div>\n"
            ]
          },
          "metadata": {},
          "execution_count": 20
        }
      ]
    },
    {
      "cell_type": "code",
      "source": [
        "# check the shape of the DataFrame object:\n",
        "df.shape"
      ],
      "metadata": {
        "colab": {
          "base_uri": "https://localhost:8080/"
        },
        "id": "vz-uftpwGpq6",
        "outputId": "9808efa5-d9d6-43e5-96cd-93b4e6a307c6"
      },
      "execution_count": 23,
      "outputs": [
        {
          "output_type": "execute_result",
          "data": {
            "text/plain": [
              "(30000, 2)"
            ]
          },
          "metadata": {},
          "execution_count": 23
        }
      ]
    },
    {
      "cell_type": "code",
      "source": [
        "# takes too long, therefore only select the first 30,000 rows from the DataFrame:\n",
        "df = df.iloc[:30_000] # integer-location based indexing"
      ],
      "metadata": {
        "id": "nyvQzLryKFDE"
      },
      "execution_count": 24,
      "outputs": []
    },
    {
      "cell_type": "code",
      "source": [
        "df.columns = ['en', 'es'] #  assigning column names to the DataFrame\n",
        "df.to_csv('spa.csv', index=None) # save the DataFrame to a CSV file named 'spa.csv' without including the index"
      ],
      "metadata": {
        "id": "a3FEdSChKlk5"
      },
      "execution_count": 25,
      "outputs": []
    },
    {
      "cell_type": "code",
      "source": [
        "# display the first 10 lines of the CSV file:\n",
        "!head spa.csv"
      ],
      "metadata": {
        "colab": {
          "base_uri": "https://localhost:8080/"
        },
        "id": "V4ytdCr7aRVV",
        "outputId": "2e23e40c-1ccd-4cc2-9c45-283a9f01fb21"
      },
      "execution_count": 27,
      "outputs": [
        {
          "output_type": "stream",
          "name": "stdout",
          "text": [
            "en,es\n",
            "Go.,Ve.\n",
            "Go.,Vete.\n",
            "Go.,Vaya.\n",
            "Hi.,Hola.\n",
            "Run!,¡Corre!\n",
            "Who?,¿Quién?\n",
            "Wow!,¡Órale!\n",
            "Fire!,¡Fuego!\n",
            "Fire!,¡Incendio!\n"
          ]
        }
      ]
    },
    {
      "cell_type": "code",
      "source": [
        "# install some Python libraries using the pip package manager:\n",
        "!pip install transformers datasets sentencepiece sacremoses\n",
        "# transformers: for using pre-trained models\n",
        "# datasets: to access various datasets\n",
        "# sentencepiece: (a library for tokenization) to break down text into words or subwords\n",
        "# sacremoses: (a library for tokenization) to prepare and clean text data"
      ],
      "metadata": {
        "colab": {
          "base_uri": "https://localhost:8080/"
        },
        "id": "cQfhINfwcBQT",
        "outputId": "c0a8f407-37f8-4e57-8ae2-58c95b187a21"
      },
      "execution_count": 28,
      "outputs": [
        {
          "output_type": "stream",
          "name": "stdout",
          "text": [
            "Requirement already satisfied: transformers in /usr/local/lib/python3.10/dist-packages (4.35.2)\n",
            "Collecting datasets\n",
            "  Downloading datasets-2.15.0-py3-none-any.whl (521 kB)\n",
            "\u001b[2K     \u001b[90m━━━━━━━━━━━━━━━━━━━━━━━━━━━━━━━━━━━━━━━━\u001b[0m \u001b[32m521.2/521.2 kB\u001b[0m \u001b[31m3.8 MB/s\u001b[0m eta \u001b[36m0:00:00\u001b[0m\n",
            "\u001b[?25hCollecting sentencepiece\n",
            "  Downloading sentencepiece-0.1.99-cp310-cp310-manylinux_2_17_x86_64.manylinux2014_x86_64.whl (1.3 MB)\n",
            "\u001b[2K     \u001b[90m━━━━━━━━━━━━━━━━━━━━━━━━━━━━━━━━━━━━━━━━\u001b[0m \u001b[32m1.3/1.3 MB\u001b[0m \u001b[31m20.8 MB/s\u001b[0m eta \u001b[36m0:00:00\u001b[0m\n",
            "\u001b[?25hCollecting sacremoses\n",
            "  Downloading sacremoses-0.1.1-py3-none-any.whl (897 kB)\n",
            "\u001b[2K     \u001b[90m━━━━━━━━━━━━━━━━━━━━━━━━━━━━━━━━━━━━━━━━\u001b[0m \u001b[32m897.5/897.5 kB\u001b[0m \u001b[31m49.4 MB/s\u001b[0m eta \u001b[36m0:00:00\u001b[0m\n",
            "\u001b[?25hRequirement already satisfied: filelock in /usr/local/lib/python3.10/dist-packages (from transformers) (3.13.1)\n",
            "Requirement already satisfied: huggingface-hub<1.0,>=0.16.4 in /usr/local/lib/python3.10/dist-packages (from transformers) (0.19.4)\n",
            "Requirement already satisfied: numpy>=1.17 in /usr/local/lib/python3.10/dist-packages (from transformers) (1.23.5)\n",
            "Requirement already satisfied: packaging>=20.0 in /usr/local/lib/python3.10/dist-packages (from transformers) (23.2)\n",
            "Requirement already satisfied: pyyaml>=5.1 in /usr/local/lib/python3.10/dist-packages (from transformers) (6.0.1)\n",
            "Requirement already satisfied: regex!=2019.12.17 in /usr/local/lib/python3.10/dist-packages (from transformers) (2023.6.3)\n",
            "Requirement already satisfied: requests in /usr/local/lib/python3.10/dist-packages (from transformers) (2.31.0)\n",
            "Requirement already satisfied: tokenizers<0.19,>=0.14 in /usr/local/lib/python3.10/dist-packages (from transformers) (0.15.0)\n",
            "Requirement already satisfied: safetensors>=0.3.1 in /usr/local/lib/python3.10/dist-packages (from transformers) (0.4.1)\n",
            "Requirement already satisfied: tqdm>=4.27 in /usr/local/lib/python3.10/dist-packages (from transformers) (4.66.1)\n",
            "Requirement already satisfied: pyarrow>=8.0.0 in /usr/local/lib/python3.10/dist-packages (from datasets) (10.0.1)\n",
            "Collecting pyarrow-hotfix (from datasets)\n",
            "  Downloading pyarrow_hotfix-0.6-py3-none-any.whl (7.9 kB)\n",
            "Collecting dill<0.3.8,>=0.3.0 (from datasets)\n",
            "  Downloading dill-0.3.7-py3-none-any.whl (115 kB)\n",
            "\u001b[2K     \u001b[90m━━━━━━━━━━━━━━━━━━━━━━━━━━━━━━━━━━━━━━━━\u001b[0m \u001b[32m115.3/115.3 kB\u001b[0m \u001b[31m11.2 MB/s\u001b[0m eta \u001b[36m0:00:00\u001b[0m\n",
            "\u001b[?25hRequirement already satisfied: pandas in /usr/local/lib/python3.10/dist-packages (from datasets) (1.5.3)\n",
            "Requirement already satisfied: xxhash in /usr/local/lib/python3.10/dist-packages (from datasets) (3.4.1)\n",
            "Collecting multiprocess (from datasets)\n",
            "  Downloading multiprocess-0.70.15-py310-none-any.whl (134 kB)\n",
            "\u001b[2K     \u001b[90m━━━━━━━━━━━━━━━━━━━━━━━━━━━━━━━━━━━━━━━━\u001b[0m \u001b[32m134.8/134.8 kB\u001b[0m \u001b[31m14.4 MB/s\u001b[0m eta \u001b[36m0:00:00\u001b[0m\n",
            "\u001b[?25hRequirement already satisfied: fsspec[http]<=2023.10.0,>=2023.1.0 in /usr/local/lib/python3.10/dist-packages (from datasets) (2023.6.0)\n",
            "Requirement already satisfied: aiohttp in /usr/local/lib/python3.10/dist-packages (from datasets) (3.9.1)\n",
            "Requirement already satisfied: click in /usr/local/lib/python3.10/dist-packages (from sacremoses) (8.1.7)\n",
            "Requirement already satisfied: joblib in /usr/local/lib/python3.10/dist-packages (from sacremoses) (1.3.2)\n",
            "Requirement already satisfied: attrs>=17.3.0 in /usr/local/lib/python3.10/dist-packages (from aiohttp->datasets) (23.1.0)\n",
            "Requirement already satisfied: multidict<7.0,>=4.5 in /usr/local/lib/python3.10/dist-packages (from aiohttp->datasets) (6.0.4)\n",
            "Requirement already satisfied: yarl<2.0,>=1.0 in /usr/local/lib/python3.10/dist-packages (from aiohttp->datasets) (1.9.4)\n",
            "Requirement already satisfied: frozenlist>=1.1.1 in /usr/local/lib/python3.10/dist-packages (from aiohttp->datasets) (1.4.0)\n",
            "Requirement already satisfied: aiosignal>=1.1.2 in /usr/local/lib/python3.10/dist-packages (from aiohttp->datasets) (1.3.1)\n",
            "Requirement already satisfied: async-timeout<5.0,>=4.0 in /usr/local/lib/python3.10/dist-packages (from aiohttp->datasets) (4.0.3)\n",
            "Requirement already satisfied: typing-extensions>=3.7.4.3 in /usr/local/lib/python3.10/dist-packages (from huggingface-hub<1.0,>=0.16.4->transformers) (4.5.0)\n",
            "Requirement already satisfied: charset-normalizer<4,>=2 in /usr/local/lib/python3.10/dist-packages (from requests->transformers) (3.3.2)\n",
            "Requirement already satisfied: idna<4,>=2.5 in /usr/local/lib/python3.10/dist-packages (from requests->transformers) (3.6)\n",
            "Requirement already satisfied: urllib3<3,>=1.21.1 in /usr/local/lib/python3.10/dist-packages (from requests->transformers) (2.0.7)\n",
            "Requirement already satisfied: certifi>=2017.4.17 in /usr/local/lib/python3.10/dist-packages (from requests->transformers) (2023.11.17)\n",
            "Requirement already satisfied: python-dateutil>=2.8.1 in /usr/local/lib/python3.10/dist-packages (from pandas->datasets) (2.8.2)\n",
            "Requirement already satisfied: pytz>=2020.1 in /usr/local/lib/python3.10/dist-packages (from pandas->datasets) (2023.3.post1)\n",
            "Requirement already satisfied: six>=1.5 in /usr/local/lib/python3.10/dist-packages (from python-dateutil>=2.8.1->pandas->datasets) (1.16.0)\n",
            "Installing collected packages: sentencepiece, sacremoses, pyarrow-hotfix, dill, multiprocess, datasets\n",
            "Successfully installed datasets-2.15.0 dill-0.3.7 multiprocess-0.70.15 pyarrow-hotfix-0.6 sacremoses-0.1.1 sentencepiece-0.1.99\n"
          ]
        }
      ]
    },
    {
      "cell_type": "code",
      "source": [
        "from datasets import load_dataset # import the function\n",
        "raw_dataset = load_dataset('csv', data_files='spa.csv') # load dataset from a CSV file named 'spa.csv'"
      ],
      "metadata": {
        "colab": {
          "base_uri": "https://localhost:8080/",
          "height": 113,
          "referenced_widgets": [
            "aff3274db4d14c2e987b2f693a9657d9",
            "16def556c4f648f68f2949897309d662",
            "46a229c96c2d4d7a98173cbb8f11d7d3",
            "d16757995ac54ebea90a9ac78df5bf9a",
            "9e91b3902bb147938b2da392955283b4",
            "977f2214a1b4423ebe83a1e5726eac60",
            "fdd644d8d92842cdb42029982268fabd",
            "f4ade9701c9f4199b805231d059096e8",
            "e680a6377c5941a2a3d5cff6c8989d26",
            "0cd8e1f4114a4fc8bf70c8ecef92e86e",
            "288c92f05b0548838502f88e79430706",
            "5c0d64fbaa25406c8b2aba3d407d0baf",
            "5d3d1ed39e77403fa67cac86e46c252f",
            "9f7586a14c594cba97bf6cbb1c98a92d",
            "fb5c25ffba984cbfb7656f28e62d5616",
            "dd24d7b28df947edb3c12b8a32faa774",
            "c35668232320400697f905af74927797",
            "ef7455b1e17f4e19920a775e73095dc4",
            "ff1ec833557b4be29c1686ea6b407a14",
            "574a6fe5e8bb4096af12bdc3275d10b2",
            "701ccca346124f1591345dfa15701c6f",
            "d59a9d4ac8674f9e8034c1573542b050",
            "be917d3da4db4a4ba2b0f507b7aea305",
            "20aa6f8590494c96a331bcf23f7cdead",
            "fbe207e667054108947ab1da814ed0e6",
            "adc70ef7f4774abbb6a8dca4cbe4b860",
            "e46098db173a4219ac9d00ca2cc86865",
            "d6601240ae26414c9e6c4002afdf1345",
            "821f278242d243c0b12a00ed41d771f1",
            "0bc23416c7184c8896975085a0e84e4b",
            "93ae5275c84a44738444354b11e5a591",
            "44fd85850c5943b1beb272355bd768b7",
            "640c6d759f0d4bd087456a8eb206520e"
          ]
        },
        "id": "mYo-vy7wfWkC",
        "outputId": "785a3b00-1e8f-4e3d-ab55-f8069e0a392a"
      },
      "execution_count": 29,
      "outputs": [
        {
          "output_type": "display_data",
          "data": {
            "text/plain": [
              "Downloading data files:   0%|          | 0/1 [00:00<?, ?it/s]"
            ],
            "application/vnd.jupyter.widget-view+json": {
              "version_major": 2,
              "version_minor": 0,
              "model_id": "aff3274db4d14c2e987b2f693a9657d9"
            }
          },
          "metadata": {}
        },
        {
          "output_type": "display_data",
          "data": {
            "text/plain": [
              "Extracting data files:   0%|          | 0/1 [00:00<?, ?it/s]"
            ],
            "application/vnd.jupyter.widget-view+json": {
              "version_major": 2,
              "version_minor": 0,
              "model_id": "5c0d64fbaa25406c8b2aba3d407d0baf"
            }
          },
          "metadata": {}
        },
        {
          "output_type": "display_data",
          "data": {
            "text/plain": [
              "Generating train split: 0 examples [00:00, ? examples/s]"
            ],
            "application/vnd.jupyter.widget-view+json": {
              "version_major": 2,
              "version_minor": 0,
              "model_id": "be917d3da4db4a4ba2b0f507b7aea305"
            }
          },
          "metadata": {}
        }
      ]
    },
    {
      "cell_type": "code",
      "source": [
        "raw_dataset"
      ],
      "metadata": {
        "colab": {
          "base_uri": "https://localhost:8080/"
        },
        "id": "FGF1MoXQjteM",
        "outputId": "5d5d7c1b-03b9-44c5-9bd6-43f102dec895"
      },
      "execution_count": 30,
      "outputs": [
        {
          "output_type": "execute_result",
          "data": {
            "text/plain": [
              "DatasetDict({\n",
              "    train: Dataset({\n",
              "        features: ['en', 'es'],\n",
              "        num_rows: 30000\n",
              "    })\n",
              "})"
            ]
          },
          "metadata": {},
          "execution_count": 30
        }
      ]
    },
    {
      "cell_type": "code",
      "source": [
        "# perform a train-test split on the 'train' split of the dataset\n",
        "split = raw_dataset['train'].train_test_split(test_size=0.3, seed=42)\n",
        "# allocate 30% of the data to the test set, and 70% to the training\n",
        "# set the random seed for reproducibility (ensuring that the same split is obtained each time the code is run)\n",
        "split"
      ],
      "metadata": {
        "colab": {
          "base_uri": "https://localhost:8080/"
        },
        "id": "5lE2ISnkjzGL",
        "outputId": "fad0be44-98a8-4a34-e41d-b4190024813b"
      },
      "execution_count": 34,
      "outputs": [
        {
          "output_type": "execute_result",
          "data": {
            "text/plain": [
              "DatasetDict({\n",
              "    train: Dataset({\n",
              "        features: ['en', 'es'],\n",
              "        num_rows: 21000\n",
              "    })\n",
              "    test: Dataset({\n",
              "        features: ['en', 'es'],\n",
              "        num_rows: 9000\n",
              "    })\n",
              "})"
            ]
          },
          "metadata": {},
          "execution_count": 34
        }
      ]
    },
    {
      "cell_type": "code",
      "source": [
        "from transformers import AutoTokenizer\n",
        "\n",
        "model_checkpoint = \"Helsinki-NLP/opus-mt-en-es\"\n",
        "tokenizer = AutoTokenizer.from_pretrained(model_checkpoint)"
      ],
      "metadata": {
        "colab": {
          "base_uri": "https://localhost:8080/",
          "height": 177,
          "referenced_widgets": [
            "e05dfa93670e4eeeb5d0fe4a0c12fe23",
            "ba6095dec2b44d3a991d1b1e71b49a82",
            "f9154becafe240b29bb5d52f7c430e22",
            "22d31fc041a144e1b8968e1135de5f51",
            "c1d9fdb625944ddeb3e1f7915f413a00",
            "089fc63b2a6a430ea9e9586f1303088c",
            "91bdb0b6815d471484a0198b243cb88f",
            "6e7d1067cc494f05aec88f7cc6f7b253",
            "61eb33b0df5f4f8793cc01a90780bc07",
            "f883a45badb64178ad6b90182369e7ab",
            "4d76ebc4ef7a4aa39ad21667cd51282f",
            "f6f853db2f3646c1a0621b5141617d64",
            "5792e8d0b9d44c66ac5f9dacb79f59a3",
            "bf6c8966b6244e31ba99d59a2d523096",
            "f469d68c66a045629874ed1dad585404",
            "e412ca069c3449deb0927376932f5c41",
            "818119f176b74e219f4efee8e19e9161",
            "95425cede3bd491f804ef462fa7272e8",
            "946cce92a3734f80b7fed5aa5dd1d26c",
            "700b304d683b416ca3fdb5b90d0d2586",
            "af2ccac839964cffa45e24aa15ffadfe",
            "4c93941482614f199c51562b0c55e3a6",
            "ca7cf103c76442b1921c7ade838079f8",
            "67551767f0604873838a08dc76405ce4",
            "43a7f4b8db894e209ae2c3457e7dba4e",
            "a9cd0baf555d47a3a1165a953ade14ba",
            "e1bc4d7376e34d509a3779bfbabe6a4b",
            "6ef259b8e92f408a800614e9b09fa966",
            "6ccd65e6f99146dcb25aa15c242ece7f",
            "aa0e34b9a6684159b76c58d498c2805e",
            "0613a18655b54af98e7efb51d51cb304",
            "900f5a9ed2db4c40b0e639f85f3ac7bb",
            "bd9361c78d7248ffa7274929bc82aa7e",
            "9e5bb0341b004cc5b0b33d06e063a777",
            "19fa44c121d04a3f85493311205710de",
            "b2af863df97c40be8a38be085c20a8c9",
            "b96fd1af7c9041769489c22a5c55a163",
            "6bc5256c59ea43d8afaa3ba2a2d541cf",
            "7da005225de249b4b80d4bcc9c0d44f9",
            "9d8d430ed9654c3a8b4da128d6cd78d1",
            "bdbb3441acfb4ee59ca4c0eddcb25646",
            "10b1a6589e84492ab77748f0616be998",
            "f9bf605851954beead3a927f57302383",
            "98dc41c2320044c289928849c98b9398",
            "371294162706483c96f73db5290e6746",
            "100e1035bab244bead025ed9f5cd7747",
            "6a4a28f820af42efab903b4f57801480",
            "126d7e27256042b8811f467d9a51f042",
            "06c031fa63914a7b9d9449dfac491fcb",
            "95f2500c1c70439b91591b49fcb7ccb1",
            "10d6a5deaf6d48b7a773135435e65f03",
            "e7e2b28d259645de9a138bef89fa4a3d",
            "1d7139cd5070476db5e71521ea2751d4",
            "7226d371072c41aa86d678707b72a391",
            "a2ad9401d8bb439597d6fcca5a806a8f"
          ]
        },
        "id": "NSKmyvP4lgWk",
        "outputId": "ddbd1272-867a-478e-8000-80f120422fc6"
      },
      "execution_count": 35,
      "outputs": [
        {
          "output_type": "display_data",
          "data": {
            "text/plain": [
              "tokenizer_config.json:   0%|          | 0.00/44.0 [00:00<?, ?B/s]"
            ],
            "application/vnd.jupyter.widget-view+json": {
              "version_major": 2,
              "version_minor": 0,
              "model_id": "e05dfa93670e4eeeb5d0fe4a0c12fe23"
            }
          },
          "metadata": {}
        },
        {
          "output_type": "display_data",
          "data": {
            "text/plain": [
              "config.json:   0%|          | 0.00/1.47k [00:00<?, ?B/s]"
            ],
            "application/vnd.jupyter.widget-view+json": {
              "version_major": 2,
              "version_minor": 0,
              "model_id": "f6f853db2f3646c1a0621b5141617d64"
            }
          },
          "metadata": {}
        },
        {
          "output_type": "display_data",
          "data": {
            "text/plain": [
              "source.spm:   0%|          | 0.00/802k [00:00<?, ?B/s]"
            ],
            "application/vnd.jupyter.widget-view+json": {
              "version_major": 2,
              "version_minor": 0,
              "model_id": "ca7cf103c76442b1921c7ade838079f8"
            }
          },
          "metadata": {}
        },
        {
          "output_type": "display_data",
          "data": {
            "text/plain": [
              "target.spm:   0%|          | 0.00/826k [00:00<?, ?B/s]"
            ],
            "application/vnd.jupyter.widget-view+json": {
              "version_major": 2,
              "version_minor": 0,
              "model_id": "9e5bb0341b004cc5b0b33d06e063a777"
            }
          },
          "metadata": {}
        },
        {
          "output_type": "display_data",
          "data": {
            "text/plain": [
              "vocab.json:   0%|          | 0.00/1.59M [00:00<?, ?B/s]"
            ],
            "application/vnd.jupyter.widget-view+json": {
              "version_major": 2,
              "version_minor": 0,
              "model_id": "371294162706483c96f73db5290e6746"
            }
          },
          "metadata": {}
        }
      ]
    },
    {
      "cell_type": "code",
      "source": [
        "split[\"train\"][0]"
      ],
      "metadata": {
        "colab": {
          "base_uri": "https://localhost:8080/"
        },
        "id": "S9sinEGxqRuL",
        "outputId": "5e2721a4-1d69-409b-cd99-9b7533102ee6"
      },
      "execution_count": 39,
      "outputs": [
        {
          "output_type": "execute_result",
          "data": {
            "text/plain": [
              "{'en': 'I can fix it.', 'es': 'Yo puedo arreglarlo.'}"
            ]
          },
          "metadata": {},
          "execution_count": 39
        }
      ]
    },
    {
      "cell_type": "code",
      "source": [
        "# run a test:\n",
        "en_sentence = split[\"train\"][0][\"en\"] # retrieve the English sentence at the 1st index of the 'train' split from the previously created split variable\n",
        "es_sentence = split[\"train\"][0][\"es\"] # retrieve the spanish sentence (target)\n",
        "\n",
        "inputs = tokenizer(en_sentence) # sentence -> tokenized format, which includes token IDs, attention masks, etc\n",
        "targets = tokenizer(text_target=es_sentence) # similarly, tokenizer is applied to the Spanish sentence\n",
        "\n",
        "# token IDs -> human-readable tokens, using the convert_ids_to_tokens method provided by the tokenizer\n",
        "tokenizer.convert_ids_to_tokens(targets['input_ids'])"
      ],
      "metadata": {
        "colab": {
          "base_uri": "https://localhost:8080/"
        },
        "id": "hvzgXsAWlm9a",
        "outputId": "1e25f03c-d662-4b74-cc07-7dfac3ef0bfe"
      },
      "execution_count": 38,
      "outputs": [
        {
          "output_type": "execute_result",
          "data": {
            "text/plain": [
              "['▁Yo', '▁puedo', '▁arreglarlo', '.', '</s>']"
            ]
          },
          "metadata": {},
          "execution_count": 38
        }
      ]
    },
    {
      "cell_type": "markdown",
      "source": [
        "👆  '▁' represents spaces, and `</s>` represents the end of the sequence."
      ],
      "metadata": {
        "id": "bMs7LvE6v3bK"
      }
    },
    {
      "cell_type": "code",
      "source": [
        "inputs"
      ],
      "metadata": {
        "colab": {
          "base_uri": "https://localhost:8080/"
        },
        "id": "FzGmk1Qgq__J",
        "outputId": "c85cabc8-8649-4ab6-dace-73e2d189c512"
      },
      "execution_count": 40,
      "outputs": [
        {
          "output_type": "execute_result",
          "data": {
            "text/plain": [
              "{'input_ids': [33, 88, 9222, 48, 3, 0], 'attention_mask': [1, 1, 1, 1, 1, 1]}"
            ]
          },
          "metadata": {},
          "execution_count": 40
        }
      ]
    },
    {
      "cell_type": "code",
      "source": [
        "targets"
      ],
      "metadata": {
        "colab": {
          "base_uri": "https://localhost:8080/"
        },
        "id": "6qPfcez2rDET",
        "outputId": "2acce394-5737-4376-cdc0-5db22f592c4c"
      },
      "execution_count": 42,
      "outputs": [
        {
          "output_type": "execute_result",
          "data": {
            "text/plain": [
              "{'input_ids': [711, 1039, 44159, 3, 0], 'attention_mask': [1, 1, 1, 1, 1]}"
            ]
          },
          "metadata": {},
          "execution_count": 42
        }
      ]
    },
    {
      "cell_type": "code",
      "source": [
        "max_input_length = 128\n",
        "max_target_length = 128\n",
        "\n",
        "def preprocess_function(batch):\n",
        "    # tokenize the inputs:\n",
        "    model_inputs = tokenizer(\n",
        "        batch['en'], max_length=max_input_length, truncation=True)\n",
        "\n",
        "    # tokenize the targets:\n",
        "    # tokenized format: includes input_ids and attention_mask\n",
        "    # eg: {'input_ids': [33, 88, 9222, 48, 3, 0], 'attention_mask': [1, 1, 1, 1, 1, 1]}\n",
        "    labels = tokenizer(\n",
        "        text_target=batch['es'], max_length=max_target_length, truncation=True)\n",
        "\n",
        "    # save tokenized input ids into 'model_inputs':\n",
        "    model_inputs[\"labels\"] = labels[\"input_ids\"]\n",
        "    return model_inputs"
      ],
      "metadata": {
        "id": "wCPjxER_wNiG"
      },
      "execution_count": 46,
      "outputs": []
    },
    {
      "cell_type": "code",
      "source": [
        "tokenized_datasets = split.map(\n",
        "    preprocess_function,\n",
        "    batched=True,\n",
        "    remove_columns=split[\"train\"].column_names,\n",
        ")"
      ],
      "metadata": {
        "colab": {
          "base_uri": "https://localhost:8080/",
          "height": 81,
          "referenced_widgets": [
            "613e8bb36c544d67b785284b1bb6fb16",
            "87acf0bffdc34b36a66d62d397dc2e62",
            "45c3fbd3076d4e54bd548aed34a1f8cd",
            "b55ad258ea0c48589a062cd5c7f998d3",
            "8be61809de194655870547d27933768c",
            "5d0436a2a986459b9f554c16df6abc1b",
            "c39fe5f789bc466891157d644afaf1a0",
            "16e75107119d4c95a73346213d918d7b",
            "f0f9cfd8ce964128bdfe98b9c3f155a1",
            "ce45ac18b1c94e5ea2cccc8213b95d53",
            "1f038dd0ece64a73b481d4b348ffc935",
            "2d3c7ddc3f54490ab073542aa320cf9c",
            "b2209a03c2894b488f2b5ed3dc6e3e61",
            "05588bbcf3874442aa36f62b9ab93659",
            "31bbf6aeeeee4e0fbd633d85431e0c13",
            "4e1643335fbd4d6ab32827098546b803",
            "af05333ee1c44a6fb97540077e7ba103",
            "84bdb609e9fd48a0993993f703e42e20",
            "b415f8b1357846b78a9b8a81e42ea22d",
            "16455b805e8d4b1699e72c34cb5d0817",
            "e6e893b679d44ebba0ecfd7ee02ac767",
            "a20dd85b0d9742b9bcc21c088214e380"
          ]
        },
        "id": "untQUFBQ5Ia3",
        "outputId": "7ec5cccf-1e54-41f6-b033-987347380c7f"
      },
      "execution_count": 45,
      "outputs": [
        {
          "output_type": "display_data",
          "data": {
            "text/plain": [
              "Map:   0%|          | 0/21000 [00:00<?, ? examples/s]"
            ],
            "application/vnd.jupyter.widget-view+json": {
              "version_major": 2,
              "version_minor": 0,
              "model_id": "613e8bb36c544d67b785284b1bb6fb16"
            }
          },
          "metadata": {}
        },
        {
          "output_type": "display_data",
          "data": {
            "text/plain": [
              "Map:   0%|          | 0/9000 [00:00<?, ? examples/s]"
            ],
            "application/vnd.jupyter.widget-view+json": {
              "version_major": 2,
              "version_minor": 0,
              "model_id": "2d3c7ddc3f54490ab073542aa320cf9c"
            }
          },
          "metadata": {}
        }
      ]
    },
    {
      "cell_type": "code",
      "source": [
        "tokenized_datasets"
      ],
      "metadata": {
        "colab": {
          "base_uri": "https://localhost:8080/"
        },
        "id": "tYvuc8d39qUR",
        "outputId": "be324acf-f14b-4d2f-f2ef-adf7aa88e0ef"
      },
      "execution_count": 47,
      "outputs": [
        {
          "output_type": "execute_result",
          "data": {
            "text/plain": [
              "DatasetDict({\n",
              "    train: Dataset({\n",
              "        features: ['input_ids', 'attention_mask', 'labels'],\n",
              "        num_rows: 21000\n",
              "    })\n",
              "    test: Dataset({\n",
              "        features: ['input_ids', 'attention_mask', 'labels'],\n",
              "        num_rows: 9000\n",
              "    })\n",
              "})"
            ]
          },
          "metadata": {},
          "execution_count": 47
        }
      ]
    },
    {
      "cell_type": "code",
      "source": [
        "from transformers import DataCollatorForSeq2Seq # import the class for padding sequences to the same length and creating attention masks\n",
        "\n",
        "data_collator = DataCollatorForSeq2Seq(tokenizer) # the collator will use this tokenizer to perform tokenization and padding operations on the sequences within a batch"
      ],
      "metadata": {
        "id": "7ztE7OCR-GRQ"
      },
      "execution_count": 48,
      "outputs": []
    },
    {
      "cell_type": "code",
      "source": [
        "# test data collator:\n",
        "batch = data_collator([tokenized_datasets[\"train\"][i] for i in range(0, 5)])\n",
        "batch.keys()"
      ],
      "metadata": {
        "colab": {
          "base_uri": "https://localhost:8080/"
        },
        "id": "jpRllL5cR4jR",
        "outputId": "4208abb1-0e44-45b0-d26b-3fe4dc3f1439"
      },
      "execution_count": 49,
      "outputs": [
        {
          "output_type": "execute_result",
          "data": {
            "text/plain": [
              "dict_keys(['input_ids', 'attention_mask', 'labels'])"
            ]
          },
          "metadata": {},
          "execution_count": 49
        }
      ]
    },
    {
      "cell_type": "code",
      "source": [
        "batch['input_ids']"
      ],
      "metadata": {
        "colab": {
          "base_uri": "https://localhost:8080/"
        },
        "id": "NRO4x--vSzMZ",
        "outputId": "77dbf813-d160-4e3e-bed6-e1872472e10c"
      },
      "execution_count": 50,
      "outputs": [
        {
          "output_type": "execute_result",
          "data": {
            "text/plain": [
              "tensor([[   33,    88,  9222,    48,     3,     0, 65000, 65000],\n",
              "        [  552, 11490,     9,   310,   255,     3,     0, 65000],\n",
              "        [  143,    31,   125,  1208,     3,     0, 65000, 65000],\n",
              "        [ 1093,   220,  1890,    23,    48,     3,     0, 65000],\n",
              "        [  124,    20,   100, 18422,    48,   141,     3,     0]])"
            ]
          },
          "metadata": {},
          "execution_count": 50
        }
      ]
    },
    {
      "cell_type": "markdown",
      "source": [
        "👆 0 is a special token to mark the end (`[SEP]`), and 65000 is the padding token."
      ],
      "metadata": {
        "id": "WMR7zbO-X9qs"
      }
    },
    {
      "cell_type": "code",
      "source": [
        "batch['attention_mask']"
      ],
      "metadata": {
        "colab": {
          "base_uri": "https://localhost:8080/"
        },
        "id": "Umw_ALduS3BR",
        "outputId": "09a794e8-fc72-4f2c-eb38-024537496fbc"
      },
      "execution_count": 51,
      "outputs": [
        {
          "output_type": "execute_result",
          "data": {
            "text/plain": [
              "tensor([[1, 1, 1, 1, 1, 1, 0, 0],\n",
              "        [1, 1, 1, 1, 1, 1, 1, 0],\n",
              "        [1, 1, 1, 1, 1, 1, 0, 0],\n",
              "        [1, 1, 1, 1, 1, 1, 1, 0],\n",
              "        [1, 1, 1, 1, 1, 1, 1, 1]])"
            ]
          },
          "metadata": {},
          "execution_count": 51
        }
      ]
    },
    {
      "cell_type": "code",
      "source": [
        "batch['labels']"
      ],
      "metadata": {
        "colab": {
          "base_uri": "https://localhost:8080/"
        },
        "id": "gAj1cTvYS7NT",
        "outputId": "4b0085d1-7d3b-4eb6-b8b8-65565170bb39"
      },
      "execution_count": 52,
      "outputs": [
        {
          "output_type": "execute_result",
          "data": {
            "text/plain": [
              "tensor([[  711,  1039, 44159,     3,     0,  -100,  -100,  -100],\n",
              "        [ 2722, 18663,   239,   212,     3,     0,  -100,  -100],\n",
              "        [  539,    43,   155,   960,     3,     0,  -100,  -100],\n",
              "        [15165,  1250,   380,  3564,    36,  1016,     3,     0],\n",
              "        [  350,     8, 19153,    29, 31326,     3,     0,  -100]])"
            ]
          },
          "metadata": {},
          "execution_count": 52
        }
      ]
    },
    {
      "cell_type": "code",
      "source": [
        "tokenizer.all_special_ids # access a list of all special token ([CLS], [SEP], [PAD]) IDs recognized by the tokenizer"
      ],
      "metadata": {
        "colab": {
          "base_uri": "https://localhost:8080/"
        },
        "id": "UGrYBCKpZZRh",
        "outputId": "c66e28ef-9171-451b-8c07-836f1f499d2c"
      },
      "execution_count": 53,
      "outputs": [
        {
          "output_type": "execute_result",
          "data": {
            "text/plain": [
              "[0, 1, 65000]"
            ]
          },
          "metadata": {},
          "execution_count": 53
        }
      ]
    },
    {
      "cell_type": "markdown",
      "source": [
        "👆 0 for [CLS], 65000 for [PAD]"
      ],
      "metadata": {
        "id": "gcNwnLOpeyXY"
      }
    },
    {
      "cell_type": "code",
      "source": [
        "tokenizer.all_special_tokens"
      ],
      "metadata": {
        "colab": {
          "base_uri": "https://localhost:8080/"
        },
        "id": "n9Wmtc8TfEAm",
        "outputId": "c742cc0a-8430-43e6-ddbc-afb36a0d7868"
      },
      "execution_count": 54,
      "outputs": [
        {
          "output_type": "execute_result",
          "data": {
            "text/plain": [
              "['</s>', '<unk>', '<pad>']"
            ]
          },
          "metadata": {},
          "execution_count": 54
        }
      ]
    },
    {
      "cell_type": "code",
      "source": [
        "tokenizer('<pad>')"
      ],
      "metadata": {
        "colab": {
          "base_uri": "https://localhost:8080/"
        },
        "id": "hkhCHbt2fj1G",
        "outputId": "3f7e23f8-8d55-48aa-a19b-b26e8c2f63ab"
      },
      "execution_count": 55,
      "outputs": [
        {
          "output_type": "execute_result",
          "data": {
            "text/plain": [
              "{'input_ids': [65000, 0], 'attention_mask': [1, 1]}"
            ]
          },
          "metadata": {},
          "execution_count": 55
        }
      ]
    },
    {
      "cell_type": "code",
      "source": [
        "from torch.utils.data import DataLoader\n",
        "\n",
        "train_loader = DataLoader(\n",
        "    tokenized_datasets[\"train\"],\n",
        "    shuffle=True,\n",
        "    batch_size=32,\n",
        "    collate_fn=data_collator\n",
        ")\n",
        "\n",
        "valid_loader = DataLoader(\n",
        "    tokenized_datasets[\"test\"],\n",
        "    batch_size=32,\n",
        "    collate_fn=data_collator\n",
        ")"
      ],
      "metadata": {
        "id": "HbulFePvfu7t"
      },
      "execution_count": 56,
      "outputs": []
    },
    {
      "cell_type": "code",
      "source": [
        "# check how it works\n",
        "for batch in train_loader:\n",
        "  for k, v in batch.items():\n",
        "    print(\"k:\", k, \"v.shape:\", v.shape)\n",
        "  break"
      ],
      "metadata": {
        "colab": {
          "base_uri": "https://localhost:8080/"
        },
        "id": "P2_ecv5Af1FD",
        "outputId": "987b421b-1940-49e3-c81c-4c8b37905823"
      },
      "execution_count": 57,
      "outputs": [
        {
          "output_type": "stream",
          "name": "stdout",
          "text": [
            "k: input_ids v.shape: torch.Size([32, 10])\n",
            "k: attention_mask v.shape: torch.Size([32, 10])\n",
            "k: labels v.shape: torch.Size([32, 9])\n"
          ]
        }
      ]
    },
    {
      "cell_type": "code",
      "source": [
        "tokenizer.vocab_size"
      ],
      "metadata": {
        "colab": {
          "base_uri": "https://localhost:8080/"
        },
        "id": "UDrI2Xf3gDcE",
        "outputId": "64fe107b-9411-4cb6-db9b-5521bceac37b"
      },
      "execution_count": 58,
      "outputs": [
        {
          "output_type": "execute_result",
          "data": {
            "text/plain": [
              "65001"
            ]
          },
          "metadata": {},
          "execution_count": 58
        }
      ]
    },
    {
      "cell_type": "code",
      "source": [
        "# add my own special token:\n",
        "tokenizer.add_special_tokens({\"cls_token\": \"<s>\"})"
      ],
      "metadata": {
        "colab": {
          "base_uri": "https://localhost:8080/"
        },
        "id": "G9EPUtrpgHm0",
        "outputId": "88bb92a3-949c-4fe9-ecda-c712a3e18c73"
      },
      "execution_count": 59,
      "outputs": [
        {
          "output_type": "execute_result",
          "data": {
            "text/plain": [
              "1"
            ]
          },
          "metadata": {},
          "execution_count": 59
        }
      ]
    },
    {
      "cell_type": "code",
      "source": [
        "tokenizer.all_special_ids"
      ],
      "metadata": {
        "colab": {
          "base_uri": "https://localhost:8080/"
        },
        "id": "HL-J_MwIgh0E",
        "outputId": "377c16d9-ebc5-4a75-97fb-c130d6e94365"
      },
      "execution_count": 61,
      "outputs": [
        {
          "output_type": "execute_result",
          "data": {
            "text/plain": [
              "[0, 1, 65000, 65001]"
            ]
          },
          "metadata": {},
          "execution_count": 61
        }
      ]
    },
    {
      "cell_type": "code",
      "source": [
        "tokenizer.all_special_tokens"
      ],
      "metadata": {
        "colab": {
          "base_uri": "https://localhost:8080/"
        },
        "id": "o-bFCpJXgYkx",
        "outputId": "cfd7a5f3-40e8-4dd6-981c-24262d7c5004"
      },
      "execution_count": 60,
      "outputs": [
        {
          "output_type": "execute_result",
          "data": {
            "text/plain": [
              "['</s>', '<unk>', '<pad>', '<s>']"
            ]
          },
          "metadata": {},
          "execution_count": 60
        }
      ]
    },
    {
      "cell_type": "code",
      "source": [
        "tokenizer(\"<s>\")"
      ],
      "metadata": {
        "colab": {
          "base_uri": "https://localhost:8080/"
        },
        "id": "1Uoe3UYBge64",
        "outputId": "9ca86eef-558b-4e28-8295-87ef7fabb6e4"
      },
      "execution_count": 62,
      "outputs": [
        {
          "output_type": "execute_result",
          "data": {
            "text/plain": [
              "{'input_ids': [65001, 0], 'attention_mask': [1, 1]}"
            ]
          },
          "metadata": {},
          "execution_count": 62
        }
      ]
    },
    {
      "cell_type": "code",
      "source": [
        "# create enc, dec, trans objects:\n",
        "encoder = Encoder(vocab_size=tokenizer.vocab_size + 1,\n",
        "                  max_len=512,\n",
        "                  d_k=16,\n",
        "                  d_model=64,\n",
        "                  n_heads=4,\n",
        "                  n_layers=2,\n",
        "                  dropout_prob=0.1)\n",
        "decoder = Decoder(vocab_size=tokenizer.vocab_size + 1,\n",
        "                  max_len=512,\n",
        "                  d_k=16,\n",
        "                  d_model=64,\n",
        "                  n_heads=4,\n",
        "                  n_layers=2,\n",
        "                  dropout_prob=0.1)\n",
        "transformer = Transformer(encoder, decoder)"
      ],
      "metadata": {
        "id": "9i6JQRlmhAB8"
      },
      "execution_count": 64,
      "outputs": []
    },
    {
      "cell_type": "code",
      "source": [
        "device = torch.device(\"cuda:0\" if torch.cuda.is_available() else \"cpu\")\n",
        "print(device)\n",
        "\n",
        "encoder.to(device)\n",
        "decoder.to(device)"
      ],
      "metadata": {
        "colab": {
          "base_uri": "https://localhost:8080/"
        },
        "id": "IM1cmyFxhQT5",
        "outputId": "2ed8310e-e7e9-4235-d2de-c68bc474f10b"
      },
      "execution_count": 65,
      "outputs": [
        {
          "output_type": "stream",
          "name": "stdout",
          "text": [
            "cpu\n"
          ]
        },
        {
          "output_type": "execute_result",
          "data": {
            "text/plain": [
              "Decoder(\n",
              "  (embedding): Embedding(65002, 64)\n",
              "  (pos_encoding): PositionalEncoding(\n",
              "    (dropout): Dropout(p=0.1, inplace=False)\n",
              "  )\n",
              "  (transformer_blocks): Sequential(\n",
              "    (0): DecoderBlock(\n",
              "      (ln1): LayerNorm((64,), eps=1e-05, elementwise_affine=True)\n",
              "      (ln2): LayerNorm((64,), eps=1e-05, elementwise_affine=True)\n",
              "      (ln3): LayerNorm((64,), eps=1e-05, elementwise_affine=True)\n",
              "      (mha1): MultiHeadAttention(\n",
              "        (key): Linear(in_features=64, out_features=64, bias=True)\n",
              "        (query): Linear(in_features=64, out_features=64, bias=True)\n",
              "        (value): Linear(in_features=64, out_features=64, bias=True)\n",
              "        (fc): Linear(in_features=64, out_features=64, bias=True)\n",
              "      )\n",
              "      (mha2): MultiHeadAttention(\n",
              "        (key): Linear(in_features=64, out_features=64, bias=True)\n",
              "        (query): Linear(in_features=64, out_features=64, bias=True)\n",
              "        (value): Linear(in_features=64, out_features=64, bias=True)\n",
              "        (fc): Linear(in_features=64, out_features=64, bias=True)\n",
              "      )\n",
              "      (ann): Sequential(\n",
              "        (0): Linear(in_features=64, out_features=256, bias=True)\n",
              "        (1): GELU(approximate='none')\n",
              "        (2): Linear(in_features=256, out_features=64, bias=True)\n",
              "        (3): Dropout(p=0.1, inplace=False)\n",
              "      )\n",
              "      (dropout): Dropout(p=0.1, inplace=False)\n",
              "    )\n",
              "    (1): DecoderBlock(\n",
              "      (ln1): LayerNorm((64,), eps=1e-05, elementwise_affine=True)\n",
              "      (ln2): LayerNorm((64,), eps=1e-05, elementwise_affine=True)\n",
              "      (ln3): LayerNorm((64,), eps=1e-05, elementwise_affine=True)\n",
              "      (mha1): MultiHeadAttention(\n",
              "        (key): Linear(in_features=64, out_features=64, bias=True)\n",
              "        (query): Linear(in_features=64, out_features=64, bias=True)\n",
              "        (value): Linear(in_features=64, out_features=64, bias=True)\n",
              "        (fc): Linear(in_features=64, out_features=64, bias=True)\n",
              "      )\n",
              "      (mha2): MultiHeadAttention(\n",
              "        (key): Linear(in_features=64, out_features=64, bias=True)\n",
              "        (query): Linear(in_features=64, out_features=64, bias=True)\n",
              "        (value): Linear(in_features=64, out_features=64, bias=True)\n",
              "        (fc): Linear(in_features=64, out_features=64, bias=True)\n",
              "      )\n",
              "      (ann): Sequential(\n",
              "        (0): Linear(in_features=64, out_features=256, bias=True)\n",
              "        (1): GELU(approximate='none')\n",
              "        (2): Linear(in_features=256, out_features=64, bias=True)\n",
              "        (3): Dropout(p=0.1, inplace=False)\n",
              "      )\n",
              "      (dropout): Dropout(p=0.1, inplace=False)\n",
              "    )\n",
              "  )\n",
              "  (ln): LayerNorm((64,), eps=1e-05, elementwise_affine=True)\n",
              "  (fc): Linear(in_features=64, out_features=65002, bias=True)\n",
              ")"
            ]
          },
          "metadata": {},
          "execution_count": 65
        }
      ]
    },
    {
      "cell_type": "code",
      "source": [
        "# loss & optimizer:\n",
        "criterion = nn.CrossEntropyLoss(ignore_index=-100)\n",
        "optimizer = torch.optim.Adam(transformer.parameters())"
      ],
      "metadata": {
        "id": "psEkRgp9hW7_"
      },
      "execution_count": 67,
      "outputs": []
    },
    {
      "cell_type": "code",
      "source": [],
      "metadata": {
        "id": "vHB9xISshkQz"
      },
      "execution_count": null,
      "outputs": []
    }
  ]
}