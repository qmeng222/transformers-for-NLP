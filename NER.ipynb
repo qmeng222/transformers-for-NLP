{
  "nbformat": 4,
  "nbformat_minor": 0,
  "metadata": {
    "colab": {
      "provenance": [],
      "authorship_tag": "ABX9TyMEJNlTa5MwDNyWli/27nUF",
      "include_colab_link": true
    },
    "kernelspec": {
      "name": "python3",
      "display_name": "Python 3"
    },
    "language_info": {
      "name": "python"
    }
  },
  "cells": [
    {
      "cell_type": "markdown",
      "metadata": {
        "id": "view-in-github",
        "colab_type": "text"
      },
      "source": [
        "<a href=\"https://colab.research.google.com/github/qmeng222/transformers-for-NLP/blob/main/NER.ipynb\" target=\"_parent\"><img src=\"https://colab.research.google.com/assets/colab-badge.svg\" alt=\"Open In Colab\"/></a>"
      ]
    },
    {
      "cell_type": "markdown",
      "source": [
        "# About the project:\n",
        "---\n",
        "Named Entity Recognition (NER): map words to different types (tags)"
      ],
      "metadata": {
        "id": "vsZaa7X2MZER"
      }
    },
    {
      "cell_type": "markdown",
      "source": [
        "# Load the dataset:"
      ],
      "metadata": {
        "id": "kal3TG3HM_zA"
      }
    },
    {
      "cell_type": "code",
      "execution_count": 18,
      "metadata": {
        "colab": {
          "base_uri": "https://localhost:8080/"
        },
        "id": "8QjpmxaVHTlO",
        "outputId": "d22a7b17-da70-4b00-9228-d59ee962e719"
      },
      "outputs": [
        {
          "output_type": "stream",
          "name": "stdout",
          "text": [
            "Requirement already satisfied: transformers in /usr/local/lib/python3.10/dist-packages (4.35.2)\n",
            "Requirement already satisfied: datasets in /usr/local/lib/python3.10/dist-packages (2.15.0)\n",
            "Requirement already satisfied: filelock in /usr/local/lib/python3.10/dist-packages (from transformers) (3.13.1)\n",
            "Requirement already satisfied: huggingface-hub<1.0,>=0.16.4 in /usr/local/lib/python3.10/dist-packages (from transformers) (0.19.3)\n",
            "Requirement already satisfied: numpy>=1.17 in /usr/local/lib/python3.10/dist-packages (from transformers) (1.23.5)\n",
            "Requirement already satisfied: packaging>=20.0 in /usr/local/lib/python3.10/dist-packages (from transformers) (23.2)\n",
            "Requirement already satisfied: pyyaml>=5.1 in /usr/local/lib/python3.10/dist-packages (from transformers) (6.0.1)\n",
            "Requirement already satisfied: regex!=2019.12.17 in /usr/local/lib/python3.10/dist-packages (from transformers) (2023.6.3)\n",
            "Requirement already satisfied: requests in /usr/local/lib/python3.10/dist-packages (from transformers) (2.31.0)\n",
            "Requirement already satisfied: tokenizers<0.19,>=0.14 in /usr/local/lib/python3.10/dist-packages (from transformers) (0.15.0)\n",
            "Requirement already satisfied: safetensors>=0.3.1 in /usr/local/lib/python3.10/dist-packages (from transformers) (0.4.0)\n",
            "Requirement already satisfied: tqdm>=4.27 in /usr/local/lib/python3.10/dist-packages (from transformers) (4.66.1)\n",
            "Requirement already satisfied: pyarrow>=8.0.0 in /usr/local/lib/python3.10/dist-packages (from datasets) (9.0.0)\n",
            "Requirement already satisfied: pyarrow-hotfix in /usr/local/lib/python3.10/dist-packages (from datasets) (0.5)\n",
            "Requirement already satisfied: dill<0.3.8,>=0.3.0 in /usr/local/lib/python3.10/dist-packages (from datasets) (0.3.7)\n",
            "Requirement already satisfied: pandas in /usr/local/lib/python3.10/dist-packages (from datasets) (1.5.3)\n",
            "Requirement already satisfied: xxhash in /usr/local/lib/python3.10/dist-packages (from datasets) (3.4.1)\n",
            "Requirement already satisfied: multiprocess in /usr/local/lib/python3.10/dist-packages (from datasets) (0.70.15)\n",
            "Requirement already satisfied: fsspec[http]<=2023.10.0,>=2023.1.0 in /usr/local/lib/python3.10/dist-packages (from datasets) (2023.6.0)\n",
            "Requirement already satisfied: aiohttp in /usr/local/lib/python3.10/dist-packages (from datasets) (3.8.6)\n",
            "Requirement already satisfied: attrs>=17.3.0 in /usr/local/lib/python3.10/dist-packages (from aiohttp->datasets) (23.1.0)\n",
            "Requirement already satisfied: charset-normalizer<4.0,>=2.0 in /usr/local/lib/python3.10/dist-packages (from aiohttp->datasets) (3.3.2)\n",
            "Requirement already satisfied: multidict<7.0,>=4.5 in /usr/local/lib/python3.10/dist-packages (from aiohttp->datasets) (6.0.4)\n",
            "Requirement already satisfied: async-timeout<5.0,>=4.0.0a3 in /usr/local/lib/python3.10/dist-packages (from aiohttp->datasets) (4.0.3)\n",
            "Requirement already satisfied: yarl<2.0,>=1.0 in /usr/local/lib/python3.10/dist-packages (from aiohttp->datasets) (1.9.2)\n",
            "Requirement already satisfied: frozenlist>=1.1.1 in /usr/local/lib/python3.10/dist-packages (from aiohttp->datasets) (1.4.0)\n",
            "Requirement already satisfied: aiosignal>=1.1.2 in /usr/local/lib/python3.10/dist-packages (from aiohttp->datasets) (1.3.1)\n",
            "Requirement already satisfied: typing-extensions>=3.7.4.3 in /usr/local/lib/python3.10/dist-packages (from huggingface-hub<1.0,>=0.16.4->transformers) (4.5.0)\n",
            "Requirement already satisfied: idna<4,>=2.5 in /usr/local/lib/python3.10/dist-packages (from requests->transformers) (3.4)\n",
            "Requirement already satisfied: urllib3<3,>=1.21.1 in /usr/local/lib/python3.10/dist-packages (from requests->transformers) (2.0.7)\n",
            "Requirement already satisfied: certifi>=2017.4.17 in /usr/local/lib/python3.10/dist-packages (from requests->transformers) (2023.7.22)\n",
            "Requirement already satisfied: python-dateutil>=2.8.1 in /usr/local/lib/python3.10/dist-packages (from pandas->datasets) (2.8.2)\n",
            "Requirement already satisfied: pytz>=2020.1 in /usr/local/lib/python3.10/dist-packages (from pandas->datasets) (2023.3.post1)\n",
            "Requirement already satisfied: six>=1.5 in /usr/local/lib/python3.10/dist-packages (from python-dateutil>=2.8.1->pandas->datasets) (1.16.0)\n"
          ]
        }
      ],
      "source": [
        "# install libraries:\n",
        "!pip install transformers datasets\n",
        "# `transformers` library: for working with pre-trained NLP models\n",
        "# `datasets` library: for working with datasets"
      ]
    },
    {
      "cell_type": "code",
      "source": [
        "# from `datasets` library, import the `load_dataset` func for downloading datasets\n",
        "from datasets import load_dataset"
      ],
      "metadata": {
        "id": "ewfkdCq7WAkC"
      },
      "execution_count": 19,
      "outputs": []
    },
    {
      "cell_type": "code",
      "source": [
        "# use the `load_dataset` func to load the CoNLL-2003 dataset (a popular benchmark dataset for NER consists of English news articles):\n",
        "data = load_dataset(\"conll2003\")"
      ],
      "metadata": {
        "id": "e1PVOAyWWOyU"
      },
      "execution_count": 20,
      "outputs": []
    },
    {
      "cell_type": "code",
      "source": [
        "data"
      ],
      "metadata": {
        "colab": {
          "base_uri": "https://localhost:8080/"
        },
        "id": "2-rhjCWeWpUZ",
        "outputId": "33eec864-906d-45b2-bff7-25eb4af23476"
      },
      "execution_count": 21,
      "outputs": [
        {
          "output_type": "execute_result",
          "data": {
            "text/plain": [
              "DatasetDict({\n",
              "    train: Dataset({\n",
              "        features: ['id', 'tokens', 'pos_tags', 'chunk_tags', 'ner_tags'],\n",
              "        num_rows: 14041\n",
              "    })\n",
              "    validation: Dataset({\n",
              "        features: ['id', 'tokens', 'pos_tags', 'chunk_tags', 'ner_tags'],\n",
              "        num_rows: 3250\n",
              "    })\n",
              "    test: Dataset({\n",
              "        features: ['id', 'tokens', 'pos_tags', 'chunk_tags', 'ner_tags'],\n",
              "        num_rows: 3453\n",
              "    })\n",
              "})"
            ]
          },
          "metadata": {},
          "execution_count": 21
        }
      ]
    },
    {
      "cell_type": "code",
      "source": [
        "# check features (cols) of the train data:\n",
        "data[\"train\"].features"
      ],
      "metadata": {
        "colab": {
          "base_uri": "https://localhost:8080/"
        },
        "id": "Hv9GF605X8f_",
        "outputId": "c627cf26-8213-4396-bec7-f8ac86b351fb"
      },
      "execution_count": 22,
      "outputs": [
        {
          "output_type": "execute_result",
          "data": {
            "text/plain": [
              "{'id': Value(dtype='string', id=None),\n",
              " 'tokens': Sequence(feature=Value(dtype='string', id=None), length=-1, id=None),\n",
              " 'pos_tags': Sequence(feature=ClassLabel(names=['\"', \"''\", '#', '$', '(', ')', ',', '.', ':', '``', 'CC', 'CD', 'DT', 'EX', 'FW', 'IN', 'JJ', 'JJR', 'JJS', 'LS', 'MD', 'NN', 'NNP', 'NNPS', 'NNS', 'NN|SYM', 'PDT', 'POS', 'PRP', 'PRP$', 'RB', 'RBR', 'RBS', 'RP', 'SYM', 'TO', 'UH', 'VB', 'VBD', 'VBG', 'VBN', 'VBP', 'VBZ', 'WDT', 'WP', 'WP$', 'WRB'], id=None), length=-1, id=None),\n",
              " 'chunk_tags': Sequence(feature=ClassLabel(names=['O', 'B-ADJP', 'I-ADJP', 'B-ADVP', 'I-ADVP', 'B-CONJP', 'I-CONJP', 'B-INTJ', 'I-INTJ', 'B-LST', 'I-LST', 'B-NP', 'I-NP', 'B-PP', 'I-PP', 'B-PRT', 'I-PRT', 'B-SBAR', 'I-SBAR', 'B-UCP', 'I-UCP', 'B-VP', 'I-VP'], id=None), length=-1, id=None),\n",
              " 'ner_tags': Sequence(feature=ClassLabel(names=['O', 'B-PER', 'I-PER', 'B-ORG', 'I-ORG', 'B-LOC', 'I-LOC', 'B-MISC', 'I-MISC'], id=None), length=-1, id=None)}"
            ]
          },
          "metadata": {},
          "execution_count": 22
        }
      ]
    },
    {
      "cell_type": "code",
      "source": [
        "# check a specific feature:\n",
        "data[\"train\"].features['ner_tags']"
      ],
      "metadata": {
        "colab": {
          "base_uri": "https://localhost:8080/"
        },
        "id": "2GagB58EYKAP",
        "outputId": "30ec7b92-f5ee-4359-9ae3-c50ec4e5b976"
      },
      "execution_count": 23,
      "outputs": [
        {
          "output_type": "execute_result",
          "data": {
            "text/plain": [
              "Sequence(feature=ClassLabel(names=['O', 'B-PER', 'I-PER', 'B-ORG', 'I-ORG', 'B-LOC', 'I-LOC', 'B-MISC', 'I-MISC'], id=None), length=-1, id=None)"
            ]
          },
          "metadata": {},
          "execution_count": 23
        }
      ]
    },
    {
      "cell_type": "code",
      "source": [
        "# check different types of named entities & save the tags for later:\n",
        "label_names = data[\"train\"].features['ner_tags'].feature.names"
      ],
      "metadata": {
        "id": "YIjIHBu1YA75"
      },
      "execution_count": 24,
      "outputs": []
    },
    {
      "cell_type": "markdown",
      "source": [
        "# Load the tokenizer:"
      ],
      "metadata": {
        "id": "_WRqLtczdDRz"
      }
    },
    {
      "cell_type": "code",
      "source": [
        "from transformers import AutoTokenizer # import the 'AutoTokenizer' class from the HF transformers library\n",
        "# `AutoTokenizer` class: automatically load the appropriate tokenizer for a specific pre-trained model\n",
        "\n",
        "checkpoint = \"distilbert-base-cased\" # model identifier (specify the name of a pre-trained model)\n",
        "tokenizer = AutoTokenizer.from_pretrained(checkpoint) # automatically load the appropriate tokenizer"
      ],
      "metadata": {
        "id": "0X1lAgNQdBhl"
      },
      "execution_count": 25,
      "outputs": []
    },
    {
      "cell_type": "markdown",
      "source": [
        "# The input:"
      ],
      "metadata": {
        "id": "9bfvSFHkkB95"
      }
    },
    {
      "cell_type": "code",
      "source": [
        "# check the 1st row in the training split of the dataset:\n",
        "data[\"train\"][0]"
      ],
      "metadata": {
        "colab": {
          "base_uri": "https://localhost:8080/"
        },
        "id": "N9f32vyjfaz9",
        "outputId": "d06655b1-7c26-4b85-f0ce-a4f62e5107ea"
      },
      "execution_count": 26,
      "outputs": [
        {
          "output_type": "execute_result",
          "data": {
            "text/plain": [
              "{'id': '0',\n",
              " 'tokens': ['EU',\n",
              "  'rejects',\n",
              "  'German',\n",
              "  'call',\n",
              "  'to',\n",
              "  'boycott',\n",
              "  'British',\n",
              "  'lamb',\n",
              "  '.'],\n",
              " 'pos_tags': [22, 42, 16, 21, 35, 37, 16, 21, 7],\n",
              " 'chunk_tags': [11, 21, 11, 12, 21, 22, 11, 12, 0],\n",
              " 'ner_tags': [3, 0, 7, 0, 0, 0, 7, 0, 0]}"
            ]
          },
          "metadata": {},
          "execution_count": 26
        }
      ]
    },
    {
      "cell_type": "code",
      "source": [
        "# tokenize the 'tokens' feature of the 1st row in the training split of the dataset:\n",
        "idx = 0\n",
        "t = tokenizer(data[\"train\"][idx][\"tokens\"], is_split_into_words=True)\n",
        "# `is_split_into_words=True`: string input -> a list of words (string tokens) -> tokenize each word into a numeric token\n",
        "t"
      ],
      "metadata": {
        "colab": {
          "base_uri": "https://localhost:8080/"
        },
        "id": "NtsvVZG6e0pY",
        "outputId": "6947173a-924b-478c-f53d-e37feb214f5a"
      },
      "execution_count": 27,
      "outputs": [
        {
          "output_type": "execute_result",
          "data": {
            "text/plain": [
              "{'input_ids': [101, 7270, 22961, 1528, 1840, 1106, 21423, 1418, 2495, 12913, 119, 102], 'attention_mask': [1, 1, 1, 1, 1, 1, 1, 1, 1, 1, 1, 1]}"
            ]
          },
          "metadata": {},
          "execution_count": 27
        }
      ]
    },
    {
      "cell_type": "markdown",
      "source": [
        "👆 The attention_mask is a binary mask that indicates which tokens in a sequence should be attended to (considered) and which should be ignored during processing.\n",
        "\n",
        "The primary purpose of the attention_mask is to handle variable-length sequences. In a batch of sequences, not all sequences are likely to have the same length. The attention_mask allows the model to focus on the actual content of the sequence and ignore the padding tokens.\n",
        "\n",
        "In many tokenization scenarios, padding tokens are added to the sequences to make them of equal length."
      ],
      "metadata": {
        "id": "HyVZnM7ElYPh"
      }
    },
    {
      "cell_type": "code",
      "source": [
        "type(t)"
      ],
      "metadata": {
        "colab": {
          "base_uri": "https://localhost:8080/"
        },
        "id": "pXp2iR8FkI20",
        "outputId": "72effdf7-9665-4773-f648-c9155fdf2c62"
      },
      "execution_count": 28,
      "outputs": [
        {
          "output_type": "execute_result",
          "data": {
            "text/plain": [
              "transformers.tokenization_utils_base.BatchEncoding"
            ]
          },
          "metadata": {},
          "execution_count": 28
        }
      ]
    },
    {
      "cell_type": "markdown",
      "source": [
        "👆 The tokenized output is a BatchEncoding object (a dictionary with specific keys)."
      ],
      "metadata": {
        "id": "1aEP-dxnkdLN"
      }
    },
    {
      "cell_type": "code",
      "source": [
        "# get string tokens:\n",
        "t.tokens()"
      ],
      "metadata": {
        "colab": {
          "base_uri": "https://localhost:8080/"
        },
        "id": "3RRnES-HmC1v",
        "outputId": "53baa54f-9e5b-41b4-9208-fef095d00365"
      },
      "execution_count": 29,
      "outputs": [
        {
          "output_type": "execute_result",
          "data": {
            "text/plain": [
              "['[CLS]',\n",
              " 'EU',\n",
              " 'rejects',\n",
              " 'German',\n",
              " 'call',\n",
              " 'to',\n",
              " 'boycott',\n",
              " 'British',\n",
              " 'la',\n",
              " '##mb',\n",
              " '.',\n",
              " '[SEP]']"
            ]
          },
          "metadata": {},
          "execution_count": 29
        }
      ]
    },
    {
      "cell_type": "markdown",
      "source": [
        "👆 The word \"lamb\" has been split into ***2 subwords*** ('la' + '##mb').\n",
        "\n",
        "But we are provided with ***1 target*** for the whole word.\n",
        "\n",
        "Therefore, the input sequence may end up being longer than the target sequence!\n",
        "\n",
        "Solution: ***For any word split into multiple string tokens, we assign the same target***. Eg: 'la' -> 7, '##mb' -> 7"
      ],
      "metadata": {
        "id": "mV__nkQDnPXh"
      }
    },
    {
      "cell_type": "markdown",
      "source": [
        "# Align string tokens (subwords) to targets correctly:\n",
        "\n",
        "eg:\n",
        "![Screen Shot 2023-11-20 at 7.03.13 PM.png](data:image/png;base64,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)"
      ],
      "metadata": {
        "id": "tcMVyyyL0ptJ"
      }
    },
    {
      "cell_type": "code",
      "source": [
        "# word_id (i) indicates it is the i-th word in the input sentence (counting from 0):\n",
        "t.word_ids()"
      ],
      "metadata": {
        "colab": {
          "base_uri": "https://localhost:8080/"
        },
        "id": "DrhwaOV4m7xI",
        "outputId": "b84081ec-58aa-4244-8a49-d67426317191"
      },
      "execution_count": 30,
      "outputs": [
        {
          "output_type": "execute_result",
          "data": {
            "text/plain": [
              "[None, 0, 1, 2, 3, 4, 5, 6, 7, 7, 8, None]"
            ]
          },
          "metadata": {},
          "execution_count": 30
        }
      ]
    },
    {
      "cell_type": "markdown",
      "source": [
        "👆 The targets are None for [CLS] and [SEP] tokens. And 8 responses to the period."
      ],
      "metadata": {
        "id": "VOdgtPGz1mKo"
      }
    },
    {
      "cell_type": "code",
      "source": [
        "#['O', 'B-PER', 'I-PER', 'B-ORG', 'I-ORG', 'B-LOC', 'I-LOC', 'B-MISC', 'I-MISC']\n",
        "begin2inside = {\n",
        "  1: 2, # 'B-PER', 'I-PER' (label 1 map to label 2)\n",
        "  3: 4, # 'B-ORG', 'I-ORG' (label 3 map to label 4)\n",
        "  5: 6, # 'B-LOC', 'I-LOC'\n",
        "  7: 8, # 'B-MISC','I-MISC'\n",
        "}"
      ],
      "metadata": {
        "id": "PEtj-HXh11J-"
      },
      "execution_count": 33,
      "outputs": []
    },
    {
      "cell_type": "markdown",
      "source": [
        "👆 This takes care of 4 types of entities (PER, ORG, LOC, MISC)."
      ],
      "metadata": {
        "id": "t9bdWcM0r8XB"
      }
    },
    {
      "cell_type": "code",
      "source": [
        "def align_targets(labels, word_ids):\n",
        "  aligned_labels = []\n",
        "  last_id = None\n",
        "  for id in word_ids:\n",
        "    if id is None: # [CLS] or [SEP]\n",
        "      label = -100\n",
        "    elif id != last_id: # it's a new id (new word)\n",
        "      label = labels[id]\n",
        "    else: # it's the same word as before\n",
        "      label = labels[id]\n",
        "      if label in begin2inside: # B-tag\n",
        "        label = begin2inside[label] # B-tag -> I-tag\n",
        "\n",
        "    aligned_labels.append(label)\n",
        "    last_id = id # update last_id\n",
        "\n",
        "  return aligned_labels # eg: [-100, 3, 0, 7, 0, 0, 0, 7, 0, 0, 0, -100]"
      ],
      "metadata": {
        "id": "HMw3Kp7zrpoF"
      },
      "execution_count": 34,
      "outputs": []
    },
    {
      "cell_type": "code",
      "source": [
        "# idx = 0  # defined earlier\n",
        "data['train'][idx]"
      ],
      "metadata": {
        "colab": {
          "base_uri": "https://localhost:8080/"
        },
        "id": "Br2cTf9KxEXQ",
        "outputId": "70c03510-3bcd-49f2-93c7-60f8159f5dd6"
      },
      "execution_count": 35,
      "outputs": [
        {
          "output_type": "execute_result",
          "data": {
            "text/plain": [
              "{'id': '0',\n",
              " 'tokens': ['EU',\n",
              "  'rejects',\n",
              "  'German',\n",
              "  'call',\n",
              "  'to',\n",
              "  'boycott',\n",
              "  'British',\n",
              "  'lamb',\n",
              "  '.'],\n",
              " 'pos_tags': [22, 42, 16, 21, 35, 37, 16, 21, 7],\n",
              " 'chunk_tags': [11, 21, 11, 12, 21, 22, 11, 12, 0],\n",
              " 'ner_tags': [3, 0, 7, 0, 0, 0, 7, 0, 0]}"
            ]
          },
          "metadata": {},
          "execution_count": 35
        }
      ]
    },
    {
      "cell_type": "code",
      "source": [
        "labels = data['train'][idx]['ner_tags'] # [3, 0, 7, 0, 0, 0, 7, 0, 0]\n",
        "word_ids = t.word_ids() # [None, 0, 1, 2, 3, 4, 5, 6, 7, 7, 8, None]\n",
        "\n",
        "# call the 'align_targets' function:\n",
        "aligned_targets = align_targets(labels, word_ids)\n",
        "aligned_targets"
      ],
      "metadata": {
        "colab": {
          "base_uri": "https://localhost:8080/"
        },
        "id": "s9LX6Hpywq34",
        "outputId": "ccc5fbbb-d670-46e0-a6c1-5cbfff2f7f91"
      },
      "execution_count": 36,
      "outputs": [
        {
          "output_type": "execute_result",
          "data": {
            "text/plain": [
              "[-100, 3, 0, 7, 0, 0, 0, 7, 0, 0, 0, -100]"
            ]
          },
          "metadata": {},
          "execution_count": 36
        }
      ]
    },
    {
      "cell_type": "code",
      "source": [],
      "metadata": {
        "id": "Xl1cfZ_py-jW"
      },
      "execution_count": null,
      "outputs": []
    }
  ]
}